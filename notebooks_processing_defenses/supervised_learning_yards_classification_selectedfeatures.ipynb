{
  "nbformat": 4,
  "nbformat_minor": 0,
  "metadata": {
    "colab": {
      "name": "supervised_learning_yards_classification_selectedfeatures.ipynb",
      "provenance": [],
      "toc_visible": true
    },
    "kernelspec": {
      "name": "python3",
      "display_name": "Python 3"
    },
    "language_info": {
      "name": "python"
    }
  },
  "cells": [
    {
      "cell_type": "code",
      "metadata": {
        "id": "VOvyG1C3AW7L"
      },
      "source": [
        "import pandas as pd\n",
        "import pickle\n",
        "\n",
        "from sklearn import preprocessing\n",
        "from sklearn.decomposition import PCA\n",
        "from sklearn.cluster import KMeans\n",
        "from sklearn.cluster import DBSCAN\n",
        "from sklearn import metrics\n",
        "import sklearn.neighbors\n",
        "from sklearn.neighbors import kneighbors_graph\n",
        "from sklearn.model_selection import train_test_split\n",
        "\n",
        "import plotly.express as px\n",
        "import matplotlib.pyplot as plt\n",
        "import numpy as np\n",
        "\n",
        "import seaborn as sns"
      ],
      "execution_count": null,
      "outputs": []
    },
    {
      "cell_type": "code",
      "metadata": {
        "id": "0fkbq2p-A4mM"
      },
      "source": [
        "pd.set_option('display.max_columns',None)"
      ],
      "execution_count": null,
      "outputs": []
    },
    {
      "cell_type": "code",
      "metadata": {
        "id": "F4gL6h3IA48V",
        "colab": {
          "resources": {
            "http://localhost:8080/nbextensions/google.colab/files.js": {
              "data": "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",
              "ok": true,
              "headers": [
                [
                  "content-type",
                  "application/javascript"
                ]
              ],
              "status": 200,
              "status_text": "OK"
            }
          },
          "base_uri": "https://localhost:8080/",
          "height": 94
        },
        "outputId": "b5b48f37-3795-421b-8bde-fd44960e2175"
      },
      "source": [
        "# 0.1 load data from file\n",
        "from google.colab import files\n",
        "import io\n",
        "\n",
        "uploaded = files.upload()\n",
        "\n",
        "for fn in uploaded.keys():\n",
        "  print('User uploaded file \"{name}\" with length {length} bytes'.format(\n",
        "      name=fn, length=len(uploaded[fn])))"
      ],
      "execution_count": null,
      "outputs": [
        {
          "output_type": "display_data",
          "data": {
            "text/html": [
              "\n",
              "     <input type=\"file\" id=\"files-2f46887a-18f9-45a0-a304-1b97108cc38b\" name=\"files[]\" multiple disabled\n",
              "        style=\"border:none\" />\n",
              "     <output id=\"result-2f46887a-18f9-45a0-a304-1b97108cc38b\">\n",
              "      Upload widget is only available when the cell has been executed in the\n",
              "      current browser session. Please rerun this cell to enable.\n",
              "      </output>\n",
              "      <script src=\"/nbextensions/google.colab/files.js\"></script> "
            ],
            "text/plain": [
              "<IPython.core.display.HTML object>"
            ]
          },
          "metadata": {
            "tags": []
          }
        },
        {
          "output_type": "stream",
          "text": [
            "Saving static_defenses_yards.csv to static_defenses_yards.csv\n",
            "User uploaded file \"static_defenses_yards.csv\" with length 4999907 bytes\n"
          ],
          "name": "stdout"
        }
      ]
    },
    {
      "cell_type": "code",
      "metadata": {
        "id": "S-S9AdajA_nK",
        "colab": {
          "base_uri": "https://localhost:8080/",
          "height": 275
        },
        "outputId": "8d92279a-c700-471e-d2f2-ca311acfa9fe"
      },
      "source": [
        "static_defenses = pd.read_csv(io.StringIO(uploaded[fn].decode('utf-8')),index_col=\"id\")\n",
        "static_defenses.head()"
      ],
      "execution_count": null,
      "outputs": [
        {
          "output_type": "execute_result",
          "data": {
            "text/html": [
              "<div>\n",
              "<style scoped>\n",
              "    .dataframe tbody tr th:only-of-type {\n",
              "        vertical-align: middle;\n",
              "    }\n",
              "\n",
              "    .dataframe tbody tr th {\n",
              "        vertical-align: top;\n",
              "    }\n",
              "\n",
              "    .dataframe thead th {\n",
              "        text-align: right;\n",
              "    }\n",
              "</style>\n",
              "<table border=\"1\" class=\"dataframe\">\n",
              "  <thead>\n",
              "    <tr style=\"text-align: right;\">\n",
              "      <th></th>\n",
              "      <th>Unnamed: 0</th>\n",
              "      <th>defensivelinezonePlayers</th>\n",
              "      <th>deepzonePlayers</th>\n",
              "      <th>hookzonePlayers</th>\n",
              "      <th>curlzonePlayers</th>\n",
              "      <th>flatzonePlayers</th>\n",
              "      <th>defenseArea</th>\n",
              "      <th>defenseAreaCoverDefenders</th>\n",
              "      <th>width</th>\n",
              "      <th>height</th>\n",
              "      <th>numberQBs</th>\n",
              "      <th>numberWRs</th>\n",
              "      <th>numberTEs</th>\n",
              "      <th>numberRBs</th>\n",
              "      <th>numberFBs</th>\n",
              "      <th>numberOffensivePlayersAnotherPosition</th>\n",
              "      <th>numberSafeties</th>\n",
              "      <th>numberLBs</th>\n",
              "      <th>numberCBs</th>\n",
              "      <th>strongSide</th>\n",
              "      <th>numberPlayersDefenseStrongSide</th>\n",
              "      <th>numberPlayersDefenseWeakSide</th>\n",
              "      <th>numberPlayersOffenseStrongSide</th>\n",
              "      <th>numberPlayersOffenseWeakSide</th>\n",
              "      <th>differenceOffenseVsDefenseWidth</th>\n",
              "      <th>differenceOffenseVsDefenseStrongSide</th>\n",
              "      <th>differenceOffenseVsDefenseWeakSide</th>\n",
              "      <th>HeightByWeightDeep</th>\n",
              "      <th>HeightByWeightHook</th>\n",
              "      <th>HeightByWeightCurl</th>\n",
              "      <th>HeightByWeightFlat</th>\n",
              "      <th>WeightByArea</th>\n",
              "      <th>density</th>\n",
              "      <th>densityNoLine</th>\n",
              "      <th>densityInsidePoints</th>\n",
              "      <th>densityInsidePointsNoLine</th>\n",
              "      <th>playResult</th>\n",
              "    </tr>\n",
              "    <tr>\n",
              "      <th>id</th>\n",
              "      <th></th>\n",
              "      <th></th>\n",
              "      <th></th>\n",
              "      <th></th>\n",
              "      <th></th>\n",
              "      <th></th>\n",
              "      <th></th>\n",
              "      <th></th>\n",
              "      <th></th>\n",
              "      <th></th>\n",
              "      <th></th>\n",
              "      <th></th>\n",
              "      <th></th>\n",
              "      <th></th>\n",
              "      <th></th>\n",
              "      <th></th>\n",
              "      <th></th>\n",
              "      <th></th>\n",
              "      <th></th>\n",
              "      <th></th>\n",
              "      <th></th>\n",
              "      <th></th>\n",
              "      <th></th>\n",
              "      <th></th>\n",
              "      <th></th>\n",
              "      <th></th>\n",
              "      <th></th>\n",
              "      <th></th>\n",
              "      <th></th>\n",
              "      <th></th>\n",
              "      <th></th>\n",
              "      <th></th>\n",
              "      <th></th>\n",
              "      <th></th>\n",
              "      <th></th>\n",
              "      <th></th>\n",
              "      <th></th>\n",
              "    </tr>\n",
              "  </thead>\n",
              "  <tbody>\n",
              "    <tr>\n",
              "      <th>2018090600:75:1</th>\n",
              "      <td>0</td>\n",
              "      <td>0</td>\n",
              "      <td>1</td>\n",
              "      <td>3</td>\n",
              "      <td>2</td>\n",
              "      <td>1</td>\n",
              "      <td>194.31095</td>\n",
              "      <td>194.31095</td>\n",
              "      <td>22.96</td>\n",
              "      <td>15.25</td>\n",
              "      <td>1</td>\n",
              "      <td>2</td>\n",
              "      <td>1</td>\n",
              "      <td>1</td>\n",
              "      <td>1</td>\n",
              "      <td>0</td>\n",
              "      <td>3</td>\n",
              "      <td>2</td>\n",
              "      <td>2</td>\n",
              "      <td>left</td>\n",
              "      <td>3</td>\n",
              "      <td>4</td>\n",
              "      <td>3</td>\n",
              "      <td>2</td>\n",
              "      <td>-0.63</td>\n",
              "      <td>0</td>\n",
              "      <td>-2</td>\n",
              "      <td>0.020227</td>\n",
              "      <td>0.018643</td>\n",
              "      <td>0.020066</td>\n",
              "      <td>0.021034</td>\n",
              "      <td>3.376032</td>\n",
              "      <td>0.036025</td>\n",
              "      <td>0.036025</td>\n",
              "      <td>6.974268</td>\n",
              "      <td>6.974268</td>\n",
              "      <td>10</td>\n",
              "    </tr>\n",
              "    <tr>\n",
              "      <th>2018090600:146:1</th>\n",
              "      <td>1</td>\n",
              "      <td>0</td>\n",
              "      <td>1</td>\n",
              "      <td>3</td>\n",
              "      <td>2</td>\n",
              "      <td>1</td>\n",
              "      <td>204.17725</td>\n",
              "      <td>204.17725</td>\n",
              "      <td>29.22</td>\n",
              "      <td>12.57</td>\n",
              "      <td>1</td>\n",
              "      <td>3</td>\n",
              "      <td>1</td>\n",
              "      <td>1</td>\n",
              "      <td>0</td>\n",
              "      <td>0</td>\n",
              "      <td>2</td>\n",
              "      <td>2</td>\n",
              "      <td>3</td>\n",
              "      <td>right</td>\n",
              "      <td>3</td>\n",
              "      <td>4</td>\n",
              "      <td>2</td>\n",
              "      <td>3</td>\n",
              "      <td>-1.15</td>\n",
              "      <td>-1</td>\n",
              "      <td>-1</td>\n",
              "      <td>0.020227</td>\n",
              "      <td>0.019228</td>\n",
              "      <td>0.020356</td>\n",
              "      <td>0.020455</td>\n",
              "      <td>3.178611</td>\n",
              "      <td>0.034284</td>\n",
              "      <td>0.034284</td>\n",
              "      <td>6.975511</td>\n",
              "      <td>6.975511</td>\n",
              "      <td>0</td>\n",
              "    </tr>\n",
              "    <tr>\n",
              "      <th>2018090600:168:1</th>\n",
              "      <td>2</td>\n",
              "      <td>0</td>\n",
              "      <td>1</td>\n",
              "      <td>2</td>\n",
              "      <td>2</td>\n",
              "      <td>2</td>\n",
              "      <td>277.65495</td>\n",
              "      <td>277.65495</td>\n",
              "      <td>33.67</td>\n",
              "      <td>15.21</td>\n",
              "      <td>1</td>\n",
              "      <td>2</td>\n",
              "      <td>1</td>\n",
              "      <td>2</td>\n",
              "      <td>0</td>\n",
              "      <td>0</td>\n",
              "      <td>2</td>\n",
              "      <td>2</td>\n",
              "      <td>3</td>\n",
              "      <td>left</td>\n",
              "      <td>5</td>\n",
              "      <td>2</td>\n",
              "      <td>4</td>\n",
              "      <td>1</td>\n",
              "      <td>0.71</td>\n",
              "      <td>-1</td>\n",
              "      <td>-1</td>\n",
              "      <td>0.020227</td>\n",
              "      <td>0.017683</td>\n",
              "      <td>0.020997</td>\n",
              "      <td>0.020745</td>\n",
              "      <td>2.337434</td>\n",
              "      <td>0.025211</td>\n",
              "      <td>0.025211</td>\n",
              "      <td>6.985594</td>\n",
              "      <td>6.985594</td>\n",
              "      <td>0</td>\n",
              "    </tr>\n",
              "    <tr>\n",
              "      <th>2018090600:190:1</th>\n",
              "      <td>3</td>\n",
              "      <td>1</td>\n",
              "      <td>0</td>\n",
              "      <td>2</td>\n",
              "      <td>3</td>\n",
              "      <td>1</td>\n",
              "      <td>189.16960</td>\n",
              "      <td>165.05520</td>\n",
              "      <td>26.42</td>\n",
              "      <td>12.91</td>\n",
              "      <td>1</td>\n",
              "      <td>3</td>\n",
              "      <td>1</td>\n",
              "      <td>1</td>\n",
              "      <td>0</td>\n",
              "      <td>0</td>\n",
              "      <td>3</td>\n",
              "      <td>1</td>\n",
              "      <td>3</td>\n",
              "      <td>right</td>\n",
              "      <td>2</td>\n",
              "      <td>5</td>\n",
              "      <td>2</td>\n",
              "      <td>3</td>\n",
              "      <td>-3.11</td>\n",
              "      <td>0</td>\n",
              "      <td>-2</td>\n",
              "      <td>0.000000</td>\n",
              "      <td>0.020120</td>\n",
              "      <td>0.021193</td>\n",
              "      <td>0.020455</td>\n",
              "      <td>3.192871</td>\n",
              "      <td>0.037004</td>\n",
              "      <td>0.036351</td>\n",
              "      <td>6.973569</td>\n",
              "      <td>6.969707</td>\n",
              "      <td>33</td>\n",
              "    </tr>\n",
              "    <tr>\n",
              "      <th>2018090600:320:1</th>\n",
              "      <td>5</td>\n",
              "      <td>1</td>\n",
              "      <td>0</td>\n",
              "      <td>3</td>\n",
              "      <td>3</td>\n",
              "      <td>1</td>\n",
              "      <td>187.12510</td>\n",
              "      <td>153.20020</td>\n",
              "      <td>27.80</td>\n",
              "      <td>13.29</td>\n",
              "      <td>1</td>\n",
              "      <td>3</td>\n",
              "      <td>1</td>\n",
              "      <td>1</td>\n",
              "      <td>0</td>\n",
              "      <td>0</td>\n",
              "      <td>2</td>\n",
              "      <td>3</td>\n",
              "      <td>3</td>\n",
              "      <td>left</td>\n",
              "      <td>3</td>\n",
              "      <td>5</td>\n",
              "      <td>3</td>\n",
              "      <td>2</td>\n",
              "      <td>-4.82</td>\n",
              "      <td>0</td>\n",
              "      <td>-3</td>\n",
              "      <td>0.000000</td>\n",
              "      <td>0.018995</td>\n",
              "      <td>0.019537</td>\n",
              "      <td>0.021279</td>\n",
              "      <td>4.281979</td>\n",
              "      <td>0.042752</td>\n",
              "      <td>0.045692</td>\n",
              "      <td>7.978624</td>\n",
              "      <td>7.980418</td>\n",
              "      <td>4</td>\n",
              "    </tr>\n",
              "  </tbody>\n",
              "</table>\n",
              "</div>"
            ],
            "text/plain": [
              "                  Unnamed: 0  defensivelinezonePlayers  deepzonePlayers  \\\n",
              "id                                                                        \n",
              "2018090600:75:1            0                         0                1   \n",
              "2018090600:146:1           1                         0                1   \n",
              "2018090600:168:1           2                         0                1   \n",
              "2018090600:190:1           3                         1                0   \n",
              "2018090600:320:1           5                         1                0   \n",
              "\n",
              "                  hookzonePlayers  curlzonePlayers  flatzonePlayers  \\\n",
              "id                                                                    \n",
              "2018090600:75:1                 3                2                1   \n",
              "2018090600:146:1                3                2                1   \n",
              "2018090600:168:1                2                2                2   \n",
              "2018090600:190:1                2                3                1   \n",
              "2018090600:320:1                3                3                1   \n",
              "\n",
              "                  defenseArea  defenseAreaCoverDefenders  width  height  \\\n",
              "id                                                                        \n",
              "2018090600:75:1     194.31095                  194.31095  22.96   15.25   \n",
              "2018090600:146:1    204.17725                  204.17725  29.22   12.57   \n",
              "2018090600:168:1    277.65495                  277.65495  33.67   15.21   \n",
              "2018090600:190:1    189.16960                  165.05520  26.42   12.91   \n",
              "2018090600:320:1    187.12510                  153.20020  27.80   13.29   \n",
              "\n",
              "                  numberQBs  numberWRs  numberTEs  numberRBs  numberFBs  \\\n",
              "id                                                                        \n",
              "2018090600:75:1           1          2          1          1          1   \n",
              "2018090600:146:1          1          3          1          1          0   \n",
              "2018090600:168:1          1          2          1          2          0   \n",
              "2018090600:190:1          1          3          1          1          0   \n",
              "2018090600:320:1          1          3          1          1          0   \n",
              "\n",
              "                  numberOffensivePlayersAnotherPosition  numberSafeties  \\\n",
              "id                                                                        \n",
              "2018090600:75:1                                       0               3   \n",
              "2018090600:146:1                                      0               2   \n",
              "2018090600:168:1                                      0               2   \n",
              "2018090600:190:1                                      0               3   \n",
              "2018090600:320:1                                      0               2   \n",
              "\n",
              "                  numberLBs  numberCBs strongSide  \\\n",
              "id                                                  \n",
              "2018090600:75:1           2          2       left   \n",
              "2018090600:146:1          2          3      right   \n",
              "2018090600:168:1          2          3       left   \n",
              "2018090600:190:1          1          3      right   \n",
              "2018090600:320:1          3          3       left   \n",
              "\n",
              "                  numberPlayersDefenseStrongSide  \\\n",
              "id                                                 \n",
              "2018090600:75:1                                3   \n",
              "2018090600:146:1                               3   \n",
              "2018090600:168:1                               5   \n",
              "2018090600:190:1                               2   \n",
              "2018090600:320:1                               3   \n",
              "\n",
              "                  numberPlayersDefenseWeakSide  \\\n",
              "id                                               \n",
              "2018090600:75:1                              4   \n",
              "2018090600:146:1                             4   \n",
              "2018090600:168:1                             2   \n",
              "2018090600:190:1                             5   \n",
              "2018090600:320:1                             5   \n",
              "\n",
              "                  numberPlayersOffenseStrongSide  \\\n",
              "id                                                 \n",
              "2018090600:75:1                                3   \n",
              "2018090600:146:1                               2   \n",
              "2018090600:168:1                               4   \n",
              "2018090600:190:1                               2   \n",
              "2018090600:320:1                               3   \n",
              "\n",
              "                  numberPlayersOffenseWeakSide  \\\n",
              "id                                               \n",
              "2018090600:75:1                              2   \n",
              "2018090600:146:1                             3   \n",
              "2018090600:168:1                             1   \n",
              "2018090600:190:1                             3   \n",
              "2018090600:320:1                             2   \n",
              "\n",
              "                  differenceOffenseVsDefenseWidth  \\\n",
              "id                                                  \n",
              "2018090600:75:1                             -0.63   \n",
              "2018090600:146:1                            -1.15   \n",
              "2018090600:168:1                             0.71   \n",
              "2018090600:190:1                            -3.11   \n",
              "2018090600:320:1                            -4.82   \n",
              "\n",
              "                  differenceOffenseVsDefenseStrongSide  \\\n",
              "id                                                       \n",
              "2018090600:75:1                                      0   \n",
              "2018090600:146:1                                    -1   \n",
              "2018090600:168:1                                    -1   \n",
              "2018090600:190:1                                     0   \n",
              "2018090600:320:1                                     0   \n",
              "\n",
              "                  differenceOffenseVsDefenseWeakSide  HeightByWeightDeep  \\\n",
              "id                                                                         \n",
              "2018090600:75:1                                   -2            0.020227   \n",
              "2018090600:146:1                                  -1            0.020227   \n",
              "2018090600:168:1                                  -1            0.020227   \n",
              "2018090600:190:1                                  -2            0.000000   \n",
              "2018090600:320:1                                  -3            0.000000   \n",
              "\n",
              "                  HeightByWeightHook  HeightByWeightCurl  HeightByWeightFlat  \\\n",
              "id                                                                             \n",
              "2018090600:75:1             0.018643            0.020066            0.021034   \n",
              "2018090600:146:1            0.019228            0.020356            0.020455   \n",
              "2018090600:168:1            0.017683            0.020997            0.020745   \n",
              "2018090600:190:1            0.020120            0.021193            0.020455   \n",
              "2018090600:320:1            0.018995            0.019537            0.021279   \n",
              "\n",
              "                  WeightByArea   density  densityNoLine  densityInsidePoints  \\\n",
              "id                                                                             \n",
              "2018090600:75:1       3.376032  0.036025       0.036025             6.974268   \n",
              "2018090600:146:1      3.178611  0.034284       0.034284             6.975511   \n",
              "2018090600:168:1      2.337434  0.025211       0.025211             6.985594   \n",
              "2018090600:190:1      3.192871  0.037004       0.036351             6.973569   \n",
              "2018090600:320:1      4.281979  0.042752       0.045692             7.978624   \n",
              "\n",
              "                  densityInsidePointsNoLine  playResult  \n",
              "id                                                       \n",
              "2018090600:75:1                    6.974268          10  \n",
              "2018090600:146:1                   6.975511           0  \n",
              "2018090600:168:1                   6.985594           0  \n",
              "2018090600:190:1                   6.969707          33  \n",
              "2018090600:320:1                   7.980418           4  "
            ]
          },
          "metadata": {
            "tags": []
          },
          "execution_count": 96
        }
      ]
    },
    {
      "cell_type": "markdown",
      "metadata": {
        "id": "OYBMW7ErSgSJ"
      },
      "source": [
        "#Eliminar outliers"
      ]
    },
    {
      "cell_type": "code",
      "metadata": {
        "id": "KVnlvm0aBZLo"
      },
      "source": [
        "#load dataset\n",
        "pickle_file = open('outliers_minpts10_rs_3.pickle','rb')\n",
        "outliers = pickle.load(pickle_file)\n",
        "pickle_file.close()"
      ],
      "execution_count": null,
      "outputs": []
    },
    {
      "cell_type": "code",
      "metadata": {
        "id": "XcWR0jpIXUDs"
      },
      "source": [
        "for play in list(outliers):\n",
        "    static_defenses.drop(play,inplace=True)"
      ],
      "execution_count": null,
      "outputs": []
    },
    {
      "cell_type": "code",
      "metadata": {
        "id": "y0RbyUZjBY3O",
        "colab": {
          "base_uri": "https://localhost:8080/",
          "height": 238
        },
        "outputId": "1774e5fb-6b61-4ce1-8054-bc6527d7ac7e"
      },
      "source": [
        "#static_defenses = static_defenses[[\"numberWRs\",\"width\",\"HeightByWeightHook\",\"densityInsidePointsNoLine\",\"density\",\"defenseAreaCoverDefenders\",\"height\",\"playResult\"]]\n",
        "static_defenses = static_defenses[[\"numberWRs\",\"width\",\"HeightByWeightHook\",\"densityInsidePointsNoLine\",\"density\",\"defenseAreaCoverDefenders\",\"playResult\"]]\n",
        "static_defenses.reset_index(drop=True)\n",
        "static_defenses.head()"
      ],
      "execution_count": null,
      "outputs": [
        {
          "output_type": "execute_result",
          "data": {
            "text/html": [
              "<div>\n",
              "<style scoped>\n",
              "    .dataframe tbody tr th:only-of-type {\n",
              "        vertical-align: middle;\n",
              "    }\n",
              "\n",
              "    .dataframe tbody tr th {\n",
              "        vertical-align: top;\n",
              "    }\n",
              "\n",
              "    .dataframe thead th {\n",
              "        text-align: right;\n",
              "    }\n",
              "</style>\n",
              "<table border=\"1\" class=\"dataframe\">\n",
              "  <thead>\n",
              "    <tr style=\"text-align: right;\">\n",
              "      <th></th>\n",
              "      <th>numberWRs</th>\n",
              "      <th>width</th>\n",
              "      <th>HeightByWeightHook</th>\n",
              "      <th>densityInsidePointsNoLine</th>\n",
              "      <th>density</th>\n",
              "      <th>defenseAreaCoverDefenders</th>\n",
              "      <th>playResult</th>\n",
              "    </tr>\n",
              "    <tr>\n",
              "      <th>id</th>\n",
              "      <th></th>\n",
              "      <th></th>\n",
              "      <th></th>\n",
              "      <th></th>\n",
              "      <th></th>\n",
              "      <th></th>\n",
              "      <th></th>\n",
              "    </tr>\n",
              "  </thead>\n",
              "  <tbody>\n",
              "    <tr>\n",
              "      <th>2018090600:75:1</th>\n",
              "      <td>2</td>\n",
              "      <td>22.96</td>\n",
              "      <td>0.018643</td>\n",
              "      <td>6.974268</td>\n",
              "      <td>0.036025</td>\n",
              "      <td>194.31095</td>\n",
              "      <td>10</td>\n",
              "    </tr>\n",
              "    <tr>\n",
              "      <th>2018090600:146:1</th>\n",
              "      <td>3</td>\n",
              "      <td>29.22</td>\n",
              "      <td>0.019228</td>\n",
              "      <td>6.975511</td>\n",
              "      <td>0.034284</td>\n",
              "      <td>204.17725</td>\n",
              "      <td>0</td>\n",
              "    </tr>\n",
              "    <tr>\n",
              "      <th>2018090600:168:1</th>\n",
              "      <td>2</td>\n",
              "      <td>33.67</td>\n",
              "      <td>0.017683</td>\n",
              "      <td>6.985594</td>\n",
              "      <td>0.025211</td>\n",
              "      <td>277.65495</td>\n",
              "      <td>0</td>\n",
              "    </tr>\n",
              "    <tr>\n",
              "      <th>2018090600:190:1</th>\n",
              "      <td>3</td>\n",
              "      <td>26.42</td>\n",
              "      <td>0.020120</td>\n",
              "      <td>6.969707</td>\n",
              "      <td>0.037004</td>\n",
              "      <td>165.05520</td>\n",
              "      <td>33</td>\n",
              "    </tr>\n",
              "    <tr>\n",
              "      <th>2018090600:320:1</th>\n",
              "      <td>3</td>\n",
              "      <td>27.80</td>\n",
              "      <td>0.018995</td>\n",
              "      <td>7.980418</td>\n",
              "      <td>0.042752</td>\n",
              "      <td>153.20020</td>\n",
              "      <td>4</td>\n",
              "    </tr>\n",
              "  </tbody>\n",
              "</table>\n",
              "</div>"
            ],
            "text/plain": [
              "                  numberWRs  width  HeightByWeightHook  \\\n",
              "id                                                       \n",
              "2018090600:75:1           2  22.96            0.018643   \n",
              "2018090600:146:1          3  29.22            0.019228   \n",
              "2018090600:168:1          2  33.67            0.017683   \n",
              "2018090600:190:1          3  26.42            0.020120   \n",
              "2018090600:320:1          3  27.80            0.018995   \n",
              "\n",
              "                  densityInsidePointsNoLine   density  \\\n",
              "id                                                      \n",
              "2018090600:75:1                    6.974268  0.036025   \n",
              "2018090600:146:1                   6.975511  0.034284   \n",
              "2018090600:168:1                   6.985594  0.025211   \n",
              "2018090600:190:1                   6.969707  0.037004   \n",
              "2018090600:320:1                   7.980418  0.042752   \n",
              "\n",
              "                  defenseAreaCoverDefenders  playResult  \n",
              "id                                                       \n",
              "2018090600:75:1                   194.31095          10  \n",
              "2018090600:146:1                  204.17725           0  \n",
              "2018090600:168:1                  277.65495           0  \n",
              "2018090600:190:1                  165.05520          33  \n",
              "2018090600:320:1                  153.20020           4  "
            ]
          },
          "metadata": {
            "tags": []
          },
          "execution_count": 99
        }
      ]
    },
    {
      "cell_type": "markdown",
      "metadata": {
        "id": "N_JxuJMcEMoc"
      },
      "source": [
        "#Cambiar valor playResult"
      ]
    },
    {
      "cell_type": "markdown",
      "metadata": {
        "id": "qCVWGMJ2LB3y"
      },
      "source": [
        "##5 etiquetas"
      ]
    },
    {
      "cell_type": "markdown",
      "metadata": {
        "id": "STNdvfyKEPPg"
      },
      "source": [
        "Vamos a seguir el siguiente criterio:\n",
        "\n",
        "\n",
        "*   Yardas negativas (-infinito,0)\n",
        "*   Poco yardaje [0,3)\n",
        "*   Yardaje medio [3,7)\n",
        "*   Mucho yardaje [7,16)\n",
        "*   Big play      [16, +infinito)\n",
        "\n"
      ]
    },
    {
      "cell_type": "code",
      "metadata": {
        "id": "rGms_LsaEord"
      },
      "source": [
        "def assignTag(number): \n",
        "  tag = \"\"\n",
        "  if number < 0:\n",
        "    tag = 0 #\"negativeYards\"\n",
        "  elif number < 3:\n",
        "    tag = 1 #\"fewYards\"\n",
        "  elif number < 7:\n",
        "    tag = 2 #\"mediumYards\"\n",
        "  elif number < 16:\n",
        "    tag = 3 #\"muchYards\"\n",
        "  else:\n",
        "    tag = 4 #\"bigPlay\"\n",
        "  \n",
        "  return tag"
      ],
      "execution_count": null,
      "outputs": []
    },
    {
      "cell_type": "code",
      "metadata": {
        "colab": {
          "base_uri": "https://localhost:8080/"
        },
        "id": "9aPni7LcyeW-",
        "outputId": "3fe57711-def8-432f-e469-87324c16da9c"
      },
      "source": [
        "static_defenses[\"playResult\"].unique()"
      ],
      "execution_count": null,
      "outputs": [
        {
          "output_type": "execute_result",
          "data": {
            "text/plain": [
              "array([3, 1, 4, 2, 0])"
            ]
          },
          "metadata": {
            "tags": []
          },
          "execution_count": 54
        }
      ]
    },
    {
      "cell_type": "code",
      "metadata": {
        "id": "aHTlwA-38Hpr"
      },
      "source": [
        "static_defenses[\"playResult\"] = static_defenses[\"playResult\"].apply(assignTag)"
      ],
      "execution_count": null,
      "outputs": []
    },
    {
      "cell_type": "code",
      "metadata": {
        "id": "DOs98L-27ZTQ"
      },
      "source": [
        "static_defenses.to_csv(\"static_defenses_categorical_5.csv\")"
      ],
      "execution_count": null,
      "outputs": []
    },
    {
      "cell_type": "markdown",
      "metadata": {
        "id": "w6Rxi5Y93gOy"
      },
      "source": [
        "##Tres etiquetas, negativas, normales y big plays"
      ]
    },
    {
      "cell_type": "code",
      "metadata": {
        "id": "Vw_CWGDu3klB"
      },
      "source": [
        "def assignTag(number): \n",
        "  tag = \"\"\n",
        "  if number < 0:\n",
        "    tag = 0 #\"negativeYards\"\n",
        "  elif number < 16:\n",
        "    tag = 1 #yards\n",
        "  else:\n",
        "    tag = 2 #\"bigPlay\"\n",
        "  \n",
        "  return tag"
      ],
      "execution_count": null,
      "outputs": []
    },
    {
      "cell_type": "code",
      "metadata": {
        "id": "rGZ8Q1zS7feV"
      },
      "source": [
        "static_defenses.to_csv(\"static_defenses_categorical_3.csv\")"
      ],
      "execution_count": null,
      "outputs": []
    },
    {
      "cell_type": "code",
      "metadata": {
        "id": "4xZiEie1HseO"
      },
      "source": [
        "static_defenses[\"playResult\"] = static_defenses[\"playResult\"].apply(assignTag)"
      ],
      "execution_count": null,
      "outputs": []
    },
    {
      "cell_type": "code",
      "metadata": {
        "id": "s-BWpr1vD5wt"
      },
      "source": [
        "first_set = static_defenses[static_defenses[\"playResult\"]==1].sample(frac=0.25)"
      ],
      "execution_count": null,
      "outputs": []
    },
    {
      "cell_type": "code",
      "metadata": {
        "id": "b9f5WPBzJf9z"
      },
      "source": [
        "static_defenses.drop(static_defenses[static_defenses[\"playResult\"]==1].index,inplace=True)"
      ],
      "execution_count": null,
      "outputs": []
    },
    {
      "cell_type": "code",
      "metadata": {
        "colab": {
          "base_uri": "https://localhost:8080/",
          "height": 455
        },
        "id": "KzdcaObLHH3x",
        "outputId": "51e9386f-e917-4ade-e8a7-c1250be36b14"
      },
      "source": [
        "static_defenses"
      ],
      "execution_count": null,
      "outputs": [
        {
          "output_type": "execute_result",
          "data": {
            "text/html": [
              "<div>\n",
              "<style scoped>\n",
              "    .dataframe tbody tr th:only-of-type {\n",
              "        vertical-align: middle;\n",
              "    }\n",
              "\n",
              "    .dataframe tbody tr th {\n",
              "        vertical-align: top;\n",
              "    }\n",
              "\n",
              "    .dataframe thead th {\n",
              "        text-align: right;\n",
              "    }\n",
              "</style>\n",
              "<table border=\"1\" class=\"dataframe\">\n",
              "  <thead>\n",
              "    <tr style=\"text-align: right;\">\n",
              "      <th></th>\n",
              "      <th>numberWRs</th>\n",
              "      <th>width</th>\n",
              "      <th>HeightByWeightHook</th>\n",
              "      <th>densityInsidePointsNoLine</th>\n",
              "      <th>density</th>\n",
              "      <th>defenseAreaCoverDefenders</th>\n",
              "      <th>playResult</th>\n",
              "    </tr>\n",
              "    <tr>\n",
              "      <th>id</th>\n",
              "      <th></th>\n",
              "      <th></th>\n",
              "      <th></th>\n",
              "      <th></th>\n",
              "      <th></th>\n",
              "      <th></th>\n",
              "      <th></th>\n",
              "    </tr>\n",
              "  </thead>\n",
              "  <tbody>\n",
              "    <tr>\n",
              "      <th>2018090600:190:1</th>\n",
              "      <td>3</td>\n",
              "      <td>26.42</td>\n",
              "      <td>0.020120</td>\n",
              "      <td>6.969707</td>\n",
              "      <td>0.037004</td>\n",
              "      <td>165.05520</td>\n",
              "      <td>2</td>\n",
              "    </tr>\n",
              "    <tr>\n",
              "      <th>2018090600:492:1</th>\n",
              "      <td>2</td>\n",
              "      <td>19.61</td>\n",
              "      <td>0.019319</td>\n",
              "      <td>6.972530</td>\n",
              "      <td>0.048072</td>\n",
              "      <td>145.61535</td>\n",
              "      <td>2</td>\n",
              "    </tr>\n",
              "    <tr>\n",
              "      <th>2018090600:776:1</th>\n",
              "      <td>3</td>\n",
              "      <td>29.95</td>\n",
              "      <td>0.018251</td>\n",
              "      <td>7.975552</td>\n",
              "      <td>0.034065</td>\n",
              "      <td>163.61555</td>\n",
              "      <td>0</td>\n",
              "    </tr>\n",
              "    <tr>\n",
              "      <th>2018090600:839:1</th>\n",
              "      <td>3</td>\n",
              "      <td>29.30</td>\n",
              "      <td>0.020833</td>\n",
              "      <td>7.982448</td>\n",
              "      <td>0.041001</td>\n",
              "      <td>170.92430</td>\n",
              "      <td>0</td>\n",
              "    </tr>\n",
              "    <tr>\n",
              "      <th>2018090600:949:1</th>\n",
              "      <td>3</td>\n",
              "      <td>32.42</td>\n",
              "      <td>0.018484</td>\n",
              "      <td>6.969109</td>\n",
              "      <td>0.054060</td>\n",
              "      <td>129.48690</td>\n",
              "      <td>0</td>\n",
              "    </tr>\n",
              "    <tr>\n",
              "      <th>...</th>\n",
              "      <td>...</td>\n",
              "      <td>...</td>\n",
              "      <td>...</td>\n",
              "      <td>...</td>\n",
              "      <td>...</td>\n",
              "      <td>...</td>\n",
              "      <td>...</td>\n",
              "    </tr>\n",
              "    <tr>\n",
              "      <th>2018123015:3089:17</th>\n",
              "      <td>3</td>\n",
              "      <td>26.20</td>\n",
              "      <td>0.016636</td>\n",
              "      <td>6.978593</td>\n",
              "      <td>0.029970</td>\n",
              "      <td>233.56345</td>\n",
              "      <td>0</td>\n",
              "    </tr>\n",
              "    <tr>\n",
              "      <th>2018123015:3601:17</th>\n",
              "      <td>3</td>\n",
              "      <td>18.39</td>\n",
              "      <td>0.018878</td>\n",
              "      <td>6.967889</td>\n",
              "      <td>0.053422</td>\n",
              "      <td>93.42570</td>\n",
              "      <td>0</td>\n",
              "    </tr>\n",
              "    <tr>\n",
              "      <th>2018123015:3794:17</th>\n",
              "      <td>2</td>\n",
              "      <td>19.55</td>\n",
              "      <td>0.017906</td>\n",
              "      <td>6.976933</td>\n",
              "      <td>0.052539</td>\n",
              "      <td>130.05530</td>\n",
              "      <td>2</td>\n",
              "    </tr>\n",
              "    <tr>\n",
              "      <th>2018123015:3932:17</th>\n",
              "      <td>3</td>\n",
              "      <td>35.76</td>\n",
              "      <td>0.016636</td>\n",
              "      <td>6.987781</td>\n",
              "      <td>0.021384</td>\n",
              "      <td>327.34785</td>\n",
              "      <td>0</td>\n",
              "    </tr>\n",
              "    <tr>\n",
              "      <th>2018123015:4104:17</th>\n",
              "      <td>3</td>\n",
              "      <td>32.25</td>\n",
              "      <td>0.019797</td>\n",
              "      <td>6.981439</td>\n",
              "      <td>0.032482</td>\n",
              "      <td>215.50425</td>\n",
              "      <td>2</td>\n",
              "    </tr>\n",
              "  </tbody>\n",
              "</table>\n",
              "<p>4052 rows × 7 columns</p>\n",
              "</div>"
            ],
            "text/plain": [
              "                    numberWRs  width  HeightByWeightHook  \\\n",
              "id                                                         \n",
              "2018090600:190:1            3  26.42            0.020120   \n",
              "2018090600:492:1            2  19.61            0.019319   \n",
              "2018090600:776:1            3  29.95            0.018251   \n",
              "2018090600:839:1            3  29.30            0.020833   \n",
              "2018090600:949:1            3  32.42            0.018484   \n",
              "...                       ...    ...                 ...   \n",
              "2018123015:3089:17          3  26.20            0.016636   \n",
              "2018123015:3601:17          3  18.39            0.018878   \n",
              "2018123015:3794:17          2  19.55            0.017906   \n",
              "2018123015:3932:17          3  35.76            0.016636   \n",
              "2018123015:4104:17          3  32.25            0.019797   \n",
              "\n",
              "                    densityInsidePointsNoLine   density  \\\n",
              "id                                                        \n",
              "2018090600:190:1                     6.969707  0.037004   \n",
              "2018090600:492:1                     6.972530  0.048072   \n",
              "2018090600:776:1                     7.975552  0.034065   \n",
              "2018090600:839:1                     7.982448  0.041001   \n",
              "2018090600:949:1                     6.969109  0.054060   \n",
              "...                                       ...       ...   \n",
              "2018123015:3089:17                   6.978593  0.029970   \n",
              "2018123015:3601:17                   6.967889  0.053422   \n",
              "2018123015:3794:17                   6.976933  0.052539   \n",
              "2018123015:3932:17                   6.987781  0.021384   \n",
              "2018123015:4104:17                   6.981439  0.032482   \n",
              "\n",
              "                    defenseAreaCoverDefenders  playResult  \n",
              "id                                                         \n",
              "2018090600:190:1                    165.05520           2  \n",
              "2018090600:492:1                    145.61535           2  \n",
              "2018090600:776:1                    163.61555           0  \n",
              "2018090600:839:1                    170.92430           0  \n",
              "2018090600:949:1                    129.48690           0  \n",
              "...                                       ...         ...  \n",
              "2018123015:3089:17                  233.56345           0  \n",
              "2018123015:3601:17                   93.42570           0  \n",
              "2018123015:3794:17                  130.05530           2  \n",
              "2018123015:3932:17                  327.34785           0  \n",
              "2018123015:4104:17                  215.50425           2  \n",
              "\n",
              "[4052 rows x 7 columns]"
            ]
          },
          "metadata": {
            "tags": []
          },
          "execution_count": 104
        }
      ]
    },
    {
      "cell_type": "code",
      "metadata": {
        "colab": {
          "base_uri": "https://localhost:8080/",
          "height": 455
        },
        "id": "3UneR8a-HNh_",
        "outputId": "3e89d59a-1a95-4661-af68-56578d247f0a"
      },
      "source": [
        "static_defenses = static_defenses.append(first_set)\n",
        "static_defenses"
      ],
      "execution_count": null,
      "outputs": [
        {
          "output_type": "execute_result",
          "data": {
            "text/html": [
              "<div>\n",
              "<style scoped>\n",
              "    .dataframe tbody tr th:only-of-type {\n",
              "        vertical-align: middle;\n",
              "    }\n",
              "\n",
              "    .dataframe tbody tr th {\n",
              "        vertical-align: top;\n",
              "    }\n",
              "\n",
              "    .dataframe thead th {\n",
              "        text-align: right;\n",
              "    }\n",
              "</style>\n",
              "<table border=\"1\" class=\"dataframe\">\n",
              "  <thead>\n",
              "    <tr style=\"text-align: right;\">\n",
              "      <th></th>\n",
              "      <th>numberWRs</th>\n",
              "      <th>width</th>\n",
              "      <th>HeightByWeightHook</th>\n",
              "      <th>densityInsidePointsNoLine</th>\n",
              "      <th>density</th>\n",
              "      <th>defenseAreaCoverDefenders</th>\n",
              "      <th>playResult</th>\n",
              "    </tr>\n",
              "    <tr>\n",
              "      <th>id</th>\n",
              "      <th></th>\n",
              "      <th></th>\n",
              "      <th></th>\n",
              "      <th></th>\n",
              "      <th></th>\n",
              "      <th></th>\n",
              "      <th></th>\n",
              "    </tr>\n",
              "  </thead>\n",
              "  <tbody>\n",
              "    <tr>\n",
              "      <th>2018090600:190:1</th>\n",
              "      <td>3</td>\n",
              "      <td>26.42</td>\n",
              "      <td>0.020120</td>\n",
              "      <td>6.969707</td>\n",
              "      <td>0.037004</td>\n",
              "      <td>165.05520</td>\n",
              "      <td>2</td>\n",
              "    </tr>\n",
              "    <tr>\n",
              "      <th>2018090600:492:1</th>\n",
              "      <td>2</td>\n",
              "      <td>19.61</td>\n",
              "      <td>0.019319</td>\n",
              "      <td>6.972530</td>\n",
              "      <td>0.048072</td>\n",
              "      <td>145.61535</td>\n",
              "      <td>2</td>\n",
              "    </tr>\n",
              "    <tr>\n",
              "      <th>2018090600:776:1</th>\n",
              "      <td>3</td>\n",
              "      <td>29.95</td>\n",
              "      <td>0.018251</td>\n",
              "      <td>7.975552</td>\n",
              "      <td>0.034065</td>\n",
              "      <td>163.61555</td>\n",
              "      <td>0</td>\n",
              "    </tr>\n",
              "    <tr>\n",
              "      <th>2018090600:839:1</th>\n",
              "      <td>3</td>\n",
              "      <td>29.30</td>\n",
              "      <td>0.020833</td>\n",
              "      <td>7.982448</td>\n",
              "      <td>0.041001</td>\n",
              "      <td>170.92430</td>\n",
              "      <td>0</td>\n",
              "    </tr>\n",
              "    <tr>\n",
              "      <th>2018090600:949:1</th>\n",
              "      <td>3</td>\n",
              "      <td>32.42</td>\n",
              "      <td>0.018484</td>\n",
              "      <td>6.969109</td>\n",
              "      <td>0.054060</td>\n",
              "      <td>129.48690</td>\n",
              "      <td>0</td>\n",
              "    </tr>\n",
              "    <tr>\n",
              "      <th>...</th>\n",
              "      <td>...</td>\n",
              "      <td>...</td>\n",
              "      <td>...</td>\n",
              "      <td>...</td>\n",
              "      <td>...</td>\n",
              "      <td>...</td>\n",
              "      <td>...</td>\n",
              "    </tr>\n",
              "    <tr>\n",
              "      <th>2018111802:1653:11</th>\n",
              "      <td>3</td>\n",
              "      <td>32.49</td>\n",
              "      <td>0.017609</td>\n",
              "      <td>6.976296</td>\n",
              "      <td>0.033185</td>\n",
              "      <td>210.93795</td>\n",
              "      <td>1</td>\n",
              "    </tr>\n",
              "    <tr>\n",
              "      <th>2018102109:4930:7</th>\n",
              "      <td>3</td>\n",
              "      <td>28.95</td>\n",
              "      <td>0.018071</td>\n",
              "      <td>7.989425</td>\n",
              "      <td>0.015734</td>\n",
              "      <td>472.82460</td>\n",
              "      <td>1</td>\n",
              "    </tr>\n",
              "    <tr>\n",
              "      <th>2018120908:2050:14</th>\n",
              "      <td>3</td>\n",
              "      <td>27.37</td>\n",
              "      <td>0.018021</td>\n",
              "      <td>8.967859</td>\n",
              "      <td>0.038670</td>\n",
              "      <td>186.67530</td>\n",
              "      <td>1</td>\n",
              "    </tr>\n",
              "    <tr>\n",
              "      <th>2018123005:3625:17</th>\n",
              "      <td>3</td>\n",
              "      <td>32.80</td>\n",
              "      <td>0.017091</td>\n",
              "      <td>8.982364</td>\n",
              "      <td>0.026303</td>\n",
              "      <td>340.21190</td>\n",
              "      <td>1</td>\n",
              "    </tr>\n",
              "    <tr>\n",
              "      <th>2018092309:69:3</th>\n",
              "      <td>1</td>\n",
              "      <td>29.59</td>\n",
              "      <td>0.016972</td>\n",
              "      <td>7.966843</td>\n",
              "      <td>0.034842</td>\n",
              "      <td>180.95740</td>\n",
              "      <td>1</td>\n",
              "    </tr>\n",
              "  </tbody>\n",
              "</table>\n",
              "<p>7143 rows × 7 columns</p>\n",
              "</div>"
            ],
            "text/plain": [
              "                    numberWRs  width  HeightByWeightHook  \\\n",
              "id                                                         \n",
              "2018090600:190:1            3  26.42            0.020120   \n",
              "2018090600:492:1            2  19.61            0.019319   \n",
              "2018090600:776:1            3  29.95            0.018251   \n",
              "2018090600:839:1            3  29.30            0.020833   \n",
              "2018090600:949:1            3  32.42            0.018484   \n",
              "...                       ...    ...                 ...   \n",
              "2018111802:1653:11          3  32.49            0.017609   \n",
              "2018102109:4930:7           3  28.95            0.018071   \n",
              "2018120908:2050:14          3  27.37            0.018021   \n",
              "2018123005:3625:17          3  32.80            0.017091   \n",
              "2018092309:69:3             1  29.59            0.016972   \n",
              "\n",
              "                    densityInsidePointsNoLine   density  \\\n",
              "id                                                        \n",
              "2018090600:190:1                     6.969707  0.037004   \n",
              "2018090600:492:1                     6.972530  0.048072   \n",
              "2018090600:776:1                     7.975552  0.034065   \n",
              "2018090600:839:1                     7.982448  0.041001   \n",
              "2018090600:949:1                     6.969109  0.054060   \n",
              "...                                       ...       ...   \n",
              "2018111802:1653:11                   6.976296  0.033185   \n",
              "2018102109:4930:7                    7.989425  0.015734   \n",
              "2018120908:2050:14                   8.967859  0.038670   \n",
              "2018123005:3625:17                   8.982364  0.026303   \n",
              "2018092309:69:3                      7.966843  0.034842   \n",
              "\n",
              "                    defenseAreaCoverDefenders  playResult  \n",
              "id                                                         \n",
              "2018090600:190:1                    165.05520           2  \n",
              "2018090600:492:1                    145.61535           2  \n",
              "2018090600:776:1                    163.61555           0  \n",
              "2018090600:839:1                    170.92430           0  \n",
              "2018090600:949:1                    129.48690           0  \n",
              "...                                       ...         ...  \n",
              "2018111802:1653:11                  210.93795           1  \n",
              "2018102109:4930:7                   472.82460           1  \n",
              "2018120908:2050:14                  186.67530           1  \n",
              "2018123005:3625:17                  340.21190           1  \n",
              "2018092309:69:3                     180.95740           1  \n",
              "\n",
              "[7143 rows x 7 columns]"
            ]
          },
          "metadata": {
            "tags": []
          },
          "execution_count": 105
        }
      ]
    },
    {
      "cell_type": "code",
      "metadata": {
        "colab": {
          "base_uri": "https://localhost:8080/"
        },
        "id": "f9JPz8oC0qPV",
        "outputId": "27478af6-7e94-4695-e08f-01f263770b0e"
      },
      "source": [
        "static_defenses[\"playResult\"].unique()"
      ],
      "execution_count": null,
      "outputs": [
        {
          "output_type": "execute_result",
          "data": {
            "text/plain": [
              "array([2, 0, 1])"
            ]
          },
          "metadata": {
            "tags": []
          },
          "execution_count": 106
        }
      ]
    },
    {
      "cell_type": "markdown",
      "metadata": {
        "id": "k1dUzH2OLNE4"
      },
      "source": [
        "##Sin yardas negativas ni big plays"
      ]
    },
    {
      "cell_type": "code",
      "metadata": {
        "id": "S12Wv2GOLTVu"
      },
      "source": [
        "def assignTag(number): \n",
        "  tag = \"\"\n",
        "  if number < 0:\n",
        "    tag = -1 #\"negativeYards\"\n",
        "  elif number < 3:\n",
        "    tag = 0 #\"fewYards\"\n",
        "  elif number < 7:\n",
        "    tag = 1 #\"mediumYards\"\n",
        "  elif number < 16:\n",
        "    tag = 2 #\"muchYards\"\n",
        "  else:\n",
        "    tag = -1 #\"bigPlay\"\n",
        "  \n",
        "  return tag"
      ],
      "execution_count": null,
      "outputs": []
    },
    {
      "cell_type": "code",
      "metadata": {
        "id": "1jAk2kTKLTVw"
      },
      "source": [
        "static_defenses[\"playResult\"] = static_defenses[\"playResult\"].apply(assignTag)"
      ],
      "execution_count": null,
      "outputs": []
    },
    {
      "cell_type": "code",
      "metadata": {
        "id": "2_HzhjhkLqjo"
      },
      "source": [
        "static_defenses.drop(static_defenses[static_defenses[\"playResult\"]==-1].index,inplace=True)"
      ],
      "execution_count": null,
      "outputs": []
    },
    {
      "cell_type": "markdown",
      "metadata": {
        "id": "L6hqtlgU7Nza"
      },
      "source": [
        "##Exploración\n"
      ]
    },
    {
      "cell_type": "code",
      "metadata": {
        "colab": {
          "base_uri": "https://localhost:8080/"
        },
        "id": "lXDGTU2v7QQC",
        "outputId": "d40c6158-f712-497d-92ad-1d5d7352dc0c"
      },
      "source": [
        "static_defenses[\"playResult\"].value_counts()"
      ],
      "execution_count": null,
      "outputs": [
        {
          "output_type": "execute_result",
          "data": {
            "text/plain": [
              "1    12363\n",
              "2     2603\n",
              "0     1449\n",
              "Name: playResult, dtype: int64"
            ]
          },
          "metadata": {
            "tags": []
          },
          "execution_count": 43
        }
      ]
    },
    {
      "cell_type": "markdown",
      "metadata": {
        "id": "FclejPHi7nsE"
      },
      "source": [
        "Está más o menos repartido"
      ]
    },
    {
      "cell_type": "markdown",
      "metadata": {
        "id": "WAp_1w2Co9L7"
      },
      "source": [
        "#Eliminar big plays"
      ]
    },
    {
      "cell_type": "markdown",
      "metadata": {
        "id": "3cYWotQIS5B5"
      },
      "source": [
        "##Big plays ofensivas"
      ]
    },
    {
      "cell_type": "code",
      "metadata": {
        "id": "nxxsl-XJpBYo",
        "colab": {
          "base_uri": "https://localhost:8080/"
        },
        "outputId": "19cc6abb-1ac7-45a2-c430-ea857da9ad12"
      },
      "source": [
        "static_defenses.drop()"
      ],
      "execution_count": null,
      "outputs": [
        {
          "output_type": "execute_result",
          "data": {
            "text/plain": [
              "6.974169966494061"
            ]
          },
          "metadata": {
            "tags": []
          },
          "execution_count": 21
        }
      ]
    },
    {
      "cell_type": "markdown",
      "metadata": {
        "id": "O50zenjKQFud"
      },
      "source": [
        "Vamos a seguir el siguiente criterio: a partir de 16 yardas es una big play en pase\n",
        "\n",
        "Fuente: https://www.espn.com/blog/nflnation/post/_/id/73001/nfl-big-plays-who-and-what-makes-them"
      ]
    },
    {
      "cell_type": "code",
      "metadata": {
        "colab": {
          "base_uri": "https://localhost:8080/"
        },
        "id": "yLINpSnAQOWw",
        "outputId": "979967ed-6d63-4e14-ae21-24f67a4d077e"
      },
      "source": [
        "len(static_defenses[static_defenses[\"playResult\"]>=16])"
      ],
      "execution_count": null,
      "outputs": [
        {
          "output_type": "execute_result",
          "data": {
            "text/plain": [
              "2603"
            ]
          },
          "metadata": {
            "tags": []
          },
          "execution_count": 22
        }
      ]
    },
    {
      "cell_type": "code",
      "metadata": {
        "colab": {
          "base_uri": "https://localhost:8080/"
        },
        "id": "VLJ8wn1TQijQ",
        "outputId": "d8cf975a-1a4a-4bc3-e7b9-67ca808c1713"
      },
      "source": [
        "len(static_defenses[static_defenses[\"playResult\"]>=16]) / len(static_defenses) * 100"
      ],
      "execution_count": null,
      "outputs": [
        {
          "output_type": "execute_result",
          "data": {
            "text/plain": [
              "15.857447456594578"
            ]
          },
          "metadata": {
            "tags": []
          },
          "execution_count": 23
        }
      ]
    },
    {
      "cell_type": "markdown",
      "metadata": {
        "id": "-zt1PzqNQnzZ"
      },
      "source": [
        "Representan el 16% de las jugadas, podríamos al menos estudiarlo por separarlo"
      ]
    },
    {
      "cell_type": "code",
      "metadata": {
        "id": "MLWz2yWFRWYC"
      },
      "source": [
        "big_plays_offense = static_defenses[static_defenses[\"playResult\"]>=16]"
      ],
      "execution_count": null,
      "outputs": []
    },
    {
      "cell_type": "code",
      "metadata": {
        "id": "nCLOmXPiQyqZ"
      },
      "source": [
        "static_defenses.drop(static_defenses[static_defenses[\"playResult\"]>=16].index,inplace=True)"
      ],
      "execution_count": null,
      "outputs": []
    },
    {
      "cell_type": "code",
      "metadata": {
        "colab": {
          "base_uri": "https://localhost:8080/"
        },
        "id": "uJllnedeRO_z",
        "outputId": "69090959-0220-4fa7-f513-c1b994f30918"
      },
      "source": [
        "len(static_defenses)"
      ],
      "execution_count": null,
      "outputs": [
        {
          "output_type": "execute_result",
          "data": {
            "text/plain": [
              "13812"
            ]
          },
          "metadata": {
            "tags": []
          },
          "execution_count": 26
        }
      ]
    },
    {
      "cell_type": "markdown",
      "metadata": {
        "id": "Kq9xUGwzS7dT"
      },
      "source": [
        "##Big plays defensivas"
      ]
    },
    {
      "cell_type": "code",
      "metadata": {
        "colab": {
          "base_uri": "https://localhost:8080/"
        },
        "id": "t9FlctskTCz8",
        "outputId": "bc410dc7-ae2e-42c6-ff64-7b6fcc796ee1"
      },
      "source": [
        "static_defenses[static_defenses[\"playResult\"]<0][\"playResult\"].median()"
      ],
      "execution_count": null,
      "outputs": [
        {
          "output_type": "execute_result",
          "data": {
            "text/plain": [
              "-7.0"
            ]
          },
          "metadata": {
            "tags": []
          },
          "execution_count": 27
        }
      ]
    },
    {
      "cell_type": "code",
      "metadata": {
        "colab": {
          "base_uri": "https://localhost:8080/",
          "height": 475
        },
        "id": "6giN7F_IU6TT",
        "outputId": "8d44edda-2896-4ab4-f922-c8f221cd6db8"
      },
      "source": [
        "static_defenses[static_defenses[\"playResult\"]<=-7]"
      ],
      "execution_count": null,
      "outputs": [
        {
          "output_type": "execute_result",
          "data": {
            "text/html": [
              "<div>\n",
              "<style scoped>\n",
              "    .dataframe tbody tr th:only-of-type {\n",
              "        vertical-align: middle;\n",
              "    }\n",
              "\n",
              "    .dataframe tbody tr th {\n",
              "        vertical-align: top;\n",
              "    }\n",
              "\n",
              "    .dataframe thead th {\n",
              "        text-align: right;\n",
              "    }\n",
              "</style>\n",
              "<table border=\"1\" class=\"dataframe\">\n",
              "  <thead>\n",
              "    <tr style=\"text-align: right;\">\n",
              "      <th></th>\n",
              "      <th>defensivelinezonePlayers</th>\n",
              "      <th>deepzonePlayers</th>\n",
              "      <th>hookzonePlayers</th>\n",
              "      <th>curlzonePlayers</th>\n",
              "      <th>flatzonePlayers</th>\n",
              "      <th>defenseArea</th>\n",
              "      <th>defenseAreaCoverDefenders</th>\n",
              "      <th>width</th>\n",
              "      <th>height</th>\n",
              "      <th>numberQBs</th>\n",
              "      <th>numberWRs</th>\n",
              "      <th>numberTEs</th>\n",
              "      <th>numberRBs</th>\n",
              "      <th>numberFBs</th>\n",
              "      <th>numberOffensivePlayersAnotherPosition</th>\n",
              "      <th>numberSafeties</th>\n",
              "      <th>numberLBs</th>\n",
              "      <th>numberCBs</th>\n",
              "      <th>strongSide</th>\n",
              "      <th>numberPlayersDefenseStrongSide</th>\n",
              "      <th>numberPlayersDefenseWeakSide</th>\n",
              "      <th>numberPlayersOffenseStrongSide</th>\n",
              "      <th>numberPlayersOffenseWeakSide</th>\n",
              "      <th>differenceOffenseVsDefenseWidth</th>\n",
              "      <th>differenceOffenseVsDefenseStrongSide</th>\n",
              "      <th>differenceOffenseVsDefenseWeakSide</th>\n",
              "      <th>HeightByWeightDeep</th>\n",
              "      <th>HeightByWeightHook</th>\n",
              "      <th>HeightByWeightCurl</th>\n",
              "      <th>HeightByWeightFlat</th>\n",
              "      <th>WeightByArea</th>\n",
              "      <th>density</th>\n",
              "      <th>densityNoLine</th>\n",
              "      <th>densityInsidePoints</th>\n",
              "      <th>densityInsidePointsNoLine</th>\n",
              "      <th>playResult</th>\n",
              "    </tr>\n",
              "    <tr>\n",
              "      <th>id</th>\n",
              "      <th></th>\n",
              "      <th></th>\n",
              "      <th></th>\n",
              "      <th></th>\n",
              "      <th></th>\n",
              "      <th></th>\n",
              "      <th></th>\n",
              "      <th></th>\n",
              "      <th></th>\n",
              "      <th></th>\n",
              "      <th></th>\n",
              "      <th></th>\n",
              "      <th></th>\n",
              "      <th></th>\n",
              "      <th></th>\n",
              "      <th></th>\n",
              "      <th></th>\n",
              "      <th></th>\n",
              "      <th></th>\n",
              "      <th></th>\n",
              "      <th></th>\n",
              "      <th></th>\n",
              "      <th></th>\n",
              "      <th></th>\n",
              "      <th></th>\n",
              "      <th></th>\n",
              "      <th></th>\n",
              "      <th></th>\n",
              "      <th></th>\n",
              "      <th></th>\n",
              "      <th></th>\n",
              "      <th></th>\n",
              "      <th></th>\n",
              "      <th></th>\n",
              "      <th></th>\n",
              "      <th></th>\n",
              "    </tr>\n",
              "  </thead>\n",
              "  <tbody>\n",
              "    <tr>\n",
              "      <th>2018090600:776:1</th>\n",
              "      <td>3</td>\n",
              "      <td>1</td>\n",
              "      <td>2</td>\n",
              "      <td>1</td>\n",
              "      <td>1</td>\n",
              "      <td>234.84220</td>\n",
              "      <td>163.61555</td>\n",
              "      <td>29.95</td>\n",
              "      <td>15.29</td>\n",
              "      <td>1</td>\n",
              "      <td>3</td>\n",
              "      <td>1</td>\n",
              "      <td>1</td>\n",
              "      <td>0</td>\n",
              "      <td>0</td>\n",
              "      <td>2</td>\n",
              "      <td>3</td>\n",
              "      <td>3</td>\n",
              "      <td>1</td>\n",
              "      <td>2</td>\n",
              "      <td>6</td>\n",
              "      <td>1</td>\n",
              "      <td>4</td>\n",
              "      <td>-0.25</td>\n",
              "      <td>-1</td>\n",
              "      <td>-2</td>\n",
              "      <td>0.018878</td>\n",
              "      <td>0.018251</td>\n",
              "      <td>0.020833</td>\n",
              "      <td>0.021279</td>\n",
              "      <td>2.854252</td>\n",
              "      <td>0.034065</td>\n",
              "      <td>0.030559</td>\n",
              "      <td>7.978709</td>\n",
              "      <td>7.975552</td>\n",
              "      <td>-7</td>\n",
              "    </tr>\n",
              "    <tr>\n",
              "      <th>2018090600:949:1</th>\n",
              "      <td>0</td>\n",
              "      <td>0</td>\n",
              "      <td>2</td>\n",
              "      <td>3</td>\n",
              "      <td>2</td>\n",
              "      <td>129.48690</td>\n",
              "      <td>129.48690</td>\n",
              "      <td>32.42</td>\n",
              "      <td>7.89</td>\n",
              "      <td>1</td>\n",
              "      <td>3</td>\n",
              "      <td>1</td>\n",
              "      <td>1</td>\n",
              "      <td>0</td>\n",
              "      <td>0</td>\n",
              "      <td>3</td>\n",
              "      <td>1</td>\n",
              "      <td>3</td>\n",
              "      <td>0</td>\n",
              "      <td>4</td>\n",
              "      <td>3</td>\n",
              "      <td>3</td>\n",
              "      <td>2</td>\n",
              "      <td>1.46</td>\n",
              "      <td>-1</td>\n",
              "      <td>-1</td>\n",
              "      <td>0.000000</td>\n",
              "      <td>0.018484</td>\n",
              "      <td>0.021035</td>\n",
              "      <td>0.020745</td>\n",
              "      <td>4.896248</td>\n",
              "      <td>0.054060</td>\n",
              "      <td>0.054060</td>\n",
              "      <td>6.969109</td>\n",
              "      <td>6.969109</td>\n",
              "      <td>-7</td>\n",
              "    </tr>\n",
              "    <tr>\n",
              "      <th>2018090600:1568:1</th>\n",
              "      <td>0</td>\n",
              "      <td>0</td>\n",
              "      <td>1</td>\n",
              "      <td>6</td>\n",
              "      <td>0</td>\n",
              "      <td>162.57650</td>\n",
              "      <td>162.57650</td>\n",
              "      <td>22.58</td>\n",
              "      <td>12.45</td>\n",
              "      <td>1</td>\n",
              "      <td>3</td>\n",
              "      <td>1</td>\n",
              "      <td>1</td>\n",
              "      <td>0</td>\n",
              "      <td>0</td>\n",
              "      <td>3</td>\n",
              "      <td>1</td>\n",
              "      <td>3</td>\n",
              "      <td>0</td>\n",
              "      <td>3</td>\n",
              "      <td>4</td>\n",
              "      <td>1</td>\n",
              "      <td>4</td>\n",
              "      <td>-1.15</td>\n",
              "      <td>-2</td>\n",
              "      <td>0</td>\n",
              "      <td>0.000000</td>\n",
              "      <td>0.020227</td>\n",
              "      <td>0.020223</td>\n",
              "      <td>0.000000</td>\n",
              "      <td>3.899703</td>\n",
              "      <td>0.043057</td>\n",
              "      <td>0.043057</td>\n",
              "      <td>6.975396</td>\n",
              "      <td>6.975396</td>\n",
              "      <td>-9</td>\n",
              "    </tr>\n",
              "    <tr>\n",
              "      <th>2018090600:2503:1</th>\n",
              "      <td>0</td>\n",
              "      <td>1</td>\n",
              "      <td>2</td>\n",
              "      <td>2</td>\n",
              "      <td>2</td>\n",
              "      <td>240.30520</td>\n",
              "      <td>240.30520</td>\n",
              "      <td>33.16</td>\n",
              "      <td>12.69</td>\n",
              "      <td>1</td>\n",
              "      <td>3</td>\n",
              "      <td>1</td>\n",
              "      <td>1</td>\n",
              "      <td>0</td>\n",
              "      <td>0</td>\n",
              "      <td>3</td>\n",
              "      <td>1</td>\n",
              "      <td>3</td>\n",
              "      <td>0</td>\n",
              "      <td>4</td>\n",
              "      <td>3</td>\n",
              "      <td>3</td>\n",
              "      <td>2</td>\n",
              "      <td>2.45</td>\n",
              "      <td>-1</td>\n",
              "      <td>-1</td>\n",
              "      <td>0.020227</td>\n",
              "      <td>0.018484</td>\n",
              "      <td>0.021439</td>\n",
              "      <td>0.020745</td>\n",
              "      <td>2.638312</td>\n",
              "      <td>0.029130</td>\n",
              "      <td>0.029130</td>\n",
              "      <td>6.975032</td>\n",
              "      <td>6.975032</td>\n",
              "      <td>-12</td>\n",
              "    </tr>\n",
              "    <tr>\n",
              "      <th>2018090600:3626:1</th>\n",
              "      <td>2</td>\n",
              "      <td>0</td>\n",
              "      <td>2</td>\n",
              "      <td>4</td>\n",
              "      <td>0</td>\n",
              "      <td>154.37785</td>\n",
              "      <td>147.44340</td>\n",
              "      <td>24.25</td>\n",
              "      <td>11.99</td>\n",
              "      <td>1</td>\n",
              "      <td>2</td>\n",
              "      <td>2</td>\n",
              "      <td>1</td>\n",
              "      <td>0</td>\n",
              "      <td>0</td>\n",
              "      <td>2</td>\n",
              "      <td>3</td>\n",
              "      <td>3</td>\n",
              "      <td>0</td>\n",
              "      <td>5</td>\n",
              "      <td>3</td>\n",
              "      <td>3</td>\n",
              "      <td>2</td>\n",
              "      <td>-5.87</td>\n",
              "      <td>-2</td>\n",
              "      <td>-1</td>\n",
              "      <td>0.000000</td>\n",
              "      <td>0.019512</td>\n",
              "      <td>0.019799</td>\n",
              "      <td>0.000000</td>\n",
              "      <td>3.669205</td>\n",
              "      <td>0.051821</td>\n",
              "      <td>0.040694</td>\n",
              "      <td>7.961134</td>\n",
              "      <td>7.959306</td>\n",
              "      <td>-10</td>\n",
              "    </tr>\n",
              "    <tr>\n",
              "      <th>...</th>\n",
              "      <td>...</td>\n",
              "      <td>...</td>\n",
              "      <td>...</td>\n",
              "      <td>...</td>\n",
              "      <td>...</td>\n",
              "      <td>...</td>\n",
              "      <td>...</td>\n",
              "      <td>...</td>\n",
              "      <td>...</td>\n",
              "      <td>...</td>\n",
              "      <td>...</td>\n",
              "      <td>...</td>\n",
              "      <td>...</td>\n",
              "      <td>...</td>\n",
              "      <td>...</td>\n",
              "      <td>...</td>\n",
              "      <td>...</td>\n",
              "      <td>...</td>\n",
              "      <td>...</td>\n",
              "      <td>...</td>\n",
              "      <td>...</td>\n",
              "      <td>...</td>\n",
              "      <td>...</td>\n",
              "      <td>...</td>\n",
              "      <td>...</td>\n",
              "      <td>...</td>\n",
              "      <td>...</td>\n",
              "      <td>...</td>\n",
              "      <td>...</td>\n",
              "      <td>...</td>\n",
              "      <td>...</td>\n",
              "      <td>...</td>\n",
              "      <td>...</td>\n",
              "      <td>...</td>\n",
              "      <td>...</td>\n",
              "      <td>...</td>\n",
              "    </tr>\n",
              "    <tr>\n",
              "      <th>2018123015:1694:17</th>\n",
              "      <td>3</td>\n",
              "      <td>1</td>\n",
              "      <td>1</td>\n",
              "      <td>1</td>\n",
              "      <td>1</td>\n",
              "      <td>206.35020</td>\n",
              "      <td>137.89705</td>\n",
              "      <td>27.53</td>\n",
              "      <td>14.91</td>\n",
              "      <td>1</td>\n",
              "      <td>3</td>\n",
              "      <td>1</td>\n",
              "      <td>1</td>\n",
              "      <td>0</td>\n",
              "      <td>0</td>\n",
              "      <td>3</td>\n",
              "      <td>2</td>\n",
              "      <td>2</td>\n",
              "      <td>0</td>\n",
              "      <td>2</td>\n",
              "      <td>5</td>\n",
              "      <td>2</td>\n",
              "      <td>3</td>\n",
              "      <td>0.17</td>\n",
              "      <td>0</td>\n",
              "      <td>-2</td>\n",
              "      <td>0.019892</td>\n",
              "      <td>0.019892</td>\n",
              "      <td>0.020227</td>\n",
              "      <td>0.020109</td>\n",
              "      <td>2.654154</td>\n",
              "      <td>0.033923</td>\n",
              "      <td>0.029007</td>\n",
              "      <td>6.975769</td>\n",
              "      <td>6.970993</td>\n",
              "      <td>-8</td>\n",
              "    </tr>\n",
              "    <tr>\n",
              "      <th>2018123015:1921:17</th>\n",
              "      <td>0</td>\n",
              "      <td>0</td>\n",
              "      <td>3</td>\n",
              "      <td>2</td>\n",
              "      <td>2</td>\n",
              "      <td>124.16935</td>\n",
              "      <td>124.16935</td>\n",
              "      <td>36.07</td>\n",
              "      <td>8.24</td>\n",
              "      <td>1</td>\n",
              "      <td>3</td>\n",
              "      <td>1</td>\n",
              "      <td>1</td>\n",
              "      <td>0</td>\n",
              "      <td>0</td>\n",
              "      <td>3</td>\n",
              "      <td>2</td>\n",
              "      <td>2</td>\n",
              "      <td>0</td>\n",
              "      <td>4</td>\n",
              "      <td>3</td>\n",
              "      <td>3</td>\n",
              "      <td>2</td>\n",
              "      <td>-0.12</td>\n",
              "      <td>-1</td>\n",
              "      <td>-1</td>\n",
              "      <td>0.000000</td>\n",
              "      <td>0.019759</td>\n",
              "      <td>0.018591</td>\n",
              "      <td>0.020001</td>\n",
              "      <td>5.315321</td>\n",
              "      <td>0.056375</td>\n",
              "      <td>0.056375</td>\n",
              "      <td>6.967786</td>\n",
              "      <td>6.967786</td>\n",
              "      <td>-7</td>\n",
              "    </tr>\n",
              "    <tr>\n",
              "      <th>2018123015:2469:17</th>\n",
              "      <td>1</td>\n",
              "      <td>1</td>\n",
              "      <td>2</td>\n",
              "      <td>1</td>\n",
              "      <td>2</td>\n",
              "      <td>266.35375</td>\n",
              "      <td>261.58220</td>\n",
              "      <td>31.15</td>\n",
              "      <td>16.07</td>\n",
              "      <td>1</td>\n",
              "      <td>3</td>\n",
              "      <td>1</td>\n",
              "      <td>1</td>\n",
              "      <td>0</td>\n",
              "      <td>0</td>\n",
              "      <td>3</td>\n",
              "      <td>2</td>\n",
              "      <td>2</td>\n",
              "      <td>1</td>\n",
              "      <td>5</td>\n",
              "      <td>2</td>\n",
              "      <td>3</td>\n",
              "      <td>2</td>\n",
              "      <td>-0.32</td>\n",
              "      <td>-2</td>\n",
              "      <td>0</td>\n",
              "      <td>0.019892</td>\n",
              "      <td>0.019526</td>\n",
              "      <td>0.020227</td>\n",
              "      <td>0.020001</td>\n",
              "      <td>2.114058</td>\n",
              "      <td>0.026281</td>\n",
              "      <td>0.022937</td>\n",
              "      <td>6.977474</td>\n",
              "      <td>6.977063</td>\n",
              "      <td>-8</td>\n",
              "    </tr>\n",
              "    <tr>\n",
              "      <th>2018123015:3089:17</th>\n",
              "      <td>0</td>\n",
              "      <td>0</td>\n",
              "      <td>1</td>\n",
              "      <td>5</td>\n",
              "      <td>1</td>\n",
              "      <td>233.56345</td>\n",
              "      <td>233.56345</td>\n",
              "      <td>26.20</td>\n",
              "      <td>12.97</td>\n",
              "      <td>1</td>\n",
              "      <td>3</td>\n",
              "      <td>1</td>\n",
              "      <td>1</td>\n",
              "      <td>0</td>\n",
              "      <td>0</td>\n",
              "      <td>2</td>\n",
              "      <td>1</td>\n",
              "      <td>4</td>\n",
              "      <td>0</td>\n",
              "      <td>3</td>\n",
              "      <td>4</td>\n",
              "      <td>2</td>\n",
              "      <td>3</td>\n",
              "      <td>-0.37</td>\n",
              "      <td>-1</td>\n",
              "      <td>-1</td>\n",
              "      <td>0.000000</td>\n",
              "      <td>0.016636</td>\n",
              "      <td>0.019470</td>\n",
              "      <td>0.020761</td>\n",
              "      <td>2.898570</td>\n",
              "      <td>0.029970</td>\n",
              "      <td>0.029970</td>\n",
              "      <td>6.978593</td>\n",
              "      <td>6.978593</td>\n",
              "      <td>-8</td>\n",
              "    </tr>\n",
              "    <tr>\n",
              "      <th>2018123015:3601:17</th>\n",
              "      <td>2</td>\n",
              "      <td>0</td>\n",
              "      <td>1</td>\n",
              "      <td>4</td>\n",
              "      <td>0</td>\n",
              "      <td>131.03325</td>\n",
              "      <td>93.42570</td>\n",
              "      <td>18.39</td>\n",
              "      <td>12.93</td>\n",
              "      <td>1</td>\n",
              "      <td>3</td>\n",
              "      <td>1</td>\n",
              "      <td>1</td>\n",
              "      <td>0</td>\n",
              "      <td>0</td>\n",
              "      <td>2</td>\n",
              "      <td>1</td>\n",
              "      <td>4</td>\n",
              "      <td>0</td>\n",
              "      <td>3</td>\n",
              "      <td>4</td>\n",
              "      <td>3</td>\n",
              "      <td>2</td>\n",
              "      <td>2.61</td>\n",
              "      <td>0</td>\n",
              "      <td>-2</td>\n",
              "      <td>0.000000</td>\n",
              "      <td>0.018878</td>\n",
              "      <td>0.020090</td>\n",
              "      <td>0.000000</td>\n",
              "      <td>5.020032</td>\n",
              "      <td>0.053422</td>\n",
              "      <td>0.053518</td>\n",
              "      <td>6.969473</td>\n",
              "      <td>6.967889</td>\n",
              "      <td>-9</td>\n",
              "    </tr>\n",
              "  </tbody>\n",
              "</table>\n",
              "<p>757 rows × 36 columns</p>\n",
              "</div>"
            ],
            "text/plain": [
              "                    defensivelinezonePlayers  deepzonePlayers  \\\n",
              "id                                                              \n",
              "2018090600:776:1                           3                1   \n",
              "2018090600:949:1                           0                0   \n",
              "2018090600:1568:1                          0                0   \n",
              "2018090600:2503:1                          0                1   \n",
              "2018090600:3626:1                          2                0   \n",
              "...                                      ...              ...   \n",
              "2018123015:1694:17                         3                1   \n",
              "2018123015:1921:17                         0                0   \n",
              "2018123015:2469:17                         1                1   \n",
              "2018123015:3089:17                         0                0   \n",
              "2018123015:3601:17                         2                0   \n",
              "\n",
              "                    hookzonePlayers  curlzonePlayers  flatzonePlayers  \\\n",
              "id                                                                      \n",
              "2018090600:776:1                  2                1                1   \n",
              "2018090600:949:1                  2                3                2   \n",
              "2018090600:1568:1                 1                6                0   \n",
              "2018090600:2503:1                 2                2                2   \n",
              "2018090600:3626:1                 2                4                0   \n",
              "...                             ...              ...              ...   \n",
              "2018123015:1694:17                1                1                1   \n",
              "2018123015:1921:17                3                2                2   \n",
              "2018123015:2469:17                2                1                2   \n",
              "2018123015:3089:17                1                5                1   \n",
              "2018123015:3601:17                1                4                0   \n",
              "\n",
              "                    defenseArea  defenseAreaCoverDefenders  width  height  \\\n",
              "id                                                                          \n",
              "2018090600:776:1      234.84220                  163.61555  29.95   15.29   \n",
              "2018090600:949:1      129.48690                  129.48690  32.42    7.89   \n",
              "2018090600:1568:1     162.57650                  162.57650  22.58   12.45   \n",
              "2018090600:2503:1     240.30520                  240.30520  33.16   12.69   \n",
              "2018090600:3626:1     154.37785                  147.44340  24.25   11.99   \n",
              "...                         ...                        ...    ...     ...   \n",
              "2018123015:1694:17    206.35020                  137.89705  27.53   14.91   \n",
              "2018123015:1921:17    124.16935                  124.16935  36.07    8.24   \n",
              "2018123015:2469:17    266.35375                  261.58220  31.15   16.07   \n",
              "2018123015:3089:17    233.56345                  233.56345  26.20   12.97   \n",
              "2018123015:3601:17    131.03325                   93.42570  18.39   12.93   \n",
              "\n",
              "                    numberQBs  numberWRs  numberTEs  numberRBs  numberFBs  \\\n",
              "id                                                                          \n",
              "2018090600:776:1            1          3          1          1          0   \n",
              "2018090600:949:1            1          3          1          1          0   \n",
              "2018090600:1568:1           1          3          1          1          0   \n",
              "2018090600:2503:1           1          3          1          1          0   \n",
              "2018090600:3626:1           1          2          2          1          0   \n",
              "...                       ...        ...        ...        ...        ...   \n",
              "2018123015:1694:17          1          3          1          1          0   \n",
              "2018123015:1921:17          1          3          1          1          0   \n",
              "2018123015:2469:17          1          3          1          1          0   \n",
              "2018123015:3089:17          1          3          1          1          0   \n",
              "2018123015:3601:17          1          3          1          1          0   \n",
              "\n",
              "                    numberOffensivePlayersAnotherPosition  numberSafeties  \\\n",
              "id                                                                          \n",
              "2018090600:776:1                                        0               2   \n",
              "2018090600:949:1                                        0               3   \n",
              "2018090600:1568:1                                       0               3   \n",
              "2018090600:2503:1                                       0               3   \n",
              "2018090600:3626:1                                       0               2   \n",
              "...                                                   ...             ...   \n",
              "2018123015:1694:17                                      0               3   \n",
              "2018123015:1921:17                                      0               3   \n",
              "2018123015:2469:17                                      0               3   \n",
              "2018123015:3089:17                                      0               2   \n",
              "2018123015:3601:17                                      0               2   \n",
              "\n",
              "                    numberLBs  numberCBs  strongSide  \\\n",
              "id                                                     \n",
              "2018090600:776:1            3          3           1   \n",
              "2018090600:949:1            1          3           0   \n",
              "2018090600:1568:1           1          3           0   \n",
              "2018090600:2503:1           1          3           0   \n",
              "2018090600:3626:1           3          3           0   \n",
              "...                       ...        ...         ...   \n",
              "2018123015:1694:17          2          2           0   \n",
              "2018123015:1921:17          2          2           0   \n",
              "2018123015:2469:17          2          2           1   \n",
              "2018123015:3089:17          1          4           0   \n",
              "2018123015:3601:17          1          4           0   \n",
              "\n",
              "                    numberPlayersDefenseStrongSide  \\\n",
              "id                                                   \n",
              "2018090600:776:1                                 2   \n",
              "2018090600:949:1                                 4   \n",
              "2018090600:1568:1                                3   \n",
              "2018090600:2503:1                                4   \n",
              "2018090600:3626:1                                5   \n",
              "...                                            ...   \n",
              "2018123015:1694:17                               2   \n",
              "2018123015:1921:17                               4   \n",
              "2018123015:2469:17                               5   \n",
              "2018123015:3089:17                               3   \n",
              "2018123015:3601:17                               3   \n",
              "\n",
              "                    numberPlayersDefenseWeakSide  \\\n",
              "id                                                 \n",
              "2018090600:776:1                               6   \n",
              "2018090600:949:1                               3   \n",
              "2018090600:1568:1                              4   \n",
              "2018090600:2503:1                              3   \n",
              "2018090600:3626:1                              3   \n",
              "...                                          ...   \n",
              "2018123015:1694:17                             5   \n",
              "2018123015:1921:17                             3   \n",
              "2018123015:2469:17                             2   \n",
              "2018123015:3089:17                             4   \n",
              "2018123015:3601:17                             4   \n",
              "\n",
              "                    numberPlayersOffenseStrongSide  \\\n",
              "id                                                   \n",
              "2018090600:776:1                                 1   \n",
              "2018090600:949:1                                 3   \n",
              "2018090600:1568:1                                1   \n",
              "2018090600:2503:1                                3   \n",
              "2018090600:3626:1                                3   \n",
              "...                                            ...   \n",
              "2018123015:1694:17                               2   \n",
              "2018123015:1921:17                               3   \n",
              "2018123015:2469:17                               3   \n",
              "2018123015:3089:17                               2   \n",
              "2018123015:3601:17                               3   \n",
              "\n",
              "                    numberPlayersOffenseWeakSide  \\\n",
              "id                                                 \n",
              "2018090600:776:1                               4   \n",
              "2018090600:949:1                               2   \n",
              "2018090600:1568:1                              4   \n",
              "2018090600:2503:1                              2   \n",
              "2018090600:3626:1                              2   \n",
              "...                                          ...   \n",
              "2018123015:1694:17                             3   \n",
              "2018123015:1921:17                             2   \n",
              "2018123015:2469:17                             2   \n",
              "2018123015:3089:17                             3   \n",
              "2018123015:3601:17                             2   \n",
              "\n",
              "                    differenceOffenseVsDefenseWidth  \\\n",
              "id                                                    \n",
              "2018090600:776:1                              -0.25   \n",
              "2018090600:949:1                               1.46   \n",
              "2018090600:1568:1                             -1.15   \n",
              "2018090600:2503:1                              2.45   \n",
              "2018090600:3626:1                             -5.87   \n",
              "...                                             ...   \n",
              "2018123015:1694:17                             0.17   \n",
              "2018123015:1921:17                            -0.12   \n",
              "2018123015:2469:17                            -0.32   \n",
              "2018123015:3089:17                            -0.37   \n",
              "2018123015:3601:17                             2.61   \n",
              "\n",
              "                    differenceOffenseVsDefenseStrongSide  \\\n",
              "id                                                         \n",
              "2018090600:776:1                                      -1   \n",
              "2018090600:949:1                                      -1   \n",
              "2018090600:1568:1                                     -2   \n",
              "2018090600:2503:1                                     -1   \n",
              "2018090600:3626:1                                     -2   \n",
              "...                                                  ...   \n",
              "2018123015:1694:17                                     0   \n",
              "2018123015:1921:17                                    -1   \n",
              "2018123015:2469:17                                    -2   \n",
              "2018123015:3089:17                                    -1   \n",
              "2018123015:3601:17                                     0   \n",
              "\n",
              "                    differenceOffenseVsDefenseWeakSide  HeightByWeightDeep  \\\n",
              "id                                                                           \n",
              "2018090600:776:1                                    -2            0.018878   \n",
              "2018090600:949:1                                    -1            0.000000   \n",
              "2018090600:1568:1                                    0            0.000000   \n",
              "2018090600:2503:1                                   -1            0.020227   \n",
              "2018090600:3626:1                                   -1            0.000000   \n",
              "...                                                ...                 ...   \n",
              "2018123015:1694:17                                  -2            0.019892   \n",
              "2018123015:1921:17                                  -1            0.000000   \n",
              "2018123015:2469:17                                   0            0.019892   \n",
              "2018123015:3089:17                                  -1            0.000000   \n",
              "2018123015:3601:17                                  -2            0.000000   \n",
              "\n",
              "                    HeightByWeightHook  HeightByWeightCurl  \\\n",
              "id                                                           \n",
              "2018090600:776:1              0.018251            0.020833   \n",
              "2018090600:949:1              0.018484            0.021035   \n",
              "2018090600:1568:1             0.020227            0.020223   \n",
              "2018090600:2503:1             0.018484            0.021439   \n",
              "2018090600:3626:1             0.019512            0.019799   \n",
              "...                                ...                 ...   \n",
              "2018123015:1694:17            0.019892            0.020227   \n",
              "2018123015:1921:17            0.019759            0.018591   \n",
              "2018123015:2469:17            0.019526            0.020227   \n",
              "2018123015:3089:17            0.016636            0.019470   \n",
              "2018123015:3601:17            0.018878            0.020090   \n",
              "\n",
              "                    HeightByWeightFlat  WeightByArea   density  densityNoLine  \\\n",
              "id                                                                              \n",
              "2018090600:776:1              0.021279      2.854252  0.034065       0.030559   \n",
              "2018090600:949:1              0.020745      4.896248  0.054060       0.054060   \n",
              "2018090600:1568:1             0.000000      3.899703  0.043057       0.043057   \n",
              "2018090600:2503:1             0.020745      2.638312  0.029130       0.029130   \n",
              "2018090600:3626:1             0.000000      3.669205  0.051821       0.040694   \n",
              "...                                ...           ...       ...            ...   \n",
              "2018123015:1694:17            0.020109      2.654154  0.033923       0.029007   \n",
              "2018123015:1921:17            0.020001      5.315321  0.056375       0.056375   \n",
              "2018123015:2469:17            0.020001      2.114058  0.026281       0.022937   \n",
              "2018123015:3089:17            0.020761      2.898570  0.029970       0.029970   \n",
              "2018123015:3601:17            0.000000      5.020032  0.053422       0.053518   \n",
              "\n",
              "                    densityInsidePoints  densityInsidePointsNoLine  playResult  \n",
              "id                                                                              \n",
              "2018090600:776:1               7.978709                   7.975552          -7  \n",
              "2018090600:949:1               6.969109                   6.969109          -7  \n",
              "2018090600:1568:1              6.975396                   6.975396          -9  \n",
              "2018090600:2503:1              6.975032                   6.975032         -12  \n",
              "2018090600:3626:1              7.961134                   7.959306         -10  \n",
              "...                                 ...                        ...         ...  \n",
              "2018123015:1694:17             6.975769                   6.970993          -8  \n",
              "2018123015:1921:17             6.967786                   6.967786          -7  \n",
              "2018123015:2469:17             6.977474                   6.977063          -8  \n",
              "2018123015:3089:17             6.978593                   6.978593          -8  \n",
              "2018123015:3601:17             6.969473                   6.967889          -9  \n",
              "\n",
              "[757 rows x 36 columns]"
            ]
          },
          "metadata": {
            "tags": []
          },
          "execution_count": 28
        }
      ]
    },
    {
      "cell_type": "code",
      "metadata": {
        "id": "IrBrveRyVDde"
      },
      "source": [
        "big_play_defense = static_defenses[static_defenses[\"playResult\"]<=-7]"
      ],
      "execution_count": null,
      "outputs": []
    },
    {
      "cell_type": "code",
      "metadata": {
        "id": "XQLln5i8VJwj"
      },
      "source": [
        "static_defenses.drop(static_defenses[static_defenses[\"playResult\"]<=-7].index,inplace=True)"
      ],
      "execution_count": null,
      "outputs": []
    },
    {
      "cell_type": "markdown",
      "metadata": {
        "id": "isZYIaa8XW-j"
      },
      "source": [
        "#Normalización de los datos"
      ]
    },
    {
      "cell_type": "code",
      "metadata": {
        "id": "transparent-planner"
      },
      "source": [
        "scaler = preprocessing.StandardScaler()\n",
        "static_defenses1 = scaler.fit_transform(static_defenses.drop([\"playResult\"],axis=1))"
      ],
      "execution_count": null,
      "outputs": []
    },
    {
      "cell_type": "code",
      "metadata": {
        "id": "lesser-bedroom"
      },
      "source": [
        "scaler = preprocessing.MinMaxScaler()\n",
        "static_defenses2 = scaler.fit_transform(static_defenses.drop([\"playResult\"],axis=1))"
      ],
      "execution_count": null,
      "outputs": []
    },
    {
      "cell_type": "code",
      "metadata": {
        "id": "broad-height"
      },
      "source": [
        "scaler = preprocessing.RobustScaler()\n",
        "static_defenses3 = scaler.fit_transform(static_defenses.drop([\"playResult\"],axis=1))"
      ],
      "execution_count": null,
      "outputs": []
    },
    {
      "cell_type": "code",
      "metadata": {
        "id": "ultimate-alabama"
      },
      "source": [
        "scaler = preprocessing.PowerTransformer()\n",
        "static_defenses4 = scaler.fit_transform(static_defenses.drop([\"playResult\"],axis=1))"
      ],
      "execution_count": null,
      "outputs": []
    },
    {
      "cell_type": "markdown",
      "metadata": {
        "id": "uPYwULfbEPN4"
      },
      "source": [
        "#PCA"
      ]
    },
    {
      "cell_type": "code",
      "metadata": {
        "colab": {
          "base_uri": "https://localhost:8080/"
        },
        "id": "recreational-stockholm",
        "outputId": "27ca7fd3-6913-488d-df73-ad5d7bc8a354"
      },
      "source": [
        "pca_ss = PCA ()\n",
        "X_pca_ss = pca_ss.fit_transform(static_defenses1)\n",
        "X_pca_ss.shape"
      ],
      "execution_count": null,
      "outputs": [
        {
          "output_type": "execute_result",
          "data": {
            "text/plain": [
              "(12363, 35)"
            ]
          },
          "metadata": {
            "tags": []
          },
          "execution_count": 78
        }
      ]
    },
    {
      "cell_type": "code",
      "metadata": {
        "colab": {
          "base_uri": "https://localhost:8080/"
        },
        "id": "recent-fleet",
        "outputId": "a4d72fbf-c284-46cd-b89f-9ad11a680e8f"
      },
      "source": [
        "pca_mms = PCA ()\n",
        "X_pca_mms = pca_mms.fit_transform(static_defenses2)\n",
        "X_pca_mms.shape"
      ],
      "execution_count": null,
      "outputs": [
        {
          "output_type": "execute_result",
          "data": {
            "text/plain": [
              "(12363, 35)"
            ]
          },
          "metadata": {
            "tags": []
          },
          "execution_count": 79
        }
      ]
    },
    {
      "cell_type": "code",
      "metadata": {
        "colab": {
          "base_uri": "https://localhost:8080/"
        },
        "id": "coated-invalid",
        "outputId": "2794b2a5-e19b-43f2-c724-19d925702a87"
      },
      "source": [
        "pca_rs = PCA ()\n",
        "X_pca_rs = pca_rs.fit_transform(static_defenses3)\n",
        "X_pca_rs.shape"
      ],
      "execution_count": null,
      "outputs": [
        {
          "output_type": "execute_result",
          "data": {
            "text/plain": [
              "(12363, 35)"
            ]
          },
          "metadata": {
            "tags": []
          },
          "execution_count": 80
        }
      ]
    },
    {
      "cell_type": "code",
      "metadata": {
        "colab": {
          "base_uri": "https://localhost:8080/"
        },
        "id": "saved-webster",
        "outputId": "895e0dce-77ba-4329-c419-dc5f692ad694"
      },
      "source": [
        "pca_pt = PCA ()\n",
        "X_pca_pt = pca_pt.fit_transform(static_defenses4)\n",
        "X_pca_pt.shape"
      ],
      "execution_count": null,
      "outputs": [
        {
          "output_type": "execute_result",
          "data": {
            "text/plain": [
              "(12363, 35)"
            ]
          },
          "metadata": {
            "tags": []
          },
          "execution_count": 81
        }
      ]
    },
    {
      "cell_type": "code",
      "metadata": {
        "colab": {
          "base_uri": "https://localhost:8080/",
          "height": 542
        },
        "id": "neutral-hampshire",
        "outputId": "372b027e-5e09-4c2f-b597-cfe9c7d1b753"
      },
      "source": [
        "exp_var_cumul = np.cumsum(pca_ss.explained_variance_ratio_)\n",
        "\n",
        "px.area(\n",
        "    x=range(1, exp_var_cumul.shape[0] + 1),\n",
        "    y=exp_var_cumul,\n",
        "    labels={\"x\": \"# Components\", \"y\": \"Explained Variance\"}\n",
        ")"
      ],
      "execution_count": null,
      "outputs": [
        {
          "output_type": "display_data",
          "data": {
            "text/html": [
              "<html>\n",
              "<head><meta charset=\"utf-8\" /></head>\n",
              "<body>\n",
              "    <div>\n",
              "            <script src=\"https://cdnjs.cloudflare.com/ajax/libs/mathjax/2.7.5/MathJax.js?config=TeX-AMS-MML_SVG\"></script><script type=\"text/javascript\">if (window.MathJax) {MathJax.Hub.Config({SVG: {font: \"STIX-Web\"}});}</script>\n",
              "                <script type=\"text/javascript\">window.PlotlyConfig = {MathJaxConfig: 'local'};</script>\n",
              "        <script src=\"https://cdn.plot.ly/plotly-latest.min.js\"></script>    \n",
              "            <div id=\"8e073388-b808-4d1c-8cf3-b66eae504989\" class=\"plotly-graph-div\" style=\"height:525px; width:100%;\"></div>\n",
              "            <script type=\"text/javascript\">\n",
              "                \n",
              "                    window.PLOTLYENV=window.PLOTLYENV || {};\n",
              "                    \n",
              "                if (document.getElementById(\"8e073388-b808-4d1c-8cf3-b66eae504989\")) {\n",
              "                    Plotly.newPlot(\n",
              "                        '8e073388-b808-4d1c-8cf3-b66eae504989',\n",
              "                        [{\"hoverlabel\": {\"namelength\": 0}, \"hovertemplate\": \"# Components=%{x}<br>Explained Variance=%{y}\", \"legendgroup\": \"\", \"line\": {\"color\": \"#636efa\"}, \"mode\": \"lines\", \"name\": \"\", \"orientation\": \"v\", \"showlegend\": false, \"stackgroup\": \"1\", \"type\": \"scatter\", \"x\": [1, 2, 3, 4, 5, 6, 7, 8, 9, 10, 11, 12, 13, 14, 15, 16, 17, 18, 19, 20, 21, 22, 23, 24, 25, 26, 27, 28, 29, 30, 31, 32, 33, 34, 35], \"xaxis\": \"x\", \"y\": [0.213450965733671, 0.34591035565224715, 0.4287508422916425, 0.4972213815867169, 0.5602767892386673, 0.6174297042998786, 0.6611105600832939, 0.697756800207854, 0.7302407483589531, 0.7610246090786102, 0.790844846876155, 0.8205173612610269, 0.8483819839697645, 0.8751032240955754, 0.9010727275271557, 0.9214551257285616, 0.9409231859211707, 0.9560671088906287, 0.9692717042329784, 0.9787606906523766, 0.9864874301388622, 0.9910613380787224, 0.9940427737626321, 0.9964118965948162, 0.9981265063665575, 0.9991234552868878, 0.9995613758010568, 0.9998206744416048, 0.9999049589113282, 0.9999660041014143, 0.9999982828690938, 0.9999997763832899, 1.0000000000000002, 1.0000000000000002, 1.0000000000000002], \"yaxis\": \"y\"}],\n",
              "                        {\"legend\": {\"tracegroupgap\": 0}, \"margin\": {\"t\": 60}, \"template\": {\"data\": {\"bar\": [{\"error_x\": {\"color\": \"#2a3f5f\"}, \"error_y\": {\"color\": \"#2a3f5f\"}, \"marker\": {\"line\": {\"color\": \"#E5ECF6\", \"width\": 0.5}}, \"type\": \"bar\"}], \"barpolar\": [{\"marker\": {\"line\": {\"color\": \"#E5ECF6\", \"width\": 0.5}}, \"type\": \"barpolar\"}], \"carpet\": [{\"aaxis\": {\"endlinecolor\": \"#2a3f5f\", \"gridcolor\": \"white\", \"linecolor\": \"white\", \"minorgridcolor\": \"white\", \"startlinecolor\": \"#2a3f5f\"}, \"baxis\": {\"endlinecolor\": \"#2a3f5f\", \"gridcolor\": \"white\", \"linecolor\": \"white\", \"minorgridcolor\": \"white\", \"startlinecolor\": \"#2a3f5f\"}, \"type\": \"carpet\"}], \"choropleth\": [{\"colorbar\": {\"outlinewidth\": 0, \"ticks\": \"\"}, \"type\": \"choropleth\"}], \"contour\": [{\"colorbar\": {\"outlinewidth\": 0, \"ticks\": \"\"}, \"colorscale\": [[0.0, \"#0d0887\"], [0.1111111111111111, \"#46039f\"], [0.2222222222222222, \"#7201a8\"], [0.3333333333333333, \"#9c179e\"], [0.4444444444444444, \"#bd3786\"], [0.5555555555555556, \"#d8576b\"], [0.6666666666666666, \"#ed7953\"], [0.7777777777777778, \"#fb9f3a\"], [0.8888888888888888, \"#fdca26\"], [1.0, \"#f0f921\"]], \"type\": \"contour\"}], \"contourcarpet\": [{\"colorbar\": {\"outlinewidth\": 0, \"ticks\": \"\"}, \"type\": \"contourcarpet\"}], \"heatmap\": [{\"colorbar\": {\"outlinewidth\": 0, \"ticks\": \"\"}, \"colorscale\": [[0.0, \"#0d0887\"], [0.1111111111111111, \"#46039f\"], [0.2222222222222222, \"#7201a8\"], [0.3333333333333333, \"#9c179e\"], [0.4444444444444444, \"#bd3786\"], [0.5555555555555556, \"#d8576b\"], [0.6666666666666666, \"#ed7953\"], [0.7777777777777778, \"#fb9f3a\"], [0.8888888888888888, \"#fdca26\"], [1.0, \"#f0f921\"]], \"type\": \"heatmap\"}], \"heatmapgl\": [{\"colorbar\": {\"outlinewidth\": 0, \"ticks\": \"\"}, \"colorscale\": [[0.0, \"#0d0887\"], [0.1111111111111111, \"#46039f\"], [0.2222222222222222, \"#7201a8\"], [0.3333333333333333, \"#9c179e\"], [0.4444444444444444, \"#bd3786\"], [0.5555555555555556, \"#d8576b\"], [0.6666666666666666, \"#ed7953\"], [0.7777777777777778, \"#fb9f3a\"], [0.8888888888888888, \"#fdca26\"], [1.0, \"#f0f921\"]], \"type\": \"heatmapgl\"}], \"histogram\": [{\"marker\": {\"colorbar\": {\"outlinewidth\": 0, \"ticks\": \"\"}}, \"type\": \"histogram\"}], \"histogram2d\": [{\"colorbar\": {\"outlinewidth\": 0, \"ticks\": \"\"}, \"colorscale\": [[0.0, \"#0d0887\"], [0.1111111111111111, \"#46039f\"], [0.2222222222222222, \"#7201a8\"], [0.3333333333333333, \"#9c179e\"], [0.4444444444444444, \"#bd3786\"], [0.5555555555555556, \"#d8576b\"], [0.6666666666666666, \"#ed7953\"], [0.7777777777777778, \"#fb9f3a\"], [0.8888888888888888, \"#fdca26\"], [1.0, \"#f0f921\"]], \"type\": \"histogram2d\"}], \"histogram2dcontour\": [{\"colorbar\": {\"outlinewidth\": 0, \"ticks\": \"\"}, \"colorscale\": [[0.0, \"#0d0887\"], [0.1111111111111111, \"#46039f\"], [0.2222222222222222, \"#7201a8\"], [0.3333333333333333, \"#9c179e\"], [0.4444444444444444, \"#bd3786\"], [0.5555555555555556, \"#d8576b\"], [0.6666666666666666, \"#ed7953\"], [0.7777777777777778, \"#fb9f3a\"], [0.8888888888888888, \"#fdca26\"], [1.0, \"#f0f921\"]], \"type\": \"histogram2dcontour\"}], \"mesh3d\": [{\"colorbar\": {\"outlinewidth\": 0, \"ticks\": \"\"}, \"type\": \"mesh3d\"}], \"parcoords\": [{\"line\": {\"colorbar\": {\"outlinewidth\": 0, \"ticks\": \"\"}}, \"type\": \"parcoords\"}], \"pie\": [{\"automargin\": true, \"type\": \"pie\"}], \"scatter\": [{\"marker\": {\"colorbar\": {\"outlinewidth\": 0, \"ticks\": \"\"}}, \"type\": \"scatter\"}], \"scatter3d\": [{\"line\": {\"colorbar\": {\"outlinewidth\": 0, \"ticks\": \"\"}}, \"marker\": {\"colorbar\": {\"outlinewidth\": 0, \"ticks\": \"\"}}, \"type\": \"scatter3d\"}], \"scattercarpet\": [{\"marker\": {\"colorbar\": {\"outlinewidth\": 0, \"ticks\": \"\"}}, \"type\": \"scattercarpet\"}], \"scattergeo\": [{\"marker\": {\"colorbar\": {\"outlinewidth\": 0, \"ticks\": \"\"}}, \"type\": \"scattergeo\"}], \"scattergl\": [{\"marker\": {\"colorbar\": {\"outlinewidth\": 0, \"ticks\": \"\"}}, \"type\": \"scattergl\"}], \"scattermapbox\": [{\"marker\": {\"colorbar\": {\"outlinewidth\": 0, \"ticks\": \"\"}}, \"type\": \"scattermapbox\"}], \"scatterpolar\": [{\"marker\": {\"colorbar\": {\"outlinewidth\": 0, \"ticks\": \"\"}}, \"type\": \"scatterpolar\"}], \"scatterpolargl\": [{\"marker\": {\"colorbar\": {\"outlinewidth\": 0, \"ticks\": \"\"}}, \"type\": \"scatterpolargl\"}], \"scatterternary\": [{\"marker\": {\"colorbar\": {\"outlinewidth\": 0, \"ticks\": \"\"}}, \"type\": \"scatterternary\"}], \"surface\": [{\"colorbar\": {\"outlinewidth\": 0, \"ticks\": \"\"}, \"colorscale\": [[0.0, \"#0d0887\"], [0.1111111111111111, \"#46039f\"], [0.2222222222222222, \"#7201a8\"], [0.3333333333333333, \"#9c179e\"], [0.4444444444444444, \"#bd3786\"], [0.5555555555555556, \"#d8576b\"], [0.6666666666666666, \"#ed7953\"], [0.7777777777777778, \"#fb9f3a\"], [0.8888888888888888, \"#fdca26\"], [1.0, \"#f0f921\"]], \"type\": \"surface\"}], \"table\": [{\"cells\": {\"fill\": {\"color\": \"#EBF0F8\"}, \"line\": {\"color\": \"white\"}}, \"header\": {\"fill\": {\"color\": \"#C8D4E3\"}, \"line\": {\"color\": \"white\"}}, \"type\": \"table\"}]}, \"layout\": {\"annotationdefaults\": {\"arrowcolor\": \"#2a3f5f\", \"arrowhead\": 0, \"arrowwidth\": 1}, \"coloraxis\": {\"colorbar\": {\"outlinewidth\": 0, \"ticks\": \"\"}}, \"colorscale\": {\"diverging\": [[0, \"#8e0152\"], [0.1, \"#c51b7d\"], [0.2, \"#de77ae\"], [0.3, \"#f1b6da\"], [0.4, \"#fde0ef\"], [0.5, \"#f7f7f7\"], [0.6, \"#e6f5d0\"], [0.7, \"#b8e186\"], [0.8, \"#7fbc41\"], [0.9, \"#4d9221\"], [1, \"#276419\"]], \"sequential\": [[0.0, \"#0d0887\"], [0.1111111111111111, \"#46039f\"], [0.2222222222222222, \"#7201a8\"], [0.3333333333333333, \"#9c179e\"], [0.4444444444444444, \"#bd3786\"], [0.5555555555555556, \"#d8576b\"], [0.6666666666666666, \"#ed7953\"], [0.7777777777777778, \"#fb9f3a\"], [0.8888888888888888, \"#fdca26\"], [1.0, \"#f0f921\"]], \"sequentialminus\": [[0.0, \"#0d0887\"], [0.1111111111111111, \"#46039f\"], [0.2222222222222222, \"#7201a8\"], [0.3333333333333333, \"#9c179e\"], [0.4444444444444444, \"#bd3786\"], [0.5555555555555556, \"#d8576b\"], [0.6666666666666666, \"#ed7953\"], [0.7777777777777778, \"#fb9f3a\"], [0.8888888888888888, \"#fdca26\"], [1.0, \"#f0f921\"]]}, \"colorway\": [\"#636efa\", \"#EF553B\", \"#00cc96\", \"#ab63fa\", \"#FFA15A\", \"#19d3f3\", \"#FF6692\", \"#B6E880\", \"#FF97FF\", \"#FECB52\"], \"font\": {\"color\": \"#2a3f5f\"}, \"geo\": {\"bgcolor\": \"white\", \"lakecolor\": \"white\", \"landcolor\": \"#E5ECF6\", \"showlakes\": true, \"showland\": true, \"subunitcolor\": \"white\"}, \"hoverlabel\": {\"align\": \"left\"}, \"hovermode\": \"closest\", \"mapbox\": {\"style\": \"light\"}, \"paper_bgcolor\": \"white\", \"plot_bgcolor\": \"#E5ECF6\", \"polar\": {\"angularaxis\": {\"gridcolor\": \"white\", \"linecolor\": \"white\", \"ticks\": \"\"}, \"bgcolor\": \"#E5ECF6\", \"radialaxis\": {\"gridcolor\": \"white\", \"linecolor\": \"white\", \"ticks\": \"\"}}, \"scene\": {\"xaxis\": {\"backgroundcolor\": \"#E5ECF6\", \"gridcolor\": \"white\", \"gridwidth\": 2, \"linecolor\": \"white\", \"showbackground\": true, \"ticks\": \"\", \"zerolinecolor\": \"white\"}, \"yaxis\": {\"backgroundcolor\": \"#E5ECF6\", \"gridcolor\": \"white\", \"gridwidth\": 2, \"linecolor\": \"white\", \"showbackground\": true, \"ticks\": \"\", \"zerolinecolor\": \"white\"}, \"zaxis\": {\"backgroundcolor\": \"#E5ECF6\", \"gridcolor\": \"white\", \"gridwidth\": 2, \"linecolor\": \"white\", \"showbackground\": true, \"ticks\": \"\", \"zerolinecolor\": \"white\"}}, \"shapedefaults\": {\"line\": {\"color\": \"#2a3f5f\"}}, \"ternary\": {\"aaxis\": {\"gridcolor\": \"white\", \"linecolor\": \"white\", \"ticks\": \"\"}, \"baxis\": {\"gridcolor\": \"white\", \"linecolor\": \"white\", \"ticks\": \"\"}, \"bgcolor\": \"#E5ECF6\", \"caxis\": {\"gridcolor\": \"white\", \"linecolor\": \"white\", \"ticks\": \"\"}}, \"title\": {\"x\": 0.05}, \"xaxis\": {\"automargin\": true, \"gridcolor\": \"white\", \"linecolor\": \"white\", \"ticks\": \"\", \"title\": {\"standoff\": 15}, \"zerolinecolor\": \"white\", \"zerolinewidth\": 2}, \"yaxis\": {\"automargin\": true, \"gridcolor\": \"white\", \"linecolor\": \"white\", \"ticks\": \"\", \"title\": {\"standoff\": 15}, \"zerolinecolor\": \"white\", \"zerolinewidth\": 2}}}, \"xaxis\": {\"anchor\": \"y\", \"domain\": [0.0, 1.0], \"title\": {\"text\": \"# Components\"}}, \"yaxis\": {\"anchor\": \"x\", \"domain\": [0.0, 1.0], \"title\": {\"text\": \"Explained Variance\"}}},\n",
              "                        {\"responsive\": true}\n",
              "                    ).then(function(){\n",
              "                            \n",
              "var gd = document.getElementById('8e073388-b808-4d1c-8cf3-b66eae504989');\n",
              "var x = new MutationObserver(function (mutations, observer) {{\n",
              "        var display = window.getComputedStyle(gd).display;\n",
              "        if (!display || display === 'none') {{\n",
              "            console.log([gd, 'removed!']);\n",
              "            Plotly.purge(gd);\n",
              "            observer.disconnect();\n",
              "        }}\n",
              "}});\n",
              "\n",
              "// Listen for the removal of the full notebook cells\n",
              "var notebookContainer = gd.closest('#notebook-container');\n",
              "if (notebookContainer) {{\n",
              "    x.observe(notebookContainer, {childList: true});\n",
              "}}\n",
              "\n",
              "// Listen for the clearing of the current output cell\n",
              "var outputEl = gd.closest('.output');\n",
              "if (outputEl) {{\n",
              "    x.observe(outputEl, {childList: true});\n",
              "}}\n",
              "\n",
              "                        })\n",
              "                };\n",
              "                \n",
              "            </script>\n",
              "        </div>\n",
              "</body>\n",
              "</html>"
            ]
          },
          "metadata": {
            "tags": []
          }
        }
      ]
    },
    {
      "cell_type": "markdown",
      "metadata": {
        "id": "found-brass"
      },
      "source": [
        "Para este 14 componentes"
      ]
    },
    {
      "cell_type": "code",
      "metadata": {
        "colab": {
          "base_uri": "https://localhost:8080/",
          "height": 542
        },
        "id": "regulation-circuit",
        "outputId": "cb9a815d-d34a-4ca6-f302-0f8e45476d9c"
      },
      "source": [
        "exp_var_cumul = np.cumsum(pca_mms.explained_variance_ratio_)\n",
        "\n",
        "px.area(\n",
        "    x=range(1, exp_var_cumul.shape[0] + 1),\n",
        "    y=exp_var_cumul,\n",
        "    labels={\"x\": \"# Components\", \"y\": \"Explained Variance\"}\n",
        ")"
      ],
      "execution_count": null,
      "outputs": [
        {
          "output_type": "display_data",
          "data": {
            "text/html": [
              "<html>\n",
              "<head><meta charset=\"utf-8\" /></head>\n",
              "<body>\n",
              "    <div>\n",
              "            <script src=\"https://cdnjs.cloudflare.com/ajax/libs/mathjax/2.7.5/MathJax.js?config=TeX-AMS-MML_SVG\"></script><script type=\"text/javascript\">if (window.MathJax) {MathJax.Hub.Config({SVG: {font: \"STIX-Web\"}});}</script>\n",
              "                <script type=\"text/javascript\">window.PlotlyConfig = {MathJaxConfig: 'local'};</script>\n",
              "        <script src=\"https://cdn.plot.ly/plotly-latest.min.js\"></script>    \n",
              "            <div id=\"399dcf48-31df-4ac4-aeb6-666dadaaa131\" class=\"plotly-graph-div\" style=\"height:525px; width:100%;\"></div>\n",
              "            <script type=\"text/javascript\">\n",
              "                \n",
              "                    window.PLOTLYENV=window.PLOTLYENV || {};\n",
              "                    \n",
              "                if (document.getElementById(\"399dcf48-31df-4ac4-aeb6-666dadaaa131\")) {\n",
              "                    Plotly.newPlot(\n",
              "                        '399dcf48-31df-4ac4-aeb6-666dadaaa131',\n",
              "                        [{\"hoverlabel\": {\"namelength\": 0}, \"hovertemplate\": \"# Components=%{x}<br>Explained Variance=%{y}\", \"legendgroup\": \"\", \"line\": {\"color\": \"#636efa\"}, \"mode\": \"lines\", \"name\": \"\", \"orientation\": \"v\", \"showlegend\": false, \"stackgroup\": \"1\", \"type\": \"scatter\", \"x\": [1, 2, 3, 4, 5, 6, 7, 8, 9, 10, 11, 12, 13, 14, 15, 16, 17, 18, 19, 20, 21, 22, 23, 24, 25, 26, 27, 28, 29, 30, 31, 32, 33, 34, 35], \"xaxis\": \"x\", \"y\": [0.22766059952563678, 0.44393178946048006, 0.5983822685896978, 0.6913741849886043, 0.7474070028924917, 0.7877807687141897, 0.8247400095159351, 0.8570052952877295, 0.8859731552263755, 0.9096085319517488, 0.9268750778745145, 0.9425460979638807, 0.9526121776126257, 0.9624303734614856, 0.9715367348081746, 0.9793338641398301, 0.9836203754669833, 0.9870240715194631, 0.9901646003804967, 0.9929814455800561, 0.9954704405121388, 0.9969351619817982, 0.9980232743983677, 0.9986680285085137, 0.9992658533157222, 0.999672727715221, 0.9998431539031829, 0.9999067314195926, 0.999961108771562, 0.9999920443347023, 0.9999988949659957, 0.9999998356029014, 1.0000000000000004, 1.0000000000000004, 1.0000000000000004], \"yaxis\": \"y\"}],\n",
              "                        {\"legend\": {\"tracegroupgap\": 0}, \"margin\": {\"t\": 60}, \"template\": {\"data\": {\"bar\": [{\"error_x\": {\"color\": \"#2a3f5f\"}, \"error_y\": {\"color\": \"#2a3f5f\"}, \"marker\": {\"line\": {\"color\": \"#E5ECF6\", \"width\": 0.5}}, \"type\": \"bar\"}], \"barpolar\": [{\"marker\": {\"line\": {\"color\": \"#E5ECF6\", \"width\": 0.5}}, \"type\": \"barpolar\"}], \"carpet\": [{\"aaxis\": {\"endlinecolor\": \"#2a3f5f\", \"gridcolor\": \"white\", \"linecolor\": \"white\", \"minorgridcolor\": \"white\", \"startlinecolor\": \"#2a3f5f\"}, \"baxis\": {\"endlinecolor\": \"#2a3f5f\", \"gridcolor\": \"white\", \"linecolor\": \"white\", \"minorgridcolor\": \"white\", \"startlinecolor\": \"#2a3f5f\"}, \"type\": \"carpet\"}], \"choropleth\": [{\"colorbar\": {\"outlinewidth\": 0, \"ticks\": \"\"}, \"type\": \"choropleth\"}], \"contour\": [{\"colorbar\": {\"outlinewidth\": 0, \"ticks\": \"\"}, \"colorscale\": [[0.0, \"#0d0887\"], [0.1111111111111111, \"#46039f\"], [0.2222222222222222, \"#7201a8\"], [0.3333333333333333, \"#9c179e\"], [0.4444444444444444, \"#bd3786\"], [0.5555555555555556, \"#d8576b\"], [0.6666666666666666, \"#ed7953\"], [0.7777777777777778, \"#fb9f3a\"], [0.8888888888888888, \"#fdca26\"], [1.0, \"#f0f921\"]], \"type\": \"contour\"}], \"contourcarpet\": [{\"colorbar\": {\"outlinewidth\": 0, \"ticks\": \"\"}, \"type\": \"contourcarpet\"}], \"heatmap\": [{\"colorbar\": {\"outlinewidth\": 0, \"ticks\": \"\"}, \"colorscale\": [[0.0, \"#0d0887\"], [0.1111111111111111, \"#46039f\"], [0.2222222222222222, \"#7201a8\"], [0.3333333333333333, \"#9c179e\"], [0.4444444444444444, \"#bd3786\"], [0.5555555555555556, \"#d8576b\"], [0.6666666666666666, \"#ed7953\"], [0.7777777777777778, \"#fb9f3a\"], [0.8888888888888888, \"#fdca26\"], [1.0, \"#f0f921\"]], \"type\": \"heatmap\"}], \"heatmapgl\": [{\"colorbar\": {\"outlinewidth\": 0, \"ticks\": \"\"}, \"colorscale\": [[0.0, \"#0d0887\"], [0.1111111111111111, \"#46039f\"], [0.2222222222222222, \"#7201a8\"], [0.3333333333333333, \"#9c179e\"], [0.4444444444444444, \"#bd3786\"], [0.5555555555555556, \"#d8576b\"], [0.6666666666666666, \"#ed7953\"], [0.7777777777777778, \"#fb9f3a\"], [0.8888888888888888, \"#fdca26\"], [1.0, \"#f0f921\"]], \"type\": \"heatmapgl\"}], \"histogram\": [{\"marker\": {\"colorbar\": {\"outlinewidth\": 0, \"ticks\": \"\"}}, \"type\": \"histogram\"}], \"histogram2d\": [{\"colorbar\": {\"outlinewidth\": 0, \"ticks\": \"\"}, \"colorscale\": [[0.0, \"#0d0887\"], [0.1111111111111111, \"#46039f\"], [0.2222222222222222, \"#7201a8\"], [0.3333333333333333, \"#9c179e\"], [0.4444444444444444, \"#bd3786\"], [0.5555555555555556, \"#d8576b\"], [0.6666666666666666, \"#ed7953\"], [0.7777777777777778, \"#fb9f3a\"], [0.8888888888888888, \"#fdca26\"], [1.0, \"#f0f921\"]], \"type\": \"histogram2d\"}], \"histogram2dcontour\": [{\"colorbar\": {\"outlinewidth\": 0, \"ticks\": \"\"}, \"colorscale\": [[0.0, \"#0d0887\"], [0.1111111111111111, \"#46039f\"], [0.2222222222222222, \"#7201a8\"], [0.3333333333333333, \"#9c179e\"], [0.4444444444444444, \"#bd3786\"], [0.5555555555555556, \"#d8576b\"], [0.6666666666666666, \"#ed7953\"], [0.7777777777777778, \"#fb9f3a\"], [0.8888888888888888, \"#fdca26\"], [1.0, \"#f0f921\"]], \"type\": \"histogram2dcontour\"}], \"mesh3d\": [{\"colorbar\": {\"outlinewidth\": 0, \"ticks\": \"\"}, \"type\": \"mesh3d\"}], \"parcoords\": [{\"line\": {\"colorbar\": {\"outlinewidth\": 0, \"ticks\": \"\"}}, \"type\": \"parcoords\"}], \"pie\": [{\"automargin\": true, \"type\": \"pie\"}], \"scatter\": [{\"marker\": {\"colorbar\": {\"outlinewidth\": 0, \"ticks\": \"\"}}, \"type\": \"scatter\"}], \"scatter3d\": [{\"line\": {\"colorbar\": {\"outlinewidth\": 0, \"ticks\": \"\"}}, \"marker\": {\"colorbar\": {\"outlinewidth\": 0, \"ticks\": \"\"}}, \"type\": \"scatter3d\"}], \"scattercarpet\": [{\"marker\": {\"colorbar\": {\"outlinewidth\": 0, \"ticks\": \"\"}}, \"type\": \"scattercarpet\"}], \"scattergeo\": [{\"marker\": {\"colorbar\": {\"outlinewidth\": 0, \"ticks\": \"\"}}, \"type\": \"scattergeo\"}], \"scattergl\": [{\"marker\": {\"colorbar\": {\"outlinewidth\": 0, \"ticks\": \"\"}}, \"type\": \"scattergl\"}], \"scattermapbox\": [{\"marker\": {\"colorbar\": {\"outlinewidth\": 0, \"ticks\": \"\"}}, \"type\": \"scattermapbox\"}], \"scatterpolar\": [{\"marker\": {\"colorbar\": {\"outlinewidth\": 0, \"ticks\": \"\"}}, \"type\": \"scatterpolar\"}], \"scatterpolargl\": [{\"marker\": {\"colorbar\": {\"outlinewidth\": 0, \"ticks\": \"\"}}, \"type\": \"scatterpolargl\"}], \"scatterternary\": [{\"marker\": {\"colorbar\": {\"outlinewidth\": 0, \"ticks\": \"\"}}, \"type\": \"scatterternary\"}], \"surface\": [{\"colorbar\": {\"outlinewidth\": 0, \"ticks\": \"\"}, \"colorscale\": [[0.0, \"#0d0887\"], [0.1111111111111111, \"#46039f\"], [0.2222222222222222, \"#7201a8\"], [0.3333333333333333, \"#9c179e\"], [0.4444444444444444, \"#bd3786\"], [0.5555555555555556, \"#d8576b\"], [0.6666666666666666, \"#ed7953\"], [0.7777777777777778, \"#fb9f3a\"], [0.8888888888888888, \"#fdca26\"], [1.0, \"#f0f921\"]], \"type\": \"surface\"}], \"table\": [{\"cells\": {\"fill\": {\"color\": \"#EBF0F8\"}, \"line\": {\"color\": \"white\"}}, \"header\": {\"fill\": {\"color\": \"#C8D4E3\"}, \"line\": {\"color\": \"white\"}}, \"type\": \"table\"}]}, \"layout\": {\"annotationdefaults\": {\"arrowcolor\": \"#2a3f5f\", \"arrowhead\": 0, \"arrowwidth\": 1}, \"coloraxis\": {\"colorbar\": {\"outlinewidth\": 0, \"ticks\": \"\"}}, \"colorscale\": {\"diverging\": [[0, \"#8e0152\"], [0.1, \"#c51b7d\"], [0.2, \"#de77ae\"], [0.3, \"#f1b6da\"], [0.4, \"#fde0ef\"], [0.5, \"#f7f7f7\"], [0.6, \"#e6f5d0\"], [0.7, \"#b8e186\"], [0.8, \"#7fbc41\"], [0.9, \"#4d9221\"], [1, \"#276419\"]], \"sequential\": [[0.0, \"#0d0887\"], [0.1111111111111111, \"#46039f\"], [0.2222222222222222, \"#7201a8\"], [0.3333333333333333, \"#9c179e\"], [0.4444444444444444, \"#bd3786\"], [0.5555555555555556, \"#d8576b\"], [0.6666666666666666, \"#ed7953\"], [0.7777777777777778, \"#fb9f3a\"], [0.8888888888888888, \"#fdca26\"], [1.0, \"#f0f921\"]], \"sequentialminus\": [[0.0, \"#0d0887\"], [0.1111111111111111, \"#46039f\"], [0.2222222222222222, \"#7201a8\"], [0.3333333333333333, \"#9c179e\"], [0.4444444444444444, \"#bd3786\"], [0.5555555555555556, \"#d8576b\"], [0.6666666666666666, \"#ed7953\"], [0.7777777777777778, \"#fb9f3a\"], [0.8888888888888888, \"#fdca26\"], [1.0, \"#f0f921\"]]}, \"colorway\": [\"#636efa\", \"#EF553B\", \"#00cc96\", \"#ab63fa\", \"#FFA15A\", \"#19d3f3\", \"#FF6692\", \"#B6E880\", \"#FF97FF\", \"#FECB52\"], \"font\": {\"color\": \"#2a3f5f\"}, \"geo\": {\"bgcolor\": \"white\", \"lakecolor\": \"white\", \"landcolor\": \"#E5ECF6\", \"showlakes\": true, \"showland\": true, \"subunitcolor\": \"white\"}, \"hoverlabel\": {\"align\": \"left\"}, \"hovermode\": \"closest\", \"mapbox\": {\"style\": \"light\"}, \"paper_bgcolor\": \"white\", \"plot_bgcolor\": \"#E5ECF6\", \"polar\": {\"angularaxis\": {\"gridcolor\": \"white\", \"linecolor\": \"white\", \"ticks\": \"\"}, \"bgcolor\": \"#E5ECF6\", \"radialaxis\": {\"gridcolor\": \"white\", \"linecolor\": \"white\", \"ticks\": \"\"}}, \"scene\": {\"xaxis\": {\"backgroundcolor\": \"#E5ECF6\", \"gridcolor\": \"white\", \"gridwidth\": 2, \"linecolor\": \"white\", \"showbackground\": true, \"ticks\": \"\", \"zerolinecolor\": \"white\"}, \"yaxis\": {\"backgroundcolor\": \"#E5ECF6\", \"gridcolor\": \"white\", \"gridwidth\": 2, \"linecolor\": \"white\", \"showbackground\": true, \"ticks\": \"\", \"zerolinecolor\": \"white\"}, \"zaxis\": {\"backgroundcolor\": \"#E5ECF6\", \"gridcolor\": \"white\", \"gridwidth\": 2, \"linecolor\": \"white\", \"showbackground\": true, \"ticks\": \"\", \"zerolinecolor\": \"white\"}}, \"shapedefaults\": {\"line\": {\"color\": \"#2a3f5f\"}}, \"ternary\": {\"aaxis\": {\"gridcolor\": \"white\", \"linecolor\": \"white\", \"ticks\": \"\"}, \"baxis\": {\"gridcolor\": \"white\", \"linecolor\": \"white\", \"ticks\": \"\"}, \"bgcolor\": \"#E5ECF6\", \"caxis\": {\"gridcolor\": \"white\", \"linecolor\": \"white\", \"ticks\": \"\"}}, \"title\": {\"x\": 0.05}, \"xaxis\": {\"automargin\": true, \"gridcolor\": \"white\", \"linecolor\": \"white\", \"ticks\": \"\", \"title\": {\"standoff\": 15}, \"zerolinecolor\": \"white\", \"zerolinewidth\": 2}, \"yaxis\": {\"automargin\": true, \"gridcolor\": \"white\", \"linecolor\": \"white\", \"ticks\": \"\", \"title\": {\"standoff\": 15}, \"zerolinecolor\": \"white\", \"zerolinewidth\": 2}}}, \"xaxis\": {\"anchor\": \"y\", \"domain\": [0.0, 1.0], \"title\": {\"text\": \"# Components\"}}, \"yaxis\": {\"anchor\": \"x\", \"domain\": [0.0, 1.0], \"title\": {\"text\": \"Explained Variance\"}}},\n",
              "                        {\"responsive\": true}\n",
              "                    ).then(function(){\n",
              "                            \n",
              "var gd = document.getElementById('399dcf48-31df-4ac4-aeb6-666dadaaa131');\n",
              "var x = new MutationObserver(function (mutations, observer) {{\n",
              "        var display = window.getComputedStyle(gd).display;\n",
              "        if (!display || display === 'none') {{\n",
              "            console.log([gd, 'removed!']);\n",
              "            Plotly.purge(gd);\n",
              "            observer.disconnect();\n",
              "        }}\n",
              "}});\n",
              "\n",
              "// Listen for the removal of the full notebook cells\n",
              "var notebookContainer = gd.closest('#notebook-container');\n",
              "if (notebookContainer) {{\n",
              "    x.observe(notebookContainer, {childList: true});\n",
              "}}\n",
              "\n",
              "// Listen for the clearing of the current output cell\n",
              "var outputEl = gd.closest('.output');\n",
              "if (outputEl) {{\n",
              "    x.observe(outputEl, {childList: true});\n",
              "}}\n",
              "\n",
              "                        })\n",
              "                };\n",
              "                \n",
              "            </script>\n",
              "        </div>\n",
              "</body>\n",
              "</html>"
            ]
          },
          "metadata": {
            "tags": []
          }
        }
      ]
    },
    {
      "cell_type": "markdown",
      "metadata": {
        "id": "happy-laugh"
      },
      "source": [
        "Para este 8 componentes"
      ]
    },
    {
      "cell_type": "code",
      "metadata": {
        "colab": {
          "base_uri": "https://localhost:8080/",
          "height": 542
        },
        "id": "enhanced-perfume",
        "outputId": "381dc74f-0e21-428f-f82b-b9bd4cd85764"
      },
      "source": [
        "exp_var_cumul = np.cumsum(pca_rs.explained_variance_ratio_)\n",
        "\n",
        "px.area(\n",
        "    x=range(1, exp_var_cumul.shape[0] + 1),\n",
        "    y=exp_var_cumul,\n",
        "    labels={\"x\": \"Número de componentes\", \"y\": \"Variabilidad\"}\n",
        ")"
      ],
      "execution_count": null,
      "outputs": [
        {
          "output_type": "display_data",
          "data": {
            "text/html": [
              "<html>\n",
              "<head><meta charset=\"utf-8\" /></head>\n",
              "<body>\n",
              "    <div>\n",
              "            <script src=\"https://cdnjs.cloudflare.com/ajax/libs/mathjax/2.7.5/MathJax.js?config=TeX-AMS-MML_SVG\"></script><script type=\"text/javascript\">if (window.MathJax) {MathJax.Hub.Config({SVG: {font: \"STIX-Web\"}});}</script>\n",
              "                <script type=\"text/javascript\">window.PlotlyConfig = {MathJaxConfig: 'local'};</script>\n",
              "        <script src=\"https://cdn.plot.ly/plotly-latest.min.js\"></script>    \n",
              "            <div id=\"55a8d572-5d80-4404-95d5-36c2cc8e34e1\" class=\"plotly-graph-div\" style=\"height:525px; width:100%;\"></div>\n",
              "            <script type=\"text/javascript\">\n",
              "                \n",
              "                    window.PLOTLYENV=window.PLOTLYENV || {};\n",
              "                    \n",
              "                if (document.getElementById(\"55a8d572-5d80-4404-95d5-36c2cc8e34e1\")) {\n",
              "                    Plotly.newPlot(\n",
              "                        '55a8d572-5d80-4404-95d5-36c2cc8e34e1',\n",
              "                        [{\"hoverlabel\": {\"namelength\": 0}, \"hovertemplate\": \"N\\u00famero de componentes=%{x}<br>Variabilidad=%{y}\", \"legendgroup\": \"\", \"line\": {\"color\": \"#636efa\"}, \"mode\": \"lines\", \"name\": \"\", \"orientation\": \"v\", \"showlegend\": false, \"stackgroup\": \"1\", \"type\": \"scatter\", \"x\": [1, 2, 3, 4, 5, 6, 7, 8, 9, 10, 11, 12, 13, 14, 15, 16, 17, 18, 19, 20, 21, 22, 23, 24, 25, 26, 27, 28, 29, 30, 31, 32, 33, 34, 35], \"xaxis\": \"x\", \"y\": [0.6046947256128169, 0.7249132014579248, 0.7870033259774625, 0.8402310472996322, 0.8740030965158319, 0.9058031577818323, 0.9242259850899363, 0.9375540725584423, 0.9492731174708665, 0.9595362925335281, 0.9690477005707187, 0.9748924072323158, 0.979502340461947, 0.983587039135374, 0.9873786230937862, 0.990776750698584, 0.9928944411636843, 0.9947193721295843, 0.9963384794063702, 0.997598699526017, 0.9983096093044384, 0.9989500397463251, 0.9993408795127672, 0.9995740962173307, 0.9997478464670395, 0.9998397922447955, 0.9999073130777123, 0.9999348168810179, 0.9999579245948648, 0.9999801852246362, 0.9999993534507898, 0.9999998961951314, 1.0000000000000002, 1.0000000000000002, 1.0000000000000002], \"yaxis\": \"y\"}],\n",
              "                        {\"legend\": {\"tracegroupgap\": 0}, \"margin\": {\"t\": 60}, \"template\": {\"data\": {\"bar\": [{\"error_x\": {\"color\": \"#2a3f5f\"}, \"error_y\": {\"color\": \"#2a3f5f\"}, \"marker\": {\"line\": {\"color\": \"#E5ECF6\", \"width\": 0.5}}, \"type\": \"bar\"}], \"barpolar\": [{\"marker\": {\"line\": {\"color\": \"#E5ECF6\", \"width\": 0.5}}, \"type\": \"barpolar\"}], \"carpet\": [{\"aaxis\": {\"endlinecolor\": \"#2a3f5f\", \"gridcolor\": \"white\", \"linecolor\": \"white\", \"minorgridcolor\": \"white\", \"startlinecolor\": \"#2a3f5f\"}, \"baxis\": {\"endlinecolor\": \"#2a3f5f\", \"gridcolor\": \"white\", \"linecolor\": \"white\", \"minorgridcolor\": \"white\", \"startlinecolor\": \"#2a3f5f\"}, \"type\": \"carpet\"}], \"choropleth\": [{\"colorbar\": {\"outlinewidth\": 0, \"ticks\": \"\"}, \"type\": \"choropleth\"}], \"contour\": [{\"colorbar\": {\"outlinewidth\": 0, \"ticks\": \"\"}, \"colorscale\": [[0.0, \"#0d0887\"], [0.1111111111111111, \"#46039f\"], [0.2222222222222222, \"#7201a8\"], [0.3333333333333333, \"#9c179e\"], [0.4444444444444444, \"#bd3786\"], [0.5555555555555556, \"#d8576b\"], [0.6666666666666666, \"#ed7953\"], [0.7777777777777778, \"#fb9f3a\"], [0.8888888888888888, \"#fdca26\"], [1.0, \"#f0f921\"]], \"type\": \"contour\"}], \"contourcarpet\": [{\"colorbar\": {\"outlinewidth\": 0, \"ticks\": \"\"}, \"type\": \"contourcarpet\"}], \"heatmap\": [{\"colorbar\": {\"outlinewidth\": 0, \"ticks\": \"\"}, \"colorscale\": [[0.0, \"#0d0887\"], [0.1111111111111111, \"#46039f\"], [0.2222222222222222, \"#7201a8\"], [0.3333333333333333, \"#9c179e\"], [0.4444444444444444, \"#bd3786\"], [0.5555555555555556, \"#d8576b\"], [0.6666666666666666, \"#ed7953\"], [0.7777777777777778, \"#fb9f3a\"], [0.8888888888888888, \"#fdca26\"], [1.0, \"#f0f921\"]], \"type\": \"heatmap\"}], \"heatmapgl\": [{\"colorbar\": {\"outlinewidth\": 0, \"ticks\": \"\"}, \"colorscale\": [[0.0, \"#0d0887\"], [0.1111111111111111, \"#46039f\"], [0.2222222222222222, \"#7201a8\"], [0.3333333333333333, \"#9c179e\"], [0.4444444444444444, \"#bd3786\"], [0.5555555555555556, \"#d8576b\"], [0.6666666666666666, \"#ed7953\"], [0.7777777777777778, \"#fb9f3a\"], [0.8888888888888888, \"#fdca26\"], [1.0, \"#f0f921\"]], \"type\": \"heatmapgl\"}], \"histogram\": [{\"marker\": {\"colorbar\": {\"outlinewidth\": 0, \"ticks\": \"\"}}, \"type\": \"histogram\"}], \"histogram2d\": [{\"colorbar\": {\"outlinewidth\": 0, \"ticks\": \"\"}, \"colorscale\": [[0.0, \"#0d0887\"], [0.1111111111111111, \"#46039f\"], [0.2222222222222222, \"#7201a8\"], [0.3333333333333333, \"#9c179e\"], [0.4444444444444444, \"#bd3786\"], [0.5555555555555556, \"#d8576b\"], [0.6666666666666666, \"#ed7953\"], [0.7777777777777778, \"#fb9f3a\"], [0.8888888888888888, \"#fdca26\"], [1.0, \"#f0f921\"]], \"type\": \"histogram2d\"}], \"histogram2dcontour\": [{\"colorbar\": {\"outlinewidth\": 0, \"ticks\": \"\"}, \"colorscale\": [[0.0, \"#0d0887\"], [0.1111111111111111, \"#46039f\"], [0.2222222222222222, \"#7201a8\"], [0.3333333333333333, \"#9c179e\"], [0.4444444444444444, \"#bd3786\"], [0.5555555555555556, \"#d8576b\"], [0.6666666666666666, \"#ed7953\"], [0.7777777777777778, \"#fb9f3a\"], [0.8888888888888888, \"#fdca26\"], [1.0, \"#f0f921\"]], \"type\": \"histogram2dcontour\"}], \"mesh3d\": [{\"colorbar\": {\"outlinewidth\": 0, \"ticks\": \"\"}, \"type\": \"mesh3d\"}], \"parcoords\": [{\"line\": {\"colorbar\": {\"outlinewidth\": 0, \"ticks\": \"\"}}, \"type\": \"parcoords\"}], \"pie\": [{\"automargin\": true, \"type\": \"pie\"}], \"scatter\": [{\"marker\": {\"colorbar\": {\"outlinewidth\": 0, \"ticks\": \"\"}}, \"type\": \"scatter\"}], \"scatter3d\": [{\"line\": {\"colorbar\": {\"outlinewidth\": 0, \"ticks\": \"\"}}, \"marker\": {\"colorbar\": {\"outlinewidth\": 0, \"ticks\": \"\"}}, \"type\": \"scatter3d\"}], \"scattercarpet\": [{\"marker\": {\"colorbar\": {\"outlinewidth\": 0, \"ticks\": \"\"}}, \"type\": \"scattercarpet\"}], \"scattergeo\": [{\"marker\": {\"colorbar\": {\"outlinewidth\": 0, \"ticks\": \"\"}}, \"type\": \"scattergeo\"}], \"scattergl\": [{\"marker\": {\"colorbar\": {\"outlinewidth\": 0, \"ticks\": \"\"}}, \"type\": \"scattergl\"}], \"scattermapbox\": [{\"marker\": {\"colorbar\": {\"outlinewidth\": 0, \"ticks\": \"\"}}, \"type\": \"scattermapbox\"}], \"scatterpolar\": [{\"marker\": {\"colorbar\": {\"outlinewidth\": 0, \"ticks\": \"\"}}, \"type\": \"scatterpolar\"}], \"scatterpolargl\": [{\"marker\": {\"colorbar\": {\"outlinewidth\": 0, \"ticks\": \"\"}}, \"type\": \"scatterpolargl\"}], \"scatterternary\": [{\"marker\": {\"colorbar\": {\"outlinewidth\": 0, \"ticks\": \"\"}}, \"type\": \"scatterternary\"}], \"surface\": [{\"colorbar\": {\"outlinewidth\": 0, \"ticks\": \"\"}, \"colorscale\": [[0.0, \"#0d0887\"], [0.1111111111111111, \"#46039f\"], [0.2222222222222222, \"#7201a8\"], [0.3333333333333333, \"#9c179e\"], [0.4444444444444444, \"#bd3786\"], [0.5555555555555556, \"#d8576b\"], [0.6666666666666666, \"#ed7953\"], [0.7777777777777778, \"#fb9f3a\"], [0.8888888888888888, \"#fdca26\"], [1.0, \"#f0f921\"]], \"type\": \"surface\"}], \"table\": [{\"cells\": {\"fill\": {\"color\": \"#EBF0F8\"}, \"line\": {\"color\": \"white\"}}, \"header\": {\"fill\": {\"color\": \"#C8D4E3\"}, \"line\": {\"color\": \"white\"}}, \"type\": \"table\"}]}, \"layout\": {\"annotationdefaults\": {\"arrowcolor\": \"#2a3f5f\", \"arrowhead\": 0, \"arrowwidth\": 1}, \"coloraxis\": {\"colorbar\": {\"outlinewidth\": 0, \"ticks\": \"\"}}, \"colorscale\": {\"diverging\": [[0, \"#8e0152\"], [0.1, \"#c51b7d\"], [0.2, \"#de77ae\"], [0.3, \"#f1b6da\"], [0.4, \"#fde0ef\"], [0.5, \"#f7f7f7\"], [0.6, \"#e6f5d0\"], [0.7, \"#b8e186\"], [0.8, \"#7fbc41\"], [0.9, \"#4d9221\"], [1, \"#276419\"]], \"sequential\": [[0.0, \"#0d0887\"], [0.1111111111111111, \"#46039f\"], [0.2222222222222222, \"#7201a8\"], [0.3333333333333333, \"#9c179e\"], [0.4444444444444444, \"#bd3786\"], [0.5555555555555556, \"#d8576b\"], [0.6666666666666666, \"#ed7953\"], [0.7777777777777778, \"#fb9f3a\"], [0.8888888888888888, \"#fdca26\"], [1.0, \"#f0f921\"]], \"sequentialminus\": [[0.0, \"#0d0887\"], [0.1111111111111111, \"#46039f\"], [0.2222222222222222, \"#7201a8\"], [0.3333333333333333, \"#9c179e\"], [0.4444444444444444, \"#bd3786\"], [0.5555555555555556, \"#d8576b\"], [0.6666666666666666, \"#ed7953\"], [0.7777777777777778, \"#fb9f3a\"], [0.8888888888888888, \"#fdca26\"], [1.0, \"#f0f921\"]]}, \"colorway\": [\"#636efa\", \"#EF553B\", \"#00cc96\", \"#ab63fa\", \"#FFA15A\", \"#19d3f3\", \"#FF6692\", \"#B6E880\", \"#FF97FF\", \"#FECB52\"], \"font\": {\"color\": \"#2a3f5f\"}, \"geo\": {\"bgcolor\": \"white\", \"lakecolor\": \"white\", \"landcolor\": \"#E5ECF6\", \"showlakes\": true, \"showland\": true, \"subunitcolor\": \"white\"}, \"hoverlabel\": {\"align\": \"left\"}, \"hovermode\": \"closest\", \"mapbox\": {\"style\": \"light\"}, \"paper_bgcolor\": \"white\", \"plot_bgcolor\": \"#E5ECF6\", \"polar\": {\"angularaxis\": {\"gridcolor\": \"white\", \"linecolor\": \"white\", \"ticks\": \"\"}, \"bgcolor\": \"#E5ECF6\", \"radialaxis\": {\"gridcolor\": \"white\", \"linecolor\": \"white\", \"ticks\": \"\"}}, \"scene\": {\"xaxis\": {\"backgroundcolor\": \"#E5ECF6\", \"gridcolor\": \"white\", \"gridwidth\": 2, \"linecolor\": \"white\", \"showbackground\": true, \"ticks\": \"\", \"zerolinecolor\": \"white\"}, \"yaxis\": {\"backgroundcolor\": \"#E5ECF6\", \"gridcolor\": \"white\", \"gridwidth\": 2, \"linecolor\": \"white\", \"showbackground\": true, \"ticks\": \"\", \"zerolinecolor\": \"white\"}, \"zaxis\": {\"backgroundcolor\": \"#E5ECF6\", \"gridcolor\": \"white\", \"gridwidth\": 2, \"linecolor\": \"white\", \"showbackground\": true, \"ticks\": \"\", \"zerolinecolor\": \"white\"}}, \"shapedefaults\": {\"line\": {\"color\": \"#2a3f5f\"}}, \"ternary\": {\"aaxis\": {\"gridcolor\": \"white\", \"linecolor\": \"white\", \"ticks\": \"\"}, \"baxis\": {\"gridcolor\": \"white\", \"linecolor\": \"white\", \"ticks\": \"\"}, \"bgcolor\": \"#E5ECF6\", \"caxis\": {\"gridcolor\": \"white\", \"linecolor\": \"white\", \"ticks\": \"\"}}, \"title\": {\"x\": 0.05}, \"xaxis\": {\"automargin\": true, \"gridcolor\": \"white\", \"linecolor\": \"white\", \"ticks\": \"\", \"title\": {\"standoff\": 15}, \"zerolinecolor\": \"white\", \"zerolinewidth\": 2}, \"yaxis\": {\"automargin\": true, \"gridcolor\": \"white\", \"linecolor\": \"white\", \"ticks\": \"\", \"title\": {\"standoff\": 15}, \"zerolinecolor\": \"white\", \"zerolinewidth\": 2}}}, \"xaxis\": {\"anchor\": \"y\", \"domain\": [0.0, 1.0], \"title\": {\"text\": \"N\\u00famero de componentes\"}}, \"yaxis\": {\"anchor\": \"x\", \"domain\": [0.0, 1.0], \"title\": {\"text\": \"Variabilidad\"}}},\n",
              "                        {\"responsive\": true}\n",
              "                    ).then(function(){\n",
              "                            \n",
              "var gd = document.getElementById('55a8d572-5d80-4404-95d5-36c2cc8e34e1');\n",
              "var x = new MutationObserver(function (mutations, observer) {{\n",
              "        var display = window.getComputedStyle(gd).display;\n",
              "        if (!display || display === 'none') {{\n",
              "            console.log([gd, 'removed!']);\n",
              "            Plotly.purge(gd);\n",
              "            observer.disconnect();\n",
              "        }}\n",
              "}});\n",
              "\n",
              "// Listen for the removal of the full notebook cells\n",
              "var notebookContainer = gd.closest('#notebook-container');\n",
              "if (notebookContainer) {{\n",
              "    x.observe(notebookContainer, {childList: true});\n",
              "}}\n",
              "\n",
              "// Listen for the clearing of the current output cell\n",
              "var outputEl = gd.closest('.output');\n",
              "if (outputEl) {{\n",
              "    x.observe(outputEl, {childList: true});\n",
              "}}\n",
              "\n",
              "                        })\n",
              "                };\n",
              "                \n",
              "            </script>\n",
              "        </div>\n",
              "</body>\n",
              "</html>"
            ]
          },
          "metadata": {
            "tags": []
          }
        }
      ]
    },
    {
      "cell_type": "markdown",
      "metadata": {
        "id": "knowing-break"
      },
      "source": [
        "Para este 5 componentes"
      ]
    },
    {
      "cell_type": "code",
      "metadata": {
        "colab": {
          "base_uri": "https://localhost:8080/",
          "height": 542
        },
        "id": "motivated-double",
        "outputId": "7813e9df-a13b-42ce-ba3f-58db66303188"
      },
      "source": [
        "exp_var_cumul = np.cumsum(pca_pt.explained_variance_ratio_)\n",
        "\n",
        "px.area(\n",
        "    x=range(1, exp_var_cumul.shape[0] + 1),\n",
        "    y=exp_var_cumul,\n",
        "    labels={\"x\": \"# Components\", \"y\": \"Explained Variance\"}\n",
        ")"
      ],
      "execution_count": null,
      "outputs": [
        {
          "output_type": "display_data",
          "data": {
            "text/html": [
              "<html>\n",
              "<head><meta charset=\"utf-8\" /></head>\n",
              "<body>\n",
              "    <div>\n",
              "            <script src=\"https://cdnjs.cloudflare.com/ajax/libs/mathjax/2.7.5/MathJax.js?config=TeX-AMS-MML_SVG\"></script><script type=\"text/javascript\">if (window.MathJax) {MathJax.Hub.Config({SVG: {font: \"STIX-Web\"}});}</script>\n",
              "                <script type=\"text/javascript\">window.PlotlyConfig = {MathJaxConfig: 'local'};</script>\n",
              "        <script src=\"https://cdn.plot.ly/plotly-latest.min.js\"></script>    \n",
              "            <div id=\"00921f61-98b3-4f0c-b8ea-dca1fbbd0afc\" class=\"plotly-graph-div\" style=\"height:525px; width:100%;\"></div>\n",
              "            <script type=\"text/javascript\">\n",
              "                \n",
              "                    window.PLOTLYENV=window.PLOTLYENV || {};\n",
              "                    \n",
              "                if (document.getElementById(\"00921f61-98b3-4f0c-b8ea-dca1fbbd0afc\")) {\n",
              "                    Plotly.newPlot(\n",
              "                        '00921f61-98b3-4f0c-b8ea-dca1fbbd0afc',\n",
              "                        [{\"hoverlabel\": {\"namelength\": 0}, \"hovertemplate\": \"# Components=%{x}<br>Explained Variance=%{y}\", \"legendgroup\": \"\", \"line\": {\"color\": \"#636efa\"}, \"mode\": \"lines\", \"name\": \"\", \"orientation\": \"v\", \"showlegend\": false, \"stackgroup\": \"1\", \"type\": \"scatter\", \"x\": [1, 2, 3, 4, 5, 6, 7, 8, 9, 10, 11, 12, 13, 14, 15, 16, 17, 18, 19, 20, 21, 22, 23, 24, 25, 26, 27, 28, 29, 30, 31, 32, 33, 34, 35], \"xaxis\": \"x\", \"y\": [0.22698451934518893, 0.35618878638146995, 0.43887725512668213, 0.5077540875185923, 0.5711886619425772, 0.628222192936801, 0.6717987674921314, 0.7094402881826731, 0.741457102038991, 0.7720137712846844, 0.8016732972413674, 0.8296888485605315, 0.8574062607307548, 0.8839908857992729, 0.9092903857870088, 0.9305676783911688, 0.9494377034270571, 0.9646073523566976, 0.9752915626589823, 0.9845478998514032, 0.9896038035478465, 0.992830678500383, 0.9950491309596396, 0.9967507516169851, 0.9978759529641152, 0.9988997533445416, 0.9992804470110553, 0.9994910098980735, 0.9996262041711425, 0.9997582738952531, 0.9998550451158096, 0.9999189487465306, 0.9999667359281204, 0.9999993456935722, 1.0], \"yaxis\": \"y\"}],\n",
              "                        {\"legend\": {\"tracegroupgap\": 0}, \"margin\": {\"t\": 60}, \"template\": {\"data\": {\"bar\": [{\"error_x\": {\"color\": \"#2a3f5f\"}, \"error_y\": {\"color\": \"#2a3f5f\"}, \"marker\": {\"line\": {\"color\": \"#E5ECF6\", \"width\": 0.5}}, \"type\": \"bar\"}], \"barpolar\": [{\"marker\": {\"line\": {\"color\": \"#E5ECF6\", \"width\": 0.5}}, \"type\": \"barpolar\"}], \"carpet\": [{\"aaxis\": {\"endlinecolor\": \"#2a3f5f\", \"gridcolor\": \"white\", \"linecolor\": \"white\", \"minorgridcolor\": \"white\", \"startlinecolor\": \"#2a3f5f\"}, \"baxis\": {\"endlinecolor\": \"#2a3f5f\", \"gridcolor\": \"white\", \"linecolor\": \"white\", \"minorgridcolor\": \"white\", \"startlinecolor\": \"#2a3f5f\"}, \"type\": \"carpet\"}], \"choropleth\": [{\"colorbar\": {\"outlinewidth\": 0, \"ticks\": \"\"}, \"type\": \"choropleth\"}], \"contour\": [{\"colorbar\": {\"outlinewidth\": 0, \"ticks\": \"\"}, \"colorscale\": [[0.0, \"#0d0887\"], [0.1111111111111111, \"#46039f\"], [0.2222222222222222, \"#7201a8\"], [0.3333333333333333, \"#9c179e\"], [0.4444444444444444, \"#bd3786\"], [0.5555555555555556, \"#d8576b\"], [0.6666666666666666, \"#ed7953\"], [0.7777777777777778, \"#fb9f3a\"], [0.8888888888888888, \"#fdca26\"], [1.0, \"#f0f921\"]], \"type\": \"contour\"}], \"contourcarpet\": [{\"colorbar\": {\"outlinewidth\": 0, \"ticks\": \"\"}, \"type\": \"contourcarpet\"}], \"heatmap\": [{\"colorbar\": {\"outlinewidth\": 0, \"ticks\": \"\"}, \"colorscale\": [[0.0, \"#0d0887\"], [0.1111111111111111, \"#46039f\"], [0.2222222222222222, \"#7201a8\"], [0.3333333333333333, \"#9c179e\"], [0.4444444444444444, \"#bd3786\"], [0.5555555555555556, \"#d8576b\"], [0.6666666666666666, \"#ed7953\"], [0.7777777777777778, \"#fb9f3a\"], [0.8888888888888888, \"#fdca26\"], [1.0, \"#f0f921\"]], \"type\": \"heatmap\"}], \"heatmapgl\": [{\"colorbar\": {\"outlinewidth\": 0, \"ticks\": \"\"}, \"colorscale\": [[0.0, \"#0d0887\"], [0.1111111111111111, \"#46039f\"], [0.2222222222222222, \"#7201a8\"], [0.3333333333333333, \"#9c179e\"], [0.4444444444444444, \"#bd3786\"], [0.5555555555555556, \"#d8576b\"], [0.6666666666666666, \"#ed7953\"], [0.7777777777777778, \"#fb9f3a\"], [0.8888888888888888, \"#fdca26\"], [1.0, \"#f0f921\"]], \"type\": \"heatmapgl\"}], \"histogram\": [{\"marker\": {\"colorbar\": {\"outlinewidth\": 0, \"ticks\": \"\"}}, \"type\": \"histogram\"}], \"histogram2d\": [{\"colorbar\": {\"outlinewidth\": 0, \"ticks\": \"\"}, \"colorscale\": [[0.0, \"#0d0887\"], [0.1111111111111111, \"#46039f\"], [0.2222222222222222, \"#7201a8\"], [0.3333333333333333, \"#9c179e\"], [0.4444444444444444, \"#bd3786\"], [0.5555555555555556, \"#d8576b\"], [0.6666666666666666, \"#ed7953\"], [0.7777777777777778, \"#fb9f3a\"], [0.8888888888888888, \"#fdca26\"], [1.0, \"#f0f921\"]], \"type\": \"histogram2d\"}], \"histogram2dcontour\": [{\"colorbar\": {\"outlinewidth\": 0, \"ticks\": \"\"}, \"colorscale\": [[0.0, \"#0d0887\"], [0.1111111111111111, \"#46039f\"], [0.2222222222222222, \"#7201a8\"], [0.3333333333333333, \"#9c179e\"], [0.4444444444444444, \"#bd3786\"], [0.5555555555555556, \"#d8576b\"], [0.6666666666666666, \"#ed7953\"], [0.7777777777777778, \"#fb9f3a\"], [0.8888888888888888, \"#fdca26\"], [1.0, \"#f0f921\"]], \"type\": \"histogram2dcontour\"}], \"mesh3d\": [{\"colorbar\": {\"outlinewidth\": 0, \"ticks\": \"\"}, \"type\": \"mesh3d\"}], \"parcoords\": [{\"line\": {\"colorbar\": {\"outlinewidth\": 0, \"ticks\": \"\"}}, \"type\": \"parcoords\"}], \"pie\": [{\"automargin\": true, \"type\": \"pie\"}], \"scatter\": [{\"marker\": {\"colorbar\": {\"outlinewidth\": 0, \"ticks\": \"\"}}, \"type\": \"scatter\"}], \"scatter3d\": [{\"line\": {\"colorbar\": {\"outlinewidth\": 0, \"ticks\": \"\"}}, \"marker\": {\"colorbar\": {\"outlinewidth\": 0, \"ticks\": \"\"}}, \"type\": \"scatter3d\"}], \"scattercarpet\": [{\"marker\": {\"colorbar\": {\"outlinewidth\": 0, \"ticks\": \"\"}}, \"type\": \"scattercarpet\"}], \"scattergeo\": [{\"marker\": {\"colorbar\": {\"outlinewidth\": 0, \"ticks\": \"\"}}, \"type\": \"scattergeo\"}], \"scattergl\": [{\"marker\": {\"colorbar\": {\"outlinewidth\": 0, \"ticks\": \"\"}}, \"type\": \"scattergl\"}], \"scattermapbox\": [{\"marker\": {\"colorbar\": {\"outlinewidth\": 0, \"ticks\": \"\"}}, \"type\": \"scattermapbox\"}], \"scatterpolar\": [{\"marker\": {\"colorbar\": {\"outlinewidth\": 0, \"ticks\": \"\"}}, \"type\": \"scatterpolar\"}], \"scatterpolargl\": [{\"marker\": {\"colorbar\": {\"outlinewidth\": 0, \"ticks\": \"\"}}, \"type\": \"scatterpolargl\"}], \"scatterternary\": [{\"marker\": {\"colorbar\": {\"outlinewidth\": 0, \"ticks\": \"\"}}, \"type\": \"scatterternary\"}], \"surface\": [{\"colorbar\": {\"outlinewidth\": 0, \"ticks\": \"\"}, \"colorscale\": [[0.0, \"#0d0887\"], [0.1111111111111111, \"#46039f\"], [0.2222222222222222, \"#7201a8\"], [0.3333333333333333, \"#9c179e\"], [0.4444444444444444, \"#bd3786\"], [0.5555555555555556, \"#d8576b\"], [0.6666666666666666, \"#ed7953\"], [0.7777777777777778, \"#fb9f3a\"], [0.8888888888888888, \"#fdca26\"], [1.0, \"#f0f921\"]], \"type\": \"surface\"}], \"table\": [{\"cells\": {\"fill\": {\"color\": \"#EBF0F8\"}, \"line\": {\"color\": \"white\"}}, \"header\": {\"fill\": {\"color\": \"#C8D4E3\"}, \"line\": {\"color\": \"white\"}}, \"type\": \"table\"}]}, \"layout\": {\"annotationdefaults\": {\"arrowcolor\": \"#2a3f5f\", \"arrowhead\": 0, \"arrowwidth\": 1}, \"coloraxis\": {\"colorbar\": {\"outlinewidth\": 0, \"ticks\": \"\"}}, \"colorscale\": {\"diverging\": [[0, \"#8e0152\"], [0.1, \"#c51b7d\"], [0.2, \"#de77ae\"], [0.3, \"#f1b6da\"], [0.4, \"#fde0ef\"], [0.5, \"#f7f7f7\"], [0.6, \"#e6f5d0\"], [0.7, \"#b8e186\"], [0.8, \"#7fbc41\"], [0.9, \"#4d9221\"], [1, \"#276419\"]], \"sequential\": [[0.0, \"#0d0887\"], [0.1111111111111111, \"#46039f\"], [0.2222222222222222, \"#7201a8\"], [0.3333333333333333, \"#9c179e\"], [0.4444444444444444, \"#bd3786\"], [0.5555555555555556, \"#d8576b\"], [0.6666666666666666, \"#ed7953\"], [0.7777777777777778, \"#fb9f3a\"], [0.8888888888888888, \"#fdca26\"], [1.0, \"#f0f921\"]], \"sequentialminus\": [[0.0, \"#0d0887\"], [0.1111111111111111, \"#46039f\"], [0.2222222222222222, \"#7201a8\"], [0.3333333333333333, \"#9c179e\"], [0.4444444444444444, \"#bd3786\"], [0.5555555555555556, \"#d8576b\"], [0.6666666666666666, \"#ed7953\"], [0.7777777777777778, \"#fb9f3a\"], [0.8888888888888888, \"#fdca26\"], [1.0, \"#f0f921\"]]}, \"colorway\": [\"#636efa\", \"#EF553B\", \"#00cc96\", \"#ab63fa\", \"#FFA15A\", \"#19d3f3\", \"#FF6692\", \"#B6E880\", \"#FF97FF\", \"#FECB52\"], \"font\": {\"color\": \"#2a3f5f\"}, \"geo\": {\"bgcolor\": \"white\", \"lakecolor\": \"white\", \"landcolor\": \"#E5ECF6\", \"showlakes\": true, \"showland\": true, \"subunitcolor\": \"white\"}, \"hoverlabel\": {\"align\": \"left\"}, \"hovermode\": \"closest\", \"mapbox\": {\"style\": \"light\"}, \"paper_bgcolor\": \"white\", \"plot_bgcolor\": \"#E5ECF6\", \"polar\": {\"angularaxis\": {\"gridcolor\": \"white\", \"linecolor\": \"white\", \"ticks\": \"\"}, \"bgcolor\": \"#E5ECF6\", \"radialaxis\": {\"gridcolor\": \"white\", \"linecolor\": \"white\", \"ticks\": \"\"}}, \"scene\": {\"xaxis\": {\"backgroundcolor\": \"#E5ECF6\", \"gridcolor\": \"white\", \"gridwidth\": 2, \"linecolor\": \"white\", \"showbackground\": true, \"ticks\": \"\", \"zerolinecolor\": \"white\"}, \"yaxis\": {\"backgroundcolor\": \"#E5ECF6\", \"gridcolor\": \"white\", \"gridwidth\": 2, \"linecolor\": \"white\", \"showbackground\": true, \"ticks\": \"\", \"zerolinecolor\": \"white\"}, \"zaxis\": {\"backgroundcolor\": \"#E5ECF6\", \"gridcolor\": \"white\", \"gridwidth\": 2, \"linecolor\": \"white\", \"showbackground\": true, \"ticks\": \"\", \"zerolinecolor\": \"white\"}}, \"shapedefaults\": {\"line\": {\"color\": \"#2a3f5f\"}}, \"ternary\": {\"aaxis\": {\"gridcolor\": \"white\", \"linecolor\": \"white\", \"ticks\": \"\"}, \"baxis\": {\"gridcolor\": \"white\", \"linecolor\": \"white\", \"ticks\": \"\"}, \"bgcolor\": \"#E5ECF6\", \"caxis\": {\"gridcolor\": \"white\", \"linecolor\": \"white\", \"ticks\": \"\"}}, \"title\": {\"x\": 0.05}, \"xaxis\": {\"automargin\": true, \"gridcolor\": \"white\", \"linecolor\": \"white\", \"ticks\": \"\", \"title\": {\"standoff\": 15}, \"zerolinecolor\": \"white\", \"zerolinewidth\": 2}, \"yaxis\": {\"automargin\": true, \"gridcolor\": \"white\", \"linecolor\": \"white\", \"ticks\": \"\", \"title\": {\"standoff\": 15}, \"zerolinecolor\": \"white\", \"zerolinewidth\": 2}}}, \"xaxis\": {\"anchor\": \"y\", \"domain\": [0.0, 1.0], \"title\": {\"text\": \"# Components\"}}, \"yaxis\": {\"anchor\": \"x\", \"domain\": [0.0, 1.0], \"title\": {\"text\": \"Explained Variance\"}}},\n",
              "                        {\"responsive\": true}\n",
              "                    ).then(function(){\n",
              "                            \n",
              "var gd = document.getElementById('00921f61-98b3-4f0c-b8ea-dca1fbbd0afc');\n",
              "var x = new MutationObserver(function (mutations, observer) {{\n",
              "        var display = window.getComputedStyle(gd).display;\n",
              "        if (!display || display === 'none') {{\n",
              "            console.log([gd, 'removed!']);\n",
              "            Plotly.purge(gd);\n",
              "            observer.disconnect();\n",
              "        }}\n",
              "}});\n",
              "\n",
              "// Listen for the removal of the full notebook cells\n",
              "var notebookContainer = gd.closest('#notebook-container');\n",
              "if (notebookContainer) {{\n",
              "    x.observe(notebookContainer, {childList: true});\n",
              "}}\n",
              "\n",
              "// Listen for the clearing of the current output cell\n",
              "var outputEl = gd.closest('.output');\n",
              "if (outputEl) {{\n",
              "    x.observe(outputEl, {childList: true});\n",
              "}}\n",
              "\n",
              "                        })\n",
              "                };\n",
              "                \n",
              "            </script>\n",
              "        </div>\n",
              "</body>\n",
              "</html>"
            ]
          },
          "metadata": {
            "tags": []
          }
        }
      ]
    },
    {
      "cell_type": "markdown",
      "metadata": {
        "id": "recreational-rendering"
      },
      "source": [
        "Para este 13 componentes"
      ]
    },
    {
      "cell_type": "markdown",
      "metadata": {
        "id": "21zQlGnAxHps"
      },
      "source": [
        "#Nuevos datasets"
      ]
    },
    {
      "cell_type": "code",
      "metadata": {
        "colab": {
          "base_uri": "https://localhost:8080/"
        },
        "id": "maHl5-5f6ODZ",
        "outputId": "f41861ca-7294-4a20-8b4c-e866d58497b5"
      },
      "source": [
        "X_pca_ss = PCA(n_components = 14).fit_transform(static_defenses1)\n",
        "X_pca_ss.shape"
      ],
      "execution_count": null,
      "outputs": [
        {
          "output_type": "execute_result",
          "data": {
            "text/plain": [
              "(12363, 14)"
            ]
          },
          "metadata": {
            "tags": []
          },
          "execution_count": 86
        }
      ]
    },
    {
      "cell_type": "code",
      "metadata": {
        "colab": {
          "base_uri": "https://localhost:8080/"
        },
        "id": "4uGln1fK6ODc",
        "outputId": "30919ae5-d389-41cb-80fe-ef529472b950"
      },
      "source": [
        "X_pca_mms = PCA(n_components = 8).fit_transform(static_defenses2)\n",
        "X_pca_mms.shape"
      ],
      "execution_count": null,
      "outputs": [
        {
          "output_type": "execute_result",
          "data": {
            "text/plain": [
              "(12363, 8)"
            ]
          },
          "metadata": {
            "tags": []
          },
          "execution_count": 87
        }
      ]
    },
    {
      "cell_type": "code",
      "metadata": {
        "colab": {
          "base_uri": "https://localhost:8080/"
        },
        "id": "kHge6u_76ODd",
        "outputId": "87a2602c-d0a8-40cd-d4a4-88040bb73cb9"
      },
      "source": [
        "X_pca_rs = PCA(n_components = 5).fit_transform(static_defenses3)\n",
        "X_pca_rs.shape"
      ],
      "execution_count": null,
      "outputs": [
        {
          "output_type": "execute_result",
          "data": {
            "text/plain": [
              "(12363, 5)"
            ]
          },
          "metadata": {
            "tags": []
          },
          "execution_count": 88
        }
      ]
    },
    {
      "cell_type": "code",
      "metadata": {
        "colab": {
          "base_uri": "https://localhost:8080/"
        },
        "id": "sgrWZV1p6ODf",
        "outputId": "b3a66538-f075-43a3-a24a-15a59ead3231"
      },
      "source": [
        "X_pca_pt = PCA(n_components = 13).fit_transform(static_defenses4)\n",
        "X_pca_pt.shape"
      ],
      "execution_count": null,
      "outputs": [
        {
          "output_type": "execute_result",
          "data": {
            "text/plain": [
              "(12363, 13)"
            ]
          },
          "metadata": {
            "tags": []
          },
          "execution_count": 89
        }
      ]
    },
    {
      "cell_type": "markdown",
      "metadata": {
        "id": "L3VU72zpYFqr"
      },
      "source": [
        "#KNN"
      ]
    },
    {
      "cell_type": "markdown",
      "metadata": {
        "id": "tkyjOQF1xP1u"
      },
      "source": [
        "##StandardScaler"
      ]
    },
    {
      "cell_type": "code",
      "metadata": {
        "colab": {
          "base_uri": "https://localhost:8080/",
          "height": 206
        },
        "id": "mL4vaE1OTg_U",
        "outputId": "955ef3ce-8749-4b26-b819-d407be7be0f4"
      },
      "source": [
        "train_ss = pd.DataFrame(X_pca_ss)\n",
        "train_ss[\"playResult\"] = static_defenses[\"playResult\"].values\n",
        "train_ss.head()"
      ],
      "execution_count": null,
      "outputs": [
        {
          "output_type": "execute_result",
          "data": {
            "text/html": [
              "<div>\n",
              "<style scoped>\n",
              "    .dataframe tbody tr th:only-of-type {\n",
              "        vertical-align: middle;\n",
              "    }\n",
              "\n",
              "    .dataframe tbody tr th {\n",
              "        vertical-align: top;\n",
              "    }\n",
              "\n",
              "    .dataframe thead th {\n",
              "        text-align: right;\n",
              "    }\n",
              "</style>\n",
              "<table border=\"1\" class=\"dataframe\">\n",
              "  <thead>\n",
              "    <tr style=\"text-align: right;\">\n",
              "      <th></th>\n",
              "      <th>0</th>\n",
              "      <th>1</th>\n",
              "      <th>2</th>\n",
              "      <th>3</th>\n",
              "      <th>4</th>\n",
              "      <th>5</th>\n",
              "      <th>6</th>\n",
              "      <th>7</th>\n",
              "      <th>8</th>\n",
              "      <th>9</th>\n",
              "      <th>10</th>\n",
              "      <th>11</th>\n",
              "      <th>12</th>\n",
              "      <th>13</th>\n",
              "      <th>playResult</th>\n",
              "    </tr>\n",
              "  </thead>\n",
              "  <tbody>\n",
              "    <tr>\n",
              "      <th>0</th>\n",
              "      <td>1.092351</td>\n",
              "      <td>-2.375257</td>\n",
              "      <td>-0.363644</td>\n",
              "      <td>1.565847</td>\n",
              "      <td>-2.361185</td>\n",
              "      <td>0.114325</td>\n",
              "      <td>1.000957</td>\n",
              "      <td>-0.344249</td>\n",
              "      <td>-1.714242</td>\n",
              "      <td>0.201704</td>\n",
              "      <td>4.573179</td>\n",
              "      <td>-2.122716</td>\n",
              "      <td>-1.231967</td>\n",
              "      <td>-0.580794</td>\n",
              "      <td>2</td>\n",
              "    </tr>\n",
              "    <tr>\n",
              "      <th>1</th>\n",
              "      <td>0.309173</td>\n",
              "      <td>-1.805309</td>\n",
              "      <td>-1.414376</td>\n",
              "      <td>-0.389621</td>\n",
              "      <td>0.557016</td>\n",
              "      <td>-0.508524</td>\n",
              "      <td>1.048196</td>\n",
              "      <td>-1.407330</td>\n",
              "      <td>-0.550243</td>\n",
              "      <td>-0.415755</td>\n",
              "      <td>-0.354923</td>\n",
              "      <td>0.293803</td>\n",
              "      <td>-0.549693</td>\n",
              "      <td>-0.271974</td>\n",
              "      <td>0</td>\n",
              "    </tr>\n",
              "    <tr>\n",
              "      <th>2</th>\n",
              "      <td>-1.776468</td>\n",
              "      <td>-2.614379</td>\n",
              "      <td>3.378850</td>\n",
              "      <td>1.423912</td>\n",
              "      <td>-0.757615</td>\n",
              "      <td>0.266991</td>\n",
              "      <td>-0.259697</td>\n",
              "      <td>-0.521819</td>\n",
              "      <td>-0.206379</td>\n",
              "      <td>3.805073</td>\n",
              "      <td>-1.112120</td>\n",
              "      <td>-0.775403</td>\n",
              "      <td>-0.444546</td>\n",
              "      <td>-0.930114</td>\n",
              "      <td>0</td>\n",
              "    </tr>\n",
              "    <tr>\n",
              "      <th>3</th>\n",
              "      <td>1.442056</td>\n",
              "      <td>0.951447</td>\n",
              "      <td>-0.718435</td>\n",
              "      <td>-0.867523</td>\n",
              "      <td>-2.117654</td>\n",
              "      <td>1.744920</td>\n",
              "      <td>-0.149562</td>\n",
              "      <td>-0.666288</td>\n",
              "      <td>-1.203691</td>\n",
              "      <td>0.103261</td>\n",
              "      <td>0.248834</td>\n",
              "      <td>-0.238580</td>\n",
              "      <td>0.723099</td>\n",
              "      <td>0.058862</td>\n",
              "      <td>1</td>\n",
              "    </tr>\n",
              "    <tr>\n",
              "      <th>4</th>\n",
              "      <td>-0.099209</td>\n",
              "      <td>0.081162</td>\n",
              "      <td>2.434513</td>\n",
              "      <td>-0.008253</td>\n",
              "      <td>-0.818410</td>\n",
              "      <td>-2.482883</td>\n",
              "      <td>-0.450512</td>\n",
              "      <td>-0.020628</td>\n",
              "      <td>0.416711</td>\n",
              "      <td>-0.824272</td>\n",
              "      <td>-0.827915</td>\n",
              "      <td>0.377317</td>\n",
              "      <td>-0.100807</td>\n",
              "      <td>-0.188015</td>\n",
              "      <td>0</td>\n",
              "    </tr>\n",
              "  </tbody>\n",
              "</table>\n",
              "</div>"
            ],
            "text/plain": [
              "          0         1         2         3         4         5         6  \\\n",
              "0  1.092351 -2.375257 -0.363644  1.565847 -2.361185  0.114325  1.000957   \n",
              "1  0.309173 -1.805309 -1.414376 -0.389621  0.557016 -0.508524  1.048196   \n",
              "2 -1.776468 -2.614379  3.378850  1.423912 -0.757615  0.266991 -0.259697   \n",
              "3  1.442056  0.951447 -0.718435 -0.867523 -2.117654  1.744920 -0.149562   \n",
              "4 -0.099209  0.081162  2.434513 -0.008253 -0.818410 -2.482883 -0.450512   \n",
              "\n",
              "          7         8         9        10        11        12        13  \\\n",
              "0 -0.344249 -1.714242  0.201704  4.573179 -2.122716 -1.231967 -0.580794   \n",
              "1 -1.407330 -0.550243 -0.415755 -0.354923  0.293803 -0.549693 -0.271974   \n",
              "2 -0.521819 -0.206379  3.805073 -1.112120 -0.775403 -0.444546 -0.930114   \n",
              "3 -0.666288 -1.203691  0.103261  0.248834 -0.238580  0.723099  0.058862   \n",
              "4 -0.020628  0.416711 -0.824272 -0.827915  0.377317 -0.100807 -0.188015   \n",
              "\n",
              "   playResult  \n",
              "0           2  \n",
              "1           0  \n",
              "2           0  \n",
              "3           1  \n",
              "4           0  "
            ]
          },
          "metadata": {
            "tags": []
          },
          "execution_count": 301
        }
      ]
    },
    {
      "cell_type": "code",
      "metadata": {
        "id": "sCfTgNtbfFDG",
        "colab": {
          "base_uri": "https://localhost:8080/",
          "height": 300
        },
        "outputId": "864b4d9b-2b30-48c2-bcb7-6514037aa6ae"
      },
      "source": [
        "from sklearn import neighbors\n",
        "from sklearn.model_selection import KFold\n",
        "import matplotlib.pyplot as plt\n",
        "from sklearn.metrics import accuracy_score\n",
        "\n",
        "cv = KFold(n_splits = 5, shuffle = False) #\n",
        "\n",
        "\n",
        "for i, weights in enumerate(['uniform', 'distance']):\n",
        "   total_scores = []\n",
        "   for n_neighbors in range(1,30):\n",
        "       fold_accuracy = []\n",
        "       knn = neighbors.KNeighborsClassifier(n_neighbors, weights=weights)\n",
        "       # verificar cada uno de los modelos con validación cruzada.\n",
        "       for train_fold, test_fold in cv.split(train_ss):\n",
        "          # División train test aleatoria\n",
        "          f_train = train_ss.loc[train_fold]\n",
        "          f_test = train_ss.loc[test_fold]\n",
        "          # entrenamiento y ejecución del modelo\n",
        "          knn.fit( X = f_train.drop([\"playResult\"],axis=1), y = f_train['playResult'])\n",
        "          y_pred = knn.predict(X = f_test.drop(['playResult'], axis = 1))\n",
        "          # evaluación del modelo\n",
        "          acc = accuracy_score(f_test['playResult'], y_pred)\n",
        "          fold_accuracy.append(acc)\n",
        "       total_scores.append(sum(fold_accuracy)/len(fold_accuracy))\n",
        "   \n",
        "   plt.plot(range(1,len(total_scores)+1), total_scores, \n",
        "             marker='o', label=weights)\n",
        "   print ('Max Value ' +  weights + \" : \" +  str(max(total_scores)) +\" (\" + str(np.argmax(total_scores) + 1) + \")\")\n",
        "   plt.ylabel('Acc')   \n",
        "    \n",
        "\n",
        "plt.legend()\n",
        "plt.show() \n",
        "\n"
      ],
      "execution_count": null,
      "outputs": [
        {
          "output_type": "stream",
          "text": [
            "Max Value uniform : 0.42953757045493896 (27)\n",
            "Max Value distance : 0.42245102445421134 (29)\n"
          ],
          "name": "stdout"
        },
        {
          "output_type": "display_data",
          "data": {
            "image/png": "[encoded data removed]",
            "text/plain": [
              "<Figure size 432x288 with 1 Axes>"
            ]
          },
          "metadata": {
            "tags": [],
            "needs_background": "light"
          }
        }
      ]
    },
    {
      "cell_type": "code",
      "metadata": {
        "id": "zKFNOdheYSm_"
      },
      "source": [
        "X_train, X_test, y_train, y_test = train_test_split(X_pca_ss, static_defenses[\"playResult\"], test_size=0.2)"
      ],
      "execution_count": null,
      "outputs": []
    },
    {
      "cell_type": "code",
      "metadata": {
        "id": "CT-gjUX1S9Em",
        "cellView": "both",
        "colab": {
          "base_uri": "https://localhost:8080/"
        },
        "outputId": "140e5bf5-6414-4785-ee17-ab05ef316440"
      },
      "source": [
        "# constructor\n",
        "n_neighbors = 27\n",
        "weights = 'distance'\n",
        "knn = neighbors.KNeighborsClassifier(n_neighbors= n_neighbors, weights=weights) \n",
        "# fit and predict\n",
        "\n",
        "knn.fit( X = X_train, y = y_train)\n",
        "y_pred = knn.predict(X = X_test)\n",
        "acc = accuracy_score(y_test, y_pred)\n",
        "print ('Acc', acc)"
      ],
      "execution_count": null,
      "outputs": [
        {
          "output_type": "stream",
          "text": [
            "Acc 0.40848990953375086\n"
          ],
          "name": "stdout"
        }
      ]
    },
    {
      "cell_type": "code",
      "metadata": {
        "id": "NX9gtCEszUi0"
      },
      "source": [
        "from sklearn.metrics import confusion_matrix\n",
        "from sklearn.utils.multiclass import unique_labels\n",
        "\n",
        "def plot_confusion_matrix(y_true, y_pred, classes,normalize=False,title=None,cmap=plt.cm.Blues):\n",
        "  \n",
        "    if not title:\n",
        "        if normalize:\n",
        "            title = 'Normalized confusion matrix'\n",
        "        else:\n",
        "            title = 'Confusion matrix, without normalization'\n",
        "\n",
        "    # Compute confusion matrix\n",
        "    cm = confusion_matrix(y_true, y_pred)\n",
        "    # Only use the labels that appear in the data\n",
        "    classes = classes[unique_labels(y_true, y_pred)]\n",
        "    if normalize:\n",
        "        cm = cm.astype('float') / cm.sum(axis=1)[:, np.newaxis]\n",
        "        print(\"Normalized confusion matrix\")\n",
        "    else:\n",
        "        print('Confusion matrix, without normalization')\n",
        "\n",
        "    print(cm)\n",
        "\n",
        "    fig, ax = plt.subplots()\n",
        "    im = ax.imshow(cm, interpolation='nearest', cmap=cmap)\n",
        "    ax.figure.colorbar(im, ax=ax)\n",
        "    # We want to show all ticks...\n",
        "    ax.set(xticks=np.arange(cm.shape[1]),\n",
        "           yticks=np.arange(cm.shape[0]),\n",
        "           # ... and label them with the respective list entries\n",
        "           xticklabels=classes, yticklabels=classes,\n",
        "           title=title,\n",
        "           ylabel='True label',\n",
        "           xlabel='Predicted label')\n",
        "\n",
        "    # Rotate the tick labels and set their alignment.\n",
        "    plt.setp(ax.get_xticklabels(), rotation=45, ha=\"right\",\n",
        "             rotation_mode=\"anchor\")\n",
        "\n",
        "    # Loop over data dimensions and create text annotations.\n",
        "    fmt = '.2f' if normalize else 'd'\n",
        "    thresh = cm.max() / 2.\n",
        "    for i in range(cm.shape[0]):\n",
        "        for j in range(cm.shape[1]):\n",
        "            ax.text(j, i, format(cm[i, j], fmt),\n",
        "                    ha=\"center\", va=\"center\",\n",
        "                    color=\"white\" if cm[i, j] > thresh else \"black\")\n",
        "    fig.tight_layout()\n",
        "    return ax"
      ],
      "execution_count": null,
      "outputs": []
    },
    {
      "cell_type": "code",
      "metadata": {
        "id": "jNM0HVdLzVz-",
        "colab": {
          "base_uri": "https://localhost:8080/",
          "height": 384
        },
        "outputId": "41cc3cf6-3a16-4843-c225-b9144e1e44df"
      },
      "source": [
        "plot_confusion_matrix(y_test, y_pred, classes=unique_labels(y_test,y_pred), normalize=True,\n",
        "                      title='Confusion matrix')\n",
        "  "
      ],
      "execution_count": null,
      "outputs": [
        {
          "output_type": "stream",
          "text": [
            "Normalized confusion matrix\n",
            "[[0.05154639 0.68041237 0.26804124]\n",
            " [0.02889246 0.62921348 0.34189406]\n",
            " [0.03632887 0.61950287 0.34416826]]\n"
          ],
          "name": "stdout"
        },
        {
          "output_type": "execute_result",
          "data": {
            "text/plain": [
              "<matplotlib.axes._subplots.AxesSubplot at 0x7f4e0620b7d0>"
            ]
          },
          "metadata": {
            "tags": []
          },
          "execution_count": 305
        },
        {
          "output_type": "display_data",
          "data": {
            "image/png": "[encoded data removed]",
            "text/plain": [
              "<Figure size 432x288 with 2 Axes>"
            ]
          },
          "metadata": {
            "tags": [],
            "needs_background": "light"
          }
        }
      ]
    },
    {
      "cell_type": "markdown",
      "metadata": {
        "id": "N0Ufi6nfxRjd"
      },
      "source": [
        "##MinMaxScaler"
      ]
    },
    {
      "cell_type": "code",
      "metadata": {
        "colab": {
          "base_uri": "https://localhost:8080/",
          "height": 206
        },
        "id": "6Dd7r0l0bmpz",
        "outputId": "3d52a40e-4565-4529-cf0a-734dd20b6114"
      },
      "source": [
        "train_ss = pd.DataFrame(X_pca_ss)\n",
        "train_ss[\"playResult\"] = static_defenses[\"playResult\"].values\n",
        "train_ss.head()"
      ],
      "execution_count": null,
      "outputs": [
        {
          "output_type": "execute_result",
          "data": {
            "text/html": [
              "<div>\n",
              "<style scoped>\n",
              "    .dataframe tbody tr th:only-of-type {\n",
              "        vertical-align: middle;\n",
              "    }\n",
              "\n",
              "    .dataframe tbody tr th {\n",
              "        vertical-align: top;\n",
              "    }\n",
              "\n",
              "    .dataframe thead th {\n",
              "        text-align: right;\n",
              "    }\n",
              "</style>\n",
              "<table border=\"1\" class=\"dataframe\">\n",
              "  <thead>\n",
              "    <tr style=\"text-align: right;\">\n",
              "      <th></th>\n",
              "      <th>0</th>\n",
              "      <th>1</th>\n",
              "      <th>2</th>\n",
              "      <th>3</th>\n",
              "      <th>4</th>\n",
              "      <th>5</th>\n",
              "      <th>6</th>\n",
              "      <th>7</th>\n",
              "      <th>8</th>\n",
              "      <th>9</th>\n",
              "      <th>10</th>\n",
              "      <th>11</th>\n",
              "      <th>12</th>\n",
              "      <th>13</th>\n",
              "      <th>playResult</th>\n",
              "    </tr>\n",
              "  </thead>\n",
              "  <tbody>\n",
              "    <tr>\n",
              "      <th>0</th>\n",
              "      <td>1.092351</td>\n",
              "      <td>-2.375257</td>\n",
              "      <td>-0.363644</td>\n",
              "      <td>1.565847</td>\n",
              "      <td>-2.361185</td>\n",
              "      <td>0.114325</td>\n",
              "      <td>1.000957</td>\n",
              "      <td>-0.344249</td>\n",
              "      <td>-1.714242</td>\n",
              "      <td>0.201704</td>\n",
              "      <td>4.573179</td>\n",
              "      <td>-2.122716</td>\n",
              "      <td>-1.231967</td>\n",
              "      <td>-0.580794</td>\n",
              "      <td>2</td>\n",
              "    </tr>\n",
              "    <tr>\n",
              "      <th>1</th>\n",
              "      <td>0.309173</td>\n",
              "      <td>-1.805309</td>\n",
              "      <td>-1.414376</td>\n",
              "      <td>-0.389621</td>\n",
              "      <td>0.557016</td>\n",
              "      <td>-0.508524</td>\n",
              "      <td>1.048196</td>\n",
              "      <td>-1.407330</td>\n",
              "      <td>-0.550243</td>\n",
              "      <td>-0.415755</td>\n",
              "      <td>-0.354923</td>\n",
              "      <td>0.293803</td>\n",
              "      <td>-0.549693</td>\n",
              "      <td>-0.271974</td>\n",
              "      <td>0</td>\n",
              "    </tr>\n",
              "    <tr>\n",
              "      <th>2</th>\n",
              "      <td>-1.776468</td>\n",
              "      <td>-2.614379</td>\n",
              "      <td>3.378850</td>\n",
              "      <td>1.423912</td>\n",
              "      <td>-0.757615</td>\n",
              "      <td>0.266991</td>\n",
              "      <td>-0.259697</td>\n",
              "      <td>-0.521819</td>\n",
              "      <td>-0.206379</td>\n",
              "      <td>3.805073</td>\n",
              "      <td>-1.112120</td>\n",
              "      <td>-0.775403</td>\n",
              "      <td>-0.444546</td>\n",
              "      <td>-0.930114</td>\n",
              "      <td>0</td>\n",
              "    </tr>\n",
              "    <tr>\n",
              "      <th>3</th>\n",
              "      <td>1.442056</td>\n",
              "      <td>0.951447</td>\n",
              "      <td>-0.718435</td>\n",
              "      <td>-0.867523</td>\n",
              "      <td>-2.117654</td>\n",
              "      <td>1.744920</td>\n",
              "      <td>-0.149562</td>\n",
              "      <td>-0.666288</td>\n",
              "      <td>-1.203691</td>\n",
              "      <td>0.103261</td>\n",
              "      <td>0.248834</td>\n",
              "      <td>-0.238580</td>\n",
              "      <td>0.723099</td>\n",
              "      <td>0.058862</td>\n",
              "      <td>1</td>\n",
              "    </tr>\n",
              "    <tr>\n",
              "      <th>4</th>\n",
              "      <td>-0.099209</td>\n",
              "      <td>0.081162</td>\n",
              "      <td>2.434513</td>\n",
              "      <td>-0.008253</td>\n",
              "      <td>-0.818410</td>\n",
              "      <td>-2.482883</td>\n",
              "      <td>-0.450512</td>\n",
              "      <td>-0.020628</td>\n",
              "      <td>0.416711</td>\n",
              "      <td>-0.824272</td>\n",
              "      <td>-0.827915</td>\n",
              "      <td>0.377317</td>\n",
              "      <td>-0.100807</td>\n",
              "      <td>-0.188015</td>\n",
              "      <td>0</td>\n",
              "    </tr>\n",
              "  </tbody>\n",
              "</table>\n",
              "</div>"
            ],
            "text/plain": [
              "          0         1         2         3         4         5         6  \\\n",
              "0  1.092351 -2.375257 -0.363644  1.565847 -2.361185  0.114325  1.000957   \n",
              "1  0.309173 -1.805309 -1.414376 -0.389621  0.557016 -0.508524  1.048196   \n",
              "2 -1.776468 -2.614379  3.378850  1.423912 -0.757615  0.266991 -0.259697   \n",
              "3  1.442056  0.951447 -0.718435 -0.867523 -2.117654  1.744920 -0.149562   \n",
              "4 -0.099209  0.081162  2.434513 -0.008253 -0.818410 -2.482883 -0.450512   \n",
              "\n",
              "          7         8         9        10        11        12        13  \\\n",
              "0 -0.344249 -1.714242  0.201704  4.573179 -2.122716 -1.231967 -0.580794   \n",
              "1 -1.407330 -0.550243 -0.415755 -0.354923  0.293803 -0.549693 -0.271974   \n",
              "2 -0.521819 -0.206379  3.805073 -1.112120 -0.775403 -0.444546 -0.930114   \n",
              "3 -0.666288 -1.203691  0.103261  0.248834 -0.238580  0.723099  0.058862   \n",
              "4 -0.020628  0.416711 -0.824272 -0.827915  0.377317 -0.100807 -0.188015   \n",
              "\n",
              "   playResult  \n",
              "0           2  \n",
              "1           0  \n",
              "2           0  \n",
              "3           1  \n",
              "4           0  "
            ]
          },
          "metadata": {
            "tags": []
          },
          "execution_count": 306
        }
      ]
    },
    {
      "cell_type": "code",
      "metadata": {
        "colab": {
          "base_uri": "https://localhost:8080/",
          "height": 301
        },
        "id": "8ESG25OQbmp3",
        "outputId": "e4d7b9b7-1fc7-408d-9de4-7f975fea3c5c"
      },
      "source": [
        "from sklearn import neighbors\n",
        "from sklearn.model_selection import KFold\n",
        "import matplotlib.pyplot as plt\n",
        "from sklearn.metrics import mean_absolute_error\n",
        "\n",
        "cv = KFold(n_splits = 10, shuffle = False) #\n",
        "\n",
        "\n",
        "for i, weights in enumerate(['uniform', 'distance']):\n",
        "   total_scores = []\n",
        "   for n_neighbors in range(1,30):\n",
        "       fold_accuracy = []\n",
        "       knn = neighbors.KNeighborsClassifier(n_neighbors, weights=weights)\n",
        "       # verificar cada uno de los modelos con validación cruzada.\n",
        "       for train_fold, test_fold in cv.split(train_ss):\n",
        "          # División train test aleatoria\n",
        "          f_train = train_ss.loc[train_fold]\n",
        "          f_test = train_ss.loc[test_fold]\n",
        "          # entrenamiento y ejecución del modelo\n",
        "          knn.fit( X = f_train.drop([\"playResult\"],axis=1), y = f_train['playResult'])\n",
        "          y_pred = knn.predict(X = f_test.drop(['playResult'], axis = 1))\n",
        "          # evaluación del modelo\n",
        "          acc = accuracy_score(f_test['playResult'], y_pred)\n",
        "          fold_accuracy.append(acc)\n",
        "       total_scores.append(sum(fold_accuracy)/len(fold_accuracy))\n",
        "   \n",
        "   plt.plot(range(1,len(total_scores)+1), total_scores, \n",
        "             marker='o', label=weights)\n",
        "   print ('Max Value ' +  weights + \" : \" +  str(max(total_scores)) +\" (\" + str(np.argmax(total_scores) + 1) + \")\")\n",
        "   plt.ylabel('Acc')        \n",
        "    \n",
        "\n",
        "plt.legend()\n",
        "plt.show() \n",
        "\n"
      ],
      "execution_count": null,
      "outputs": [
        {
          "output_type": "stream",
          "text": [
            "Max Value uniform : 0.4280093971279201 (28)\n",
            "Max Value distance : 0.4225334485590941 (28)\n"
          ],
          "name": "stdout"
        },
        {
          "output_type": "display_data",
          "data": {
            "image/png": "[encoded data removed]",
            "text/plain": [
              "<Figure size 432x288 with 1 Axes>"
            ]
          },
          "metadata": {
            "tags": [],
            "needs_background": "light"
          }
        }
      ]
    },
    {
      "cell_type": "code",
      "metadata": {
        "id": "5s11li8ttcWz"
      },
      "source": [
        "X_train, X_test, y_train, y_test = train_test_split(X_pca_mms, static_defenses[\"playResult\"], test_size=0.2)"
      ],
      "execution_count": null,
      "outputs": []
    },
    {
      "cell_type": "code",
      "metadata": {
        "cellView": "both",
        "colab": {
          "base_uri": "https://localhost:8080/"
        },
        "id": "bHHsGW0Cbmp4",
        "outputId": "be6081bb-d89a-498f-92fc-3b617d7bbfb0"
      },
      "source": [
        "# constructor\n",
        "n_neighbors = 28\n",
        "weights = 'distance'\n",
        "knn = neighbors.KNeighborsClassifier(n_neighbors= n_neighbors, weights=weights) \n",
        "# fit and predict\n",
        "\n",
        "knn.fit( X = X_train, y = y_train)\n",
        "y_pred = knn.predict(X = X_test)\n",
        "acc = accuracy_score(y_test, y_pred)\n",
        "print ('Acc', acc)"
      ],
      "execution_count": null,
      "outputs": [
        {
          "output_type": "stream",
          "text": [
            "Acc 0.4194847020933977\n"
          ],
          "name": "stdout"
        }
      ]
    },
    {
      "cell_type": "code",
      "metadata": {
        "colab": {
          "base_uri": "https://localhost:8080/",
          "height": 384
        },
        "id": "Ul44XiWDs42i",
        "outputId": "1858c5a8-b92c-4057-c42e-6f7f789cb14d"
      },
      "source": [
        "plot_confusion_matrix(y_test, y_pred, classes=unique_labels(y_test,y_pred), normalize=True,\n",
        "                      title='Confusion matrix')\n",
        "  "
      ],
      "execution_count": null,
      "outputs": [
        {
          "output_type": "stream",
          "text": [
            "Normalized confusion matrix\n",
            "[[0.66958808 0.04119194 0.28921998]\n",
            " [0.63434343 0.04040404 0.32525253]\n",
            " [0.64740566 0.04834906 0.30424528]]\n"
          ],
          "name": "stdout"
        },
        {
          "output_type": "execute_result",
          "data": {
            "text/plain": [
              "<matplotlib.axes._subplots.AxesSubplot at 0x7f4e05214a10>"
            ]
          },
          "metadata": {
            "tags": []
          },
          "execution_count": 311
        },
        {
          "output_type": "display_data",
          "data": {
            "image/png": "[encoded data removed]",
            "text/plain": [
              "<Figure size 432x288 with 2 Axes>"
            ]
          },
          "metadata": {
            "tags": [],
            "needs_background": "light"
          }
        }
      ]
    },
    {
      "cell_type": "markdown",
      "metadata": {
        "id": "8-ALF0NXxTPT"
      },
      "source": [
        "##RobustScaler"
      ]
    },
    {
      "cell_type": "code",
      "metadata": {
        "colab": {
          "base_uri": "https://localhost:8080/",
          "height": 206
        },
        "id": "TeaSc9RwbpBp",
        "outputId": "3882abd0-6d5b-4802-f349-691a06f0b060"
      },
      "source": [
        "train_rs = pd.DataFrame(X_pca_rs)\n",
        "train_rs[\"playResult\"] = static_defenses[\"playResult\"].values\n",
        "train_rs.head()"
      ],
      "execution_count": null,
      "outputs": [
        {
          "output_type": "execute_result",
          "data": {
            "text/html": [
              "<div>\n",
              "<style scoped>\n",
              "    .dataframe tbody tr th:only-of-type {\n",
              "        vertical-align: middle;\n",
              "    }\n",
              "\n",
              "    .dataframe tbody tr th {\n",
              "        vertical-align: top;\n",
              "    }\n",
              "\n",
              "    .dataframe thead th {\n",
              "        text-align: right;\n",
              "    }\n",
              "</style>\n",
              "<table border=\"1\" class=\"dataframe\">\n",
              "  <thead>\n",
              "    <tr style=\"text-align: right;\">\n",
              "      <th></th>\n",
              "      <th>0</th>\n",
              "      <th>1</th>\n",
              "      <th>2</th>\n",
              "      <th>3</th>\n",
              "      <th>4</th>\n",
              "      <th>playResult</th>\n",
              "    </tr>\n",
              "  </thead>\n",
              "  <tbody>\n",
              "    <tr>\n",
              "      <th>0</th>\n",
              "      <td>-3.094566</td>\n",
              "      <td>1.231072</td>\n",
              "      <td>-0.416059</td>\n",
              "      <td>-1.491454</td>\n",
              "      <td>-0.343607</td>\n",
              "      <td>2</td>\n",
              "    </tr>\n",
              "    <tr>\n",
              "      <th>1</th>\n",
              "      <td>-2.792118</td>\n",
              "      <td>1.323250</td>\n",
              "      <td>-0.871499</td>\n",
              "      <td>-1.202973</td>\n",
              "      <td>-0.798171</td>\n",
              "      <td>0</td>\n",
              "    </tr>\n",
              "    <tr>\n",
              "      <th>2</th>\n",
              "      <td>-3.514882</td>\n",
              "      <td>-0.398284</td>\n",
              "      <td>-1.036714</td>\n",
              "      <td>-1.728130</td>\n",
              "      <td>-1.207033</td>\n",
              "      <td>0</td>\n",
              "    </tr>\n",
              "    <tr>\n",
              "      <th>3</th>\n",
              "      <td>-2.996167</td>\n",
              "      <td>2.176192</td>\n",
              "      <td>0.401912</td>\n",
              "      <td>0.745607</td>\n",
              "      <td>-0.091481</td>\n",
              "      <td>1</td>\n",
              "    </tr>\n",
              "    <tr>\n",
              "      <th>4</th>\n",
              "      <td>-3.540146</td>\n",
              "      <td>0.960876</td>\n",
              "      <td>-0.283529</td>\n",
              "      <td>0.119248</td>\n",
              "      <td>-0.185623</td>\n",
              "      <td>0</td>\n",
              "    </tr>\n",
              "  </tbody>\n",
              "</table>\n",
              "</div>"
            ],
            "text/plain": [
              "          0         1         2         3         4  playResult\n",
              "0 -3.094566  1.231072 -0.416059 -1.491454 -0.343607           2\n",
              "1 -2.792118  1.323250 -0.871499 -1.202973 -0.798171           0\n",
              "2 -3.514882 -0.398284 -1.036714 -1.728130 -1.207033           0\n",
              "3 -2.996167  2.176192  0.401912  0.745607 -0.091481           1\n",
              "4 -3.540146  0.960876 -0.283529  0.119248 -0.185623           0"
            ]
          },
          "metadata": {
            "tags": []
          },
          "execution_count": 312
        }
      ]
    },
    {
      "cell_type": "code",
      "metadata": {
        "colab": {
          "base_uri": "https://localhost:8080/",
          "height": 300
        },
        "id": "zbZBx5nxbpBq",
        "outputId": "0570c7e2-6fc0-4ad3-b9bd-fa79bb556015"
      },
      "source": [
        "from sklearn import neighbors\n",
        "from sklearn.model_selection import KFold\n",
        "import matplotlib.pyplot as plt\n",
        "from sklearn.metrics import mean_absolute_error\n",
        "\n",
        "cv = KFold(n_splits = 5, shuffle = False) #\n",
        "\n",
        "\n",
        "for i, weights in enumerate(['uniform', 'distance']):\n",
        "   total_scores = []\n",
        "   for n_neighbors in range(1,30):\n",
        "       fold_accuracy = []\n",
        "       knn = neighbors.KNeighborsClassifier(n_neighbors, weights=weights)\n",
        "       # verificar cada uno de los modelos con validación cruzada.\n",
        "       for train_fold, test_fold in cv.split(train_rs):\n",
        "          # División train test aleatoria\n",
        "          f_train = train_ss.loc[train_fold]\n",
        "          f_test = train_ss.loc[test_fold]\n",
        "          # entrenamiento y ejecución del modelo\n",
        "          knn.fit( X = f_train.drop([\"playResult\"],axis=1), y = f_train['playResult'])\n",
        "          y_pred = knn.predict(X = f_test.drop(['playResult'], axis = 1))\n",
        "          # evaluación del modelo\n",
        "          acc = accuracy_score(f_test['playResult'], y_pred)\n",
        "          fold_accuracy.append(acc)\n",
        "       total_scores.append(sum(fold_accuracy)/len(fold_accuracy))\n",
        "   \n",
        "   plt.plot(range(1,len(total_scores)+1), total_scores, \n",
        "             marker='o', label=weights)\n",
        "   print ('Max Value ' +  weights + \" : \" +  str(max(total_scores)) +\" (\" + str(np.argmax(total_scores) + 1) + \")\")\n",
        "   plt.ylabel('Acc')   \n",
        "    \n",
        "\n",
        "plt.legend()\n",
        "plt.show() \n",
        "\n"
      ],
      "execution_count": null,
      "outputs": [
        {
          "output_type": "stream",
          "text": [
            "Max Value uniform : 0.42953757045493896 (27)\n",
            "Max Value distance : 0.42245102445421134 (29)\n"
          ],
          "name": "stdout"
        },
        {
          "output_type": "display_data",
          "data": {
            "image/png": "[encoded data removed]",
            "text/plain": [
              "<Figure size 432x288 with 1 Axes>"
            ]
          },
          "metadata": {
            "tags": [],
            "needs_background": "light"
          }
        }
      ]
    },
    {
      "cell_type": "code",
      "metadata": {
        "id": "3XX6SEyttjHn"
      },
      "source": [
        "X_train, X_test, y_train, y_test = train_test_split(X_pca_rs, static_defenses[\"playResult\"], test_size=0.2)"
      ],
      "execution_count": null,
      "outputs": []
    },
    {
      "cell_type": "code",
      "metadata": {
        "cellView": "both",
        "colab": {
          "base_uri": "https://localhost:8080/"
        },
        "id": "qPN5_sPebpBq",
        "outputId": "5ae2dfe9-9f38-4a7b-95d8-40a37465594d"
      },
      "source": [
        "# constructor\n",
        "n_neighbors = 27\n",
        "weights = 'uniform'\n",
        "knn = neighbors.KNeighborsClassifier(n_neighbors= n_neighbors, weights=weights) \n",
        "# fit and predict\n",
        "\n",
        "knn.fit( X = X_train, y = y_train)\n",
        "y_pred = knn.predict(X = X_test)\n",
        "acc = accuracy_score(y_test, y_pred)\n",
        "print ('Acc', acc)"
      ],
      "execution_count": null,
      "outputs": [
        {
          "output_type": "stream",
          "text": [
            "Acc 0.43156199677938806\n"
          ],
          "name": "stdout"
        }
      ]
    },
    {
      "cell_type": "code",
      "metadata": {
        "colab": {
          "base_uri": "https://localhost:8080/",
          "height": 384
        },
        "id": "oyPsRt0Us74t",
        "outputId": "bb7f099f-958a-4576-9e55-2d5dd9a27d28"
      },
      "source": [
        "plot_confusion_matrix(y_test, y_pred, classes=unique_labels(y_test,y_pred), normalize=True,\n",
        "                      title='Confusion matrix')\n",
        "  "
      ],
      "execution_count": null,
      "outputs": [
        {
          "output_type": "stream",
          "text": [
            "Normalized confusion matrix\n",
            "[[0.72647318 0.02550572 0.24802111]\n",
            " [0.69247312 0.02365591 0.28387097]\n",
            " [0.70181406 0.03174603 0.26643991]]\n"
          ],
          "name": "stdout"
        },
        {
          "output_type": "execute_result",
          "data": {
            "text/plain": [
              "<matplotlib.axes._subplots.AxesSubplot at 0x7f4e04b6c990>"
            ]
          },
          "metadata": {
            "tags": []
          },
          "execution_count": 316
        },
        {
          "output_type": "display_data",
          "data": {
            "image/png": "[encoded data removed]",
            "text/plain": [
              "<Figure size 432x288 with 2 Axes>"
            ]
          },
          "metadata": {
            "tags": [],
            "needs_background": "light"
          }
        }
      ]
    },
    {
      "cell_type": "markdown",
      "metadata": {
        "id": "1-hVI-qRxV2j"
      },
      "source": [
        "##PowerTransformer"
      ]
    },
    {
      "cell_type": "code",
      "metadata": {
        "colab": {
          "base_uri": "https://localhost:8080/",
          "height": 206
        },
        "id": "NrrKQhOwbsef",
        "outputId": "dcb478e3-f815-4e96-901c-3f33aafcaec2"
      },
      "source": [
        "train_pt = pd.DataFrame(X_pca_pt)\n",
        "train_pt[\"playResult\"] = static_defenses[\"playResult\"].values\n",
        "train_pt.head()"
      ],
      "execution_count": null,
      "outputs": [
        {
          "output_type": "execute_result",
          "data": {
            "text/html": [
              "<div>\n",
              "<style scoped>\n",
              "    .dataframe tbody tr th:only-of-type {\n",
              "        vertical-align: middle;\n",
              "    }\n",
              "\n",
              "    .dataframe tbody tr th {\n",
              "        vertical-align: top;\n",
              "    }\n",
              "\n",
              "    .dataframe thead th {\n",
              "        text-align: right;\n",
              "    }\n",
              "</style>\n",
              "<table border=\"1\" class=\"dataframe\">\n",
              "  <thead>\n",
              "    <tr style=\"text-align: right;\">\n",
              "      <th></th>\n",
              "      <th>0</th>\n",
              "      <th>1</th>\n",
              "      <th>2</th>\n",
              "      <th>3</th>\n",
              "      <th>4</th>\n",
              "      <th>5</th>\n",
              "      <th>6</th>\n",
              "      <th>7</th>\n",
              "      <th>8</th>\n",
              "      <th>9</th>\n",
              "      <th>10</th>\n",
              "      <th>11</th>\n",
              "      <th>12</th>\n",
              "      <th>playResult</th>\n",
              "    </tr>\n",
              "  </thead>\n",
              "  <tbody>\n",
              "    <tr>\n",
              "      <th>0</th>\n",
              "      <td>-0.918451</td>\n",
              "      <td>2.545004</td>\n",
              "      <td>-0.571638</td>\n",
              "      <td>-1.860245</td>\n",
              "      <td>-2.118816</td>\n",
              "      <td>0.370705</td>\n",
              "      <td>-1.959118</td>\n",
              "      <td>-1.608344</td>\n",
              "      <td>2.475429</td>\n",
              "      <td>3.653217</td>\n",
              "      <td>2.018998</td>\n",
              "      <td>-0.782918</td>\n",
              "      <td>0.895508</td>\n",
              "      <td>2</td>\n",
              "    </tr>\n",
              "    <tr>\n",
              "      <th>1</th>\n",
              "      <td>-0.252021</td>\n",
              "      <td>1.804681</td>\n",
              "      <td>-1.480887</td>\n",
              "      <td>0.126795</td>\n",
              "      <td>0.984615</td>\n",
              "      <td>-0.036604</td>\n",
              "      <td>-2.336800</td>\n",
              "      <td>-0.233366</td>\n",
              "      <td>0.290668</td>\n",
              "      <td>-0.583880</td>\n",
              "      <td>-0.618161</td>\n",
              "      <td>-0.054135</td>\n",
              "      <td>0.565390</td>\n",
              "      <td>0</td>\n",
              "    </tr>\n",
              "    <tr>\n",
              "      <th>2</th>\n",
              "      <td>2.466449</td>\n",
              "      <td>2.570463</td>\n",
              "      <td>3.385983</td>\n",
              "      <td>-1.886781</td>\n",
              "      <td>-0.593943</td>\n",
              "      <td>0.622752</td>\n",
              "      <td>-1.007688</td>\n",
              "      <td>0.117520</td>\n",
              "      <td>-3.277763</td>\n",
              "      <td>1.981460</td>\n",
              "      <td>-1.223908</td>\n",
              "      <td>-0.461270</td>\n",
              "      <td>-0.356456</td>\n",
              "      <td>0</td>\n",
              "    </tr>\n",
              "    <tr>\n",
              "      <th>3</th>\n",
              "      <td>-1.977075</td>\n",
              "      <td>-1.253661</td>\n",
              "      <td>-0.651970</td>\n",
              "      <td>1.001986</td>\n",
              "      <td>-2.139490</td>\n",
              "      <td>1.653708</td>\n",
              "      <td>-0.614016</td>\n",
              "      <td>-0.921469</td>\n",
              "      <td>-0.344567</td>\n",
              "      <td>0.141029</td>\n",
              "      <td>1.042574</td>\n",
              "      <td>0.177638</td>\n",
              "      <td>-0.769709</td>\n",
              "      <td>1</td>\n",
              "    </tr>\n",
              "    <tr>\n",
              "      <th>4</th>\n",
              "      <td>0.133085</td>\n",
              "      <td>-0.505937</td>\n",
              "      <td>2.366207</td>\n",
              "      <td>0.095400</td>\n",
              "      <td>-0.854854</td>\n",
              "      <td>-2.607872</td>\n",
              "      <td>-0.256706</td>\n",
              "      <td>0.125015</td>\n",
              "      <td>-0.225992</td>\n",
              "      <td>-1.299065</td>\n",
              "      <td>-0.084563</td>\n",
              "      <td>0.049070</td>\n",
              "      <td>-0.152829</td>\n",
              "      <td>0</td>\n",
              "    </tr>\n",
              "  </tbody>\n",
              "</table>\n",
              "</div>"
            ],
            "text/plain": [
              "          0         1         2         3         4         5         6  \\\n",
              "0 -0.918451  2.545004 -0.571638 -1.860245 -2.118816  0.370705 -1.959118   \n",
              "1 -0.252021  1.804681 -1.480887  0.126795  0.984615 -0.036604 -2.336800   \n",
              "2  2.466449  2.570463  3.385983 -1.886781 -0.593943  0.622752 -1.007688   \n",
              "3 -1.977075 -1.253661 -0.651970  1.001986 -2.139490  1.653708 -0.614016   \n",
              "4  0.133085 -0.505937  2.366207  0.095400 -0.854854 -2.607872 -0.256706   \n",
              "\n",
              "          7         8         9        10        11        12  playResult  \n",
              "0 -1.608344  2.475429  3.653217  2.018998 -0.782918  0.895508           2  \n",
              "1 -0.233366  0.290668 -0.583880 -0.618161 -0.054135  0.565390           0  \n",
              "2  0.117520 -3.277763  1.981460 -1.223908 -0.461270 -0.356456           0  \n",
              "3 -0.921469 -0.344567  0.141029  1.042574  0.177638 -0.769709           1  \n",
              "4  0.125015 -0.225992 -1.299065 -0.084563  0.049070 -0.152829           0  "
            ]
          },
          "metadata": {
            "tags": []
          },
          "execution_count": 317
        }
      ]
    },
    {
      "cell_type": "code",
      "metadata": {
        "colab": {
          "base_uri": "https://localhost:8080/",
          "height": 300
        },
        "id": "ykOhhE3pbseh",
        "outputId": "ce716c35-96d0-4341-df45-94f73cc11249"
      },
      "source": [
        "from sklearn import neighbors\n",
        "from sklearn.model_selection import KFold\n",
        "import matplotlib.pyplot as plt\n",
        "from sklearn.metrics import mean_absolute_error\n",
        "\n",
        "cv = KFold(n_splits = 5, shuffle = False) #\n",
        "\n",
        "\n",
        "for i, weights in enumerate(['uniform', 'distance']):\n",
        "   total_scores = []\n",
        "   for n_neighbors in range(1,30):\n",
        "       fold_accuracy = []\n",
        "       knn = neighbors.KNeighborsClassifier(n_neighbors, weights=weights)\n",
        "       # verificar cada uno de los modelos con validación cruzada.\n",
        "       for train_fold, test_fold in cv.split(train_pt):\n",
        "          # División train test aleatoria\n",
        "          f_train = train_ss.loc[train_fold]\n",
        "          f_test = train_ss.loc[test_fold]\n",
        "          # entrenamiento y ejecución del modelo\n",
        "          knn.fit( X = f_train.drop([\"playResult\"],axis=1), y = f_train['playResult'])\n",
        "          y_pred = knn.predict(X = f_test.drop(['playResult'], axis = 1))\n",
        "          # evaluación del modelo\n",
        "          acc = accuracy_score(f_test['playResult'], y_pred)\n",
        "          fold_accuracy.append(acc)\n",
        "       total_scores.append(sum(fold_accuracy)/len(fold_accuracy))\n",
        "   \n",
        "   plt.plot(range(1,len(total_scores)+1), total_scores, \n",
        "             marker='o', label=weights)\n",
        "   print ('Max Value ' +  weights + \" : \" +  str(max(total_scores)) +\" (\" + str(np.argmax(total_scores) + 1) + \")\")\n",
        "   plt.ylabel('Acc')    \n",
        "    \n",
        "\n",
        "plt.legend()\n",
        "plt.show() \n",
        "\n"
      ],
      "execution_count": null,
      "outputs": [
        {
          "output_type": "stream",
          "text": [
            "Max Value uniform : 0.42953757045493896 (27)\n",
            "Max Value distance : 0.42245102445421134 (29)\n"
          ],
          "name": "stdout"
        },
        {
          "output_type": "display_data",
          "data": {
            "image/png": "[encoded data removed]",
            "text/plain": [
              "<Figure size 432x288 with 1 Axes>"
            ]
          },
          "metadata": {
            "tags": [],
            "needs_background": "light"
          }
        }
      ]
    },
    {
      "cell_type": "code",
      "metadata": {
        "id": "cFbeoVcCt6vJ"
      },
      "source": [
        "X_train, X_test, y_train, y_test = train_test_split(X_pca_pt, static_defenses[\"playResult\"], test_size=0.2)"
      ],
      "execution_count": null,
      "outputs": []
    },
    {
      "cell_type": "code",
      "metadata": {
        "cellView": "both",
        "colab": {
          "base_uri": "https://localhost:8080/"
        },
        "id": "gGP0ihMhbsei",
        "outputId": "dbf2277c-41cf-4162-9a6a-6b16cb2225dc"
      },
      "source": [
        "# constructor\n",
        "n_neighbors = 20\n",
        "weights = 'distance'\n",
        "knn = neighbors.KNeighborsClassifier(n_neighbors= n_neighbors, weights=weights) \n",
        "# fit and predict\n",
        "\n",
        "knn.fit( X = X_train, y = y_train)\n",
        "y_pred = knn.predict(X = X_test)\n",
        "acc = accuracy_score(y_test, y_pred)\n",
        "print ('Acc', acc)"
      ],
      "execution_count": null,
      "outputs": [
        {
          "output_type": "stream",
          "text": [
            "Acc 0.4086151368760064\n"
          ],
          "name": "stdout"
        }
      ]
    },
    {
      "cell_type": "code",
      "metadata": {
        "colab": {
          "base_uri": "https://localhost:8080/",
          "height": 384
        },
        "id": "irXXDhwEs-FQ",
        "outputId": "b860b26d-63c6-49db-8936-158307b70d61"
      },
      "source": [
        "plot_confusion_matrix(y_test, y_pred, classes=unique_labels(y_test,y_pred), normalize=True,\n",
        "                      title='Confusion matrix')\n",
        "  "
      ],
      "execution_count": null,
      "outputs": [
        {
          "output_type": "stream",
          "text": [
            "Normalized confusion matrix\n",
            "[[0.65868794 0.04255319 0.29875887]\n",
            " [0.64937759 0.04356846 0.30705394]\n",
            " [0.66018307 0.05263158 0.28718535]]\n"
          ],
          "name": "stdout"
        },
        {
          "output_type": "execute_result",
          "data": {
            "text/plain": [
              "<matplotlib.axes._subplots.AxesSubplot at 0x7f4e04aa2650>"
            ]
          },
          "metadata": {
            "tags": []
          },
          "execution_count": 321
        },
        {
          "output_type": "display_data",
          "data": {
            "image/png": "[encoded data removed]",
            "text/plain": [
              "<Figure size 432x288 with 2 Axes>"
            ]
          },
          "metadata": {
            "tags": [],
            "needs_background": "light"
          }
        }
      ]
    },
    {
      "cell_type": "markdown",
      "metadata": {
        "id": "4Kw_mpXNzEJX"
      },
      "source": [
        "#Decision Trees"
      ]
    },
    {
      "cell_type": "markdown",
      "metadata": {
        "id": "zxbQzt3QdBl8"
      },
      "source": [
        "##StandardScaler"
      ]
    },
    {
      "cell_type": "code",
      "metadata": {
        "colab": {
          "base_uri": "https://localhost:8080/",
          "height": 455
        },
        "id": "WbMMHWU0x_1Y",
        "outputId": "8692c47d-1a24-42b2-b936-c57367ba8c3d"
      },
      "source": [
        "static_defenses"
      ],
      "execution_count": null,
      "outputs": [
        {
          "output_type": "execute_result",
          "data": {
            "text/html": [
              "<div>\n",
              "<style scoped>\n",
              "    .dataframe tbody tr th:only-of-type {\n",
              "        vertical-align: middle;\n",
              "    }\n",
              "\n",
              "    .dataframe tbody tr th {\n",
              "        vertical-align: top;\n",
              "    }\n",
              "\n",
              "    .dataframe thead th {\n",
              "        text-align: right;\n",
              "    }\n",
              "</style>\n",
              "<table border=\"1\" class=\"dataframe\">\n",
              "  <thead>\n",
              "    <tr style=\"text-align: right;\">\n",
              "      <th></th>\n",
              "      <th>numberWRs</th>\n",
              "      <th>width</th>\n",
              "      <th>HeightByWeightHook</th>\n",
              "      <th>densityInsidePointsNoLine</th>\n",
              "      <th>density</th>\n",
              "      <th>defenseAreaCoverDefenders</th>\n",
              "      <th>playResult</th>\n",
              "    </tr>\n",
              "    <tr>\n",
              "      <th>id</th>\n",
              "      <th></th>\n",
              "      <th></th>\n",
              "      <th></th>\n",
              "      <th></th>\n",
              "      <th></th>\n",
              "      <th></th>\n",
              "      <th></th>\n",
              "    </tr>\n",
              "  </thead>\n",
              "  <tbody>\n",
              "    <tr>\n",
              "      <th>2018090600:190:1</th>\n",
              "      <td>3</td>\n",
              "      <td>26.42</td>\n",
              "      <td>0.020120</td>\n",
              "      <td>6.969707</td>\n",
              "      <td>0.037004</td>\n",
              "      <td>165.05520</td>\n",
              "      <td>2</td>\n",
              "    </tr>\n",
              "    <tr>\n",
              "      <th>2018090600:492:1</th>\n",
              "      <td>2</td>\n",
              "      <td>19.61</td>\n",
              "      <td>0.019319</td>\n",
              "      <td>6.972530</td>\n",
              "      <td>0.048072</td>\n",
              "      <td>145.61535</td>\n",
              "      <td>2</td>\n",
              "    </tr>\n",
              "    <tr>\n",
              "      <th>2018090600:776:1</th>\n",
              "      <td>3</td>\n",
              "      <td>29.95</td>\n",
              "      <td>0.018251</td>\n",
              "      <td>7.975552</td>\n",
              "      <td>0.034065</td>\n",
              "      <td>163.61555</td>\n",
              "      <td>0</td>\n",
              "    </tr>\n",
              "    <tr>\n",
              "      <th>2018090600:839:1</th>\n",
              "      <td>3</td>\n",
              "      <td>29.30</td>\n",
              "      <td>0.020833</td>\n",
              "      <td>7.982448</td>\n",
              "      <td>0.041001</td>\n",
              "      <td>170.92430</td>\n",
              "      <td>0</td>\n",
              "    </tr>\n",
              "    <tr>\n",
              "      <th>2018090600:949:1</th>\n",
              "      <td>3</td>\n",
              "      <td>32.42</td>\n",
              "      <td>0.018484</td>\n",
              "      <td>6.969109</td>\n",
              "      <td>0.054060</td>\n",
              "      <td>129.48690</td>\n",
              "      <td>0</td>\n",
              "    </tr>\n",
              "    <tr>\n",
              "      <th>...</th>\n",
              "      <td>...</td>\n",
              "      <td>...</td>\n",
              "      <td>...</td>\n",
              "      <td>...</td>\n",
              "      <td>...</td>\n",
              "      <td>...</td>\n",
              "      <td>...</td>\n",
              "    </tr>\n",
              "    <tr>\n",
              "      <th>2018111802:1653:11</th>\n",
              "      <td>3</td>\n",
              "      <td>32.49</td>\n",
              "      <td>0.017609</td>\n",
              "      <td>6.976296</td>\n",
              "      <td>0.033185</td>\n",
              "      <td>210.93795</td>\n",
              "      <td>1</td>\n",
              "    </tr>\n",
              "    <tr>\n",
              "      <th>2018102109:4930:7</th>\n",
              "      <td>3</td>\n",
              "      <td>28.95</td>\n",
              "      <td>0.018071</td>\n",
              "      <td>7.989425</td>\n",
              "      <td>0.015734</td>\n",
              "      <td>472.82460</td>\n",
              "      <td>1</td>\n",
              "    </tr>\n",
              "    <tr>\n",
              "      <th>2018120908:2050:14</th>\n",
              "      <td>3</td>\n",
              "      <td>27.37</td>\n",
              "      <td>0.018021</td>\n",
              "      <td>8.967859</td>\n",
              "      <td>0.038670</td>\n",
              "      <td>186.67530</td>\n",
              "      <td>1</td>\n",
              "    </tr>\n",
              "    <tr>\n",
              "      <th>2018123005:3625:17</th>\n",
              "      <td>3</td>\n",
              "      <td>32.80</td>\n",
              "      <td>0.017091</td>\n",
              "      <td>8.982364</td>\n",
              "      <td>0.026303</td>\n",
              "      <td>340.21190</td>\n",
              "      <td>1</td>\n",
              "    </tr>\n",
              "    <tr>\n",
              "      <th>2018092309:69:3</th>\n",
              "      <td>1</td>\n",
              "      <td>29.59</td>\n",
              "      <td>0.016972</td>\n",
              "      <td>7.966843</td>\n",
              "      <td>0.034842</td>\n",
              "      <td>180.95740</td>\n",
              "      <td>1</td>\n",
              "    </tr>\n",
              "  </tbody>\n",
              "</table>\n",
              "<p>7143 rows × 7 columns</p>\n",
              "</div>"
            ],
            "text/plain": [
              "                    numberWRs  width  HeightByWeightHook  \\\n",
              "id                                                         \n",
              "2018090600:190:1            3  26.42            0.020120   \n",
              "2018090600:492:1            2  19.61            0.019319   \n",
              "2018090600:776:1            3  29.95            0.018251   \n",
              "2018090600:839:1            3  29.30            0.020833   \n",
              "2018090600:949:1            3  32.42            0.018484   \n",
              "...                       ...    ...                 ...   \n",
              "2018111802:1653:11          3  32.49            0.017609   \n",
              "2018102109:4930:7           3  28.95            0.018071   \n",
              "2018120908:2050:14          3  27.37            0.018021   \n",
              "2018123005:3625:17          3  32.80            0.017091   \n",
              "2018092309:69:3             1  29.59            0.016972   \n",
              "\n",
              "                    densityInsidePointsNoLine   density  \\\n",
              "id                                                        \n",
              "2018090600:190:1                     6.969707  0.037004   \n",
              "2018090600:492:1                     6.972530  0.048072   \n",
              "2018090600:776:1                     7.975552  0.034065   \n",
              "2018090600:839:1                     7.982448  0.041001   \n",
              "2018090600:949:1                     6.969109  0.054060   \n",
              "...                                       ...       ...   \n",
              "2018111802:1653:11                   6.976296  0.033185   \n",
              "2018102109:4930:7                    7.989425  0.015734   \n",
              "2018120908:2050:14                   8.967859  0.038670   \n",
              "2018123005:3625:17                   8.982364  0.026303   \n",
              "2018092309:69:3                      7.966843  0.034842   \n",
              "\n",
              "                    defenseAreaCoverDefenders  playResult  \n",
              "id                                                         \n",
              "2018090600:190:1                    165.05520           2  \n",
              "2018090600:492:1                    145.61535           2  \n",
              "2018090600:776:1                    163.61555           0  \n",
              "2018090600:839:1                    170.92430           0  \n",
              "2018090600:949:1                    129.48690           0  \n",
              "...                                       ...         ...  \n",
              "2018111802:1653:11                  210.93795           1  \n",
              "2018102109:4930:7                   472.82460           1  \n",
              "2018120908:2050:14                  186.67530           1  \n",
              "2018123005:3625:17                  340.21190           1  \n",
              "2018092309:69:3                     180.95740           1  \n",
              "\n",
              "[7143 rows x 7 columns]"
            ]
          },
          "metadata": {
            "tags": []
          },
          "execution_count": 107
        }
      ]
    },
    {
      "cell_type": "code",
      "metadata": {
        "colab": {
          "base_uri": "https://localhost:8080/",
          "height": 280
        },
        "id": "MWjKd_KNI4le",
        "outputId": "1ad6417a-8a72-4e57-b21c-7cf88b206525"
      },
      "source": [
        "from sklearn import tree\n",
        "from sklearn.model_selection import KFold\n",
        "\n",
        "cv = KFold(n_splits = 10, shuffle = False) # \n",
        "accuracies = list()\n",
        "max_attributes = len(list(static_defenses))\n",
        "depth_range = range(1, max_attributes * 2)\n",
        "\n",
        "# from 1 to number of features * 2\n",
        "\n",
        "for depth in depth_range:\n",
        "    fold_accuracy = []\n",
        "    tree_model = tree.DecisionTreeClassifier(criterion='entropy', \n",
        "                                             min_samples_split = 65, \n",
        "                                             min_samples_leaf = 20,\n",
        "                                             max_depth = depth,\n",
        "                                             class_weight={0:3.28}\n",
        "                                            )\n",
        "    for train_fold, test_fold in cv.split(static_defenses):\n",
        "        f_train = static_defenses.iloc[train_fold]\n",
        "        f_test = static_defenses.iloc[test_fold]\n",
        "        \n",
        "        model = tree_model.fit( X = f_train.drop(['playResult'], axis=1), \n",
        "                               y = f_train['playResult'])\n",
        "        test_acc = model.score(X = f_test.drop(['playResult'], axis=1), \n",
        "                                y = f_test['playResult'])\n",
        "        fold_accuracy.append(test_acc)\n",
        "        \n",
        "    avg = sum(fold_accuracy)/len(fold_accuracy)\n",
        "    accuracies.append(avg)\n",
        "    \n",
        "import matplotlib.pyplot as plt    \n",
        "plt.plot(depth_range, accuracies, marker='o')\n",
        "plt.xlabel('max_depth')\n",
        "plt.ylabel('accuracy')\n",
        "plt.show()"
      ],
      "execution_count": null,
      "outputs": [
        {
          "output_type": "display_data",
          "data": {
            "image/png": "[encoded data removed]",
            "text/plain": [
              "<Figure size 432x288 with 1 Axes>"
            ]
          },
          "metadata": {
            "tags": [],
            "needs_background": "light"
          }
        }
      ]
    },
    {
      "cell_type": "markdown",
      "metadata": {
        "id": "cc7OgvnKhgnM"
      },
      "source": [
        "###Ejecución"
      ]
    },
    {
      "cell_type": "code",
      "metadata": {
        "id": "T7Pc1JjdiM-m"
      },
      "source": [
        "X_train, X_test, y_train, y_test = train_test_split(static_defenses.drop([\"playResult\"],axis=1),static_defenses[\"playResult\"],test_size=0.2)"
      ],
      "execution_count": null,
      "outputs": []
    },
    {
      "cell_type": "code",
      "metadata": {
        "colab": {
          "base_uri": "https://localhost:8080/"
        },
        "id": "jb6i5tsKL7SF",
        "outputId": "edf83633-a62b-407d-cfbb-7aba018672bf"
      },
      "source": [
        "from sklearn.metrics import accuracy_score\n",
        "regressor = tree.DecisionTreeClassifier(criterion='entropy', min_samples_split = 65, \n",
        "                                  min_samples_leaf = 20, max_depth = 10, \n",
        "                                  class_weight={0:3.28})\n",
        "regressor.fit( X = X_train, y = y_train)\n",
        "y_pred = regressor.predict(X = X_test)\n",
        "acc = accuracy_score(y_test, y_pred)\n",
        "print ('Acc', acc)\n"
      ],
      "execution_count": null,
      "outputs": [
        {
          "output_type": "stream",
          "text": [
            "Acc 0.22883135059482154\n"
          ],
          "name": "stdout"
        }
      ]
    },
    {
      "cell_type": "code",
      "metadata": {
        "colab": {
          "base_uri": "https://localhost:8080/"
        },
        "id": "_lASl4MwyOHb",
        "outputId": "a5933d7d-ec83-4d1d-a038-ff9a4eb5ae48"
      },
      "source": [
        "np.unique(y_pred)"
      ],
      "execution_count": null,
      "outputs": [
        {
          "output_type": "execute_result",
          "data": {
            "text/plain": [
              "array([0, 1, 2])"
            ]
          },
          "metadata": {
            "tags": []
          },
          "execution_count": 111
        }
      ]
    },
    {
      "cell_type": "code",
      "metadata": {
        "colab": {
          "base_uri": "https://localhost:8080/",
          "height": 384
        },
        "id": "Vpi5_MDBL5al",
        "outputId": "20df6e0b-14ed-4af5-8a09-dc7e3607b4f9"
      },
      "source": [
        "plot_confusion_matrix(y_test, y_pred, classes=unique_labels(y_test,y_pred), normalize=True,\n",
        "                      title='Confusion matrix')"
      ],
      "execution_count": null,
      "outputs": [
        {
          "output_type": "stream",
          "text": [
            "Normalized confusion matrix\n",
            "[[0.81578947 0.12406015 0.06015038]\n",
            " [0.81309904 0.11341853 0.07348243]\n",
            " [0.81750466 0.10986965 0.0726257 ]]\n"
          ],
          "name": "stdout"
        },
        {
          "output_type": "execute_result",
          "data": {
            "text/plain": [
              "<matplotlib.axes._subplots.AxesSubplot at 0x7ff20e29ffd0>"
            ]
          },
          "metadata": {
            "tags": []
          },
          "execution_count": 112
        },
        {
          "output_type": "display_data",
          "data": {
            "image/png": "[encoded data removed]",
            "text/plain": [
              "<Figure size 432x288 with 2 Axes>"
            ]
          },
          "metadata": {
            "tags": [],
            "needs_background": "light"
          }
        }
      ]
    },
    {
      "cell_type": "markdown",
      "metadata": {
        "id": "IFsUxj3edDT7"
      },
      "source": [
        "##MinMaxScaler"
      ]
    },
    {
      "cell_type": "code",
      "metadata": {
        "colab": {
          "base_uri": "https://localhost:8080/",
          "height": 206
        },
        "id": "57Rg73rqb1Hn",
        "outputId": "20529c27-da05-4517-c49d-738a0cc025e0"
      },
      "source": [
        "train_mms = pd.DataFrame(X_pca_mms)\n",
        "train_mms[\"playResult\"] = static_defenses[\"playResult\"].values\n",
        "train_mms.head()"
      ],
      "execution_count": null,
      "outputs": [
        {
          "output_type": "execute_result",
          "data": {
            "text/html": [
              "<div>\n",
              "<style scoped>\n",
              "    .dataframe tbody tr th:only-of-type {\n",
              "        vertical-align: middle;\n",
              "    }\n",
              "\n",
              "    .dataframe tbody tr th {\n",
              "        vertical-align: top;\n",
              "    }\n",
              "\n",
              "    .dataframe thead th {\n",
              "        text-align: right;\n",
              "    }\n",
              "</style>\n",
              "<table border=\"1\" class=\"dataframe\">\n",
              "  <thead>\n",
              "    <tr style=\"text-align: right;\">\n",
              "      <th></th>\n",
              "      <th>0</th>\n",
              "      <th>1</th>\n",
              "      <th>2</th>\n",
              "      <th>3</th>\n",
              "      <th>4</th>\n",
              "      <th>5</th>\n",
              "      <th>6</th>\n",
              "      <th>7</th>\n",
              "      <th>playResult</th>\n",
              "    </tr>\n",
              "  </thead>\n",
              "  <tbody>\n",
              "    <tr>\n",
              "      <th>0</th>\n",
              "      <td>-0.428010</td>\n",
              "      <td>0.139408</td>\n",
              "      <td>-0.329671</td>\n",
              "      <td>-0.147617</td>\n",
              "      <td>0.458216</td>\n",
              "      <td>-0.033739</td>\n",
              "      <td>-0.250385</td>\n",
              "      <td>-0.123836</td>\n",
              "      <td>2</td>\n",
              "    </tr>\n",
              "    <tr>\n",
              "      <th>1</th>\n",
              "      <td>-0.444604</td>\n",
              "      <td>-0.275629</td>\n",
              "      <td>0.904100</td>\n",
              "      <td>-0.355544</td>\n",
              "      <td>0.271800</td>\n",
              "      <td>-0.004144</td>\n",
              "      <td>0.174738</td>\n",
              "      <td>0.267716</td>\n",
              "      <td>2</td>\n",
              "    </tr>\n",
              "    <tr>\n",
              "      <th>2</th>\n",
              "      <td>0.784053</td>\n",
              "      <td>-0.089323</td>\n",
              "      <td>0.204728</td>\n",
              "      <td>0.375130</td>\n",
              "      <td>0.743245</td>\n",
              "      <td>0.251937</td>\n",
              "      <td>-0.095275</td>\n",
              "      <td>-0.036761</td>\n",
              "      <td>0</td>\n",
              "    </tr>\n",
              "    <tr>\n",
              "      <th>3</th>\n",
              "      <td>0.470285</td>\n",
              "      <td>0.571547</td>\n",
              "      <td>-0.229807</td>\n",
              "      <td>0.328557</td>\n",
              "      <td>0.309185</td>\n",
              "      <td>0.009286</td>\n",
              "      <td>-0.125013</td>\n",
              "      <td>0.014046</td>\n",
              "      <td>0</td>\n",
              "    </tr>\n",
              "    <tr>\n",
              "      <th>4</th>\n",
              "      <td>-0.374680</td>\n",
              "      <td>0.049434</td>\n",
              "      <td>-0.525219</td>\n",
              "      <td>-0.367326</td>\n",
              "      <td>-0.029586</td>\n",
              "      <td>-0.178615</td>\n",
              "      <td>0.015244</td>\n",
              "      <td>0.019528</td>\n",
              "      <td>0</td>\n",
              "    </tr>\n",
              "  </tbody>\n",
              "</table>\n",
              "</div>"
            ],
            "text/plain": [
              "          0         1         2         3         4         5         6  \\\n",
              "0 -0.428010  0.139408 -0.329671 -0.147617  0.458216 -0.033739 -0.250385   \n",
              "1 -0.444604 -0.275629  0.904100 -0.355544  0.271800 -0.004144  0.174738   \n",
              "2  0.784053 -0.089323  0.204728  0.375130  0.743245  0.251937 -0.095275   \n",
              "3  0.470285  0.571547 -0.229807  0.328557  0.309185  0.009286 -0.125013   \n",
              "4 -0.374680  0.049434 -0.525219 -0.367326 -0.029586 -0.178615  0.015244   \n",
              "\n",
              "          7  playResult  \n",
              "0 -0.123836           2  \n",
              "1  0.267716           2  \n",
              "2 -0.036761           0  \n",
              "3  0.014046           0  \n",
              "4  0.019528           0  "
            ]
          },
          "metadata": {
            "tags": []
          },
          "execution_count": 256
        }
      ]
    },
    {
      "cell_type": "code",
      "metadata": {
        "colab": {
          "base_uri": "https://localhost:8080/",
          "height": 280
        },
        "id": "aMjlpgHHxa-Z",
        "outputId": "134be14e-3b60-4067-ec89-d827b83d98ce"
      },
      "source": [
        "from sklearn import tree\n",
        "from sklearn.model_selection import KFold\n",
        "\n",
        "cv = KFold(n_splits = 10, shuffle = False) # \n",
        "accuracies = list()\n",
        "max_attributes = len(list(train_mms))\n",
        "depth_range = range(1, max_attributes * 2)\n",
        "\n",
        "# from 1 to number of features * 2\n",
        "\n",
        "for depth in depth_range:\n",
        "    fold_accuracy = []\n",
        "    tree_model = tree.DecisionTreeClassifier(criterion='entropy', \n",
        "                                             min_samples_split = 65, \n",
        "                                             min_samples_leaf = 20,\n",
        "                                             max_depth = depth,\n",
        "                                             class_weight={0:3.28}\n",
        "                                            )\n",
        "    for train_fold, test_fold in cv.split(train_ss):\n",
        "        f_train = train_ss.loc[train_fold]\n",
        "        f_test = train_ss.loc[test_fold]\n",
        "        \n",
        "        model = tree_model.fit( X = f_train.drop(['playResult'], axis=1), \n",
        "                               y = f_train['playResult'])\n",
        "        test_acc = model.score(X = f_test.drop(['playResult'], axis=1), \n",
        "                                y = f_test['playResult'])\n",
        "        fold_accuracy.append(test_acc)\n",
        "        \n",
        "    avg = sum(fold_accuracy)/len(fold_accuracy)\n",
        "    accuracies.append(avg)\n",
        "    \n",
        "import matplotlib.pyplot as plt    \n",
        "plt.plot(depth_range, accuracies, marker='o')\n",
        "plt.xlabel('max_depth')\n",
        "plt.ylabel('accuracy')\n",
        "plt.show()"
      ],
      "execution_count": null,
      "outputs": [
        {
          "output_type": "display_data",
          "data": {
            "image/png": "[encoded data removed]",
            "text/plain": [
              "<Figure size 432x288 with 1 Axes>"
            ]
          },
          "metadata": {
            "tags": [],
            "needs_background": "light"
          }
        }
      ]
    },
    {
      "cell_type": "markdown",
      "metadata": {
        "id": "Y9M97W64xa-j"
      },
      "source": [
        "###Ejecución"
      ]
    },
    {
      "cell_type": "code",
      "metadata": {
        "id": "ZX7IoVIcxa-k"
      },
      "source": [
        "X_train, X_test, y_train, y_test = train_test_split(train_mms.drop([\"playResult\"],axis=1),train_mms[\"playResult\"],test_size=0.2)"
      ],
      "execution_count": null,
      "outputs": []
    },
    {
      "cell_type": "code",
      "metadata": {
        "colab": {
          "base_uri": "https://localhost:8080/"
        },
        "id": "9NWHrZ9Exa-k",
        "outputId": "9dd6feed-824b-4d49-a137-4a0a67db2255"
      },
      "source": [
        "regressor = tree.DecisionTreeClassifier(criterion='entropy', min_samples_split = 65, \n",
        "                                  min_samples_leaf = 20, max_depth = 13, \n",
        "                                  class_weight={0:3.28})\n",
        "regressor.fit( X = X_train, y = y_train)\n",
        "y_pred = regressor.predict(X = X_test)\n",
        "acc = accuracy_score(y_test, y_pred)\n",
        "print ('Acc', acc)\n"
      ],
      "execution_count": null,
      "outputs": [
        {
          "output_type": "stream",
          "text": [
            "Acc 0.2512178148921364\n"
          ],
          "name": "stdout"
        }
      ]
    },
    {
      "cell_type": "code",
      "metadata": {
        "colab": {
          "base_uri": "https://localhost:8080/",
          "height": 384
        },
        "id": "4yFkaqZMxa-l",
        "outputId": "ea795c4d-2bac-400d-d6ad-6327a4522213"
      },
      "source": [
        "plot_confusion_matrix(y_test, y_pred, classes=unique_labels(y_test,y_pred), normalize=True,\n",
        "                      title='Confusion matrix')"
      ],
      "execution_count": null,
      "outputs": [
        {
          "output_type": "stream",
          "text": [
            "Normalized confusion matrix\n",
            "[[0.74193548 0.21863799 0.03942652]\n",
            " [0.75433071 0.19055118 0.05511811]\n",
            " [0.76481836 0.17208413 0.06309751]]\n"
          ],
          "name": "stdout"
        },
        {
          "output_type": "execute_result",
          "data": {
            "text/plain": [
              "<matplotlib.axes._subplots.AxesSubplot at 0x7f4e047b3b10>"
            ]
          },
          "metadata": {
            "tags": []
          },
          "execution_count": 331
        },
        {
          "output_type": "display_data",
          "data": {
            "image/png": "[encoded data removed]",
            "text/plain": [
              "<Figure size 432x288 with 2 Axes>"
            ]
          },
          "metadata": {
            "tags": [],
            "needs_background": "light"
          }
        }
      ]
    },
    {
      "cell_type": "markdown",
      "metadata": {
        "id": "XJy8y81zdFFx"
      },
      "source": [
        "##RobustScaler"
      ]
    },
    {
      "cell_type": "code",
      "metadata": {
        "colab": {
          "base_uri": "https://localhost:8080/",
          "height": 206
        },
        "id": "c5pW57T-b2H1",
        "outputId": "be6aaef2-f255-42c3-eb1b-625746733f38"
      },
      "source": [
        "train_rs = pd.DataFrame(X_pca_rs)\n",
        "train_rs[\"playResult\"] = static_defenses[\"playResult\"].values\n",
        "train_rs.head()"
      ],
      "execution_count": null,
      "outputs": [
        {
          "output_type": "execute_result",
          "data": {
            "text/html": [
              "<div>\n",
              "<style scoped>\n",
              "    .dataframe tbody tr th:only-of-type {\n",
              "        vertical-align: middle;\n",
              "    }\n",
              "\n",
              "    .dataframe tbody tr th {\n",
              "        vertical-align: top;\n",
              "    }\n",
              "\n",
              "    .dataframe thead th {\n",
              "        text-align: right;\n",
              "    }\n",
              "</style>\n",
              "<table border=\"1\" class=\"dataframe\">\n",
              "  <thead>\n",
              "    <tr style=\"text-align: right;\">\n",
              "      <th></th>\n",
              "      <th>0</th>\n",
              "      <th>1</th>\n",
              "      <th>2</th>\n",
              "      <th>3</th>\n",
              "      <th>4</th>\n",
              "      <th>playResult</th>\n",
              "    </tr>\n",
              "  </thead>\n",
              "  <tbody>\n",
              "    <tr>\n",
              "      <th>0</th>\n",
              "      <td>-2.275574</td>\n",
              "      <td>2.233391</td>\n",
              "      <td>-1.001333</td>\n",
              "      <td>-0.977821</td>\n",
              "      <td>-2.064975</td>\n",
              "      <td>2</td>\n",
              "    </tr>\n",
              "    <tr>\n",
              "      <th>1</th>\n",
              "      <td>9.640493</td>\n",
              "      <td>0.026928</td>\n",
              "      <td>-1.403801</td>\n",
              "      <td>-1.804948</td>\n",
              "      <td>0.152415</td>\n",
              "      <td>2</td>\n",
              "    </tr>\n",
              "    <tr>\n",
              "      <th>2</th>\n",
              "      <td>-3.108033</td>\n",
              "      <td>0.590417</td>\n",
              "      <td>-0.420066</td>\n",
              "      <td>1.676489</td>\n",
              "      <td>-1.239991</td>\n",
              "      <td>0</td>\n",
              "    </tr>\n",
              "    <tr>\n",
              "      <th>3</th>\n",
              "      <td>-2.957280</td>\n",
              "      <td>2.071981</td>\n",
              "      <td>-1.604668</td>\n",
              "      <td>1.218633</td>\n",
              "      <td>-0.324105</td>\n",
              "      <td>0</td>\n",
              "    </tr>\n",
              "    <tr>\n",
              "      <th>4</th>\n",
              "      <td>-2.295734</td>\n",
              "      <td>2.892604</td>\n",
              "      <td>1.299272</td>\n",
              "      <td>-1.745112</td>\n",
              "      <td>-1.990499</td>\n",
              "      <td>0</td>\n",
              "    </tr>\n",
              "  </tbody>\n",
              "</table>\n",
              "</div>"
            ],
            "text/plain": [
              "          0         1         2         3         4  playResult\n",
              "0 -2.275574  2.233391 -1.001333 -0.977821 -2.064975           2\n",
              "1  9.640493  0.026928 -1.403801 -1.804948  0.152415           2\n",
              "2 -3.108033  0.590417 -0.420066  1.676489 -1.239991           0\n",
              "3 -2.957280  2.071981 -1.604668  1.218633 -0.324105           0\n",
              "4 -2.295734  2.892604  1.299272 -1.745112 -1.990499           0"
            ]
          },
          "metadata": {
            "tags": []
          },
          "execution_count": 260
        }
      ]
    },
    {
      "cell_type": "code",
      "metadata": {
        "colab": {
          "base_uri": "https://localhost:8080/",
          "height": 280
        },
        "id": "ZB3WQEBHxish",
        "outputId": "ba5ddcc8-f6cd-4ea8-9271-a44557584127"
      },
      "source": [
        "from sklearn import tree\n",
        "from sklearn.model_selection import KFold\n",
        "\n",
        "cv = KFold(n_splits = 10, shuffle = False) # \n",
        "accuracies = list()\n",
        "max_attributes = len(list(train_rs))\n",
        "depth_range = range(1, max_attributes * 2)\n",
        "\n",
        "# from 1 to number of features * 2\n",
        "\n",
        "for depth in depth_range:\n",
        "    fold_accuracy = []\n",
        "    tree_model = tree.DecisionTreeClassifier(criterion='entropy', \n",
        "                                             min_samples_split = 65, \n",
        "                                             min_samples_leaf = 20,\n",
        "                                             max_depth = depth,\n",
        "                                             class_weight={0:3.28}\n",
        "                                            )\n",
        "    for train_fold, test_fold in cv.split(train_ss):\n",
        "        f_train = train_ss.loc[train_fold]\n",
        "        f_test = train_ss.loc[test_fold]\n",
        "        \n",
        "        model = tree_model.fit( X = f_train.drop(['playResult'], axis=1), \n",
        "                               y = f_train['playResult'])\n",
        "        test_acc = model.score(X = f_test.drop(['playResult'], axis=1), \n",
        "                                y = f_test['playResult'])\n",
        "        fold_accuracy.append(test_acc)\n",
        "        \n",
        "    avg = sum(fold_accuracy)/len(fold_accuracy)\n",
        "    accuracies.append(avg)\n",
        "    \n",
        "import matplotlib.pyplot as plt    \n",
        "plt.plot(depth_range, accuracies, marker='o')\n",
        "plt.xlabel('max_depth')\n",
        "plt.ylabel('accuracy')\n",
        "plt.show()"
      ],
      "execution_count": null,
      "outputs": [
        {
          "output_type": "display_data",
          "data": {
            "image/png": "[encoded data removed]",
            "text/plain": [
              "<Figure size 432x288 with 1 Axes>"
            ]
          },
          "metadata": {
            "tags": [],
            "needs_background": "light"
          }
        }
      ]
    },
    {
      "cell_type": "markdown",
      "metadata": {
        "id": "Uj7tNbOhxisp"
      },
      "source": [
        "###Ejecución"
      ]
    },
    {
      "cell_type": "code",
      "metadata": {
        "id": "ySgozjlDxisq"
      },
      "source": [
        "X_train, X_test, y_train, y_test = train_test_split(train_rs.drop([\"playResult\"],axis=1),train_rs[\"playResult\"],test_size=0.2)"
      ],
      "execution_count": null,
      "outputs": []
    },
    {
      "cell_type": "code",
      "metadata": {
        "colab": {
          "base_uri": "https://localhost:8080/"
        },
        "id": "VdLhA4jVxisq",
        "outputId": "50ffe056-f00f-4a7f-c05a-9580d5eaafc7"
      },
      "source": [
        "regressor = tree.DecisionTreeClassifier(criterion='entropy', min_samples_split = 65, \n",
        "                                  min_samples_leaf = 20, max_depth = 12, \n",
        "                                  class_weight={0:3.28})\n",
        "regressor.fit( X = X_train, y = y_train)\n",
        "y_pred = regressor.predict(X = X_test)\n",
        "acc = accuracy_score(y_test, y_pred)\n",
        "print ('Acc', acc)\n"
      ],
      "execution_count": null,
      "outputs": [
        {
          "output_type": "stream",
          "text": [
            "Acc 0.27487821851078637\n"
          ],
          "name": "stdout"
        }
      ]
    },
    {
      "cell_type": "code",
      "metadata": {
        "colab": {
          "base_uri": "https://localhost:8080/",
          "height": 384
        },
        "id": "kAxxaS6mxiss",
        "outputId": "3a85d853-9dd6-4158-8066-13a236747784"
      },
      "source": [
        "plot_confusion_matrix(y_test, y_pred, classes=unique_labels(y_test,y_pred), normalize=True,\n",
        "                      title='Confusion matrix')"
      ],
      "execution_count": null,
      "outputs": [
        {
          "output_type": "stream",
          "text": [
            "Normalized confusion matrix\n",
            "[[0.70833333 0.26736111 0.02430556]\n",
            " [0.68881686 0.27228525 0.03889789]\n",
            " [0.70300752 0.2537594  0.04323308]]\n"
          ],
          "name": "stdout"
        },
        {
          "output_type": "execute_result",
          "data": {
            "text/plain": [
              "<matplotlib.axes._subplots.AxesSubplot at 0x7f4e063ef210>"
            ]
          },
          "metadata": {
            "tags": []
          },
          "execution_count": 265
        },
        {
          "output_type": "display_data",
          "data": {
            "image/png": "[encoded data removed]",
            "text/plain": [
              "<Figure size 432x288 with 2 Axes>"
            ]
          },
          "metadata": {
            "tags": [],
            "needs_background": "light"
          }
        }
      ]
    },
    {
      "cell_type": "markdown",
      "metadata": {
        "id": "BFHj8g3wdHLk"
      },
      "source": [
        "##PowerTransformer"
      ]
    },
    {
      "cell_type": "code",
      "metadata": {
        "colab": {
          "base_uri": "https://localhost:8080/",
          "height": 206
        },
        "id": "W1cG5ufOb3Bc",
        "outputId": "73d0aa22-f5b2-4a04-a9d1-1b196b1b5a28"
      },
      "source": [
        "train_pt = pd.DataFrame(X_pca_pt)\n",
        "train_pt[\"playResult\"] = static_defenses[\"playResult\"].values\n",
        "train_pt.head()"
      ],
      "execution_count": null,
      "outputs": [
        {
          "output_type": "execute_result",
          "data": {
            "text/html": [
              "<div>\n",
              "<style scoped>\n",
              "    .dataframe tbody tr th:only-of-type {\n",
              "        vertical-align: middle;\n",
              "    }\n",
              "\n",
              "    .dataframe tbody tr th {\n",
              "        vertical-align: top;\n",
              "    }\n",
              "\n",
              "    .dataframe thead th {\n",
              "        text-align: right;\n",
              "    }\n",
              "</style>\n",
              "<table border=\"1\" class=\"dataframe\">\n",
              "  <thead>\n",
              "    <tr style=\"text-align: right;\">\n",
              "      <th></th>\n",
              "      <th>0</th>\n",
              "      <th>1</th>\n",
              "      <th>2</th>\n",
              "      <th>3</th>\n",
              "      <th>4</th>\n",
              "      <th>5</th>\n",
              "      <th>6</th>\n",
              "      <th>7</th>\n",
              "      <th>8</th>\n",
              "      <th>9</th>\n",
              "      <th>10</th>\n",
              "      <th>11</th>\n",
              "      <th>12</th>\n",
              "      <th>playResult</th>\n",
              "    </tr>\n",
              "  </thead>\n",
              "  <tbody>\n",
              "    <tr>\n",
              "      <th>0</th>\n",
              "      <td>-1.798221</td>\n",
              "      <td>1.472562</td>\n",
              "      <td>2.462210</td>\n",
              "      <td>-2.162657</td>\n",
              "      <td>0.058043</td>\n",
              "      <td>-1.436514</td>\n",
              "      <td>-1.351223</td>\n",
              "      <td>1.911595</td>\n",
              "      <td>-1.037560</td>\n",
              "      <td>-1.410456</td>\n",
              "      <td>0.427142</td>\n",
              "      <td>-0.110515</td>\n",
              "      <td>-0.337453</td>\n",
              "      <td>2</td>\n",
              "    </tr>\n",
              "    <tr>\n",
              "      <th>1</th>\n",
              "      <td>-3.155535</td>\n",
              "      <td>1.857961</td>\n",
              "      <td>1.501039</td>\n",
              "      <td>2.688067</td>\n",
              "      <td>2.446607</td>\n",
              "      <td>1.770079</td>\n",
              "      <td>0.615037</td>\n",
              "      <td>1.269569</td>\n",
              "      <td>0.363605</td>\n",
              "      <td>-0.932535</td>\n",
              "      <td>0.565066</td>\n",
              "      <td>-0.076233</td>\n",
              "      <td>-0.479128</td>\n",
              "      <td>2</td>\n",
              "    </tr>\n",
              "    <tr>\n",
              "      <th>2</th>\n",
              "      <td>0.833067</td>\n",
              "      <td>-1.588843</td>\n",
              "      <td>4.127295</td>\n",
              "      <td>-1.389067</td>\n",
              "      <td>-0.313453</td>\n",
              "      <td>0.687459</td>\n",
              "      <td>-2.771228</td>\n",
              "      <td>1.250819</td>\n",
              "      <td>0.310226</td>\n",
              "      <td>1.109032</td>\n",
              "      <td>0.911492</td>\n",
              "      <td>-0.030633</td>\n",
              "      <td>-0.798099</td>\n",
              "      <td>0</td>\n",
              "    </tr>\n",
              "    <tr>\n",
              "      <th>3</th>\n",
              "      <td>-0.348820</td>\n",
              "      <td>-1.762098</td>\n",
              "      <td>1.451567</td>\n",
              "      <td>-2.202566</td>\n",
              "      <td>-0.416513</td>\n",
              "      <td>0.161404</td>\n",
              "      <td>-0.810107</td>\n",
              "      <td>1.355933</td>\n",
              "      <td>-0.850878</td>\n",
              "      <td>-0.553029</td>\n",
              "      <td>-0.715365</td>\n",
              "      <td>-0.622233</td>\n",
              "      <td>0.691560</td>\n",
              "      <td>0</td>\n",
              "    </tr>\n",
              "    <tr>\n",
              "      <th>4</th>\n",
              "      <td>-2.485854</td>\n",
              "      <td>2.259136</td>\n",
              "      <td>-2.178487</td>\n",
              "      <td>-2.358970</td>\n",
              "      <td>0.717429</td>\n",
              "      <td>-0.514205</td>\n",
              "      <td>-0.162794</td>\n",
              "      <td>0.940852</td>\n",
              "      <td>0.405909</td>\n",
              "      <td>0.149640</td>\n",
              "      <td>1.503677</td>\n",
              "      <td>0.248870</td>\n",
              "      <td>-1.345541</td>\n",
              "      <td>0</td>\n",
              "    </tr>\n",
              "  </tbody>\n",
              "</table>\n",
              "</div>"
            ],
            "text/plain": [
              "          0         1         2         3         4         5         6  \\\n",
              "0 -1.798221  1.472562  2.462210 -2.162657  0.058043 -1.436514 -1.351223   \n",
              "1 -3.155535  1.857961  1.501039  2.688067  2.446607  1.770079  0.615037   \n",
              "2  0.833067 -1.588843  4.127295 -1.389067 -0.313453  0.687459 -2.771228   \n",
              "3 -0.348820 -1.762098  1.451567 -2.202566 -0.416513  0.161404 -0.810107   \n",
              "4 -2.485854  2.259136 -2.178487 -2.358970  0.717429 -0.514205 -0.162794   \n",
              "\n",
              "          7         8         9        10        11        12  playResult  \n",
              "0  1.911595 -1.037560 -1.410456  0.427142 -0.110515 -0.337453           2  \n",
              "1  1.269569  0.363605 -0.932535  0.565066 -0.076233 -0.479128           2  \n",
              "2  1.250819  0.310226  1.109032  0.911492 -0.030633 -0.798099           0  \n",
              "3  1.355933 -0.850878 -0.553029 -0.715365 -0.622233  0.691560           0  \n",
              "4  0.940852  0.405909  0.149640  1.503677  0.248870 -1.345541           0  "
            ]
          },
          "metadata": {
            "tags": []
          },
          "execution_count": 266
        }
      ]
    },
    {
      "cell_type": "code",
      "metadata": {
        "colab": {
          "base_uri": "https://localhost:8080/",
          "height": 280
        },
        "id": "xGHOxV6GxntK",
        "outputId": "c23d6960-626b-42bc-8c6a-4b27e2e0a2d3"
      },
      "source": [
        "from sklearn import tree\n",
        "from sklearn.model_selection import KFold\n",
        "\n",
        "cv = KFold(n_splits = 10, shuffle = False) # \n",
        "accuracies = list()\n",
        "max_attributes = len(list(train_ss))\n",
        "depth_range = range(1, max_attributes * 2)\n",
        "\n",
        "# from 1 to number of features * 2\n",
        "\n",
        "for depth in depth_range:\n",
        "    fold_accuracy = []\n",
        "    tree_model = tree.DecisionTreeClassifier(criterion='entropy', \n",
        "                                             min_samples_split = 65, \n",
        "                                             min_samples_leaf = 20,\n",
        "                                             max_depth = depth,\n",
        "                                             class_weight={0:3.28}\n",
        "                                            )\n",
        "    for train_fold, test_fold in cv.split(train_pt):\n",
        "        f_train = train_ss.loc[train_fold]\n",
        "        f_test = train_ss.loc[test_fold]\n",
        "        \n",
        "        model = tree_model.fit( X = f_train.drop(['playResult'], axis=1), \n",
        "                               y = f_train['playResult'])\n",
        "        test_acc = model.score(X = f_test.drop(['playResult'], axis=1), \n",
        "                                y = f_test['playResult'])\n",
        "        fold_accuracy.append(test_acc)\n",
        "        \n",
        "    avg = sum(fold_accuracy)/len(fold_accuracy)\n",
        "    accuracies.append(avg)\n",
        "    \n",
        "import matplotlib.pyplot as plt    \n",
        "plt.plot(depth_range, accuracies, marker='o')\n",
        "plt.xlabel('max_depth')\n",
        "plt.ylabel('accuracy')\n",
        "plt.show()"
      ],
      "execution_count": null,
      "outputs": [
        {
          "output_type": "display_data",
          "data": {
            "image/png": "[encoded data removed]",
            "text/plain": [
              "<Figure size 432x288 with 1 Axes>"
            ]
          },
          "metadata": {
            "tags": [],
            "needs_background": "light"
          }
        }
      ]
    },
    {
      "cell_type": "markdown",
      "metadata": {
        "id": "6F55NxHFxntL"
      },
      "source": [
        "###Ejecución"
      ]
    },
    {
      "cell_type": "code",
      "metadata": {
        "id": "3ObWZdaNxntM"
      },
      "source": [
        "X_train, X_test, y_train, y_test = train_test_split(train_pt.drop([\"playResult\"],axis=1),train_pt[\"playResult\"],test_size=0.3)"
      ],
      "execution_count": null,
      "outputs": []
    },
    {
      "cell_type": "code",
      "metadata": {
        "colab": {
          "base_uri": "https://localhost:8080/"
        },
        "id": "0SCcYx5xxntM",
        "outputId": "a4c7991f-e6bc-4055-f6d9-ecac3f2dff26"
      },
      "source": [
        "regressor = tree.DecisionTreeClassifier(criterion='entropy', min_samples_split = 65, \n",
        "                                  min_samples_leaf = 20, max_depth = 15, \n",
        "                                  class_weight={0:3.28})\n",
        "regressor.fit( X = X_train, y = y_train)\n",
        "y_pred = regressor.predict(X = X_test)\n",
        "acc = accuracy_score(y_test, y_pred)\n",
        "print ('Acc', acc)\n"
      ],
      "execution_count": null,
      "outputs": [
        {
          "output_type": "stream",
          "text": [
            "Acc 0.27690166975881264\n"
          ],
          "name": "stdout"
        }
      ]
    },
    {
      "cell_type": "code",
      "metadata": {
        "colab": {
          "base_uri": "https://localhost:8080/",
          "height": 384
        },
        "id": "ZYktOVbdxntM",
        "outputId": "3cb232f2-6a46-4afd-e53d-a5c7fe8b3ebf"
      },
      "source": [
        "plot_confusion_matrix(y_test, y_pred, classes=unique_labels(y_test,y_pred), normalize=True,\n",
        "                      title='Confusion matrix')"
      ],
      "execution_count": null,
      "outputs": [
        {
          "output_type": "stream",
          "text": [
            "Normalized confusion matrix\n",
            "[[0.59657702 0.28117359 0.12224939]\n",
            " [0.63278008 0.27593361 0.09128631]\n",
            " [0.61174968 0.27713921 0.11111111]]\n"
          ],
          "name": "stdout"
        },
        {
          "output_type": "execute_result",
          "data": {
            "text/plain": [
              "<matplotlib.axes._subplots.AxesSubplot at 0x7f4e068b3e10>"
            ]
          },
          "metadata": {
            "tags": []
          },
          "execution_count": 272
        },
        {
          "output_type": "display_data",
          "data": {
            "image/png": "[encoded data removed]",
            "text/plain": [
              "<Figure size 432x288 with 2 Axes>"
            ]
          },
          "metadata": {
            "tags": [],
            "needs_background": "light"
          }
        }
      ]
    },
    {
      "cell_type": "markdown",
      "metadata": {
        "id": "KqDqbNcrzIE9"
      },
      "source": [
        "#RandomForest"
      ]
    },
    {
      "cell_type": "markdown",
      "metadata": {
        "id": "7PEz81ZvoMPV"
      },
      "source": [
        "##StandardScaler"
      ]
    },
    {
      "cell_type": "code",
      "metadata": {
        "id": "ZHsND2GioLy8"
      },
      "source": [
        "X_train, X_test, y_train, y_test = train_test_split(train_ss.drop([\"playResult\"],axis=1),train_ss[\"playResult\"],test_size=0.2)"
      ],
      "execution_count": null,
      "outputs": []
    },
    {
      "cell_type": "code",
      "metadata": {
        "id": "PXJdPNk51C-5",
        "colab": {
          "base_uri": "https://localhost:8080/"
        },
        "outputId": "54283253-277c-429e-9c3b-3e5eb34b4ff8"
      },
      "source": [
        "from sklearn.ensemble import RandomForestClassifier\n",
        "\n",
        "#1.1 Model Parametrization \n",
        "regressor = RandomForestClassifier(n_estimators= 100, max_depth = 10, random_state=0)\n",
        "#1.2 Model construction\n",
        "regressor.fit(X_train, y_train)\n",
        "\n",
        "# Test\n",
        "y_pred = regressor.predict(X_test)\n",
        "\n",
        "# metrics calculation \n",
        "from sklearn.metrics import mean_absolute_error\n",
        "acc = accuracy_score(y_test, y_pred)\n",
        "print ('Acc', acc)"
      ],
      "execution_count": null,
      "outputs": [
        {
          "output_type": "stream",
          "text": [
            "Acc 0.4244954766875435\n"
          ],
          "name": "stdout"
        }
      ]
    },
    {
      "cell_type": "code",
      "metadata": {
        "id": "sBuKUZHN1Msp",
        "colab": {
          "base_uri": "https://localhost:8080/",
          "height": 384
        },
        "outputId": "b4616420-7fe3-49fe-a1c0-2a885993035a"
      },
      "source": [
        "plot_confusion_matrix(y_test, y_pred, classes=unique_labels(y_test,y_pred), normalize=True,\n",
        "                      title='Confusion matrix')"
      ],
      "execution_count": null,
      "outputs": [
        {
          "output_type": "stream",
          "text": [
            "Normalized confusion matrix\n",
            "[[0.         0.82130584 0.17869416]\n",
            " [0.00160514 0.78009631 0.21829856]\n",
            " [0.00191205 0.76099426 0.23709369]]\n"
          ],
          "name": "stdout"
        },
        {
          "output_type": "execute_result",
          "data": {
            "text/plain": [
              "<matplotlib.axes._subplots.AxesSubplot at 0x7f4e05d63a90>"
            ]
          },
          "metadata": {
            "tags": []
          },
          "execution_count": 275
        },
        {
          "output_type": "display_data",
          "data": {
            "image/png": "[encoded data removed]",
            "text/plain": [
              "<Figure size 432x288 with 2 Axes>"
            ]
          },
          "metadata": {
            "tags": [],
            "needs_background": "light"
          }
        }
      ]
    },
    {
      "cell_type": "code",
      "metadata": {
        "id": "QFtBO3NSoUnb"
      },
      "source": [
        ""
      ],
      "execution_count": null,
      "outputs": []
    },
    {
      "cell_type": "markdown",
      "metadata": {
        "id": "Uh33RxcrWasC"
      },
      "source": [
        "##MinMaxScaler"
      ]
    },
    {
      "cell_type": "markdown",
      "metadata": {
        "id": "bRlSXmGnWeGI"
      },
      "source": [
        "##RobustScaler"
      ]
    },
    {
      "cell_type": "markdown",
      "metadata": {
        "id": "6Ott2HF1WkY_"
      },
      "source": [
        "##PowerTransformer"
      ]
    },
    {
      "cell_type": "code",
      "metadata": {
        "id": "ZkOcrpRtWg_U"
      },
      "source": [
        ""
      ],
      "execution_count": null,
      "outputs": []
    },
    {
      "cell_type": "markdown",
      "metadata": {
        "id": "3Pvc9xhKWnQX"
      },
      "source": [
        "#Boosting"
      ]
    },
    {
      "cell_type": "markdown",
      "metadata": {
        "id": "cmZ_2xA2X1Sf"
      },
      "source": [
        "##StandardScaler"
      ]
    },
    {
      "cell_type": "code",
      "metadata": {
        "id": "XVx8m5FPYWuw"
      },
      "source": [
        "X_train, X_test, y_train, y_test = train_test_split(train_ss.drop([\"playResult\"],axis=1),train_ss[\"playResult\"],test_size=0.2)"
      ],
      "execution_count": null,
      "outputs": []
    },
    {
      "cell_type": "code",
      "metadata": {
        "colab": {
          "base_uri": "https://localhost:8080/"
        },
        "id": "75CSHFDtX4Dv",
        "outputId": "7de548b2-1d5f-475f-81c1-24f33c0758f2"
      },
      "source": [
        "from sklearn.ensemble import AdaBoostRegressor  \n",
        "regressor = AdaBoostRegressor(DecisionTreeRegressor(max_depth=5, criterion='mae'),n_estimators=100)\n",
        "regressor.fit(X_train, y_train)\n",
        "y_pred = regressor.predict(X_test)\n",
        "print(\"Error Measure\", mean_absolute_error(y_test,y_pred))"
      ],
      "execution_count": null,
      "outputs": [
        {
          "output_type": "stream",
          "text": [
            "Error Measure 4.69609345078514\n"
          ],
          "name": "stdout"
        }
      ]
    },
    {
      "cell_type": "code",
      "metadata": {
        "colab": {
          "base_uri": "https://localhost:8080/",
          "height": 370
        },
        "id": "N0sl_sVmaJW8",
        "outputId": "b553ff5c-8314-452c-b02f-e2b144ab9af9"
      },
      "source": [
        "xx = np.stack(i for i in range(len(y_test)))\n",
        "plt.scatter(xx, y_test, c='r', label='data')\n",
        "plt.plot(xx, y_pred, c='g', label='prediction')\n",
        "plt.axis('tight')\n",
        "plt.legend()\n",
        "plt.title(\"Adaboost Regressor\")\n",
        "\n",
        "plt.show()"
      ],
      "execution_count": null,
      "outputs": [
        {
          "output_type": "stream",
          "text": [
            "/usr/local/lib/python3.7/dist-packages/IPython/core/interactiveshell.py:2822: FutureWarning:\n",
            "\n",
            "arrays to stack must be passed as a \"sequence\" type such as list or tuple. Support for non-sequence iterables such as generators is deprecated as of NumPy 1.16 and will raise an error in the future.\n",
            "\n"
          ],
          "name": "stderr"
        },
        {
          "output_type": "display_data",
          "data": {
            "image/png": "[encoded data removed]",
            "text/plain": [
              "<Figure size 432x288 with 1 Axes>"
            ]
          },
          "metadata": {
            "tags": [],
            "needs_background": "light"
          }
        }
      ]
    },
    {
      "cell_type": "markdown",
      "metadata": {
        "id": "G_MCGlZ6X4Ya"
      },
      "source": [
        "##MinMaxScaler"
      ]
    },
    {
      "cell_type": "code",
      "metadata": {
        "id": "YjgXJ9S_X5we"
      },
      "source": [
        ""
      ],
      "execution_count": null,
      "outputs": []
    },
    {
      "cell_type": "markdown",
      "metadata": {
        "id": "bEYcuTg-X6PV"
      },
      "source": [
        "##RobustScaler"
      ]
    },
    {
      "cell_type": "code",
      "metadata": {
        "id": "_-54k3PFX8jy"
      },
      "source": [
        ""
      ],
      "execution_count": null,
      "outputs": []
    },
    {
      "cell_type": "markdown",
      "metadata": {
        "id": "UfFABw4nX9H9"
      },
      "source": [
        "##PowerTransformer"
      ]
    },
    {
      "cell_type": "code",
      "metadata": {
        "id": "Z6Fep8lOYAb_"
      },
      "source": [
        ""
      ],
      "execution_count": null,
      "outputs": []
    }
  ]
}