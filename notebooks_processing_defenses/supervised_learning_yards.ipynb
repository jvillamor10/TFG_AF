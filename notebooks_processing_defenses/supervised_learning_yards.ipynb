{
  "nbformat": 4,
  "nbformat_minor": 0,
  "metadata": {
    "colab": {
      "name": "supervised_learning_yards.ipynb",
      "provenance": [],
      "toc_visible": true
    },
    "kernelspec": {
      "name": "python3",
      "display_name": "Python 3"
    },
    "language_info": {
      "name": "python"
    }
  },
  "cells": [
    {
      "cell_type": "code",
      "metadata": {
        "id": "VOvyG1C3AW7L"
      },
      "source": [
        "import pandas as pd\n",
        "import pickle\n",
        "\n",
        "from sklearn import preprocessing\n",
        "from sklearn.decomposition import PCA\n",
        "from sklearn.cluster import KMeans\n",
        "from sklearn.cluster import DBSCAN\n",
        "from sklearn import metrics\n",
        "import sklearn.neighbors\n",
        "from sklearn.neighbors import kneighbors_graph\n",
        "from sklearn.model_selection import train_test_split\n",
        "\n",
        "import plotly.express as px\n",
        "import matplotlib.pyplot as plt\n",
        "import numpy as np\n",
        "\n",
        "import seaborn as sns"
      ],
      "execution_count": null,
      "outputs": []
    },
    {
      "cell_type": "code",
      "metadata": {
        "id": "0fkbq2p-A4mM"
      },
      "source": [
        "pd.set_option('display.max_columns',None)"
      ],
      "execution_count": null,
      "outputs": []
    },
    {
      "cell_type": "code",
      "metadata": {
        "id": "F4gL6h3IA48V",
        "colab": {
          "resources": {
            "http://localhost:8080/nbextensions/google.colab/files.js": {
              "data": "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",
              "ok": true,
              "headers": [
                [
                  "content-type",
                  "application/javascript"
                ]
              ],
              "status": 200,
              "status_text": "OK"
            }
          },
          "base_uri": "https://localhost:8080/",
          "height": 94
        },
        "outputId": "91203f73-dd27-448a-9649-e448186613c0"
      },
      "source": [
        "# 0.1 load data from file\n",
        "from google.colab import files\n",
        "import io\n",
        "\n",
        "uploaded = files.upload()\n",
        "\n",
        "for fn in uploaded.keys():\n",
        "  print('User uploaded file \"{name}\" with length {length} bytes'.format(\n",
        "      name=fn, length=len(uploaded[fn])))"
      ],
      "execution_count": null,
      "outputs": [
        {
          "output_type": "display_data",
          "data": {
            "text/html": [
              "\n",
              "     <input type=\"file\" id=\"files-e0cb2a57-0e75-4f29-b4e5-d8953772b96e\" name=\"files[]\" multiple disabled\n",
              "        style=\"border:none\" />\n",
              "     <output id=\"result-e0cb2a57-0e75-4f29-b4e5-d8953772b96e\">\n",
              "      Upload widget is only available when the cell has been executed in the\n",
              "      current browser session. Please rerun this cell to enable.\n",
              "      </output>\n",
              "      <script src=\"/nbextensions/google.colab/files.js\"></script> "
            ],
            "text/plain": [
              "<IPython.core.display.HTML object>"
            ]
          },
          "metadata": {
            "tags": []
          }
        },
        {
          "output_type": "stream",
          "text": [
            "Saving static_defenses_yards.csv to static_defenses_yards.csv\n",
            "User uploaded file \"static_defenses_yards.csv\" with length 4999907 bytes\n"
          ],
          "name": "stdout"
        }
      ]
    },
    {
      "cell_type": "code",
      "metadata": {
        "id": "S-S9AdajA_nK",
        "colab": {
          "base_uri": "https://localhost:8080/",
          "height": 275
        },
        "outputId": "3d7b9fb0-bcb3-4c21-a8d7-65ab7ae8aa35"
      },
      "source": [
        "static_defenses = pd.read_csv(io.StringIO(uploaded[fn].decode('utf-8')),index_col=\"id\")\n",
        "static_defenses.head()"
      ],
      "execution_count": null,
      "outputs": [
        {
          "output_type": "execute_result",
          "data": {
            "text/html": [
              "<div>\n",
              "<style scoped>\n",
              "    .dataframe tbody tr th:only-of-type {\n",
              "        vertical-align: middle;\n",
              "    }\n",
              "\n",
              "    .dataframe tbody tr th {\n",
              "        vertical-align: top;\n",
              "    }\n",
              "\n",
              "    .dataframe thead th {\n",
              "        text-align: right;\n",
              "    }\n",
              "</style>\n",
              "<table border=\"1\" class=\"dataframe\">\n",
              "  <thead>\n",
              "    <tr style=\"text-align: right;\">\n",
              "      <th></th>\n",
              "      <th>Unnamed: 0</th>\n",
              "      <th>defensivelinezonePlayers</th>\n",
              "      <th>deepzonePlayers</th>\n",
              "      <th>hookzonePlayers</th>\n",
              "      <th>curlzonePlayers</th>\n",
              "      <th>flatzonePlayers</th>\n",
              "      <th>defenseArea</th>\n",
              "      <th>defenseAreaCoverDefenders</th>\n",
              "      <th>width</th>\n",
              "      <th>height</th>\n",
              "      <th>numberQBs</th>\n",
              "      <th>numberWRs</th>\n",
              "      <th>numberTEs</th>\n",
              "      <th>numberRBs</th>\n",
              "      <th>numberFBs</th>\n",
              "      <th>numberOffensivePlayersAnotherPosition</th>\n",
              "      <th>numberSafeties</th>\n",
              "      <th>numberLBs</th>\n",
              "      <th>numberCBs</th>\n",
              "      <th>strongSide</th>\n",
              "      <th>numberPlayersDefenseStrongSide</th>\n",
              "      <th>numberPlayersDefenseWeakSide</th>\n",
              "      <th>numberPlayersOffenseStrongSide</th>\n",
              "      <th>numberPlayersOffenseWeakSide</th>\n",
              "      <th>differenceOffenseVsDefenseWidth</th>\n",
              "      <th>differenceOffenseVsDefenseStrongSide</th>\n",
              "      <th>differenceOffenseVsDefenseWeakSide</th>\n",
              "      <th>HeightByWeightDeep</th>\n",
              "      <th>HeightByWeightHook</th>\n",
              "      <th>HeightByWeightCurl</th>\n",
              "      <th>HeightByWeightFlat</th>\n",
              "      <th>WeightByArea</th>\n",
              "      <th>density</th>\n",
              "      <th>densityNoLine</th>\n",
              "      <th>densityInsidePoints</th>\n",
              "      <th>densityInsidePointsNoLine</th>\n",
              "      <th>playResult</th>\n",
              "    </tr>\n",
              "    <tr>\n",
              "      <th>id</th>\n",
              "      <th></th>\n",
              "      <th></th>\n",
              "      <th></th>\n",
              "      <th></th>\n",
              "      <th></th>\n",
              "      <th></th>\n",
              "      <th></th>\n",
              "      <th></th>\n",
              "      <th></th>\n",
              "      <th></th>\n",
              "      <th></th>\n",
              "      <th></th>\n",
              "      <th></th>\n",
              "      <th></th>\n",
              "      <th></th>\n",
              "      <th></th>\n",
              "      <th></th>\n",
              "      <th></th>\n",
              "      <th></th>\n",
              "      <th></th>\n",
              "      <th></th>\n",
              "      <th></th>\n",
              "      <th></th>\n",
              "      <th></th>\n",
              "      <th></th>\n",
              "      <th></th>\n",
              "      <th></th>\n",
              "      <th></th>\n",
              "      <th></th>\n",
              "      <th></th>\n",
              "      <th></th>\n",
              "      <th></th>\n",
              "      <th></th>\n",
              "      <th></th>\n",
              "      <th></th>\n",
              "      <th></th>\n",
              "      <th></th>\n",
              "    </tr>\n",
              "  </thead>\n",
              "  <tbody>\n",
              "    <tr>\n",
              "      <th>2018090600:75:1</th>\n",
              "      <td>0</td>\n",
              "      <td>0</td>\n",
              "      <td>1</td>\n",
              "      <td>3</td>\n",
              "      <td>2</td>\n",
              "      <td>1</td>\n",
              "      <td>194.31095</td>\n",
              "      <td>194.31095</td>\n",
              "      <td>22.96</td>\n",
              "      <td>15.25</td>\n",
              "      <td>1</td>\n",
              "      <td>2</td>\n",
              "      <td>1</td>\n",
              "      <td>1</td>\n",
              "      <td>1</td>\n",
              "      <td>0</td>\n",
              "      <td>3</td>\n",
              "      <td>2</td>\n",
              "      <td>2</td>\n",
              "      <td>left</td>\n",
              "      <td>3</td>\n",
              "      <td>4</td>\n",
              "      <td>3</td>\n",
              "      <td>2</td>\n",
              "      <td>-0.63</td>\n",
              "      <td>0</td>\n",
              "      <td>-2</td>\n",
              "      <td>0.020227</td>\n",
              "      <td>0.018643</td>\n",
              "      <td>0.020066</td>\n",
              "      <td>0.021034</td>\n",
              "      <td>3.376032</td>\n",
              "      <td>0.036025</td>\n",
              "      <td>0.036025</td>\n",
              "      <td>6.974268</td>\n",
              "      <td>6.974268</td>\n",
              "      <td>10</td>\n",
              "    </tr>\n",
              "    <tr>\n",
              "      <th>2018090600:146:1</th>\n",
              "      <td>1</td>\n",
              "      <td>0</td>\n",
              "      <td>1</td>\n",
              "      <td>3</td>\n",
              "      <td>2</td>\n",
              "      <td>1</td>\n",
              "      <td>204.17725</td>\n",
              "      <td>204.17725</td>\n",
              "      <td>29.22</td>\n",
              "      <td>12.57</td>\n",
              "      <td>1</td>\n",
              "      <td>3</td>\n",
              "      <td>1</td>\n",
              "      <td>1</td>\n",
              "      <td>0</td>\n",
              "      <td>0</td>\n",
              "      <td>2</td>\n",
              "      <td>2</td>\n",
              "      <td>3</td>\n",
              "      <td>right</td>\n",
              "      <td>3</td>\n",
              "      <td>4</td>\n",
              "      <td>2</td>\n",
              "      <td>3</td>\n",
              "      <td>-1.15</td>\n",
              "      <td>-1</td>\n",
              "      <td>-1</td>\n",
              "      <td>0.020227</td>\n",
              "      <td>0.019228</td>\n",
              "      <td>0.020356</td>\n",
              "      <td>0.020455</td>\n",
              "      <td>3.178611</td>\n",
              "      <td>0.034284</td>\n",
              "      <td>0.034284</td>\n",
              "      <td>6.975511</td>\n",
              "      <td>6.975511</td>\n",
              "      <td>0</td>\n",
              "    </tr>\n",
              "    <tr>\n",
              "      <th>2018090600:168:1</th>\n",
              "      <td>2</td>\n",
              "      <td>0</td>\n",
              "      <td>1</td>\n",
              "      <td>2</td>\n",
              "      <td>2</td>\n",
              "      <td>2</td>\n",
              "      <td>277.65495</td>\n",
              "      <td>277.65495</td>\n",
              "      <td>33.67</td>\n",
              "      <td>15.21</td>\n",
              "      <td>1</td>\n",
              "      <td>2</td>\n",
              "      <td>1</td>\n",
              "      <td>2</td>\n",
              "      <td>0</td>\n",
              "      <td>0</td>\n",
              "      <td>2</td>\n",
              "      <td>2</td>\n",
              "      <td>3</td>\n",
              "      <td>left</td>\n",
              "      <td>5</td>\n",
              "      <td>2</td>\n",
              "      <td>4</td>\n",
              "      <td>1</td>\n",
              "      <td>0.71</td>\n",
              "      <td>-1</td>\n",
              "      <td>-1</td>\n",
              "      <td>0.020227</td>\n",
              "      <td>0.017683</td>\n",
              "      <td>0.020997</td>\n",
              "      <td>0.020745</td>\n",
              "      <td>2.337434</td>\n",
              "      <td>0.025211</td>\n",
              "      <td>0.025211</td>\n",
              "      <td>6.985594</td>\n",
              "      <td>6.985594</td>\n",
              "      <td>0</td>\n",
              "    </tr>\n",
              "    <tr>\n",
              "      <th>2018090600:190:1</th>\n",
              "      <td>3</td>\n",
              "      <td>1</td>\n",
              "      <td>0</td>\n",
              "      <td>2</td>\n",
              "      <td>3</td>\n",
              "      <td>1</td>\n",
              "      <td>189.16960</td>\n",
              "      <td>165.05520</td>\n",
              "      <td>26.42</td>\n",
              "      <td>12.91</td>\n",
              "      <td>1</td>\n",
              "      <td>3</td>\n",
              "      <td>1</td>\n",
              "      <td>1</td>\n",
              "      <td>0</td>\n",
              "      <td>0</td>\n",
              "      <td>3</td>\n",
              "      <td>1</td>\n",
              "      <td>3</td>\n",
              "      <td>right</td>\n",
              "      <td>2</td>\n",
              "      <td>5</td>\n",
              "      <td>2</td>\n",
              "      <td>3</td>\n",
              "      <td>-3.11</td>\n",
              "      <td>0</td>\n",
              "      <td>-2</td>\n",
              "      <td>0.000000</td>\n",
              "      <td>0.020120</td>\n",
              "      <td>0.021193</td>\n",
              "      <td>0.020455</td>\n",
              "      <td>3.192871</td>\n",
              "      <td>0.037004</td>\n",
              "      <td>0.036351</td>\n",
              "      <td>6.973569</td>\n",
              "      <td>6.969707</td>\n",
              "      <td>33</td>\n",
              "    </tr>\n",
              "    <tr>\n",
              "      <th>2018090600:320:1</th>\n",
              "      <td>5</td>\n",
              "      <td>1</td>\n",
              "      <td>0</td>\n",
              "      <td>3</td>\n",
              "      <td>3</td>\n",
              "      <td>1</td>\n",
              "      <td>187.12510</td>\n",
              "      <td>153.20020</td>\n",
              "      <td>27.80</td>\n",
              "      <td>13.29</td>\n",
              "      <td>1</td>\n",
              "      <td>3</td>\n",
              "      <td>1</td>\n",
              "      <td>1</td>\n",
              "      <td>0</td>\n",
              "      <td>0</td>\n",
              "      <td>2</td>\n",
              "      <td>3</td>\n",
              "      <td>3</td>\n",
              "      <td>left</td>\n",
              "      <td>3</td>\n",
              "      <td>5</td>\n",
              "      <td>3</td>\n",
              "      <td>2</td>\n",
              "      <td>-4.82</td>\n",
              "      <td>0</td>\n",
              "      <td>-3</td>\n",
              "      <td>0.000000</td>\n",
              "      <td>0.018995</td>\n",
              "      <td>0.019537</td>\n",
              "      <td>0.021279</td>\n",
              "      <td>4.281979</td>\n",
              "      <td>0.042752</td>\n",
              "      <td>0.045692</td>\n",
              "      <td>7.978624</td>\n",
              "      <td>7.980418</td>\n",
              "      <td>4</td>\n",
              "    </tr>\n",
              "  </tbody>\n",
              "</table>\n",
              "</div>"
            ],
            "text/plain": [
              "                  Unnamed: 0  defensivelinezonePlayers  deepzonePlayers  \\\n",
              "id                                                                        \n",
              "2018090600:75:1            0                         0                1   \n",
              "2018090600:146:1           1                         0                1   \n",
              "2018090600:168:1           2                         0                1   \n",
              "2018090600:190:1           3                         1                0   \n",
              "2018090600:320:1           5                         1                0   \n",
              "\n",
              "                  hookzonePlayers  curlzonePlayers  flatzonePlayers  \\\n",
              "id                                                                    \n",
              "2018090600:75:1                 3                2                1   \n",
              "2018090600:146:1                3                2                1   \n",
              "2018090600:168:1                2                2                2   \n",
              "2018090600:190:1                2                3                1   \n",
              "2018090600:320:1                3                3                1   \n",
              "\n",
              "                  defenseArea  defenseAreaCoverDefenders  width  height  \\\n",
              "id                                                                        \n",
              "2018090600:75:1     194.31095                  194.31095  22.96   15.25   \n",
              "2018090600:146:1    204.17725                  204.17725  29.22   12.57   \n",
              "2018090600:168:1    277.65495                  277.65495  33.67   15.21   \n",
              "2018090600:190:1    189.16960                  165.05520  26.42   12.91   \n",
              "2018090600:320:1    187.12510                  153.20020  27.80   13.29   \n",
              "\n",
              "                  numberQBs  numberWRs  numberTEs  numberRBs  numberFBs  \\\n",
              "id                                                                        \n",
              "2018090600:75:1           1          2          1          1          1   \n",
              "2018090600:146:1          1          3          1          1          0   \n",
              "2018090600:168:1          1          2          1          2          0   \n",
              "2018090600:190:1          1          3          1          1          0   \n",
              "2018090600:320:1          1          3          1          1          0   \n",
              "\n",
              "                  numberOffensivePlayersAnotherPosition  numberSafeties  \\\n",
              "id                                                                        \n",
              "2018090600:75:1                                       0               3   \n",
              "2018090600:146:1                                      0               2   \n",
              "2018090600:168:1                                      0               2   \n",
              "2018090600:190:1                                      0               3   \n",
              "2018090600:320:1                                      0               2   \n",
              "\n",
              "                  numberLBs  numberCBs strongSide  \\\n",
              "id                                                  \n",
              "2018090600:75:1           2          2       left   \n",
              "2018090600:146:1          2          3      right   \n",
              "2018090600:168:1          2          3       left   \n",
              "2018090600:190:1          1          3      right   \n",
              "2018090600:320:1          3          3       left   \n",
              "\n",
              "                  numberPlayersDefenseStrongSide  \\\n",
              "id                                                 \n",
              "2018090600:75:1                                3   \n",
              "2018090600:146:1                               3   \n",
              "2018090600:168:1                               5   \n",
              "2018090600:190:1                               2   \n",
              "2018090600:320:1                               3   \n",
              "\n",
              "                  numberPlayersDefenseWeakSide  \\\n",
              "id                                               \n",
              "2018090600:75:1                              4   \n",
              "2018090600:146:1                             4   \n",
              "2018090600:168:1                             2   \n",
              "2018090600:190:1                             5   \n",
              "2018090600:320:1                             5   \n",
              "\n",
              "                  numberPlayersOffenseStrongSide  \\\n",
              "id                                                 \n",
              "2018090600:75:1                                3   \n",
              "2018090600:146:1                               2   \n",
              "2018090600:168:1                               4   \n",
              "2018090600:190:1                               2   \n",
              "2018090600:320:1                               3   \n",
              "\n",
              "                  numberPlayersOffenseWeakSide  \\\n",
              "id                                               \n",
              "2018090600:75:1                              2   \n",
              "2018090600:146:1                             3   \n",
              "2018090600:168:1                             1   \n",
              "2018090600:190:1                             3   \n",
              "2018090600:320:1                             2   \n",
              "\n",
              "                  differenceOffenseVsDefenseWidth  \\\n",
              "id                                                  \n",
              "2018090600:75:1                             -0.63   \n",
              "2018090600:146:1                            -1.15   \n",
              "2018090600:168:1                             0.71   \n",
              "2018090600:190:1                            -3.11   \n",
              "2018090600:320:1                            -4.82   \n",
              "\n",
              "                  differenceOffenseVsDefenseStrongSide  \\\n",
              "id                                                       \n",
              "2018090600:75:1                                      0   \n",
              "2018090600:146:1                                    -1   \n",
              "2018090600:168:1                                    -1   \n",
              "2018090600:190:1                                     0   \n",
              "2018090600:320:1                                     0   \n",
              "\n",
              "                  differenceOffenseVsDefenseWeakSide  HeightByWeightDeep  \\\n",
              "id                                                                         \n",
              "2018090600:75:1                                   -2            0.020227   \n",
              "2018090600:146:1                                  -1            0.020227   \n",
              "2018090600:168:1                                  -1            0.020227   \n",
              "2018090600:190:1                                  -2            0.000000   \n",
              "2018090600:320:1                                  -3            0.000000   \n",
              "\n",
              "                  HeightByWeightHook  HeightByWeightCurl  HeightByWeightFlat  \\\n",
              "id                                                                             \n",
              "2018090600:75:1             0.018643            0.020066            0.021034   \n",
              "2018090600:146:1            0.019228            0.020356            0.020455   \n",
              "2018090600:168:1            0.017683            0.020997            0.020745   \n",
              "2018090600:190:1            0.020120            0.021193            0.020455   \n",
              "2018090600:320:1            0.018995            0.019537            0.021279   \n",
              "\n",
              "                  WeightByArea   density  densityNoLine  densityInsidePoints  \\\n",
              "id                                                                             \n",
              "2018090600:75:1       3.376032  0.036025       0.036025             6.974268   \n",
              "2018090600:146:1      3.178611  0.034284       0.034284             6.975511   \n",
              "2018090600:168:1      2.337434  0.025211       0.025211             6.985594   \n",
              "2018090600:190:1      3.192871  0.037004       0.036351             6.973569   \n",
              "2018090600:320:1      4.281979  0.042752       0.045692             7.978624   \n",
              "\n",
              "                  densityInsidePointsNoLine  playResult  \n",
              "id                                                       \n",
              "2018090600:75:1                    6.974268          10  \n",
              "2018090600:146:1                   6.975511           0  \n",
              "2018090600:168:1                   6.985594           0  \n",
              "2018090600:190:1                   6.969707          33  \n",
              "2018090600:320:1                   7.980418           4  "
            ]
          },
          "metadata": {
            "tags": []
          },
          "execution_count": 6
        }
      ]
    },
    {
      "cell_type": "code",
      "metadata": {
        "id": "2YOdFwBFvMrZ"
      },
      "source": [
        "static_defenses.drop([\"Unnamed: 0\"],axis=1,inplace=True)"
      ],
      "execution_count": null,
      "outputs": []
    },
    {
      "cell_type": "code",
      "metadata": {
        "id": "y0RbyUZjBY3O"
      },
      "source": [
        "static_defenses.replace({\"right\":0,\"left\":1},inplace=True)"
      ],
      "execution_count": null,
      "outputs": []
    },
    {
      "cell_type": "markdown",
      "metadata": {
        "id": "OYBMW7ErSgSJ"
      },
      "source": [
        "#Eliminar outliers"
      ]
    },
    {
      "cell_type": "code",
      "metadata": {
        "id": "KVnlvm0aBZLo"
      },
      "source": [
        "#load dataset\n",
        "pickle_file = open('outliers_minpts10_rs_3.pickle','rb')\n",
        "outliers = pickle.load(pickle_file)\n",
        "pickle_file.close()"
      ],
      "execution_count": null,
      "outputs": []
    },
    {
      "cell_type": "code",
      "metadata": {
        "id": "XcWR0jpIXUDs"
      },
      "source": [
        "for play in list(outliers):\n",
        "    static_defenses.drop(play,inplace=True)"
      ],
      "execution_count": null,
      "outputs": []
    },
    {
      "cell_type": "markdown",
      "metadata": {
        "id": "WAp_1w2Co9L7"
      },
      "source": [
        "#Eliminar big plays"
      ]
    },
    {
      "cell_type": "markdown",
      "metadata": {
        "id": "3cYWotQIS5B5"
      },
      "source": [
        "##Big plays ofensivas"
      ]
    },
    {
      "cell_type": "code",
      "metadata": {
        "id": "nxxsl-XJpBYo",
        "colab": {
          "base_uri": "https://localhost:8080/"
        },
        "outputId": "ddd421ca-b9d6-4b96-87b9-48a1f61a5146"
      },
      "source": [
        "static_defenses[\"playResult\"].mean()"
      ],
      "execution_count": null,
      "outputs": [
        {
          "output_type": "execute_result",
          "data": {
            "text/plain": [
              "6.974169966494061"
            ]
          },
          "metadata": {
            "tags": []
          },
          "execution_count": 13
        }
      ]
    },
    {
      "cell_type": "markdown",
      "metadata": {
        "id": "O50zenjKQFud"
      },
      "source": [
        "Vamos a seguir el siguiente criterio: a partir de 16 yardas es una big play en pase\n",
        "\n",
        "Fuente: https://www.espn.com/blog/nflnation/post/_/id/73001/nfl-big-plays-who-and-what-makes-them"
      ]
    },
    {
      "cell_type": "code",
      "metadata": {
        "colab": {
          "base_uri": "https://localhost:8080/"
        },
        "id": "yLINpSnAQOWw",
        "outputId": "980f675b-cc25-44f1-a1ed-9a58ef9b9b8d"
      },
      "source": [
        "len(static_defenses[static_defenses[\"playResult\"]>=16])"
      ],
      "execution_count": null,
      "outputs": [
        {
          "output_type": "execute_result",
          "data": {
            "text/plain": [
              "2603"
            ]
          },
          "metadata": {
            "tags": []
          },
          "execution_count": 16
        }
      ]
    },
    {
      "cell_type": "code",
      "metadata": {
        "colab": {
          "base_uri": "https://localhost:8080/"
        },
        "id": "VLJ8wn1TQijQ",
        "outputId": "8d98c340-caa9-499f-aa19-073f6576be65"
      },
      "source": [
        "len(static_defenses[static_defenses[\"playResult\"]>=16]) / len(static_defenses) * 100"
      ],
      "execution_count": null,
      "outputs": [
        {
          "output_type": "execute_result",
          "data": {
            "text/plain": [
              "15.857447456594578"
            ]
          },
          "metadata": {
            "tags": []
          },
          "execution_count": 17
        }
      ]
    },
    {
      "cell_type": "markdown",
      "metadata": {
        "id": "-zt1PzqNQnzZ"
      },
      "source": [
        "Representan el 16% de las jugadas, podríamos al menos estudiarlo por separarlo"
      ]
    },
    {
      "cell_type": "code",
      "metadata": {
        "id": "MLWz2yWFRWYC"
      },
      "source": [
        "big_plays_offense = static_defenses[static_defenses[\"playResult\"]>=16]"
      ],
      "execution_count": null,
      "outputs": []
    },
    {
      "cell_type": "code",
      "metadata": {
        "id": "nCLOmXPiQyqZ"
      },
      "source": [
        "static_defenses.drop(static_defenses[static_defenses[\"playResult\"]>=16].index,inplace=True)"
      ],
      "execution_count": null,
      "outputs": []
    },
    {
      "cell_type": "code",
      "metadata": {
        "colab": {
          "base_uri": "https://localhost:8080/"
        },
        "id": "uJllnedeRO_z",
        "outputId": "6ee35d78-51bd-4d8d-d30e-8dede6a6b0c8"
      },
      "source": [
        "len(static_defenses)"
      ],
      "execution_count": null,
      "outputs": [
        {
          "output_type": "execute_result",
          "data": {
            "text/plain": [
              "13812"
            ]
          },
          "metadata": {
            "tags": []
          },
          "execution_count": 25
        }
      ]
    },
    {
      "cell_type": "markdown",
      "metadata": {
        "id": "Kq9xUGwzS7dT"
      },
      "source": [
        "##Big plays defensivas"
      ]
    },
    {
      "cell_type": "code",
      "metadata": {
        "colab": {
          "base_uri": "https://localhost:8080/"
        },
        "id": "t9FlctskTCz8",
        "outputId": "209511c7-7206-4fa8-c12d-c087c6d47733"
      },
      "source": [
        "static_defenses[static_defenses[\"playResult\"]<0][\"playResult\"].median()"
      ],
      "execution_count": null,
      "outputs": [
        {
          "output_type": "execute_result",
          "data": {
            "text/plain": [
              "-7.0"
            ]
          },
          "metadata": {
            "tags": []
          },
          "execution_count": 54
        }
      ]
    },
    {
      "cell_type": "code",
      "metadata": {
        "colab": {
          "base_uri": "https://localhost:8080/",
          "height": 475
        },
        "id": "6giN7F_IU6TT",
        "outputId": "4df41c3b-1c4d-43e5-fa92-dda19dda4dbc"
      },
      "source": [
        "static_defenses[static_defenses[\"playResult\"]<=-7]"
      ],
      "execution_count": null,
      "outputs": [
        {
          "output_type": "execute_result",
          "data": {
            "text/html": [
              "<div>\n",
              "<style scoped>\n",
              "    .dataframe tbody tr th:only-of-type {\n",
              "        vertical-align: middle;\n",
              "    }\n",
              "\n",
              "    .dataframe tbody tr th {\n",
              "        vertical-align: top;\n",
              "    }\n",
              "\n",
              "    .dataframe thead th {\n",
              "        text-align: right;\n",
              "    }\n",
              "</style>\n",
              "<table border=\"1\" class=\"dataframe\">\n",
              "  <thead>\n",
              "    <tr style=\"text-align: right;\">\n",
              "      <th></th>\n",
              "      <th>defensivelinezonePlayers</th>\n",
              "      <th>deepzonePlayers</th>\n",
              "      <th>hookzonePlayers</th>\n",
              "      <th>curlzonePlayers</th>\n",
              "      <th>flatzonePlayers</th>\n",
              "      <th>defenseArea</th>\n",
              "      <th>defenseAreaCoverDefenders</th>\n",
              "      <th>width</th>\n",
              "      <th>height</th>\n",
              "      <th>numberQBs</th>\n",
              "      <th>numberWRs</th>\n",
              "      <th>numberTEs</th>\n",
              "      <th>numberRBs</th>\n",
              "      <th>numberFBs</th>\n",
              "      <th>numberOffensivePlayersAnotherPosition</th>\n",
              "      <th>numberSafeties</th>\n",
              "      <th>numberLBs</th>\n",
              "      <th>numberCBs</th>\n",
              "      <th>strongSide</th>\n",
              "      <th>numberPlayersDefenseStrongSide</th>\n",
              "      <th>numberPlayersDefenseWeakSide</th>\n",
              "      <th>numberPlayersOffenseStrongSide</th>\n",
              "      <th>numberPlayersOffenseWeakSide</th>\n",
              "      <th>differenceOffenseVsDefenseWidth</th>\n",
              "      <th>differenceOffenseVsDefenseStrongSide</th>\n",
              "      <th>differenceOffenseVsDefenseWeakSide</th>\n",
              "      <th>HeightByWeightDeep</th>\n",
              "      <th>HeightByWeightHook</th>\n",
              "      <th>HeightByWeightCurl</th>\n",
              "      <th>HeightByWeightFlat</th>\n",
              "      <th>WeightByArea</th>\n",
              "      <th>density</th>\n",
              "      <th>densityNoLine</th>\n",
              "      <th>densityInsidePoints</th>\n",
              "      <th>densityInsidePointsNoLine</th>\n",
              "      <th>playResult</th>\n",
              "    </tr>\n",
              "    <tr>\n",
              "      <th>id</th>\n",
              "      <th></th>\n",
              "      <th></th>\n",
              "      <th></th>\n",
              "      <th></th>\n",
              "      <th></th>\n",
              "      <th></th>\n",
              "      <th></th>\n",
              "      <th></th>\n",
              "      <th></th>\n",
              "      <th></th>\n",
              "      <th></th>\n",
              "      <th></th>\n",
              "      <th></th>\n",
              "      <th></th>\n",
              "      <th></th>\n",
              "      <th></th>\n",
              "      <th></th>\n",
              "      <th></th>\n",
              "      <th></th>\n",
              "      <th></th>\n",
              "      <th></th>\n",
              "      <th></th>\n",
              "      <th></th>\n",
              "      <th></th>\n",
              "      <th></th>\n",
              "      <th></th>\n",
              "      <th></th>\n",
              "      <th></th>\n",
              "      <th></th>\n",
              "      <th></th>\n",
              "      <th></th>\n",
              "      <th></th>\n",
              "      <th></th>\n",
              "      <th></th>\n",
              "      <th></th>\n",
              "      <th></th>\n",
              "    </tr>\n",
              "  </thead>\n",
              "  <tbody>\n",
              "    <tr>\n",
              "      <th>2018090600:776:1</th>\n",
              "      <td>3</td>\n",
              "      <td>1</td>\n",
              "      <td>2</td>\n",
              "      <td>1</td>\n",
              "      <td>1</td>\n",
              "      <td>234.84220</td>\n",
              "      <td>163.61555</td>\n",
              "      <td>29.95</td>\n",
              "      <td>15.29</td>\n",
              "      <td>1</td>\n",
              "      <td>3</td>\n",
              "      <td>1</td>\n",
              "      <td>1</td>\n",
              "      <td>0</td>\n",
              "      <td>0</td>\n",
              "      <td>2</td>\n",
              "      <td>3</td>\n",
              "      <td>3</td>\n",
              "      <td>1</td>\n",
              "      <td>2</td>\n",
              "      <td>6</td>\n",
              "      <td>1</td>\n",
              "      <td>4</td>\n",
              "      <td>-0.25</td>\n",
              "      <td>-1</td>\n",
              "      <td>-2</td>\n",
              "      <td>0.018878</td>\n",
              "      <td>0.018251</td>\n",
              "      <td>0.020833</td>\n",
              "      <td>0.021279</td>\n",
              "      <td>2.854252</td>\n",
              "      <td>0.034065</td>\n",
              "      <td>0.030559</td>\n",
              "      <td>7.978709</td>\n",
              "      <td>7.975552</td>\n",
              "      <td>-7</td>\n",
              "    </tr>\n",
              "    <tr>\n",
              "      <th>2018090600:949:1</th>\n",
              "      <td>0</td>\n",
              "      <td>0</td>\n",
              "      <td>2</td>\n",
              "      <td>3</td>\n",
              "      <td>2</td>\n",
              "      <td>129.48690</td>\n",
              "      <td>129.48690</td>\n",
              "      <td>32.42</td>\n",
              "      <td>7.89</td>\n",
              "      <td>1</td>\n",
              "      <td>3</td>\n",
              "      <td>1</td>\n",
              "      <td>1</td>\n",
              "      <td>0</td>\n",
              "      <td>0</td>\n",
              "      <td>3</td>\n",
              "      <td>1</td>\n",
              "      <td>3</td>\n",
              "      <td>0</td>\n",
              "      <td>4</td>\n",
              "      <td>3</td>\n",
              "      <td>3</td>\n",
              "      <td>2</td>\n",
              "      <td>1.46</td>\n",
              "      <td>-1</td>\n",
              "      <td>-1</td>\n",
              "      <td>0.000000</td>\n",
              "      <td>0.018484</td>\n",
              "      <td>0.021035</td>\n",
              "      <td>0.020745</td>\n",
              "      <td>4.896248</td>\n",
              "      <td>0.054060</td>\n",
              "      <td>0.054060</td>\n",
              "      <td>6.969109</td>\n",
              "      <td>6.969109</td>\n",
              "      <td>-7</td>\n",
              "    </tr>\n",
              "    <tr>\n",
              "      <th>2018090600:1568:1</th>\n",
              "      <td>0</td>\n",
              "      <td>0</td>\n",
              "      <td>1</td>\n",
              "      <td>6</td>\n",
              "      <td>0</td>\n",
              "      <td>162.57650</td>\n",
              "      <td>162.57650</td>\n",
              "      <td>22.58</td>\n",
              "      <td>12.45</td>\n",
              "      <td>1</td>\n",
              "      <td>3</td>\n",
              "      <td>1</td>\n",
              "      <td>1</td>\n",
              "      <td>0</td>\n",
              "      <td>0</td>\n",
              "      <td>3</td>\n",
              "      <td>1</td>\n",
              "      <td>3</td>\n",
              "      <td>0</td>\n",
              "      <td>3</td>\n",
              "      <td>4</td>\n",
              "      <td>1</td>\n",
              "      <td>4</td>\n",
              "      <td>-1.15</td>\n",
              "      <td>-2</td>\n",
              "      <td>0</td>\n",
              "      <td>0.000000</td>\n",
              "      <td>0.020227</td>\n",
              "      <td>0.020223</td>\n",
              "      <td>0.000000</td>\n",
              "      <td>3.899703</td>\n",
              "      <td>0.043057</td>\n",
              "      <td>0.043057</td>\n",
              "      <td>6.975396</td>\n",
              "      <td>6.975396</td>\n",
              "      <td>-9</td>\n",
              "    </tr>\n",
              "    <tr>\n",
              "      <th>2018090600:2503:1</th>\n",
              "      <td>0</td>\n",
              "      <td>1</td>\n",
              "      <td>2</td>\n",
              "      <td>2</td>\n",
              "      <td>2</td>\n",
              "      <td>240.30520</td>\n",
              "      <td>240.30520</td>\n",
              "      <td>33.16</td>\n",
              "      <td>12.69</td>\n",
              "      <td>1</td>\n",
              "      <td>3</td>\n",
              "      <td>1</td>\n",
              "      <td>1</td>\n",
              "      <td>0</td>\n",
              "      <td>0</td>\n",
              "      <td>3</td>\n",
              "      <td>1</td>\n",
              "      <td>3</td>\n",
              "      <td>0</td>\n",
              "      <td>4</td>\n",
              "      <td>3</td>\n",
              "      <td>3</td>\n",
              "      <td>2</td>\n",
              "      <td>2.45</td>\n",
              "      <td>-1</td>\n",
              "      <td>-1</td>\n",
              "      <td>0.020227</td>\n",
              "      <td>0.018484</td>\n",
              "      <td>0.021439</td>\n",
              "      <td>0.020745</td>\n",
              "      <td>2.638312</td>\n",
              "      <td>0.029130</td>\n",
              "      <td>0.029130</td>\n",
              "      <td>6.975032</td>\n",
              "      <td>6.975032</td>\n",
              "      <td>-12</td>\n",
              "    </tr>\n",
              "    <tr>\n",
              "      <th>2018090600:3626:1</th>\n",
              "      <td>2</td>\n",
              "      <td>0</td>\n",
              "      <td>2</td>\n",
              "      <td>4</td>\n",
              "      <td>0</td>\n",
              "      <td>154.37785</td>\n",
              "      <td>147.44340</td>\n",
              "      <td>24.25</td>\n",
              "      <td>11.99</td>\n",
              "      <td>1</td>\n",
              "      <td>2</td>\n",
              "      <td>2</td>\n",
              "      <td>1</td>\n",
              "      <td>0</td>\n",
              "      <td>0</td>\n",
              "      <td>2</td>\n",
              "      <td>3</td>\n",
              "      <td>3</td>\n",
              "      <td>0</td>\n",
              "      <td>5</td>\n",
              "      <td>3</td>\n",
              "      <td>3</td>\n",
              "      <td>2</td>\n",
              "      <td>-5.87</td>\n",
              "      <td>-2</td>\n",
              "      <td>-1</td>\n",
              "      <td>0.000000</td>\n",
              "      <td>0.019512</td>\n",
              "      <td>0.019799</td>\n",
              "      <td>0.000000</td>\n",
              "      <td>3.669205</td>\n",
              "      <td>0.051821</td>\n",
              "      <td>0.040694</td>\n",
              "      <td>7.961134</td>\n",
              "      <td>7.959306</td>\n",
              "      <td>-10</td>\n",
              "    </tr>\n",
              "    <tr>\n",
              "      <th>...</th>\n",
              "      <td>...</td>\n",
              "      <td>...</td>\n",
              "      <td>...</td>\n",
              "      <td>...</td>\n",
              "      <td>...</td>\n",
              "      <td>...</td>\n",
              "      <td>...</td>\n",
              "      <td>...</td>\n",
              "      <td>...</td>\n",
              "      <td>...</td>\n",
              "      <td>...</td>\n",
              "      <td>...</td>\n",
              "      <td>...</td>\n",
              "      <td>...</td>\n",
              "      <td>...</td>\n",
              "      <td>...</td>\n",
              "      <td>...</td>\n",
              "      <td>...</td>\n",
              "      <td>...</td>\n",
              "      <td>...</td>\n",
              "      <td>...</td>\n",
              "      <td>...</td>\n",
              "      <td>...</td>\n",
              "      <td>...</td>\n",
              "      <td>...</td>\n",
              "      <td>...</td>\n",
              "      <td>...</td>\n",
              "      <td>...</td>\n",
              "      <td>...</td>\n",
              "      <td>...</td>\n",
              "      <td>...</td>\n",
              "      <td>...</td>\n",
              "      <td>...</td>\n",
              "      <td>...</td>\n",
              "      <td>...</td>\n",
              "      <td>...</td>\n",
              "    </tr>\n",
              "    <tr>\n",
              "      <th>2018123015:1694:17</th>\n",
              "      <td>3</td>\n",
              "      <td>1</td>\n",
              "      <td>1</td>\n",
              "      <td>1</td>\n",
              "      <td>1</td>\n",
              "      <td>206.35020</td>\n",
              "      <td>137.89705</td>\n",
              "      <td>27.53</td>\n",
              "      <td>14.91</td>\n",
              "      <td>1</td>\n",
              "      <td>3</td>\n",
              "      <td>1</td>\n",
              "      <td>1</td>\n",
              "      <td>0</td>\n",
              "      <td>0</td>\n",
              "      <td>3</td>\n",
              "      <td>2</td>\n",
              "      <td>2</td>\n",
              "      <td>0</td>\n",
              "      <td>2</td>\n",
              "      <td>5</td>\n",
              "      <td>2</td>\n",
              "      <td>3</td>\n",
              "      <td>0.17</td>\n",
              "      <td>0</td>\n",
              "      <td>-2</td>\n",
              "      <td>0.019892</td>\n",
              "      <td>0.019892</td>\n",
              "      <td>0.020227</td>\n",
              "      <td>0.020109</td>\n",
              "      <td>2.654154</td>\n",
              "      <td>0.033923</td>\n",
              "      <td>0.029007</td>\n",
              "      <td>6.975769</td>\n",
              "      <td>6.970993</td>\n",
              "      <td>-8</td>\n",
              "    </tr>\n",
              "    <tr>\n",
              "      <th>2018123015:1921:17</th>\n",
              "      <td>0</td>\n",
              "      <td>0</td>\n",
              "      <td>3</td>\n",
              "      <td>2</td>\n",
              "      <td>2</td>\n",
              "      <td>124.16935</td>\n",
              "      <td>124.16935</td>\n",
              "      <td>36.07</td>\n",
              "      <td>8.24</td>\n",
              "      <td>1</td>\n",
              "      <td>3</td>\n",
              "      <td>1</td>\n",
              "      <td>1</td>\n",
              "      <td>0</td>\n",
              "      <td>0</td>\n",
              "      <td>3</td>\n",
              "      <td>2</td>\n",
              "      <td>2</td>\n",
              "      <td>0</td>\n",
              "      <td>4</td>\n",
              "      <td>3</td>\n",
              "      <td>3</td>\n",
              "      <td>2</td>\n",
              "      <td>-0.12</td>\n",
              "      <td>-1</td>\n",
              "      <td>-1</td>\n",
              "      <td>0.000000</td>\n",
              "      <td>0.019759</td>\n",
              "      <td>0.018591</td>\n",
              "      <td>0.020001</td>\n",
              "      <td>5.315321</td>\n",
              "      <td>0.056375</td>\n",
              "      <td>0.056375</td>\n",
              "      <td>6.967786</td>\n",
              "      <td>6.967786</td>\n",
              "      <td>-7</td>\n",
              "    </tr>\n",
              "    <tr>\n",
              "      <th>2018123015:2469:17</th>\n",
              "      <td>1</td>\n",
              "      <td>1</td>\n",
              "      <td>2</td>\n",
              "      <td>1</td>\n",
              "      <td>2</td>\n",
              "      <td>266.35375</td>\n",
              "      <td>261.58220</td>\n",
              "      <td>31.15</td>\n",
              "      <td>16.07</td>\n",
              "      <td>1</td>\n",
              "      <td>3</td>\n",
              "      <td>1</td>\n",
              "      <td>1</td>\n",
              "      <td>0</td>\n",
              "      <td>0</td>\n",
              "      <td>3</td>\n",
              "      <td>2</td>\n",
              "      <td>2</td>\n",
              "      <td>1</td>\n",
              "      <td>5</td>\n",
              "      <td>2</td>\n",
              "      <td>3</td>\n",
              "      <td>2</td>\n",
              "      <td>-0.32</td>\n",
              "      <td>-2</td>\n",
              "      <td>0</td>\n",
              "      <td>0.019892</td>\n",
              "      <td>0.019526</td>\n",
              "      <td>0.020227</td>\n",
              "      <td>0.020001</td>\n",
              "      <td>2.114058</td>\n",
              "      <td>0.026281</td>\n",
              "      <td>0.022937</td>\n",
              "      <td>6.977474</td>\n",
              "      <td>6.977063</td>\n",
              "      <td>-8</td>\n",
              "    </tr>\n",
              "    <tr>\n",
              "      <th>2018123015:3089:17</th>\n",
              "      <td>0</td>\n",
              "      <td>0</td>\n",
              "      <td>1</td>\n",
              "      <td>5</td>\n",
              "      <td>1</td>\n",
              "      <td>233.56345</td>\n",
              "      <td>233.56345</td>\n",
              "      <td>26.20</td>\n",
              "      <td>12.97</td>\n",
              "      <td>1</td>\n",
              "      <td>3</td>\n",
              "      <td>1</td>\n",
              "      <td>1</td>\n",
              "      <td>0</td>\n",
              "      <td>0</td>\n",
              "      <td>2</td>\n",
              "      <td>1</td>\n",
              "      <td>4</td>\n",
              "      <td>0</td>\n",
              "      <td>3</td>\n",
              "      <td>4</td>\n",
              "      <td>2</td>\n",
              "      <td>3</td>\n",
              "      <td>-0.37</td>\n",
              "      <td>-1</td>\n",
              "      <td>-1</td>\n",
              "      <td>0.000000</td>\n",
              "      <td>0.016636</td>\n",
              "      <td>0.019470</td>\n",
              "      <td>0.020761</td>\n",
              "      <td>2.898570</td>\n",
              "      <td>0.029970</td>\n",
              "      <td>0.029970</td>\n",
              "      <td>6.978593</td>\n",
              "      <td>6.978593</td>\n",
              "      <td>-8</td>\n",
              "    </tr>\n",
              "    <tr>\n",
              "      <th>2018123015:3601:17</th>\n",
              "      <td>2</td>\n",
              "      <td>0</td>\n",
              "      <td>1</td>\n",
              "      <td>4</td>\n",
              "      <td>0</td>\n",
              "      <td>131.03325</td>\n",
              "      <td>93.42570</td>\n",
              "      <td>18.39</td>\n",
              "      <td>12.93</td>\n",
              "      <td>1</td>\n",
              "      <td>3</td>\n",
              "      <td>1</td>\n",
              "      <td>1</td>\n",
              "      <td>0</td>\n",
              "      <td>0</td>\n",
              "      <td>2</td>\n",
              "      <td>1</td>\n",
              "      <td>4</td>\n",
              "      <td>0</td>\n",
              "      <td>3</td>\n",
              "      <td>4</td>\n",
              "      <td>3</td>\n",
              "      <td>2</td>\n",
              "      <td>2.61</td>\n",
              "      <td>0</td>\n",
              "      <td>-2</td>\n",
              "      <td>0.000000</td>\n",
              "      <td>0.018878</td>\n",
              "      <td>0.020090</td>\n",
              "      <td>0.000000</td>\n",
              "      <td>5.020032</td>\n",
              "      <td>0.053422</td>\n",
              "      <td>0.053518</td>\n",
              "      <td>6.969473</td>\n",
              "      <td>6.967889</td>\n",
              "      <td>-9</td>\n",
              "    </tr>\n",
              "  </tbody>\n",
              "</table>\n",
              "<p>757 rows × 36 columns</p>\n",
              "</div>"
            ],
            "text/plain": [
              "                    defensivelinezonePlayers  deepzonePlayers  \\\n",
              "id                                                              \n",
              "2018090600:776:1                           3                1   \n",
              "2018090600:949:1                           0                0   \n",
              "2018090600:1568:1                          0                0   \n",
              "2018090600:2503:1                          0                1   \n",
              "2018090600:3626:1                          2                0   \n",
              "...                                      ...              ...   \n",
              "2018123015:1694:17                         3                1   \n",
              "2018123015:1921:17                         0                0   \n",
              "2018123015:2469:17                         1                1   \n",
              "2018123015:3089:17                         0                0   \n",
              "2018123015:3601:17                         2                0   \n",
              "\n",
              "                    hookzonePlayers  curlzonePlayers  flatzonePlayers  \\\n",
              "id                                                                      \n",
              "2018090600:776:1                  2                1                1   \n",
              "2018090600:949:1                  2                3                2   \n",
              "2018090600:1568:1                 1                6                0   \n",
              "2018090600:2503:1                 2                2                2   \n",
              "2018090600:3626:1                 2                4                0   \n",
              "...                             ...              ...              ...   \n",
              "2018123015:1694:17                1                1                1   \n",
              "2018123015:1921:17                3                2                2   \n",
              "2018123015:2469:17                2                1                2   \n",
              "2018123015:3089:17                1                5                1   \n",
              "2018123015:3601:17                1                4                0   \n",
              "\n",
              "                    defenseArea  defenseAreaCoverDefenders  width  height  \\\n",
              "id                                                                          \n",
              "2018090600:776:1      234.84220                  163.61555  29.95   15.29   \n",
              "2018090600:949:1      129.48690                  129.48690  32.42    7.89   \n",
              "2018090600:1568:1     162.57650                  162.57650  22.58   12.45   \n",
              "2018090600:2503:1     240.30520                  240.30520  33.16   12.69   \n",
              "2018090600:3626:1     154.37785                  147.44340  24.25   11.99   \n",
              "...                         ...                        ...    ...     ...   \n",
              "2018123015:1694:17    206.35020                  137.89705  27.53   14.91   \n",
              "2018123015:1921:17    124.16935                  124.16935  36.07    8.24   \n",
              "2018123015:2469:17    266.35375                  261.58220  31.15   16.07   \n",
              "2018123015:3089:17    233.56345                  233.56345  26.20   12.97   \n",
              "2018123015:3601:17    131.03325                   93.42570  18.39   12.93   \n",
              "\n",
              "                    numberQBs  numberWRs  numberTEs  numberRBs  numberFBs  \\\n",
              "id                                                                          \n",
              "2018090600:776:1            1          3          1          1          0   \n",
              "2018090600:949:1            1          3          1          1          0   \n",
              "2018090600:1568:1           1          3          1          1          0   \n",
              "2018090600:2503:1           1          3          1          1          0   \n",
              "2018090600:3626:1           1          2          2          1          0   \n",
              "...                       ...        ...        ...        ...        ...   \n",
              "2018123015:1694:17          1          3          1          1          0   \n",
              "2018123015:1921:17          1          3          1          1          0   \n",
              "2018123015:2469:17          1          3          1          1          0   \n",
              "2018123015:3089:17          1          3          1          1          0   \n",
              "2018123015:3601:17          1          3          1          1          0   \n",
              "\n",
              "                    numberOffensivePlayersAnotherPosition  numberSafeties  \\\n",
              "id                                                                          \n",
              "2018090600:776:1                                        0               2   \n",
              "2018090600:949:1                                        0               3   \n",
              "2018090600:1568:1                                       0               3   \n",
              "2018090600:2503:1                                       0               3   \n",
              "2018090600:3626:1                                       0               2   \n",
              "...                                                   ...             ...   \n",
              "2018123015:1694:17                                      0               3   \n",
              "2018123015:1921:17                                      0               3   \n",
              "2018123015:2469:17                                      0               3   \n",
              "2018123015:3089:17                                      0               2   \n",
              "2018123015:3601:17                                      0               2   \n",
              "\n",
              "                    numberLBs  numberCBs  strongSide  \\\n",
              "id                                                     \n",
              "2018090600:776:1            3          3           1   \n",
              "2018090600:949:1            1          3           0   \n",
              "2018090600:1568:1           1          3           0   \n",
              "2018090600:2503:1           1          3           0   \n",
              "2018090600:3626:1           3          3           0   \n",
              "...                       ...        ...         ...   \n",
              "2018123015:1694:17          2          2           0   \n",
              "2018123015:1921:17          2          2           0   \n",
              "2018123015:2469:17          2          2           1   \n",
              "2018123015:3089:17          1          4           0   \n",
              "2018123015:3601:17          1          4           0   \n",
              "\n",
              "                    numberPlayersDefenseStrongSide  \\\n",
              "id                                                   \n",
              "2018090600:776:1                                 2   \n",
              "2018090600:949:1                                 4   \n",
              "2018090600:1568:1                                3   \n",
              "2018090600:2503:1                                4   \n",
              "2018090600:3626:1                                5   \n",
              "...                                            ...   \n",
              "2018123015:1694:17                               2   \n",
              "2018123015:1921:17                               4   \n",
              "2018123015:2469:17                               5   \n",
              "2018123015:3089:17                               3   \n",
              "2018123015:3601:17                               3   \n",
              "\n",
              "                    numberPlayersDefenseWeakSide  \\\n",
              "id                                                 \n",
              "2018090600:776:1                               6   \n",
              "2018090600:949:1                               3   \n",
              "2018090600:1568:1                              4   \n",
              "2018090600:2503:1                              3   \n",
              "2018090600:3626:1                              3   \n",
              "...                                          ...   \n",
              "2018123015:1694:17                             5   \n",
              "2018123015:1921:17                             3   \n",
              "2018123015:2469:17                             2   \n",
              "2018123015:3089:17                             4   \n",
              "2018123015:3601:17                             4   \n",
              "\n",
              "                    numberPlayersOffenseStrongSide  \\\n",
              "id                                                   \n",
              "2018090600:776:1                                 1   \n",
              "2018090600:949:1                                 3   \n",
              "2018090600:1568:1                                1   \n",
              "2018090600:2503:1                                3   \n",
              "2018090600:3626:1                                3   \n",
              "...                                            ...   \n",
              "2018123015:1694:17                               2   \n",
              "2018123015:1921:17                               3   \n",
              "2018123015:2469:17                               3   \n",
              "2018123015:3089:17                               2   \n",
              "2018123015:3601:17                               3   \n",
              "\n",
              "                    numberPlayersOffenseWeakSide  \\\n",
              "id                                                 \n",
              "2018090600:776:1                               4   \n",
              "2018090600:949:1                               2   \n",
              "2018090600:1568:1                              4   \n",
              "2018090600:2503:1                              2   \n",
              "2018090600:3626:1                              2   \n",
              "...                                          ...   \n",
              "2018123015:1694:17                             3   \n",
              "2018123015:1921:17                             2   \n",
              "2018123015:2469:17                             2   \n",
              "2018123015:3089:17                             3   \n",
              "2018123015:3601:17                             2   \n",
              "\n",
              "                    differenceOffenseVsDefenseWidth  \\\n",
              "id                                                    \n",
              "2018090600:776:1                              -0.25   \n",
              "2018090600:949:1                               1.46   \n",
              "2018090600:1568:1                             -1.15   \n",
              "2018090600:2503:1                              2.45   \n",
              "2018090600:3626:1                             -5.87   \n",
              "...                                             ...   \n",
              "2018123015:1694:17                             0.17   \n",
              "2018123015:1921:17                            -0.12   \n",
              "2018123015:2469:17                            -0.32   \n",
              "2018123015:3089:17                            -0.37   \n",
              "2018123015:3601:17                             2.61   \n",
              "\n",
              "                    differenceOffenseVsDefenseStrongSide  \\\n",
              "id                                                         \n",
              "2018090600:776:1                                      -1   \n",
              "2018090600:949:1                                      -1   \n",
              "2018090600:1568:1                                     -2   \n",
              "2018090600:2503:1                                     -1   \n",
              "2018090600:3626:1                                     -2   \n",
              "...                                                  ...   \n",
              "2018123015:1694:17                                     0   \n",
              "2018123015:1921:17                                    -1   \n",
              "2018123015:2469:17                                    -2   \n",
              "2018123015:3089:17                                    -1   \n",
              "2018123015:3601:17                                     0   \n",
              "\n",
              "                    differenceOffenseVsDefenseWeakSide  HeightByWeightDeep  \\\n",
              "id                                                                           \n",
              "2018090600:776:1                                    -2            0.018878   \n",
              "2018090600:949:1                                    -1            0.000000   \n",
              "2018090600:1568:1                                    0            0.000000   \n",
              "2018090600:2503:1                                   -1            0.020227   \n",
              "2018090600:3626:1                                   -1            0.000000   \n",
              "...                                                ...                 ...   \n",
              "2018123015:1694:17                                  -2            0.019892   \n",
              "2018123015:1921:17                                  -1            0.000000   \n",
              "2018123015:2469:17                                   0            0.019892   \n",
              "2018123015:3089:17                                  -1            0.000000   \n",
              "2018123015:3601:17                                  -2            0.000000   \n",
              "\n",
              "                    HeightByWeightHook  HeightByWeightCurl  \\\n",
              "id                                                           \n",
              "2018090600:776:1              0.018251            0.020833   \n",
              "2018090600:949:1              0.018484            0.021035   \n",
              "2018090600:1568:1             0.020227            0.020223   \n",
              "2018090600:2503:1             0.018484            0.021439   \n",
              "2018090600:3626:1             0.019512            0.019799   \n",
              "...                                ...                 ...   \n",
              "2018123015:1694:17            0.019892            0.020227   \n",
              "2018123015:1921:17            0.019759            0.018591   \n",
              "2018123015:2469:17            0.019526            0.020227   \n",
              "2018123015:3089:17            0.016636            0.019470   \n",
              "2018123015:3601:17            0.018878            0.020090   \n",
              "\n",
              "                    HeightByWeightFlat  WeightByArea   density  densityNoLine  \\\n",
              "id                                                                              \n",
              "2018090600:776:1              0.021279      2.854252  0.034065       0.030559   \n",
              "2018090600:949:1              0.020745      4.896248  0.054060       0.054060   \n",
              "2018090600:1568:1             0.000000      3.899703  0.043057       0.043057   \n",
              "2018090600:2503:1             0.020745      2.638312  0.029130       0.029130   \n",
              "2018090600:3626:1             0.000000      3.669205  0.051821       0.040694   \n",
              "...                                ...           ...       ...            ...   \n",
              "2018123015:1694:17            0.020109      2.654154  0.033923       0.029007   \n",
              "2018123015:1921:17            0.020001      5.315321  0.056375       0.056375   \n",
              "2018123015:2469:17            0.020001      2.114058  0.026281       0.022937   \n",
              "2018123015:3089:17            0.020761      2.898570  0.029970       0.029970   \n",
              "2018123015:3601:17            0.000000      5.020032  0.053422       0.053518   \n",
              "\n",
              "                    densityInsidePoints  densityInsidePointsNoLine  playResult  \n",
              "id                                                                              \n",
              "2018090600:776:1               7.978709                   7.975552          -7  \n",
              "2018090600:949:1               6.969109                   6.969109          -7  \n",
              "2018090600:1568:1              6.975396                   6.975396          -9  \n",
              "2018090600:2503:1              6.975032                   6.975032         -12  \n",
              "2018090600:3626:1              7.961134                   7.959306         -10  \n",
              "...                                 ...                        ...         ...  \n",
              "2018123015:1694:17             6.975769                   6.970993          -8  \n",
              "2018123015:1921:17             6.967786                   6.967786          -7  \n",
              "2018123015:2469:17             6.977474                   6.977063          -8  \n",
              "2018123015:3089:17             6.978593                   6.978593          -8  \n",
              "2018123015:3601:17             6.969473                   6.967889          -9  \n",
              "\n",
              "[757 rows x 36 columns]"
            ]
          },
          "metadata": {
            "tags": []
          },
          "execution_count": 55
        }
      ]
    },
    {
      "cell_type": "code",
      "metadata": {
        "id": "IrBrveRyVDde"
      },
      "source": [
        "big_play_offense = static_defenses[static_defenses[\"playResult\"]<=-7]"
      ],
      "execution_count": null,
      "outputs": []
    },
    {
      "cell_type": "code",
      "metadata": {
        "id": "XQLln5i8VJwj"
      },
      "source": [
        "static_defenses.drop(static_defenses[static_defenses[\"playResult\"]<=-7].index,inplace=True)"
      ],
      "execution_count": null,
      "outputs": []
    },
    {
      "cell_type": "markdown",
      "metadata": {
        "id": "isZYIaa8XW-j"
      },
      "source": [
        "#Normalización de los datos"
      ]
    },
    {
      "cell_type": "code",
      "metadata": {
        "id": "transparent-planner"
      },
      "source": [
        "scaler = preprocessing.StandardScaler()\n",
        "static_defenses1 = scaler.fit_transform(static_defenses.drop([\"playResult\"],axis=1))"
      ],
      "execution_count": null,
      "outputs": []
    },
    {
      "cell_type": "code",
      "metadata": {
        "id": "lesser-bedroom"
      },
      "source": [
        "scaler = preprocessing.MinMaxScaler()\n",
        "static_defenses2 = scaler.fit_transform(static_defenses.drop([\"playResult\"],axis=1))"
      ],
      "execution_count": null,
      "outputs": []
    },
    {
      "cell_type": "code",
      "metadata": {
        "id": "broad-height"
      },
      "source": [
        "scaler = preprocessing.RobustScaler()\n",
        "static_defenses3 = scaler.fit_transform(static_defenses.drop([\"playResult\"],axis=1))"
      ],
      "execution_count": null,
      "outputs": []
    },
    {
      "cell_type": "code",
      "metadata": {
        "id": "ultimate-alabama"
      },
      "source": [
        "scaler = preprocessing.PowerTransformer()\n",
        "static_defenses4 = scaler.fit_transform(static_defenses.drop([\"playResult\"],axis=1))"
      ],
      "execution_count": null,
      "outputs": []
    },
    {
      "cell_type": "markdown",
      "metadata": {
        "id": "uPYwULfbEPN4"
      },
      "source": [
        "#PCA"
      ]
    },
    {
      "cell_type": "code",
      "metadata": {
        "colab": {
          "base_uri": "https://localhost:8080/"
        },
        "id": "recreational-stockholm",
        "outputId": "ebbe5d4c-41e9-4221-a1a8-b4015ecd108d"
      },
      "source": [
        "pca_ss = PCA ()\n",
        "X_pca_ss = pca_ss.fit_transform(static_defenses1)\n",
        "X_pca_ss.shape"
      ],
      "execution_count": null,
      "outputs": [
        {
          "output_type": "execute_result",
          "data": {
            "text/plain": [
              "(13055, 35)"
            ]
          },
          "metadata": {
            "tags": []
          },
          "execution_count": 64
        }
      ]
    },
    {
      "cell_type": "code",
      "metadata": {
        "colab": {
          "base_uri": "https://localhost:8080/"
        },
        "id": "recent-fleet",
        "outputId": "9eb3fe14-f7e6-42ad-a5c6-252f4c36d5d8"
      },
      "source": [
        "pca_mms = PCA ()\n",
        "X_pca_mms = pca_mms.fit_transform(static_defenses2)\n",
        "X_pca_mms.shape"
      ],
      "execution_count": null,
      "outputs": [
        {
          "output_type": "execute_result",
          "data": {
            "text/plain": [
              "(13055, 35)"
            ]
          },
          "metadata": {
            "tags": []
          },
          "execution_count": 65
        }
      ]
    },
    {
      "cell_type": "code",
      "metadata": {
        "colab": {
          "base_uri": "https://localhost:8080/"
        },
        "id": "coated-invalid",
        "outputId": "3f3b5af4-b4db-447b-ba05-d45a9f69e62c"
      },
      "source": [
        "pca_rs = PCA ()\n",
        "X_pca_rs = pca_rs.fit_transform(static_defenses3)\n",
        "X_pca_rs.shape"
      ],
      "execution_count": null,
      "outputs": [
        {
          "output_type": "execute_result",
          "data": {
            "text/plain": [
              "(13055, 35)"
            ]
          },
          "metadata": {
            "tags": []
          },
          "execution_count": 66
        }
      ]
    },
    {
      "cell_type": "code",
      "metadata": {
        "colab": {
          "base_uri": "https://localhost:8080/"
        },
        "id": "saved-webster",
        "outputId": "ab39cd11-b351-4f36-d2d6-bfa4b8223423"
      },
      "source": [
        "pca_pt = PCA ()\n",
        "X_pca_pt = pca_pt.fit_transform(static_defenses4)\n",
        "X_pca_pt.shape"
      ],
      "execution_count": null,
      "outputs": [
        {
          "output_type": "execute_result",
          "data": {
            "text/plain": [
              "(13055, 35)"
            ]
          },
          "metadata": {
            "tags": []
          },
          "execution_count": 67
        }
      ]
    },
    {
      "cell_type": "code",
      "metadata": {
        "colab": {
          "base_uri": "https://localhost:8080/",
          "height": 542
        },
        "id": "neutral-hampshire",
        "outputId": "19132ae6-0fc6-4387-b004-0a7474f95d6b"
      },
      "source": [
        "exp_var_cumul = np.cumsum(pca_ss.explained_variance_ratio_)\n",
        "\n",
        "px.area(\n",
        "    x=range(1, exp_var_cumul.shape[0] + 1),\n",
        "    y=exp_var_cumul,\n",
        "    labels={\"x\": \"# Components\", \"y\": \"Explained Variance\"}\n",
        ")"
      ],
      "execution_count": null,
      "outputs": [
        {
          "output_type": "display_data",
          "data": {
            "text/html": [
              "<html>\n",
              "<head><meta charset=\"utf-8\" /></head>\n",
              "<body>\n",
              "    <div>\n",
              "            <script src=\"https://cdnjs.cloudflare.com/ajax/libs/mathjax/2.7.5/MathJax.js?config=TeX-AMS-MML_SVG\"></script><script type=\"text/javascript\">if (window.MathJax) {MathJax.Hub.Config({SVG: {font: \"STIX-Web\"}});}</script>\n",
              "                <script type=\"text/javascript\">window.PlotlyConfig = {MathJaxConfig: 'local'};</script>\n",
              "        <script src=\"https://cdn.plot.ly/plotly-latest.min.js\"></script>    \n",
              "            <div id=\"83d958bd-0d08-4a37-93f4-edd61580f802\" class=\"plotly-graph-div\" style=\"height:525px; width:100%;\"></div>\n",
              "            <script type=\"text/javascript\">\n",
              "                \n",
              "                    window.PLOTLYENV=window.PLOTLYENV || {};\n",
              "                    \n",
              "                if (document.getElementById(\"83d958bd-0d08-4a37-93f4-edd61580f802\")) {\n",
              "                    Plotly.newPlot(\n",
              "                        '83d958bd-0d08-4a37-93f4-edd61580f802',\n",
              "                        [{\"hoverlabel\": {\"namelength\": 0}, \"hovertemplate\": \"# Components=%{x}<br>Explained Variance=%{y}\", \"legendgroup\": \"\", \"line\": {\"color\": \"#636efa\"}, \"mode\": \"lines\", \"name\": \"\", \"orientation\": \"v\", \"showlegend\": false, \"stackgroup\": \"1\", \"type\": \"scatter\", \"x\": [1, 2, 3, 4, 5, 6, 7, 8, 9, 10, 11, 12, 13, 14, 15, 16, 17, 18, 19, 20, 21, 22, 23, 24, 25, 26, 27, 28, 29, 30, 31, 32, 33, 34, 35], \"xaxis\": \"x\", \"y\": [0.21325767723890723, 0.3457301249528405, 0.42858810772246414, 0.4971283379837469, 0.56025844437861, 0.617453920721486, 0.6612409263348727, 0.6978320338171512, 0.7304203423362229, 0.7611806260009706, 0.7909438453452189, 0.8206470007657617, 0.8485341761687759, 0.8752440795045419, 0.901257312485918, 0.921571401726619, 0.941165197211899, 0.9561464250593985, 0.9693296385693774, 0.9787648862905195, 0.9864716516036782, 0.9910694515950075, 0.9940643782499554, 0.9964195719045335, 0.9981415323749027, 0.9991325493796012, 0.999576337775886, 0.9998269610219571, 0.9999072738953988, 0.9999660293323471, 0.9999983591866706, 0.9999997747090186, 1.0, 1.0, 1.0], \"yaxis\": \"y\"}],\n",
              "                        {\"legend\": {\"tracegroupgap\": 0}, \"margin\": {\"t\": 60}, \"template\": {\"data\": {\"bar\": [{\"error_x\": {\"color\": \"#2a3f5f\"}, \"error_y\": {\"color\": \"#2a3f5f\"}, \"marker\": {\"line\": {\"color\": \"#E5ECF6\", \"width\": 0.5}}, \"type\": \"bar\"}], \"barpolar\": [{\"marker\": {\"line\": {\"color\": \"#E5ECF6\", \"width\": 0.5}}, \"type\": \"barpolar\"}], \"carpet\": [{\"aaxis\": {\"endlinecolor\": \"#2a3f5f\", \"gridcolor\": \"white\", \"linecolor\": \"white\", \"minorgridcolor\": \"white\", \"startlinecolor\": \"#2a3f5f\"}, \"baxis\": {\"endlinecolor\": \"#2a3f5f\", \"gridcolor\": \"white\", \"linecolor\": \"white\", \"minorgridcolor\": \"white\", \"startlinecolor\": \"#2a3f5f\"}, \"type\": \"carpet\"}], \"choropleth\": [{\"colorbar\": {\"outlinewidth\": 0, \"ticks\": \"\"}, \"type\": \"choropleth\"}], \"contour\": [{\"colorbar\": {\"outlinewidth\": 0, \"ticks\": \"\"}, \"colorscale\": [[0.0, \"#0d0887\"], [0.1111111111111111, \"#46039f\"], [0.2222222222222222, \"#7201a8\"], [0.3333333333333333, \"#9c179e\"], [0.4444444444444444, \"#bd3786\"], [0.5555555555555556, \"#d8576b\"], [0.6666666666666666, \"#ed7953\"], [0.7777777777777778, \"#fb9f3a\"], [0.8888888888888888, \"#fdca26\"], [1.0, \"#f0f921\"]], \"type\": \"contour\"}], \"contourcarpet\": [{\"colorbar\": {\"outlinewidth\": 0, \"ticks\": \"\"}, \"type\": \"contourcarpet\"}], \"heatmap\": [{\"colorbar\": {\"outlinewidth\": 0, \"ticks\": \"\"}, \"colorscale\": [[0.0, \"#0d0887\"], [0.1111111111111111, \"#46039f\"], [0.2222222222222222, \"#7201a8\"], [0.3333333333333333, \"#9c179e\"], [0.4444444444444444, \"#bd3786\"], [0.5555555555555556, \"#d8576b\"], [0.6666666666666666, \"#ed7953\"], [0.7777777777777778, \"#fb9f3a\"], [0.8888888888888888, \"#fdca26\"], [1.0, \"#f0f921\"]], \"type\": \"heatmap\"}], \"heatmapgl\": [{\"colorbar\": {\"outlinewidth\": 0, \"ticks\": \"\"}, \"colorscale\": [[0.0, \"#0d0887\"], [0.1111111111111111, \"#46039f\"], [0.2222222222222222, \"#7201a8\"], [0.3333333333333333, \"#9c179e\"], [0.4444444444444444, \"#bd3786\"], [0.5555555555555556, \"#d8576b\"], [0.6666666666666666, \"#ed7953\"], [0.7777777777777778, \"#fb9f3a\"], [0.8888888888888888, \"#fdca26\"], [1.0, \"#f0f921\"]], \"type\": \"heatmapgl\"}], \"histogram\": [{\"marker\": {\"colorbar\": {\"outlinewidth\": 0, \"ticks\": \"\"}}, \"type\": \"histogram\"}], \"histogram2d\": [{\"colorbar\": {\"outlinewidth\": 0, \"ticks\": \"\"}, \"colorscale\": [[0.0, \"#0d0887\"], [0.1111111111111111, \"#46039f\"], [0.2222222222222222, \"#7201a8\"], [0.3333333333333333, \"#9c179e\"], [0.4444444444444444, \"#bd3786\"], [0.5555555555555556, \"#d8576b\"], [0.6666666666666666, \"#ed7953\"], [0.7777777777777778, \"#fb9f3a\"], [0.8888888888888888, \"#fdca26\"], [1.0, \"#f0f921\"]], \"type\": \"histogram2d\"}], \"histogram2dcontour\": [{\"colorbar\": {\"outlinewidth\": 0, \"ticks\": \"\"}, \"colorscale\": [[0.0, \"#0d0887\"], [0.1111111111111111, \"#46039f\"], [0.2222222222222222, \"#7201a8\"], [0.3333333333333333, \"#9c179e\"], [0.4444444444444444, \"#bd3786\"], [0.5555555555555556, \"#d8576b\"], [0.6666666666666666, \"#ed7953\"], [0.7777777777777778, \"#fb9f3a\"], [0.8888888888888888, \"#fdca26\"], [1.0, \"#f0f921\"]], \"type\": \"histogram2dcontour\"}], \"mesh3d\": [{\"colorbar\": {\"outlinewidth\": 0, \"ticks\": \"\"}, \"type\": \"mesh3d\"}], \"parcoords\": [{\"line\": {\"colorbar\": {\"outlinewidth\": 0, \"ticks\": \"\"}}, \"type\": \"parcoords\"}], \"pie\": [{\"automargin\": true, \"type\": \"pie\"}], \"scatter\": [{\"marker\": {\"colorbar\": {\"outlinewidth\": 0, \"ticks\": \"\"}}, \"type\": \"scatter\"}], \"scatter3d\": [{\"line\": {\"colorbar\": {\"outlinewidth\": 0, \"ticks\": \"\"}}, \"marker\": {\"colorbar\": {\"outlinewidth\": 0, \"ticks\": \"\"}}, \"type\": \"scatter3d\"}], \"scattercarpet\": [{\"marker\": {\"colorbar\": {\"outlinewidth\": 0, \"ticks\": \"\"}}, \"type\": \"scattercarpet\"}], \"scattergeo\": [{\"marker\": {\"colorbar\": {\"outlinewidth\": 0, \"ticks\": \"\"}}, \"type\": \"scattergeo\"}], \"scattergl\": [{\"marker\": {\"colorbar\": {\"outlinewidth\": 0, \"ticks\": \"\"}}, \"type\": \"scattergl\"}], \"scattermapbox\": [{\"marker\": {\"colorbar\": {\"outlinewidth\": 0, \"ticks\": \"\"}}, \"type\": \"scattermapbox\"}], \"scatterpolar\": [{\"marker\": {\"colorbar\": {\"outlinewidth\": 0, \"ticks\": \"\"}}, \"type\": \"scatterpolar\"}], \"scatterpolargl\": [{\"marker\": {\"colorbar\": {\"outlinewidth\": 0, \"ticks\": \"\"}}, \"type\": \"scatterpolargl\"}], \"scatterternary\": [{\"marker\": {\"colorbar\": {\"outlinewidth\": 0, \"ticks\": \"\"}}, \"type\": \"scatterternary\"}], \"surface\": [{\"colorbar\": {\"outlinewidth\": 0, \"ticks\": \"\"}, \"colorscale\": [[0.0, \"#0d0887\"], [0.1111111111111111, \"#46039f\"], [0.2222222222222222, \"#7201a8\"], [0.3333333333333333, \"#9c179e\"], [0.4444444444444444, \"#bd3786\"], [0.5555555555555556, \"#d8576b\"], [0.6666666666666666, \"#ed7953\"], [0.7777777777777778, \"#fb9f3a\"], [0.8888888888888888, \"#fdca26\"], [1.0, \"#f0f921\"]], \"type\": \"surface\"}], \"table\": [{\"cells\": {\"fill\": {\"color\": \"#EBF0F8\"}, \"line\": {\"color\": \"white\"}}, \"header\": {\"fill\": {\"color\": \"#C8D4E3\"}, \"line\": {\"color\": \"white\"}}, \"type\": \"table\"}]}, \"layout\": {\"annotationdefaults\": {\"arrowcolor\": \"#2a3f5f\", \"arrowhead\": 0, \"arrowwidth\": 1}, \"coloraxis\": {\"colorbar\": {\"outlinewidth\": 0, \"ticks\": \"\"}}, \"colorscale\": {\"diverging\": [[0, \"#8e0152\"], [0.1, \"#c51b7d\"], [0.2, \"#de77ae\"], [0.3, \"#f1b6da\"], [0.4, \"#fde0ef\"], [0.5, \"#f7f7f7\"], [0.6, \"#e6f5d0\"], [0.7, \"#b8e186\"], [0.8, \"#7fbc41\"], [0.9, \"#4d9221\"], [1, \"#276419\"]], \"sequential\": [[0.0, \"#0d0887\"], [0.1111111111111111, \"#46039f\"], [0.2222222222222222, \"#7201a8\"], [0.3333333333333333, \"#9c179e\"], [0.4444444444444444, \"#bd3786\"], [0.5555555555555556, \"#d8576b\"], [0.6666666666666666, \"#ed7953\"], [0.7777777777777778, \"#fb9f3a\"], [0.8888888888888888, \"#fdca26\"], [1.0, \"#f0f921\"]], \"sequentialminus\": [[0.0, \"#0d0887\"], [0.1111111111111111, \"#46039f\"], [0.2222222222222222, \"#7201a8\"], [0.3333333333333333, \"#9c179e\"], [0.4444444444444444, \"#bd3786\"], [0.5555555555555556, \"#d8576b\"], [0.6666666666666666, \"#ed7953\"], [0.7777777777777778, \"#fb9f3a\"], [0.8888888888888888, \"#fdca26\"], [1.0, \"#f0f921\"]]}, \"colorway\": [\"#636efa\", \"#EF553B\", \"#00cc96\", \"#ab63fa\", \"#FFA15A\", \"#19d3f3\", \"#FF6692\", \"#B6E880\", \"#FF97FF\", \"#FECB52\"], \"font\": {\"color\": \"#2a3f5f\"}, \"geo\": {\"bgcolor\": \"white\", \"lakecolor\": \"white\", \"landcolor\": \"#E5ECF6\", \"showlakes\": true, \"showland\": true, \"subunitcolor\": \"white\"}, \"hoverlabel\": {\"align\": \"left\"}, \"hovermode\": \"closest\", \"mapbox\": {\"style\": \"light\"}, \"paper_bgcolor\": \"white\", \"plot_bgcolor\": \"#E5ECF6\", \"polar\": {\"angularaxis\": {\"gridcolor\": \"white\", \"linecolor\": \"white\", \"ticks\": \"\"}, \"bgcolor\": \"#E5ECF6\", \"radialaxis\": {\"gridcolor\": \"white\", \"linecolor\": \"white\", \"ticks\": \"\"}}, \"scene\": {\"xaxis\": {\"backgroundcolor\": \"#E5ECF6\", \"gridcolor\": \"white\", \"gridwidth\": 2, \"linecolor\": \"white\", \"showbackground\": true, \"ticks\": \"\", \"zerolinecolor\": \"white\"}, \"yaxis\": {\"backgroundcolor\": \"#E5ECF6\", \"gridcolor\": \"white\", \"gridwidth\": 2, \"linecolor\": \"white\", \"showbackground\": true, \"ticks\": \"\", \"zerolinecolor\": \"white\"}, \"zaxis\": {\"backgroundcolor\": \"#E5ECF6\", \"gridcolor\": \"white\", \"gridwidth\": 2, \"linecolor\": \"white\", \"showbackground\": true, \"ticks\": \"\", \"zerolinecolor\": \"white\"}}, \"shapedefaults\": {\"line\": {\"color\": \"#2a3f5f\"}}, \"ternary\": {\"aaxis\": {\"gridcolor\": \"white\", \"linecolor\": \"white\", \"ticks\": \"\"}, \"baxis\": {\"gridcolor\": \"white\", \"linecolor\": \"white\", \"ticks\": \"\"}, \"bgcolor\": \"#E5ECF6\", \"caxis\": {\"gridcolor\": \"white\", \"linecolor\": \"white\", \"ticks\": \"\"}}, \"title\": {\"x\": 0.05}, \"xaxis\": {\"automargin\": true, \"gridcolor\": \"white\", \"linecolor\": \"white\", \"ticks\": \"\", \"title\": {\"standoff\": 15}, \"zerolinecolor\": \"white\", \"zerolinewidth\": 2}, \"yaxis\": {\"automargin\": true, \"gridcolor\": \"white\", \"linecolor\": \"white\", \"ticks\": \"\", \"title\": {\"standoff\": 15}, \"zerolinecolor\": \"white\", \"zerolinewidth\": 2}}}, \"xaxis\": {\"anchor\": \"y\", \"domain\": [0.0, 1.0], \"title\": {\"text\": \"# Components\"}}, \"yaxis\": {\"anchor\": \"x\", \"domain\": [0.0, 1.0], \"title\": {\"text\": \"Explained Variance\"}}},\n",
              "                        {\"responsive\": true}\n",
              "                    ).then(function(){\n",
              "                            \n",
              "var gd = document.getElementById('83d958bd-0d08-4a37-93f4-edd61580f802');\n",
              "var x = new MutationObserver(function (mutations, observer) {{\n",
              "        var display = window.getComputedStyle(gd).display;\n",
              "        if (!display || display === 'none') {{\n",
              "            console.log([gd, 'removed!']);\n",
              "            Plotly.purge(gd);\n",
              "            observer.disconnect();\n",
              "        }}\n",
              "}});\n",
              "\n",
              "// Listen for the removal of the full notebook cells\n",
              "var notebookContainer = gd.closest('#notebook-container');\n",
              "if (notebookContainer) {{\n",
              "    x.observe(notebookContainer, {childList: true});\n",
              "}}\n",
              "\n",
              "// Listen for the clearing of the current output cell\n",
              "var outputEl = gd.closest('.output');\n",
              "if (outputEl) {{\n",
              "    x.observe(outputEl, {childList: true});\n",
              "}}\n",
              "\n",
              "                        })\n",
              "                };\n",
              "                \n",
              "            </script>\n",
              "        </div>\n",
              "</body>\n",
              "</html>"
            ]
          },
          "metadata": {
            "tags": []
          }
        }
      ]
    },
    {
      "cell_type": "markdown",
      "metadata": {
        "id": "found-brass"
      },
      "source": [
        "Para este 14 componentes"
      ]
    },
    {
      "cell_type": "code",
      "metadata": {
        "colab": {
          "base_uri": "https://localhost:8080/",
          "height": 542
        },
        "id": "regulation-circuit",
        "outputId": "c0b19eab-9e9b-4419-aaf7-9e09c1d24200"
      },
      "source": [
        "exp_var_cumul = np.cumsum(pca_mms.explained_variance_ratio_)\n",
        "\n",
        "px.area(\n",
        "    x=range(1, exp_var_cumul.shape[0] + 1),\n",
        "    y=exp_var_cumul,\n",
        "    labels={\"x\": \"# Components\", \"y\": \"Explained Variance\"}\n",
        ")"
      ],
      "execution_count": null,
      "outputs": [
        {
          "output_type": "display_data",
          "data": {
            "text/html": [
              "<html>\n",
              "<head><meta charset=\"utf-8\" /></head>\n",
              "<body>\n",
              "    <div>\n",
              "            <script src=\"https://cdnjs.cloudflare.com/ajax/libs/mathjax/2.7.5/MathJax.js?config=TeX-AMS-MML_SVG\"></script><script type=\"text/javascript\">if (window.MathJax) {MathJax.Hub.Config({SVG: {font: \"STIX-Web\"}});}</script>\n",
              "                <script type=\"text/javascript\">window.PlotlyConfig = {MathJaxConfig: 'local'};</script>\n",
              "        <script src=\"https://cdn.plot.ly/plotly-latest.min.js\"></script>    \n",
              "            <div id=\"6e2641d6-9c73-4262-a9da-34c8630d15b2\" class=\"plotly-graph-div\" style=\"height:525px; width:100%;\"></div>\n",
              "            <script type=\"text/javascript\">\n",
              "                \n",
              "                    window.PLOTLYENV=window.PLOTLYENV || {};\n",
              "                    \n",
              "                if (document.getElementById(\"6e2641d6-9c73-4262-a9da-34c8630d15b2\")) {\n",
              "                    Plotly.newPlot(\n",
              "                        '6e2641d6-9c73-4262-a9da-34c8630d15b2',\n",
              "                        [{\"hoverlabel\": {\"namelength\": 0}, \"hovertemplate\": \"# Components=%{x}<br>Explained Variance=%{y}\", \"legendgroup\": \"\", \"line\": {\"color\": \"#636efa\"}, \"mode\": \"lines\", \"name\": \"\", \"orientation\": \"v\", \"showlegend\": false, \"stackgroup\": \"1\", \"type\": \"scatter\", \"x\": [1, 2, 3, 4, 5, 6, 7, 8, 9, 10, 11, 12, 13, 14, 15, 16, 17, 18, 19, 20, 21, 22, 23, 24, 25, 26, 27, 28, 29, 30, 31, 32, 33, 34, 35], \"xaxis\": \"x\", \"y\": [0.22776732590735044, 0.4431194708852184, 0.5978027389642885, 0.6908807842094746, 0.7471047876073427, 0.787874058177892, 0.8248348664982933, 0.8571001498959728, 0.8860582936964864, 0.9096109211608664, 0.926826722332752, 0.9425462969076319, 0.9526364395614465, 0.9624468959596617, 0.971553593991169, 0.9794385983548798, 0.9837029842514119, 0.9871420945888033, 0.9902765822725553, 0.9930689200430716, 0.9955392651758079, 0.9970003251224301, 0.9980312867648387, 0.9986734818652238, 0.9992681245823467, 0.9996816423094289, 0.9998463708812394, 0.9999104528387261, 0.99996220187396, 0.9999920476511684, 0.9999989425441709, 0.99999983443241, 0.9999999999999997, 0.9999999999999997, 0.9999999999999997], \"yaxis\": \"y\"}],\n",
              "                        {\"legend\": {\"tracegroupgap\": 0}, \"margin\": {\"t\": 60}, \"template\": {\"data\": {\"bar\": [{\"error_x\": {\"color\": \"#2a3f5f\"}, \"error_y\": {\"color\": \"#2a3f5f\"}, \"marker\": {\"line\": {\"color\": \"#E5ECF6\", \"width\": 0.5}}, \"type\": \"bar\"}], \"barpolar\": [{\"marker\": {\"line\": {\"color\": \"#E5ECF6\", \"width\": 0.5}}, \"type\": \"barpolar\"}], \"carpet\": [{\"aaxis\": {\"endlinecolor\": \"#2a3f5f\", \"gridcolor\": \"white\", \"linecolor\": \"white\", \"minorgridcolor\": \"white\", \"startlinecolor\": \"#2a3f5f\"}, \"baxis\": {\"endlinecolor\": \"#2a3f5f\", \"gridcolor\": \"white\", \"linecolor\": \"white\", \"minorgridcolor\": \"white\", \"startlinecolor\": \"#2a3f5f\"}, \"type\": \"carpet\"}], \"choropleth\": [{\"colorbar\": {\"outlinewidth\": 0, \"ticks\": \"\"}, \"type\": \"choropleth\"}], \"contour\": [{\"colorbar\": {\"outlinewidth\": 0, \"ticks\": \"\"}, \"colorscale\": [[0.0, \"#0d0887\"], [0.1111111111111111, \"#46039f\"], [0.2222222222222222, \"#7201a8\"], [0.3333333333333333, \"#9c179e\"], [0.4444444444444444, \"#bd3786\"], [0.5555555555555556, \"#d8576b\"], [0.6666666666666666, \"#ed7953\"], [0.7777777777777778, \"#fb9f3a\"], [0.8888888888888888, \"#fdca26\"], [1.0, \"#f0f921\"]], \"type\": \"contour\"}], \"contourcarpet\": [{\"colorbar\": {\"outlinewidth\": 0, \"ticks\": \"\"}, \"type\": \"contourcarpet\"}], \"heatmap\": [{\"colorbar\": {\"outlinewidth\": 0, \"ticks\": \"\"}, \"colorscale\": [[0.0, \"#0d0887\"], [0.1111111111111111, \"#46039f\"], [0.2222222222222222, \"#7201a8\"], [0.3333333333333333, \"#9c179e\"], [0.4444444444444444, \"#bd3786\"], [0.5555555555555556, \"#d8576b\"], [0.6666666666666666, \"#ed7953\"], [0.7777777777777778, \"#fb9f3a\"], [0.8888888888888888, \"#fdca26\"], [1.0, \"#f0f921\"]], \"type\": \"heatmap\"}], \"heatmapgl\": [{\"colorbar\": {\"outlinewidth\": 0, \"ticks\": \"\"}, \"colorscale\": [[0.0, \"#0d0887\"], [0.1111111111111111, \"#46039f\"], [0.2222222222222222, \"#7201a8\"], [0.3333333333333333, \"#9c179e\"], [0.4444444444444444, \"#bd3786\"], [0.5555555555555556, \"#d8576b\"], [0.6666666666666666, \"#ed7953\"], [0.7777777777777778, \"#fb9f3a\"], [0.8888888888888888, \"#fdca26\"], [1.0, \"#f0f921\"]], \"type\": \"heatmapgl\"}], \"histogram\": [{\"marker\": {\"colorbar\": {\"outlinewidth\": 0, \"ticks\": \"\"}}, \"type\": \"histogram\"}], \"histogram2d\": [{\"colorbar\": {\"outlinewidth\": 0, \"ticks\": \"\"}, \"colorscale\": [[0.0, \"#0d0887\"], [0.1111111111111111, \"#46039f\"], [0.2222222222222222, \"#7201a8\"], [0.3333333333333333, \"#9c179e\"], [0.4444444444444444, \"#bd3786\"], [0.5555555555555556, \"#d8576b\"], [0.6666666666666666, \"#ed7953\"], [0.7777777777777778, \"#fb9f3a\"], [0.8888888888888888, \"#fdca26\"], [1.0, \"#f0f921\"]], \"type\": \"histogram2d\"}], \"histogram2dcontour\": [{\"colorbar\": {\"outlinewidth\": 0, \"ticks\": \"\"}, \"colorscale\": [[0.0, \"#0d0887\"], [0.1111111111111111, \"#46039f\"], [0.2222222222222222, \"#7201a8\"], [0.3333333333333333, \"#9c179e\"], [0.4444444444444444, \"#bd3786\"], [0.5555555555555556, \"#d8576b\"], [0.6666666666666666, \"#ed7953\"], [0.7777777777777778, \"#fb9f3a\"], [0.8888888888888888, \"#fdca26\"], [1.0, \"#f0f921\"]], \"type\": \"histogram2dcontour\"}], \"mesh3d\": [{\"colorbar\": {\"outlinewidth\": 0, \"ticks\": \"\"}, \"type\": \"mesh3d\"}], \"parcoords\": [{\"line\": {\"colorbar\": {\"outlinewidth\": 0, \"ticks\": \"\"}}, \"type\": \"parcoords\"}], \"pie\": [{\"automargin\": true, \"type\": \"pie\"}], \"scatter\": [{\"marker\": {\"colorbar\": {\"outlinewidth\": 0, \"ticks\": \"\"}}, \"type\": \"scatter\"}], \"scatter3d\": [{\"line\": {\"colorbar\": {\"outlinewidth\": 0, \"ticks\": \"\"}}, \"marker\": {\"colorbar\": {\"outlinewidth\": 0, \"ticks\": \"\"}}, \"type\": \"scatter3d\"}], \"scattercarpet\": [{\"marker\": {\"colorbar\": {\"outlinewidth\": 0, \"ticks\": \"\"}}, \"type\": \"scattercarpet\"}], \"scattergeo\": [{\"marker\": {\"colorbar\": {\"outlinewidth\": 0, \"ticks\": \"\"}}, \"type\": \"scattergeo\"}], \"scattergl\": [{\"marker\": {\"colorbar\": {\"outlinewidth\": 0, \"ticks\": \"\"}}, \"type\": \"scattergl\"}], \"scattermapbox\": [{\"marker\": {\"colorbar\": {\"outlinewidth\": 0, \"ticks\": \"\"}}, \"type\": \"scattermapbox\"}], \"scatterpolar\": [{\"marker\": {\"colorbar\": {\"outlinewidth\": 0, \"ticks\": \"\"}}, \"type\": \"scatterpolar\"}], \"scatterpolargl\": [{\"marker\": {\"colorbar\": {\"outlinewidth\": 0, \"ticks\": \"\"}}, \"type\": \"scatterpolargl\"}], \"scatterternary\": [{\"marker\": {\"colorbar\": {\"outlinewidth\": 0, \"ticks\": \"\"}}, \"type\": \"scatterternary\"}], \"surface\": [{\"colorbar\": {\"outlinewidth\": 0, \"ticks\": \"\"}, \"colorscale\": [[0.0, \"#0d0887\"], [0.1111111111111111, \"#46039f\"], [0.2222222222222222, \"#7201a8\"], [0.3333333333333333, \"#9c179e\"], [0.4444444444444444, \"#bd3786\"], [0.5555555555555556, \"#d8576b\"], [0.6666666666666666, \"#ed7953\"], [0.7777777777777778, \"#fb9f3a\"], [0.8888888888888888, \"#fdca26\"], [1.0, \"#f0f921\"]], \"type\": \"surface\"}], \"table\": [{\"cells\": {\"fill\": {\"color\": \"#EBF0F8\"}, \"line\": {\"color\": \"white\"}}, \"header\": {\"fill\": {\"color\": \"#C8D4E3\"}, \"line\": {\"color\": \"white\"}}, \"type\": \"table\"}]}, \"layout\": {\"annotationdefaults\": {\"arrowcolor\": \"#2a3f5f\", \"arrowhead\": 0, \"arrowwidth\": 1}, \"coloraxis\": {\"colorbar\": {\"outlinewidth\": 0, \"ticks\": \"\"}}, \"colorscale\": {\"diverging\": [[0, \"#8e0152\"], [0.1, \"#c51b7d\"], [0.2, \"#de77ae\"], [0.3, \"#f1b6da\"], [0.4, \"#fde0ef\"], [0.5, \"#f7f7f7\"], [0.6, \"#e6f5d0\"], [0.7, \"#b8e186\"], [0.8, \"#7fbc41\"], [0.9, \"#4d9221\"], [1, \"#276419\"]], \"sequential\": [[0.0, \"#0d0887\"], [0.1111111111111111, \"#46039f\"], [0.2222222222222222, \"#7201a8\"], [0.3333333333333333, \"#9c179e\"], [0.4444444444444444, \"#bd3786\"], [0.5555555555555556, \"#d8576b\"], [0.6666666666666666, \"#ed7953\"], [0.7777777777777778, \"#fb9f3a\"], [0.8888888888888888, \"#fdca26\"], [1.0, \"#f0f921\"]], \"sequentialminus\": [[0.0, \"#0d0887\"], [0.1111111111111111, \"#46039f\"], [0.2222222222222222, \"#7201a8\"], [0.3333333333333333, \"#9c179e\"], [0.4444444444444444, \"#bd3786\"], [0.5555555555555556, \"#d8576b\"], [0.6666666666666666, \"#ed7953\"], [0.7777777777777778, \"#fb9f3a\"], [0.8888888888888888, \"#fdca26\"], [1.0, \"#f0f921\"]]}, \"colorway\": [\"#636efa\", \"#EF553B\", \"#00cc96\", \"#ab63fa\", \"#FFA15A\", \"#19d3f3\", \"#FF6692\", \"#B6E880\", \"#FF97FF\", \"#FECB52\"], \"font\": {\"color\": \"#2a3f5f\"}, \"geo\": {\"bgcolor\": \"white\", \"lakecolor\": \"white\", \"landcolor\": \"#E5ECF6\", \"showlakes\": true, \"showland\": true, \"subunitcolor\": \"white\"}, \"hoverlabel\": {\"align\": \"left\"}, \"hovermode\": \"closest\", \"mapbox\": {\"style\": \"light\"}, \"paper_bgcolor\": \"white\", \"plot_bgcolor\": \"#E5ECF6\", \"polar\": {\"angularaxis\": {\"gridcolor\": \"white\", \"linecolor\": \"white\", \"ticks\": \"\"}, \"bgcolor\": \"#E5ECF6\", \"radialaxis\": {\"gridcolor\": \"white\", \"linecolor\": \"white\", \"ticks\": \"\"}}, \"scene\": {\"xaxis\": {\"backgroundcolor\": \"#E5ECF6\", \"gridcolor\": \"white\", \"gridwidth\": 2, \"linecolor\": \"white\", \"showbackground\": true, \"ticks\": \"\", \"zerolinecolor\": \"white\"}, \"yaxis\": {\"backgroundcolor\": \"#E5ECF6\", \"gridcolor\": \"white\", \"gridwidth\": 2, \"linecolor\": \"white\", \"showbackground\": true, \"ticks\": \"\", \"zerolinecolor\": \"white\"}, \"zaxis\": {\"backgroundcolor\": \"#E5ECF6\", \"gridcolor\": \"white\", \"gridwidth\": 2, \"linecolor\": \"white\", \"showbackground\": true, \"ticks\": \"\", \"zerolinecolor\": \"white\"}}, \"shapedefaults\": {\"line\": {\"color\": \"#2a3f5f\"}}, \"ternary\": {\"aaxis\": {\"gridcolor\": \"white\", \"linecolor\": \"white\", \"ticks\": \"\"}, \"baxis\": {\"gridcolor\": \"white\", \"linecolor\": \"white\", \"ticks\": \"\"}, \"bgcolor\": \"#E5ECF6\", \"caxis\": {\"gridcolor\": \"white\", \"linecolor\": \"white\", \"ticks\": \"\"}}, \"title\": {\"x\": 0.05}, \"xaxis\": {\"automargin\": true, \"gridcolor\": \"white\", \"linecolor\": \"white\", \"ticks\": \"\", \"title\": {\"standoff\": 15}, \"zerolinecolor\": \"white\", \"zerolinewidth\": 2}, \"yaxis\": {\"automargin\": true, \"gridcolor\": \"white\", \"linecolor\": \"white\", \"ticks\": \"\", \"title\": {\"standoff\": 15}, \"zerolinecolor\": \"white\", \"zerolinewidth\": 2}}}, \"xaxis\": {\"anchor\": \"y\", \"domain\": [0.0, 1.0], \"title\": {\"text\": \"# Components\"}}, \"yaxis\": {\"anchor\": \"x\", \"domain\": [0.0, 1.0], \"title\": {\"text\": \"Explained Variance\"}}},\n",
              "                        {\"responsive\": true}\n",
              "                    ).then(function(){\n",
              "                            \n",
              "var gd = document.getElementById('6e2641d6-9c73-4262-a9da-34c8630d15b2');\n",
              "var x = new MutationObserver(function (mutations, observer) {{\n",
              "        var display = window.getComputedStyle(gd).display;\n",
              "        if (!display || display === 'none') {{\n",
              "            console.log([gd, 'removed!']);\n",
              "            Plotly.purge(gd);\n",
              "            observer.disconnect();\n",
              "        }}\n",
              "}});\n",
              "\n",
              "// Listen for the removal of the full notebook cells\n",
              "var notebookContainer = gd.closest('#notebook-container');\n",
              "if (notebookContainer) {{\n",
              "    x.observe(notebookContainer, {childList: true});\n",
              "}}\n",
              "\n",
              "// Listen for the clearing of the current output cell\n",
              "var outputEl = gd.closest('.output');\n",
              "if (outputEl) {{\n",
              "    x.observe(outputEl, {childList: true});\n",
              "}}\n",
              "\n",
              "                        })\n",
              "                };\n",
              "                \n",
              "            </script>\n",
              "        </div>\n",
              "</body>\n",
              "</html>"
            ]
          },
          "metadata": {
            "tags": []
          }
        }
      ]
    },
    {
      "cell_type": "markdown",
      "metadata": {
        "id": "happy-laugh"
      },
      "source": [
        "Para este 8 componentes"
      ]
    },
    {
      "cell_type": "code",
      "metadata": {
        "colab": {
          "base_uri": "https://localhost:8080/",
          "height": 542
        },
        "id": "enhanced-perfume",
        "outputId": "fba40797-d7ed-4167-8a3c-219e10b9f463"
      },
      "source": [
        "exp_var_cumul = np.cumsum(pca_rs.explained_variance_ratio_)\n",
        "\n",
        "px.area(\n",
        "    x=range(1, exp_var_cumul.shape[0] + 1),\n",
        "    y=exp_var_cumul,\n",
        "    labels={\"x\": \"Número de componentes\", \"y\": \"Variabilidad\"}\n",
        ")"
      ],
      "execution_count": null,
      "outputs": [
        {
          "output_type": "display_data",
          "data": {
            "text/html": [
              "<html>\n",
              "<head><meta charset=\"utf-8\" /></head>\n",
              "<body>\n",
              "    <div>\n",
              "            <script src=\"https://cdnjs.cloudflare.com/ajax/libs/mathjax/2.7.5/MathJax.js?config=TeX-AMS-MML_SVG\"></script><script type=\"text/javascript\">if (window.MathJax) {MathJax.Hub.Config({SVG: {font: \"STIX-Web\"}});}</script>\n",
              "                <script type=\"text/javascript\">window.PlotlyConfig = {MathJaxConfig: 'local'};</script>\n",
              "        <script src=\"https://cdn.plot.ly/plotly-latest.min.js\"></script>    \n",
              "            <div id=\"b5cfd1a0-5c45-4112-adc5-a3abee19fa01\" class=\"plotly-graph-div\" style=\"height:525px; width:100%;\"></div>\n",
              "            <script type=\"text/javascript\">\n",
              "                \n",
              "                    window.PLOTLYENV=window.PLOTLYENV || {};\n",
              "                    \n",
              "                if (document.getElementById(\"b5cfd1a0-5c45-4112-adc5-a3abee19fa01\")) {\n",
              "                    Plotly.newPlot(\n",
              "                        'b5cfd1a0-5c45-4112-adc5-a3abee19fa01',\n",
              "                        [{\"hoverlabel\": {\"namelength\": 0}, \"hovertemplate\": \"N\\u00famero de componentes=%{x}<br>Variabilidad=%{y}\", \"legendgroup\": \"\", \"line\": {\"color\": \"#636efa\"}, \"mode\": \"lines\", \"name\": \"\", \"orientation\": \"v\", \"showlegend\": false, \"stackgroup\": \"1\", \"type\": \"scatter\", \"x\": [1, 2, 3, 4, 5, 6, 7, 8, 9, 10, 11, 12, 13, 14, 15, 16, 17, 18, 19, 20, 21, 22, 23, 24, 25, 26, 27, 28, 29, 30, 31, 32, 33, 34, 35], \"xaxis\": \"x\", \"y\": [0.605382685320441, 0.72565468915119, 0.7878049973799898, 0.8408528503929305, 0.8743945946115359, 0.906042173372035, 0.9245069028221121, 0.9378340456523154, 0.9495423733536457, 0.9597378998834937, 0.969176703008403, 0.9749561930931299, 0.9795728965927678, 0.9836372504613184, 0.9874022823929371, 0.9907670490829463, 0.9928745096981183, 0.9947154576676843, 0.9963520352607192, 0.9976147111611778, 0.9983183932173333, 0.998961887726827, 0.9993492978663431, 0.9995791418199265, 0.9997535102937976, 0.9998432713443783, 0.9999106994278343, 0.9999368036618321, 0.9999590263100318, 0.9999810958108478, 0.9999993824599581, 0.9999998957214121, 1.0000000000000002, 1.0000000000000002, 1.0000000000000002], \"yaxis\": \"y\"}],\n",
              "                        {\"legend\": {\"tracegroupgap\": 0}, \"margin\": {\"t\": 60}, \"template\": {\"data\": {\"bar\": [{\"error_x\": {\"color\": \"#2a3f5f\"}, \"error_y\": {\"color\": \"#2a3f5f\"}, \"marker\": {\"line\": {\"color\": \"#E5ECF6\", \"width\": 0.5}}, \"type\": \"bar\"}], \"barpolar\": [{\"marker\": {\"line\": {\"color\": \"#E5ECF6\", \"width\": 0.5}}, \"type\": \"barpolar\"}], \"carpet\": [{\"aaxis\": {\"endlinecolor\": \"#2a3f5f\", \"gridcolor\": \"white\", \"linecolor\": \"white\", \"minorgridcolor\": \"white\", \"startlinecolor\": \"#2a3f5f\"}, \"baxis\": {\"endlinecolor\": \"#2a3f5f\", \"gridcolor\": \"white\", \"linecolor\": \"white\", \"minorgridcolor\": \"white\", \"startlinecolor\": \"#2a3f5f\"}, \"type\": \"carpet\"}], \"choropleth\": [{\"colorbar\": {\"outlinewidth\": 0, \"ticks\": \"\"}, \"type\": \"choropleth\"}], \"contour\": [{\"colorbar\": {\"outlinewidth\": 0, \"ticks\": \"\"}, \"colorscale\": [[0.0, \"#0d0887\"], [0.1111111111111111, \"#46039f\"], [0.2222222222222222, \"#7201a8\"], [0.3333333333333333, \"#9c179e\"], [0.4444444444444444, \"#bd3786\"], [0.5555555555555556, \"#d8576b\"], [0.6666666666666666, \"#ed7953\"], [0.7777777777777778, \"#fb9f3a\"], [0.8888888888888888, \"#fdca26\"], [1.0, \"#f0f921\"]], \"type\": \"contour\"}], \"contourcarpet\": [{\"colorbar\": {\"outlinewidth\": 0, \"ticks\": \"\"}, \"type\": \"contourcarpet\"}], \"heatmap\": [{\"colorbar\": {\"outlinewidth\": 0, \"ticks\": \"\"}, \"colorscale\": [[0.0, \"#0d0887\"], [0.1111111111111111, \"#46039f\"], [0.2222222222222222, \"#7201a8\"], [0.3333333333333333, \"#9c179e\"], [0.4444444444444444, \"#bd3786\"], [0.5555555555555556, \"#d8576b\"], [0.6666666666666666, \"#ed7953\"], [0.7777777777777778, \"#fb9f3a\"], [0.8888888888888888, \"#fdca26\"], [1.0, \"#f0f921\"]], \"type\": \"heatmap\"}], \"heatmapgl\": [{\"colorbar\": {\"outlinewidth\": 0, \"ticks\": \"\"}, \"colorscale\": [[0.0, \"#0d0887\"], [0.1111111111111111, \"#46039f\"], [0.2222222222222222, \"#7201a8\"], [0.3333333333333333, \"#9c179e\"], [0.4444444444444444, \"#bd3786\"], [0.5555555555555556, \"#d8576b\"], [0.6666666666666666, \"#ed7953\"], [0.7777777777777778, \"#fb9f3a\"], [0.8888888888888888, \"#fdca26\"], [1.0, \"#f0f921\"]], \"type\": \"heatmapgl\"}], \"histogram\": [{\"marker\": {\"colorbar\": {\"outlinewidth\": 0, \"ticks\": \"\"}}, \"type\": \"histogram\"}], \"histogram2d\": [{\"colorbar\": {\"outlinewidth\": 0, \"ticks\": \"\"}, \"colorscale\": [[0.0, \"#0d0887\"], [0.1111111111111111, \"#46039f\"], [0.2222222222222222, \"#7201a8\"], [0.3333333333333333, \"#9c179e\"], [0.4444444444444444, \"#bd3786\"], [0.5555555555555556, \"#d8576b\"], [0.6666666666666666, \"#ed7953\"], [0.7777777777777778, \"#fb9f3a\"], [0.8888888888888888, \"#fdca26\"], [1.0, \"#f0f921\"]], \"type\": \"histogram2d\"}], \"histogram2dcontour\": [{\"colorbar\": {\"outlinewidth\": 0, \"ticks\": \"\"}, \"colorscale\": [[0.0, \"#0d0887\"], [0.1111111111111111, \"#46039f\"], [0.2222222222222222, \"#7201a8\"], [0.3333333333333333, \"#9c179e\"], [0.4444444444444444, \"#bd3786\"], [0.5555555555555556, \"#d8576b\"], [0.6666666666666666, \"#ed7953\"], [0.7777777777777778, \"#fb9f3a\"], [0.8888888888888888, \"#fdca26\"], [1.0, \"#f0f921\"]], \"type\": \"histogram2dcontour\"}], \"mesh3d\": [{\"colorbar\": {\"outlinewidth\": 0, \"ticks\": \"\"}, \"type\": \"mesh3d\"}], \"parcoords\": [{\"line\": {\"colorbar\": {\"outlinewidth\": 0, \"ticks\": \"\"}}, \"type\": \"parcoords\"}], \"pie\": [{\"automargin\": true, \"type\": \"pie\"}], \"scatter\": [{\"marker\": {\"colorbar\": {\"outlinewidth\": 0, \"ticks\": \"\"}}, \"type\": \"scatter\"}], \"scatter3d\": [{\"line\": {\"colorbar\": {\"outlinewidth\": 0, \"ticks\": \"\"}}, \"marker\": {\"colorbar\": {\"outlinewidth\": 0, \"ticks\": \"\"}}, \"type\": \"scatter3d\"}], \"scattercarpet\": [{\"marker\": {\"colorbar\": {\"outlinewidth\": 0, \"ticks\": \"\"}}, \"type\": \"scattercarpet\"}], \"scattergeo\": [{\"marker\": {\"colorbar\": {\"outlinewidth\": 0, \"ticks\": \"\"}}, \"type\": \"scattergeo\"}], \"scattergl\": [{\"marker\": {\"colorbar\": {\"outlinewidth\": 0, \"ticks\": \"\"}}, \"type\": \"scattergl\"}], \"scattermapbox\": [{\"marker\": {\"colorbar\": {\"outlinewidth\": 0, \"ticks\": \"\"}}, \"type\": \"scattermapbox\"}], \"scatterpolar\": [{\"marker\": {\"colorbar\": {\"outlinewidth\": 0, \"ticks\": \"\"}}, \"type\": \"scatterpolar\"}], \"scatterpolargl\": [{\"marker\": {\"colorbar\": {\"outlinewidth\": 0, \"ticks\": \"\"}}, \"type\": \"scatterpolargl\"}], \"scatterternary\": [{\"marker\": {\"colorbar\": {\"outlinewidth\": 0, \"ticks\": \"\"}}, \"type\": \"scatterternary\"}], \"surface\": [{\"colorbar\": {\"outlinewidth\": 0, \"ticks\": \"\"}, \"colorscale\": [[0.0, \"#0d0887\"], [0.1111111111111111, \"#46039f\"], [0.2222222222222222, \"#7201a8\"], [0.3333333333333333, \"#9c179e\"], [0.4444444444444444, \"#bd3786\"], [0.5555555555555556, \"#d8576b\"], [0.6666666666666666, \"#ed7953\"], [0.7777777777777778, \"#fb9f3a\"], [0.8888888888888888, \"#fdca26\"], [1.0, \"#f0f921\"]], \"type\": \"surface\"}], \"table\": [{\"cells\": {\"fill\": {\"color\": \"#EBF0F8\"}, \"line\": {\"color\": \"white\"}}, \"header\": {\"fill\": {\"color\": \"#C8D4E3\"}, \"line\": {\"color\": \"white\"}}, \"type\": \"table\"}]}, \"layout\": {\"annotationdefaults\": {\"arrowcolor\": \"#2a3f5f\", \"arrowhead\": 0, \"arrowwidth\": 1}, \"coloraxis\": {\"colorbar\": {\"outlinewidth\": 0, \"ticks\": \"\"}}, \"colorscale\": {\"diverging\": [[0, \"#8e0152\"], [0.1, \"#c51b7d\"], [0.2, \"#de77ae\"], [0.3, \"#f1b6da\"], [0.4, \"#fde0ef\"], [0.5, \"#f7f7f7\"], [0.6, \"#e6f5d0\"], [0.7, \"#b8e186\"], [0.8, \"#7fbc41\"], [0.9, \"#4d9221\"], [1, \"#276419\"]], \"sequential\": [[0.0, \"#0d0887\"], [0.1111111111111111, \"#46039f\"], [0.2222222222222222, \"#7201a8\"], [0.3333333333333333, \"#9c179e\"], [0.4444444444444444, \"#bd3786\"], [0.5555555555555556, \"#d8576b\"], [0.6666666666666666, \"#ed7953\"], [0.7777777777777778, \"#fb9f3a\"], [0.8888888888888888, \"#fdca26\"], [1.0, \"#f0f921\"]], \"sequentialminus\": [[0.0, \"#0d0887\"], [0.1111111111111111, \"#46039f\"], [0.2222222222222222, \"#7201a8\"], [0.3333333333333333, \"#9c179e\"], [0.4444444444444444, \"#bd3786\"], [0.5555555555555556, \"#d8576b\"], [0.6666666666666666, \"#ed7953\"], [0.7777777777777778, \"#fb9f3a\"], [0.8888888888888888, \"#fdca26\"], [1.0, \"#f0f921\"]]}, \"colorway\": [\"#636efa\", \"#EF553B\", \"#00cc96\", \"#ab63fa\", \"#FFA15A\", \"#19d3f3\", \"#FF6692\", \"#B6E880\", \"#FF97FF\", \"#FECB52\"], \"font\": {\"color\": \"#2a3f5f\"}, \"geo\": {\"bgcolor\": \"white\", \"lakecolor\": \"white\", \"landcolor\": \"#E5ECF6\", \"showlakes\": true, \"showland\": true, \"subunitcolor\": \"white\"}, \"hoverlabel\": {\"align\": \"left\"}, \"hovermode\": \"closest\", \"mapbox\": {\"style\": \"light\"}, \"paper_bgcolor\": \"white\", \"plot_bgcolor\": \"#E5ECF6\", \"polar\": {\"angularaxis\": {\"gridcolor\": \"white\", \"linecolor\": \"white\", \"ticks\": \"\"}, \"bgcolor\": \"#E5ECF6\", \"radialaxis\": {\"gridcolor\": \"white\", \"linecolor\": \"white\", \"ticks\": \"\"}}, \"scene\": {\"xaxis\": {\"backgroundcolor\": \"#E5ECF6\", \"gridcolor\": \"white\", \"gridwidth\": 2, \"linecolor\": \"white\", \"showbackground\": true, \"ticks\": \"\", \"zerolinecolor\": \"white\"}, \"yaxis\": {\"backgroundcolor\": \"#E5ECF6\", \"gridcolor\": \"white\", \"gridwidth\": 2, \"linecolor\": \"white\", \"showbackground\": true, \"ticks\": \"\", \"zerolinecolor\": \"white\"}, \"zaxis\": {\"backgroundcolor\": \"#E5ECF6\", \"gridcolor\": \"white\", \"gridwidth\": 2, \"linecolor\": \"white\", \"showbackground\": true, \"ticks\": \"\", \"zerolinecolor\": \"white\"}}, \"shapedefaults\": {\"line\": {\"color\": \"#2a3f5f\"}}, \"ternary\": {\"aaxis\": {\"gridcolor\": \"white\", \"linecolor\": \"white\", \"ticks\": \"\"}, \"baxis\": {\"gridcolor\": \"white\", \"linecolor\": \"white\", \"ticks\": \"\"}, \"bgcolor\": \"#E5ECF6\", \"caxis\": {\"gridcolor\": \"white\", \"linecolor\": \"white\", \"ticks\": \"\"}}, \"title\": {\"x\": 0.05}, \"xaxis\": {\"automargin\": true, \"gridcolor\": \"white\", \"linecolor\": \"white\", \"ticks\": \"\", \"title\": {\"standoff\": 15}, \"zerolinecolor\": \"white\", \"zerolinewidth\": 2}, \"yaxis\": {\"automargin\": true, \"gridcolor\": \"white\", \"linecolor\": \"white\", \"ticks\": \"\", \"title\": {\"standoff\": 15}, \"zerolinecolor\": \"white\", \"zerolinewidth\": 2}}}, \"xaxis\": {\"anchor\": \"y\", \"domain\": [0.0, 1.0], \"title\": {\"text\": \"N\\u00famero de componentes\"}}, \"yaxis\": {\"anchor\": \"x\", \"domain\": [0.0, 1.0], \"title\": {\"text\": \"Variabilidad\"}}},\n",
              "                        {\"responsive\": true}\n",
              "                    ).then(function(){\n",
              "                            \n",
              "var gd = document.getElementById('b5cfd1a0-5c45-4112-adc5-a3abee19fa01');\n",
              "var x = new MutationObserver(function (mutations, observer) {{\n",
              "        var display = window.getComputedStyle(gd).display;\n",
              "        if (!display || display === 'none') {{\n",
              "            console.log([gd, 'removed!']);\n",
              "            Plotly.purge(gd);\n",
              "            observer.disconnect();\n",
              "        }}\n",
              "}});\n",
              "\n",
              "// Listen for the removal of the full notebook cells\n",
              "var notebookContainer = gd.closest('#notebook-container');\n",
              "if (notebookContainer) {{\n",
              "    x.observe(notebookContainer, {childList: true});\n",
              "}}\n",
              "\n",
              "// Listen for the clearing of the current output cell\n",
              "var outputEl = gd.closest('.output');\n",
              "if (outputEl) {{\n",
              "    x.observe(outputEl, {childList: true});\n",
              "}}\n",
              "\n",
              "                        })\n",
              "                };\n",
              "                \n",
              "            </script>\n",
              "        </div>\n",
              "</body>\n",
              "</html>"
            ]
          },
          "metadata": {
            "tags": []
          }
        }
      ]
    },
    {
      "cell_type": "markdown",
      "metadata": {
        "id": "knowing-break"
      },
      "source": [
        "Para este 5 componentes"
      ]
    },
    {
      "cell_type": "code",
      "metadata": {
        "colab": {
          "base_uri": "https://localhost:8080/",
          "height": 542
        },
        "id": "motivated-double",
        "outputId": "ca1af9d3-5e02-4641-8e0b-01e3165f8eeb"
      },
      "source": [
        "exp_var_cumul = np.cumsum(pca_pt.explained_variance_ratio_)\n",
        "\n",
        "px.area(\n",
        "    x=range(1, exp_var_cumul.shape[0] + 1),\n",
        "    y=exp_var_cumul,\n",
        "    labels={\"x\": \"# Components\", \"y\": \"Explained Variance\"}\n",
        ")"
      ],
      "execution_count": null,
      "outputs": [
        {
          "output_type": "display_data",
          "data": {
            "text/html": [
              "<html>\n",
              "<head><meta charset=\"utf-8\" /></head>\n",
              "<body>\n",
              "    <div>\n",
              "            <script src=\"https://cdnjs.cloudflare.com/ajax/libs/mathjax/2.7.5/MathJax.js?config=TeX-AMS-MML_SVG\"></script><script type=\"text/javascript\">if (window.MathJax) {MathJax.Hub.Config({SVG: {font: \"STIX-Web\"}});}</script>\n",
              "                <script type=\"text/javascript\">window.PlotlyConfig = {MathJaxConfig: 'local'};</script>\n",
              "        <script src=\"https://cdn.plot.ly/plotly-latest.min.js\"></script>    \n",
              "            <div id=\"23f77309-e7ca-4fe7-b60a-11f859ed5033\" class=\"plotly-graph-div\" style=\"height:525px; width:100%;\"></div>\n",
              "            <script type=\"text/javascript\">\n",
              "                \n",
              "                    window.PLOTLYENV=window.PLOTLYENV || {};\n",
              "                    \n",
              "                if (document.getElementById(\"23f77309-e7ca-4fe7-b60a-11f859ed5033\")) {\n",
              "                    Plotly.newPlot(\n",
              "                        '23f77309-e7ca-4fe7-b60a-11f859ed5033',\n",
              "                        [{\"hoverlabel\": {\"namelength\": 0}, \"hovertemplate\": \"# Components=%{x}<br>Explained Variance=%{y}\", \"legendgroup\": \"\", \"line\": {\"color\": \"#636efa\"}, \"mode\": \"lines\", \"name\": \"\", \"orientation\": \"v\", \"showlegend\": false, \"stackgroup\": \"1\", \"type\": \"scatter\", \"x\": [1, 2, 3, 4, 5, 6, 7, 8, 9, 10, 11, 12, 13, 14, 15, 16, 17, 18, 19, 20, 21, 22, 23, 24, 25, 26, 27, 28, 29, 30, 31, 32, 33, 34, 35], \"xaxis\": \"x\", \"y\": [0.22687878123141186, 0.35613229765480037, 0.43890409318732304, 0.5078143540590494, 0.5712613499711223, 0.6282777595418786, 0.6719147158100196, 0.7094363045079721, 0.741524361664497, 0.7720162912003372, 0.8016712727219104, 0.8296942620050681, 0.8574535153265429, 0.8840622294815486, 0.9094703434997043, 0.9307487460935733, 0.9495825183867809, 0.9647140651602077, 0.975322405206454, 0.9845618215709386, 0.9896510315658893, 0.9928647568006579, 0.9950784456733767, 0.9967695997690494, 0.997889491559599, 0.9989087794408095, 0.9992882999467508, 0.9994965578096231, 0.9996296128192964, 0.9997596838986521, 0.999855367016254, 0.9999194532071258, 0.9999669532073188, 0.999999355834452, 0.9999999999999999], \"yaxis\": \"y\"}],\n",
              "                        {\"legend\": {\"tracegroupgap\": 0}, \"margin\": {\"t\": 60}, \"template\": {\"data\": {\"bar\": [{\"error_x\": {\"color\": \"#2a3f5f\"}, \"error_y\": {\"color\": \"#2a3f5f\"}, \"marker\": {\"line\": {\"color\": \"#E5ECF6\", \"width\": 0.5}}, \"type\": \"bar\"}], \"barpolar\": [{\"marker\": {\"line\": {\"color\": \"#E5ECF6\", \"width\": 0.5}}, \"type\": \"barpolar\"}], \"carpet\": [{\"aaxis\": {\"endlinecolor\": \"#2a3f5f\", \"gridcolor\": \"white\", \"linecolor\": \"white\", \"minorgridcolor\": \"white\", \"startlinecolor\": \"#2a3f5f\"}, \"baxis\": {\"endlinecolor\": \"#2a3f5f\", \"gridcolor\": \"white\", \"linecolor\": \"white\", \"minorgridcolor\": \"white\", \"startlinecolor\": \"#2a3f5f\"}, \"type\": \"carpet\"}], \"choropleth\": [{\"colorbar\": {\"outlinewidth\": 0, \"ticks\": \"\"}, \"type\": \"choropleth\"}], \"contour\": [{\"colorbar\": {\"outlinewidth\": 0, \"ticks\": \"\"}, \"colorscale\": [[0.0, \"#0d0887\"], [0.1111111111111111, \"#46039f\"], [0.2222222222222222, \"#7201a8\"], [0.3333333333333333, \"#9c179e\"], [0.4444444444444444, \"#bd3786\"], [0.5555555555555556, \"#d8576b\"], [0.6666666666666666, \"#ed7953\"], [0.7777777777777778, \"#fb9f3a\"], [0.8888888888888888, \"#fdca26\"], [1.0, \"#f0f921\"]], \"type\": \"contour\"}], \"contourcarpet\": [{\"colorbar\": {\"outlinewidth\": 0, \"ticks\": \"\"}, \"type\": \"contourcarpet\"}], \"heatmap\": [{\"colorbar\": {\"outlinewidth\": 0, \"ticks\": \"\"}, \"colorscale\": [[0.0, \"#0d0887\"], [0.1111111111111111, \"#46039f\"], [0.2222222222222222, \"#7201a8\"], [0.3333333333333333, \"#9c179e\"], [0.4444444444444444, \"#bd3786\"], [0.5555555555555556, \"#d8576b\"], [0.6666666666666666, \"#ed7953\"], [0.7777777777777778, \"#fb9f3a\"], [0.8888888888888888, \"#fdca26\"], [1.0, \"#f0f921\"]], \"type\": \"heatmap\"}], \"heatmapgl\": [{\"colorbar\": {\"outlinewidth\": 0, \"ticks\": \"\"}, \"colorscale\": [[0.0, \"#0d0887\"], [0.1111111111111111, \"#46039f\"], [0.2222222222222222, \"#7201a8\"], [0.3333333333333333, \"#9c179e\"], [0.4444444444444444, \"#bd3786\"], [0.5555555555555556, \"#d8576b\"], [0.6666666666666666, \"#ed7953\"], [0.7777777777777778, \"#fb9f3a\"], [0.8888888888888888, \"#fdca26\"], [1.0, \"#f0f921\"]], \"type\": \"heatmapgl\"}], \"histogram\": [{\"marker\": {\"colorbar\": {\"outlinewidth\": 0, \"ticks\": \"\"}}, \"type\": \"histogram\"}], \"histogram2d\": [{\"colorbar\": {\"outlinewidth\": 0, \"ticks\": \"\"}, \"colorscale\": [[0.0, \"#0d0887\"], [0.1111111111111111, \"#46039f\"], [0.2222222222222222, \"#7201a8\"], [0.3333333333333333, \"#9c179e\"], [0.4444444444444444, \"#bd3786\"], [0.5555555555555556, \"#d8576b\"], [0.6666666666666666, \"#ed7953\"], [0.7777777777777778, \"#fb9f3a\"], [0.8888888888888888, \"#fdca26\"], [1.0, \"#f0f921\"]], \"type\": \"histogram2d\"}], \"histogram2dcontour\": [{\"colorbar\": {\"outlinewidth\": 0, \"ticks\": \"\"}, \"colorscale\": [[0.0, \"#0d0887\"], [0.1111111111111111, \"#46039f\"], [0.2222222222222222, \"#7201a8\"], [0.3333333333333333, \"#9c179e\"], [0.4444444444444444, \"#bd3786\"], [0.5555555555555556, \"#d8576b\"], [0.6666666666666666, \"#ed7953\"], [0.7777777777777778, \"#fb9f3a\"], [0.8888888888888888, \"#fdca26\"], [1.0, \"#f0f921\"]], \"type\": \"histogram2dcontour\"}], \"mesh3d\": [{\"colorbar\": {\"outlinewidth\": 0, \"ticks\": \"\"}, \"type\": \"mesh3d\"}], \"parcoords\": [{\"line\": {\"colorbar\": {\"outlinewidth\": 0, \"ticks\": \"\"}}, \"type\": \"parcoords\"}], \"pie\": [{\"automargin\": true, \"type\": \"pie\"}], \"scatter\": [{\"marker\": {\"colorbar\": {\"outlinewidth\": 0, \"ticks\": \"\"}}, \"type\": \"scatter\"}], \"scatter3d\": [{\"line\": {\"colorbar\": {\"outlinewidth\": 0, \"ticks\": \"\"}}, \"marker\": {\"colorbar\": {\"outlinewidth\": 0, \"ticks\": \"\"}}, \"type\": \"scatter3d\"}], \"scattercarpet\": [{\"marker\": {\"colorbar\": {\"outlinewidth\": 0, \"ticks\": \"\"}}, \"type\": \"scattercarpet\"}], \"scattergeo\": [{\"marker\": {\"colorbar\": {\"outlinewidth\": 0, \"ticks\": \"\"}}, \"type\": \"scattergeo\"}], \"scattergl\": [{\"marker\": {\"colorbar\": {\"outlinewidth\": 0, \"ticks\": \"\"}}, \"type\": \"scattergl\"}], \"scattermapbox\": [{\"marker\": {\"colorbar\": {\"outlinewidth\": 0, \"ticks\": \"\"}}, \"type\": \"scattermapbox\"}], \"scatterpolar\": [{\"marker\": {\"colorbar\": {\"outlinewidth\": 0, \"ticks\": \"\"}}, \"type\": \"scatterpolar\"}], \"scatterpolargl\": [{\"marker\": {\"colorbar\": {\"outlinewidth\": 0, \"ticks\": \"\"}}, \"type\": \"scatterpolargl\"}], \"scatterternary\": [{\"marker\": {\"colorbar\": {\"outlinewidth\": 0, \"ticks\": \"\"}}, \"type\": \"scatterternary\"}], \"surface\": [{\"colorbar\": {\"outlinewidth\": 0, \"ticks\": \"\"}, \"colorscale\": [[0.0, \"#0d0887\"], [0.1111111111111111, \"#46039f\"], [0.2222222222222222, \"#7201a8\"], [0.3333333333333333, \"#9c179e\"], [0.4444444444444444, \"#bd3786\"], [0.5555555555555556, \"#d8576b\"], [0.6666666666666666, \"#ed7953\"], [0.7777777777777778, \"#fb9f3a\"], [0.8888888888888888, \"#fdca26\"], [1.0, \"#f0f921\"]], \"type\": \"surface\"}], \"table\": [{\"cells\": {\"fill\": {\"color\": \"#EBF0F8\"}, \"line\": {\"color\": \"white\"}}, \"header\": {\"fill\": {\"color\": \"#C8D4E3\"}, \"line\": {\"color\": \"white\"}}, \"type\": \"table\"}]}, \"layout\": {\"annotationdefaults\": {\"arrowcolor\": \"#2a3f5f\", \"arrowhead\": 0, \"arrowwidth\": 1}, \"coloraxis\": {\"colorbar\": {\"outlinewidth\": 0, \"ticks\": \"\"}}, \"colorscale\": {\"diverging\": [[0, \"#8e0152\"], [0.1, \"#c51b7d\"], [0.2, \"#de77ae\"], [0.3, \"#f1b6da\"], [0.4, \"#fde0ef\"], [0.5, \"#f7f7f7\"], [0.6, \"#e6f5d0\"], [0.7, \"#b8e186\"], [0.8, \"#7fbc41\"], [0.9, \"#4d9221\"], [1, \"#276419\"]], \"sequential\": [[0.0, \"#0d0887\"], [0.1111111111111111, \"#46039f\"], [0.2222222222222222, \"#7201a8\"], [0.3333333333333333, \"#9c179e\"], [0.4444444444444444, \"#bd3786\"], [0.5555555555555556, \"#d8576b\"], [0.6666666666666666, \"#ed7953\"], [0.7777777777777778, \"#fb9f3a\"], [0.8888888888888888, \"#fdca26\"], [1.0, \"#f0f921\"]], \"sequentialminus\": [[0.0, \"#0d0887\"], [0.1111111111111111, \"#46039f\"], [0.2222222222222222, \"#7201a8\"], [0.3333333333333333, \"#9c179e\"], [0.4444444444444444, \"#bd3786\"], [0.5555555555555556, \"#d8576b\"], [0.6666666666666666, \"#ed7953\"], [0.7777777777777778, \"#fb9f3a\"], [0.8888888888888888, \"#fdca26\"], [1.0, \"#f0f921\"]]}, \"colorway\": [\"#636efa\", \"#EF553B\", \"#00cc96\", \"#ab63fa\", \"#FFA15A\", \"#19d3f3\", \"#FF6692\", \"#B6E880\", \"#FF97FF\", \"#FECB52\"], \"font\": {\"color\": \"#2a3f5f\"}, \"geo\": {\"bgcolor\": \"white\", \"lakecolor\": \"white\", \"landcolor\": \"#E5ECF6\", \"showlakes\": true, \"showland\": true, \"subunitcolor\": \"white\"}, \"hoverlabel\": {\"align\": \"left\"}, \"hovermode\": \"closest\", \"mapbox\": {\"style\": \"light\"}, \"paper_bgcolor\": \"white\", \"plot_bgcolor\": \"#E5ECF6\", \"polar\": {\"angularaxis\": {\"gridcolor\": \"white\", \"linecolor\": \"white\", \"ticks\": \"\"}, \"bgcolor\": \"#E5ECF6\", \"radialaxis\": {\"gridcolor\": \"white\", \"linecolor\": \"white\", \"ticks\": \"\"}}, \"scene\": {\"xaxis\": {\"backgroundcolor\": \"#E5ECF6\", \"gridcolor\": \"white\", \"gridwidth\": 2, \"linecolor\": \"white\", \"showbackground\": true, \"ticks\": \"\", \"zerolinecolor\": \"white\"}, \"yaxis\": {\"backgroundcolor\": \"#E5ECF6\", \"gridcolor\": \"white\", \"gridwidth\": 2, \"linecolor\": \"white\", \"showbackground\": true, \"ticks\": \"\", \"zerolinecolor\": \"white\"}, \"zaxis\": {\"backgroundcolor\": \"#E5ECF6\", \"gridcolor\": \"white\", \"gridwidth\": 2, \"linecolor\": \"white\", \"showbackground\": true, \"ticks\": \"\", \"zerolinecolor\": \"white\"}}, \"shapedefaults\": {\"line\": {\"color\": \"#2a3f5f\"}}, \"ternary\": {\"aaxis\": {\"gridcolor\": \"white\", \"linecolor\": \"white\", \"ticks\": \"\"}, \"baxis\": {\"gridcolor\": \"white\", \"linecolor\": \"white\", \"ticks\": \"\"}, \"bgcolor\": \"#E5ECF6\", \"caxis\": {\"gridcolor\": \"white\", \"linecolor\": \"white\", \"ticks\": \"\"}}, \"title\": {\"x\": 0.05}, \"xaxis\": {\"automargin\": true, \"gridcolor\": \"white\", \"linecolor\": \"white\", \"ticks\": \"\", \"title\": {\"standoff\": 15}, \"zerolinecolor\": \"white\", \"zerolinewidth\": 2}, \"yaxis\": {\"automargin\": true, \"gridcolor\": \"white\", \"linecolor\": \"white\", \"ticks\": \"\", \"title\": {\"standoff\": 15}, \"zerolinecolor\": \"white\", \"zerolinewidth\": 2}}}, \"xaxis\": {\"anchor\": \"y\", \"domain\": [0.0, 1.0], \"title\": {\"text\": \"# Components\"}}, \"yaxis\": {\"anchor\": \"x\", \"domain\": [0.0, 1.0], \"title\": {\"text\": \"Explained Variance\"}}},\n",
              "                        {\"responsive\": true}\n",
              "                    ).then(function(){\n",
              "                            \n",
              "var gd = document.getElementById('23f77309-e7ca-4fe7-b60a-11f859ed5033');\n",
              "var x = new MutationObserver(function (mutations, observer) {{\n",
              "        var display = window.getComputedStyle(gd).display;\n",
              "        if (!display || display === 'none') {{\n",
              "            console.log([gd, 'removed!']);\n",
              "            Plotly.purge(gd);\n",
              "            observer.disconnect();\n",
              "        }}\n",
              "}});\n",
              "\n",
              "// Listen for the removal of the full notebook cells\n",
              "var notebookContainer = gd.closest('#notebook-container');\n",
              "if (notebookContainer) {{\n",
              "    x.observe(notebookContainer, {childList: true});\n",
              "}}\n",
              "\n",
              "// Listen for the clearing of the current output cell\n",
              "var outputEl = gd.closest('.output');\n",
              "if (outputEl) {{\n",
              "    x.observe(outputEl, {childList: true});\n",
              "}}\n",
              "\n",
              "                        })\n",
              "                };\n",
              "                \n",
              "            </script>\n",
              "        </div>\n",
              "</body>\n",
              "</html>"
            ]
          },
          "metadata": {
            "tags": []
          }
        }
      ]
    },
    {
      "cell_type": "markdown",
      "metadata": {
        "id": "recreational-rendering"
      },
      "source": [
        "Para este 13 componentes"
      ]
    },
    {
      "cell_type": "markdown",
      "metadata": {
        "id": "21zQlGnAxHps"
      },
      "source": [
        "#Nuevos datasets"
      ]
    },
    {
      "cell_type": "code",
      "metadata": {
        "colab": {
          "base_uri": "https://localhost:8080/"
        },
        "id": "maHl5-5f6ODZ",
        "outputId": "54c32967-b240-4fbd-903d-937255f79ba0"
      },
      "source": [
        "X_pca_ss = PCA(n_components = 14).fit_transform(static_defenses1)\n",
        "X_pca_ss.shape"
      ],
      "execution_count": null,
      "outputs": [
        {
          "output_type": "execute_result",
          "data": {
            "text/plain": [
              "(13055, 14)"
            ]
          },
          "metadata": {
            "tags": []
          },
          "execution_count": 72
        }
      ]
    },
    {
      "cell_type": "code",
      "metadata": {
        "colab": {
          "base_uri": "https://localhost:8080/"
        },
        "id": "4uGln1fK6ODc",
        "outputId": "4adc3e01-cad2-4423-8b93-5ca183b8798f"
      },
      "source": [
        "X_pca_mms = PCA(n_components = 8).fit_transform(static_defenses2)\n",
        "X_pca_mms.shape"
      ],
      "execution_count": null,
      "outputs": [
        {
          "output_type": "execute_result",
          "data": {
            "text/plain": [
              "(13055, 8)"
            ]
          },
          "metadata": {
            "tags": []
          },
          "execution_count": 73
        }
      ]
    },
    {
      "cell_type": "code",
      "metadata": {
        "colab": {
          "base_uri": "https://localhost:8080/"
        },
        "id": "kHge6u_76ODd",
        "outputId": "2663c965-b901-451f-cbd1-e4f63f75dbc0"
      },
      "source": [
        "X_pca_rs = PCA(n_components = 5).fit_transform(static_defenses3)\n",
        "X_pca_rs.shape"
      ],
      "execution_count": null,
      "outputs": [
        {
          "output_type": "execute_result",
          "data": {
            "text/plain": [
              "(13055, 5)"
            ]
          },
          "metadata": {
            "tags": []
          },
          "execution_count": 74
        }
      ]
    },
    {
      "cell_type": "code",
      "metadata": {
        "colab": {
          "base_uri": "https://localhost:8080/"
        },
        "id": "sgrWZV1p6ODf",
        "outputId": "3444bf30-8035-436b-fdec-d7daaa7a8fe7"
      },
      "source": [
        "X_pca_pt = PCA(n_components = 13).fit_transform(static_defenses4)\n",
        "X_pca_pt.shape"
      ],
      "execution_count": null,
      "outputs": [
        {
          "output_type": "execute_result",
          "data": {
            "text/plain": [
              "(13055, 13)"
            ]
          },
          "metadata": {
            "tags": []
          },
          "execution_count": 75
        }
      ]
    },
    {
      "cell_type": "markdown",
      "metadata": {
        "id": "L3VU72zpYFqr"
      },
      "source": [
        "#KNN"
      ]
    },
    {
      "cell_type": "markdown",
      "metadata": {
        "id": "tkyjOQF1xP1u"
      },
      "source": [
        "##StandardScaler"
      ]
    },
    {
      "cell_type": "code",
      "metadata": {
        "colab": {
          "base_uri": "https://localhost:8080/",
          "height": 206
        },
        "id": "mL4vaE1OTg_U",
        "outputId": "28fb96b1-6b6a-49ab-85cf-247140d42d5d"
      },
      "source": [
        "train_ss = pd.DataFrame(X_pca_ss)\n",
        "train_ss[\"playResult\"] = static_defenses[\"playResult\"].values\n",
        "train_ss.head()"
      ],
      "execution_count": null,
      "outputs": [
        {
          "output_type": "execute_result",
          "data": {
            "text/html": [
              "<div>\n",
              "<style scoped>\n",
              "    .dataframe tbody tr th:only-of-type {\n",
              "        vertical-align: middle;\n",
              "    }\n",
              "\n",
              "    .dataframe tbody tr th {\n",
              "        vertical-align: top;\n",
              "    }\n",
              "\n",
              "    .dataframe thead th {\n",
              "        text-align: right;\n",
              "    }\n",
              "</style>\n",
              "<table border=\"1\" class=\"dataframe\">\n",
              "  <thead>\n",
              "    <tr style=\"text-align: right;\">\n",
              "      <th></th>\n",
              "      <th>0</th>\n",
              "      <th>1</th>\n",
              "      <th>2</th>\n",
              "      <th>3</th>\n",
              "      <th>4</th>\n",
              "      <th>5</th>\n",
              "      <th>6</th>\n",
              "      <th>7</th>\n",
              "      <th>8</th>\n",
              "      <th>9</th>\n",
              "      <th>10</th>\n",
              "      <th>11</th>\n",
              "      <th>12</th>\n",
              "      <th>13</th>\n",
              "      <th>playResult</th>\n",
              "    </tr>\n",
              "  </thead>\n",
              "  <tbody>\n",
              "    <tr>\n",
              "      <th>0</th>\n",
              "      <td>-0.774207</td>\n",
              "      <td>-2.468463</td>\n",
              "      <td>0.494566</td>\n",
              "      <td>1.864442</td>\n",
              "      <td>2.134126</td>\n",
              "      <td>-0.167689</td>\n",
              "      <td>-1.035529</td>\n",
              "      <td>2.170305</td>\n",
              "      <td>1.481364</td>\n",
              "      <td>1.282113</td>\n",
              "      <td>-4.053152</td>\n",
              "      <td>1.791275</td>\n",
              "      <td>-0.521982</td>\n",
              "      <td>0.693632</td>\n",
              "      <td>10</td>\n",
              "    </tr>\n",
              "    <tr>\n",
              "      <th>1</th>\n",
              "      <td>-0.050022</td>\n",
              "      <td>-1.812451</td>\n",
              "      <td>1.506638</td>\n",
              "      <td>-0.269917</td>\n",
              "      <td>-0.550293</td>\n",
              "      <td>0.652475</td>\n",
              "      <td>-1.825971</td>\n",
              "      <td>0.446371</td>\n",
              "      <td>0.143673</td>\n",
              "      <td>-0.281565</td>\n",
              "      <td>0.558406</td>\n",
              "      <td>-0.310550</td>\n",
              "      <td>-0.510448</td>\n",
              "      <td>0.446715</td>\n",
              "      <td>0</td>\n",
              "    </tr>\n",
              "    <tr>\n",
              "      <th>2</th>\n",
              "      <td>2.290472</td>\n",
              "      <td>-2.538432</td>\n",
              "      <td>-3.218413</td>\n",
              "      <td>1.618976</td>\n",
              "      <td>0.525982</td>\n",
              "      <td>-0.480004</td>\n",
              "      <td>-0.323774</td>\n",
              "      <td>-0.103402</td>\n",
              "      <td>-1.648391</td>\n",
              "      <td>3.647438</td>\n",
              "      <td>0.568316</td>\n",
              "      <td>-0.831422</td>\n",
              "      <td>0.013317</td>\n",
              "      <td>-0.263231</td>\n",
              "      <td>0</td>\n",
              "    </tr>\n",
              "    <tr>\n",
              "      <th>3</th>\n",
              "      <td>-1.455413</td>\n",
              "      <td>-1.673324</td>\n",
              "      <td>2.751002</td>\n",
              "      <td>-1.874452</td>\n",
              "      <td>0.495801</td>\n",
              "      <td>-0.928747</td>\n",
              "      <td>-0.089102</td>\n",
              "      <td>1.235334</td>\n",
              "      <td>-0.949319</td>\n",
              "      <td>-0.706386</td>\n",
              "      <td>0.283102</td>\n",
              "      <td>-0.117368</td>\n",
              "      <td>-0.609669</td>\n",
              "      <td>0.547714</td>\n",
              "      <td>33</td>\n",
              "    </tr>\n",
              "    <tr>\n",
              "      <th>4</th>\n",
              "      <td>-1.647651</td>\n",
              "      <td>0.858845</td>\n",
              "      <td>0.729530</td>\n",
              "      <td>-0.845751</td>\n",
              "      <td>2.025989</td>\n",
              "      <td>-1.865085</td>\n",
              "      <td>-0.695295</td>\n",
              "      <td>0.816665</td>\n",
              "      <td>-0.857215</td>\n",
              "      <td>-0.145110</td>\n",
              "      <td>-0.575788</td>\n",
              "      <td>0.279939</td>\n",
              "      <td>0.620699</td>\n",
              "      <td>-0.725182</td>\n",
              "      <td>4</td>\n",
              "    </tr>\n",
              "  </tbody>\n",
              "</table>\n",
              "</div>"
            ],
            "text/plain": [
              "          0         1         2         3         4         5         6  \\\n",
              "0 -0.774207 -2.468463  0.494566  1.864442  2.134126 -0.167689 -1.035529   \n",
              "1 -0.050022 -1.812451  1.506638 -0.269917 -0.550293  0.652475 -1.825971   \n",
              "2  2.290472 -2.538432 -3.218413  1.618976  0.525982 -0.480004 -0.323774   \n",
              "3 -1.455413 -1.673324  2.751002 -1.874452  0.495801 -0.928747 -0.089102   \n",
              "4 -1.647651  0.858845  0.729530 -0.845751  2.025989 -1.865085 -0.695295   \n",
              "\n",
              "          7         8         9        10        11        12        13  \\\n",
              "0  2.170305  1.481364  1.282113 -4.053152  1.791275 -0.521982  0.693632   \n",
              "1  0.446371  0.143673 -0.281565  0.558406 -0.310550 -0.510448  0.446715   \n",
              "2 -0.103402 -1.648391  3.647438  0.568316 -0.831422  0.013317 -0.263231   \n",
              "3  1.235334 -0.949319 -0.706386  0.283102 -0.117368 -0.609669  0.547714   \n",
              "4  0.816665 -0.857215 -0.145110 -0.575788  0.279939  0.620699 -0.725182   \n",
              "\n",
              "   playResult  \n",
              "0          10  \n",
              "1           0  \n",
              "2           0  \n",
              "3          33  \n",
              "4           4  "
            ]
          },
          "metadata": {
            "tags": []
          },
          "execution_count": 38
        }
      ]
    },
    {
      "cell_type": "code",
      "metadata": {
        "id": "zKFNOdheYSm_"
      },
      "source": [
        "#X_train, X_test, y_train, y_test = train_test_split(X_pca_ss, static_defenses[\"playResult\"], test_size=0.2)"
      ],
      "execution_count": null,
      "outputs": []
    },
    {
      "cell_type": "code",
      "metadata": {
        "id": "sCfTgNtbfFDG",
        "colab": {
          "base_uri": "https://localhost:8080/",
          "height": 304
        },
        "outputId": "7bb9481a-96d6-482e-bc99-cadfeae6923e"
      },
      "source": [
        "from sklearn import neighbors\n",
        "from sklearn.model_selection import KFold\n",
        "import matplotlib.pyplot as plt\n",
        "from sklearn.metrics import mean_absolute_error\n",
        "\n",
        "cv = KFold(n_splits = 10, shuffle = False) #\n",
        "\n",
        "\n",
        "for i, weights in enumerate(['uniform', 'distance']):\n",
        "   total_scores = []\n",
        "   for n_neighbors in range(1,30):\n",
        "       fold_accuracy = []\n",
        "       knn = neighbors.KNeighborsRegressor(n_neighbors, weights=weights)\n",
        "       # verificar cada uno de los modelos con validación cruzada.\n",
        "       for train_fold, test_fold in cv.split(train_ss):\n",
        "          # División train test aleatoria\n",
        "          f_train = train_ss.loc[train_fold]\n",
        "          f_test = train_ss.loc[test_fold]\n",
        "          # entrenamiento y ejecución del modelo\n",
        "          knn.fit( X = f_train.drop([\"playResult\"],axis=1), y = f_train['playResult'])\n",
        "          y_pred = knn.predict(X = f_test.drop(['playResult'], axis = 1))\n",
        "          # evaluación del modelo\n",
        "          mae = mean_absolute_error(f_test['playResult'], y_pred)\n",
        "          fold_accuracy.append(mae)\n",
        "       total_scores.append(sum(fold_accuracy)/len(fold_accuracy))\n",
        "   \n",
        "   plt.plot(range(1,len(total_scores)+1), total_scores, \n",
        "             marker='o', label=weights)\n",
        "   print ('Min Value ' +  weights + \" : \" +  str(min(total_scores)) +\" (\" + str(np.argmin(total_scores) + 1) + \")\")\n",
        "   plt.ylabel('MAE')      \n",
        "    \n",
        "\n",
        "plt.legend()\n",
        "plt.show() \n",
        "\n"
      ],
      "execution_count": null,
      "outputs": [
        {
          "output_type": "stream",
          "text": [
            "Min Value uniform : 7.979604783846378 (29)\n",
            "Min Value distance : 8.004468836325767 (29)\n"
          ],
          "name": "stdout"
        },
        {
          "output_type": "display_data",
          "data": {
            "image/png": "[encoded data removed]",
            "text/plain": [
              "<Figure size 432x288 with 1 Axes>"
            ]
          },
          "metadata": {
            "tags": [],
            "needs_background": "light"
          }
        }
      ]
    },
    {
      "cell_type": "code",
      "metadata": {
        "id": "CT-gjUX1S9Em",
        "cellView": "both",
        "colab": {
          "base_uri": "https://localhost:8080/"
        },
        "outputId": "540b7c1c-11b2-4540-872e-21b95120729e"
      },
      "source": [
        "# constructor\n",
        "n_neighbors = 29\n",
        "weights = 'uniform'\n",
        "knn = neighbors.KNeighborsRegressor(n_neighbors= n_neighbors, weights=weights) \n",
        "# fit and predict\n",
        "\n",
        "knn.fit( X = X_train, y = y_train)\n",
        "y_pred = knn.predict(X = X_test)\n",
        "mae = mean_absolute_error(y_test,y_pred)\n",
        "print ('MAE', mae)"
      ],
      "execution_count": null,
      "outputs": [
        {
          "output_type": "stream",
          "text": [
            "MAE 8.063398699675444\n"
          ],
          "name": "stdout"
        }
      ]
    },
    {
      "cell_type": "code",
      "metadata": {
        "id": "TxjU9Eiw9_J5",
        "colab": {
          "base_uri": "https://localhost:8080/",
          "height": 370
        },
        "outputId": "129e5b83-cba6-4617-c194-ee07117dd14c"
      },
      "source": [
        "\n",
        "from sklearn.metrics import mean_absolute_error\n",
        "\n",
        "                    \n",
        "# x axis for plotting\n",
        "import numpy as np\n",
        "xx = np.stack(i for i in range(y_test.shape[0]))\n",
        "plt.plot(xx, y_test, c='r', label='data')\n",
        "#plt.plot(xx, y, c='k', label='data')\n",
        "plt.plot(xx, y_pred, c='g', label='prediction')\n",
        "plt.axis('tight')\n",
        "plt.legend()\n",
        "plt.title(\"KNeighborsRegressor (k = %i, weights = '%s')\" % (n_neighbors,\n",
        "                                                                weights))\n",
        "\n",
        "plt.show()"
      ],
      "execution_count": null,
      "outputs": [
        {
          "output_type": "stream",
          "text": [
            "/usr/local/lib/python3.7/dist-packages/IPython/core/interactiveshell.py:2822: FutureWarning:\n",
            "\n",
            "arrays to stack must be passed as a \"sequence\" type such as list or tuple. Support for non-sequence iterables such as generators is deprecated as of NumPy 1.16 and will raise an error in the future.\n",
            "\n"
          ],
          "name": "stderr"
        },
        {
          "output_type": "display_data",
          "data": {
            "image/png": "[encoded data removed]",
            "text/plain": [
              "<Figure size 432x288 with 1 Axes>"
            ]
          },
          "metadata": {
            "tags": [],
            "needs_background": "light"
          }
        }
      ]
    },
    {
      "cell_type": "markdown",
      "metadata": {
        "id": "N0Ufi6nfxRjd"
      },
      "source": [
        "##MinMaxScaler"
      ]
    },
    {
      "cell_type": "code",
      "metadata": {
        "colab": {
          "base_uri": "https://localhost:8080/",
          "height": 206
        },
        "id": "6Dd7r0l0bmpz",
        "outputId": "28fb96b1-6b6a-49ab-85cf-247140d42d5d"
      },
      "source": [
        "train_ss = pd.DataFrame(X_pca_ss)\n",
        "train_ss[\"playResult\"] = static_defenses[\"playResult\"].values\n",
        "train_ss.head()"
      ],
      "execution_count": null,
      "outputs": [
        {
          "output_type": "execute_result",
          "data": {
            "text/html": [
              "<div>\n",
              "<style scoped>\n",
              "    .dataframe tbody tr th:only-of-type {\n",
              "        vertical-align: middle;\n",
              "    }\n",
              "\n",
              "    .dataframe tbody tr th {\n",
              "        vertical-align: top;\n",
              "    }\n",
              "\n",
              "    .dataframe thead th {\n",
              "        text-align: right;\n",
              "    }\n",
              "</style>\n",
              "<table border=\"1\" class=\"dataframe\">\n",
              "  <thead>\n",
              "    <tr style=\"text-align: right;\">\n",
              "      <th></th>\n",
              "      <th>0</th>\n",
              "      <th>1</th>\n",
              "      <th>2</th>\n",
              "      <th>3</th>\n",
              "      <th>4</th>\n",
              "      <th>5</th>\n",
              "      <th>6</th>\n",
              "      <th>7</th>\n",
              "      <th>8</th>\n",
              "      <th>9</th>\n",
              "      <th>10</th>\n",
              "      <th>11</th>\n",
              "      <th>12</th>\n",
              "      <th>13</th>\n",
              "      <th>playResult</th>\n",
              "    </tr>\n",
              "  </thead>\n",
              "  <tbody>\n",
              "    <tr>\n",
              "      <th>0</th>\n",
              "      <td>-0.774207</td>\n",
              "      <td>-2.468463</td>\n",
              "      <td>0.494566</td>\n",
              "      <td>1.864442</td>\n",
              "      <td>2.134126</td>\n",
              "      <td>-0.167689</td>\n",
              "      <td>-1.035529</td>\n",
              "      <td>2.170305</td>\n",
              "      <td>1.481364</td>\n",
              "      <td>1.282113</td>\n",
              "      <td>-4.053152</td>\n",
              "      <td>1.791275</td>\n",
              "      <td>-0.521982</td>\n",
              "      <td>0.693632</td>\n",
              "      <td>10</td>\n",
              "    </tr>\n",
              "    <tr>\n",
              "      <th>1</th>\n",
              "      <td>-0.050022</td>\n",
              "      <td>-1.812451</td>\n",
              "      <td>1.506638</td>\n",
              "      <td>-0.269917</td>\n",
              "      <td>-0.550293</td>\n",
              "      <td>0.652475</td>\n",
              "      <td>-1.825971</td>\n",
              "      <td>0.446371</td>\n",
              "      <td>0.143673</td>\n",
              "      <td>-0.281565</td>\n",
              "      <td>0.558406</td>\n",
              "      <td>-0.310550</td>\n",
              "      <td>-0.510448</td>\n",
              "      <td>0.446715</td>\n",
              "      <td>0</td>\n",
              "    </tr>\n",
              "    <tr>\n",
              "      <th>2</th>\n",
              "      <td>2.290472</td>\n",
              "      <td>-2.538432</td>\n",
              "      <td>-3.218413</td>\n",
              "      <td>1.618976</td>\n",
              "      <td>0.525982</td>\n",
              "      <td>-0.480004</td>\n",
              "      <td>-0.323774</td>\n",
              "      <td>-0.103402</td>\n",
              "      <td>-1.648391</td>\n",
              "      <td>3.647438</td>\n",
              "      <td>0.568316</td>\n",
              "      <td>-0.831422</td>\n",
              "      <td>0.013317</td>\n",
              "      <td>-0.263231</td>\n",
              "      <td>0</td>\n",
              "    </tr>\n",
              "    <tr>\n",
              "      <th>3</th>\n",
              "      <td>-1.455413</td>\n",
              "      <td>-1.673324</td>\n",
              "      <td>2.751002</td>\n",
              "      <td>-1.874452</td>\n",
              "      <td>0.495801</td>\n",
              "      <td>-0.928747</td>\n",
              "      <td>-0.089102</td>\n",
              "      <td>1.235334</td>\n",
              "      <td>-0.949319</td>\n",
              "      <td>-0.706386</td>\n",
              "      <td>0.283102</td>\n",
              "      <td>-0.117368</td>\n",
              "      <td>-0.609669</td>\n",
              "      <td>0.547714</td>\n",
              "      <td>33</td>\n",
              "    </tr>\n",
              "    <tr>\n",
              "      <th>4</th>\n",
              "      <td>-1.647651</td>\n",
              "      <td>0.858845</td>\n",
              "      <td>0.729530</td>\n",
              "      <td>-0.845751</td>\n",
              "      <td>2.025989</td>\n",
              "      <td>-1.865085</td>\n",
              "      <td>-0.695295</td>\n",
              "      <td>0.816665</td>\n",
              "      <td>-0.857215</td>\n",
              "      <td>-0.145110</td>\n",
              "      <td>-0.575788</td>\n",
              "      <td>0.279939</td>\n",
              "      <td>0.620699</td>\n",
              "      <td>-0.725182</td>\n",
              "      <td>4</td>\n",
              "    </tr>\n",
              "  </tbody>\n",
              "</table>\n",
              "</div>"
            ],
            "text/plain": [
              "          0         1         2         3         4         5         6  \\\n",
              "0 -0.774207 -2.468463  0.494566  1.864442  2.134126 -0.167689 -1.035529   \n",
              "1 -0.050022 -1.812451  1.506638 -0.269917 -0.550293  0.652475 -1.825971   \n",
              "2  2.290472 -2.538432 -3.218413  1.618976  0.525982 -0.480004 -0.323774   \n",
              "3 -1.455413 -1.673324  2.751002 -1.874452  0.495801 -0.928747 -0.089102   \n",
              "4 -1.647651  0.858845  0.729530 -0.845751  2.025989 -1.865085 -0.695295   \n",
              "\n",
              "          7         8         9        10        11        12        13  \\\n",
              "0  2.170305  1.481364  1.282113 -4.053152  1.791275 -0.521982  0.693632   \n",
              "1  0.446371  0.143673 -0.281565  0.558406 -0.310550 -0.510448  0.446715   \n",
              "2 -0.103402 -1.648391  3.647438  0.568316 -0.831422  0.013317 -0.263231   \n",
              "3  1.235334 -0.949319 -0.706386  0.283102 -0.117368 -0.609669  0.547714   \n",
              "4  0.816665 -0.857215 -0.145110 -0.575788  0.279939  0.620699 -0.725182   \n",
              "\n",
              "   playResult  \n",
              "0          10  \n",
              "1           0  \n",
              "2           0  \n",
              "3          33  \n",
              "4           4  "
            ]
          },
          "metadata": {
            "tags": []
          },
          "execution_count": 38
        }
      ]
    },
    {
      "cell_type": "code",
      "metadata": {
        "colab": {
          "base_uri": "https://localhost:8080/"
        },
        "id": "8ESG25OQbmp3",
        "outputId": "7bb9481a-96d6-482e-bc99-cadfeae6923e"
      },
      "source": [
        "from sklearn import neighbors\n",
        "from sklearn.model_selection import KFold\n",
        "import matplotlib.pyplot as plt\n",
        "from sklearn.metrics import mean_absolute_error\n",
        "\n",
        "cv = KFold(n_splits = 10, shuffle = False) #\n",
        "\n",
        "\n",
        "for i, weights in enumerate(['uniform', 'distance']):\n",
        "   total_scores = []\n",
        "   for n_neighbors in range(1,30):\n",
        "       fold_accuracy = []\n",
        "       knn = neighbors.KNeighborsRegressor(n_neighbors, weights=weights)\n",
        "       # verificar cada uno de los modelos con validación cruzada.\n",
        "       for train_fold, test_fold in cv.split(train_ss):\n",
        "          # División train test aleatoria\n",
        "          f_train = train_ss.loc[train_fold]\n",
        "          f_test = train_ss.loc[test_fold]\n",
        "          # entrenamiento y ejecución del modelo\n",
        "          knn.fit( X = f_train.drop([\"playResult\"],axis=1), y = f_train['playResult'])\n",
        "          y_pred = knn.predict(X = f_test.drop(['playResult'], axis = 1))\n",
        "          # evaluación del modelo\n",
        "          mae = mean_absolute_error(f_test['playResult'], y_pred)\n",
        "          fold_accuracy.append(mae)\n",
        "       total_scores.append(sum(fold_accuracy)/len(fold_accuracy))\n",
        "   \n",
        "   plt.plot(range(1,len(total_scores)+1), total_scores, \n",
        "             marker='o', label=weights)\n",
        "   print ('Min Value ' +  weights + \" : \" +  str(min(total_scores)) +\" (\" + str(np.argmin(total_scores) + 1) + \")\")\n",
        "   plt.ylabel('MAE')      \n",
        "    \n",
        "\n",
        "plt.legend()\n",
        "plt.show() \n",
        "\n"
      ],
      "execution_count": null,
      "outputs": [
        {
          "output_type": "stream",
          "text": [
            "Min Value uniform : 7.979604783846378 (29)\n"
          ],
          "name": "stdout"
        }
      ]
    },
    {
      "cell_type": "code",
      "metadata": {
        "cellView": "both",
        "colab": {
          "base_uri": "https://localhost:8080/"
        },
        "id": "bHHsGW0Cbmp4",
        "outputId": "5e2fcd84-2bbd-4946-99df-dfbccab4cbce"
      },
      "source": [
        "# constructor\n",
        "n_neighbors = 7\n",
        "weights = 'uniform'\n",
        "knn = neighbors.KNeighborsRegressor(n_neighbors= n_neighbors, weights=weights) \n",
        "# fit and predict\n",
        "\n",
        "knn.fit( X = X_train, y = y_train)\n",
        "y_pred = knn.predict(X = X_test)\n",
        "mae = mean_absolute_error(y_test,y_pred)\n",
        "print ('MAE', mae)"
      ],
      "execution_count": null,
      "outputs": [
        {
          "output_type": "stream",
          "text": [
            "MAE 8.383012053435445\n"
          ],
          "name": "stdout"
        }
      ]
    },
    {
      "cell_type": "code",
      "metadata": {
        "colab": {
          "base_uri": "https://localhost:8080/",
          "height": 370
        },
        "id": "QdDCeSWibmp5",
        "outputId": "05a96041-7811-4749-8888-ca410c506bde"
      },
      "source": [
        "\n",
        "from sklearn.metrics import mean_absolute_error\n",
        "\n",
        "                    \n",
        "# x axis for plotting\n",
        "import numpy as np\n",
        "xx = np.stack(i for i in range(y_test.shape[0]))\n",
        "plt.plot(xx, y_test, c='r', label='data')\n",
        "#plt.plot(xx, y, c='k', label='data')\n",
        "plt.plot(xx, y_pred, c='g', label='prediction')\n",
        "plt.axis('tight')\n",
        "plt.legend()\n",
        "plt.title(\"KNeighborsRegressor (k = %i, weights = '%s')\" % (n_neighbors,\n",
        "                                                                weights))\n",
        "\n",
        "plt.show()"
      ],
      "execution_count": null,
      "outputs": [
        {
          "output_type": "stream",
          "text": [
            "/usr/local/lib/python3.7/dist-packages/IPython/core/interactiveshell.py:2822: FutureWarning:\n",
            "\n",
            "arrays to stack must be passed as a \"sequence\" type such as list or tuple. Support for non-sequence iterables such as generators is deprecated as of NumPy 1.16 and will raise an error in the future.\n",
            "\n"
          ],
          "name": "stderr"
        },
        {
          "output_type": "display_data",
          "data": {
            "image/png": "[encoded data removed]",
            "text/plain": [
              "<Figure size 432x288 with 1 Axes>"
            ]
          },
          "metadata": {
            "tags": [],
            "needs_background": "light"
          }
        }
      ]
    },
    {
      "cell_type": "markdown",
      "metadata": {
        "id": "8-ALF0NXxTPT"
      },
      "source": [
        "##RobustScaler"
      ]
    },
    {
      "cell_type": "code",
      "metadata": {
        "colab": {
          "base_uri": "https://localhost:8080/",
          "height": 206
        },
        "id": "TeaSc9RwbpBp",
        "outputId": "28fb96b1-6b6a-49ab-85cf-247140d42d5d"
      },
      "source": [
        "train_ss = pd.DataFrame(X_pca_ss)\n",
        "train_ss[\"playResult\"] = static_defenses[\"playResult\"].values\n",
        "train_ss.head()"
      ],
      "execution_count": null,
      "outputs": [
        {
          "output_type": "execute_result",
          "data": {
            "text/html": [
              "<div>\n",
              "<style scoped>\n",
              "    .dataframe tbody tr th:only-of-type {\n",
              "        vertical-align: middle;\n",
              "    }\n",
              "\n",
              "    .dataframe tbody tr th {\n",
              "        vertical-align: top;\n",
              "    }\n",
              "\n",
              "    .dataframe thead th {\n",
              "        text-align: right;\n",
              "    }\n",
              "</style>\n",
              "<table border=\"1\" class=\"dataframe\">\n",
              "  <thead>\n",
              "    <tr style=\"text-align: right;\">\n",
              "      <th></th>\n",
              "      <th>0</th>\n",
              "      <th>1</th>\n",
              "      <th>2</th>\n",
              "      <th>3</th>\n",
              "      <th>4</th>\n",
              "      <th>5</th>\n",
              "      <th>6</th>\n",
              "      <th>7</th>\n",
              "      <th>8</th>\n",
              "      <th>9</th>\n",
              "      <th>10</th>\n",
              "      <th>11</th>\n",
              "      <th>12</th>\n",
              "      <th>13</th>\n",
              "      <th>playResult</th>\n",
              "    </tr>\n",
              "  </thead>\n",
              "  <tbody>\n",
              "    <tr>\n",
              "      <th>0</th>\n",
              "      <td>-0.774207</td>\n",
              "      <td>-2.468463</td>\n",
              "      <td>0.494566</td>\n",
              "      <td>1.864442</td>\n",
              "      <td>2.134126</td>\n",
              "      <td>-0.167689</td>\n",
              "      <td>-1.035529</td>\n",
              "      <td>2.170305</td>\n",
              "      <td>1.481364</td>\n",
              "      <td>1.282113</td>\n",
              "      <td>-4.053152</td>\n",
              "      <td>1.791275</td>\n",
              "      <td>-0.521982</td>\n",
              "      <td>0.693632</td>\n",
              "      <td>10</td>\n",
              "    </tr>\n",
              "    <tr>\n",
              "      <th>1</th>\n",
              "      <td>-0.050022</td>\n",
              "      <td>-1.812451</td>\n",
              "      <td>1.506638</td>\n",
              "      <td>-0.269917</td>\n",
              "      <td>-0.550293</td>\n",
              "      <td>0.652475</td>\n",
              "      <td>-1.825971</td>\n",
              "      <td>0.446371</td>\n",
              "      <td>0.143673</td>\n",
              "      <td>-0.281565</td>\n",
              "      <td>0.558406</td>\n",
              "      <td>-0.310550</td>\n",
              "      <td>-0.510448</td>\n",
              "      <td>0.446715</td>\n",
              "      <td>0</td>\n",
              "    </tr>\n",
              "    <tr>\n",
              "      <th>2</th>\n",
              "      <td>2.290472</td>\n",
              "      <td>-2.538432</td>\n",
              "      <td>-3.218413</td>\n",
              "      <td>1.618976</td>\n",
              "      <td>0.525982</td>\n",
              "      <td>-0.480004</td>\n",
              "      <td>-0.323774</td>\n",
              "      <td>-0.103402</td>\n",
              "      <td>-1.648391</td>\n",
              "      <td>3.647438</td>\n",
              "      <td>0.568316</td>\n",
              "      <td>-0.831422</td>\n",
              "      <td>0.013317</td>\n",
              "      <td>-0.263231</td>\n",
              "      <td>0</td>\n",
              "    </tr>\n",
              "    <tr>\n",
              "      <th>3</th>\n",
              "      <td>-1.455413</td>\n",
              "      <td>-1.673324</td>\n",
              "      <td>2.751002</td>\n",
              "      <td>-1.874452</td>\n",
              "      <td>0.495801</td>\n",
              "      <td>-0.928747</td>\n",
              "      <td>-0.089102</td>\n",
              "      <td>1.235334</td>\n",
              "      <td>-0.949319</td>\n",
              "      <td>-0.706386</td>\n",
              "      <td>0.283102</td>\n",
              "      <td>-0.117368</td>\n",
              "      <td>-0.609669</td>\n",
              "      <td>0.547714</td>\n",
              "      <td>33</td>\n",
              "    </tr>\n",
              "    <tr>\n",
              "      <th>4</th>\n",
              "      <td>-1.647651</td>\n",
              "      <td>0.858845</td>\n",
              "      <td>0.729530</td>\n",
              "      <td>-0.845751</td>\n",
              "      <td>2.025989</td>\n",
              "      <td>-1.865085</td>\n",
              "      <td>-0.695295</td>\n",
              "      <td>0.816665</td>\n",
              "      <td>-0.857215</td>\n",
              "      <td>-0.145110</td>\n",
              "      <td>-0.575788</td>\n",
              "      <td>0.279939</td>\n",
              "      <td>0.620699</td>\n",
              "      <td>-0.725182</td>\n",
              "      <td>4</td>\n",
              "    </tr>\n",
              "  </tbody>\n",
              "</table>\n",
              "</div>"
            ],
            "text/plain": [
              "          0         1         2         3         4         5         6  \\\n",
              "0 -0.774207 -2.468463  0.494566  1.864442  2.134126 -0.167689 -1.035529   \n",
              "1 -0.050022 -1.812451  1.506638 -0.269917 -0.550293  0.652475 -1.825971   \n",
              "2  2.290472 -2.538432 -3.218413  1.618976  0.525982 -0.480004 -0.323774   \n",
              "3 -1.455413 -1.673324  2.751002 -1.874452  0.495801 -0.928747 -0.089102   \n",
              "4 -1.647651  0.858845  0.729530 -0.845751  2.025989 -1.865085 -0.695295   \n",
              "\n",
              "          7         8         9        10        11        12        13  \\\n",
              "0  2.170305  1.481364  1.282113 -4.053152  1.791275 -0.521982  0.693632   \n",
              "1  0.446371  0.143673 -0.281565  0.558406 -0.310550 -0.510448  0.446715   \n",
              "2 -0.103402 -1.648391  3.647438  0.568316 -0.831422  0.013317 -0.263231   \n",
              "3  1.235334 -0.949319 -0.706386  0.283102 -0.117368 -0.609669  0.547714   \n",
              "4  0.816665 -0.857215 -0.145110 -0.575788  0.279939  0.620699 -0.725182   \n",
              "\n",
              "   playResult  \n",
              "0          10  \n",
              "1           0  \n",
              "2           0  \n",
              "3          33  \n",
              "4           4  "
            ]
          },
          "metadata": {
            "tags": []
          },
          "execution_count": 38
        }
      ]
    },
    {
      "cell_type": "code",
      "metadata": {
        "colab": {
          "base_uri": "https://localhost:8080/"
        },
        "id": "zbZBx5nxbpBq",
        "outputId": "7bb9481a-96d6-482e-bc99-cadfeae6923e"
      },
      "source": [
        "from sklearn import neighbors\n",
        "from sklearn.model_selection import KFold\n",
        "import matplotlib.pyplot as plt\n",
        "from sklearn.metrics import mean_absolute_error\n",
        "\n",
        "cv = KFold(n_splits = 10, shuffle = False) #\n",
        "\n",
        "\n",
        "for i, weights in enumerate(['uniform', 'distance']):\n",
        "   total_scores = []\n",
        "   for n_neighbors in range(1,30):\n",
        "       fold_accuracy = []\n",
        "       knn = neighbors.KNeighborsRegressor(n_neighbors, weights=weights)\n",
        "       # verificar cada uno de los modelos con validación cruzada.\n",
        "       for train_fold, test_fold in cv.split(train_ss):\n",
        "          # División train test aleatoria\n",
        "          f_train = train_ss.loc[train_fold]\n",
        "          f_test = train_ss.loc[test_fold]\n",
        "          # entrenamiento y ejecución del modelo\n",
        "          knn.fit( X = f_train.drop([\"playResult\"],axis=1), y = f_train['playResult'])\n",
        "          y_pred = knn.predict(X = f_test.drop(['playResult'], axis = 1))\n",
        "          # evaluación del modelo\n",
        "          mae = mean_absolute_error(f_test['playResult'], y_pred)\n",
        "          fold_accuracy.append(mae)\n",
        "       total_scores.append(sum(fold_accuracy)/len(fold_accuracy))\n",
        "   \n",
        "   plt.plot(range(1,len(total_scores)+1), total_scores, \n",
        "             marker='o', label=weights)\n",
        "   print ('Min Value ' +  weights + \" : \" +  str(min(total_scores)) +\" (\" + str(np.argmin(total_scores) + 1) + \")\")\n",
        "   plt.ylabel('MAE')      \n",
        "    \n",
        "\n",
        "plt.legend()\n",
        "plt.show() \n",
        "\n"
      ],
      "execution_count": null,
      "outputs": [
        {
          "output_type": "stream",
          "text": [
            "Min Value uniform : 7.979604783846378 (29)\n"
          ],
          "name": "stdout"
        }
      ]
    },
    {
      "cell_type": "code",
      "metadata": {
        "cellView": "both",
        "colab": {
          "base_uri": "https://localhost:8080/"
        },
        "id": "qPN5_sPebpBq",
        "outputId": "5e2fcd84-2bbd-4946-99df-dfbccab4cbce"
      },
      "source": [
        "# constructor\n",
        "n_neighbors = 7\n",
        "weights = 'uniform'\n",
        "knn = neighbors.KNeighborsRegressor(n_neighbors= n_neighbors, weights=weights) \n",
        "# fit and predict\n",
        "\n",
        "knn.fit( X = X_train, y = y_train)\n",
        "y_pred = knn.predict(X = X_test)\n",
        "mae = mean_absolute_error(y_test,y_pred)\n",
        "print ('MAE', mae)"
      ],
      "execution_count": null,
      "outputs": [
        {
          "output_type": "stream",
          "text": [
            "MAE 8.383012053435445\n"
          ],
          "name": "stdout"
        }
      ]
    },
    {
      "cell_type": "code",
      "metadata": {
        "colab": {
          "base_uri": "https://localhost:8080/",
          "height": 370
        },
        "id": "L5gi1TkcbpBs",
        "outputId": "05a96041-7811-4749-8888-ca410c506bde"
      },
      "source": [
        "\n",
        "from sklearn.metrics import mean_absolute_error\n",
        "\n",
        "                    \n",
        "# x axis for plotting\n",
        "import numpy as np\n",
        "xx = np.stack(i for i in range(y_test.shape[0]))\n",
        "plt.plot(xx, y_test, c='r', label='data')\n",
        "#plt.plot(xx, y, c='k', label='data')\n",
        "plt.plot(xx, y_pred, c='g', label='prediction')\n",
        "plt.axis('tight')\n",
        "plt.legend()\n",
        "plt.title(\"KNeighborsRegressor (k = %i, weights = '%s')\" % (n_neighbors,\n",
        "                                                                weights))\n",
        "\n",
        "plt.show()"
      ],
      "execution_count": null,
      "outputs": [
        {
          "output_type": "stream",
          "text": [
            "/usr/local/lib/python3.7/dist-packages/IPython/core/interactiveshell.py:2822: FutureWarning:\n",
            "\n",
            "arrays to stack must be passed as a \"sequence\" type such as list or tuple. Support for non-sequence iterables such as generators is deprecated as of NumPy 1.16 and will raise an error in the future.\n",
            "\n"
          ],
          "name": "stderr"
        },
        {
          "output_type": "display_data",
          "data": {
            "image/png": "[encoded data removed]",
            "text/plain": [
              "<Figure size 432x288 with 1 Axes>"
            ]
          },
          "metadata": {
            "tags": [],
            "needs_background": "light"
          }
        }
      ]
    },
    {
      "cell_type": "markdown",
      "metadata": {
        "id": "1-hVI-qRxV2j"
      },
      "source": [
        "##PowerTransformer"
      ]
    },
    {
      "cell_type": "code",
      "metadata": {
        "colab": {
          "base_uri": "https://localhost:8080/",
          "height": 206
        },
        "id": "NrrKQhOwbsef",
        "outputId": "28fb96b1-6b6a-49ab-85cf-247140d42d5d"
      },
      "source": [
        "train_ss = pd.DataFrame(X_pca_ss)\n",
        "train_ss[\"playResult\"] = static_defenses[\"playResult\"].values\n",
        "train_ss.head()"
      ],
      "execution_count": null,
      "outputs": [
        {
          "output_type": "execute_result",
          "data": {
            "text/html": [
              "<div>\n",
              "<style scoped>\n",
              "    .dataframe tbody tr th:only-of-type {\n",
              "        vertical-align: middle;\n",
              "    }\n",
              "\n",
              "    .dataframe tbody tr th {\n",
              "        vertical-align: top;\n",
              "    }\n",
              "\n",
              "    .dataframe thead th {\n",
              "        text-align: right;\n",
              "    }\n",
              "</style>\n",
              "<table border=\"1\" class=\"dataframe\">\n",
              "  <thead>\n",
              "    <tr style=\"text-align: right;\">\n",
              "      <th></th>\n",
              "      <th>0</th>\n",
              "      <th>1</th>\n",
              "      <th>2</th>\n",
              "      <th>3</th>\n",
              "      <th>4</th>\n",
              "      <th>5</th>\n",
              "      <th>6</th>\n",
              "      <th>7</th>\n",
              "      <th>8</th>\n",
              "      <th>9</th>\n",
              "      <th>10</th>\n",
              "      <th>11</th>\n",
              "      <th>12</th>\n",
              "      <th>13</th>\n",
              "      <th>playResult</th>\n",
              "    </tr>\n",
              "  </thead>\n",
              "  <tbody>\n",
              "    <tr>\n",
              "      <th>0</th>\n",
              "      <td>-0.774207</td>\n",
              "      <td>-2.468463</td>\n",
              "      <td>0.494566</td>\n",
              "      <td>1.864442</td>\n",
              "      <td>2.134126</td>\n",
              "      <td>-0.167689</td>\n",
              "      <td>-1.035529</td>\n",
              "      <td>2.170305</td>\n",
              "      <td>1.481364</td>\n",
              "      <td>1.282113</td>\n",
              "      <td>-4.053152</td>\n",
              "      <td>1.791275</td>\n",
              "      <td>-0.521982</td>\n",
              "      <td>0.693632</td>\n",
              "      <td>10</td>\n",
              "    </tr>\n",
              "    <tr>\n",
              "      <th>1</th>\n",
              "      <td>-0.050022</td>\n",
              "      <td>-1.812451</td>\n",
              "      <td>1.506638</td>\n",
              "      <td>-0.269917</td>\n",
              "      <td>-0.550293</td>\n",
              "      <td>0.652475</td>\n",
              "      <td>-1.825971</td>\n",
              "      <td>0.446371</td>\n",
              "      <td>0.143673</td>\n",
              "      <td>-0.281565</td>\n",
              "      <td>0.558406</td>\n",
              "      <td>-0.310550</td>\n",
              "      <td>-0.510448</td>\n",
              "      <td>0.446715</td>\n",
              "      <td>0</td>\n",
              "    </tr>\n",
              "    <tr>\n",
              "      <th>2</th>\n",
              "      <td>2.290472</td>\n",
              "      <td>-2.538432</td>\n",
              "      <td>-3.218413</td>\n",
              "      <td>1.618976</td>\n",
              "      <td>0.525982</td>\n",
              "      <td>-0.480004</td>\n",
              "      <td>-0.323774</td>\n",
              "      <td>-0.103402</td>\n",
              "      <td>-1.648391</td>\n",
              "      <td>3.647438</td>\n",
              "      <td>0.568316</td>\n",
              "      <td>-0.831422</td>\n",
              "      <td>0.013317</td>\n",
              "      <td>-0.263231</td>\n",
              "      <td>0</td>\n",
              "    </tr>\n",
              "    <tr>\n",
              "      <th>3</th>\n",
              "      <td>-1.455413</td>\n",
              "      <td>-1.673324</td>\n",
              "      <td>2.751002</td>\n",
              "      <td>-1.874452</td>\n",
              "      <td>0.495801</td>\n",
              "      <td>-0.928747</td>\n",
              "      <td>-0.089102</td>\n",
              "      <td>1.235334</td>\n",
              "      <td>-0.949319</td>\n",
              "      <td>-0.706386</td>\n",
              "      <td>0.283102</td>\n",
              "      <td>-0.117368</td>\n",
              "      <td>-0.609669</td>\n",
              "      <td>0.547714</td>\n",
              "      <td>33</td>\n",
              "    </tr>\n",
              "    <tr>\n",
              "      <th>4</th>\n",
              "      <td>-1.647651</td>\n",
              "      <td>0.858845</td>\n",
              "      <td>0.729530</td>\n",
              "      <td>-0.845751</td>\n",
              "      <td>2.025989</td>\n",
              "      <td>-1.865085</td>\n",
              "      <td>-0.695295</td>\n",
              "      <td>0.816665</td>\n",
              "      <td>-0.857215</td>\n",
              "      <td>-0.145110</td>\n",
              "      <td>-0.575788</td>\n",
              "      <td>0.279939</td>\n",
              "      <td>0.620699</td>\n",
              "      <td>-0.725182</td>\n",
              "      <td>4</td>\n",
              "    </tr>\n",
              "  </tbody>\n",
              "</table>\n",
              "</div>"
            ],
            "text/plain": [
              "          0         1         2         3         4         5         6  \\\n",
              "0 -0.774207 -2.468463  0.494566  1.864442  2.134126 -0.167689 -1.035529   \n",
              "1 -0.050022 -1.812451  1.506638 -0.269917 -0.550293  0.652475 -1.825971   \n",
              "2  2.290472 -2.538432 -3.218413  1.618976  0.525982 -0.480004 -0.323774   \n",
              "3 -1.455413 -1.673324  2.751002 -1.874452  0.495801 -0.928747 -0.089102   \n",
              "4 -1.647651  0.858845  0.729530 -0.845751  2.025989 -1.865085 -0.695295   \n",
              "\n",
              "          7         8         9        10        11        12        13  \\\n",
              "0  2.170305  1.481364  1.282113 -4.053152  1.791275 -0.521982  0.693632   \n",
              "1  0.446371  0.143673 -0.281565  0.558406 -0.310550 -0.510448  0.446715   \n",
              "2 -0.103402 -1.648391  3.647438  0.568316 -0.831422  0.013317 -0.263231   \n",
              "3  1.235334 -0.949319 -0.706386  0.283102 -0.117368 -0.609669  0.547714   \n",
              "4  0.816665 -0.857215 -0.145110 -0.575788  0.279939  0.620699 -0.725182   \n",
              "\n",
              "   playResult  \n",
              "0          10  \n",
              "1           0  \n",
              "2           0  \n",
              "3          33  \n",
              "4           4  "
            ]
          },
          "metadata": {
            "tags": []
          },
          "execution_count": 38
        }
      ]
    },
    {
      "cell_type": "code",
      "metadata": {
        "colab": {
          "base_uri": "https://localhost:8080/"
        },
        "id": "ykOhhE3pbseh",
        "outputId": "7bb9481a-96d6-482e-bc99-cadfeae6923e"
      },
      "source": [
        "from sklearn import neighbors\n",
        "from sklearn.model_selection import KFold\n",
        "import matplotlib.pyplot as plt\n",
        "from sklearn.metrics import mean_absolute_error\n",
        "\n",
        "cv = KFold(n_splits = 10, shuffle = False) #\n",
        "\n",
        "\n",
        "for i, weights in enumerate(['uniform', 'distance']):\n",
        "   total_scores = []\n",
        "   for n_neighbors in range(1,30):\n",
        "       fold_accuracy = []\n",
        "       knn = neighbors.KNeighborsRegressor(n_neighbors, weights=weights)\n",
        "       # verificar cada uno de los modelos con validación cruzada.\n",
        "       for train_fold, test_fold in cv.split(train_ss):\n",
        "          # División train test aleatoria\n",
        "          f_train = train_ss.loc[train_fold]\n",
        "          f_test = train_ss.loc[test_fold]\n",
        "          # entrenamiento y ejecución del modelo\n",
        "          knn.fit( X = f_train.drop([\"playResult\"],axis=1), y = f_train['playResult'])\n",
        "          y_pred = knn.predict(X = f_test.drop(['playResult'], axis = 1))\n",
        "          # evaluación del modelo\n",
        "          mae = mean_absolute_error(f_test['playResult'], y_pred)\n",
        "          fold_accuracy.append(mae)\n",
        "       total_scores.append(sum(fold_accuracy)/len(fold_accuracy))\n",
        "   \n",
        "   plt.plot(range(1,len(total_scores)+1), total_scores, \n",
        "             marker='o', label=weights)\n",
        "   print ('Min Value ' +  weights + \" : \" +  str(min(total_scores)) +\" (\" + str(np.argmin(total_scores) + 1) + \")\")\n",
        "   plt.ylabel('MAE')      \n",
        "    \n",
        "\n",
        "plt.legend()\n",
        "plt.show() \n",
        "\n"
      ],
      "execution_count": null,
      "outputs": [
        {
          "output_type": "stream",
          "text": [
            "Min Value uniform : 7.979604783846378 (29)\n"
          ],
          "name": "stdout"
        }
      ]
    },
    {
      "cell_type": "code",
      "metadata": {
        "cellView": "both",
        "colab": {
          "base_uri": "https://localhost:8080/"
        },
        "id": "gGP0ihMhbsei",
        "outputId": "5e2fcd84-2bbd-4946-99df-dfbccab4cbce"
      },
      "source": [
        "# constructor\n",
        "n_neighbors = 7\n",
        "weights = 'uniform'\n",
        "knn = neighbors.KNeighborsRegressor(n_neighbors= n_neighbors, weights=weights) \n",
        "# fit and predict\n",
        "\n",
        "knn.fit( X = X_train, y = y_train)\n",
        "y_pred = knn.predict(X = X_test)\n",
        "mae = mean_absolute_error(y_test,y_pred)\n",
        "print ('MAE', mae)"
      ],
      "execution_count": null,
      "outputs": [
        {
          "output_type": "stream",
          "text": [
            "MAE 8.383012053435445\n"
          ],
          "name": "stdout"
        }
      ]
    },
    {
      "cell_type": "code",
      "metadata": {
        "colab": {
          "base_uri": "https://localhost:8080/",
          "height": 370
        },
        "id": "ZOewSez3bsej",
        "outputId": "05a96041-7811-4749-8888-ca410c506bde"
      },
      "source": [
        "\n",
        "from sklearn.metrics import mean_absolute_error\n",
        "\n",
        "                    \n",
        "# x axis for plotting\n",
        "import numpy as np\n",
        "xx = np.stack(i for i in range(y_test.shape[0]))\n",
        "plt.plot(xx, y_test, c='r', label='data')\n",
        "#plt.plot(xx, y, c='k', label='data')\n",
        "plt.plot(xx, y_pred, c='g', label='prediction')\n",
        "plt.axis('tight')\n",
        "plt.legend()\n",
        "plt.title(\"KNeighborsRegressor (k = %i, weights = '%s')\" % (n_neighbors,\n",
        "                                                                weights))\n",
        "\n",
        "plt.show()"
      ],
      "execution_count": null,
      "outputs": [
        {
          "output_type": "stream",
          "text": [
            "/usr/local/lib/python3.7/dist-packages/IPython/core/interactiveshell.py:2822: FutureWarning:\n",
            "\n",
            "arrays to stack must be passed as a \"sequence\" type such as list or tuple. Support for non-sequence iterables such as generators is deprecated as of NumPy 1.16 and will raise an error in the future.\n",
            "\n"
          ],
          "name": "stderr"
        },
        {
          "output_type": "display_data",
          "data": {
            "image/png": "[encoded data removed]",
            "text/plain": [
              "<Figure size 432x288 with 1 Axes>"
            ]
          },
          "metadata": {
            "tags": [],
            "needs_background": "light"
          }
        }
      ]
    },
    {
      "cell_type": "markdown",
      "metadata": {
        "id": "4Kw_mpXNzEJX"
      },
      "source": [
        "#Decision Trees"
      ]
    },
    {
      "cell_type": "markdown",
      "metadata": {
        "id": "zxbQzt3QdBl8"
      },
      "source": [
        "##StandardScaler"
      ]
    },
    {
      "cell_type": "code",
      "metadata": {
        "colab": {
          "base_uri": "https://localhost:8080/",
          "height": 206
        },
        "id": "YUzbQQRXdBN7",
        "outputId": "796b11d5-aacd-45bd-e402-7a2bc2c0ab04"
      },
      "source": [
        "train_ss = pd.DataFrame(X_pca_ss)\n",
        "train_ss[\"playResult\"] = static_defenses[\"playResult\"].values\n",
        "train_ss.head()"
      ],
      "execution_count": null,
      "outputs": [
        {
          "output_type": "execute_result",
          "data": {
            "text/html": [
              "<div>\n",
              "<style scoped>\n",
              "    .dataframe tbody tr th:only-of-type {\n",
              "        vertical-align: middle;\n",
              "    }\n",
              "\n",
              "    .dataframe tbody tr th {\n",
              "        vertical-align: top;\n",
              "    }\n",
              "\n",
              "    .dataframe thead th {\n",
              "        text-align: right;\n",
              "    }\n",
              "</style>\n",
              "<table border=\"1\" class=\"dataframe\">\n",
              "  <thead>\n",
              "    <tr style=\"text-align: right;\">\n",
              "      <th></th>\n",
              "      <th>0</th>\n",
              "      <th>1</th>\n",
              "      <th>2</th>\n",
              "      <th>3</th>\n",
              "      <th>4</th>\n",
              "      <th>5</th>\n",
              "      <th>6</th>\n",
              "      <th>7</th>\n",
              "      <th>8</th>\n",
              "      <th>9</th>\n",
              "      <th>10</th>\n",
              "      <th>11</th>\n",
              "      <th>12</th>\n",
              "      <th>13</th>\n",
              "      <th>playResult</th>\n",
              "    </tr>\n",
              "  </thead>\n",
              "  <tbody>\n",
              "    <tr>\n",
              "      <th>0</th>\n",
              "      <td>-0.796762</td>\n",
              "      <td>-2.471063</td>\n",
              "      <td>0.379461</td>\n",
              "      <td>1.883567</td>\n",
              "      <td>2.239644</td>\n",
              "      <td>-0.251087</td>\n",
              "      <td>-1.068815</td>\n",
              "      <td>1.946789</td>\n",
              "      <td>1.118577</td>\n",
              "      <td>1.753095</td>\n",
              "      <td>3.898092</td>\n",
              "      <td>-2.202849</td>\n",
              "      <td>-0.734660</td>\n",
              "      <td>0.513202</td>\n",
              "      <td>10</td>\n",
              "    </tr>\n",
              "    <tr>\n",
              "      <th>1</th>\n",
              "      <td>-0.073693</td>\n",
              "      <td>-1.840949</td>\n",
              "      <td>1.472369</td>\n",
              "      <td>-0.208183</td>\n",
              "      <td>-0.523825</td>\n",
              "      <td>0.593292</td>\n",
              "      <td>-1.869386</td>\n",
              "      <td>0.429098</td>\n",
              "      <td>0.173242</td>\n",
              "      <td>-0.302880</td>\n",
              "      <td>-0.498872</td>\n",
              "      <td>0.308035</td>\n",
              "      <td>-0.453472</td>\n",
              "      <td>0.379695</td>\n",
              "      <td>0</td>\n",
              "    </tr>\n",
              "    <tr>\n",
              "      <th>2</th>\n",
              "      <td>2.280870</td>\n",
              "      <td>-2.498068</td>\n",
              "      <td>-3.336658</td>\n",
              "      <td>1.542837</td>\n",
              "      <td>0.516549</td>\n",
              "      <td>-0.466786</td>\n",
              "      <td>-0.256591</td>\n",
              "      <td>-0.182319</td>\n",
              "      <td>-2.152436</td>\n",
              "      <td>3.307750</td>\n",
              "      <td>-1.291831</td>\n",
              "      <td>-0.108190</td>\n",
              "      <td>-0.009529</td>\n",
              "      <td>-0.236027</td>\n",
              "      <td>0</td>\n",
              "    </tr>\n",
              "    <tr>\n",
              "      <th>3</th>\n",
              "      <td>-1.676263</td>\n",
              "      <td>0.859091</td>\n",
              "      <td>0.705002</td>\n",
              "      <td>-0.887539</td>\n",
              "      <td>2.034705</td>\n",
              "      <td>-1.883532</td>\n",
              "      <td>-0.668118</td>\n",
              "      <td>0.783034</td>\n",
              "      <td>-0.891376</td>\n",
              "      <td>-0.172149</td>\n",
              "      <td>0.556749</td>\n",
              "      <td>-0.397043</td>\n",
              "      <td>0.549093</td>\n",
              "      <td>-0.754143</td>\n",
              "      <td>4</td>\n",
              "    </tr>\n",
              "    <tr>\n",
              "      <th>4</th>\n",
              "      <td>0.181136</td>\n",
              "      <td>0.085060</td>\n",
              "      <td>-2.481506</td>\n",
              "      <td>-0.073147</td>\n",
              "      <td>0.939430</td>\n",
              "      <td>2.312026</td>\n",
              "      <td>0.419620</td>\n",
              "      <td>-0.602379</td>\n",
              "      <td>-0.245800</td>\n",
              "      <td>-1.052889</td>\n",
              "      <td>-0.620646</td>\n",
              "      <td>0.135918</td>\n",
              "      <td>-0.282336</td>\n",
              "      <td>-0.459047</td>\n",
              "      <td>0</td>\n",
              "    </tr>\n",
              "  </tbody>\n",
              "</table>\n",
              "</div>"
            ],
            "text/plain": [
              "          0         1         2         3         4         5         6  \\\n",
              "0 -0.796762 -2.471063  0.379461  1.883567  2.239644 -0.251087 -1.068815   \n",
              "1 -0.073693 -1.840949  1.472369 -0.208183 -0.523825  0.593292 -1.869386   \n",
              "2  2.280870 -2.498068 -3.336658  1.542837  0.516549 -0.466786 -0.256591   \n",
              "3 -1.676263  0.859091  0.705002 -0.887539  2.034705 -1.883532 -0.668118   \n",
              "4  0.181136  0.085060 -2.481506 -0.073147  0.939430  2.312026  0.419620   \n",
              "\n",
              "          7         8         9        10        11        12        13  \\\n",
              "0  1.946789  1.118577  1.753095  3.898092 -2.202849 -0.734660  0.513202   \n",
              "1  0.429098  0.173242 -0.302880 -0.498872  0.308035 -0.453472  0.379695   \n",
              "2 -0.182319 -2.152436  3.307750 -1.291831 -0.108190 -0.009529 -0.236027   \n",
              "3  0.783034 -0.891376 -0.172149  0.556749 -0.397043  0.549093 -0.754143   \n",
              "4 -0.602379 -0.245800 -1.052889 -0.620646  0.135918 -0.282336 -0.459047   \n",
              "\n",
              "   playResult  \n",
              "0          10  \n",
              "1           0  \n",
              "2           0  \n",
              "3           4  \n",
              "4           0  "
            ]
          },
          "metadata": {
            "tags": []
          },
          "execution_count": 76
        }
      ]
    },
    {
      "cell_type": "code",
      "metadata": {
        "colab": {
          "base_uri": "https://localhost:8080/",
          "height": 300
        },
        "id": "MWjKd_KNI4le",
        "outputId": "2d023fcb-2af4-4d18-9e94-a6adff354b7a"
      },
      "source": [
        "from sklearn.tree import DecisionTreeRegressor\n",
        "from sklearn.model_selection import KFold\n",
        "import matplotlib.pyplot as plt\n",
        "from sklearn.metrics import mean_absolute_error\n",
        "import numpy as np\n",
        "\n",
        "cv = KFold(n_splits = 10, shuffle = False) #\n",
        "#  https://scikit-learn.org/stable/modules/generated/sklearn.model_selection.TimeSeriesSplit.html \n",
        "\n",
        "\n",
        "total_scores = []\n",
        "for i in range(1,30):\n",
        "    fold_accuracy = []\n",
        "    dt = DecisionTreeRegressor(max_depth=i)\n",
        "    # verificar cada uno de los modelos con validación cruzada.\n",
        "    for train_fold, test_fold in cv.split(train_ss):\n",
        "      # División train test aleatoria\n",
        "      f_train = train_ss.loc[train_fold]\n",
        "      f_test = train_ss.loc[test_fold]\n",
        "      # entrenamiento y ejecución del modelo\n",
        "      dt.fit( X = f_train.drop(['playResult'], axis=1), \n",
        "                            y = f_train['playResult'])\n",
        "      y_pred = dt.predict(X = f_test.drop(['playResult'], axis = 1))\n",
        "      # evaluación del modelo\n",
        "      mae = mean_absolute_error(f_test['playResult'], y_pred)\n",
        "      fold_accuracy.append(mae)\n",
        "    total_scores.append(sum(fold_accuracy)/len(fold_accuracy))\n",
        "   \n",
        "plt.plot(range(1,len(total_scores)+1), total_scores, \n",
        "           marker='o')\n",
        "print ('Min Value  :' +  str(min(total_scores)) +' (' + str(np.argmin(total_scores) + 1) + ')')\n",
        "plt.ylabel('MAE')      \n",
        "    \n",
        "\n",
        "plt.legend()\n",
        "plt.show() "
      ],
      "execution_count": null,
      "outputs": [
        {
          "output_type": "stream",
          "text": [
            "No handles with labels found to put in legend.\n"
          ],
          "name": "stderr"
        },
        {
          "output_type": "stream",
          "text": [
            "Min Value  :4.352378349329421 (3)\n"
          ],
          "name": "stdout"
        },
        {
          "output_type": "display_data",
          "data": {
            "image/png": "[encoded data removed]",
            "text/plain": [
              "<Figure size 432x288 with 1 Axes>"
            ]
          },
          "metadata": {
            "tags": [],
            "needs_background": "light"
          }
        }
      ]
    },
    {
      "cell_type": "markdown",
      "metadata": {
        "id": "cc7OgvnKhgnM"
      },
      "source": [
        "###Ejecución"
      ]
    },
    {
      "cell_type": "code",
      "metadata": {
        "id": "T7Pc1JjdiM-m"
      },
      "source": [
        "X_train, X_test, y_train, y_test = train_test_split(train_ss.drop([\"playResult\"],axis=1),train_ss[\"playResult\"],test_size=0.2)"
      ],
      "execution_count": null,
      "outputs": []
    },
    {
      "cell_type": "code",
      "metadata": {
        "colab": {
          "base_uri": "https://localhost:8080/"
        },
        "id": "jb6i5tsKL7SF",
        "outputId": "78b21d7f-04cb-4118-8207-59d3143d59e7"
      },
      "source": [
        "regressor = DecisionTreeRegressor(max_depth=5)\n",
        "regressor.fit( X = X_train, y = y_train)\n",
        "y_pred = regressor.predict(X = X_test)\n",
        "mae = mean_absolute_error(y_test, y_pred)\n",
        "print ('MAE', mae)\n"
      ],
      "execution_count": null,
      "outputs": [
        {
          "output_type": "stream",
          "text": [
            "MAE 4.364333846865527\n"
          ],
          "name": "stdout"
        }
      ]
    },
    {
      "cell_type": "code",
      "metadata": {
        "colab": {
          "base_uri": "https://localhost:8080/",
          "height": 370
        },
        "id": "Vpi5_MDBL5al",
        "outputId": "a808b49f-3b03-48f5-8376-8e2681b21501"
      },
      "source": [
        "from sklearn.metrics import mean_absolute_error\n",
        "\n",
        "                    \n",
        "# x axis for plotting\n",
        "import numpy as np\n",
        "xx = np.stack(i for i in range(y_test.shape[0]))\n",
        "plt.plot(xx, y_test, c='r', label='data')\n",
        "#plt.plot(xx, y, c='k', label='data')\n",
        "plt.plot(xx, y_pred, c='g', label='prediction')\n",
        "plt.axis('tight')\n",
        "plt.legend()\n",
        "plt.title(\"DecisionTree\")\n",
        "\n",
        "plt.show()"
      ],
      "execution_count": null,
      "outputs": [
        {
          "output_type": "stream",
          "text": [
            "/usr/local/lib/python3.7/dist-packages/IPython/core/interactiveshell.py:2822: FutureWarning:\n",
            "\n",
            "arrays to stack must be passed as a \"sequence\" type such as list or tuple. Support for non-sequence iterables such as generators is deprecated as of NumPy 1.16 and will raise an error in the future.\n",
            "\n"
          ],
          "name": "stderr"
        },
        {
          "output_type": "display_data",
          "data": {
            "image/png": "[encoded data removed]",
            "text/plain": [
              "<Figure size 432x288 with 1 Axes>"
            ]
          },
          "metadata": {
            "tags": [],
            "needs_background": "light"
          }
        }
      ]
    },
    {
      "cell_type": "markdown",
      "metadata": {
        "id": "IFsUxj3edDT7"
      },
      "source": [
        "##MinMaxScaler"
      ]
    },
    {
      "cell_type": "markdown",
      "metadata": {
        "id": "XJy8y81zdFFx"
      },
      "source": [
        "##RobustScaler"
      ]
    },
    {
      "cell_type": "markdown",
      "metadata": {
        "id": "BFHj8g3wdHLk"
      },
      "source": [
        "##PowerTransformer"
      ]
    },
    {
      "cell_type": "markdown",
      "metadata": {
        "id": "KqDqbNcrzIE9"
      },
      "source": [
        "#RandomForest"
      ]
    },
    {
      "cell_type": "markdown",
      "metadata": {
        "id": "7PEz81ZvoMPV"
      },
      "source": [
        "##StandardScaler"
      ]
    },
    {
      "cell_type": "code",
      "metadata": {
        "id": "ZHsND2GioLy8"
      },
      "source": [
        "X_train, X_test, y_train, y_test = train_test_split(train_ss.drop([\"playResult\"],axis=1),train_ss[\"playResult\"],test_size=0.2)"
      ],
      "execution_count": null,
      "outputs": []
    },
    {
      "cell_type": "code",
      "metadata": {
        "id": "PXJdPNk51C-5",
        "colab": {
          "base_uri": "https://localhost:8080/"
        },
        "outputId": "8dca31fa-b00c-4d07-d0d7-2d2280c4643b"
      },
      "source": [
        "from sklearn.ensemble import RandomForestRegressor\n",
        "\n",
        "#1.1 Model Parametrization \n",
        "regressor = RandomForestRegressor(n_estimators= 100, max_depth = 10, criterion='mae', random_state=0)\n",
        "#1.2 Model construction\n",
        "regressor.fit(X_train, y_train)\n",
        "\n",
        "# Test\n",
        "y_pred = regressor.predict(X_test)\n",
        "\n",
        "# metrics calculation \n",
        "from sklearn.metrics import mean_absolute_error\n",
        "mae = mean_absolute_error(y_test,y_pred)\n",
        "print (\"Error Measure \",  mae)"
      ],
      "execution_count": null,
      "outputs": [
        {
          "output_type": "stream",
          "text": [
            "Error Measure  4.36284565300651\n"
          ],
          "name": "stdout"
        }
      ]
    },
    {
      "cell_type": "code",
      "metadata": {
        "id": "sBuKUZHN1Msp",
        "colab": {
          "base_uri": "https://localhost:8080/",
          "height": 370
        },
        "outputId": "50821372-16e4-44fe-d056-9e326ac881ae"
      },
      "source": [
        "#plt.subplot(2, 1, i + 1)\n",
        "# x axis for plotting\n",
        "import matplotlib.pyplot as plt\n",
        "import numpy as np\n",
        "\n",
        "xx = np.stack(i for i in range(len(y_test)))\n",
        "plt.scatter(xx, y_test, c='r', label='data')\n",
        "plt.plot(xx, y_pred, c='g', label='prediction')\n",
        "plt.axis('tight')\n",
        "plt.legend()\n",
        "plt.title(\"RandomForests Regressor\")\n",
        "\n",
        "plt.show()"
      ],
      "execution_count": null,
      "outputs": [
        {
          "output_type": "stream",
          "text": [
            "/usr/local/lib/python3.7/dist-packages/IPython/core/interactiveshell.py:2822: FutureWarning:\n",
            "\n",
            "arrays to stack must be passed as a \"sequence\" type such as list or tuple. Support for non-sequence iterables such as generators is deprecated as of NumPy 1.16 and will raise an error in the future.\n",
            "\n"
          ],
          "name": "stderr"
        },
        {
          "output_type": "display_data",
          "data": {
            "image/png": "[encoded data removed]",
            "text/plain": [
              "<Figure size 432x288 with 1 Axes>"
            ]
          },
          "metadata": {
            "tags": [],
            "needs_background": "light"
          }
        }
      ]
    },
    {
      "cell_type": "code",
      "metadata": {
        "id": "QFtBO3NSoUnb"
      },
      "source": [
        ""
      ],
      "execution_count": null,
      "outputs": []
    },
    {
      "cell_type": "markdown",
      "metadata": {
        "id": "Uh33RxcrWasC"
      },
      "source": [
        "##MinMaxScaler"
      ]
    },
    {
      "cell_type": "markdown",
      "metadata": {
        "id": "bRlSXmGnWeGI"
      },
      "source": [
        "##RobustScaler"
      ]
    },
    {
      "cell_type": "markdown",
      "metadata": {
        "id": "6Ott2HF1WkY_"
      },
      "source": [
        "##PowerTransformer"
      ]
    },
    {
      "cell_type": "code",
      "metadata": {
        "id": "ZkOcrpRtWg_U"
      },
      "source": [
        ""
      ],
      "execution_count": null,
      "outputs": []
    },
    {
      "cell_type": "markdown",
      "metadata": {
        "id": "3Pvc9xhKWnQX"
      },
      "source": [
        "#Boosting"
      ]
    },
    {
      "cell_type": "markdown",
      "metadata": {
        "id": "cmZ_2xA2X1Sf"
      },
      "source": [
        "##StandardScaler"
      ]
    },
    {
      "cell_type": "code",
      "metadata": {
        "id": "XVx8m5FPYWuw"
      },
      "source": [
        "X_train, X_test, y_train, y_test = train_test_split(train_ss.drop([\"playResult\"],axis=1),train_ss[\"playResult\"],test_size=0.2)"
      ],
      "execution_count": null,
      "outputs": []
    },
    {
      "cell_type": "code",
      "metadata": {
        "colab": {
          "base_uri": "https://localhost:8080/"
        },
        "id": "75CSHFDtX4Dv",
        "outputId": "7de548b2-1d5f-475f-81c1-24f33c0758f2"
      },
      "source": [
        "from sklearn.ensemble import AdaBoostRegressor  \n",
        "regressor = AdaBoostRegressor(DecisionTreeRegressor(max_depth=5, criterion='mae'),n_estimators=100)\n",
        "regressor.fit(X_train, y_train)\n",
        "y_pred = regressor.predict(X_test)\n",
        "print(\"Error Measure\", mean_absolute_error(y_test,y_pred))"
      ],
      "execution_count": null,
      "outputs": [
        {
          "output_type": "stream",
          "text": [
            "Error Measure 4.69609345078514\n"
          ],
          "name": "stdout"
        }
      ]
    },
    {
      "cell_type": "code",
      "metadata": {
        "colab": {
          "base_uri": "https://localhost:8080/",
          "height": 370
        },
        "id": "N0sl_sVmaJW8",
        "outputId": "b553ff5c-8314-452c-b02f-e2b144ab9af9"
      },
      "source": [
        "xx = np.stack(i for i in range(len(y_test)))\n",
        "plt.scatter(xx, y_test, c='r', label='data')\n",
        "plt.plot(xx, y_pred, c='g', label='prediction')\n",
        "plt.axis('tight')\n",
        "plt.legend()\n",
        "plt.title(\"Adaboost Regressor\")\n",
        "\n",
        "plt.show()"
      ],
      "execution_count": null,
      "outputs": [
        {
          "output_type": "stream",
          "text": [
            "/usr/local/lib/python3.7/dist-packages/IPython/core/interactiveshell.py:2822: FutureWarning:\n",
            "\n",
            "arrays to stack must be passed as a \"sequence\" type such as list or tuple. Support for non-sequence iterables such as generators is deprecated as of NumPy 1.16 and will raise an error in the future.\n",
            "\n"
          ],
          "name": "stderr"
        },
        {
          "output_type": "display_data",
          "data": {
            "image/png": "[encoded data removed]",
            "text/plain": [
              "<Figure size 432x288 with 1 Axes>"
            ]
          },
          "metadata": {
            "tags": [],
            "needs_background": "light"
          }
        }
      ]
    },
    {
      "cell_type": "markdown",
      "metadata": {
        "id": "G_MCGlZ6X4Ya"
      },
      "source": [
        "##MinMaxScaler"
      ]
    },
    {
      "cell_type": "code",
      "metadata": {
        "id": "YjgXJ9S_X5we"
      },
      "source": [
        ""
      ],
      "execution_count": null,
      "outputs": []
    },
    {
      "cell_type": "markdown",
      "metadata": {
        "id": "bEYcuTg-X6PV"
      },
      "source": [
        "##RobustScaler"
      ]
    },
    {
      "cell_type": "code",
      "metadata": {
        "id": "_-54k3PFX8jy"
      },
      "source": [
        ""
      ],
      "execution_count": null,
      "outputs": []
    },
    {
      "cell_type": "markdown",
      "metadata": {
        "id": "UfFABw4nX9H9"
      },
      "source": [
        "##PowerTransformer"
      ]
    },
    {
      "cell_type": "code",
      "metadata": {
        "id": "Z6Fep8lOYAb_"
      },
      "source": [
        ""
      ],
      "execution_count": null,
      "outputs": []
    }
  ]
}