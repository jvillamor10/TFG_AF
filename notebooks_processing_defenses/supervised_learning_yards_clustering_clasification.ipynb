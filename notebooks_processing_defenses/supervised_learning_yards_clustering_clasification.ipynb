{
  "nbformat": 4,
  "nbformat_minor": 0,
  "metadata": {
    "colab": {
      "name": "supervised_learning_yards_clustering_clasification.ipynb",
      "provenance": [],
      "toc_visible": true
    },
    "kernelspec": {
      "name": "python3",
      "display_name": "Python 3"
    },
    "language_info": {
      "name": "python"
    }
  },
  "cells": [
    {
      "cell_type": "code",
      "metadata": {
        "id": "D8rZe9gbDWH_"
      },
      "source": [
        "import pandas as pd\n",
        "import pickle\n",
        "\n",
        "from sklearn import preprocessing\n",
        "from sklearn.decomposition import PCA\n",
        "from sklearn.cluster import KMeans\n",
        "from sklearn.cluster import DBSCAN\n",
        "from sklearn import metrics\n",
        "import sklearn.neighbors\n",
        "from sklearn.neighbors import kneighbors_graph\n",
        "from sklearn.model_selection import train_test_split\n",
        "\n",
        "import plotly.express as px\n",
        "import matplotlib.pyplot as plt\n",
        "import numpy as np\n",
        "\n",
        "import seaborn as sns"
      ],
      "execution_count": null,
      "outputs": []
    },
    {
      "cell_type": "code",
      "metadata": {
        "id": "backed-storm"
      },
      "source": [
        "pd.set_option('display.max_columns',None)"
      ],
      "execution_count": null,
      "outputs": []
    },
    {
      "cell_type": "code",
      "metadata": {
        "colab": {
          "resources": {
            "http://localhost:8080/nbextensions/google.colab/files.js": {
              "data": "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",
              "ok": true,
              "headers": [
                [
                  "content-type",
                  "application/javascript"
                ]
              ],
              "status": 200,
              "status_text": "OK"
            }
          },
          "base_uri": "https://localhost:8080/",
          "height": 94
        },
        "id": "hViZ3YN7H_71",
        "outputId": "c9c38943-677b-4dd7-83fa-a4c72af5998c"
      },
      "source": [
        "# 0.1 load data from file\n",
        "from google.colab import files\n",
        "import io\n",
        "\n",
        "uploaded = files.upload()\n",
        "\n",
        "for fn in uploaded.keys():\n",
        "  print('User uploaded file \"{name}\" with length {length} bytes'.format(\n",
        "      name=fn, length=len(uploaded[fn])))"
      ],
      "execution_count": null,
      "outputs": [
        {
          "output_type": "display_data",
          "data": {
            "text/html": [
              "\n",
              "     <input type=\"file\" id=\"files-9c8d3edd-3a44-46cf-b4ee-9b57ed7b8d49\" name=\"files[]\" multiple disabled\n",
              "        style=\"border:none\" />\n",
              "     <output id=\"result-9c8d3edd-3a44-46cf-b4ee-9b57ed7b8d49\">\n",
              "      Upload widget is only available when the cell has been executed in the\n",
              "      current browser session. Please rerun this cell to enable.\n",
              "      </output>\n",
              "      <script src=\"/nbextensions/google.colab/files.js\"></script> "
            ],
            "text/plain": [
              "<IPython.core.display.HTML object>"
            ]
          },
          "metadata": {
            "tags": []
          }
        },
        {
          "output_type": "stream",
          "text": [
            "Saving static_defenses_yards.csv to static_defenses_yards.csv\n",
            "User uploaded file \"static_defenses_yards.csv\" with length 4999907 bytes\n"
          ],
          "name": "stdout"
        }
      ]
    },
    {
      "cell_type": "code",
      "metadata": {
        "colab": {
          "base_uri": "https://localhost:8080/",
          "height": 444
        },
        "id": "QyPmBYJV0FDr",
        "outputId": "4c7517e2-41ef-4b0d-e975-48e16e41d37b"
      },
      "source": [
        "static_defenses = pd.read_csv(\"static_defenses_yards.csv\",index_col=0)\n",
        "static_defenses"
      ],
      "execution_count": null,
      "outputs": [
        {
          "output_type": "execute_result",
          "data": {
            "text/html": [
              "<div>\n",
              "<style scoped>\n",
              "    .dataframe tbody tr th:only-of-type {\n",
              "        vertical-align: middle;\n",
              "    }\n",
              "\n",
              "    .dataframe tbody tr th {\n",
              "        vertical-align: top;\n",
              "    }\n",
              "\n",
              "    .dataframe thead th {\n",
              "        text-align: right;\n",
              "    }\n",
              "</style>\n",
              "<table border=\"1\" class=\"dataframe\">\n",
              "  <thead>\n",
              "    <tr style=\"text-align: right;\">\n",
              "      <th></th>\n",
              "      <th>id</th>\n",
              "      <th>defensivelinezonePlayers</th>\n",
              "      <th>deepzonePlayers</th>\n",
              "      <th>hookzonePlayers</th>\n",
              "      <th>curlzonePlayers</th>\n",
              "      <th>flatzonePlayers</th>\n",
              "      <th>defenseArea</th>\n",
              "      <th>defenseAreaCoverDefenders</th>\n",
              "      <th>width</th>\n",
              "      <th>height</th>\n",
              "      <th>numberQBs</th>\n",
              "      <th>numberWRs</th>\n",
              "      <th>numberTEs</th>\n",
              "      <th>numberRBs</th>\n",
              "      <th>numberFBs</th>\n",
              "      <th>numberOffensivePlayersAnotherPosition</th>\n",
              "      <th>numberSafeties</th>\n",
              "      <th>numberLBs</th>\n",
              "      <th>numberCBs</th>\n",
              "      <th>strongSide</th>\n",
              "      <th>numberPlayersDefenseStrongSide</th>\n",
              "      <th>numberPlayersDefenseWeakSide</th>\n",
              "      <th>numberPlayersOffenseStrongSide</th>\n",
              "      <th>numberPlayersOffenseWeakSide</th>\n",
              "      <th>differenceOffenseVsDefenseWidth</th>\n",
              "      <th>differenceOffenseVsDefenseStrongSide</th>\n",
              "      <th>differenceOffenseVsDefenseWeakSide</th>\n",
              "      <th>HeightByWeightDeep</th>\n",
              "      <th>HeightByWeightHook</th>\n",
              "      <th>HeightByWeightCurl</th>\n",
              "      <th>HeightByWeightFlat</th>\n",
              "      <th>WeightByArea</th>\n",
              "      <th>density</th>\n",
              "      <th>densityNoLine</th>\n",
              "      <th>densityInsidePoints</th>\n",
              "      <th>densityInsidePointsNoLine</th>\n",
              "      <th>playResult</th>\n",
              "    </tr>\n",
              "  </thead>\n",
              "  <tbody>\n",
              "    <tr>\n",
              "      <th>0</th>\n",
              "      <td>2018090600:75:1</td>\n",
              "      <td>0</td>\n",
              "      <td>1</td>\n",
              "      <td>3</td>\n",
              "      <td>2</td>\n",
              "      <td>1</td>\n",
              "      <td>194.31095</td>\n",
              "      <td>194.31095</td>\n",
              "      <td>22.96</td>\n",
              "      <td>15.25</td>\n",
              "      <td>1</td>\n",
              "      <td>2</td>\n",
              "      <td>1</td>\n",
              "      <td>1</td>\n",
              "      <td>1</td>\n",
              "      <td>0</td>\n",
              "      <td>3</td>\n",
              "      <td>2</td>\n",
              "      <td>2</td>\n",
              "      <td>left</td>\n",
              "      <td>3</td>\n",
              "      <td>4</td>\n",
              "      <td>3</td>\n",
              "      <td>2</td>\n",
              "      <td>-0.63</td>\n",
              "      <td>0</td>\n",
              "      <td>-2</td>\n",
              "      <td>0.020227</td>\n",
              "      <td>0.018643</td>\n",
              "      <td>0.020066</td>\n",
              "      <td>0.021034</td>\n",
              "      <td>3.376032</td>\n",
              "      <td>0.036025</td>\n",
              "      <td>0.036025</td>\n",
              "      <td>6.974268</td>\n",
              "      <td>6.974268</td>\n",
              "      <td>10</td>\n",
              "    </tr>\n",
              "    <tr>\n",
              "      <th>1</th>\n",
              "      <td>2018090600:146:1</td>\n",
              "      <td>0</td>\n",
              "      <td>1</td>\n",
              "      <td>3</td>\n",
              "      <td>2</td>\n",
              "      <td>1</td>\n",
              "      <td>204.17725</td>\n",
              "      <td>204.17725</td>\n",
              "      <td>29.22</td>\n",
              "      <td>12.57</td>\n",
              "      <td>1</td>\n",
              "      <td>3</td>\n",
              "      <td>1</td>\n",
              "      <td>1</td>\n",
              "      <td>0</td>\n",
              "      <td>0</td>\n",
              "      <td>2</td>\n",
              "      <td>2</td>\n",
              "      <td>3</td>\n",
              "      <td>right</td>\n",
              "      <td>3</td>\n",
              "      <td>4</td>\n",
              "      <td>2</td>\n",
              "      <td>3</td>\n",
              "      <td>-1.15</td>\n",
              "      <td>-1</td>\n",
              "      <td>-1</td>\n",
              "      <td>0.020227</td>\n",
              "      <td>0.019228</td>\n",
              "      <td>0.020356</td>\n",
              "      <td>0.020455</td>\n",
              "      <td>3.178611</td>\n",
              "      <td>0.034284</td>\n",
              "      <td>0.034284</td>\n",
              "      <td>6.975511</td>\n",
              "      <td>6.975511</td>\n",
              "      <td>0</td>\n",
              "    </tr>\n",
              "    <tr>\n",
              "      <th>2</th>\n",
              "      <td>2018090600:168:1</td>\n",
              "      <td>0</td>\n",
              "      <td>1</td>\n",
              "      <td>2</td>\n",
              "      <td>2</td>\n",
              "      <td>2</td>\n",
              "      <td>277.65495</td>\n",
              "      <td>277.65495</td>\n",
              "      <td>33.67</td>\n",
              "      <td>15.21</td>\n",
              "      <td>1</td>\n",
              "      <td>2</td>\n",
              "      <td>1</td>\n",
              "      <td>2</td>\n",
              "      <td>0</td>\n",
              "      <td>0</td>\n",
              "      <td>2</td>\n",
              "      <td>2</td>\n",
              "      <td>3</td>\n",
              "      <td>left</td>\n",
              "      <td>5</td>\n",
              "      <td>2</td>\n",
              "      <td>4</td>\n",
              "      <td>1</td>\n",
              "      <td>0.71</td>\n",
              "      <td>-1</td>\n",
              "      <td>-1</td>\n",
              "      <td>0.020227</td>\n",
              "      <td>0.017683</td>\n",
              "      <td>0.020997</td>\n",
              "      <td>0.020745</td>\n",
              "      <td>2.337434</td>\n",
              "      <td>0.025211</td>\n",
              "      <td>0.025211</td>\n",
              "      <td>6.985594</td>\n",
              "      <td>6.985594</td>\n",
              "      <td>0</td>\n",
              "    </tr>\n",
              "    <tr>\n",
              "      <th>3</th>\n",
              "      <td>2018090600:190:1</td>\n",
              "      <td>1</td>\n",
              "      <td>0</td>\n",
              "      <td>2</td>\n",
              "      <td>3</td>\n",
              "      <td>1</td>\n",
              "      <td>189.16960</td>\n",
              "      <td>165.05520</td>\n",
              "      <td>26.42</td>\n",
              "      <td>12.91</td>\n",
              "      <td>1</td>\n",
              "      <td>3</td>\n",
              "      <td>1</td>\n",
              "      <td>1</td>\n",
              "      <td>0</td>\n",
              "      <td>0</td>\n",
              "      <td>3</td>\n",
              "      <td>1</td>\n",
              "      <td>3</td>\n",
              "      <td>right</td>\n",
              "      <td>2</td>\n",
              "      <td>5</td>\n",
              "      <td>2</td>\n",
              "      <td>3</td>\n",
              "      <td>-3.11</td>\n",
              "      <td>0</td>\n",
              "      <td>-2</td>\n",
              "      <td>0.000000</td>\n",
              "      <td>0.020120</td>\n",
              "      <td>0.021193</td>\n",
              "      <td>0.020455</td>\n",
              "      <td>3.192871</td>\n",
              "      <td>0.037004</td>\n",
              "      <td>0.036351</td>\n",
              "      <td>6.973569</td>\n",
              "      <td>6.969707</td>\n",
              "      <td>33</td>\n",
              "    </tr>\n",
              "    <tr>\n",
              "      <th>5</th>\n",
              "      <td>2018090600:320:1</td>\n",
              "      <td>1</td>\n",
              "      <td>0</td>\n",
              "      <td>3</td>\n",
              "      <td>3</td>\n",
              "      <td>1</td>\n",
              "      <td>187.12510</td>\n",
              "      <td>153.20020</td>\n",
              "      <td>27.80</td>\n",
              "      <td>13.29</td>\n",
              "      <td>1</td>\n",
              "      <td>3</td>\n",
              "      <td>1</td>\n",
              "      <td>1</td>\n",
              "      <td>0</td>\n",
              "      <td>0</td>\n",
              "      <td>2</td>\n",
              "      <td>3</td>\n",
              "      <td>3</td>\n",
              "      <td>left</td>\n",
              "      <td>3</td>\n",
              "      <td>5</td>\n",
              "      <td>3</td>\n",
              "      <td>2</td>\n",
              "      <td>-4.82</td>\n",
              "      <td>0</td>\n",
              "      <td>-3</td>\n",
              "      <td>0.000000</td>\n",
              "      <td>0.018995</td>\n",
              "      <td>0.019537</td>\n",
              "      <td>0.021279</td>\n",
              "      <td>4.281979</td>\n",
              "      <td>0.042752</td>\n",
              "      <td>0.045692</td>\n",
              "      <td>7.978624</td>\n",
              "      <td>7.980418</td>\n",
              "      <td>4</td>\n",
              "    </tr>\n",
              "    <tr>\n",
              "      <th>...</th>\n",
              "      <td>...</td>\n",
              "      <td>...</td>\n",
              "      <td>...</td>\n",
              "      <td>...</td>\n",
              "      <td>...</td>\n",
              "      <td>...</td>\n",
              "      <td>...</td>\n",
              "      <td>...</td>\n",
              "      <td>...</td>\n",
              "      <td>...</td>\n",
              "      <td>...</td>\n",
              "      <td>...</td>\n",
              "      <td>...</td>\n",
              "      <td>...</td>\n",
              "      <td>...</td>\n",
              "      <td>...</td>\n",
              "      <td>...</td>\n",
              "      <td>...</td>\n",
              "      <td>...</td>\n",
              "      <td>...</td>\n",
              "      <td>...</td>\n",
              "      <td>...</td>\n",
              "      <td>...</td>\n",
              "      <td>...</td>\n",
              "      <td>...</td>\n",
              "      <td>...</td>\n",
              "      <td>...</td>\n",
              "      <td>...</td>\n",
              "      <td>...</td>\n",
              "      <td>...</td>\n",
              "      <td>...</td>\n",
              "      <td>...</td>\n",
              "      <td>...</td>\n",
              "      <td>...</td>\n",
              "      <td>...</td>\n",
              "      <td>...</td>\n",
              "      <td>...</td>\n",
              "    </tr>\n",
              "    <tr>\n",
              "      <th>19112</th>\n",
              "      <td>2018123015:3819:17</td>\n",
              "      <td>1</td>\n",
              "      <td>0</td>\n",
              "      <td>3</td>\n",
              "      <td>3</td>\n",
              "      <td>0</td>\n",
              "      <td>169.30945</td>\n",
              "      <td>124.90995</td>\n",
              "      <td>23.43</td>\n",
              "      <td>12.71</td>\n",
              "      <td>1</td>\n",
              "      <td>2</td>\n",
              "      <td>2</td>\n",
              "      <td>1</td>\n",
              "      <td>0</td>\n",
              "      <td>0</td>\n",
              "      <td>2</td>\n",
              "      <td>3</td>\n",
              "      <td>2</td>\n",
              "      <td>right</td>\n",
              "      <td>3</td>\n",
              "      <td>4</td>\n",
              "      <td>3</td>\n",
              "      <td>2</td>\n",
              "      <td>-3.91</td>\n",
              "      <td>0</td>\n",
              "      <td>-2</td>\n",
              "      <td>0.000000</td>\n",
              "      <td>0.017582</td>\n",
              "      <td>0.019208</td>\n",
              "      <td>0.000000</td>\n",
              "      <td>4.867507</td>\n",
              "      <td>0.041344</td>\n",
              "      <td>0.048035</td>\n",
              "      <td>6.970468</td>\n",
              "      <td>6.959971</td>\n",
              "      <td>12</td>\n",
              "    </tr>\n",
              "    <tr>\n",
              "      <th>19113</th>\n",
              "      <td>2018123015:3932:17</td>\n",
              "      <td>0</td>\n",
              "      <td>0</td>\n",
              "      <td>1</td>\n",
              "      <td>4</td>\n",
              "      <td>2</td>\n",
              "      <td>327.34785</td>\n",
              "      <td>327.34785</td>\n",
              "      <td>35.76</td>\n",
              "      <td>13.20</td>\n",
              "      <td>1</td>\n",
              "      <td>3</td>\n",
              "      <td>1</td>\n",
              "      <td>1</td>\n",
              "      <td>0</td>\n",
              "      <td>0</td>\n",
              "      <td>2</td>\n",
              "      <td>2</td>\n",
              "      <td>3</td>\n",
              "      <td>right</td>\n",
              "      <td>3</td>\n",
              "      <td>4</td>\n",
              "      <td>3</td>\n",
              "      <td>2</td>\n",
              "      <td>-0.97</td>\n",
              "      <td>0</td>\n",
              "      <td>-2</td>\n",
              "      <td>0.000000</td>\n",
              "      <td>0.016636</td>\n",
              "      <td>0.018979</td>\n",
              "      <td>0.019819</td>\n",
              "      <td>2.120069</td>\n",
              "      <td>0.021384</td>\n",
              "      <td>0.021384</td>\n",
              "      <td>6.987781</td>\n",
              "      <td>6.987781</td>\n",
              "      <td>-3</td>\n",
              "    </tr>\n",
              "    <tr>\n",
              "      <th>19114</th>\n",
              "      <td>2018123015:3969:17</td>\n",
              "      <td>0</td>\n",
              "      <td>1</td>\n",
              "      <td>1</td>\n",
              "      <td>4</td>\n",
              "      <td>1</td>\n",
              "      <td>293.39745</td>\n",
              "      <td>293.39745</td>\n",
              "      <td>26.24</td>\n",
              "      <td>14.67</td>\n",
              "      <td>1</td>\n",
              "      <td>3</td>\n",
              "      <td>1</td>\n",
              "      <td>1</td>\n",
              "      <td>0</td>\n",
              "      <td>0</td>\n",
              "      <td>2</td>\n",
              "      <td>1</td>\n",
              "      <td>4</td>\n",
              "      <td>left</td>\n",
              "      <td>3</td>\n",
              "      <td>4</td>\n",
              "      <td>2</td>\n",
              "      <td>3</td>\n",
              "      <td>0.07</td>\n",
              "      <td>-1</td>\n",
              "      <td>-1</td>\n",
              "      <td>0.018878</td>\n",
              "      <td>0.016636</td>\n",
              "      <td>0.019862</td>\n",
              "      <td>0.019789</td>\n",
              "      <td>2.307450</td>\n",
              "      <td>0.023858</td>\n",
              "      <td>0.023858</td>\n",
              "      <td>6.982958</td>\n",
              "      <td>6.982958</td>\n",
              "      <td>0</td>\n",
              "    </tr>\n",
              "    <tr>\n",
              "      <th>19115</th>\n",
              "      <td>2018123015:4057:17</td>\n",
              "      <td>0</td>\n",
              "      <td>0</td>\n",
              "      <td>2</td>\n",
              "      <td>3</td>\n",
              "      <td>2</td>\n",
              "      <td>223.81860</td>\n",
              "      <td>223.81860</td>\n",
              "      <td>36.23</td>\n",
              "      <td>11.62</td>\n",
              "      <td>1</td>\n",
              "      <td>3</td>\n",
              "      <td>1</td>\n",
              "      <td>1</td>\n",
              "      <td>0</td>\n",
              "      <td>0</td>\n",
              "      <td>3</td>\n",
              "      <td>2</td>\n",
              "      <td>2</td>\n",
              "      <td>right</td>\n",
              "      <td>3</td>\n",
              "      <td>4</td>\n",
              "      <td>2</td>\n",
              "      <td>3</td>\n",
              "      <td>-0.94</td>\n",
              "      <td>-1</td>\n",
              "      <td>-1</td>\n",
              "      <td>0.000000</td>\n",
              "      <td>0.019526</td>\n",
              "      <td>0.019136</td>\n",
              "      <td>0.020001</td>\n",
              "      <td>2.948817</td>\n",
              "      <td>0.031275</td>\n",
              "      <td>0.031275</td>\n",
              "      <td>6.982128</td>\n",
              "      <td>6.982128</td>\n",
              "      <td>5</td>\n",
              "    </tr>\n",
              "    <tr>\n",
              "      <th>19116</th>\n",
              "      <td>2018123015:4104:17</td>\n",
              "      <td>0</td>\n",
              "      <td>0</td>\n",
              "      <td>3</td>\n",
              "      <td>2</td>\n",
              "      <td>2</td>\n",
              "      <td>215.50425</td>\n",
              "      <td>215.50425</td>\n",
              "      <td>32.25</td>\n",
              "      <td>13.00</td>\n",
              "      <td>1</td>\n",
              "      <td>3</td>\n",
              "      <td>1</td>\n",
              "      <td>1</td>\n",
              "      <td>0</td>\n",
              "      <td>0</td>\n",
              "      <td>3</td>\n",
              "      <td>2</td>\n",
              "      <td>2</td>\n",
              "      <td>right</td>\n",
              "      <td>5</td>\n",
              "      <td>2</td>\n",
              "      <td>3</td>\n",
              "      <td>2</td>\n",
              "      <td>-0.88</td>\n",
              "      <td>-2</td>\n",
              "      <td>0</td>\n",
              "      <td>0.000000</td>\n",
              "      <td>0.019797</td>\n",
              "      <td>0.018535</td>\n",
              "      <td>0.020001</td>\n",
              "      <td>3.062585</td>\n",
              "      <td>0.032482</td>\n",
              "      <td>0.032482</td>\n",
              "      <td>6.981439</td>\n",
              "      <td>6.981439</td>\n",
              "      <td>37</td>\n",
              "    </tr>\n",
              "  </tbody>\n",
              "</table>\n",
              "<p>16498 rows × 37 columns</p>\n",
              "</div>"
            ],
            "text/plain": [
              "                       id  defensivelinezonePlayers  deepzonePlayers  \\\n",
              "0         2018090600:75:1                         0                1   \n",
              "1        2018090600:146:1                         0                1   \n",
              "2        2018090600:168:1                         0                1   \n",
              "3        2018090600:190:1                         1                0   \n",
              "5        2018090600:320:1                         1                0   \n",
              "...                   ...                       ...              ...   \n",
              "19112  2018123015:3819:17                         1                0   \n",
              "19113  2018123015:3932:17                         0                0   \n",
              "19114  2018123015:3969:17                         0                1   \n",
              "19115  2018123015:4057:17                         0                0   \n",
              "19116  2018123015:4104:17                         0                0   \n",
              "\n",
              "       hookzonePlayers  curlzonePlayers  flatzonePlayers  defenseArea  \\\n",
              "0                    3                2                1    194.31095   \n",
              "1                    3                2                1    204.17725   \n",
              "2                    2                2                2    277.65495   \n",
              "3                    2                3                1    189.16960   \n",
              "5                    3                3                1    187.12510   \n",
              "...                ...              ...              ...          ...   \n",
              "19112                3                3                0    169.30945   \n",
              "19113                1                4                2    327.34785   \n",
              "19114                1                4                1    293.39745   \n",
              "19115                2                3                2    223.81860   \n",
              "19116                3                2                2    215.50425   \n",
              "\n",
              "       defenseAreaCoverDefenders  width  height  numberQBs  numberWRs  \\\n",
              "0                      194.31095  22.96   15.25          1          2   \n",
              "1                      204.17725  29.22   12.57          1          3   \n",
              "2                      277.65495  33.67   15.21          1          2   \n",
              "3                      165.05520  26.42   12.91          1          3   \n",
              "5                      153.20020  27.80   13.29          1          3   \n",
              "...                          ...    ...     ...        ...        ...   \n",
              "19112                  124.90995  23.43   12.71          1          2   \n",
              "19113                  327.34785  35.76   13.20          1          3   \n",
              "19114                  293.39745  26.24   14.67          1          3   \n",
              "19115                  223.81860  36.23   11.62          1          3   \n",
              "19116                  215.50425  32.25   13.00          1          3   \n",
              "\n",
              "       numberTEs  numberRBs  numberFBs  numberOffensivePlayersAnotherPosition  \\\n",
              "0              1          1          1                                      0   \n",
              "1              1          1          0                                      0   \n",
              "2              1          2          0                                      0   \n",
              "3              1          1          0                                      0   \n",
              "5              1          1          0                                      0   \n",
              "...          ...        ...        ...                                    ...   \n",
              "19112          2          1          0                                      0   \n",
              "19113          1          1          0                                      0   \n",
              "19114          1          1          0                                      0   \n",
              "19115          1          1          0                                      0   \n",
              "19116          1          1          0                                      0   \n",
              "\n",
              "       numberSafeties  numberLBs  numberCBs strongSide  \\\n",
              "0                   3          2          2       left   \n",
              "1                   2          2          3      right   \n",
              "2                   2          2          3       left   \n",
              "3                   3          1          3      right   \n",
              "5                   2          3          3       left   \n",
              "...               ...        ...        ...        ...   \n",
              "19112               2          3          2      right   \n",
              "19113               2          2          3      right   \n",
              "19114               2          1          4       left   \n",
              "19115               3          2          2      right   \n",
              "19116               3          2          2      right   \n",
              "\n",
              "       numberPlayersDefenseStrongSide  numberPlayersDefenseWeakSide  \\\n",
              "0                                   3                             4   \n",
              "1                                   3                             4   \n",
              "2                                   5                             2   \n",
              "3                                   2                             5   \n",
              "5                                   3                             5   \n",
              "...                               ...                           ...   \n",
              "19112                               3                             4   \n",
              "19113                               3                             4   \n",
              "19114                               3                             4   \n",
              "19115                               3                             4   \n",
              "19116                               5                             2   \n",
              "\n",
              "       numberPlayersOffenseStrongSide  numberPlayersOffenseWeakSide  \\\n",
              "0                                   3                             2   \n",
              "1                                   2                             3   \n",
              "2                                   4                             1   \n",
              "3                                   2                             3   \n",
              "5                                   3                             2   \n",
              "...                               ...                           ...   \n",
              "19112                               3                             2   \n",
              "19113                               3                             2   \n",
              "19114                               2                             3   \n",
              "19115                               2                             3   \n",
              "19116                               3                             2   \n",
              "\n",
              "       differenceOffenseVsDefenseWidth  differenceOffenseVsDefenseStrongSide  \\\n",
              "0                                -0.63                                     0   \n",
              "1                                -1.15                                    -1   \n",
              "2                                 0.71                                    -1   \n",
              "3                                -3.11                                     0   \n",
              "5                                -4.82                                     0   \n",
              "...                                ...                                   ...   \n",
              "19112                            -3.91                                     0   \n",
              "19113                            -0.97                                     0   \n",
              "19114                             0.07                                    -1   \n",
              "19115                            -0.94                                    -1   \n",
              "19116                            -0.88                                    -2   \n",
              "\n",
              "       differenceOffenseVsDefenseWeakSide  HeightByWeightDeep  \\\n",
              "0                                      -2            0.020227   \n",
              "1                                      -1            0.020227   \n",
              "2                                      -1            0.020227   \n",
              "3                                      -2            0.000000   \n",
              "5                                      -3            0.000000   \n",
              "...                                   ...                 ...   \n",
              "19112                                  -2            0.000000   \n",
              "19113                                  -2            0.000000   \n",
              "19114                                  -1            0.018878   \n",
              "19115                                  -1            0.000000   \n",
              "19116                                   0            0.000000   \n",
              "\n",
              "       HeightByWeightHook  HeightByWeightCurl  HeightByWeightFlat  \\\n",
              "0                0.018643            0.020066            0.021034   \n",
              "1                0.019228            0.020356            0.020455   \n",
              "2                0.017683            0.020997            0.020745   \n",
              "3                0.020120            0.021193            0.020455   \n",
              "5                0.018995            0.019537            0.021279   \n",
              "...                   ...                 ...                 ...   \n",
              "19112            0.017582            0.019208            0.000000   \n",
              "19113            0.016636            0.018979            0.019819   \n",
              "19114            0.016636            0.019862            0.019789   \n",
              "19115            0.019526            0.019136            0.020001   \n",
              "19116            0.019797            0.018535            0.020001   \n",
              "\n",
              "       WeightByArea   density  densityNoLine  densityInsidePoints  \\\n",
              "0          3.376032  0.036025       0.036025             6.974268   \n",
              "1          3.178611  0.034284       0.034284             6.975511   \n",
              "2          2.337434  0.025211       0.025211             6.985594   \n",
              "3          3.192871  0.037004       0.036351             6.973569   \n",
              "5          4.281979  0.042752       0.045692             7.978624   \n",
              "...             ...       ...            ...                  ...   \n",
              "19112      4.867507  0.041344       0.048035             6.970468   \n",
              "19113      2.120069  0.021384       0.021384             6.987781   \n",
              "19114      2.307450  0.023858       0.023858             6.982958   \n",
              "19115      2.948817  0.031275       0.031275             6.982128   \n",
              "19116      3.062585  0.032482       0.032482             6.981439   \n",
              "\n",
              "       densityInsidePointsNoLine  playResult  \n",
              "0                       6.974268          10  \n",
              "1                       6.975511           0  \n",
              "2                       6.985594           0  \n",
              "3                       6.969707          33  \n",
              "5                       7.980418           4  \n",
              "...                          ...         ...  \n",
              "19112                   6.959971          12  \n",
              "19113                   6.987781          -3  \n",
              "19114                   6.982958           0  \n",
              "19115                   6.982128           5  \n",
              "19116                   6.981439          37  \n",
              "\n",
              "[16498 rows x 37 columns]"
            ]
          },
          "metadata": {
            "tags": []
          },
          "execution_count": 18
        }
      ]
    },
    {
      "cell_type": "code",
      "metadata": {
        "colab": {
          "base_uri": "https://localhost:8080/",
          "height": 258
        },
        "id": "aCEgxkj6EI3F",
        "outputId": "321d1302-921e-41c6-cbcf-0c0f995fbd32"
      },
      "source": [
        "static_defenses_ss = pd.read_csv(\"static_defenses_ss_kmeans_without_outliers_yards.csv\",index_col=0)\n",
        "static_defenses_mms = pd.read_csv(\"static_defenses_mms_kmeans_without_outliers_yards.csv\",index_col=0)\n",
        "static_defenses_rs = pd.read_csv(\"static_defenses_rs_kmeans_without_outliers_yards.csv\",index_col=0)\n",
        "static_defenses_pt = pd.read_csv(\"static_defenses_pt_kmeans_without_outliers_yards.csv\",index_col=0)\n",
        "static_defenses_ss.head()"
      ],
      "execution_count": null,
      "outputs": [
        {
          "output_type": "execute_result",
          "data": {
            "text/html": [
              "<div>\n",
              "<style scoped>\n",
              "    .dataframe tbody tr th:only-of-type {\n",
              "        vertical-align: middle;\n",
              "    }\n",
              "\n",
              "    .dataframe tbody tr th {\n",
              "        vertical-align: top;\n",
              "    }\n",
              "\n",
              "    .dataframe thead th {\n",
              "        text-align: right;\n",
              "    }\n",
              "</style>\n",
              "<table border=\"1\" class=\"dataframe\">\n",
              "  <thead>\n",
              "    <tr style=\"text-align: right;\">\n",
              "      <th></th>\n",
              "      <th>defensivelinezonePlayers</th>\n",
              "      <th>deepzonePlayers</th>\n",
              "      <th>hookzonePlayers</th>\n",
              "      <th>curlzonePlayers</th>\n",
              "      <th>flatzonePlayers</th>\n",
              "      <th>defenseArea</th>\n",
              "      <th>defenseAreaCoverDefenders</th>\n",
              "      <th>width</th>\n",
              "      <th>height</th>\n",
              "      <th>numberQBs</th>\n",
              "      <th>numberWRs</th>\n",
              "      <th>numberTEs</th>\n",
              "      <th>numberRBs</th>\n",
              "      <th>numberFBs</th>\n",
              "      <th>numberOffensivePlayersAnotherPosition</th>\n",
              "      <th>numberSafeties</th>\n",
              "      <th>numberLBs</th>\n",
              "      <th>numberCBs</th>\n",
              "      <th>strongSide</th>\n",
              "      <th>numberPlayersDefenseStrongSide</th>\n",
              "      <th>numberPlayersDefenseWeakSide</th>\n",
              "      <th>numberPlayersOffenseStrongSide</th>\n",
              "      <th>numberPlayersOffenseWeakSide</th>\n",
              "      <th>differenceOffenseVsDefenseWidth</th>\n",
              "      <th>differenceOffenseVsDefenseStrongSide</th>\n",
              "      <th>differenceOffenseVsDefenseWeakSide</th>\n",
              "      <th>HeightByWeightDeep</th>\n",
              "      <th>HeightByWeightHook</th>\n",
              "      <th>HeightByWeightCurl</th>\n",
              "      <th>HeightByWeightFlat</th>\n",
              "      <th>WeightByArea</th>\n",
              "      <th>density</th>\n",
              "      <th>densityNoLine</th>\n",
              "      <th>densityInsidePoints</th>\n",
              "      <th>densityInsidePointsNoLine</th>\n",
              "      <th>cluster</th>\n",
              "      <th>playResult</th>\n",
              "    </tr>\n",
              "    <tr>\n",
              "      <th>id</th>\n",
              "      <th></th>\n",
              "      <th></th>\n",
              "      <th></th>\n",
              "      <th></th>\n",
              "      <th></th>\n",
              "      <th></th>\n",
              "      <th></th>\n",
              "      <th></th>\n",
              "      <th></th>\n",
              "      <th></th>\n",
              "      <th></th>\n",
              "      <th></th>\n",
              "      <th></th>\n",
              "      <th></th>\n",
              "      <th></th>\n",
              "      <th></th>\n",
              "      <th></th>\n",
              "      <th></th>\n",
              "      <th></th>\n",
              "      <th></th>\n",
              "      <th></th>\n",
              "      <th></th>\n",
              "      <th></th>\n",
              "      <th></th>\n",
              "      <th></th>\n",
              "      <th></th>\n",
              "      <th></th>\n",
              "      <th></th>\n",
              "      <th></th>\n",
              "      <th></th>\n",
              "      <th></th>\n",
              "      <th></th>\n",
              "      <th></th>\n",
              "      <th></th>\n",
              "      <th></th>\n",
              "      <th></th>\n",
              "      <th></th>\n",
              "    </tr>\n",
              "  </thead>\n",
              "  <tbody>\n",
              "    <tr>\n",
              "      <th>2018090600:75:1</th>\n",
              "      <td>0</td>\n",
              "      <td>1</td>\n",
              "      <td>3</td>\n",
              "      <td>2</td>\n",
              "      <td>1</td>\n",
              "      <td>194.31095</td>\n",
              "      <td>194.31095</td>\n",
              "      <td>22.96</td>\n",
              "      <td>15.25</td>\n",
              "      <td>1</td>\n",
              "      <td>2</td>\n",
              "      <td>1</td>\n",
              "      <td>1</td>\n",
              "      <td>1</td>\n",
              "      <td>0</td>\n",
              "      <td>3</td>\n",
              "      <td>2</td>\n",
              "      <td>2</td>\n",
              "      <td>1</td>\n",
              "      <td>3</td>\n",
              "      <td>4</td>\n",
              "      <td>3</td>\n",
              "      <td>2</td>\n",
              "      <td>-0.63</td>\n",
              "      <td>0</td>\n",
              "      <td>-2</td>\n",
              "      <td>0.020227</td>\n",
              "      <td>0.018643</td>\n",
              "      <td>0.020066</td>\n",
              "      <td>0.021034</td>\n",
              "      <td>3.376032</td>\n",
              "      <td>0.036025</td>\n",
              "      <td>0.036025</td>\n",
              "      <td>6.974268</td>\n",
              "      <td>6.974268</td>\n",
              "      <td>2</td>\n",
              "      <td>10</td>\n",
              "    </tr>\n",
              "    <tr>\n",
              "      <th>2018090600:146:1</th>\n",
              "      <td>0</td>\n",
              "      <td>1</td>\n",
              "      <td>3</td>\n",
              "      <td>2</td>\n",
              "      <td>1</td>\n",
              "      <td>204.17725</td>\n",
              "      <td>204.17725</td>\n",
              "      <td>29.22</td>\n",
              "      <td>12.57</td>\n",
              "      <td>1</td>\n",
              "      <td>3</td>\n",
              "      <td>1</td>\n",
              "      <td>1</td>\n",
              "      <td>0</td>\n",
              "      <td>0</td>\n",
              "      <td>2</td>\n",
              "      <td>2</td>\n",
              "      <td>3</td>\n",
              "      <td>0</td>\n",
              "      <td>3</td>\n",
              "      <td>4</td>\n",
              "      <td>2</td>\n",
              "      <td>3</td>\n",
              "      <td>-1.15</td>\n",
              "      <td>-1</td>\n",
              "      <td>-1</td>\n",
              "      <td>0.020227</td>\n",
              "      <td>0.019228</td>\n",
              "      <td>0.020356</td>\n",
              "      <td>0.020455</td>\n",
              "      <td>3.178611</td>\n",
              "      <td>0.034284</td>\n",
              "      <td>0.034284</td>\n",
              "      <td>6.975511</td>\n",
              "      <td>6.975511</td>\n",
              "      <td>2</td>\n",
              "      <td>0</td>\n",
              "    </tr>\n",
              "    <tr>\n",
              "      <th>2018090600:168:1</th>\n",
              "      <td>0</td>\n",
              "      <td>1</td>\n",
              "      <td>2</td>\n",
              "      <td>2</td>\n",
              "      <td>2</td>\n",
              "      <td>277.65495</td>\n",
              "      <td>277.65495</td>\n",
              "      <td>33.67</td>\n",
              "      <td>15.21</td>\n",
              "      <td>1</td>\n",
              "      <td>2</td>\n",
              "      <td>1</td>\n",
              "      <td>2</td>\n",
              "      <td>0</td>\n",
              "      <td>0</td>\n",
              "      <td>2</td>\n",
              "      <td>2</td>\n",
              "      <td>3</td>\n",
              "      <td>1</td>\n",
              "      <td>5</td>\n",
              "      <td>2</td>\n",
              "      <td>4</td>\n",
              "      <td>1</td>\n",
              "      <td>0.71</td>\n",
              "      <td>-1</td>\n",
              "      <td>-1</td>\n",
              "      <td>0.020227</td>\n",
              "      <td>0.017683</td>\n",
              "      <td>0.020997</td>\n",
              "      <td>0.020745</td>\n",
              "      <td>2.337434</td>\n",
              "      <td>0.025211</td>\n",
              "      <td>0.025211</td>\n",
              "      <td>6.985594</td>\n",
              "      <td>6.985594</td>\n",
              "      <td>2</td>\n",
              "      <td>0</td>\n",
              "    </tr>\n",
              "    <tr>\n",
              "      <th>2018090600:190:1</th>\n",
              "      <td>1</td>\n",
              "      <td>0</td>\n",
              "      <td>2</td>\n",
              "      <td>3</td>\n",
              "      <td>1</td>\n",
              "      <td>189.16960</td>\n",
              "      <td>165.05520</td>\n",
              "      <td>26.42</td>\n",
              "      <td>12.91</td>\n",
              "      <td>1</td>\n",
              "      <td>3</td>\n",
              "      <td>1</td>\n",
              "      <td>1</td>\n",
              "      <td>0</td>\n",
              "      <td>0</td>\n",
              "      <td>3</td>\n",
              "      <td>1</td>\n",
              "      <td>3</td>\n",
              "      <td>0</td>\n",
              "      <td>2</td>\n",
              "      <td>5</td>\n",
              "      <td>2</td>\n",
              "      <td>3</td>\n",
              "      <td>-3.11</td>\n",
              "      <td>0</td>\n",
              "      <td>-2</td>\n",
              "      <td>0.000000</td>\n",
              "      <td>0.020120</td>\n",
              "      <td>0.021193</td>\n",
              "      <td>0.020455</td>\n",
              "      <td>3.192871</td>\n",
              "      <td>0.037004</td>\n",
              "      <td>0.036351</td>\n",
              "      <td>6.973569</td>\n",
              "      <td>6.969707</td>\n",
              "      <td>0</td>\n",
              "      <td>33</td>\n",
              "    </tr>\n",
              "    <tr>\n",
              "      <th>2018090600:320:1</th>\n",
              "      <td>1</td>\n",
              "      <td>0</td>\n",
              "      <td>3</td>\n",
              "      <td>3</td>\n",
              "      <td>1</td>\n",
              "      <td>187.12510</td>\n",
              "      <td>153.20020</td>\n",
              "      <td>27.80</td>\n",
              "      <td>13.29</td>\n",
              "      <td>1</td>\n",
              "      <td>3</td>\n",
              "      <td>1</td>\n",
              "      <td>1</td>\n",
              "      <td>0</td>\n",
              "      <td>0</td>\n",
              "      <td>2</td>\n",
              "      <td>3</td>\n",
              "      <td>3</td>\n",
              "      <td>1</td>\n",
              "      <td>3</td>\n",
              "      <td>5</td>\n",
              "      <td>3</td>\n",
              "      <td>2</td>\n",
              "      <td>-4.82</td>\n",
              "      <td>0</td>\n",
              "      <td>-3</td>\n",
              "      <td>0.000000</td>\n",
              "      <td>0.018995</td>\n",
              "      <td>0.019537</td>\n",
              "      <td>0.021279</td>\n",
              "      <td>4.281979</td>\n",
              "      <td>0.042752</td>\n",
              "      <td>0.045692</td>\n",
              "      <td>7.978624</td>\n",
              "      <td>7.980418</td>\n",
              "      <td>0</td>\n",
              "      <td>4</td>\n",
              "    </tr>\n",
              "  </tbody>\n",
              "</table>\n",
              "</div>"
            ],
            "text/plain": [
              "                  defensivelinezonePlayers  deepzonePlayers  hookzonePlayers  \\\n",
              "id                                                                             \n",
              "2018090600:75:1                          0                1                3   \n",
              "2018090600:146:1                         0                1                3   \n",
              "2018090600:168:1                         0                1                2   \n",
              "2018090600:190:1                         1                0                2   \n",
              "2018090600:320:1                         1                0                3   \n",
              "\n",
              "                  curlzonePlayers  flatzonePlayers  defenseArea  \\\n",
              "id                                                                \n",
              "2018090600:75:1                 2                1    194.31095   \n",
              "2018090600:146:1                2                1    204.17725   \n",
              "2018090600:168:1                2                2    277.65495   \n",
              "2018090600:190:1                3                1    189.16960   \n",
              "2018090600:320:1                3                1    187.12510   \n",
              "\n",
              "                  defenseAreaCoverDefenders  width  height  numberQBs  \\\n",
              "id                                                                      \n",
              "2018090600:75:1                   194.31095  22.96   15.25          1   \n",
              "2018090600:146:1                  204.17725  29.22   12.57          1   \n",
              "2018090600:168:1                  277.65495  33.67   15.21          1   \n",
              "2018090600:190:1                  165.05520  26.42   12.91          1   \n",
              "2018090600:320:1                  153.20020  27.80   13.29          1   \n",
              "\n",
              "                  numberWRs  numberTEs  numberRBs  numberFBs  \\\n",
              "id                                                             \n",
              "2018090600:75:1           2          1          1          1   \n",
              "2018090600:146:1          3          1          1          0   \n",
              "2018090600:168:1          2          1          2          0   \n",
              "2018090600:190:1          3          1          1          0   \n",
              "2018090600:320:1          3          1          1          0   \n",
              "\n",
              "                  numberOffensivePlayersAnotherPosition  numberSafeties  \\\n",
              "id                                                                        \n",
              "2018090600:75:1                                       0               3   \n",
              "2018090600:146:1                                      0               2   \n",
              "2018090600:168:1                                      0               2   \n",
              "2018090600:190:1                                      0               3   \n",
              "2018090600:320:1                                      0               2   \n",
              "\n",
              "                  numberLBs  numberCBs  strongSide  \\\n",
              "id                                                   \n",
              "2018090600:75:1           2          2           1   \n",
              "2018090600:146:1          2          3           0   \n",
              "2018090600:168:1          2          3           1   \n",
              "2018090600:190:1          1          3           0   \n",
              "2018090600:320:1          3          3           1   \n",
              "\n",
              "                  numberPlayersDefenseStrongSide  \\\n",
              "id                                                 \n",
              "2018090600:75:1                                3   \n",
              "2018090600:146:1                               3   \n",
              "2018090600:168:1                               5   \n",
              "2018090600:190:1                               2   \n",
              "2018090600:320:1                               3   \n",
              "\n",
              "                  numberPlayersDefenseWeakSide  \\\n",
              "id                                               \n",
              "2018090600:75:1                              4   \n",
              "2018090600:146:1                             4   \n",
              "2018090600:168:1                             2   \n",
              "2018090600:190:1                             5   \n",
              "2018090600:320:1                             5   \n",
              "\n",
              "                  numberPlayersOffenseStrongSide  \\\n",
              "id                                                 \n",
              "2018090600:75:1                                3   \n",
              "2018090600:146:1                               2   \n",
              "2018090600:168:1                               4   \n",
              "2018090600:190:1                               2   \n",
              "2018090600:320:1                               3   \n",
              "\n",
              "                  numberPlayersOffenseWeakSide  \\\n",
              "id                                               \n",
              "2018090600:75:1                              2   \n",
              "2018090600:146:1                             3   \n",
              "2018090600:168:1                             1   \n",
              "2018090600:190:1                             3   \n",
              "2018090600:320:1                             2   \n",
              "\n",
              "                  differenceOffenseVsDefenseWidth  \\\n",
              "id                                                  \n",
              "2018090600:75:1                             -0.63   \n",
              "2018090600:146:1                            -1.15   \n",
              "2018090600:168:1                             0.71   \n",
              "2018090600:190:1                            -3.11   \n",
              "2018090600:320:1                            -4.82   \n",
              "\n",
              "                  differenceOffenseVsDefenseStrongSide  \\\n",
              "id                                                       \n",
              "2018090600:75:1                                      0   \n",
              "2018090600:146:1                                    -1   \n",
              "2018090600:168:1                                    -1   \n",
              "2018090600:190:1                                     0   \n",
              "2018090600:320:1                                     0   \n",
              "\n",
              "                  differenceOffenseVsDefenseWeakSide  HeightByWeightDeep  \\\n",
              "id                                                                         \n",
              "2018090600:75:1                                   -2            0.020227   \n",
              "2018090600:146:1                                  -1            0.020227   \n",
              "2018090600:168:1                                  -1            0.020227   \n",
              "2018090600:190:1                                  -2            0.000000   \n",
              "2018090600:320:1                                  -3            0.000000   \n",
              "\n",
              "                  HeightByWeightHook  HeightByWeightCurl  HeightByWeightFlat  \\\n",
              "id                                                                             \n",
              "2018090600:75:1             0.018643            0.020066            0.021034   \n",
              "2018090600:146:1            0.019228            0.020356            0.020455   \n",
              "2018090600:168:1            0.017683            0.020997            0.020745   \n",
              "2018090600:190:1            0.020120            0.021193            0.020455   \n",
              "2018090600:320:1            0.018995            0.019537            0.021279   \n",
              "\n",
              "                  WeightByArea   density  densityNoLine  densityInsidePoints  \\\n",
              "id                                                                             \n",
              "2018090600:75:1       3.376032  0.036025       0.036025             6.974268   \n",
              "2018090600:146:1      3.178611  0.034284       0.034284             6.975511   \n",
              "2018090600:168:1      2.337434  0.025211       0.025211             6.985594   \n",
              "2018090600:190:1      3.192871  0.037004       0.036351             6.973569   \n",
              "2018090600:320:1      4.281979  0.042752       0.045692             7.978624   \n",
              "\n",
              "                  densityInsidePointsNoLine  cluster  playResult  \n",
              "id                                                                \n",
              "2018090600:75:1                    6.974268        2          10  \n",
              "2018090600:146:1                   6.975511        2           0  \n",
              "2018090600:168:1                   6.985594        2           0  \n",
              "2018090600:190:1                   6.969707        0          33  \n",
              "2018090600:320:1                   7.980418        0           4  "
            ]
          },
          "metadata": {
            "tags": []
          },
          "execution_count": 19
        }
      ]
    },
    {
      "cell_type": "code",
      "metadata": {
        "id": "z7nrrryJEI3I"
      },
      "source": [
        "static_defenses.replace({\"right\":0,\"left\":1},inplace=True)"
      ],
      "execution_count": null,
      "outputs": []
    },
    {
      "cell_type": "markdown",
      "metadata": {
        "id": "N_JxuJMcEMoc"
      },
      "source": [
        "#Cambiar valor playResult"
      ]
    },
    {
      "cell_type": "markdown",
      "metadata": {
        "id": "STNdvfyKEPPg"
      },
      "source": [
        "Vamos a seguir el siguiente criterio:\n",
        "\n",
        "\n",
        "*   Yardas negativas (-infinito,0)\n",
        "*   Poco yardaje [0,3)\n",
        "*   Yardaje medio [3,7)\n",
        "*   Mucho yardaje [7,16)\n",
        "*   Big play      [16, +infinito)\n",
        "\n"
      ]
    },
    {
      "cell_type": "code",
      "metadata": {
        "id": "rGms_LsaEord"
      },
      "source": [
        "def assignTag(number): \n",
        "  tag = \"\"\n",
        "  if number < 0:\n",
        "    tag = 0 #\"negativeYards\"\n",
        "  elif number < 3:\n",
        "    tag = 1 #\"fewYards\"\n",
        "  elif number < 7:\n",
        "    tag = 2 #\"mediumYards\"\n",
        "  elif number < 16:\n",
        "    tag = 3 #\"muchYards\"\n",
        "  else:\n",
        "    tag = 4 #\"bigPlay\"\n",
        "  \n",
        "  return tag"
      ],
      "execution_count": null,
      "outputs": []
    },
    {
      "cell_type": "code",
      "metadata": {
        "id": "4xZiEie1HseO"
      },
      "source": [
        "static_defenses[\"playResult\"] = static_defenses[\"playResult\"].apply(assignTag)"
      ],
      "execution_count": null,
      "outputs": []
    },
    {
      "cell_type": "code",
      "metadata": {
        "id": "L5cCRsLNfmrK"
      },
      "source": [
        "static_defenses_ss[\"playResult\"] = static_defenses_ss[\"playResult\"].apply(assignTag)\n",
        "static_defenses_mms[\"playResult\"] = static_defenses_mms[\"playResult\"].apply(assignTag)\n",
        "static_defenses_rs[\"playResult\"] = static_defenses_rs[\"playResult\"].apply(assignTag)\n",
        "static_defenses_pt[\"playResult\"] = static_defenses_pt[\"playResult\"].apply(assignTag)"
      ],
      "execution_count": null,
      "outputs": []
    },
    {
      "cell_type": "code",
      "metadata": {
        "id": "b9f5WPBzJf9z",
        "colab": {
          "base_uri": "https://localhost:8080/",
          "height": 444
        },
        "outputId": "17da04a8-ff66-4171-8dfa-0878b59add04"
      },
      "source": [
        "static_defenses"
      ],
      "execution_count": null,
      "outputs": [
        {
          "output_type": "execute_result",
          "data": {
            "text/html": [
              "<div>\n",
              "<style scoped>\n",
              "    .dataframe tbody tr th:only-of-type {\n",
              "        vertical-align: middle;\n",
              "    }\n",
              "\n",
              "    .dataframe tbody tr th {\n",
              "        vertical-align: top;\n",
              "    }\n",
              "\n",
              "    .dataframe thead th {\n",
              "        text-align: right;\n",
              "    }\n",
              "</style>\n",
              "<table border=\"1\" class=\"dataframe\">\n",
              "  <thead>\n",
              "    <tr style=\"text-align: right;\">\n",
              "      <th></th>\n",
              "      <th>id</th>\n",
              "      <th>defensivelinezonePlayers</th>\n",
              "      <th>deepzonePlayers</th>\n",
              "      <th>hookzonePlayers</th>\n",
              "      <th>curlzonePlayers</th>\n",
              "      <th>flatzonePlayers</th>\n",
              "      <th>defenseArea</th>\n",
              "      <th>defenseAreaCoverDefenders</th>\n",
              "      <th>width</th>\n",
              "      <th>height</th>\n",
              "      <th>numberQBs</th>\n",
              "      <th>numberWRs</th>\n",
              "      <th>numberTEs</th>\n",
              "      <th>numberRBs</th>\n",
              "      <th>numberFBs</th>\n",
              "      <th>numberOffensivePlayersAnotherPosition</th>\n",
              "      <th>numberSafeties</th>\n",
              "      <th>numberLBs</th>\n",
              "      <th>numberCBs</th>\n",
              "      <th>strongSide</th>\n",
              "      <th>numberPlayersDefenseStrongSide</th>\n",
              "      <th>numberPlayersDefenseWeakSide</th>\n",
              "      <th>numberPlayersOffenseStrongSide</th>\n",
              "      <th>numberPlayersOffenseWeakSide</th>\n",
              "      <th>differenceOffenseVsDefenseWidth</th>\n",
              "      <th>differenceOffenseVsDefenseStrongSide</th>\n",
              "      <th>differenceOffenseVsDefenseWeakSide</th>\n",
              "      <th>HeightByWeightDeep</th>\n",
              "      <th>HeightByWeightHook</th>\n",
              "      <th>HeightByWeightCurl</th>\n",
              "      <th>HeightByWeightFlat</th>\n",
              "      <th>WeightByArea</th>\n",
              "      <th>density</th>\n",
              "      <th>densityNoLine</th>\n",
              "      <th>densityInsidePoints</th>\n",
              "      <th>densityInsidePointsNoLine</th>\n",
              "      <th>playResult</th>\n",
              "    </tr>\n",
              "  </thead>\n",
              "  <tbody>\n",
              "    <tr>\n",
              "      <th>0</th>\n",
              "      <td>2018090600:75:1</td>\n",
              "      <td>0</td>\n",
              "      <td>1</td>\n",
              "      <td>3</td>\n",
              "      <td>2</td>\n",
              "      <td>1</td>\n",
              "      <td>194.31095</td>\n",
              "      <td>194.31095</td>\n",
              "      <td>22.96</td>\n",
              "      <td>15.25</td>\n",
              "      <td>1</td>\n",
              "      <td>2</td>\n",
              "      <td>1</td>\n",
              "      <td>1</td>\n",
              "      <td>1</td>\n",
              "      <td>0</td>\n",
              "      <td>3</td>\n",
              "      <td>2</td>\n",
              "      <td>2</td>\n",
              "      <td>1</td>\n",
              "      <td>3</td>\n",
              "      <td>4</td>\n",
              "      <td>3</td>\n",
              "      <td>2</td>\n",
              "      <td>-0.63</td>\n",
              "      <td>0</td>\n",
              "      <td>-2</td>\n",
              "      <td>0.020227</td>\n",
              "      <td>0.018643</td>\n",
              "      <td>0.020066</td>\n",
              "      <td>0.021034</td>\n",
              "      <td>3.376032</td>\n",
              "      <td>0.036025</td>\n",
              "      <td>0.036025</td>\n",
              "      <td>6.974268</td>\n",
              "      <td>6.974268</td>\n",
              "      <td>3</td>\n",
              "    </tr>\n",
              "    <tr>\n",
              "      <th>1</th>\n",
              "      <td>2018090600:146:1</td>\n",
              "      <td>0</td>\n",
              "      <td>1</td>\n",
              "      <td>3</td>\n",
              "      <td>2</td>\n",
              "      <td>1</td>\n",
              "      <td>204.17725</td>\n",
              "      <td>204.17725</td>\n",
              "      <td>29.22</td>\n",
              "      <td>12.57</td>\n",
              "      <td>1</td>\n",
              "      <td>3</td>\n",
              "      <td>1</td>\n",
              "      <td>1</td>\n",
              "      <td>0</td>\n",
              "      <td>0</td>\n",
              "      <td>2</td>\n",
              "      <td>2</td>\n",
              "      <td>3</td>\n",
              "      <td>0</td>\n",
              "      <td>3</td>\n",
              "      <td>4</td>\n",
              "      <td>2</td>\n",
              "      <td>3</td>\n",
              "      <td>-1.15</td>\n",
              "      <td>-1</td>\n",
              "      <td>-1</td>\n",
              "      <td>0.020227</td>\n",
              "      <td>0.019228</td>\n",
              "      <td>0.020356</td>\n",
              "      <td>0.020455</td>\n",
              "      <td>3.178611</td>\n",
              "      <td>0.034284</td>\n",
              "      <td>0.034284</td>\n",
              "      <td>6.975511</td>\n",
              "      <td>6.975511</td>\n",
              "      <td>1</td>\n",
              "    </tr>\n",
              "    <tr>\n",
              "      <th>2</th>\n",
              "      <td>2018090600:168:1</td>\n",
              "      <td>0</td>\n",
              "      <td>1</td>\n",
              "      <td>2</td>\n",
              "      <td>2</td>\n",
              "      <td>2</td>\n",
              "      <td>277.65495</td>\n",
              "      <td>277.65495</td>\n",
              "      <td>33.67</td>\n",
              "      <td>15.21</td>\n",
              "      <td>1</td>\n",
              "      <td>2</td>\n",
              "      <td>1</td>\n",
              "      <td>2</td>\n",
              "      <td>0</td>\n",
              "      <td>0</td>\n",
              "      <td>2</td>\n",
              "      <td>2</td>\n",
              "      <td>3</td>\n",
              "      <td>1</td>\n",
              "      <td>5</td>\n",
              "      <td>2</td>\n",
              "      <td>4</td>\n",
              "      <td>1</td>\n",
              "      <td>0.71</td>\n",
              "      <td>-1</td>\n",
              "      <td>-1</td>\n",
              "      <td>0.020227</td>\n",
              "      <td>0.017683</td>\n",
              "      <td>0.020997</td>\n",
              "      <td>0.020745</td>\n",
              "      <td>2.337434</td>\n",
              "      <td>0.025211</td>\n",
              "      <td>0.025211</td>\n",
              "      <td>6.985594</td>\n",
              "      <td>6.985594</td>\n",
              "      <td>1</td>\n",
              "    </tr>\n",
              "    <tr>\n",
              "      <th>3</th>\n",
              "      <td>2018090600:190:1</td>\n",
              "      <td>1</td>\n",
              "      <td>0</td>\n",
              "      <td>2</td>\n",
              "      <td>3</td>\n",
              "      <td>1</td>\n",
              "      <td>189.16960</td>\n",
              "      <td>165.05520</td>\n",
              "      <td>26.42</td>\n",
              "      <td>12.91</td>\n",
              "      <td>1</td>\n",
              "      <td>3</td>\n",
              "      <td>1</td>\n",
              "      <td>1</td>\n",
              "      <td>0</td>\n",
              "      <td>0</td>\n",
              "      <td>3</td>\n",
              "      <td>1</td>\n",
              "      <td>3</td>\n",
              "      <td>0</td>\n",
              "      <td>2</td>\n",
              "      <td>5</td>\n",
              "      <td>2</td>\n",
              "      <td>3</td>\n",
              "      <td>-3.11</td>\n",
              "      <td>0</td>\n",
              "      <td>-2</td>\n",
              "      <td>0.000000</td>\n",
              "      <td>0.020120</td>\n",
              "      <td>0.021193</td>\n",
              "      <td>0.020455</td>\n",
              "      <td>3.192871</td>\n",
              "      <td>0.037004</td>\n",
              "      <td>0.036351</td>\n",
              "      <td>6.973569</td>\n",
              "      <td>6.969707</td>\n",
              "      <td>4</td>\n",
              "    </tr>\n",
              "    <tr>\n",
              "      <th>5</th>\n",
              "      <td>2018090600:320:1</td>\n",
              "      <td>1</td>\n",
              "      <td>0</td>\n",
              "      <td>3</td>\n",
              "      <td>3</td>\n",
              "      <td>1</td>\n",
              "      <td>187.12510</td>\n",
              "      <td>153.20020</td>\n",
              "      <td>27.80</td>\n",
              "      <td>13.29</td>\n",
              "      <td>1</td>\n",
              "      <td>3</td>\n",
              "      <td>1</td>\n",
              "      <td>1</td>\n",
              "      <td>0</td>\n",
              "      <td>0</td>\n",
              "      <td>2</td>\n",
              "      <td>3</td>\n",
              "      <td>3</td>\n",
              "      <td>1</td>\n",
              "      <td>3</td>\n",
              "      <td>5</td>\n",
              "      <td>3</td>\n",
              "      <td>2</td>\n",
              "      <td>-4.82</td>\n",
              "      <td>0</td>\n",
              "      <td>-3</td>\n",
              "      <td>0.000000</td>\n",
              "      <td>0.018995</td>\n",
              "      <td>0.019537</td>\n",
              "      <td>0.021279</td>\n",
              "      <td>4.281979</td>\n",
              "      <td>0.042752</td>\n",
              "      <td>0.045692</td>\n",
              "      <td>7.978624</td>\n",
              "      <td>7.980418</td>\n",
              "      <td>2</td>\n",
              "    </tr>\n",
              "    <tr>\n",
              "      <th>...</th>\n",
              "      <td>...</td>\n",
              "      <td>...</td>\n",
              "      <td>...</td>\n",
              "      <td>...</td>\n",
              "      <td>...</td>\n",
              "      <td>...</td>\n",
              "      <td>...</td>\n",
              "      <td>...</td>\n",
              "      <td>...</td>\n",
              "      <td>...</td>\n",
              "      <td>...</td>\n",
              "      <td>...</td>\n",
              "      <td>...</td>\n",
              "      <td>...</td>\n",
              "      <td>...</td>\n",
              "      <td>...</td>\n",
              "      <td>...</td>\n",
              "      <td>...</td>\n",
              "      <td>...</td>\n",
              "      <td>...</td>\n",
              "      <td>...</td>\n",
              "      <td>...</td>\n",
              "      <td>...</td>\n",
              "      <td>...</td>\n",
              "      <td>...</td>\n",
              "      <td>...</td>\n",
              "      <td>...</td>\n",
              "      <td>...</td>\n",
              "      <td>...</td>\n",
              "      <td>...</td>\n",
              "      <td>...</td>\n",
              "      <td>...</td>\n",
              "      <td>...</td>\n",
              "      <td>...</td>\n",
              "      <td>...</td>\n",
              "      <td>...</td>\n",
              "      <td>...</td>\n",
              "    </tr>\n",
              "    <tr>\n",
              "      <th>19112</th>\n",
              "      <td>2018123015:3819:17</td>\n",
              "      <td>1</td>\n",
              "      <td>0</td>\n",
              "      <td>3</td>\n",
              "      <td>3</td>\n",
              "      <td>0</td>\n",
              "      <td>169.30945</td>\n",
              "      <td>124.90995</td>\n",
              "      <td>23.43</td>\n",
              "      <td>12.71</td>\n",
              "      <td>1</td>\n",
              "      <td>2</td>\n",
              "      <td>2</td>\n",
              "      <td>1</td>\n",
              "      <td>0</td>\n",
              "      <td>0</td>\n",
              "      <td>2</td>\n",
              "      <td>3</td>\n",
              "      <td>2</td>\n",
              "      <td>0</td>\n",
              "      <td>3</td>\n",
              "      <td>4</td>\n",
              "      <td>3</td>\n",
              "      <td>2</td>\n",
              "      <td>-3.91</td>\n",
              "      <td>0</td>\n",
              "      <td>-2</td>\n",
              "      <td>0.000000</td>\n",
              "      <td>0.017582</td>\n",
              "      <td>0.019208</td>\n",
              "      <td>0.000000</td>\n",
              "      <td>4.867507</td>\n",
              "      <td>0.041344</td>\n",
              "      <td>0.048035</td>\n",
              "      <td>6.970468</td>\n",
              "      <td>6.959971</td>\n",
              "      <td>3</td>\n",
              "    </tr>\n",
              "    <tr>\n",
              "      <th>19113</th>\n",
              "      <td>2018123015:3932:17</td>\n",
              "      <td>0</td>\n",
              "      <td>0</td>\n",
              "      <td>1</td>\n",
              "      <td>4</td>\n",
              "      <td>2</td>\n",
              "      <td>327.34785</td>\n",
              "      <td>327.34785</td>\n",
              "      <td>35.76</td>\n",
              "      <td>13.20</td>\n",
              "      <td>1</td>\n",
              "      <td>3</td>\n",
              "      <td>1</td>\n",
              "      <td>1</td>\n",
              "      <td>0</td>\n",
              "      <td>0</td>\n",
              "      <td>2</td>\n",
              "      <td>2</td>\n",
              "      <td>3</td>\n",
              "      <td>0</td>\n",
              "      <td>3</td>\n",
              "      <td>4</td>\n",
              "      <td>3</td>\n",
              "      <td>2</td>\n",
              "      <td>-0.97</td>\n",
              "      <td>0</td>\n",
              "      <td>-2</td>\n",
              "      <td>0.000000</td>\n",
              "      <td>0.016636</td>\n",
              "      <td>0.018979</td>\n",
              "      <td>0.019819</td>\n",
              "      <td>2.120069</td>\n",
              "      <td>0.021384</td>\n",
              "      <td>0.021384</td>\n",
              "      <td>6.987781</td>\n",
              "      <td>6.987781</td>\n",
              "      <td>0</td>\n",
              "    </tr>\n",
              "    <tr>\n",
              "      <th>19114</th>\n",
              "      <td>2018123015:3969:17</td>\n",
              "      <td>0</td>\n",
              "      <td>1</td>\n",
              "      <td>1</td>\n",
              "      <td>4</td>\n",
              "      <td>1</td>\n",
              "      <td>293.39745</td>\n",
              "      <td>293.39745</td>\n",
              "      <td>26.24</td>\n",
              "      <td>14.67</td>\n",
              "      <td>1</td>\n",
              "      <td>3</td>\n",
              "      <td>1</td>\n",
              "      <td>1</td>\n",
              "      <td>0</td>\n",
              "      <td>0</td>\n",
              "      <td>2</td>\n",
              "      <td>1</td>\n",
              "      <td>4</td>\n",
              "      <td>1</td>\n",
              "      <td>3</td>\n",
              "      <td>4</td>\n",
              "      <td>2</td>\n",
              "      <td>3</td>\n",
              "      <td>0.07</td>\n",
              "      <td>-1</td>\n",
              "      <td>-1</td>\n",
              "      <td>0.018878</td>\n",
              "      <td>0.016636</td>\n",
              "      <td>0.019862</td>\n",
              "      <td>0.019789</td>\n",
              "      <td>2.307450</td>\n",
              "      <td>0.023858</td>\n",
              "      <td>0.023858</td>\n",
              "      <td>6.982958</td>\n",
              "      <td>6.982958</td>\n",
              "      <td>1</td>\n",
              "    </tr>\n",
              "    <tr>\n",
              "      <th>19115</th>\n",
              "      <td>2018123015:4057:17</td>\n",
              "      <td>0</td>\n",
              "      <td>0</td>\n",
              "      <td>2</td>\n",
              "      <td>3</td>\n",
              "      <td>2</td>\n",
              "      <td>223.81860</td>\n",
              "      <td>223.81860</td>\n",
              "      <td>36.23</td>\n",
              "      <td>11.62</td>\n",
              "      <td>1</td>\n",
              "      <td>3</td>\n",
              "      <td>1</td>\n",
              "      <td>1</td>\n",
              "      <td>0</td>\n",
              "      <td>0</td>\n",
              "      <td>3</td>\n",
              "      <td>2</td>\n",
              "      <td>2</td>\n",
              "      <td>0</td>\n",
              "      <td>3</td>\n",
              "      <td>4</td>\n",
              "      <td>2</td>\n",
              "      <td>3</td>\n",
              "      <td>-0.94</td>\n",
              "      <td>-1</td>\n",
              "      <td>-1</td>\n",
              "      <td>0.000000</td>\n",
              "      <td>0.019526</td>\n",
              "      <td>0.019136</td>\n",
              "      <td>0.020001</td>\n",
              "      <td>2.948817</td>\n",
              "      <td>0.031275</td>\n",
              "      <td>0.031275</td>\n",
              "      <td>6.982128</td>\n",
              "      <td>6.982128</td>\n",
              "      <td>2</td>\n",
              "    </tr>\n",
              "    <tr>\n",
              "      <th>19116</th>\n",
              "      <td>2018123015:4104:17</td>\n",
              "      <td>0</td>\n",
              "      <td>0</td>\n",
              "      <td>3</td>\n",
              "      <td>2</td>\n",
              "      <td>2</td>\n",
              "      <td>215.50425</td>\n",
              "      <td>215.50425</td>\n",
              "      <td>32.25</td>\n",
              "      <td>13.00</td>\n",
              "      <td>1</td>\n",
              "      <td>3</td>\n",
              "      <td>1</td>\n",
              "      <td>1</td>\n",
              "      <td>0</td>\n",
              "      <td>0</td>\n",
              "      <td>3</td>\n",
              "      <td>2</td>\n",
              "      <td>2</td>\n",
              "      <td>0</td>\n",
              "      <td>5</td>\n",
              "      <td>2</td>\n",
              "      <td>3</td>\n",
              "      <td>2</td>\n",
              "      <td>-0.88</td>\n",
              "      <td>-2</td>\n",
              "      <td>0</td>\n",
              "      <td>0.000000</td>\n",
              "      <td>0.019797</td>\n",
              "      <td>0.018535</td>\n",
              "      <td>0.020001</td>\n",
              "      <td>3.062585</td>\n",
              "      <td>0.032482</td>\n",
              "      <td>0.032482</td>\n",
              "      <td>6.981439</td>\n",
              "      <td>6.981439</td>\n",
              "      <td>4</td>\n",
              "    </tr>\n",
              "  </tbody>\n",
              "</table>\n",
              "<p>16498 rows × 37 columns</p>\n",
              "</div>"
            ],
            "text/plain": [
              "                       id  defensivelinezonePlayers  deepzonePlayers  \\\n",
              "0         2018090600:75:1                         0                1   \n",
              "1        2018090600:146:1                         0                1   \n",
              "2        2018090600:168:1                         0                1   \n",
              "3        2018090600:190:1                         1                0   \n",
              "5        2018090600:320:1                         1                0   \n",
              "...                   ...                       ...              ...   \n",
              "19112  2018123015:3819:17                         1                0   \n",
              "19113  2018123015:3932:17                         0                0   \n",
              "19114  2018123015:3969:17                         0                1   \n",
              "19115  2018123015:4057:17                         0                0   \n",
              "19116  2018123015:4104:17                         0                0   \n",
              "\n",
              "       hookzonePlayers  curlzonePlayers  flatzonePlayers  defenseArea  \\\n",
              "0                    3                2                1    194.31095   \n",
              "1                    3                2                1    204.17725   \n",
              "2                    2                2                2    277.65495   \n",
              "3                    2                3                1    189.16960   \n",
              "5                    3                3                1    187.12510   \n",
              "...                ...              ...              ...          ...   \n",
              "19112                3                3                0    169.30945   \n",
              "19113                1                4                2    327.34785   \n",
              "19114                1                4                1    293.39745   \n",
              "19115                2                3                2    223.81860   \n",
              "19116                3                2                2    215.50425   \n",
              "\n",
              "       defenseAreaCoverDefenders  width  height  numberQBs  numberWRs  \\\n",
              "0                      194.31095  22.96   15.25          1          2   \n",
              "1                      204.17725  29.22   12.57          1          3   \n",
              "2                      277.65495  33.67   15.21          1          2   \n",
              "3                      165.05520  26.42   12.91          1          3   \n",
              "5                      153.20020  27.80   13.29          1          3   \n",
              "...                          ...    ...     ...        ...        ...   \n",
              "19112                  124.90995  23.43   12.71          1          2   \n",
              "19113                  327.34785  35.76   13.20          1          3   \n",
              "19114                  293.39745  26.24   14.67          1          3   \n",
              "19115                  223.81860  36.23   11.62          1          3   \n",
              "19116                  215.50425  32.25   13.00          1          3   \n",
              "\n",
              "       numberTEs  numberRBs  numberFBs  numberOffensivePlayersAnotherPosition  \\\n",
              "0              1          1          1                                      0   \n",
              "1              1          1          0                                      0   \n",
              "2              1          2          0                                      0   \n",
              "3              1          1          0                                      0   \n",
              "5              1          1          0                                      0   \n",
              "...          ...        ...        ...                                    ...   \n",
              "19112          2          1          0                                      0   \n",
              "19113          1          1          0                                      0   \n",
              "19114          1          1          0                                      0   \n",
              "19115          1          1          0                                      0   \n",
              "19116          1          1          0                                      0   \n",
              "\n",
              "       numberSafeties  numberLBs  numberCBs  strongSide  \\\n",
              "0                   3          2          2           1   \n",
              "1                   2          2          3           0   \n",
              "2                   2          2          3           1   \n",
              "3                   3          1          3           0   \n",
              "5                   2          3          3           1   \n",
              "...               ...        ...        ...         ...   \n",
              "19112               2          3          2           0   \n",
              "19113               2          2          3           0   \n",
              "19114               2          1          4           1   \n",
              "19115               3          2          2           0   \n",
              "19116               3          2          2           0   \n",
              "\n",
              "       numberPlayersDefenseStrongSide  numberPlayersDefenseWeakSide  \\\n",
              "0                                   3                             4   \n",
              "1                                   3                             4   \n",
              "2                                   5                             2   \n",
              "3                                   2                             5   \n",
              "5                                   3                             5   \n",
              "...                               ...                           ...   \n",
              "19112                               3                             4   \n",
              "19113                               3                             4   \n",
              "19114                               3                             4   \n",
              "19115                               3                             4   \n",
              "19116                               5                             2   \n",
              "\n",
              "       numberPlayersOffenseStrongSide  numberPlayersOffenseWeakSide  \\\n",
              "0                                   3                             2   \n",
              "1                                   2                             3   \n",
              "2                                   4                             1   \n",
              "3                                   2                             3   \n",
              "5                                   3                             2   \n",
              "...                               ...                           ...   \n",
              "19112                               3                             2   \n",
              "19113                               3                             2   \n",
              "19114                               2                             3   \n",
              "19115                               2                             3   \n",
              "19116                               3                             2   \n",
              "\n",
              "       differenceOffenseVsDefenseWidth  differenceOffenseVsDefenseStrongSide  \\\n",
              "0                                -0.63                                     0   \n",
              "1                                -1.15                                    -1   \n",
              "2                                 0.71                                    -1   \n",
              "3                                -3.11                                     0   \n",
              "5                                -4.82                                     0   \n",
              "...                                ...                                   ...   \n",
              "19112                            -3.91                                     0   \n",
              "19113                            -0.97                                     0   \n",
              "19114                             0.07                                    -1   \n",
              "19115                            -0.94                                    -1   \n",
              "19116                            -0.88                                    -2   \n",
              "\n",
              "       differenceOffenseVsDefenseWeakSide  HeightByWeightDeep  \\\n",
              "0                                      -2            0.020227   \n",
              "1                                      -1            0.020227   \n",
              "2                                      -1            0.020227   \n",
              "3                                      -2            0.000000   \n",
              "5                                      -3            0.000000   \n",
              "...                                   ...                 ...   \n",
              "19112                                  -2            0.000000   \n",
              "19113                                  -2            0.000000   \n",
              "19114                                  -1            0.018878   \n",
              "19115                                  -1            0.000000   \n",
              "19116                                   0            0.000000   \n",
              "\n",
              "       HeightByWeightHook  HeightByWeightCurl  HeightByWeightFlat  \\\n",
              "0                0.018643            0.020066            0.021034   \n",
              "1                0.019228            0.020356            0.020455   \n",
              "2                0.017683            0.020997            0.020745   \n",
              "3                0.020120            0.021193            0.020455   \n",
              "5                0.018995            0.019537            0.021279   \n",
              "...                   ...                 ...                 ...   \n",
              "19112            0.017582            0.019208            0.000000   \n",
              "19113            0.016636            0.018979            0.019819   \n",
              "19114            0.016636            0.019862            0.019789   \n",
              "19115            0.019526            0.019136            0.020001   \n",
              "19116            0.019797            0.018535            0.020001   \n",
              "\n",
              "       WeightByArea   density  densityNoLine  densityInsidePoints  \\\n",
              "0          3.376032  0.036025       0.036025             6.974268   \n",
              "1          3.178611  0.034284       0.034284             6.975511   \n",
              "2          2.337434  0.025211       0.025211             6.985594   \n",
              "3          3.192871  0.037004       0.036351             6.973569   \n",
              "5          4.281979  0.042752       0.045692             7.978624   \n",
              "...             ...       ...            ...                  ...   \n",
              "19112      4.867507  0.041344       0.048035             6.970468   \n",
              "19113      2.120069  0.021384       0.021384             6.987781   \n",
              "19114      2.307450  0.023858       0.023858             6.982958   \n",
              "19115      2.948817  0.031275       0.031275             6.982128   \n",
              "19116      3.062585  0.032482       0.032482             6.981439   \n",
              "\n",
              "       densityInsidePointsNoLine  playResult  \n",
              "0                       6.974268           3  \n",
              "1                       6.975511           1  \n",
              "2                       6.985594           1  \n",
              "3                       6.969707           4  \n",
              "5                       7.980418           2  \n",
              "...                          ...         ...  \n",
              "19112                   6.959971           3  \n",
              "19113                   6.987781           0  \n",
              "19114                   6.982958           1  \n",
              "19115                   6.982128           2  \n",
              "19116                   6.981439           4  \n",
              "\n",
              "[16498 rows x 37 columns]"
            ]
          },
          "metadata": {
            "tags": []
          },
          "execution_count": 24
        }
      ]
    },
    {
      "cell_type": "markdown",
      "metadata": {
        "id": "8sEoP2Lb0ph9"
      },
      "source": [
        "#Añadir playResult"
      ]
    },
    {
      "cell_type": "code",
      "metadata": {
        "id": "HWJoxErP0uLY"
      },
      "source": [
        "def obtainYards(playId):\n",
        "    return static_defenses[static_defenses[\"id\"]==playId][\"playResult\"].values[0]"
      ],
      "execution_count": null,
      "outputs": []
    },
    {
      "cell_type": "code",
      "metadata": {
        "id": "UJO9cCBG0-La"
      },
      "source": [
        "static_defenses_ss[\"playResult\"] = static_defenses_ss.index.map(obtainYards)\n",
        "static_defenses_mms[\"playResult\"] = static_defenses_mms.index.map(obtainYards)\n",
        "static_defenses_rs[\"playResult\"] = static_defenses_rs.index.map(obtainYards)\n",
        "static_defenses_pt[\"playResult\"] = static_defenses_pt.index.map(obtainYards)"
      ],
      "execution_count": null,
      "outputs": []
    },
    {
      "cell_type": "code",
      "metadata": {
        "colab": {
          "base_uri": "https://localhost:8080/",
          "height": 475
        },
        "id": "e78__tLk3O_p",
        "outputId": "b5695b19-4719-486b-c852-afca2af83caf"
      },
      "source": [
        "static_defenses_ss"
      ],
      "execution_count": null,
      "outputs": [
        {
          "output_type": "execute_result",
          "data": {
            "text/html": [
              "<div>\n",
              "<style scoped>\n",
              "    .dataframe tbody tr th:only-of-type {\n",
              "        vertical-align: middle;\n",
              "    }\n",
              "\n",
              "    .dataframe tbody tr th {\n",
              "        vertical-align: top;\n",
              "    }\n",
              "\n",
              "    .dataframe thead th {\n",
              "        text-align: right;\n",
              "    }\n",
              "</style>\n",
              "<table border=\"1\" class=\"dataframe\">\n",
              "  <thead>\n",
              "    <tr style=\"text-align: right;\">\n",
              "      <th></th>\n",
              "      <th>defensivelinezonePlayers</th>\n",
              "      <th>deepzonePlayers</th>\n",
              "      <th>hookzonePlayers</th>\n",
              "      <th>curlzonePlayers</th>\n",
              "      <th>flatzonePlayers</th>\n",
              "      <th>defenseArea</th>\n",
              "      <th>defenseAreaCoverDefenders</th>\n",
              "      <th>width</th>\n",
              "      <th>height</th>\n",
              "      <th>numberQBs</th>\n",
              "      <th>numberWRs</th>\n",
              "      <th>numberTEs</th>\n",
              "      <th>numberRBs</th>\n",
              "      <th>numberFBs</th>\n",
              "      <th>numberOffensivePlayersAnotherPosition</th>\n",
              "      <th>numberSafeties</th>\n",
              "      <th>numberLBs</th>\n",
              "      <th>numberCBs</th>\n",
              "      <th>strongSide</th>\n",
              "      <th>numberPlayersDefenseStrongSide</th>\n",
              "      <th>numberPlayersDefenseWeakSide</th>\n",
              "      <th>numberPlayersOffenseStrongSide</th>\n",
              "      <th>numberPlayersOffenseWeakSide</th>\n",
              "      <th>differenceOffenseVsDefenseWidth</th>\n",
              "      <th>differenceOffenseVsDefenseStrongSide</th>\n",
              "      <th>differenceOffenseVsDefenseWeakSide</th>\n",
              "      <th>HeightByWeightDeep</th>\n",
              "      <th>HeightByWeightHook</th>\n",
              "      <th>HeightByWeightCurl</th>\n",
              "      <th>HeightByWeightFlat</th>\n",
              "      <th>WeightByArea</th>\n",
              "      <th>density</th>\n",
              "      <th>densityNoLine</th>\n",
              "      <th>densityInsidePoints</th>\n",
              "      <th>densityInsidePointsNoLine</th>\n",
              "      <th>cluster</th>\n",
              "      <th>playResult</th>\n",
              "    </tr>\n",
              "    <tr>\n",
              "      <th>id</th>\n",
              "      <th></th>\n",
              "      <th></th>\n",
              "      <th></th>\n",
              "      <th></th>\n",
              "      <th></th>\n",
              "      <th></th>\n",
              "      <th></th>\n",
              "      <th></th>\n",
              "      <th></th>\n",
              "      <th></th>\n",
              "      <th></th>\n",
              "      <th></th>\n",
              "      <th></th>\n",
              "      <th></th>\n",
              "      <th></th>\n",
              "      <th></th>\n",
              "      <th></th>\n",
              "      <th></th>\n",
              "      <th></th>\n",
              "      <th></th>\n",
              "      <th></th>\n",
              "      <th></th>\n",
              "      <th></th>\n",
              "      <th></th>\n",
              "      <th></th>\n",
              "      <th></th>\n",
              "      <th></th>\n",
              "      <th></th>\n",
              "      <th></th>\n",
              "      <th></th>\n",
              "      <th></th>\n",
              "      <th></th>\n",
              "      <th></th>\n",
              "      <th></th>\n",
              "      <th></th>\n",
              "      <th></th>\n",
              "      <th></th>\n",
              "    </tr>\n",
              "  </thead>\n",
              "  <tbody>\n",
              "    <tr>\n",
              "      <th>2018090600:75:1</th>\n",
              "      <td>0</td>\n",
              "      <td>1</td>\n",
              "      <td>3</td>\n",
              "      <td>2</td>\n",
              "      <td>1</td>\n",
              "      <td>194.31095</td>\n",
              "      <td>194.31095</td>\n",
              "      <td>22.96</td>\n",
              "      <td>15.25</td>\n",
              "      <td>1</td>\n",
              "      <td>2</td>\n",
              "      <td>1</td>\n",
              "      <td>1</td>\n",
              "      <td>1</td>\n",
              "      <td>0</td>\n",
              "      <td>3</td>\n",
              "      <td>2</td>\n",
              "      <td>2</td>\n",
              "      <td>1</td>\n",
              "      <td>3</td>\n",
              "      <td>4</td>\n",
              "      <td>3</td>\n",
              "      <td>2</td>\n",
              "      <td>-0.63</td>\n",
              "      <td>0</td>\n",
              "      <td>-2</td>\n",
              "      <td>0.020227</td>\n",
              "      <td>0.018643</td>\n",
              "      <td>0.020066</td>\n",
              "      <td>0.021034</td>\n",
              "      <td>3.376032</td>\n",
              "      <td>0.036025</td>\n",
              "      <td>0.036025</td>\n",
              "      <td>6.974268</td>\n",
              "      <td>6.974268</td>\n",
              "      <td>2</td>\n",
              "      <td>10</td>\n",
              "    </tr>\n",
              "    <tr>\n",
              "      <th>2018090600:146:1</th>\n",
              "      <td>0</td>\n",
              "      <td>1</td>\n",
              "      <td>3</td>\n",
              "      <td>2</td>\n",
              "      <td>1</td>\n",
              "      <td>204.17725</td>\n",
              "      <td>204.17725</td>\n",
              "      <td>29.22</td>\n",
              "      <td>12.57</td>\n",
              "      <td>1</td>\n",
              "      <td>3</td>\n",
              "      <td>1</td>\n",
              "      <td>1</td>\n",
              "      <td>0</td>\n",
              "      <td>0</td>\n",
              "      <td>2</td>\n",
              "      <td>2</td>\n",
              "      <td>3</td>\n",
              "      <td>0</td>\n",
              "      <td>3</td>\n",
              "      <td>4</td>\n",
              "      <td>2</td>\n",
              "      <td>3</td>\n",
              "      <td>-1.15</td>\n",
              "      <td>-1</td>\n",
              "      <td>-1</td>\n",
              "      <td>0.020227</td>\n",
              "      <td>0.019228</td>\n",
              "      <td>0.020356</td>\n",
              "      <td>0.020455</td>\n",
              "      <td>3.178611</td>\n",
              "      <td>0.034284</td>\n",
              "      <td>0.034284</td>\n",
              "      <td>6.975511</td>\n",
              "      <td>6.975511</td>\n",
              "      <td>2</td>\n",
              "      <td>0</td>\n",
              "    </tr>\n",
              "    <tr>\n",
              "      <th>2018090600:168:1</th>\n",
              "      <td>0</td>\n",
              "      <td>1</td>\n",
              "      <td>2</td>\n",
              "      <td>2</td>\n",
              "      <td>2</td>\n",
              "      <td>277.65495</td>\n",
              "      <td>277.65495</td>\n",
              "      <td>33.67</td>\n",
              "      <td>15.21</td>\n",
              "      <td>1</td>\n",
              "      <td>2</td>\n",
              "      <td>1</td>\n",
              "      <td>2</td>\n",
              "      <td>0</td>\n",
              "      <td>0</td>\n",
              "      <td>2</td>\n",
              "      <td>2</td>\n",
              "      <td>3</td>\n",
              "      <td>1</td>\n",
              "      <td>5</td>\n",
              "      <td>2</td>\n",
              "      <td>4</td>\n",
              "      <td>1</td>\n",
              "      <td>0.71</td>\n",
              "      <td>-1</td>\n",
              "      <td>-1</td>\n",
              "      <td>0.020227</td>\n",
              "      <td>0.017683</td>\n",
              "      <td>0.020997</td>\n",
              "      <td>0.020745</td>\n",
              "      <td>2.337434</td>\n",
              "      <td>0.025211</td>\n",
              "      <td>0.025211</td>\n",
              "      <td>6.985594</td>\n",
              "      <td>6.985594</td>\n",
              "      <td>2</td>\n",
              "      <td>0</td>\n",
              "    </tr>\n",
              "    <tr>\n",
              "      <th>2018090600:190:1</th>\n",
              "      <td>1</td>\n",
              "      <td>0</td>\n",
              "      <td>2</td>\n",
              "      <td>3</td>\n",
              "      <td>1</td>\n",
              "      <td>189.16960</td>\n",
              "      <td>165.05520</td>\n",
              "      <td>26.42</td>\n",
              "      <td>12.91</td>\n",
              "      <td>1</td>\n",
              "      <td>3</td>\n",
              "      <td>1</td>\n",
              "      <td>1</td>\n",
              "      <td>0</td>\n",
              "      <td>0</td>\n",
              "      <td>3</td>\n",
              "      <td>1</td>\n",
              "      <td>3</td>\n",
              "      <td>0</td>\n",
              "      <td>2</td>\n",
              "      <td>5</td>\n",
              "      <td>2</td>\n",
              "      <td>3</td>\n",
              "      <td>-3.11</td>\n",
              "      <td>0</td>\n",
              "      <td>-2</td>\n",
              "      <td>0.000000</td>\n",
              "      <td>0.020120</td>\n",
              "      <td>0.021193</td>\n",
              "      <td>0.020455</td>\n",
              "      <td>3.192871</td>\n",
              "      <td>0.037004</td>\n",
              "      <td>0.036351</td>\n",
              "      <td>6.973569</td>\n",
              "      <td>6.969707</td>\n",
              "      <td>0</td>\n",
              "      <td>33</td>\n",
              "    </tr>\n",
              "    <tr>\n",
              "      <th>2018090600:320:1</th>\n",
              "      <td>1</td>\n",
              "      <td>0</td>\n",
              "      <td>3</td>\n",
              "      <td>3</td>\n",
              "      <td>1</td>\n",
              "      <td>187.12510</td>\n",
              "      <td>153.20020</td>\n",
              "      <td>27.80</td>\n",
              "      <td>13.29</td>\n",
              "      <td>1</td>\n",
              "      <td>3</td>\n",
              "      <td>1</td>\n",
              "      <td>1</td>\n",
              "      <td>0</td>\n",
              "      <td>0</td>\n",
              "      <td>2</td>\n",
              "      <td>3</td>\n",
              "      <td>3</td>\n",
              "      <td>1</td>\n",
              "      <td>3</td>\n",
              "      <td>5</td>\n",
              "      <td>3</td>\n",
              "      <td>2</td>\n",
              "      <td>-4.82</td>\n",
              "      <td>0</td>\n",
              "      <td>-3</td>\n",
              "      <td>0.000000</td>\n",
              "      <td>0.018995</td>\n",
              "      <td>0.019537</td>\n",
              "      <td>0.021279</td>\n",
              "      <td>4.281979</td>\n",
              "      <td>0.042752</td>\n",
              "      <td>0.045692</td>\n",
              "      <td>7.978624</td>\n",
              "      <td>7.980418</td>\n",
              "      <td>0</td>\n",
              "      <td>4</td>\n",
              "    </tr>\n",
              "    <tr>\n",
              "      <th>...</th>\n",
              "      <td>...</td>\n",
              "      <td>...</td>\n",
              "      <td>...</td>\n",
              "      <td>...</td>\n",
              "      <td>...</td>\n",
              "      <td>...</td>\n",
              "      <td>...</td>\n",
              "      <td>...</td>\n",
              "      <td>...</td>\n",
              "      <td>...</td>\n",
              "      <td>...</td>\n",
              "      <td>...</td>\n",
              "      <td>...</td>\n",
              "      <td>...</td>\n",
              "      <td>...</td>\n",
              "      <td>...</td>\n",
              "      <td>...</td>\n",
              "      <td>...</td>\n",
              "      <td>...</td>\n",
              "      <td>...</td>\n",
              "      <td>...</td>\n",
              "      <td>...</td>\n",
              "      <td>...</td>\n",
              "      <td>...</td>\n",
              "      <td>...</td>\n",
              "      <td>...</td>\n",
              "      <td>...</td>\n",
              "      <td>...</td>\n",
              "      <td>...</td>\n",
              "      <td>...</td>\n",
              "      <td>...</td>\n",
              "      <td>...</td>\n",
              "      <td>...</td>\n",
              "      <td>...</td>\n",
              "      <td>...</td>\n",
              "      <td>...</td>\n",
              "      <td>...</td>\n",
              "    </tr>\n",
              "    <tr>\n",
              "      <th>2018123015:3819:17</th>\n",
              "      <td>1</td>\n",
              "      <td>0</td>\n",
              "      <td>3</td>\n",
              "      <td>3</td>\n",
              "      <td>0</td>\n",
              "      <td>169.30945</td>\n",
              "      <td>124.90995</td>\n",
              "      <td>23.43</td>\n",
              "      <td>12.71</td>\n",
              "      <td>1</td>\n",
              "      <td>2</td>\n",
              "      <td>2</td>\n",
              "      <td>1</td>\n",
              "      <td>0</td>\n",
              "      <td>0</td>\n",
              "      <td>2</td>\n",
              "      <td>3</td>\n",
              "      <td>2</td>\n",
              "      <td>0</td>\n",
              "      <td>3</td>\n",
              "      <td>4</td>\n",
              "      <td>3</td>\n",
              "      <td>2</td>\n",
              "      <td>-3.91</td>\n",
              "      <td>0</td>\n",
              "      <td>-2</td>\n",
              "      <td>0.000000</td>\n",
              "      <td>0.017582</td>\n",
              "      <td>0.019208</td>\n",
              "      <td>0.000000</td>\n",
              "      <td>4.867507</td>\n",
              "      <td>0.041344</td>\n",
              "      <td>0.048035</td>\n",
              "      <td>6.970468</td>\n",
              "      <td>6.959971</td>\n",
              "      <td>0</td>\n",
              "      <td>12</td>\n",
              "    </tr>\n",
              "    <tr>\n",
              "      <th>2018123015:3932:17</th>\n",
              "      <td>0</td>\n",
              "      <td>0</td>\n",
              "      <td>1</td>\n",
              "      <td>4</td>\n",
              "      <td>2</td>\n",
              "      <td>327.34785</td>\n",
              "      <td>327.34785</td>\n",
              "      <td>35.76</td>\n",
              "      <td>13.20</td>\n",
              "      <td>1</td>\n",
              "      <td>3</td>\n",
              "      <td>1</td>\n",
              "      <td>1</td>\n",
              "      <td>0</td>\n",
              "      <td>0</td>\n",
              "      <td>2</td>\n",
              "      <td>2</td>\n",
              "      <td>3</td>\n",
              "      <td>0</td>\n",
              "      <td>3</td>\n",
              "      <td>4</td>\n",
              "      <td>3</td>\n",
              "      <td>2</td>\n",
              "      <td>-0.97</td>\n",
              "      <td>0</td>\n",
              "      <td>-2</td>\n",
              "      <td>0.000000</td>\n",
              "      <td>0.016636</td>\n",
              "      <td>0.018979</td>\n",
              "      <td>0.019819</td>\n",
              "      <td>2.120069</td>\n",
              "      <td>0.021384</td>\n",
              "      <td>0.021384</td>\n",
              "      <td>6.987781</td>\n",
              "      <td>6.987781</td>\n",
              "      <td>2</td>\n",
              "      <td>-3</td>\n",
              "    </tr>\n",
              "    <tr>\n",
              "      <th>2018123015:3969:17</th>\n",
              "      <td>0</td>\n",
              "      <td>1</td>\n",
              "      <td>1</td>\n",
              "      <td>4</td>\n",
              "      <td>1</td>\n",
              "      <td>293.39745</td>\n",
              "      <td>293.39745</td>\n",
              "      <td>26.24</td>\n",
              "      <td>14.67</td>\n",
              "      <td>1</td>\n",
              "      <td>3</td>\n",
              "      <td>1</td>\n",
              "      <td>1</td>\n",
              "      <td>0</td>\n",
              "      <td>0</td>\n",
              "      <td>2</td>\n",
              "      <td>1</td>\n",
              "      <td>4</td>\n",
              "      <td>1</td>\n",
              "      <td>3</td>\n",
              "      <td>4</td>\n",
              "      <td>2</td>\n",
              "      <td>3</td>\n",
              "      <td>0.07</td>\n",
              "      <td>-1</td>\n",
              "      <td>-1</td>\n",
              "      <td>0.018878</td>\n",
              "      <td>0.016636</td>\n",
              "      <td>0.019862</td>\n",
              "      <td>0.019789</td>\n",
              "      <td>2.307450</td>\n",
              "      <td>0.023858</td>\n",
              "      <td>0.023858</td>\n",
              "      <td>6.982958</td>\n",
              "      <td>6.982958</td>\n",
              "      <td>2</td>\n",
              "      <td>0</td>\n",
              "    </tr>\n",
              "    <tr>\n",
              "      <th>2018123015:4057:17</th>\n",
              "      <td>0</td>\n",
              "      <td>0</td>\n",
              "      <td>2</td>\n",
              "      <td>3</td>\n",
              "      <td>2</td>\n",
              "      <td>223.81860</td>\n",
              "      <td>223.81860</td>\n",
              "      <td>36.23</td>\n",
              "      <td>11.62</td>\n",
              "      <td>1</td>\n",
              "      <td>3</td>\n",
              "      <td>1</td>\n",
              "      <td>1</td>\n",
              "      <td>0</td>\n",
              "      <td>0</td>\n",
              "      <td>3</td>\n",
              "      <td>2</td>\n",
              "      <td>2</td>\n",
              "      <td>0</td>\n",
              "      <td>3</td>\n",
              "      <td>4</td>\n",
              "      <td>2</td>\n",
              "      <td>3</td>\n",
              "      <td>-0.94</td>\n",
              "      <td>-1</td>\n",
              "      <td>-1</td>\n",
              "      <td>0.000000</td>\n",
              "      <td>0.019526</td>\n",
              "      <td>0.019136</td>\n",
              "      <td>0.020001</td>\n",
              "      <td>2.948817</td>\n",
              "      <td>0.031275</td>\n",
              "      <td>0.031275</td>\n",
              "      <td>6.982128</td>\n",
              "      <td>6.982128</td>\n",
              "      <td>2</td>\n",
              "      <td>5</td>\n",
              "    </tr>\n",
              "    <tr>\n",
              "      <th>2018123015:4104:17</th>\n",
              "      <td>0</td>\n",
              "      <td>0</td>\n",
              "      <td>3</td>\n",
              "      <td>2</td>\n",
              "      <td>2</td>\n",
              "      <td>215.50425</td>\n",
              "      <td>215.50425</td>\n",
              "      <td>32.25</td>\n",
              "      <td>13.00</td>\n",
              "      <td>1</td>\n",
              "      <td>3</td>\n",
              "      <td>1</td>\n",
              "      <td>1</td>\n",
              "      <td>0</td>\n",
              "      <td>0</td>\n",
              "      <td>3</td>\n",
              "      <td>2</td>\n",
              "      <td>2</td>\n",
              "      <td>0</td>\n",
              "      <td>5</td>\n",
              "      <td>2</td>\n",
              "      <td>3</td>\n",
              "      <td>2</td>\n",
              "      <td>-0.88</td>\n",
              "      <td>-2</td>\n",
              "      <td>0</td>\n",
              "      <td>0.000000</td>\n",
              "      <td>0.019797</td>\n",
              "      <td>0.018535</td>\n",
              "      <td>0.020001</td>\n",
              "      <td>3.062585</td>\n",
              "      <td>0.032482</td>\n",
              "      <td>0.032482</td>\n",
              "      <td>6.981439</td>\n",
              "      <td>6.981439</td>\n",
              "      <td>2</td>\n",
              "      <td>37</td>\n",
              "    </tr>\n",
              "  </tbody>\n",
              "</table>\n",
              "<p>16415 rows × 37 columns</p>\n",
              "</div>"
            ],
            "text/plain": [
              "                    defensivelinezonePlayers  deepzonePlayers  \\\n",
              "id                                                              \n",
              "2018090600:75:1                            0                1   \n",
              "2018090600:146:1                           0                1   \n",
              "2018090600:168:1                           0                1   \n",
              "2018090600:190:1                           1                0   \n",
              "2018090600:320:1                           1                0   \n",
              "...                                      ...              ...   \n",
              "2018123015:3819:17                         1                0   \n",
              "2018123015:3932:17                         0                0   \n",
              "2018123015:3969:17                         0                1   \n",
              "2018123015:4057:17                         0                0   \n",
              "2018123015:4104:17                         0                0   \n",
              "\n",
              "                    hookzonePlayers  curlzonePlayers  flatzonePlayers  \\\n",
              "id                                                                      \n",
              "2018090600:75:1                   3                2                1   \n",
              "2018090600:146:1                  3                2                1   \n",
              "2018090600:168:1                  2                2                2   \n",
              "2018090600:190:1                  2                3                1   \n",
              "2018090600:320:1                  3                3                1   \n",
              "...                             ...              ...              ...   \n",
              "2018123015:3819:17                3                3                0   \n",
              "2018123015:3932:17                1                4                2   \n",
              "2018123015:3969:17                1                4                1   \n",
              "2018123015:4057:17                2                3                2   \n",
              "2018123015:4104:17                3                2                2   \n",
              "\n",
              "                    defenseArea  defenseAreaCoverDefenders  width  height  \\\n",
              "id                                                                          \n",
              "2018090600:75:1       194.31095                  194.31095  22.96   15.25   \n",
              "2018090600:146:1      204.17725                  204.17725  29.22   12.57   \n",
              "2018090600:168:1      277.65495                  277.65495  33.67   15.21   \n",
              "2018090600:190:1      189.16960                  165.05520  26.42   12.91   \n",
              "2018090600:320:1      187.12510                  153.20020  27.80   13.29   \n",
              "...                         ...                        ...    ...     ...   \n",
              "2018123015:3819:17    169.30945                  124.90995  23.43   12.71   \n",
              "2018123015:3932:17    327.34785                  327.34785  35.76   13.20   \n",
              "2018123015:3969:17    293.39745                  293.39745  26.24   14.67   \n",
              "2018123015:4057:17    223.81860                  223.81860  36.23   11.62   \n",
              "2018123015:4104:17    215.50425                  215.50425  32.25   13.00   \n",
              "\n",
              "                    numberQBs  numberWRs  numberTEs  numberRBs  numberFBs  \\\n",
              "id                                                                          \n",
              "2018090600:75:1             1          2          1          1          1   \n",
              "2018090600:146:1            1          3          1          1          0   \n",
              "2018090600:168:1            1          2          1          2          0   \n",
              "2018090600:190:1            1          3          1          1          0   \n",
              "2018090600:320:1            1          3          1          1          0   \n",
              "...                       ...        ...        ...        ...        ...   \n",
              "2018123015:3819:17          1          2          2          1          0   \n",
              "2018123015:3932:17          1          3          1          1          0   \n",
              "2018123015:3969:17          1          3          1          1          0   \n",
              "2018123015:4057:17          1          3          1          1          0   \n",
              "2018123015:4104:17          1          3          1          1          0   \n",
              "\n",
              "                    numberOffensivePlayersAnotherPosition  numberSafeties  \\\n",
              "id                                                                          \n",
              "2018090600:75:1                                         0               3   \n",
              "2018090600:146:1                                        0               2   \n",
              "2018090600:168:1                                        0               2   \n",
              "2018090600:190:1                                        0               3   \n",
              "2018090600:320:1                                        0               2   \n",
              "...                                                   ...             ...   \n",
              "2018123015:3819:17                                      0               2   \n",
              "2018123015:3932:17                                      0               2   \n",
              "2018123015:3969:17                                      0               2   \n",
              "2018123015:4057:17                                      0               3   \n",
              "2018123015:4104:17                                      0               3   \n",
              "\n",
              "                    numberLBs  numberCBs  strongSide  \\\n",
              "id                                                     \n",
              "2018090600:75:1             2          2           1   \n",
              "2018090600:146:1            2          3           0   \n",
              "2018090600:168:1            2          3           1   \n",
              "2018090600:190:1            1          3           0   \n",
              "2018090600:320:1            3          3           1   \n",
              "...                       ...        ...         ...   \n",
              "2018123015:3819:17          3          2           0   \n",
              "2018123015:3932:17          2          3           0   \n",
              "2018123015:3969:17          1          4           1   \n",
              "2018123015:4057:17          2          2           0   \n",
              "2018123015:4104:17          2          2           0   \n",
              "\n",
              "                    numberPlayersDefenseStrongSide  \\\n",
              "id                                                   \n",
              "2018090600:75:1                                  3   \n",
              "2018090600:146:1                                 3   \n",
              "2018090600:168:1                                 5   \n",
              "2018090600:190:1                                 2   \n",
              "2018090600:320:1                                 3   \n",
              "...                                            ...   \n",
              "2018123015:3819:17                               3   \n",
              "2018123015:3932:17                               3   \n",
              "2018123015:3969:17                               3   \n",
              "2018123015:4057:17                               3   \n",
              "2018123015:4104:17                               5   \n",
              "\n",
              "                    numberPlayersDefenseWeakSide  \\\n",
              "id                                                 \n",
              "2018090600:75:1                                4   \n",
              "2018090600:146:1                               4   \n",
              "2018090600:168:1                               2   \n",
              "2018090600:190:1                               5   \n",
              "2018090600:320:1                               5   \n",
              "...                                          ...   \n",
              "2018123015:3819:17                             4   \n",
              "2018123015:3932:17                             4   \n",
              "2018123015:3969:17                             4   \n",
              "2018123015:4057:17                             4   \n",
              "2018123015:4104:17                             2   \n",
              "\n",
              "                    numberPlayersOffenseStrongSide  \\\n",
              "id                                                   \n",
              "2018090600:75:1                                  3   \n",
              "2018090600:146:1                                 2   \n",
              "2018090600:168:1                                 4   \n",
              "2018090600:190:1                                 2   \n",
              "2018090600:320:1                                 3   \n",
              "...                                            ...   \n",
              "2018123015:3819:17                               3   \n",
              "2018123015:3932:17                               3   \n",
              "2018123015:3969:17                               2   \n",
              "2018123015:4057:17                               2   \n",
              "2018123015:4104:17                               3   \n",
              "\n",
              "                    numberPlayersOffenseWeakSide  \\\n",
              "id                                                 \n",
              "2018090600:75:1                                2   \n",
              "2018090600:146:1                               3   \n",
              "2018090600:168:1                               1   \n",
              "2018090600:190:1                               3   \n",
              "2018090600:320:1                               2   \n",
              "...                                          ...   \n",
              "2018123015:3819:17                             2   \n",
              "2018123015:3932:17                             2   \n",
              "2018123015:3969:17                             3   \n",
              "2018123015:4057:17                             3   \n",
              "2018123015:4104:17                             2   \n",
              "\n",
              "                    differenceOffenseVsDefenseWidth  \\\n",
              "id                                                    \n",
              "2018090600:75:1                               -0.63   \n",
              "2018090600:146:1                              -1.15   \n",
              "2018090600:168:1                               0.71   \n",
              "2018090600:190:1                              -3.11   \n",
              "2018090600:320:1                              -4.82   \n",
              "...                                             ...   \n",
              "2018123015:3819:17                            -3.91   \n",
              "2018123015:3932:17                            -0.97   \n",
              "2018123015:3969:17                             0.07   \n",
              "2018123015:4057:17                            -0.94   \n",
              "2018123015:4104:17                            -0.88   \n",
              "\n",
              "                    differenceOffenseVsDefenseStrongSide  \\\n",
              "id                                                         \n",
              "2018090600:75:1                                        0   \n",
              "2018090600:146:1                                      -1   \n",
              "2018090600:168:1                                      -1   \n",
              "2018090600:190:1                                       0   \n",
              "2018090600:320:1                                       0   \n",
              "...                                                  ...   \n",
              "2018123015:3819:17                                     0   \n",
              "2018123015:3932:17                                     0   \n",
              "2018123015:3969:17                                    -1   \n",
              "2018123015:4057:17                                    -1   \n",
              "2018123015:4104:17                                    -2   \n",
              "\n",
              "                    differenceOffenseVsDefenseWeakSide  HeightByWeightDeep  \\\n",
              "id                                                                           \n",
              "2018090600:75:1                                     -2            0.020227   \n",
              "2018090600:146:1                                    -1            0.020227   \n",
              "2018090600:168:1                                    -1            0.020227   \n",
              "2018090600:190:1                                    -2            0.000000   \n",
              "2018090600:320:1                                    -3            0.000000   \n",
              "...                                                ...                 ...   \n",
              "2018123015:3819:17                                  -2            0.000000   \n",
              "2018123015:3932:17                                  -2            0.000000   \n",
              "2018123015:3969:17                                  -1            0.018878   \n",
              "2018123015:4057:17                                  -1            0.000000   \n",
              "2018123015:4104:17                                   0            0.000000   \n",
              "\n",
              "                    HeightByWeightHook  HeightByWeightCurl  \\\n",
              "id                                                           \n",
              "2018090600:75:1               0.018643            0.020066   \n",
              "2018090600:146:1              0.019228            0.020356   \n",
              "2018090600:168:1              0.017683            0.020997   \n",
              "2018090600:190:1              0.020120            0.021193   \n",
              "2018090600:320:1              0.018995            0.019537   \n",
              "...                                ...                 ...   \n",
              "2018123015:3819:17            0.017582            0.019208   \n",
              "2018123015:3932:17            0.016636            0.018979   \n",
              "2018123015:3969:17            0.016636            0.019862   \n",
              "2018123015:4057:17            0.019526            0.019136   \n",
              "2018123015:4104:17            0.019797            0.018535   \n",
              "\n",
              "                    HeightByWeightFlat  WeightByArea   density  densityNoLine  \\\n",
              "id                                                                              \n",
              "2018090600:75:1               0.021034      3.376032  0.036025       0.036025   \n",
              "2018090600:146:1              0.020455      3.178611  0.034284       0.034284   \n",
              "2018090600:168:1              0.020745      2.337434  0.025211       0.025211   \n",
              "2018090600:190:1              0.020455      3.192871  0.037004       0.036351   \n",
              "2018090600:320:1              0.021279      4.281979  0.042752       0.045692   \n",
              "...                                ...           ...       ...            ...   \n",
              "2018123015:3819:17            0.000000      4.867507  0.041344       0.048035   \n",
              "2018123015:3932:17            0.019819      2.120069  0.021384       0.021384   \n",
              "2018123015:3969:17            0.019789      2.307450  0.023858       0.023858   \n",
              "2018123015:4057:17            0.020001      2.948817  0.031275       0.031275   \n",
              "2018123015:4104:17            0.020001      3.062585  0.032482       0.032482   \n",
              "\n",
              "                    densityInsidePoints  densityInsidePointsNoLine  cluster  \\\n",
              "id                                                                            \n",
              "2018090600:75:1                6.974268                   6.974268        2   \n",
              "2018090600:146:1               6.975511                   6.975511        2   \n",
              "2018090600:168:1               6.985594                   6.985594        2   \n",
              "2018090600:190:1               6.973569                   6.969707        0   \n",
              "2018090600:320:1               7.978624                   7.980418        0   \n",
              "...                                 ...                        ...      ...   \n",
              "2018123015:3819:17             6.970468                   6.959971        0   \n",
              "2018123015:3932:17             6.987781                   6.987781        2   \n",
              "2018123015:3969:17             6.982958                   6.982958        2   \n",
              "2018123015:4057:17             6.982128                   6.982128        2   \n",
              "2018123015:4104:17             6.981439                   6.981439        2   \n",
              "\n",
              "                    playResult  \n",
              "id                              \n",
              "2018090600:75:1             10  \n",
              "2018090600:146:1             0  \n",
              "2018090600:168:1             0  \n",
              "2018090600:190:1            33  \n",
              "2018090600:320:1             4  \n",
              "...                        ...  \n",
              "2018123015:3819:17          12  \n",
              "2018123015:3932:17          -3  \n",
              "2018123015:3969:17           0  \n",
              "2018123015:4057:17           5  \n",
              "2018123015:4104:17          37  \n",
              "\n",
              "[16415 rows x 37 columns]"
            ]
          },
          "metadata": {
            "tags": []
          },
          "execution_count": 9
        }
      ]
    },
    {
      "cell_type": "markdown",
      "metadata": {
        "id": "N3a6neYxiNS9"
      },
      "source": [
        "#Eliminar big plays"
      ]
    },
    {
      "cell_type": "markdown",
      "metadata": {
        "id": "5B__FjjHSdmf"
      },
      "source": [
        "##Big plays ofensivas"
      ]
    },
    {
      "cell_type": "code",
      "metadata": {
        "id": "ivJHrKVMSkKx"
      },
      "source": [
        "big_plays_offense = static_defenses_ss[static_defenses_ss[\"playResult\"]>=16]"
      ],
      "execution_count": null,
      "outputs": []
    },
    {
      "cell_type": "code",
      "metadata": {
        "id": "PyARKuPKSpg4"
      },
      "source": [
        "static_defenses_ss.drop(static_defenses_ss[static_defenses_ss[\"playResult\"]>=16].index,inplace=True)\n",
        "static_defenses_mms.drop(static_defenses_mms[static_defenses_mms[\"playResult\"]>=16].index,inplace=True)\n",
        "static_defenses_rs.drop(static_defenses_rs[static_defenses_rs[\"playResult\"]>=16].index,inplace=True)\n",
        "static_defenses_pt.drop(static_defenses_pt[static_defenses_pt[\"playResult\"]>=16].index,inplace=True)"
      ],
      "execution_count": null,
      "outputs": []
    },
    {
      "cell_type": "markdown",
      "metadata": {
        "id": "l20Mv21ZSh3q"
      },
      "source": [
        "##Big plays defensivas"
      ]
    },
    {
      "cell_type": "code",
      "metadata": {
        "id": "vCnHdCAyS6Ci"
      },
      "source": [
        "big_play_defense = static_defenses_ss[static_defenses_ss[\"playResult\"]<=-7]"
      ],
      "execution_count": null,
      "outputs": []
    },
    {
      "cell_type": "code",
      "metadata": {
        "id": "MBn1N_3jTE8t"
      },
      "source": [
        "static_defenses_ss.drop(static_defenses_ss[static_defenses_ss[\"playResult\"]<=-7].index,inplace=True)\n",
        "static_defenses_mms.drop(static_defenses_mms[static_defenses_mms[\"playResult\"]<=-7].index,inplace=True)\n",
        "static_defenses_rs.drop(static_defenses_rs[static_defenses_rs[\"playResult\"]<=-7].index,inplace=True)\n",
        "static_defenses_pt.drop(static_defenses_pt[static_defenses_pt[\"playResult\"]<=-7].index,inplace=True)"
      ],
      "execution_count": null,
      "outputs": []
    },
    {
      "cell_type": "markdown",
      "metadata": {
        "id": "wPEg7kqwyrP_"
      },
      "source": [
        "#StandardScaler"
      ]
    },
    {
      "cell_type": "markdown",
      "metadata": {
        "id": "hIifY9NkyuXu"
      },
      "source": [
        "##Incluyendo cluster en el pca"
      ]
    },
    {
      "cell_type": "markdown",
      "metadata": {
        "id": "J0ftM8_uy5OM"
      },
      "source": [
        "###Normalización del dataset"
      ]
    },
    {
      "cell_type": "code",
      "metadata": {
        "id": "transparent-planner"
      },
      "source": [
        "scaler = preprocessing.StandardScaler()\n",
        "static_defenses1 = scaler.fit_transform(static_defenses_ss.drop([\"playResult\"],axis=1))"
      ],
      "execution_count": null,
      "outputs": []
    },
    {
      "cell_type": "code",
      "metadata": {
        "colab": {
          "base_uri": "https://localhost:8080/"
        },
        "id": "3NCsnvYs3HDr",
        "outputId": "3fcfd45e-bc95-4989-a3fc-2e01b6074468"
      },
      "source": [
        "pca_ss = PCA ()\n",
        "X_pca_ss = pca_ss.fit_transform(static_defenses1)\n",
        "X_pca_ss.shape"
      ],
      "execution_count": null,
      "outputs": [
        {
          "output_type": "execute_result",
          "data": {
            "text/plain": [
              "(13055, 36)"
            ]
          },
          "metadata": {
            "tags": []
          },
          "execution_count": 17
        }
      ]
    },
    {
      "cell_type": "code",
      "metadata": {
        "colab": {
          "base_uri": "https://localhost:8080/",
          "height": 542
        },
        "id": "yG-RyvZm3Jy_",
        "outputId": "5eb08172-026d-43d1-9623-92a925404acd"
      },
      "source": [
        "exp_var_cumul = np.cumsum(pca_ss.explained_variance_ratio_)\n",
        "\n",
        "px.area(\n",
        "    x=range(1, exp_var_cumul.shape[0] + 1),\n",
        "    y=exp_var_cumul,\n",
        "    labels={\"x\": \"# Components\", \"y\": \"Explained Variance\"}\n",
        ")"
      ],
      "execution_count": null,
      "outputs": [
        {
          "output_type": "display_data",
          "data": {
            "text/html": [
              "<html>\n",
              "<head><meta charset=\"utf-8\" /></head>\n",
              "<body>\n",
              "    <div>\n",
              "            <script src=\"https://cdnjs.cloudflare.com/ajax/libs/mathjax/2.7.5/MathJax.js?config=TeX-AMS-MML_SVG\"></script><script type=\"text/javascript\">if (window.MathJax) {MathJax.Hub.Config({SVG: {font: \"STIX-Web\"}});}</script>\n",
              "                <script type=\"text/javascript\">window.PlotlyConfig = {MathJaxConfig: 'local'};</script>\n",
              "        <script src=\"https://cdn.plot.ly/plotly-latest.min.js\"></script>    \n",
              "            <div id=\"a4c6fb08-7db6-4894-af17-9c57785ee11c\" class=\"plotly-graph-div\" style=\"height:525px; width:100%;\"></div>\n",
              "            <script type=\"text/javascript\">\n",
              "                \n",
              "                    window.PLOTLYENV=window.PLOTLYENV || {};\n",
              "                    \n",
              "                if (document.getElementById(\"a4c6fb08-7db6-4894-af17-9c57785ee11c\")) {\n",
              "                    Plotly.newPlot(\n",
              "                        'a4c6fb08-7db6-4894-af17-9c57785ee11c',\n",
              "                        [{\"hoverlabel\": {\"namelength\": 0}, \"hovertemplate\": \"# Components=%{x}<br>Explained Variance=%{y}\", \"legendgroup\": \"\", \"line\": {\"color\": \"#636efa\"}, \"mode\": \"lines\", \"name\": \"\", \"orientation\": \"v\", \"showlegend\": false, \"stackgroup\": \"1\", \"type\": \"scatter\", \"x\": [1, 2, 3, 4, 5, 6, 7, 8, 9, 10, 11, 12, 13, 14, 15, 16, 17, 18, 19, 20, 21, 22, 23, 24, 25, 26, 27, 28, 29, 30, 31, 32, 33, 34, 35, 36], \"xaxis\": \"x\", \"y\": [0.22153704575513825, 0.3525323891835666, 0.4332136146537176, 0.5008100197156682, 0.5622121555897464, 0.6178495195746623, 0.6604296194076466, 0.6960142244965148, 0.7277657322744956, 0.7576854086024918, 0.7866514523566019, 0.8155298603997622, 0.8426437893438679, 0.8686131069783571, 0.8939038985991888, 0.9137062247074681, 0.9327981164051702, 0.9474359550667412, 0.9603394256961797, 0.9703626015246469, 0.9794016297731994, 0.986892336702458, 0.9913363988291303, 0.9942437858579619, 0.9965191768799462, 0.9981932994684843, 0.9991567855549742, 0.9995881516735913, 0.9998317782967145, 0.9999098591153494, 0.9999669775622927, 0.9999984052262211, 0.9999997811000475, 1.0, 1.0, 1.0], \"yaxis\": \"y\"}],\n",
              "                        {\"legend\": {\"tracegroupgap\": 0}, \"margin\": {\"t\": 60}, \"template\": {\"data\": {\"bar\": [{\"error_x\": {\"color\": \"#2a3f5f\"}, \"error_y\": {\"color\": \"#2a3f5f\"}, \"marker\": {\"line\": {\"color\": \"#E5ECF6\", \"width\": 0.5}}, \"type\": \"bar\"}], \"barpolar\": [{\"marker\": {\"line\": {\"color\": \"#E5ECF6\", \"width\": 0.5}}, \"type\": \"barpolar\"}], \"carpet\": [{\"aaxis\": {\"endlinecolor\": \"#2a3f5f\", \"gridcolor\": \"white\", \"linecolor\": \"white\", \"minorgridcolor\": \"white\", \"startlinecolor\": \"#2a3f5f\"}, \"baxis\": {\"endlinecolor\": \"#2a3f5f\", \"gridcolor\": \"white\", \"linecolor\": \"white\", \"minorgridcolor\": \"white\", \"startlinecolor\": \"#2a3f5f\"}, \"type\": \"carpet\"}], \"choropleth\": [{\"colorbar\": {\"outlinewidth\": 0, \"ticks\": \"\"}, \"type\": \"choropleth\"}], \"contour\": [{\"colorbar\": {\"outlinewidth\": 0, \"ticks\": \"\"}, \"colorscale\": [[0.0, \"#0d0887\"], [0.1111111111111111, \"#46039f\"], [0.2222222222222222, \"#7201a8\"], [0.3333333333333333, \"#9c179e\"], [0.4444444444444444, \"#bd3786\"], [0.5555555555555556, \"#d8576b\"], [0.6666666666666666, \"#ed7953\"], [0.7777777777777778, \"#fb9f3a\"], [0.8888888888888888, \"#fdca26\"], [1.0, \"#f0f921\"]], \"type\": \"contour\"}], \"contourcarpet\": [{\"colorbar\": {\"outlinewidth\": 0, \"ticks\": \"\"}, \"type\": \"contourcarpet\"}], \"heatmap\": [{\"colorbar\": {\"outlinewidth\": 0, \"ticks\": \"\"}, \"colorscale\": [[0.0, \"#0d0887\"], [0.1111111111111111, \"#46039f\"], [0.2222222222222222, \"#7201a8\"], [0.3333333333333333, \"#9c179e\"], [0.4444444444444444, \"#bd3786\"], [0.5555555555555556, \"#d8576b\"], [0.6666666666666666, \"#ed7953\"], [0.7777777777777778, \"#fb9f3a\"], [0.8888888888888888, \"#fdca26\"], [1.0, \"#f0f921\"]], \"type\": \"heatmap\"}], \"heatmapgl\": [{\"colorbar\": {\"outlinewidth\": 0, \"ticks\": \"\"}, \"colorscale\": [[0.0, \"#0d0887\"], [0.1111111111111111, \"#46039f\"], [0.2222222222222222, \"#7201a8\"], [0.3333333333333333, \"#9c179e\"], [0.4444444444444444, \"#bd3786\"], [0.5555555555555556, \"#d8576b\"], [0.6666666666666666, \"#ed7953\"], [0.7777777777777778, \"#fb9f3a\"], [0.8888888888888888, \"#fdca26\"], [1.0, \"#f0f921\"]], \"type\": \"heatmapgl\"}], \"histogram\": [{\"marker\": {\"colorbar\": {\"outlinewidth\": 0, \"ticks\": \"\"}}, \"type\": \"histogram\"}], \"histogram2d\": [{\"colorbar\": {\"outlinewidth\": 0, \"ticks\": \"\"}, \"colorscale\": [[0.0, \"#0d0887\"], [0.1111111111111111, \"#46039f\"], [0.2222222222222222, \"#7201a8\"], [0.3333333333333333, \"#9c179e\"], [0.4444444444444444, \"#bd3786\"], [0.5555555555555556, \"#d8576b\"], [0.6666666666666666, \"#ed7953\"], [0.7777777777777778, \"#fb9f3a\"], [0.8888888888888888, \"#fdca26\"], [1.0, \"#f0f921\"]], \"type\": \"histogram2d\"}], \"histogram2dcontour\": [{\"colorbar\": {\"outlinewidth\": 0, \"ticks\": \"\"}, \"colorscale\": [[0.0, \"#0d0887\"], [0.1111111111111111, \"#46039f\"], [0.2222222222222222, \"#7201a8\"], [0.3333333333333333, \"#9c179e\"], [0.4444444444444444, \"#bd3786\"], [0.5555555555555556, \"#d8576b\"], [0.6666666666666666, \"#ed7953\"], [0.7777777777777778, \"#fb9f3a\"], [0.8888888888888888, \"#fdca26\"], [1.0, \"#f0f921\"]], \"type\": \"histogram2dcontour\"}], \"mesh3d\": [{\"colorbar\": {\"outlinewidth\": 0, \"ticks\": \"\"}, \"type\": \"mesh3d\"}], \"parcoords\": [{\"line\": {\"colorbar\": {\"outlinewidth\": 0, \"ticks\": \"\"}}, \"type\": \"parcoords\"}], \"pie\": [{\"automargin\": true, \"type\": \"pie\"}], \"scatter\": [{\"marker\": {\"colorbar\": {\"outlinewidth\": 0, \"ticks\": \"\"}}, \"type\": \"scatter\"}], \"scatter3d\": [{\"line\": {\"colorbar\": {\"outlinewidth\": 0, \"ticks\": \"\"}}, \"marker\": {\"colorbar\": {\"outlinewidth\": 0, \"ticks\": \"\"}}, \"type\": \"scatter3d\"}], \"scattercarpet\": [{\"marker\": {\"colorbar\": {\"outlinewidth\": 0, \"ticks\": \"\"}}, \"type\": \"scattercarpet\"}], \"scattergeo\": [{\"marker\": {\"colorbar\": {\"outlinewidth\": 0, \"ticks\": \"\"}}, \"type\": \"scattergeo\"}], \"scattergl\": [{\"marker\": {\"colorbar\": {\"outlinewidth\": 0, \"ticks\": \"\"}}, \"type\": \"scattergl\"}], \"scattermapbox\": [{\"marker\": {\"colorbar\": {\"outlinewidth\": 0, \"ticks\": \"\"}}, \"type\": \"scattermapbox\"}], \"scatterpolar\": [{\"marker\": {\"colorbar\": {\"outlinewidth\": 0, \"ticks\": \"\"}}, \"type\": \"scatterpolar\"}], \"scatterpolargl\": [{\"marker\": {\"colorbar\": {\"outlinewidth\": 0, \"ticks\": \"\"}}, \"type\": \"scatterpolargl\"}], \"scatterternary\": [{\"marker\": {\"colorbar\": {\"outlinewidth\": 0, \"ticks\": \"\"}}, \"type\": \"scatterternary\"}], \"surface\": [{\"colorbar\": {\"outlinewidth\": 0, \"ticks\": \"\"}, \"colorscale\": [[0.0, \"#0d0887\"], [0.1111111111111111, \"#46039f\"], [0.2222222222222222, \"#7201a8\"], [0.3333333333333333, \"#9c179e\"], [0.4444444444444444, \"#bd3786\"], [0.5555555555555556, \"#d8576b\"], [0.6666666666666666, \"#ed7953\"], [0.7777777777777778, \"#fb9f3a\"], [0.8888888888888888, \"#fdca26\"], [1.0, \"#f0f921\"]], \"type\": \"surface\"}], \"table\": [{\"cells\": {\"fill\": {\"color\": \"#EBF0F8\"}, \"line\": {\"color\": \"white\"}}, \"header\": {\"fill\": {\"color\": \"#C8D4E3\"}, \"line\": {\"color\": \"white\"}}, \"type\": \"table\"}]}, \"layout\": {\"annotationdefaults\": {\"arrowcolor\": \"#2a3f5f\", \"arrowhead\": 0, \"arrowwidth\": 1}, \"coloraxis\": {\"colorbar\": {\"outlinewidth\": 0, \"ticks\": \"\"}}, \"colorscale\": {\"diverging\": [[0, \"#8e0152\"], [0.1, \"#c51b7d\"], [0.2, \"#de77ae\"], [0.3, \"#f1b6da\"], [0.4, \"#fde0ef\"], [0.5, \"#f7f7f7\"], [0.6, \"#e6f5d0\"], [0.7, \"#b8e186\"], [0.8, \"#7fbc41\"], [0.9, \"#4d9221\"], [1, \"#276419\"]], \"sequential\": [[0.0, \"#0d0887\"], [0.1111111111111111, \"#46039f\"], [0.2222222222222222, \"#7201a8\"], [0.3333333333333333, \"#9c179e\"], [0.4444444444444444, \"#bd3786\"], [0.5555555555555556, \"#d8576b\"], [0.6666666666666666, \"#ed7953\"], [0.7777777777777778, \"#fb9f3a\"], [0.8888888888888888, \"#fdca26\"], [1.0, \"#f0f921\"]], \"sequentialminus\": [[0.0, \"#0d0887\"], [0.1111111111111111, \"#46039f\"], [0.2222222222222222, \"#7201a8\"], [0.3333333333333333, \"#9c179e\"], [0.4444444444444444, \"#bd3786\"], [0.5555555555555556, \"#d8576b\"], [0.6666666666666666, \"#ed7953\"], [0.7777777777777778, \"#fb9f3a\"], [0.8888888888888888, \"#fdca26\"], [1.0, \"#f0f921\"]]}, \"colorway\": [\"#636efa\", \"#EF553B\", \"#00cc96\", \"#ab63fa\", \"#FFA15A\", \"#19d3f3\", \"#FF6692\", \"#B6E880\", \"#FF97FF\", \"#FECB52\"], \"font\": {\"color\": \"#2a3f5f\"}, \"geo\": {\"bgcolor\": \"white\", \"lakecolor\": \"white\", \"landcolor\": \"#E5ECF6\", \"showlakes\": true, \"showland\": true, \"subunitcolor\": \"white\"}, \"hoverlabel\": {\"align\": \"left\"}, \"hovermode\": \"closest\", \"mapbox\": {\"style\": \"light\"}, \"paper_bgcolor\": \"white\", \"plot_bgcolor\": \"#E5ECF6\", \"polar\": {\"angularaxis\": {\"gridcolor\": \"white\", \"linecolor\": \"white\", \"ticks\": \"\"}, \"bgcolor\": \"#E5ECF6\", \"radialaxis\": {\"gridcolor\": \"white\", \"linecolor\": \"white\", \"ticks\": \"\"}}, \"scene\": {\"xaxis\": {\"backgroundcolor\": \"#E5ECF6\", \"gridcolor\": \"white\", \"gridwidth\": 2, \"linecolor\": \"white\", \"showbackground\": true, \"ticks\": \"\", \"zerolinecolor\": \"white\"}, \"yaxis\": {\"backgroundcolor\": \"#E5ECF6\", \"gridcolor\": \"white\", \"gridwidth\": 2, \"linecolor\": \"white\", \"showbackground\": true, \"ticks\": \"\", \"zerolinecolor\": \"white\"}, \"zaxis\": {\"backgroundcolor\": \"#E5ECF6\", \"gridcolor\": \"white\", \"gridwidth\": 2, \"linecolor\": \"white\", \"showbackground\": true, \"ticks\": \"\", \"zerolinecolor\": \"white\"}}, \"shapedefaults\": {\"line\": {\"color\": \"#2a3f5f\"}}, \"ternary\": {\"aaxis\": {\"gridcolor\": \"white\", \"linecolor\": \"white\", \"ticks\": \"\"}, \"baxis\": {\"gridcolor\": \"white\", \"linecolor\": \"white\", \"ticks\": \"\"}, \"bgcolor\": \"#E5ECF6\", \"caxis\": {\"gridcolor\": \"white\", \"linecolor\": \"white\", \"ticks\": \"\"}}, \"title\": {\"x\": 0.05}, \"xaxis\": {\"automargin\": true, \"gridcolor\": \"white\", \"linecolor\": \"white\", \"ticks\": \"\", \"title\": {\"standoff\": 15}, \"zerolinecolor\": \"white\", \"zerolinewidth\": 2}, \"yaxis\": {\"automargin\": true, \"gridcolor\": \"white\", \"linecolor\": \"white\", \"ticks\": \"\", \"title\": {\"standoff\": 15}, \"zerolinecolor\": \"white\", \"zerolinewidth\": 2}}}, \"xaxis\": {\"anchor\": \"y\", \"domain\": [0.0, 1.0], \"title\": {\"text\": \"# Components\"}}, \"yaxis\": {\"anchor\": \"x\", \"domain\": [0.0, 1.0], \"title\": {\"text\": \"Explained Variance\"}}},\n",
              "                        {\"responsive\": true}\n",
              "                    ).then(function(){\n",
              "                            \n",
              "var gd = document.getElementById('a4c6fb08-7db6-4894-af17-9c57785ee11c');\n",
              "var x = new MutationObserver(function (mutations, observer) {{\n",
              "        var display = window.getComputedStyle(gd).display;\n",
              "        if (!display || display === 'none') {{\n",
              "            console.log([gd, 'removed!']);\n",
              "            Plotly.purge(gd);\n",
              "            observer.disconnect();\n",
              "        }}\n",
              "}});\n",
              "\n",
              "// Listen for the removal of the full notebook cells\n",
              "var notebookContainer = gd.closest('#notebook-container');\n",
              "if (notebookContainer) {{\n",
              "    x.observe(notebookContainer, {childList: true});\n",
              "}}\n",
              "\n",
              "// Listen for the clearing of the current output cell\n",
              "var outputEl = gd.closest('.output');\n",
              "if (outputEl) {{\n",
              "    x.observe(outputEl, {childList: true});\n",
              "}}\n",
              "\n",
              "                        })\n",
              "                };\n",
              "                \n",
              "            </script>\n",
              "        </div>\n",
              "</body>\n",
              "</html>"
            ]
          },
          "metadata": {
            "tags": []
          }
        }
      ]
    },
    {
      "cell_type": "code",
      "metadata": {
        "colab": {
          "base_uri": "https://localhost:8080/"
        },
        "id": "KDK01lJShIMu",
        "outputId": "ce55cb0d-f7ff-44c5-843c-cb8b3a8c79eb"
      },
      "source": [
        "X_pca_ss = PCA(n_components = 14).fit_transform(static_defenses1)\n",
        "X_pca_ss.shape"
      ],
      "execution_count": null,
      "outputs": [
        {
          "output_type": "execute_result",
          "data": {
            "text/plain": [
              "(13055, 14)"
            ]
          },
          "metadata": {
            "tags": []
          },
          "execution_count": 19
        }
      ]
    },
    {
      "cell_type": "code",
      "metadata": {
        "colab": {
          "base_uri": "https://localhost:8080/",
          "height": 206
        },
        "id": "mL4vaE1OTg_U",
        "outputId": "c6d386cd-ae05-43d4-e0e0-96006f6f8fd0"
      },
      "source": [
        "train_ss = pd.DataFrame(X_pca_ss)\n",
        "train_ss[\"playResult\"] = static_defenses_ss[\"playResult\"].values\n",
        "train_ss.head()"
      ],
      "execution_count": null,
      "outputs": [
        {
          "output_type": "execute_result",
          "data": {
            "text/html": [
              "<div>\n",
              "<style scoped>\n",
              "    .dataframe tbody tr th:only-of-type {\n",
              "        vertical-align: middle;\n",
              "    }\n",
              "\n",
              "    .dataframe tbody tr th {\n",
              "        vertical-align: top;\n",
              "    }\n",
              "\n",
              "    .dataframe thead th {\n",
              "        text-align: right;\n",
              "    }\n",
              "</style>\n",
              "<table border=\"1\" class=\"dataframe\">\n",
              "  <thead>\n",
              "    <tr style=\"text-align: right;\">\n",
              "      <th></th>\n",
              "      <th>0</th>\n",
              "      <th>1</th>\n",
              "      <th>2</th>\n",
              "      <th>3</th>\n",
              "      <th>4</th>\n",
              "      <th>5</th>\n",
              "      <th>6</th>\n",
              "      <th>7</th>\n",
              "      <th>8</th>\n",
              "      <th>9</th>\n",
              "      <th>10</th>\n",
              "      <th>11</th>\n",
              "      <th>12</th>\n",
              "      <th>13</th>\n",
              "      <th>playResult</th>\n",
              "    </tr>\n",
              "  </thead>\n",
              "  <tbody>\n",
              "    <tr>\n",
              "      <th>0</th>\n",
              "      <td>-0.415502</td>\n",
              "      <td>-2.604525</td>\n",
              "      <td>0.398728</td>\n",
              "      <td>1.726699</td>\n",
              "      <td>2.305911</td>\n",
              "      <td>-0.213223</td>\n",
              "      <td>-1.090411</td>\n",
              "      <td>1.967734</td>\n",
              "      <td>1.127472</td>\n",
              "      <td>1.671494</td>\n",
              "      <td>4.006159</td>\n",
              "      <td>-2.028701</td>\n",
              "      <td>-0.753478</td>\n",
              "      <td>0.525856</td>\n",
              "      <td>10</td>\n",
              "    </tr>\n",
              "    <tr>\n",
              "      <th>1</th>\n",
              "      <td>0.267848</td>\n",
              "      <td>-1.939551</td>\n",
              "      <td>1.451123</td>\n",
              "      <td>-0.306451</td>\n",
              "      <td>-0.510890</td>\n",
              "      <td>0.612115</td>\n",
              "      <td>-1.880438</td>\n",
              "      <td>0.440569</td>\n",
              "      <td>0.205356</td>\n",
              "      <td>-0.279999</td>\n",
              "      <td>-0.538184</td>\n",
              "      <td>0.287867</td>\n",
              "      <td>-0.456872</td>\n",
              "      <td>0.382741</td>\n",
              "      <td>0</td>\n",
              "    </tr>\n",
              "    <tr>\n",
              "      <th>2</th>\n",
              "      <td>2.570961</td>\n",
              "      <td>-2.396788</td>\n",
              "      <td>-3.262322</td>\n",
              "      <td>1.687738</td>\n",
              "      <td>0.539186</td>\n",
              "      <td>-0.462604</td>\n",
              "      <td>-0.255875</td>\n",
              "      <td>-0.186842</td>\n",
              "      <td>-2.073579</td>\n",
              "      <td>3.371101</td>\n",
              "      <td>-1.251161</td>\n",
              "      <td>-0.167971</td>\n",
              "      <td>-0.004674</td>\n",
              "      <td>-0.238315</td>\n",
              "      <td>0</td>\n",
              "    </tr>\n",
              "    <tr>\n",
              "      <th>3</th>\n",
              "      <td>-2.009085</td>\n",
              "      <td>0.869559</td>\n",
              "      <td>0.698198</td>\n",
              "      <td>-0.862215</td>\n",
              "      <td>1.990221</td>\n",
              "      <td>-1.921175</td>\n",
              "      <td>-0.652374</td>\n",
              "      <td>0.757219</td>\n",
              "      <td>-0.961236</td>\n",
              "      <td>-0.195996</td>\n",
              "      <td>0.595881</td>\n",
              "      <td>-0.373970</td>\n",
              "      <td>0.554268</td>\n",
              "      <td>-0.759374</td>\n",
              "      <td>4</td>\n",
              "    </tr>\n",
              "    <tr>\n",
              "      <th>4</th>\n",
              "      <td>0.440371</td>\n",
              "      <td>-0.044650</td>\n",
              "      <td>-2.522695</td>\n",
              "      <td>-0.159909</td>\n",
              "      <td>0.955513</td>\n",
              "      <td>2.316975</td>\n",
              "      <td>0.415287</td>\n",
              "      <td>-0.594723</td>\n",
              "      <td>-0.219956</td>\n",
              "      <td>-1.020116</td>\n",
              "      <td>-0.673888</td>\n",
              "      <td>0.112258</td>\n",
              "      <td>-0.286509</td>\n",
              "      <td>-0.454648</td>\n",
              "      <td>0</td>\n",
              "    </tr>\n",
              "  </tbody>\n",
              "</table>\n",
              "</div>"
            ],
            "text/plain": [
              "          0         1         2         3         4         5         6  \\\n",
              "0 -0.415502 -2.604525  0.398728  1.726699  2.305911 -0.213223 -1.090411   \n",
              "1  0.267848 -1.939551  1.451123 -0.306451 -0.510890  0.612115 -1.880438   \n",
              "2  2.570961 -2.396788 -3.262322  1.687738  0.539186 -0.462604 -0.255875   \n",
              "3 -2.009085  0.869559  0.698198 -0.862215  1.990221 -1.921175 -0.652374   \n",
              "4  0.440371 -0.044650 -2.522695 -0.159909  0.955513  2.316975  0.415287   \n",
              "\n",
              "          7         8         9        10        11        12        13  \\\n",
              "0  1.967734  1.127472  1.671494  4.006159 -2.028701 -0.753478  0.525856   \n",
              "1  0.440569  0.205356 -0.279999 -0.538184  0.287867 -0.456872  0.382741   \n",
              "2 -0.186842 -2.073579  3.371101 -1.251161 -0.167971 -0.004674 -0.238315   \n",
              "3  0.757219 -0.961236 -0.195996  0.595881 -0.373970  0.554268 -0.759374   \n",
              "4 -0.594723 -0.219956 -1.020116 -0.673888  0.112258 -0.286509 -0.454648   \n",
              "\n",
              "   playResult  \n",
              "0          10  \n",
              "1           0  \n",
              "2           0  \n",
              "3           4  \n",
              "4           0  "
            ]
          },
          "metadata": {
            "tags": []
          },
          "execution_count": 20
        }
      ]
    },
    {
      "cell_type": "markdown",
      "metadata": {
        "id": "pnuVksPUSWHq"
      },
      "source": [
        "###Sin normalización"
      ]
    },
    {
      "cell_type": "code",
      "metadata": {
        "colab": {
          "base_uri": "https://localhost:8080/",
          "height": 226
        },
        "id": "llqkJTHASZJ-",
        "outputId": "1c53b25a-6bc8-40ad-9758-cf3baf1e4b3b"
      },
      "source": [
        "train_ss = static_defenses_ss\n",
        "train_ss.reset_index(drop=True,inplace=True)\n",
        "train_ss.head()"
      ],
      "execution_count": null,
      "outputs": [
        {
          "output_type": "execute_result",
          "data": {
            "text/html": [
              "<div>\n",
              "<style scoped>\n",
              "    .dataframe tbody tr th:only-of-type {\n",
              "        vertical-align: middle;\n",
              "    }\n",
              "\n",
              "    .dataframe tbody tr th {\n",
              "        vertical-align: top;\n",
              "    }\n",
              "\n",
              "    .dataframe thead th {\n",
              "        text-align: right;\n",
              "    }\n",
              "</style>\n",
              "<table border=\"1\" class=\"dataframe\">\n",
              "  <thead>\n",
              "    <tr style=\"text-align: right;\">\n",
              "      <th></th>\n",
              "      <th>defensivelinezonePlayers</th>\n",
              "      <th>deepzonePlayers</th>\n",
              "      <th>hookzonePlayers</th>\n",
              "      <th>curlzonePlayers</th>\n",
              "      <th>flatzonePlayers</th>\n",
              "      <th>defenseArea</th>\n",
              "      <th>defenseAreaCoverDefenders</th>\n",
              "      <th>width</th>\n",
              "      <th>height</th>\n",
              "      <th>numberQBs</th>\n",
              "      <th>numberWRs</th>\n",
              "      <th>numberTEs</th>\n",
              "      <th>numberRBs</th>\n",
              "      <th>numberFBs</th>\n",
              "      <th>numberOffensivePlayersAnotherPosition</th>\n",
              "      <th>numberSafeties</th>\n",
              "      <th>numberLBs</th>\n",
              "      <th>numberCBs</th>\n",
              "      <th>strongSide</th>\n",
              "      <th>numberPlayersDefenseStrongSide</th>\n",
              "      <th>numberPlayersDefenseWeakSide</th>\n",
              "      <th>numberPlayersOffenseStrongSide</th>\n",
              "      <th>numberPlayersOffenseWeakSide</th>\n",
              "      <th>differenceOffenseVsDefenseWidth</th>\n",
              "      <th>differenceOffenseVsDefenseStrongSide</th>\n",
              "      <th>differenceOffenseVsDefenseWeakSide</th>\n",
              "      <th>HeightByWeightDeep</th>\n",
              "      <th>HeightByWeightHook</th>\n",
              "      <th>HeightByWeightCurl</th>\n",
              "      <th>HeightByWeightFlat</th>\n",
              "      <th>WeightByArea</th>\n",
              "      <th>density</th>\n",
              "      <th>densityNoLine</th>\n",
              "      <th>densityInsidePoints</th>\n",
              "      <th>densityInsidePointsNoLine</th>\n",
              "      <th>cluster</th>\n",
              "      <th>playResult</th>\n",
              "    </tr>\n",
              "  </thead>\n",
              "  <tbody>\n",
              "    <tr>\n",
              "      <th>0</th>\n",
              "      <td>0</td>\n",
              "      <td>1</td>\n",
              "      <td>3</td>\n",
              "      <td>2</td>\n",
              "      <td>1</td>\n",
              "      <td>194.31095</td>\n",
              "      <td>194.31095</td>\n",
              "      <td>22.96</td>\n",
              "      <td>15.25</td>\n",
              "      <td>1</td>\n",
              "      <td>2</td>\n",
              "      <td>1</td>\n",
              "      <td>1</td>\n",
              "      <td>1</td>\n",
              "      <td>0</td>\n",
              "      <td>3</td>\n",
              "      <td>2</td>\n",
              "      <td>2</td>\n",
              "      <td>1</td>\n",
              "      <td>3</td>\n",
              "      <td>4</td>\n",
              "      <td>3</td>\n",
              "      <td>2</td>\n",
              "      <td>-0.63</td>\n",
              "      <td>0</td>\n",
              "      <td>-2</td>\n",
              "      <td>0.020227</td>\n",
              "      <td>0.018643</td>\n",
              "      <td>0.020066</td>\n",
              "      <td>0.021034</td>\n",
              "      <td>3.376032</td>\n",
              "      <td>0.036025</td>\n",
              "      <td>0.036025</td>\n",
              "      <td>6.974268</td>\n",
              "      <td>6.974268</td>\n",
              "      <td>2</td>\n",
              "      <td>10</td>\n",
              "    </tr>\n",
              "    <tr>\n",
              "      <th>1</th>\n",
              "      <td>0</td>\n",
              "      <td>1</td>\n",
              "      <td>3</td>\n",
              "      <td>2</td>\n",
              "      <td>1</td>\n",
              "      <td>204.17725</td>\n",
              "      <td>204.17725</td>\n",
              "      <td>29.22</td>\n",
              "      <td>12.57</td>\n",
              "      <td>1</td>\n",
              "      <td>3</td>\n",
              "      <td>1</td>\n",
              "      <td>1</td>\n",
              "      <td>0</td>\n",
              "      <td>0</td>\n",
              "      <td>2</td>\n",
              "      <td>2</td>\n",
              "      <td>3</td>\n",
              "      <td>0</td>\n",
              "      <td>3</td>\n",
              "      <td>4</td>\n",
              "      <td>2</td>\n",
              "      <td>3</td>\n",
              "      <td>-1.15</td>\n",
              "      <td>-1</td>\n",
              "      <td>-1</td>\n",
              "      <td>0.020227</td>\n",
              "      <td>0.019228</td>\n",
              "      <td>0.020356</td>\n",
              "      <td>0.020455</td>\n",
              "      <td>3.178611</td>\n",
              "      <td>0.034284</td>\n",
              "      <td>0.034284</td>\n",
              "      <td>6.975511</td>\n",
              "      <td>6.975511</td>\n",
              "      <td>2</td>\n",
              "      <td>0</td>\n",
              "    </tr>\n",
              "    <tr>\n",
              "      <th>2</th>\n",
              "      <td>0</td>\n",
              "      <td>1</td>\n",
              "      <td>2</td>\n",
              "      <td>2</td>\n",
              "      <td>2</td>\n",
              "      <td>277.65495</td>\n",
              "      <td>277.65495</td>\n",
              "      <td>33.67</td>\n",
              "      <td>15.21</td>\n",
              "      <td>1</td>\n",
              "      <td>2</td>\n",
              "      <td>1</td>\n",
              "      <td>2</td>\n",
              "      <td>0</td>\n",
              "      <td>0</td>\n",
              "      <td>2</td>\n",
              "      <td>2</td>\n",
              "      <td>3</td>\n",
              "      <td>1</td>\n",
              "      <td>5</td>\n",
              "      <td>2</td>\n",
              "      <td>4</td>\n",
              "      <td>1</td>\n",
              "      <td>0.71</td>\n",
              "      <td>-1</td>\n",
              "      <td>-1</td>\n",
              "      <td>0.020227</td>\n",
              "      <td>0.017683</td>\n",
              "      <td>0.020997</td>\n",
              "      <td>0.020745</td>\n",
              "      <td>2.337434</td>\n",
              "      <td>0.025211</td>\n",
              "      <td>0.025211</td>\n",
              "      <td>6.985594</td>\n",
              "      <td>6.985594</td>\n",
              "      <td>2</td>\n",
              "      <td>0</td>\n",
              "    </tr>\n",
              "    <tr>\n",
              "      <th>3</th>\n",
              "      <td>1</td>\n",
              "      <td>0</td>\n",
              "      <td>3</td>\n",
              "      <td>3</td>\n",
              "      <td>1</td>\n",
              "      <td>187.12510</td>\n",
              "      <td>153.20020</td>\n",
              "      <td>27.80</td>\n",
              "      <td>13.29</td>\n",
              "      <td>1</td>\n",
              "      <td>3</td>\n",
              "      <td>1</td>\n",
              "      <td>1</td>\n",
              "      <td>0</td>\n",
              "      <td>0</td>\n",
              "      <td>2</td>\n",
              "      <td>3</td>\n",
              "      <td>3</td>\n",
              "      <td>1</td>\n",
              "      <td>3</td>\n",
              "      <td>5</td>\n",
              "      <td>3</td>\n",
              "      <td>2</td>\n",
              "      <td>-4.82</td>\n",
              "      <td>0</td>\n",
              "      <td>-3</td>\n",
              "      <td>0.000000</td>\n",
              "      <td>0.018995</td>\n",
              "      <td>0.019537</td>\n",
              "      <td>0.021279</td>\n",
              "      <td>4.281979</td>\n",
              "      <td>0.042752</td>\n",
              "      <td>0.045692</td>\n",
              "      <td>7.978624</td>\n",
              "      <td>7.980418</td>\n",
              "      <td>0</td>\n",
              "      <td>4</td>\n",
              "    </tr>\n",
              "    <tr>\n",
              "      <th>4</th>\n",
              "      <td>1</td>\n",
              "      <td>0</td>\n",
              "      <td>3</td>\n",
              "      <td>2</td>\n",
              "      <td>2</td>\n",
              "      <td>216.25455</td>\n",
              "      <td>215.80350</td>\n",
              "      <td>36.24</td>\n",
              "      <td>11.79</td>\n",
              "      <td>1</td>\n",
              "      <td>2</td>\n",
              "      <td>2</td>\n",
              "      <td>1</td>\n",
              "      <td>0</td>\n",
              "      <td>0</td>\n",
              "      <td>2</td>\n",
              "      <td>3</td>\n",
              "      <td>3</td>\n",
              "      <td>0</td>\n",
              "      <td>5</td>\n",
              "      <td>3</td>\n",
              "      <td>3</td>\n",
              "      <td>2</td>\n",
              "      <td>-0.36</td>\n",
              "      <td>-2</td>\n",
              "      <td>-1</td>\n",
              "      <td>0.000000</td>\n",
              "      <td>0.018343</td>\n",
              "      <td>0.019688</td>\n",
              "      <td>0.021235</td>\n",
              "      <td>3.039802</td>\n",
              "      <td>0.036993</td>\n",
              "      <td>0.032437</td>\n",
              "      <td>7.972255</td>\n",
              "      <td>7.976831</td>\n",
              "      <td>2</td>\n",
              "      <td>0</td>\n",
              "    </tr>\n",
              "  </tbody>\n",
              "</table>\n",
              "</div>"
            ],
            "text/plain": [
              "   defensivelinezonePlayers  deepzonePlayers  hookzonePlayers  \\\n",
              "0                         0                1                3   \n",
              "1                         0                1                3   \n",
              "2                         0                1                2   \n",
              "3                         1                0                3   \n",
              "4                         1                0                3   \n",
              "\n",
              "   curlzonePlayers  flatzonePlayers  defenseArea  defenseAreaCoverDefenders  \\\n",
              "0                2                1    194.31095                  194.31095   \n",
              "1                2                1    204.17725                  204.17725   \n",
              "2                2                2    277.65495                  277.65495   \n",
              "3                3                1    187.12510                  153.20020   \n",
              "4                2                2    216.25455                  215.80350   \n",
              "\n",
              "   width  height  numberQBs  numberWRs  numberTEs  numberRBs  numberFBs  \\\n",
              "0  22.96   15.25          1          2          1          1          1   \n",
              "1  29.22   12.57          1          3          1          1          0   \n",
              "2  33.67   15.21          1          2          1          2          0   \n",
              "3  27.80   13.29          1          3          1          1          0   \n",
              "4  36.24   11.79          1          2          2          1          0   \n",
              "\n",
              "   numberOffensivePlayersAnotherPosition  numberSafeties  numberLBs  \\\n",
              "0                                      0               3          2   \n",
              "1                                      0               2          2   \n",
              "2                                      0               2          2   \n",
              "3                                      0               2          3   \n",
              "4                                      0               2          3   \n",
              "\n",
              "   numberCBs  strongSide  numberPlayersDefenseStrongSide  \\\n",
              "0          2           1                               3   \n",
              "1          3           0                               3   \n",
              "2          3           1                               5   \n",
              "3          3           1                               3   \n",
              "4          3           0                               5   \n",
              "\n",
              "   numberPlayersDefenseWeakSide  numberPlayersOffenseStrongSide  \\\n",
              "0                             4                               3   \n",
              "1                             4                               2   \n",
              "2                             2                               4   \n",
              "3                             5                               3   \n",
              "4                             3                               3   \n",
              "\n",
              "   numberPlayersOffenseWeakSide  differenceOffenseVsDefenseWidth  \\\n",
              "0                             2                            -0.63   \n",
              "1                             3                            -1.15   \n",
              "2                             1                             0.71   \n",
              "3                             2                            -4.82   \n",
              "4                             2                            -0.36   \n",
              "\n",
              "   differenceOffenseVsDefenseStrongSide  differenceOffenseVsDefenseWeakSide  \\\n",
              "0                                     0                                  -2   \n",
              "1                                    -1                                  -1   \n",
              "2                                    -1                                  -1   \n",
              "3                                     0                                  -3   \n",
              "4                                    -2                                  -1   \n",
              "\n",
              "   HeightByWeightDeep  HeightByWeightHook  HeightByWeightCurl  \\\n",
              "0            0.020227            0.018643            0.020066   \n",
              "1            0.020227            0.019228            0.020356   \n",
              "2            0.020227            0.017683            0.020997   \n",
              "3            0.000000            0.018995            0.019537   \n",
              "4            0.000000            0.018343            0.019688   \n",
              "\n",
              "   HeightByWeightFlat  WeightByArea   density  densityNoLine  \\\n",
              "0            0.021034      3.376032  0.036025       0.036025   \n",
              "1            0.020455      3.178611  0.034284       0.034284   \n",
              "2            0.020745      2.337434  0.025211       0.025211   \n",
              "3            0.021279      4.281979  0.042752       0.045692   \n",
              "4            0.021235      3.039802  0.036993       0.032437   \n",
              "\n",
              "   densityInsidePoints  densityInsidePointsNoLine  cluster  playResult  \n",
              "0             6.974268                   6.974268        2          10  \n",
              "1             6.975511                   6.975511        2           0  \n",
              "2             6.985594                   6.985594        2           0  \n",
              "3             7.978624                   7.980418        0           4  \n",
              "4             7.972255                   7.976831        2           0  "
            ]
          },
          "metadata": {
            "tags": []
          },
          "execution_count": 16
        }
      ]
    },
    {
      "cell_type": "markdown",
      "metadata": {
        "id": "aXZOwbbqltgM"
      },
      "source": [
        "###KNN"
      ]
    },
    {
      "cell_type": "code",
      "metadata": {
        "id": "sCfTgNtbfFDG",
        "colab": {
          "base_uri": "https://localhost:8080/",
          "height": 300
        },
        "outputId": "bf87df6e-5177-44aa-d207-e23e7fab65ea"
      },
      "source": [
        "from sklearn import neighbors\n",
        "from sklearn.model_selection import KFold\n",
        "import matplotlib.pyplot as plt\n",
        "from sklearn.metrics import mean_absolute_error\n",
        "\n",
        "cv = KFold(n_splits = 10, shuffle = False) #\n",
        "\n",
        "\n",
        "for i, weights in enumerate(['uniform', 'distance']):\n",
        "   total_scores = []\n",
        "   for n_neighbors in range(1,30):\n",
        "       fold_accuracy = []\n",
        "       knn = neighbors.KNeighborsRegressor(n_neighbors, weights=weights)\n",
        "       # verificar cada uno de los modelos con validación cruzada.\n",
        "       for train_fold, test_fold in cv.split(train_ss):\n",
        "          # División train test aleatoria\n",
        "          f_train = train_ss.loc[train_fold]\n",
        "          f_test = train_ss.loc[test_fold]\n",
        "          # entrenamiento y ejecución del modelo\n",
        "          knn.fit( X = f_train.drop([\"playResult\"],axis=1), y = f_train['playResult'])\n",
        "          y_pred = knn.predict(X = f_test.drop(['playResult'], axis = 1))\n",
        "          # evaluación del modelo\n",
        "          mae = mean_absolute_error(f_test['playResult'], y_pred)\n",
        "          fold_accuracy.append(mae)\n",
        "       total_scores.append(sum(fold_accuracy)/len(fold_accuracy))\n",
        "   \n",
        "   plt.plot(range(1,len(total_scores)+1), total_scores, \n",
        "             marker='o', label=weights)\n",
        "   print ('Min Value ' +  weights + \" : \" +  str(min(total_scores)) +\" (\" + str(np.argmin(total_scores) + 1) + \")\")\n",
        "   plt.ylabel('MAE')      \n",
        "    \n",
        "\n",
        "plt.legend()\n",
        "plt.show() \n",
        "\n"
      ],
      "execution_count": null,
      "outputs": [
        {
          "output_type": "stream",
          "text": [
            "Min Value uniform : 4.369945975332202 (29)\n",
            "Min Value distance : 4.371092347760859 (29)\n"
          ],
          "name": "stdout"
        },
        {
          "output_type": "display_data",
          "data": {
            "image/png": "[encoded data removed]",
            "text/plain": [
              "<Figure size 432x288 with 1 Axes>"
            ]
          },
          "metadata": {
            "tags": [],
            "needs_background": "light"
          }
        }
      ]
    },
    {
      "cell_type": "code",
      "metadata": {
        "id": "zKFNOdheYSm_"
      },
      "source": [
        "X_train, X_test, y_train, y_test = train_test_split(train_ss.drop([\"playResult\"],axis=1), train_ss[\"playResult\"], test_size=0.2)"
      ],
      "execution_count": null,
      "outputs": []
    },
    {
      "cell_type": "code",
      "metadata": {
        "id": "CT-gjUX1S9Em",
        "cellView": "both",
        "colab": {
          "base_uri": "https://localhost:8080/"
        },
        "outputId": "7443ff87-254f-48ee-967b-758f2be3c647"
      },
      "source": [
        "# constructor\n",
        "n_neighbors = 28\n",
        "weights = 'uniform'\n",
        "knn = neighbors.KNeighborsRegressor(n_neighbors= n_neighbors, weights=weights) \n",
        "# fit and predict\n",
        "\n",
        "knn.fit( X = X_train, y = y_train)\n",
        "y_pred = knn.predict(X = X_test)\n",
        "mae = mean_absolute_error(y_test,y_pred)\n",
        "print ('MAE', mae)"
      ],
      "execution_count": null,
      "outputs": [
        {
          "output_type": "stream",
          "text": [
            "MAE 4.382557312469224\n"
          ],
          "name": "stdout"
        }
      ]
    },
    {
      "cell_type": "code",
      "metadata": {
        "id": "TxjU9Eiw9_J5",
        "colab": {
          "base_uri": "https://localhost:8080/",
          "height": 370
        },
        "outputId": "e68fc2f5-3fc3-4472-a300-9e17aaa962ad"
      },
      "source": [
        "from sklearn.metrics import mean_absolute_error\n",
        "\n",
        "                    \n",
        "# x axis for plotting\n",
        "import numpy as np\n",
        "xx = np.stack(i for i in range(y_test.shape[0]))\n",
        "plt.plot(xx, y_test, c='r', label='data')\n",
        "#plt.plot(xx, y, c='k', label='data')\n",
        "plt.plot(xx, y_pred, c='g', label='prediction')\n",
        "plt.axis('tight')\n",
        "plt.legend()\n",
        "plt.title(\"KNeighborsRegressor (k = %i, weights = '%s')\" % (n_neighbors,\n",
        "                                                                weights))\n",
        "\n",
        "plt.show()"
      ],
      "execution_count": null,
      "outputs": [
        {
          "output_type": "stream",
          "text": [
            "/usr/local/lib/python3.7/dist-packages/IPython/core/interactiveshell.py:2822: FutureWarning:\n",
            "\n",
            "arrays to stack must be passed as a \"sequence\" type such as list or tuple. Support for non-sequence iterables such as generators is deprecated as of NumPy 1.16 and will raise an error in the future.\n",
            "\n"
          ],
          "name": "stderr"
        },
        {
          "output_type": "display_data",
          "data": {
            "image/png": "[encoded data removed]",
            "text/plain": [
              "<Figure size 432x288 with 1 Axes>"
            ]
          },
          "metadata": {
            "tags": [],
            "needs_background": "light"
          }
        }
      ]
    },
    {
      "cell_type": "markdown",
      "metadata": {
        "id": "TdrkBzdTh92j"
      },
      "source": [
        "###Decision Trees"
      ]
    },
    {
      "cell_type": "code",
      "metadata": {
        "colab": {
          "base_uri": "https://localhost:8080/",
          "height": 206
        },
        "id": "YUzbQQRXdBN7",
        "outputId": "0c5637b8-fd3a-4785-8f8f-eab9c7a70329"
      },
      "source": [
        "train_ss = pd.DataFrame(X_pca_ss)\n",
        "train_ss[\"playResult\"] = static_defenses_ss[\"playResult\"].values\n",
        "train_ss.head()"
      ],
      "execution_count": null,
      "outputs": [
        {
          "output_type": "execute_result",
          "data": {
            "text/html": [
              "<div>\n",
              "<style scoped>\n",
              "    .dataframe tbody tr th:only-of-type {\n",
              "        vertical-align: middle;\n",
              "    }\n",
              "\n",
              "    .dataframe tbody tr th {\n",
              "        vertical-align: top;\n",
              "    }\n",
              "\n",
              "    .dataframe thead th {\n",
              "        text-align: right;\n",
              "    }\n",
              "</style>\n",
              "<table border=\"1\" class=\"dataframe\">\n",
              "  <thead>\n",
              "    <tr style=\"text-align: right;\">\n",
              "      <th></th>\n",
              "      <th>0</th>\n",
              "      <th>1</th>\n",
              "      <th>2</th>\n",
              "      <th>3</th>\n",
              "      <th>4</th>\n",
              "      <th>5</th>\n",
              "      <th>6</th>\n",
              "      <th>7</th>\n",
              "      <th>8</th>\n",
              "      <th>9</th>\n",
              "      <th>10</th>\n",
              "      <th>11</th>\n",
              "      <th>12</th>\n",
              "      <th>13</th>\n",
              "      <th>playResult</th>\n",
              "    </tr>\n",
              "  </thead>\n",
              "  <tbody>\n",
              "    <tr>\n",
              "      <th>0</th>\n",
              "      <td>-0.415502</td>\n",
              "      <td>-2.604525</td>\n",
              "      <td>0.398728</td>\n",
              "      <td>1.726699</td>\n",
              "      <td>2.305911</td>\n",
              "      <td>-0.213223</td>\n",
              "      <td>-1.090411</td>\n",
              "      <td>1.967734</td>\n",
              "      <td>1.127472</td>\n",
              "      <td>1.671494</td>\n",
              "      <td>4.006159</td>\n",
              "      <td>-2.028701</td>\n",
              "      <td>-0.753478</td>\n",
              "      <td>0.525856</td>\n",
              "      <td>10</td>\n",
              "    </tr>\n",
              "    <tr>\n",
              "      <th>1</th>\n",
              "      <td>0.267848</td>\n",
              "      <td>-1.939551</td>\n",
              "      <td>1.451123</td>\n",
              "      <td>-0.306451</td>\n",
              "      <td>-0.510890</td>\n",
              "      <td>0.612115</td>\n",
              "      <td>-1.880438</td>\n",
              "      <td>0.440569</td>\n",
              "      <td>0.205356</td>\n",
              "      <td>-0.279999</td>\n",
              "      <td>-0.538184</td>\n",
              "      <td>0.287867</td>\n",
              "      <td>-0.456872</td>\n",
              "      <td>0.382741</td>\n",
              "      <td>0</td>\n",
              "    </tr>\n",
              "    <tr>\n",
              "      <th>2</th>\n",
              "      <td>2.570961</td>\n",
              "      <td>-2.396788</td>\n",
              "      <td>-3.262322</td>\n",
              "      <td>1.687738</td>\n",
              "      <td>0.539186</td>\n",
              "      <td>-0.462604</td>\n",
              "      <td>-0.255875</td>\n",
              "      <td>-0.186842</td>\n",
              "      <td>-2.073579</td>\n",
              "      <td>3.371101</td>\n",
              "      <td>-1.251161</td>\n",
              "      <td>-0.167971</td>\n",
              "      <td>-0.004674</td>\n",
              "      <td>-0.238315</td>\n",
              "      <td>0</td>\n",
              "    </tr>\n",
              "    <tr>\n",
              "      <th>3</th>\n",
              "      <td>-2.009085</td>\n",
              "      <td>0.869559</td>\n",
              "      <td>0.698198</td>\n",
              "      <td>-0.862215</td>\n",
              "      <td>1.990221</td>\n",
              "      <td>-1.921175</td>\n",
              "      <td>-0.652374</td>\n",
              "      <td>0.757219</td>\n",
              "      <td>-0.961236</td>\n",
              "      <td>-0.195996</td>\n",
              "      <td>0.595881</td>\n",
              "      <td>-0.373970</td>\n",
              "      <td>0.554268</td>\n",
              "      <td>-0.759374</td>\n",
              "      <td>4</td>\n",
              "    </tr>\n",
              "    <tr>\n",
              "      <th>4</th>\n",
              "      <td>0.440371</td>\n",
              "      <td>-0.044650</td>\n",
              "      <td>-2.522695</td>\n",
              "      <td>-0.159909</td>\n",
              "      <td>0.955513</td>\n",
              "      <td>2.316975</td>\n",
              "      <td>0.415287</td>\n",
              "      <td>-0.594723</td>\n",
              "      <td>-0.219956</td>\n",
              "      <td>-1.020116</td>\n",
              "      <td>-0.673888</td>\n",
              "      <td>0.112258</td>\n",
              "      <td>-0.286509</td>\n",
              "      <td>-0.454648</td>\n",
              "      <td>0</td>\n",
              "    </tr>\n",
              "  </tbody>\n",
              "</table>\n",
              "</div>"
            ],
            "text/plain": [
              "          0         1         2         3         4         5         6  \\\n",
              "0 -0.415502 -2.604525  0.398728  1.726699  2.305911 -0.213223 -1.090411   \n",
              "1  0.267848 -1.939551  1.451123 -0.306451 -0.510890  0.612115 -1.880438   \n",
              "2  2.570961 -2.396788 -3.262322  1.687738  0.539186 -0.462604 -0.255875   \n",
              "3 -2.009085  0.869559  0.698198 -0.862215  1.990221 -1.921175 -0.652374   \n",
              "4  0.440371 -0.044650 -2.522695 -0.159909  0.955513  2.316975  0.415287   \n",
              "\n",
              "          7         8         9        10        11        12        13  \\\n",
              "0  1.967734  1.127472  1.671494  4.006159 -2.028701 -0.753478  0.525856   \n",
              "1  0.440569  0.205356 -0.279999 -0.538184  0.287867 -0.456872  0.382741   \n",
              "2 -0.186842 -2.073579  3.371101 -1.251161 -0.167971 -0.004674 -0.238315   \n",
              "3  0.757219 -0.961236 -0.195996  0.595881 -0.373970  0.554268 -0.759374   \n",
              "4 -0.594723 -0.219956 -1.020116 -0.673888  0.112258 -0.286509 -0.454648   \n",
              "\n",
              "   playResult  \n",
              "0          10  \n",
              "1           0  \n",
              "2           0  \n",
              "3           4  \n",
              "4           0  "
            ]
          },
          "metadata": {
            "tags": []
          },
          "execution_count": 25
        }
      ]
    },
    {
      "cell_type": "code",
      "metadata": {
        "colab": {
          "base_uri": "https://localhost:8080/",
          "height": 301
        },
        "id": "MWjKd_KNI4le",
        "outputId": "a74c485a-d803-4b21-9928-a8e55a9a22da"
      },
      "source": [
        "from sklearn.tree import DecisionTreeRegressor\n",
        "from sklearn.model_selection import KFold\n",
        "import matplotlib.pyplot as plt\n",
        "from sklearn.metrics import mean_absolute_error\n",
        "import numpy as np\n",
        "\n",
        "cv = KFold(n_splits = 10, shuffle = False) #\n",
        "#  https://scikit-learn.org/stable/modules/generated/sklearn.model_selection.TimeSeriesSplit.html \n",
        "\n",
        "\n",
        "total_scores = []\n",
        "for i in range(1,30):\n",
        "    fold_accuracy = []\n",
        "    dt = DecisionTreeRegressor(max_depth=i)\n",
        "    # verificar cada uno de los modelos con validación cruzada.\n",
        "    for train_fold, test_fold in cv.split(train_ss):\n",
        "      # División train test aleatoria\n",
        "      f_train = train_ss.loc[train_fold]\n",
        "      f_test = train_ss.loc[test_fold]\n",
        "      # entrenamiento y ejecución del modelo\n",
        "      dt.fit( X = f_train.drop(['playResult'], axis=1), \n",
        "                            y = f_train['playResult'])\n",
        "      y_pred = dt.predict(X = f_test.drop(['playResult'], axis = 1))\n",
        "      # evaluación del modelo\n",
        "      mae = mean_absolute_error(f_test['playResult'], y_pred)\n",
        "      fold_accuracy.append(mae)\n",
        "    total_scores.append(sum(fold_accuracy)/len(fold_accuracy))\n",
        "   \n",
        "plt.plot(range(1,len(total_scores)+1), total_scores, \n",
        "           marker='o')\n",
        "print ('Min Value  :' +  str(min(total_scores)) +' (' + str(np.argmin(total_scores) + 1) + ')')\n",
        "plt.ylabel('MAE')      \n",
        "    \n",
        "\n",
        "plt.legend()\n",
        "plt.show() "
      ],
      "execution_count": null,
      "outputs": [
        {
          "output_type": "stream",
          "text": [
            "No handles with labels found to put in legend.\n"
          ],
          "name": "stderr"
        },
        {
          "output_type": "stream",
          "text": [
            "Min Value  :4.341451321120332 (1)\n"
          ],
          "name": "stdout"
        },
        {
          "output_type": "display_data",
          "data": {
            "image/png": "[encoded data removed]",
            "text/plain": [
              "<Figure size 432x288 with 1 Axes>"
            ]
          },
          "metadata": {
            "tags": [],
            "needs_background": "light"
          }
        }
      ]
    },
    {
      "cell_type": "code",
      "metadata": {
        "id": "T7Pc1JjdiM-m"
      },
      "source": [
        "X_train, X_test, y_train, y_test = train_test_split(train_ss.drop([\"playResult\"],axis=1),train_ss[\"playResult\"],test_size=0.1)"
      ],
      "execution_count": null,
      "outputs": []
    },
    {
      "cell_type": "code",
      "metadata": {
        "colab": {
          "base_uri": "https://localhost:8080/"
        },
        "id": "jb6i5tsKL7SF",
        "outputId": "9e39a807-2b81-4a0f-ec76-8984ad4db358"
      },
      "source": [
        "regressor = DecisionTreeRegressor(max_depth=5)\n",
        "regressor.fit( X = X_train, y = y_train)\n",
        "y_pred = regressor.predict(X = X_test)\n",
        "mae = mean_absolute_error(y_test, y_pred)\n",
        "print ('MAE', mae)\n"
      ],
      "execution_count": null,
      "outputs": [
        {
          "output_type": "stream",
          "text": [
            "MAE 4.235372492140747\n"
          ],
          "name": "stdout"
        }
      ]
    },
    {
      "cell_type": "code",
      "metadata": {
        "colab": {
          "base_uri": "https://localhost:8080/",
          "height": 370
        },
        "id": "Vpi5_MDBL5al",
        "outputId": "09c77857-3abf-4671-c786-fcf1f0ea9306"
      },
      "source": [
        "from sklearn.metrics import mean_absolute_error\n",
        "\n",
        "                    \n",
        "# x axis for plotting\n",
        "import numpy as np\n",
        "xx = np.stack(i for i in range(y_test.shape[0]))\n",
        "plt.plot(xx, y_test, c='r', label='data')\n",
        "#plt.plot(xx, y, c='k', label='data')\n",
        "plt.plot(xx, y_pred, c='g', label='prediction')\n",
        "plt.axis('tight')\n",
        "plt.legend()\n",
        "plt.title(\"DecisionTree\")\n",
        "\n",
        "plt.show()"
      ],
      "execution_count": null,
      "outputs": [
        {
          "output_type": "stream",
          "text": [
            "/usr/local/lib/python3.7/dist-packages/IPython/core/interactiveshell.py:2822: FutureWarning:\n",
            "\n",
            "arrays to stack must be passed as a \"sequence\" type such as list or tuple. Support for non-sequence iterables such as generators is deprecated as of NumPy 1.16 and will raise an error in the future.\n",
            "\n"
          ],
          "name": "stderr"
        },
        {
          "output_type": "display_data",
          "data": {
            "image/png": "[encoded data removed]",
            "text/plain": [
              "<Figure size 432x288 with 1 Axes>"
            ]
          },
          "metadata": {
            "tags": [],
            "needs_background": "light"
          }
        }
      ]
    },
    {
      "cell_type": "markdown",
      "metadata": {
        "id": "wQUoMKfwnKed"
      },
      "source": [
        "###RandomForest"
      ]
    },
    {
      "cell_type": "code",
      "metadata": {
        "id": "ZHsND2GioLy8"
      },
      "source": [
        "X_train, X_test, y_train, y_test = train_test_split(train_ss.drop([\"playResult\"],axis=1),train_ss[\"playResult\"],test_size=0.2)"
      ],
      "execution_count": null,
      "outputs": []
    },
    {
      "cell_type": "code",
      "metadata": {
        "id": "PXJdPNk51C-5",
        "colab": {
          "base_uri": "https://localhost:8080/"
        },
        "outputId": "4e330d5f-50ed-484d-a8dd-0f6e96288ca4"
      },
      "source": [
        "from sklearn.ensemble import RandomForestRegressor\n",
        "\n",
        "#1.1 Model Parametrization \n",
        "regressor = RandomForestRegressor(n_estimators= 100, max_depth = 10, criterion='mae', random_state=0)\n",
        "#1.2 Model construction\n",
        "regressor.fit(X_train, y_train)\n",
        "\n",
        "# Test\n",
        "y_pred = regressor.predict(X_test)\n",
        "\n",
        "# metrics calculation \n",
        "from sklearn.metrics import mean_absolute_error\n",
        "mae = mean_absolute_error(y_test,y_pred)\n",
        "print (\"Error Measure \",  mae)"
      ],
      "execution_count": null,
      "outputs": [
        {
          "output_type": "stream",
          "text": [
            "Error Measure  1.2536902223575999\n"
          ],
          "name": "stdout"
        }
      ]
    },
    {
      "cell_type": "code",
      "metadata": {
        "id": "sBuKUZHN1Msp",
        "colab": {
          "base_uri": "https://localhost:8080/",
          "height": 370
        },
        "outputId": "23108088-73ff-402e-e35f-327361e29e0f"
      },
      "source": [
        "#plt.subplot(2, 1, i + 1)\n",
        "# x axis for plotting\n",
        "import matplotlib.pyplot as plt\n",
        "import numpy as np\n",
        "\n",
        "xx = np.stack(i for i in range(len(y_test)))\n",
        "plt.scatter(xx, y_test, c='r', label='data')\n",
        "plt.plot(xx, y_pred, c='g', label='prediction')\n",
        "plt.axis('tight')\n",
        "plt.legend()\n",
        "plt.title(\"RandomForests Regressor\")\n",
        "\n",
        "plt.show()"
      ],
      "execution_count": null,
      "outputs": [
        {
          "output_type": "stream",
          "text": [
            "/usr/local/lib/python3.7/dist-packages/IPython/core/interactiveshell.py:2822: FutureWarning:\n",
            "\n",
            "arrays to stack must be passed as a \"sequence\" type such as list or tuple. Support for non-sequence iterables such as generators is deprecated as of NumPy 1.16 and will raise an error in the future.\n",
            "\n"
          ],
          "name": "stderr"
        },
        {
          "output_type": "display_data",
          "data": {
            "image/png": "[encoded data removed]",
            "text/plain": [
              "<Figure size 432x288 with 1 Axes>"
            ]
          },
          "metadata": {
            "tags": [],
            "needs_background": "light"
          }
        }
      ]
    },
    {
      "cell_type": "markdown",
      "metadata": {
        "id": "TG4LIH8Gyw2X"
      },
      "source": [
        "##Sin incluir cluster en el pca (aparte)"
      ]
    },
    {
      "cell_type": "markdown",
      "metadata": {
        "id": "EAipCkAyTI3I"
      },
      "source": [
        "###Normalización del dataset"
      ]
    },
    {
      "cell_type": "code",
      "metadata": {
        "id": "UyoX22XoTI3J"
      },
      "source": [
        "scaler = preprocessing.StandardScaler()\n",
        "static_defenses1 = scaler.fit_transform(static_defenses_ss.drop([\"playResult\",\"cluster\"],axis=1))"
      ],
      "execution_count": null,
      "outputs": []
    },
    {
      "cell_type": "code",
      "metadata": {
        "colab": {
          "base_uri": "https://localhost:8080/"
        },
        "id": "wmVg49IaTI3J",
        "outputId": "550c4339-41ad-45ba-b1dc-ff48d10bbb34"
      },
      "source": [
        "pca_ss = PCA ()\n",
        "X_pca_ss = pca_ss.fit_transform(static_defenses1)\n",
        "X_pca_ss.shape"
      ],
      "execution_count": null,
      "outputs": [
        {
          "output_type": "execute_result",
          "data": {
            "text/plain": [
              "(16415, 35)"
            ]
          },
          "metadata": {
            "tags": []
          },
          "execution_count": 26
        }
      ]
    },
    {
      "cell_type": "code",
      "metadata": {
        "colab": {
          "base_uri": "https://localhost:8080/",
          "height": 542
        },
        "id": "HaElTG0tTI3M",
        "outputId": "7ba4db81-dbf5-4e0b-869a-44c2b867acd8"
      },
      "source": [
        "exp_var_cumul = np.cumsum(pca_ss.explained_variance_ratio_)\n",
        "\n",
        "px.area(\n",
        "    x=range(1, exp_var_cumul.shape[0] + 1),\n",
        "    y=exp_var_cumul,\n",
        "    labels={\"x\": \"# Components\", \"y\": \"Explained Variance\"}\n",
        ")"
      ],
      "execution_count": null,
      "outputs": [
        {
          "output_type": "display_data",
          "data": {
            "text/html": [
              "<html>\n",
              "<head><meta charset=\"utf-8\" /></head>\n",
              "<body>\n",
              "    <div>\n",
              "            <script src=\"https://cdnjs.cloudflare.com/ajax/libs/mathjax/2.7.5/MathJax.js?config=TeX-AMS-MML_SVG\"></script><script type=\"text/javascript\">if (window.MathJax) {MathJax.Hub.Config({SVG: {font: \"STIX-Web\"}});}</script>\n",
              "                <script type=\"text/javascript\">window.PlotlyConfig = {MathJaxConfig: 'local'};</script>\n",
              "        <script src=\"https://cdn.plot.ly/plotly-latest.min.js\"></script>    \n",
              "            <div id=\"312d82c6-ba8b-4759-8986-078de8459b41\" class=\"plotly-graph-div\" style=\"height:525px; width:100%;\"></div>\n",
              "            <script type=\"text/javascript\">\n",
              "                \n",
              "                    window.PLOTLYENV=window.PLOTLYENV || {};\n",
              "                    \n",
              "                if (document.getElementById(\"312d82c6-ba8b-4759-8986-078de8459b41\")) {\n",
              "                    Plotly.newPlot(\n",
              "                        '312d82c6-ba8b-4759-8986-078de8459b41',\n",
              "                        [{\"hoverlabel\": {\"namelength\": 0}, \"hovertemplate\": \"# Components=%{x}<br>Explained Variance=%{y}\", \"legendgroup\": \"\", \"line\": {\"color\": \"#636efa\"}, \"mode\": \"lines\", \"name\": \"\", \"orientation\": \"v\", \"showlegend\": false, \"stackgroup\": \"1\", \"type\": \"scatter\", \"x\": [1, 2, 3, 4, 5, 6, 7, 8, 9, 10, 11, 12, 13, 14, 15, 16, 17, 18, 19, 20, 21, 22, 23, 24, 25, 26, 27, 28, 29, 30, 31, 32, 33, 34, 35], \"xaxis\": \"x\", \"y\": [0.2131008273027907, 0.34501477999775343, 0.4277974080101459, 0.49665275697049294, 0.5601707636849608, 0.6173809637289808, 0.6611548339226334, 0.6975967149893876, 0.7302434285675232, 0.7611546762710641, 0.7909008897218621, 0.8203189777180007, 0.8482913541868485, 0.8750328146425971, 0.9012462132557133, 0.9216057028689228, 0.9411864055035891, 0.9562356424007409, 0.9693749348210183, 0.9788002675082352, 0.9864747069822389, 0.9910269001795412, 0.9939972755920939, 0.996316107642901, 0.9980534572694236, 0.9990949983783186, 0.9995552265200809, 0.9998094880654256, 0.999903575297296, 0.9999662758376338, 0.9999986349422453, 0.9999997669273231, 0.9999999999999994, 0.9999999999999994, 0.9999999999999994], \"yaxis\": \"y\"}],\n",
              "                        {\"legend\": {\"tracegroupgap\": 0}, \"margin\": {\"t\": 60}, \"template\": {\"data\": {\"bar\": [{\"error_x\": {\"color\": \"#2a3f5f\"}, \"error_y\": {\"color\": \"#2a3f5f\"}, \"marker\": {\"line\": {\"color\": \"#E5ECF6\", \"width\": 0.5}}, \"type\": \"bar\"}], \"barpolar\": [{\"marker\": {\"line\": {\"color\": \"#E5ECF6\", \"width\": 0.5}}, \"type\": \"barpolar\"}], \"carpet\": [{\"aaxis\": {\"endlinecolor\": \"#2a3f5f\", \"gridcolor\": \"white\", \"linecolor\": \"white\", \"minorgridcolor\": \"white\", \"startlinecolor\": \"#2a3f5f\"}, \"baxis\": {\"endlinecolor\": \"#2a3f5f\", \"gridcolor\": \"white\", \"linecolor\": \"white\", \"minorgridcolor\": \"white\", \"startlinecolor\": \"#2a3f5f\"}, \"type\": \"carpet\"}], \"choropleth\": [{\"colorbar\": {\"outlinewidth\": 0, \"ticks\": \"\"}, \"type\": \"choropleth\"}], \"contour\": [{\"colorbar\": {\"outlinewidth\": 0, \"ticks\": \"\"}, \"colorscale\": [[0.0, \"#0d0887\"], [0.1111111111111111, \"#46039f\"], [0.2222222222222222, \"#7201a8\"], [0.3333333333333333, \"#9c179e\"], [0.4444444444444444, \"#bd3786\"], [0.5555555555555556, \"#d8576b\"], [0.6666666666666666, \"#ed7953\"], [0.7777777777777778, \"#fb9f3a\"], [0.8888888888888888, \"#fdca26\"], [1.0, \"#f0f921\"]], \"type\": \"contour\"}], \"contourcarpet\": [{\"colorbar\": {\"outlinewidth\": 0, \"ticks\": \"\"}, \"type\": \"contourcarpet\"}], \"heatmap\": [{\"colorbar\": {\"outlinewidth\": 0, \"ticks\": \"\"}, \"colorscale\": [[0.0, \"#0d0887\"], [0.1111111111111111, \"#46039f\"], [0.2222222222222222, \"#7201a8\"], [0.3333333333333333, \"#9c179e\"], [0.4444444444444444, \"#bd3786\"], [0.5555555555555556, \"#d8576b\"], [0.6666666666666666, \"#ed7953\"], [0.7777777777777778, \"#fb9f3a\"], [0.8888888888888888, \"#fdca26\"], [1.0, \"#f0f921\"]], \"type\": \"heatmap\"}], \"heatmapgl\": [{\"colorbar\": {\"outlinewidth\": 0, \"ticks\": \"\"}, \"colorscale\": [[0.0, \"#0d0887\"], [0.1111111111111111, \"#46039f\"], [0.2222222222222222, \"#7201a8\"], [0.3333333333333333, \"#9c179e\"], [0.4444444444444444, \"#bd3786\"], [0.5555555555555556, \"#d8576b\"], [0.6666666666666666, \"#ed7953\"], [0.7777777777777778, \"#fb9f3a\"], [0.8888888888888888, \"#fdca26\"], [1.0, \"#f0f921\"]], \"type\": \"heatmapgl\"}], \"histogram\": [{\"marker\": {\"colorbar\": {\"outlinewidth\": 0, \"ticks\": \"\"}}, \"type\": \"histogram\"}], \"histogram2d\": [{\"colorbar\": {\"outlinewidth\": 0, \"ticks\": \"\"}, \"colorscale\": [[0.0, \"#0d0887\"], [0.1111111111111111, \"#46039f\"], [0.2222222222222222, \"#7201a8\"], [0.3333333333333333, \"#9c179e\"], [0.4444444444444444, \"#bd3786\"], [0.5555555555555556, \"#d8576b\"], [0.6666666666666666, \"#ed7953\"], [0.7777777777777778, \"#fb9f3a\"], [0.8888888888888888, \"#fdca26\"], [1.0, \"#f0f921\"]], \"type\": \"histogram2d\"}], \"histogram2dcontour\": [{\"colorbar\": {\"outlinewidth\": 0, \"ticks\": \"\"}, \"colorscale\": [[0.0, \"#0d0887\"], [0.1111111111111111, \"#46039f\"], [0.2222222222222222, \"#7201a8\"], [0.3333333333333333, \"#9c179e\"], [0.4444444444444444, \"#bd3786\"], [0.5555555555555556, \"#d8576b\"], [0.6666666666666666, \"#ed7953\"], [0.7777777777777778, \"#fb9f3a\"], [0.8888888888888888, \"#fdca26\"], [1.0, \"#f0f921\"]], \"type\": \"histogram2dcontour\"}], \"mesh3d\": [{\"colorbar\": {\"outlinewidth\": 0, \"ticks\": \"\"}, \"type\": \"mesh3d\"}], \"parcoords\": [{\"line\": {\"colorbar\": {\"outlinewidth\": 0, \"ticks\": \"\"}}, \"type\": \"parcoords\"}], \"pie\": [{\"automargin\": true, \"type\": \"pie\"}], \"scatter\": [{\"marker\": {\"colorbar\": {\"outlinewidth\": 0, \"ticks\": \"\"}}, \"type\": \"scatter\"}], \"scatter3d\": [{\"line\": {\"colorbar\": {\"outlinewidth\": 0, \"ticks\": \"\"}}, \"marker\": {\"colorbar\": {\"outlinewidth\": 0, \"ticks\": \"\"}}, \"type\": \"scatter3d\"}], \"scattercarpet\": [{\"marker\": {\"colorbar\": {\"outlinewidth\": 0, \"ticks\": \"\"}}, \"type\": \"scattercarpet\"}], \"scattergeo\": [{\"marker\": {\"colorbar\": {\"outlinewidth\": 0, \"ticks\": \"\"}}, \"type\": \"scattergeo\"}], \"scattergl\": [{\"marker\": {\"colorbar\": {\"outlinewidth\": 0, \"ticks\": \"\"}}, \"type\": \"scattergl\"}], \"scattermapbox\": [{\"marker\": {\"colorbar\": {\"outlinewidth\": 0, \"ticks\": \"\"}}, \"type\": \"scattermapbox\"}], \"scatterpolar\": [{\"marker\": {\"colorbar\": {\"outlinewidth\": 0, \"ticks\": \"\"}}, \"type\": \"scatterpolar\"}], \"scatterpolargl\": [{\"marker\": {\"colorbar\": {\"outlinewidth\": 0, \"ticks\": \"\"}}, \"type\": \"scatterpolargl\"}], \"scatterternary\": [{\"marker\": {\"colorbar\": {\"outlinewidth\": 0, \"ticks\": \"\"}}, \"type\": \"scatterternary\"}], \"surface\": [{\"colorbar\": {\"outlinewidth\": 0, \"ticks\": \"\"}, \"colorscale\": [[0.0, \"#0d0887\"], [0.1111111111111111, \"#46039f\"], [0.2222222222222222, \"#7201a8\"], [0.3333333333333333, \"#9c179e\"], [0.4444444444444444, \"#bd3786\"], [0.5555555555555556, \"#d8576b\"], [0.6666666666666666, \"#ed7953\"], [0.7777777777777778, \"#fb9f3a\"], [0.8888888888888888, \"#fdca26\"], [1.0, \"#f0f921\"]], \"type\": \"surface\"}], \"table\": [{\"cells\": {\"fill\": {\"color\": \"#EBF0F8\"}, \"line\": {\"color\": \"white\"}}, \"header\": {\"fill\": {\"color\": \"#C8D4E3\"}, \"line\": {\"color\": \"white\"}}, \"type\": \"table\"}]}, \"layout\": {\"annotationdefaults\": {\"arrowcolor\": \"#2a3f5f\", \"arrowhead\": 0, \"arrowwidth\": 1}, \"coloraxis\": {\"colorbar\": {\"outlinewidth\": 0, \"ticks\": \"\"}}, \"colorscale\": {\"diverging\": [[0, \"#8e0152\"], [0.1, \"#c51b7d\"], [0.2, \"#de77ae\"], [0.3, \"#f1b6da\"], [0.4, \"#fde0ef\"], [0.5, \"#f7f7f7\"], [0.6, \"#e6f5d0\"], [0.7, \"#b8e186\"], [0.8, \"#7fbc41\"], [0.9, \"#4d9221\"], [1, \"#276419\"]], \"sequential\": [[0.0, \"#0d0887\"], [0.1111111111111111, \"#46039f\"], [0.2222222222222222, \"#7201a8\"], [0.3333333333333333, \"#9c179e\"], [0.4444444444444444, \"#bd3786\"], [0.5555555555555556, \"#d8576b\"], [0.6666666666666666, \"#ed7953\"], [0.7777777777777778, \"#fb9f3a\"], [0.8888888888888888, \"#fdca26\"], [1.0, \"#f0f921\"]], \"sequentialminus\": [[0.0, \"#0d0887\"], [0.1111111111111111, \"#46039f\"], [0.2222222222222222, \"#7201a8\"], [0.3333333333333333, \"#9c179e\"], [0.4444444444444444, \"#bd3786\"], [0.5555555555555556, \"#d8576b\"], [0.6666666666666666, \"#ed7953\"], [0.7777777777777778, \"#fb9f3a\"], [0.8888888888888888, \"#fdca26\"], [1.0, \"#f0f921\"]]}, \"colorway\": [\"#636efa\", \"#EF553B\", \"#00cc96\", \"#ab63fa\", \"#FFA15A\", \"#19d3f3\", \"#FF6692\", \"#B6E880\", \"#FF97FF\", \"#FECB52\"], \"font\": {\"color\": \"#2a3f5f\"}, \"geo\": {\"bgcolor\": \"white\", \"lakecolor\": \"white\", \"landcolor\": \"#E5ECF6\", \"showlakes\": true, \"showland\": true, \"subunitcolor\": \"white\"}, \"hoverlabel\": {\"align\": \"left\"}, \"hovermode\": \"closest\", \"mapbox\": {\"style\": \"light\"}, \"paper_bgcolor\": \"white\", \"plot_bgcolor\": \"#E5ECF6\", \"polar\": {\"angularaxis\": {\"gridcolor\": \"white\", \"linecolor\": \"white\", \"ticks\": \"\"}, \"bgcolor\": \"#E5ECF6\", \"radialaxis\": {\"gridcolor\": \"white\", \"linecolor\": \"white\", \"ticks\": \"\"}}, \"scene\": {\"xaxis\": {\"backgroundcolor\": \"#E5ECF6\", \"gridcolor\": \"white\", \"gridwidth\": 2, \"linecolor\": \"white\", \"showbackground\": true, \"ticks\": \"\", \"zerolinecolor\": \"white\"}, \"yaxis\": {\"backgroundcolor\": \"#E5ECF6\", \"gridcolor\": \"white\", \"gridwidth\": 2, \"linecolor\": \"white\", \"showbackground\": true, \"ticks\": \"\", \"zerolinecolor\": \"white\"}, \"zaxis\": {\"backgroundcolor\": \"#E5ECF6\", \"gridcolor\": \"white\", \"gridwidth\": 2, \"linecolor\": \"white\", \"showbackground\": true, \"ticks\": \"\", \"zerolinecolor\": \"white\"}}, \"shapedefaults\": {\"line\": {\"color\": \"#2a3f5f\"}}, \"ternary\": {\"aaxis\": {\"gridcolor\": \"white\", \"linecolor\": \"white\", \"ticks\": \"\"}, \"baxis\": {\"gridcolor\": \"white\", \"linecolor\": \"white\", \"ticks\": \"\"}, \"bgcolor\": \"#E5ECF6\", \"caxis\": {\"gridcolor\": \"white\", \"linecolor\": \"white\", \"ticks\": \"\"}}, \"title\": {\"x\": 0.05}, \"xaxis\": {\"automargin\": true, \"gridcolor\": \"white\", \"linecolor\": \"white\", \"ticks\": \"\", \"title\": {\"standoff\": 15}, \"zerolinecolor\": \"white\", \"zerolinewidth\": 2}, \"yaxis\": {\"automargin\": true, \"gridcolor\": \"white\", \"linecolor\": \"white\", \"ticks\": \"\", \"title\": {\"standoff\": 15}, \"zerolinecolor\": \"white\", \"zerolinewidth\": 2}}}, \"xaxis\": {\"anchor\": \"y\", \"domain\": [0.0, 1.0], \"title\": {\"text\": \"# Components\"}}, \"yaxis\": {\"anchor\": \"x\", \"domain\": [0.0, 1.0], \"title\": {\"text\": \"Explained Variance\"}}},\n",
              "                        {\"responsive\": true}\n",
              "                    ).then(function(){\n",
              "                            \n",
              "var gd = document.getElementById('312d82c6-ba8b-4759-8986-078de8459b41');\n",
              "var x = new MutationObserver(function (mutations, observer) {{\n",
              "        var display = window.getComputedStyle(gd).display;\n",
              "        if (!display || display === 'none') {{\n",
              "            console.log([gd, 'removed!']);\n",
              "            Plotly.purge(gd);\n",
              "            observer.disconnect();\n",
              "        }}\n",
              "}});\n",
              "\n",
              "// Listen for the removal of the full notebook cells\n",
              "var notebookContainer = gd.closest('#notebook-container');\n",
              "if (notebookContainer) {{\n",
              "    x.observe(notebookContainer, {childList: true});\n",
              "}}\n",
              "\n",
              "// Listen for the clearing of the current output cell\n",
              "var outputEl = gd.closest('.output');\n",
              "if (outputEl) {{\n",
              "    x.observe(outputEl, {childList: true});\n",
              "}}\n",
              "\n",
              "                        })\n",
              "                };\n",
              "                \n",
              "            </script>\n",
              "        </div>\n",
              "</body>\n",
              "</html>"
            ]
          },
          "metadata": {
            "tags": []
          }
        }
      ]
    },
    {
      "cell_type": "code",
      "metadata": {
        "colab": {
          "base_uri": "https://localhost:8080/"
        },
        "id": "Mo5nZFdLTI3M",
        "outputId": "512cbb88-a60b-4d6f-c116-30943dcd8cce"
      },
      "source": [
        "X_pca_ss = PCA(n_components = 14).fit_transform(static_defenses1)\n",
        "X_pca_ss.shape"
      ],
      "execution_count": null,
      "outputs": [
        {
          "output_type": "execute_result",
          "data": {
            "text/plain": [
              "(16415, 14)"
            ]
          },
          "metadata": {
            "tags": []
          },
          "execution_count": 28
        }
      ]
    },
    {
      "cell_type": "code",
      "metadata": {
        "colab": {
          "base_uri": "https://localhost:8080/",
          "height": 226
        },
        "id": "ra5Qo3ZUTPWT",
        "outputId": "3395dc39-b9e2-4a0d-87ae-86aaf299077d"
      },
      "source": [
        "train_ss = pd.DataFrame(X_pca_ss)\n",
        "train_ss[\"cluster\"] = static_defenses_ss[\"cluster\"].values\n",
        "train_ss[\"playResult\"] = static_defenses_ss[\"playResult\"].values\n",
        "train_ss.head()"
      ],
      "execution_count": null,
      "outputs": [
        {
          "output_type": "execute_result",
          "data": {
            "text/html": [
              "<div>\n",
              "<style scoped>\n",
              "    .dataframe tbody tr th:only-of-type {\n",
              "        vertical-align: middle;\n",
              "    }\n",
              "\n",
              "    .dataframe tbody tr th {\n",
              "        vertical-align: top;\n",
              "    }\n",
              "\n",
              "    .dataframe thead th {\n",
              "        text-align: right;\n",
              "    }\n",
              "</style>\n",
              "<table border=\"1\" class=\"dataframe\">\n",
              "  <thead>\n",
              "    <tr style=\"text-align: right;\">\n",
              "      <th></th>\n",
              "      <th>0</th>\n",
              "      <th>1</th>\n",
              "      <th>2</th>\n",
              "      <th>3</th>\n",
              "      <th>4</th>\n",
              "      <th>5</th>\n",
              "      <th>6</th>\n",
              "      <th>7</th>\n",
              "      <th>8</th>\n",
              "      <th>9</th>\n",
              "      <th>10</th>\n",
              "      <th>11</th>\n",
              "      <th>12</th>\n",
              "      <th>13</th>\n",
              "      <th>cluster</th>\n",
              "      <th>playResult</th>\n",
              "    </tr>\n",
              "  </thead>\n",
              "  <tbody>\n",
              "    <tr>\n",
              "      <th>0</th>\n",
              "      <td>-0.774207</td>\n",
              "      <td>-2.468463</td>\n",
              "      <td>0.494566</td>\n",
              "      <td>1.864442</td>\n",
              "      <td>2.134127</td>\n",
              "      <td>-0.167691</td>\n",
              "      <td>-1.035524</td>\n",
              "      <td>2.170307</td>\n",
              "      <td>1.481360</td>\n",
              "      <td>1.282108</td>\n",
              "      <td>-4.053163</td>\n",
              "      <td>1.791270</td>\n",
              "      <td>-0.521984</td>\n",
              "      <td>0.693607</td>\n",
              "      <td>2</td>\n",
              "      <td>3</td>\n",
              "    </tr>\n",
              "    <tr>\n",
              "      <th>1</th>\n",
              "      <td>-0.050022</td>\n",
              "      <td>-1.812451</td>\n",
              "      <td>1.506638</td>\n",
              "      <td>-0.269917</td>\n",
              "      <td>-0.550293</td>\n",
              "      <td>0.652476</td>\n",
              "      <td>-1.825972</td>\n",
              "      <td>0.446371</td>\n",
              "      <td>0.143674</td>\n",
              "      <td>-0.281564</td>\n",
              "      <td>0.558414</td>\n",
              "      <td>-0.310548</td>\n",
              "      <td>-0.510450</td>\n",
              "      <td>0.446732</td>\n",
              "      <td>2</td>\n",
              "      <td>1</td>\n",
              "    </tr>\n",
              "    <tr>\n",
              "      <th>2</th>\n",
              "      <td>2.290472</td>\n",
              "      <td>-2.538432</td>\n",
              "      <td>-3.218413</td>\n",
              "      <td>1.618976</td>\n",
              "      <td>0.525982</td>\n",
              "      <td>-0.480004</td>\n",
              "      <td>-0.323773</td>\n",
              "      <td>-0.103402</td>\n",
              "      <td>-1.648392</td>\n",
              "      <td>3.647436</td>\n",
              "      <td>0.568315</td>\n",
              "      <td>-0.831423</td>\n",
              "      <td>0.013315</td>\n",
              "      <td>-0.263234</td>\n",
              "      <td>2</td>\n",
              "      <td>1</td>\n",
              "    </tr>\n",
              "    <tr>\n",
              "      <th>3</th>\n",
              "      <td>-1.455413</td>\n",
              "      <td>-1.673324</td>\n",
              "      <td>2.751002</td>\n",
              "      <td>-1.874452</td>\n",
              "      <td>0.495802</td>\n",
              "      <td>-0.928747</td>\n",
              "      <td>-0.089101</td>\n",
              "      <td>1.235334</td>\n",
              "      <td>-0.949320</td>\n",
              "      <td>-0.706386</td>\n",
              "      <td>0.283100</td>\n",
              "      <td>-0.117369</td>\n",
              "      <td>-0.609669</td>\n",
              "      <td>0.547709</td>\n",
              "      <td>0</td>\n",
              "      <td>4</td>\n",
              "    </tr>\n",
              "    <tr>\n",
              "      <th>4</th>\n",
              "      <td>-1.647651</td>\n",
              "      <td>0.858845</td>\n",
              "      <td>0.729530</td>\n",
              "      <td>-0.845751</td>\n",
              "      <td>2.025989</td>\n",
              "      <td>-1.865084</td>\n",
              "      <td>-0.695297</td>\n",
              "      <td>0.816664</td>\n",
              "      <td>-0.857213</td>\n",
              "      <td>-0.145107</td>\n",
              "      <td>-0.575783</td>\n",
              "      <td>0.279942</td>\n",
              "      <td>0.620701</td>\n",
              "      <td>-0.725169</td>\n",
              "      <td>0</td>\n",
              "      <td>2</td>\n",
              "    </tr>\n",
              "  </tbody>\n",
              "</table>\n",
              "</div>"
            ],
            "text/plain": [
              "          0         1         2         3         4         5         6  \\\n",
              "0 -0.774207 -2.468463  0.494566  1.864442  2.134127 -0.167691 -1.035524   \n",
              "1 -0.050022 -1.812451  1.506638 -0.269917 -0.550293  0.652476 -1.825972   \n",
              "2  2.290472 -2.538432 -3.218413  1.618976  0.525982 -0.480004 -0.323773   \n",
              "3 -1.455413 -1.673324  2.751002 -1.874452  0.495802 -0.928747 -0.089101   \n",
              "4 -1.647651  0.858845  0.729530 -0.845751  2.025989 -1.865084 -0.695297   \n",
              "\n",
              "          7         8         9        10        11        12        13  \\\n",
              "0  2.170307  1.481360  1.282108 -4.053163  1.791270 -0.521984  0.693607   \n",
              "1  0.446371  0.143674 -0.281564  0.558414 -0.310548 -0.510450  0.446732   \n",
              "2 -0.103402 -1.648392  3.647436  0.568315 -0.831423  0.013315 -0.263234   \n",
              "3  1.235334 -0.949320 -0.706386  0.283100 -0.117369 -0.609669  0.547709   \n",
              "4  0.816664 -0.857213 -0.145107 -0.575783  0.279942  0.620701 -0.725169   \n",
              "\n",
              "   cluster  playResult  \n",
              "0        2           3  \n",
              "1        2           1  \n",
              "2        2           1  \n",
              "3        0           4  \n",
              "4        0           2  "
            ]
          },
          "metadata": {
            "tags": []
          },
          "execution_count": 29
        }
      ]
    },
    {
      "cell_type": "markdown",
      "metadata": {
        "id": "x74GsmZjUQbf"
      },
      "source": [
        "###KNN"
      ]
    },
    {
      "cell_type": "code",
      "metadata": {
        "colab": {
          "base_uri": "https://localhost:8080/",
          "height": 300
        },
        "id": "h4WndQhnUS6X",
        "outputId": "fab24ca7-1b4b-4d75-d434-e59dc6da2962"
      },
      "source": [
        "from sklearn import neighbors\n",
        "from sklearn.model_selection import KFold\n",
        "import matplotlib.pyplot as plt\n",
        "from sklearn.metrics import accuracy_score\n",
        "\n",
        "cv = KFold(n_splits = 5, shuffle = False) #\n",
        "\n",
        "\n",
        "for i, weights in enumerate(['uniform', 'distance']):\n",
        "   total_scores = []\n",
        "   for n_neighbors in range(1,30):\n",
        "       fold_accuracy = []\n",
        "       knn = neighbors.KNeighborsClassifier(n_neighbors, weights=weights)\n",
        "       # verificar cada uno de los modelos con validación cruzada.\n",
        "       for train_fold, test_fold in cv.split(train_ss):\n",
        "          # División train test aleatoria\n",
        "          f_train = train_ss.loc[train_fold]\n",
        "          f_test = train_ss.loc[test_fold]\n",
        "          # entrenamiento y ejecución del modelo\n",
        "          knn.fit( X = f_train.drop([\"playResult\"],axis=1), y = f_train['playResult'])\n",
        "          y_pred = knn.predict(X = f_test.drop(['playResult'], axis = 1))\n",
        "          # evaluación del modelo\n",
        "          acc = accuracy_score(f_test['playResult'], y_pred)\n",
        "          fold_accuracy.append(acc)\n",
        "       total_scores.append(sum(fold_accuracy)/len(fold_accuracy))\n",
        "   \n",
        "   plt.plot(range(1,len(total_scores)+1), total_scores, \n",
        "             marker='o', label=weights)\n",
        "   print ('Max Value ' +  weights + \" : \" +  str(max(total_scores)) +\" (\" + str(np.argmax(total_scores) + 1) + \")\")\n",
        "   plt.ylabel('Acc')   \n",
        "    \n",
        "\n",
        "plt.legend()\n",
        "plt.show() \n"
      ],
      "execution_count": null,
      "outputs": [
        {
          "output_type": "stream",
          "text": [
            "Max Value uniform : 0.312640877246421 (28)\n",
            "Max Value distance : 0.3062442887602802 (29)\n"
          ],
          "name": "stdout"
        },
        {
          "output_type": "display_data",
          "data": {
            "image/png": "[encoded data removed]",
            "text/plain": [
              "<Figure size 432x288 with 1 Axes>"
            ]
          },
          "metadata": {
            "tags": [],
            "needs_background": "light"
          }
        }
      ]
    },
    {
      "cell_type": "code",
      "metadata": {
        "id": "zcTH_GqgUS6Z"
      },
      "source": [
        "X_train, X_test, y_train, y_test = train_test_split(train_ss.drop([\"playResult\"],axis=1), train_ss[\"playResult\"], test_size=0.2)"
      ],
      "execution_count": null,
      "outputs": []
    },
    {
      "cell_type": "code",
      "metadata": {
        "cellView": "both",
        "colab": {
          "base_uri": "https://localhost:8080/"
        },
        "id": "9hyjSel3US6a",
        "outputId": "14a015ce-83c7-4219-a14b-b50b6f59ed59"
      },
      "source": [
        "# constructor\n",
        "n_neighbors = 27\n",
        "weights = 'distance'\n",
        "knn = neighbors.KNeighborsClassifier(n_neighbors= n_neighbors, weights=weights) \n",
        "# fit and predict\n",
        "\n",
        "knn.fit( X = X_train, y = y_train)\n",
        "y_pred = knn.predict(X = X_test)\n",
        "acc = accuracy_score(y_test, y_pred)\n",
        "print ('Acc', acc)"
      ],
      "execution_count": null,
      "outputs": [
        {
          "output_type": "stream",
          "text": [
            "Acc 0.3170880292415474\n"
          ],
          "name": "stdout"
        }
      ]
    },
    {
      "cell_type": "code",
      "metadata": {
        "id": "NX9gtCEszUi0"
      },
      "source": [
        "from sklearn.metrics import confusion_matrix\n",
        "from sklearn.utils.multiclass import unique_labels\n",
        "\n",
        "def plot_confusion_matrix(y_true, y_pred, classes,normalize=False,title=None,cmap=plt.cm.Blues):\n",
        "  \n",
        "    if not title:\n",
        "        if normalize:\n",
        "            title = 'Normalized confusion matrix'\n",
        "        else:\n",
        "            title = 'Confusion matrix, without normalization'\n",
        "\n",
        "    # Compute confusion matrix\n",
        "    cm = confusion_matrix(y_true, y_pred)\n",
        "    # Only use the labels that appear in the data\n",
        "    classes = classes[unique_labels(y_true, y_pred)]\n",
        "    if normalize:\n",
        "        cm = cm.astype('float') / cm.sum(axis=1)[:, np.newaxis]\n",
        "        print(\"Normalized confusion matrix\")\n",
        "    else:\n",
        "        print('Confusion matrix, without normalization')\n",
        "\n",
        "    print(cm)\n",
        "\n",
        "    fig, ax = plt.subplots()\n",
        "    im = ax.imshow(cm, interpolation='nearest', cmap=cmap)\n",
        "    ax.figure.colorbar(im, ax=ax)\n",
        "    # We want to show all ticks...\n",
        "    ax.set(xticks=np.arange(cm.shape[1]),\n",
        "           yticks=np.arange(cm.shape[0]),\n",
        "           # ... and label them with the respective list entries\n",
        "           xticklabels=classes, yticklabels=classes,\n",
        "           title=title,\n",
        "           ylabel='True label',\n",
        "           xlabel='Predicted label')\n",
        "\n",
        "    # Rotate the tick labels and set their alignment.\n",
        "    plt.setp(ax.get_xticklabels(), rotation=45, ha=\"right\",\n",
        "             rotation_mode=\"anchor\")\n",
        "\n",
        "    # Loop over data dimensions and create text annotations.\n",
        "    fmt = '.2f' if normalize else 'd'\n",
        "    thresh = cm.max() / 2.\n",
        "    for i in range(cm.shape[0]):\n",
        "        for j in range(cm.shape[1]):\n",
        "            ax.text(j, i, format(cm[i, j], fmt),\n",
        "                    ha=\"center\", va=\"center\",\n",
        "                    color=\"white\" if cm[i, j] > thresh else \"black\")\n",
        "    fig.tight_layout()\n",
        "    return ax"
      ],
      "execution_count": null,
      "outputs": []
    },
    {
      "cell_type": "code",
      "metadata": {
        "colab": {
          "base_uri": "https://localhost:8080/",
          "height": 419
        },
        "id": "C5ki1kZGUS6b",
        "outputId": "ffb92a7c-0dbb-4309-c2e8-6796cba9f480"
      },
      "source": [
        "plot_confusion_matrix(y_test, y_pred, classes=unique_labels(y_test,y_pred), normalize=True,\n",
        "                      title='Confusion matrix')"
      ],
      "execution_count": null,
      "outputs": [
        {
          "output_type": "stream",
          "text": [
            "Normalized confusion matrix\n",
            "[[0.01056338 0.6971831  0.04577465 0.21478873 0.03169014]\n",
            " [0.00276243 0.67034991 0.04051565 0.24033149 0.04604052]\n",
            " [0.00642398 0.65738758 0.04710921 0.25267666 0.03640257]\n",
            " [0.00323625 0.6429342  0.03883495 0.28047465 0.03451996]\n",
            " [0.01541426 0.65510597 0.03853565 0.23699422 0.0539499 ]]\n"
          ],
          "name": "stdout"
        },
        {
          "output_type": "execute_result",
          "data": {
            "text/plain": [
              "<matplotlib.axes._subplots.AxesSubplot at 0x7f304e66e690>"
            ]
          },
          "metadata": {
            "tags": []
          },
          "execution_count": 34
        },
        {
          "output_type": "display_data",
          "data": {
            "image/png": "[encoded data removed]",
            "text/plain": [
              "<Figure size 432x288 with 2 Axes>"
            ]
          },
          "metadata": {
            "tags": [],
            "needs_background": "light"
          }
        }
      ]
    },
    {
      "cell_type": "markdown",
      "metadata": {
        "id": "wmhXHgxOVjmY"
      },
      "source": [
        "###Decision Trees"
      ]
    },
    {
      "cell_type": "code",
      "metadata": {
        "colab": {
          "base_uri": "https://localhost:8080/",
          "height": 280
        },
        "id": "rmcRwQlWWBUO",
        "outputId": "f4c4d5e9-3d64-4650-fd36-449864d3182d"
      },
      "source": [
        "from sklearn import tree\n",
        "from sklearn.model_selection import KFold\n",
        "\n",
        "cv = KFold(n_splits = 10, shuffle = False) # \n",
        "accuracies = list()\n",
        "max_attributes = len(list(train_ss))\n",
        "depth_range = range(1, max_attributes * 2)\n",
        "\n",
        "# from 1 to number of features * 2\n",
        "\n",
        "for depth in depth_range:\n",
        "    fold_accuracy = []\n",
        "    tree_model = tree.DecisionTreeClassifier(criterion='entropy', \n",
        "                                             min_samples_split = 65, \n",
        "                                             min_samples_leaf = 20,\n",
        "                                             max_depth = depth,\n",
        "                                             class_weight={0:3.28}\n",
        "                                            )\n",
        "    for train_fold, test_fold in cv.split(train_ss):\n",
        "        f_train = train_ss.loc[train_fold]\n",
        "        f_test = train_ss.loc[test_fold]\n",
        "        \n",
        "        model = tree_model.fit( X = f_train.drop(['playResult'], axis=1), \n",
        "                               y = f_train['playResult'])\n",
        "        test_acc = model.score(X = f_test.drop(['playResult'], axis=1), \n",
        "                                y = f_test['playResult'])\n",
        "        fold_accuracy.append(test_acc)\n",
        "        \n",
        "    avg = sum(fold_accuracy)/len(fold_accuracy)\n",
        "    accuracies.append(avg)\n",
        "    \n",
        "import matplotlib.pyplot as plt    \n",
        "plt.plot(depth_range, accuracies, marker='o')\n",
        "plt.xlabel('max_depth')\n",
        "plt.ylabel('accuracy')\n",
        "plt.show()"
      ],
      "execution_count": null,
      "outputs": [
        {
          "output_type": "display_data",
          "data": {
            "image/png": "[encoded data removed]",
            "text/plain": [
              "<Figure size 432x288 with 1 Axes>"
            ]
          },
          "metadata": {
            "tags": [],
            "needs_background": "light"
          }
        }
      ]
    },
    {
      "cell_type": "code",
      "metadata": {
        "id": "AlEXbYkPWBUR"
      },
      "source": [
        "X_train, X_test, y_train, y_test = train_test_split(train_ss.drop([\"playResult\"],axis=1),train_ss[\"playResult\"],test_size=0.2)"
      ],
      "execution_count": null,
      "outputs": []
    },
    {
      "cell_type": "code",
      "metadata": {
        "colab": {
          "base_uri": "https://localhost:8080/"
        },
        "id": "XkXwqa4tWBUS",
        "outputId": "80190c25-fa9d-48d7-9be5-76fd37f14217"
      },
      "source": [
        "regressor = tree.DecisionTreeClassifier(criterion='entropy', min_samples_split = 65, \n",
        "                                  min_samples_leaf = 20, max_depth = 8, \n",
        "                                  class_weight={0:3.28})\n",
        "regressor.fit( X = X_train, y = y_train)\n",
        "y_pred = regressor.predict(X = X_test)\n",
        "acc = accuracy_score(y_test, y_pred)\n",
        "print ('Acc', acc)\n"
      ],
      "execution_count": null,
      "outputs": [
        {
          "output_type": "stream",
          "text": [
            "Acc 0.2576911361559549\n"
          ],
          "name": "stdout"
        }
      ]
    },
    {
      "cell_type": "code",
      "metadata": {
        "colab": {
          "base_uri": "https://localhost:8080/",
          "height": 419
        },
        "id": "-RrFTI6eWBUT",
        "outputId": "5af1c376-39eb-4e4d-d45f-dfc55774d722"
      },
      "source": [
        "plot_confusion_matrix(y_test, y_pred, classes=unique_labels(y_test,y_pred), normalize=True,\n",
        "                      title='Confusion matrix')"
      ],
      "execution_count": null,
      "outputs": [
        {
          "output_type": "stream",
          "text": [
            "Normalized confusion matrix\n",
            "[[0.34736842 0.62807018 0.00350877 0.01754386 0.00350877]\n",
            " [0.32136602 0.617338   0.00350263 0.04903678 0.00875657]\n",
            " [0.324      0.612      0.004      0.052      0.008     ]\n",
            " [0.30528846 0.640625   0.00360577 0.04206731 0.00841346]\n",
            " [0.33396947 0.61450382 0.0019084  0.04007634 0.00954198]]\n"
          ],
          "name": "stdout"
        },
        {
          "output_type": "execute_result",
          "data": {
            "text/plain": [
              "<matplotlib.axes._subplots.AxesSubplot at 0x7f305aa49250>"
            ]
          },
          "metadata": {
            "tags": []
          },
          "execution_count": 38
        },
        {
          "output_type": "display_data",
          "data": {
            "image/png": "[encoded data removed]",
            "text/plain": [
              "<Figure size 432x288 with 2 Axes>"
            ]
          },
          "metadata": {
            "tags": [],
            "needs_background": "light"
          }
        }
      ]
    },
    {
      "cell_type": "markdown",
      "metadata": {
        "id": "FfwkhvNLVlnJ"
      },
      "source": [
        "###RamdomForest"
      ]
    },
    {
      "cell_type": "code",
      "metadata": {
        "id": "2Qb8DPtFXE1G"
      },
      "source": [
        "X_train, X_test, y_train, y_test = train_test_split(train_ss.drop([\"playResult\"],axis=1),train_ss[\"playResult\"],test_size=0.2)"
      ],
      "execution_count": null,
      "outputs": []
    },
    {
      "cell_type": "code",
      "metadata": {
        "colab": {
          "base_uri": "https://localhost:8080/"
        },
        "id": "CfTNRZ1xXE1H",
        "outputId": "1a064991-2e78-4b4c-d456-8aa71ddd438e"
      },
      "source": [
        "from sklearn.ensemble import RandomForestRegressor\n",
        "\n",
        "#1.1 Model Parametrization \n",
        "regressor = RandomForestRegressor(n_estimators= 100, max_depth = 10, criterion='mae', random_state=0)\n",
        "#1.2 Model construction\n",
        "regressor.fit(X_train, y_train)\n",
        "\n",
        "# Test\n",
        "y_pred = regressor.predict(X_test)\n",
        "\n",
        "# metrics calculation \n",
        "from sklearn.metrics import mean_absolute_error\n",
        "mae = mean_absolute_error(y_test,y_pred)\n",
        "print (\"Error Measure \",  mae)"
      ],
      "execution_count": null,
      "outputs": [
        {
          "output_type": "stream",
          "text": [
            "Error Measure  7.629689308559244\n"
          ],
          "name": "stdout"
        }
      ]
    },
    {
      "cell_type": "code",
      "metadata": {
        "colab": {
          "base_uri": "https://localhost:8080/",
          "height": 370
        },
        "id": "qP2ZmFvaXE1I",
        "outputId": "bdbd68dc-0150-461e-ea1a-0b89b70a3ca8"
      },
      "source": [
        "#plt.subplot(2, 1, i + 1)\n",
        "# x axis for plotting\n",
        "import matplotlib.pyplot as plt\n",
        "import numpy as np\n",
        "\n",
        "xx = np.stack(i for i in range(len(y_test)))\n",
        "plt.scatter(xx, y_test, c='r', label='data')\n",
        "plt.plot(xx, y_pred, c='g', label='prediction')\n",
        "plt.axis('tight')\n",
        "plt.legend()\n",
        "plt.title(\"RandomForests Regressor\")\n",
        "\n",
        "plt.show()"
      ],
      "execution_count": null,
      "outputs": [
        {
          "output_type": "stream",
          "text": [
            "/usr/local/lib/python3.7/dist-packages/IPython/core/interactiveshell.py:2822: FutureWarning:\n",
            "\n",
            "arrays to stack must be passed as a \"sequence\" type such as list or tuple. Support for non-sequence iterables such as generators is deprecated as of NumPy 1.16 and will raise an error in the future.\n",
            "\n"
          ],
          "name": "stderr"
        },
        {
          "output_type": "display_data",
          "data": {
            "image/png": "[encoded data removed]",
            "text/plain": [
              "<Figure size 432x288 with 1 Axes>"
            ]
          },
          "metadata": {
            "tags": [],
            "needs_background": "light"
          }
        }
      ]
    },
    {
      "cell_type": "markdown",
      "metadata": {
        "id": "W6VjOA5YPMkL"
      },
      "source": [
        "#MinMaxScaler"
      ]
    },
    {
      "cell_type": "markdown",
      "metadata": {
        "id": "5loeoHijPOgG"
      },
      "source": [
        "##Incluyendo cluster en el pca"
      ]
    },
    {
      "cell_type": "markdown",
      "metadata": {
        "id": "nCJ76v7sPRQ2"
      },
      "source": [
        "##Sin incluir cluster en el pca (aparte)"
      ]
    },
    {
      "cell_type": "markdown",
      "metadata": {
        "id": "u6c1f6MulvKm"
      },
      "source": [
        "###Normalización del dataset"
      ]
    },
    {
      "cell_type": "code",
      "metadata": {
        "id": "Qw9NpS26lvKn"
      },
      "source": [
        "scaler = preprocessing.MinMaxScaler()\n",
        "static_defenses2 = scaler.fit_transform(static_defenses_mms.drop([\"playResult\",\"cluster\"],axis=1))"
      ],
      "execution_count": null,
      "outputs": []
    },
    {
      "cell_type": "code",
      "metadata": {
        "colab": {
          "base_uri": "https://localhost:8080/"
        },
        "id": "gsVRH8ozlvKo",
        "outputId": "b5b76aba-5bda-4cb1-fda7-47c21d2376d6"
      },
      "source": [
        "pca_ss = PCA ()\n",
        "X_pca_mms = pca_ss.fit_transform(static_defenses2)\n",
        "X_pca_mms.shape"
      ],
      "execution_count": null,
      "outputs": [
        {
          "output_type": "execute_result",
          "data": {
            "text/plain": [
              "(13055, 35)"
            ]
          },
          "metadata": {
            "tags": []
          },
          "execution_count": 84
        }
      ]
    },
    {
      "cell_type": "code",
      "metadata": {
        "colab": {
          "base_uri": "https://localhost:8080/",
          "height": 542
        },
        "id": "h6fXIOgClvKp",
        "outputId": "89d317b7-f98c-4884-cd4d-bd84b36a9421"
      },
      "source": [
        "exp_var_cumul = np.cumsum(pca_ss.explained_variance_ratio_)\n",
        "\n",
        "px.area(\n",
        "    x=range(1, exp_var_cumul.shape[0] + 1),\n",
        "    y=exp_var_cumul,\n",
        "    labels={\"x\": \"# Components\", \"y\": \"Explained Variance\"}\n",
        ")"
      ],
      "execution_count": null,
      "outputs": [
        {
          "output_type": "display_data",
          "data": {
            "text/html": [
              "<html>\n",
              "<head><meta charset=\"utf-8\" /></head>\n",
              "<body>\n",
              "    <div>\n",
              "            <script src=\"https://cdnjs.cloudflare.com/ajax/libs/mathjax/2.7.5/MathJax.js?config=TeX-AMS-MML_SVG\"></script><script type=\"text/javascript\">if (window.MathJax) {MathJax.Hub.Config({SVG: {font: \"STIX-Web\"}});}</script>\n",
              "                <script type=\"text/javascript\">window.PlotlyConfig = {MathJaxConfig: 'local'};</script>\n",
              "        <script src=\"https://cdn.plot.ly/plotly-latest.min.js\"></script>    \n",
              "            <div id=\"8b5e4fb1-42d7-4146-9eb6-6711796969f8\" class=\"plotly-graph-div\" style=\"height:525px; width:100%;\"></div>\n",
              "            <script type=\"text/javascript\">\n",
              "                \n",
              "                    window.PLOTLYENV=window.PLOTLYENV || {};\n",
              "                    \n",
              "                if (document.getElementById(\"8b5e4fb1-42d7-4146-9eb6-6711796969f8\")) {\n",
              "                    Plotly.newPlot(\n",
              "                        '8b5e4fb1-42d7-4146-9eb6-6711796969f8',\n",
              "                        [{\"hoverlabel\": {\"namelength\": 0}, \"hovertemplate\": \"# Components=%{x}<br>Explained Variance=%{y}\", \"legendgroup\": \"\", \"line\": {\"color\": \"#636efa\"}, \"mode\": \"lines\", \"name\": \"\", \"orientation\": \"v\", \"showlegend\": false, \"stackgroup\": \"1\", \"type\": \"scatter\", \"x\": [1, 2, 3, 4, 5, 6, 7, 8, 9, 10, 11, 12, 13, 14, 15, 16, 17, 18, 19, 20, 21, 22, 23, 24, 25, 26, 27, 28, 29, 30, 31, 32, 33, 34, 35], \"xaxis\": \"x\", \"y\": [0.22776732590735055, 0.4431194708852182, 0.5978027389642878, 0.6908807842094742, 0.7471047876073423, 0.7878740581778918, 0.824834866498293, 0.8571001498959727, 0.8860582936964864, 0.9096109211608664, 0.926826722332752, 0.9425462969076319, 0.9526364395614465, 0.9624468959596617, 0.971553593991169, 0.9794385983548799, 0.983702984251412, 0.9871420945888034, 0.9902765822725554, 0.9930689200430717, 0.995539265175808, 0.9970003251224302, 0.9980312867648389, 0.998673481865224, 0.9992681245823469, 0.9996816423094291, 0.9998463708812396, 0.9999104528387264, 0.9999622018739602, 0.9999920476511687, 0.9999989425441711, 0.9999998344324103, 0.9999999999999999, 0.9999999999999999, 0.9999999999999999], \"yaxis\": \"y\"}],\n",
              "                        {\"legend\": {\"tracegroupgap\": 0}, \"margin\": {\"t\": 60}, \"template\": {\"data\": {\"bar\": [{\"error_x\": {\"color\": \"#2a3f5f\"}, \"error_y\": {\"color\": \"#2a3f5f\"}, \"marker\": {\"line\": {\"color\": \"#E5ECF6\", \"width\": 0.5}}, \"type\": \"bar\"}], \"barpolar\": [{\"marker\": {\"line\": {\"color\": \"#E5ECF6\", \"width\": 0.5}}, \"type\": \"barpolar\"}], \"carpet\": [{\"aaxis\": {\"endlinecolor\": \"#2a3f5f\", \"gridcolor\": \"white\", \"linecolor\": \"white\", \"minorgridcolor\": \"white\", \"startlinecolor\": \"#2a3f5f\"}, \"baxis\": {\"endlinecolor\": \"#2a3f5f\", \"gridcolor\": \"white\", \"linecolor\": \"white\", \"minorgridcolor\": \"white\", \"startlinecolor\": \"#2a3f5f\"}, \"type\": \"carpet\"}], \"choropleth\": [{\"colorbar\": {\"outlinewidth\": 0, \"ticks\": \"\"}, \"type\": \"choropleth\"}], \"contour\": [{\"colorbar\": {\"outlinewidth\": 0, \"ticks\": \"\"}, \"colorscale\": [[0.0, \"#0d0887\"], [0.1111111111111111, \"#46039f\"], [0.2222222222222222, \"#7201a8\"], [0.3333333333333333, \"#9c179e\"], [0.4444444444444444, \"#bd3786\"], [0.5555555555555556, \"#d8576b\"], [0.6666666666666666, \"#ed7953\"], [0.7777777777777778, \"#fb9f3a\"], [0.8888888888888888, \"#fdca26\"], [1.0, \"#f0f921\"]], \"type\": \"contour\"}], \"contourcarpet\": [{\"colorbar\": {\"outlinewidth\": 0, \"ticks\": \"\"}, \"type\": \"contourcarpet\"}], \"heatmap\": [{\"colorbar\": {\"outlinewidth\": 0, \"ticks\": \"\"}, \"colorscale\": [[0.0, \"#0d0887\"], [0.1111111111111111, \"#46039f\"], [0.2222222222222222, \"#7201a8\"], [0.3333333333333333, \"#9c179e\"], [0.4444444444444444, \"#bd3786\"], [0.5555555555555556, \"#d8576b\"], [0.6666666666666666, \"#ed7953\"], [0.7777777777777778, \"#fb9f3a\"], [0.8888888888888888, \"#fdca26\"], [1.0, \"#f0f921\"]], \"type\": \"heatmap\"}], \"heatmapgl\": [{\"colorbar\": {\"outlinewidth\": 0, \"ticks\": \"\"}, \"colorscale\": [[0.0, \"#0d0887\"], [0.1111111111111111, \"#46039f\"], [0.2222222222222222, \"#7201a8\"], [0.3333333333333333, \"#9c179e\"], [0.4444444444444444, \"#bd3786\"], [0.5555555555555556, \"#d8576b\"], [0.6666666666666666, \"#ed7953\"], [0.7777777777777778, \"#fb9f3a\"], [0.8888888888888888, \"#fdca26\"], [1.0, \"#f0f921\"]], \"type\": \"heatmapgl\"}], \"histogram\": [{\"marker\": {\"colorbar\": {\"outlinewidth\": 0, \"ticks\": \"\"}}, \"type\": \"histogram\"}], \"histogram2d\": [{\"colorbar\": {\"outlinewidth\": 0, \"ticks\": \"\"}, \"colorscale\": [[0.0, \"#0d0887\"], [0.1111111111111111, \"#46039f\"], [0.2222222222222222, \"#7201a8\"], [0.3333333333333333, \"#9c179e\"], [0.4444444444444444, \"#bd3786\"], [0.5555555555555556, \"#d8576b\"], [0.6666666666666666, \"#ed7953\"], [0.7777777777777778, \"#fb9f3a\"], [0.8888888888888888, \"#fdca26\"], [1.0, \"#f0f921\"]], \"type\": \"histogram2d\"}], \"histogram2dcontour\": [{\"colorbar\": {\"outlinewidth\": 0, \"ticks\": \"\"}, \"colorscale\": [[0.0, \"#0d0887\"], [0.1111111111111111, \"#46039f\"], [0.2222222222222222, \"#7201a8\"], [0.3333333333333333, \"#9c179e\"], [0.4444444444444444, \"#bd3786\"], [0.5555555555555556, \"#d8576b\"], [0.6666666666666666, \"#ed7953\"], [0.7777777777777778, \"#fb9f3a\"], [0.8888888888888888, \"#fdca26\"], [1.0, \"#f0f921\"]], \"type\": \"histogram2dcontour\"}], \"mesh3d\": [{\"colorbar\": {\"outlinewidth\": 0, \"ticks\": \"\"}, \"type\": \"mesh3d\"}], \"parcoords\": [{\"line\": {\"colorbar\": {\"outlinewidth\": 0, \"ticks\": \"\"}}, \"type\": \"parcoords\"}], \"pie\": [{\"automargin\": true, \"type\": \"pie\"}], \"scatter\": [{\"marker\": {\"colorbar\": {\"outlinewidth\": 0, \"ticks\": \"\"}}, \"type\": \"scatter\"}], \"scatter3d\": [{\"line\": {\"colorbar\": {\"outlinewidth\": 0, \"ticks\": \"\"}}, \"marker\": {\"colorbar\": {\"outlinewidth\": 0, \"ticks\": \"\"}}, \"type\": \"scatter3d\"}], \"scattercarpet\": [{\"marker\": {\"colorbar\": {\"outlinewidth\": 0, \"ticks\": \"\"}}, \"type\": \"scattercarpet\"}], \"scattergeo\": [{\"marker\": {\"colorbar\": {\"outlinewidth\": 0, \"ticks\": \"\"}}, \"type\": \"scattergeo\"}], \"scattergl\": [{\"marker\": {\"colorbar\": {\"outlinewidth\": 0, \"ticks\": \"\"}}, \"type\": \"scattergl\"}], \"scattermapbox\": [{\"marker\": {\"colorbar\": {\"outlinewidth\": 0, \"ticks\": \"\"}}, \"type\": \"scattermapbox\"}], \"scatterpolar\": [{\"marker\": {\"colorbar\": {\"outlinewidth\": 0, \"ticks\": \"\"}}, \"type\": \"scatterpolar\"}], \"scatterpolargl\": [{\"marker\": {\"colorbar\": {\"outlinewidth\": 0, \"ticks\": \"\"}}, \"type\": \"scatterpolargl\"}], \"scatterternary\": [{\"marker\": {\"colorbar\": {\"outlinewidth\": 0, \"ticks\": \"\"}}, \"type\": \"scatterternary\"}], \"surface\": [{\"colorbar\": {\"outlinewidth\": 0, \"ticks\": \"\"}, \"colorscale\": [[0.0, \"#0d0887\"], [0.1111111111111111, \"#46039f\"], [0.2222222222222222, \"#7201a8\"], [0.3333333333333333, \"#9c179e\"], [0.4444444444444444, \"#bd3786\"], [0.5555555555555556, \"#d8576b\"], [0.6666666666666666, \"#ed7953\"], [0.7777777777777778, \"#fb9f3a\"], [0.8888888888888888, \"#fdca26\"], [1.0, \"#f0f921\"]], \"type\": \"surface\"}], \"table\": [{\"cells\": {\"fill\": {\"color\": \"#EBF0F8\"}, \"line\": {\"color\": \"white\"}}, \"header\": {\"fill\": {\"color\": \"#C8D4E3\"}, \"line\": {\"color\": \"white\"}}, \"type\": \"table\"}]}, \"layout\": {\"annotationdefaults\": {\"arrowcolor\": \"#2a3f5f\", \"arrowhead\": 0, \"arrowwidth\": 1}, \"coloraxis\": {\"colorbar\": {\"outlinewidth\": 0, \"ticks\": \"\"}}, \"colorscale\": {\"diverging\": [[0, \"#8e0152\"], [0.1, \"#c51b7d\"], [0.2, \"#de77ae\"], [0.3, \"#f1b6da\"], [0.4, \"#fde0ef\"], [0.5, \"#f7f7f7\"], [0.6, \"#e6f5d0\"], [0.7, \"#b8e186\"], [0.8, \"#7fbc41\"], [0.9, \"#4d9221\"], [1, \"#276419\"]], \"sequential\": [[0.0, \"#0d0887\"], [0.1111111111111111, \"#46039f\"], [0.2222222222222222, \"#7201a8\"], [0.3333333333333333, \"#9c179e\"], [0.4444444444444444, \"#bd3786\"], [0.5555555555555556, \"#d8576b\"], [0.6666666666666666, \"#ed7953\"], [0.7777777777777778, \"#fb9f3a\"], [0.8888888888888888, \"#fdca26\"], [1.0, \"#f0f921\"]], \"sequentialminus\": [[0.0, \"#0d0887\"], [0.1111111111111111, \"#46039f\"], [0.2222222222222222, \"#7201a8\"], [0.3333333333333333, \"#9c179e\"], [0.4444444444444444, \"#bd3786\"], [0.5555555555555556, \"#d8576b\"], [0.6666666666666666, \"#ed7953\"], [0.7777777777777778, \"#fb9f3a\"], [0.8888888888888888, \"#fdca26\"], [1.0, \"#f0f921\"]]}, \"colorway\": [\"#636efa\", \"#EF553B\", \"#00cc96\", \"#ab63fa\", \"#FFA15A\", \"#19d3f3\", \"#FF6692\", \"#B6E880\", \"#FF97FF\", \"#FECB52\"], \"font\": {\"color\": \"#2a3f5f\"}, \"geo\": {\"bgcolor\": \"white\", \"lakecolor\": \"white\", \"landcolor\": \"#E5ECF6\", \"showlakes\": true, \"showland\": true, \"subunitcolor\": \"white\"}, \"hoverlabel\": {\"align\": \"left\"}, \"hovermode\": \"closest\", \"mapbox\": {\"style\": \"light\"}, \"paper_bgcolor\": \"white\", \"plot_bgcolor\": \"#E5ECF6\", \"polar\": {\"angularaxis\": {\"gridcolor\": \"white\", \"linecolor\": \"white\", \"ticks\": \"\"}, \"bgcolor\": \"#E5ECF6\", \"radialaxis\": {\"gridcolor\": \"white\", \"linecolor\": \"white\", \"ticks\": \"\"}}, \"scene\": {\"xaxis\": {\"backgroundcolor\": \"#E5ECF6\", \"gridcolor\": \"white\", \"gridwidth\": 2, \"linecolor\": \"white\", \"showbackground\": true, \"ticks\": \"\", \"zerolinecolor\": \"white\"}, \"yaxis\": {\"backgroundcolor\": \"#E5ECF6\", \"gridcolor\": \"white\", \"gridwidth\": 2, \"linecolor\": \"white\", \"showbackground\": true, \"ticks\": \"\", \"zerolinecolor\": \"white\"}, \"zaxis\": {\"backgroundcolor\": \"#E5ECF6\", \"gridcolor\": \"white\", \"gridwidth\": 2, \"linecolor\": \"white\", \"showbackground\": true, \"ticks\": \"\", \"zerolinecolor\": \"white\"}}, \"shapedefaults\": {\"line\": {\"color\": \"#2a3f5f\"}}, \"ternary\": {\"aaxis\": {\"gridcolor\": \"white\", \"linecolor\": \"white\", \"ticks\": \"\"}, \"baxis\": {\"gridcolor\": \"white\", \"linecolor\": \"white\", \"ticks\": \"\"}, \"bgcolor\": \"#E5ECF6\", \"caxis\": {\"gridcolor\": \"white\", \"linecolor\": \"white\", \"ticks\": \"\"}}, \"title\": {\"x\": 0.05}, \"xaxis\": {\"automargin\": true, \"gridcolor\": \"white\", \"linecolor\": \"white\", \"ticks\": \"\", \"title\": {\"standoff\": 15}, \"zerolinecolor\": \"white\", \"zerolinewidth\": 2}, \"yaxis\": {\"automargin\": true, \"gridcolor\": \"white\", \"linecolor\": \"white\", \"ticks\": \"\", \"title\": {\"standoff\": 15}, \"zerolinecolor\": \"white\", \"zerolinewidth\": 2}}}, \"xaxis\": {\"anchor\": \"y\", \"domain\": [0.0, 1.0], \"title\": {\"text\": \"# Components\"}}, \"yaxis\": {\"anchor\": \"x\", \"domain\": [0.0, 1.0], \"title\": {\"text\": \"Explained Variance\"}}},\n",
              "                        {\"responsive\": true}\n",
              "                    ).then(function(){\n",
              "                            \n",
              "var gd = document.getElementById('8b5e4fb1-42d7-4146-9eb6-6711796969f8');\n",
              "var x = new MutationObserver(function (mutations, observer) {{\n",
              "        var display = window.getComputedStyle(gd).display;\n",
              "        if (!display || display === 'none') {{\n",
              "            console.log([gd, 'removed!']);\n",
              "            Plotly.purge(gd);\n",
              "            observer.disconnect();\n",
              "        }}\n",
              "}});\n",
              "\n",
              "// Listen for the removal of the full notebook cells\n",
              "var notebookContainer = gd.closest('#notebook-container');\n",
              "if (notebookContainer) {{\n",
              "    x.observe(notebookContainer, {childList: true});\n",
              "}}\n",
              "\n",
              "// Listen for the clearing of the current output cell\n",
              "var outputEl = gd.closest('.output');\n",
              "if (outputEl) {{\n",
              "    x.observe(outputEl, {childList: true});\n",
              "}}\n",
              "\n",
              "                        })\n",
              "                };\n",
              "                \n",
              "            </script>\n",
              "        </div>\n",
              "</body>\n",
              "</html>"
            ]
          },
          "metadata": {
            "tags": []
          }
        }
      ]
    },
    {
      "cell_type": "code",
      "metadata": {
        "colab": {
          "base_uri": "https://localhost:8080/"
        },
        "id": "7946etW5lvKq",
        "outputId": "277444f2-f3a2-4186-ffaf-425c92f1142f"
      },
      "source": [
        "X_pca_mms = PCA(n_components = 8).fit_transform(static_defenses2)\n",
        "X_pca_mms.shape"
      ],
      "execution_count": null,
      "outputs": [
        {
          "output_type": "execute_result",
          "data": {
            "text/plain": [
              "(13055, 8)"
            ]
          },
          "metadata": {
            "tags": []
          },
          "execution_count": 86
        }
      ]
    },
    {
      "cell_type": "code",
      "metadata": {
        "colab": {
          "base_uri": "https://localhost:8080/",
          "height": 206
        },
        "id": "ZCqOj00HlvKs",
        "outputId": "d22f1cd2-f279-4ff6-c195-51be8ae058c7"
      },
      "source": [
        "train_mms = pd.DataFrame(X_pca_mms)\n",
        "train_mms[\"cluster\"] = static_defenses_mms[\"cluster\"].values\n",
        "train_mms[\"playResult\"] = static_defenses_mms[\"playResult\"].values\n",
        "train_mms.head()"
      ],
      "execution_count": null,
      "outputs": [
        {
          "output_type": "execute_result",
          "data": {
            "text/html": [
              "<div>\n",
              "<style scoped>\n",
              "    .dataframe tbody tr th:only-of-type {\n",
              "        vertical-align: middle;\n",
              "    }\n",
              "\n",
              "    .dataframe tbody tr th {\n",
              "        vertical-align: top;\n",
              "    }\n",
              "\n",
              "    .dataframe thead th {\n",
              "        text-align: right;\n",
              "    }\n",
              "</style>\n",
              "<table border=\"1\" class=\"dataframe\">\n",
              "  <thead>\n",
              "    <tr style=\"text-align: right;\">\n",
              "      <th></th>\n",
              "      <th>0</th>\n",
              "      <th>1</th>\n",
              "      <th>2</th>\n",
              "      <th>3</th>\n",
              "      <th>4</th>\n",
              "      <th>5</th>\n",
              "      <th>6</th>\n",
              "      <th>7</th>\n",
              "      <th>cluster</th>\n",
              "      <th>playResult</th>\n",
              "    </tr>\n",
              "  </thead>\n",
              "  <tbody>\n",
              "    <tr>\n",
              "      <th>0</th>\n",
              "      <td>-0.796755</td>\n",
              "      <td>-2.471072</td>\n",
              "      <td>0.379017</td>\n",
              "      <td>1.882375</td>\n",
              "      <td>2.238831</td>\n",
              "      <td>-0.252902</td>\n",
              "      <td>-1.073809</td>\n",
              "      <td>1.942712</td>\n",
              "      <td>0</td>\n",
              "      <td>10</td>\n",
              "    </tr>\n",
              "    <tr>\n",
              "      <th>1</th>\n",
              "      <td>-0.073679</td>\n",
              "      <td>-1.840974</td>\n",
              "      <td>1.472944</td>\n",
              "      <td>-0.208072</td>\n",
              "      <td>-0.519359</td>\n",
              "      <td>0.596660</td>\n",
              "      <td>-1.867148</td>\n",
              "      <td>0.427152</td>\n",
              "      <td>2</td>\n",
              "      <td>0</td>\n",
              "    </tr>\n",
              "    <tr>\n",
              "      <th>2</th>\n",
              "      <td>2.280850</td>\n",
              "      <td>-2.498067</td>\n",
              "      <td>-3.337572</td>\n",
              "      <td>1.541704</td>\n",
              "      <td>0.509576</td>\n",
              "      <td>-0.472374</td>\n",
              "      <td>-0.258515</td>\n",
              "      <td>-0.187897</td>\n",
              "      <td>0</td>\n",
              "      <td>0</td>\n",
              "    </tr>\n",
              "    <tr>\n",
              "      <th>3</th>\n",
              "      <td>-1.676255</td>\n",
              "      <td>0.859091</td>\n",
              "      <td>0.704645</td>\n",
              "      <td>-0.888400</td>\n",
              "      <td>2.034823</td>\n",
              "      <td>-1.884758</td>\n",
              "      <td>-0.673737</td>\n",
              "      <td>0.781324</td>\n",
              "      <td>6</td>\n",
              "      <td>4</td>\n",
              "    </tr>\n",
              "    <tr>\n",
              "      <th>4</th>\n",
              "      <td>0.181144</td>\n",
              "      <td>0.085049</td>\n",
              "      <td>-2.480629</td>\n",
              "      <td>-0.072058</td>\n",
              "      <td>0.943940</td>\n",
              "      <td>2.317139</td>\n",
              "      <td>0.425749</td>\n",
              "      <td>-0.599257</td>\n",
              "      <td>1</td>\n",
              "      <td>0</td>\n",
              "    </tr>\n",
              "  </tbody>\n",
              "</table>\n",
              "</div>"
            ],
            "text/plain": [
              "          0         1         2         3         4         5         6  \\\n",
              "0 -0.796755 -2.471072  0.379017  1.882375  2.238831 -0.252902 -1.073809   \n",
              "1 -0.073679 -1.840974  1.472944 -0.208072 -0.519359  0.596660 -1.867148   \n",
              "2  2.280850 -2.498067 -3.337572  1.541704  0.509576 -0.472374 -0.258515   \n",
              "3 -1.676255  0.859091  0.704645 -0.888400  2.034823 -1.884758 -0.673737   \n",
              "4  0.181144  0.085049 -2.480629 -0.072058  0.943940  2.317139  0.425749   \n",
              "\n",
              "          7  cluster  playResult  \n",
              "0  1.942712        0          10  \n",
              "1  0.427152        2           0  \n",
              "2 -0.187897        0           0  \n",
              "3  0.781324        6           4  \n",
              "4 -0.599257        1           0  "
            ]
          },
          "metadata": {
            "tags": []
          },
          "execution_count": 87
        }
      ]
    },
    {
      "cell_type": "markdown",
      "metadata": {
        "id": "2x5VhSlcUUyG"
      },
      "source": [
        "###Sin normalización"
      ]
    },
    {
      "cell_type": "code",
      "metadata": {
        "colab": {
          "base_uri": "https://localhost:8080/",
          "height": 226
        },
        "id": "diIN3yzwUUyI",
        "outputId": "6c1994ac-f3a9-400d-d2aa-388b7b900b14"
      },
      "source": [
        "train_mms = static_defenses_mms\n",
        "train_mms.reset_index(drop=True,inplace=True)\n",
        "train_mms.head()"
      ],
      "execution_count": null,
      "outputs": [
        {
          "output_type": "execute_result",
          "data": {
            "text/html": [
              "<div>\n",
              "<style scoped>\n",
              "    .dataframe tbody tr th:only-of-type {\n",
              "        vertical-align: middle;\n",
              "    }\n",
              "\n",
              "    .dataframe tbody tr th {\n",
              "        vertical-align: top;\n",
              "    }\n",
              "\n",
              "    .dataframe thead th {\n",
              "        text-align: right;\n",
              "    }\n",
              "</style>\n",
              "<table border=\"1\" class=\"dataframe\">\n",
              "  <thead>\n",
              "    <tr style=\"text-align: right;\">\n",
              "      <th></th>\n",
              "      <th>defensivelinezonePlayers</th>\n",
              "      <th>deepzonePlayers</th>\n",
              "      <th>hookzonePlayers</th>\n",
              "      <th>curlzonePlayers</th>\n",
              "      <th>flatzonePlayers</th>\n",
              "      <th>defenseArea</th>\n",
              "      <th>defenseAreaCoverDefenders</th>\n",
              "      <th>width</th>\n",
              "      <th>height</th>\n",
              "      <th>numberQBs</th>\n",
              "      <th>numberWRs</th>\n",
              "      <th>numberTEs</th>\n",
              "      <th>numberRBs</th>\n",
              "      <th>numberFBs</th>\n",
              "      <th>numberOffensivePlayersAnotherPosition</th>\n",
              "      <th>numberSafeties</th>\n",
              "      <th>numberLBs</th>\n",
              "      <th>numberCBs</th>\n",
              "      <th>strongSide</th>\n",
              "      <th>numberPlayersDefenseStrongSide</th>\n",
              "      <th>numberPlayersDefenseWeakSide</th>\n",
              "      <th>numberPlayersOffenseStrongSide</th>\n",
              "      <th>numberPlayersOffenseWeakSide</th>\n",
              "      <th>differenceOffenseVsDefenseWidth</th>\n",
              "      <th>differenceOffenseVsDefenseStrongSide</th>\n",
              "      <th>differenceOffenseVsDefenseWeakSide</th>\n",
              "      <th>HeightByWeightDeep</th>\n",
              "      <th>HeightByWeightHook</th>\n",
              "      <th>HeightByWeightCurl</th>\n",
              "      <th>HeightByWeightFlat</th>\n",
              "      <th>WeightByArea</th>\n",
              "      <th>density</th>\n",
              "      <th>densityNoLine</th>\n",
              "      <th>densityInsidePoints</th>\n",
              "      <th>densityInsidePointsNoLine</th>\n",
              "      <th>cluster</th>\n",
              "      <th>playResult</th>\n",
              "    </tr>\n",
              "  </thead>\n",
              "  <tbody>\n",
              "    <tr>\n",
              "      <th>0</th>\n",
              "      <td>0</td>\n",
              "      <td>1</td>\n",
              "      <td>3</td>\n",
              "      <td>2</td>\n",
              "      <td>1</td>\n",
              "      <td>194.31095</td>\n",
              "      <td>194.31095</td>\n",
              "      <td>22.96</td>\n",
              "      <td>15.25</td>\n",
              "      <td>1</td>\n",
              "      <td>2</td>\n",
              "      <td>1</td>\n",
              "      <td>1</td>\n",
              "      <td>1</td>\n",
              "      <td>0</td>\n",
              "      <td>3</td>\n",
              "      <td>2</td>\n",
              "      <td>2</td>\n",
              "      <td>1</td>\n",
              "      <td>3</td>\n",
              "      <td>4</td>\n",
              "      <td>3</td>\n",
              "      <td>2</td>\n",
              "      <td>-0.63</td>\n",
              "      <td>0</td>\n",
              "      <td>-2</td>\n",
              "      <td>0.020227</td>\n",
              "      <td>0.018643</td>\n",
              "      <td>0.020066</td>\n",
              "      <td>0.021034</td>\n",
              "      <td>3.376032</td>\n",
              "      <td>0.036025</td>\n",
              "      <td>0.036025</td>\n",
              "      <td>6.974268</td>\n",
              "      <td>6.974268</td>\n",
              "      <td>0</td>\n",
              "      <td>10</td>\n",
              "    </tr>\n",
              "    <tr>\n",
              "      <th>1</th>\n",
              "      <td>0</td>\n",
              "      <td>1</td>\n",
              "      <td>3</td>\n",
              "      <td>2</td>\n",
              "      <td>1</td>\n",
              "      <td>204.17725</td>\n",
              "      <td>204.17725</td>\n",
              "      <td>29.22</td>\n",
              "      <td>12.57</td>\n",
              "      <td>1</td>\n",
              "      <td>3</td>\n",
              "      <td>1</td>\n",
              "      <td>1</td>\n",
              "      <td>0</td>\n",
              "      <td>0</td>\n",
              "      <td>2</td>\n",
              "      <td>2</td>\n",
              "      <td>3</td>\n",
              "      <td>0</td>\n",
              "      <td>3</td>\n",
              "      <td>4</td>\n",
              "      <td>2</td>\n",
              "      <td>3</td>\n",
              "      <td>-1.15</td>\n",
              "      <td>-1</td>\n",
              "      <td>-1</td>\n",
              "      <td>0.020227</td>\n",
              "      <td>0.019228</td>\n",
              "      <td>0.020356</td>\n",
              "      <td>0.020455</td>\n",
              "      <td>3.178611</td>\n",
              "      <td>0.034284</td>\n",
              "      <td>0.034284</td>\n",
              "      <td>6.975511</td>\n",
              "      <td>6.975511</td>\n",
              "      <td>2</td>\n",
              "      <td>0</td>\n",
              "    </tr>\n",
              "    <tr>\n",
              "      <th>2</th>\n",
              "      <td>0</td>\n",
              "      <td>1</td>\n",
              "      <td>2</td>\n",
              "      <td>2</td>\n",
              "      <td>2</td>\n",
              "      <td>277.65495</td>\n",
              "      <td>277.65495</td>\n",
              "      <td>33.67</td>\n",
              "      <td>15.21</td>\n",
              "      <td>1</td>\n",
              "      <td>2</td>\n",
              "      <td>1</td>\n",
              "      <td>2</td>\n",
              "      <td>0</td>\n",
              "      <td>0</td>\n",
              "      <td>2</td>\n",
              "      <td>2</td>\n",
              "      <td>3</td>\n",
              "      <td>1</td>\n",
              "      <td>5</td>\n",
              "      <td>2</td>\n",
              "      <td>4</td>\n",
              "      <td>1</td>\n",
              "      <td>0.71</td>\n",
              "      <td>-1</td>\n",
              "      <td>-1</td>\n",
              "      <td>0.020227</td>\n",
              "      <td>0.017683</td>\n",
              "      <td>0.020997</td>\n",
              "      <td>0.020745</td>\n",
              "      <td>2.337434</td>\n",
              "      <td>0.025211</td>\n",
              "      <td>0.025211</td>\n",
              "      <td>6.985594</td>\n",
              "      <td>6.985594</td>\n",
              "      <td>0</td>\n",
              "      <td>0</td>\n",
              "    </tr>\n",
              "    <tr>\n",
              "      <th>3</th>\n",
              "      <td>1</td>\n",
              "      <td>0</td>\n",
              "      <td>3</td>\n",
              "      <td>3</td>\n",
              "      <td>1</td>\n",
              "      <td>187.12510</td>\n",
              "      <td>153.20020</td>\n",
              "      <td>27.80</td>\n",
              "      <td>13.29</td>\n",
              "      <td>1</td>\n",
              "      <td>3</td>\n",
              "      <td>1</td>\n",
              "      <td>1</td>\n",
              "      <td>0</td>\n",
              "      <td>0</td>\n",
              "      <td>2</td>\n",
              "      <td>3</td>\n",
              "      <td>3</td>\n",
              "      <td>1</td>\n",
              "      <td>3</td>\n",
              "      <td>5</td>\n",
              "      <td>3</td>\n",
              "      <td>2</td>\n",
              "      <td>-4.82</td>\n",
              "      <td>0</td>\n",
              "      <td>-3</td>\n",
              "      <td>0.000000</td>\n",
              "      <td>0.018995</td>\n",
              "      <td>0.019537</td>\n",
              "      <td>0.021279</td>\n",
              "      <td>4.281979</td>\n",
              "      <td>0.042752</td>\n",
              "      <td>0.045692</td>\n",
              "      <td>7.978624</td>\n",
              "      <td>7.980418</td>\n",
              "      <td>6</td>\n",
              "      <td>4</td>\n",
              "    </tr>\n",
              "    <tr>\n",
              "      <th>4</th>\n",
              "      <td>1</td>\n",
              "      <td>0</td>\n",
              "      <td>3</td>\n",
              "      <td>2</td>\n",
              "      <td>2</td>\n",
              "      <td>216.25455</td>\n",
              "      <td>215.80350</td>\n",
              "      <td>36.24</td>\n",
              "      <td>11.79</td>\n",
              "      <td>1</td>\n",
              "      <td>2</td>\n",
              "      <td>2</td>\n",
              "      <td>1</td>\n",
              "      <td>0</td>\n",
              "      <td>0</td>\n",
              "      <td>2</td>\n",
              "      <td>3</td>\n",
              "      <td>3</td>\n",
              "      <td>0</td>\n",
              "      <td>5</td>\n",
              "      <td>3</td>\n",
              "      <td>3</td>\n",
              "      <td>2</td>\n",
              "      <td>-0.36</td>\n",
              "      <td>-2</td>\n",
              "      <td>-1</td>\n",
              "      <td>0.000000</td>\n",
              "      <td>0.018343</td>\n",
              "      <td>0.019688</td>\n",
              "      <td>0.021235</td>\n",
              "      <td>3.039802</td>\n",
              "      <td>0.036993</td>\n",
              "      <td>0.032437</td>\n",
              "      <td>7.972255</td>\n",
              "      <td>7.976831</td>\n",
              "      <td>1</td>\n",
              "      <td>0</td>\n",
              "    </tr>\n",
              "  </tbody>\n",
              "</table>\n",
              "</div>"
            ],
            "text/plain": [
              "   defensivelinezonePlayers  deepzonePlayers  hookzonePlayers  \\\n",
              "0                         0                1                3   \n",
              "1                         0                1                3   \n",
              "2                         0                1                2   \n",
              "3                         1                0                3   \n",
              "4                         1                0                3   \n",
              "\n",
              "   curlzonePlayers  flatzonePlayers  defenseArea  defenseAreaCoverDefenders  \\\n",
              "0                2                1    194.31095                  194.31095   \n",
              "1                2                1    204.17725                  204.17725   \n",
              "2                2                2    277.65495                  277.65495   \n",
              "3                3                1    187.12510                  153.20020   \n",
              "4                2                2    216.25455                  215.80350   \n",
              "\n",
              "   width  height  numberQBs  numberWRs  numberTEs  numberRBs  numberFBs  \\\n",
              "0  22.96   15.25          1          2          1          1          1   \n",
              "1  29.22   12.57          1          3          1          1          0   \n",
              "2  33.67   15.21          1          2          1          2          0   \n",
              "3  27.80   13.29          1          3          1          1          0   \n",
              "4  36.24   11.79          1          2          2          1          0   \n",
              "\n",
              "   numberOffensivePlayersAnotherPosition  numberSafeties  numberLBs  \\\n",
              "0                                      0               3          2   \n",
              "1                                      0               2          2   \n",
              "2                                      0               2          2   \n",
              "3                                      0               2          3   \n",
              "4                                      0               2          3   \n",
              "\n",
              "   numberCBs  strongSide  numberPlayersDefenseStrongSide  \\\n",
              "0          2           1                               3   \n",
              "1          3           0                               3   \n",
              "2          3           1                               5   \n",
              "3          3           1                               3   \n",
              "4          3           0                               5   \n",
              "\n",
              "   numberPlayersDefenseWeakSide  numberPlayersOffenseStrongSide  \\\n",
              "0                             4                               3   \n",
              "1                             4                               2   \n",
              "2                             2                               4   \n",
              "3                             5                               3   \n",
              "4                             3                               3   \n",
              "\n",
              "   numberPlayersOffenseWeakSide  differenceOffenseVsDefenseWidth  \\\n",
              "0                             2                            -0.63   \n",
              "1                             3                            -1.15   \n",
              "2                             1                             0.71   \n",
              "3                             2                            -4.82   \n",
              "4                             2                            -0.36   \n",
              "\n",
              "   differenceOffenseVsDefenseStrongSide  differenceOffenseVsDefenseWeakSide  \\\n",
              "0                                     0                                  -2   \n",
              "1                                    -1                                  -1   \n",
              "2                                    -1                                  -1   \n",
              "3                                     0                                  -3   \n",
              "4                                    -2                                  -1   \n",
              "\n",
              "   HeightByWeightDeep  HeightByWeightHook  HeightByWeightCurl  \\\n",
              "0            0.020227            0.018643            0.020066   \n",
              "1            0.020227            0.019228            0.020356   \n",
              "2            0.020227            0.017683            0.020997   \n",
              "3            0.000000            0.018995            0.019537   \n",
              "4            0.000000            0.018343            0.019688   \n",
              "\n",
              "   HeightByWeightFlat  WeightByArea   density  densityNoLine  \\\n",
              "0            0.021034      3.376032  0.036025       0.036025   \n",
              "1            0.020455      3.178611  0.034284       0.034284   \n",
              "2            0.020745      2.337434  0.025211       0.025211   \n",
              "3            0.021279      4.281979  0.042752       0.045692   \n",
              "4            0.021235      3.039802  0.036993       0.032437   \n",
              "\n",
              "   densityInsidePoints  densityInsidePointsNoLine  cluster  playResult  \n",
              "0             6.974268                   6.974268        0          10  \n",
              "1             6.975511                   6.975511        2           0  \n",
              "2             6.985594                   6.985594        0           0  \n",
              "3             7.978624                   7.980418        6           4  \n",
              "4             7.972255                   7.976831        1           0  "
            ]
          },
          "metadata": {
            "tags": []
          },
          "execution_count": 25
        }
      ]
    },
    {
      "cell_type": "markdown",
      "metadata": {
        "id": "zwKaQxkflvKs"
      },
      "source": [
        "###KNN"
      ]
    },
    {
      "cell_type": "code",
      "metadata": {
        "colab": {
          "base_uri": "https://localhost:8080/",
          "height": 300
        },
        "id": "6CB7dDFYlvKt",
        "outputId": "fb275998-d841-4412-f866-edf278203868"
      },
      "source": [
        "from sklearn import neighbors\n",
        "from sklearn.model_selection import KFold\n",
        "import matplotlib.pyplot as plt\n",
        "from sklearn.metrics import mean_absolute_error\n",
        "\n",
        "cv = KFold(n_splits = 10, shuffle = False) #\n",
        "\n",
        "\n",
        "for i, weights in enumerate(['uniform', 'distance']):\n",
        "   total_scores = []\n",
        "   for n_neighbors in range(1,30):\n",
        "       fold_accuracy = []\n",
        "       knn = neighbors.KNeighborsRegressor(n_neighbors, weights=weights)\n",
        "       # verificar cada uno de los modelos con validación cruzada.\n",
        "       for train_fold, test_fold in cv.split(train_mms):\n",
        "          # División train test aleatoria\n",
        "          f_train = train_ss.loc[train_fold]\n",
        "          f_test = train_ss.loc[test_fold]\n",
        "          # entrenamiento y ejecución del modelo\n",
        "          knn.fit( X = f_train.drop([\"playResult\"],axis=1), y = f_train['playResult'])\n",
        "          y_pred = knn.predict(X = f_test.drop(['playResult'], axis = 1))\n",
        "          # evaluación del modelo\n",
        "          mae = mean_absolute_error(f_test['playResult'], y_pred)\n",
        "          fold_accuracy.append(mae)\n",
        "       total_scores.append(sum(fold_accuracy)/len(fold_accuracy))\n",
        "   \n",
        "   plt.plot(range(1,len(total_scores)+1), total_scores, \n",
        "             marker='o', label=weights)\n",
        "   print ('Min Value ' +  weights + \" : \" +  str(min(total_scores)) +\" (\" + str(np.argmin(total_scores) + 1) + \")\")\n",
        "   plt.ylabel('MAE')      \n",
        "    \n",
        "\n",
        "plt.legend()\n",
        "plt.show() \n",
        "\n"
      ],
      "execution_count": null,
      "outputs": [
        {
          "output_type": "stream",
          "text": [
            "Min Value uniform : 4.369945975332202 (29)\n",
            "Min Value distance : 4.371092347760859 (29)\n"
          ],
          "name": "stdout"
        },
        {
          "output_type": "display_data",
          "data": {
            "image/png": "[encoded data removed]",
            "text/plain": [
              "<Figure size 432x288 with 1 Axes>"
            ]
          },
          "metadata": {
            "tags": [],
            "needs_background": "light"
          }
        }
      ]
    },
    {
      "cell_type": "code",
      "metadata": {
        "id": "SfmE2PmKlvKt"
      },
      "source": [
        "X_train, X_test, y_train, y_test = train_test_split(train_mms.drop([\"playResult\"],axis=1), train_mms[\"playResult\"], test_size=0.15)"
      ],
      "execution_count": null,
      "outputs": []
    },
    {
      "cell_type": "code",
      "metadata": {
        "cellView": "both",
        "colab": {
          "base_uri": "https://localhost:8080/"
        },
        "id": "DW5sguVllvKv",
        "outputId": "38a77b88-8127-4c6c-d37b-c3fb338217ed"
      },
      "source": [
        "# constructor\n",
        "n_neighbors = 29\n",
        "weights = 'uniform'\n",
        "knn = neighbors.KNeighborsRegressor(n_neighbors= n_neighbors, weights=weights) \n",
        "# fit and predict\n",
        "\n",
        "knn.fit( X = X_train, y = y_train)\n",
        "y_pred = knn.predict(X = X_test)\n",
        "mae = mean_absolute_error(y_test,y_pred)\n",
        "print ('MAE', mae)"
      ],
      "execution_count": null,
      "outputs": [
        {
          "output_type": "stream",
          "text": [
            "MAE 4.392899262466775\n"
          ],
          "name": "stdout"
        }
      ]
    },
    {
      "cell_type": "code",
      "metadata": {
        "colab": {
          "base_uri": "https://localhost:8080/",
          "height": 370
        },
        "id": "_PsoZ_JulvKv",
        "outputId": "b644b797-57e9-4af9-a4ac-bc49f3af60bb"
      },
      "source": [
        "from sklearn.metrics import mean_absolute_error\n",
        "\n",
        "                    \n",
        "# x axis for plotting\n",
        "import numpy as np\n",
        "xx = np.stack(i for i in range(y_test.shape[0]))\n",
        "plt.plot(xx, y_test, c='r', label='data')\n",
        "#plt.plot(xx, y, c='k', label='data')\n",
        "plt.plot(xx, y_pred, c='g', label='prediction')\n",
        "plt.axis('tight')\n",
        "plt.legend()\n",
        "plt.title(\"KNeighborsRegressor (k = %i, weights = '%s')\" % (n_neighbors,\n",
        "                                                                weights))\n",
        "\n",
        "plt.show()"
      ],
      "execution_count": null,
      "outputs": [
        {
          "output_type": "stream",
          "text": [
            "/usr/local/lib/python3.7/dist-packages/IPython/core/interactiveshell.py:2822: FutureWarning:\n",
            "\n",
            "arrays to stack must be passed as a \"sequence\" type such as list or tuple. Support for non-sequence iterables such as generators is deprecated as of NumPy 1.16 and will raise an error in the future.\n",
            "\n"
          ],
          "name": "stderr"
        },
        {
          "output_type": "display_data",
          "data": {
            "image/png": "[encoded data removed]",
            "text/plain": [
              "<Figure size 432x288 with 1 Axes>"
            ]
          },
          "metadata": {
            "tags": [],
            "needs_background": "light"
          }
        }
      ]
    },
    {
      "cell_type": "markdown",
      "metadata": {
        "id": "HN0cigfmlvKx"
      },
      "source": [
        "###Decision Trees"
      ]
    },
    {
      "cell_type": "code",
      "metadata": {
        "colab": {
          "base_uri": "https://localhost:8080/",
          "height": 301
        },
        "id": "LW6re5fIlvKx",
        "outputId": "cb539187-17cd-4f58-f7ee-1c5855a621e8"
      },
      "source": [
        "from sklearn.tree import DecisionTreeRegressor\n",
        "from sklearn.model_selection import KFold\n",
        "import matplotlib.pyplot as plt\n",
        "from sklearn.metrics import mean_absolute_error\n",
        "import numpy as np\n",
        "\n",
        "cv = KFold(n_splits = 10, shuffle = False) #\n",
        "#  https://scikit-learn.org/stable/modules/generated/sklearn.model_selection.TimeSeriesSplit.html \n",
        "\n",
        "\n",
        "total_scores = []\n",
        "for i in range(1,30):\n",
        "    fold_accuracy = []\n",
        "    dt = DecisionTreeRegressor(max_depth=i)\n",
        "    # verificar cada uno de los modelos con validación cruzada.\n",
        "    for train_fold, test_fold in cv.split(train_mms):\n",
        "      # División train test aleatoria\n",
        "      f_train = train_ss.loc[train_fold]\n",
        "      f_test = train_ss.loc[test_fold]\n",
        "      # entrenamiento y ejecución del modelo\n",
        "      dt.fit( X = f_train.drop(['playResult'], axis=1), \n",
        "                            y = f_train['playResult'])\n",
        "      y_pred = dt.predict(X = f_test.drop(['playResult'], axis = 1))\n",
        "      # evaluación del modelo\n",
        "      mae = mean_absolute_error(f_test['playResult'], y_pred)\n",
        "      fold_accuracy.append(mae)\n",
        "    total_scores.append(sum(fold_accuracy)/len(fold_accuracy))\n",
        "   \n",
        "plt.plot(range(1,len(total_scores)+1), total_scores, \n",
        "           marker='o')\n",
        "print ('Min Value  :' +  str(min(total_scores)) +' (' + str(np.argmin(total_scores) + 1) + ')')\n",
        "plt.ylabel('MAE')      \n",
        "    \n",
        "\n",
        "plt.legend()\n",
        "plt.show() "
      ],
      "execution_count": null,
      "outputs": [
        {
          "output_type": "stream",
          "text": [
            "No handles with labels found to put in legend.\n"
          ],
          "name": "stderr"
        },
        {
          "output_type": "stream",
          "text": [
            "Min Value  :4.341451321120332 (1)\n"
          ],
          "name": "stdout"
        },
        {
          "output_type": "display_data",
          "data": {
            "image/png": "[encoded data removed]",
            "text/plain": [
              "<Figure size 432x288 with 1 Axes>"
            ]
          },
          "metadata": {
            "tags": [],
            "needs_background": "light"
          }
        }
      ]
    },
    {
      "cell_type": "code",
      "metadata": {
        "id": "MDKNOuNClvKx"
      },
      "source": [
        "X_train, X_test, y_train, y_test = train_test_split(train_mms.drop([\"playResult\"],axis=1),train_mms[\"playResult\"],test_size=0.15)"
      ],
      "execution_count": null,
      "outputs": []
    },
    {
      "cell_type": "code",
      "metadata": {
        "colab": {
          "base_uri": "https://localhost:8080/"
        },
        "id": "lV206cDelvKx",
        "outputId": "8252293e-9a51-4171-9ca3-5e7aa3449be3"
      },
      "source": [
        "regressor = DecisionTreeRegressor(max_depth=5)\n",
        "regressor.fit( X = X_train, y = y_train)\n",
        "y_pred = regressor.predict(X = X_test)\n",
        "mae = mean_absolute_error(y_test, y_pred)\n",
        "print ('MAE', mae)\n"
      ],
      "execution_count": null,
      "outputs": [
        {
          "output_type": "stream",
          "text": [
            "MAE 4.413570938077481\n"
          ],
          "name": "stdout"
        }
      ]
    },
    {
      "cell_type": "code",
      "metadata": {
        "colab": {
          "base_uri": "https://localhost:8080/",
          "height": 370
        },
        "id": "kmUMOv3ylvKy",
        "outputId": "2de62264-34d4-4732-e487-59b94aa89613"
      },
      "source": [
        "from sklearn.metrics import mean_absolute_error\n",
        "\n",
        "                    \n",
        "# x axis for plotting\n",
        "import numpy as np\n",
        "xx = np.stack(i for i in range(y_test.shape[0]))\n",
        "plt.plot(xx, y_test, c='r', label='data')\n",
        "#plt.plot(xx, y, c='k', label='data')\n",
        "plt.plot(xx, y_pred, c='g', label='prediction')\n",
        "plt.axis('tight')\n",
        "plt.legend()\n",
        "plt.title(\"DecisionTree\")\n",
        "\n",
        "plt.show()"
      ],
      "execution_count": null,
      "outputs": [
        {
          "output_type": "stream",
          "text": [
            "/usr/local/lib/python3.7/dist-packages/IPython/core/interactiveshell.py:2822: FutureWarning:\n",
            "\n",
            "arrays to stack must be passed as a \"sequence\" type such as list or tuple. Support for non-sequence iterables such as generators is deprecated as of NumPy 1.16 and will raise an error in the future.\n",
            "\n"
          ],
          "name": "stderr"
        },
        {
          "output_type": "display_data",
          "data": {
            "image/png": "[encoded data removed]",
            "text/plain": [
              "<Figure size 432x288 with 1 Axes>"
            ]
          },
          "metadata": {
            "tags": [],
            "needs_background": "light"
          }
        }
      ]
    },
    {
      "cell_type": "markdown",
      "metadata": {
        "id": "ny0MbYs_lvKy"
      },
      "source": [
        "###RamdomForest"
      ]
    },
    {
      "cell_type": "code",
      "metadata": {
        "id": "WJMMxqg1lvKy"
      },
      "source": [
        "X_train, X_test, y_train, y_test = train_test_split(train_mms.drop([\"playResult\"],axis=1),train_mms[\"playResult\"],test_size=0.2)"
      ],
      "execution_count": null,
      "outputs": []
    },
    {
      "cell_type": "code",
      "metadata": {
        "colab": {
          "base_uri": "https://localhost:8080/"
        },
        "id": "Z8CQltvVlvKz",
        "outputId": "85b9a6e1-6c99-47a1-af7b-57a52b50f22f"
      },
      "source": [
        "from sklearn.ensemble import RandomForestRegressor\n",
        "\n",
        "#1.1 Model Parametrization \n",
        "regressor = RandomForestRegressor(n_estimators= 100, max_depth = 10, criterion='mae', random_state=0)\n",
        "#1.2 Model construction\n",
        "regressor.fit(X_train, y_train)\n",
        "\n",
        "# Test\n",
        "y_pred = regressor.predict(X_test)\n",
        "\n",
        "# metrics calculation \n",
        "from sklearn.metrics import mean_absolute_error\n",
        "mae = mean_absolute_error(y_test,y_pred)\n",
        "print (\"Error Measure \",  mae)"
      ],
      "execution_count": null,
      "outputs": [
        {
          "output_type": "stream",
          "text": [
            "Error Measure  7.682313432835821\n"
          ],
          "name": "stdout"
        }
      ]
    },
    {
      "cell_type": "code",
      "metadata": {
        "colab": {
          "base_uri": "https://localhost:8080/",
          "height": 370
        },
        "id": "C-zYQUMSlvKz",
        "outputId": "4e9b5f39-5bda-4e0b-b94b-31fd5267c5eb"
      },
      "source": [
        "#plt.subplot(2, 1, i + 1)\n",
        "# x axis for plotting\n",
        "import matplotlib.pyplot as plt\n",
        "import numpy as np\n",
        "\n",
        "xx = np.stack(i for i in range(len(y_test)))\n",
        "plt.scatter(xx, y_test, c='r', label='data')\n",
        "plt.plot(xx, y_pred, c='g', label='prediction')\n",
        "plt.axis('tight')\n",
        "plt.legend()\n",
        "plt.title(\"RandomForests Regressor\")\n",
        "\n",
        "plt.show()"
      ],
      "execution_count": null,
      "outputs": [
        {
          "output_type": "stream",
          "text": [
            "/usr/local/lib/python3.7/dist-packages/IPython/core/interactiveshell.py:2822: FutureWarning:\n",
            "\n",
            "arrays to stack must be passed as a \"sequence\" type such as list or tuple. Support for non-sequence iterables such as generators is deprecated as of NumPy 1.16 and will raise an error in the future.\n",
            "\n"
          ],
          "name": "stderr"
        },
        {
          "output_type": "display_data",
          "data": {
            "image/png": "[encoded data removed]",
            "text/plain": [
              "<Figure size 432x288 with 1 Axes>"
            ]
          },
          "metadata": {
            "tags": [],
            "needs_background": "light"
          }
        }
      ]
    },
    {
      "cell_type": "code",
      "metadata": {
        "id": "wW7MK8bYsYfk"
      },
      "source": [
        ""
      ],
      "execution_count": null,
      "outputs": []
    },
    {
      "cell_type": "markdown",
      "metadata": {
        "id": "7NbUPgy4hEKz"
      },
      "source": [
        "#RobustScaler"
      ]
    },
    {
      "cell_type": "code",
      "metadata": {
        "id": "QSiXno9ZhLyi"
      },
      "source": [
        ""
      ],
      "execution_count": null,
      "outputs": []
    },
    {
      "cell_type": "markdown",
      "metadata": {
        "id": "yp79zHo1hOsz"
      },
      "source": [
        "##Incluyendo cluster en el pca"
      ]
    },
    {
      "cell_type": "markdown",
      "metadata": {
        "id": "WMKbiD8LhOs0"
      },
      "source": [
        "##Sin incluir cluster en el pca (aparte)"
      ]
    },
    {
      "cell_type": "markdown",
      "metadata": {
        "id": "Nd7vtpNchOs0"
      },
      "source": [
        "###Normalización del dataset"
      ]
    },
    {
      "cell_type": "code",
      "metadata": {
        "id": "0s3RNy_xhOs0"
      },
      "source": [
        "scaler = preprocessing.RobustScaler()\n",
        "static_defenses3 = scaler.fit_transform(static_defenses_rs.drop([\"playResult\",\"cluster\"],axis=1))"
      ],
      "execution_count": null,
      "outputs": []
    },
    {
      "cell_type": "code",
      "metadata": {
        "colab": {
          "base_uri": "https://localhost:8080/"
        },
        "id": "uZNLCpP9hOs0",
        "outputId": "8028667e-51cb-40a1-9888-deff82701443"
      },
      "source": [
        "pca_rs = PCA ()\n",
        "X_pca_rs = pca_rs.fit_transform(static_defenses2)\n",
        "X_pca_rs.shape"
      ],
      "execution_count": null,
      "outputs": [
        {
          "output_type": "execute_result",
          "data": {
            "text/plain": [
              "(13055, 35)"
            ]
          },
          "metadata": {
            "tags": []
          },
          "execution_count": 97
        }
      ]
    },
    {
      "cell_type": "code",
      "metadata": {
        "colab": {
          "base_uri": "https://localhost:8080/",
          "height": 542
        },
        "id": "3_jKesUMhOs2",
        "outputId": "66238259-2ce1-44b5-acfb-80adabaeef78"
      },
      "source": [
        "exp_var_cumul = np.cumsum(pca_rs.explained_variance_ratio_)\n",
        "\n",
        "px.area(\n",
        "    x=range(1, exp_var_cumul.shape[0] + 1),\n",
        "    y=exp_var_cumul,\n",
        "    labels={\"x\": \"# Components\", \"y\": \"Explained Variance\"}\n",
        ")"
      ],
      "execution_count": null,
      "outputs": [
        {
          "output_type": "display_data",
          "data": {
            "text/html": [
              "<html>\n",
              "<head><meta charset=\"utf-8\" /></head>\n",
              "<body>\n",
              "    <div>\n",
              "            <script src=\"https://cdnjs.cloudflare.com/ajax/libs/mathjax/2.7.5/MathJax.js?config=TeX-AMS-MML_SVG\"></script><script type=\"text/javascript\">if (window.MathJax) {MathJax.Hub.Config({SVG: {font: \"STIX-Web\"}});}</script>\n",
              "                <script type=\"text/javascript\">window.PlotlyConfig = {MathJaxConfig: 'local'};</script>\n",
              "        <script src=\"https://cdn.plot.ly/plotly-latest.min.js\"></script>    \n",
              "            <div id=\"2a83cd45-711a-4ae2-bd84-4aba739cbce4\" class=\"plotly-graph-div\" style=\"height:525px; width:100%;\"></div>\n",
              "            <script type=\"text/javascript\">\n",
              "                \n",
              "                    window.PLOTLYENV=window.PLOTLYENV || {};\n",
              "                    \n",
              "                if (document.getElementById(\"2a83cd45-711a-4ae2-bd84-4aba739cbce4\")) {\n",
              "                    Plotly.newPlot(\n",
              "                        '2a83cd45-711a-4ae2-bd84-4aba739cbce4',\n",
              "                        [{\"hoverlabel\": {\"namelength\": 0}, \"hovertemplate\": \"# Components=%{x}<br>Explained Variance=%{y}\", \"legendgroup\": \"\", \"line\": {\"color\": \"#636efa\"}, \"mode\": \"lines\", \"name\": \"\", \"orientation\": \"v\", \"showlegend\": false, \"stackgroup\": \"1\", \"type\": \"scatter\", \"x\": [1, 2, 3, 4, 5, 6, 7, 8, 9, 10, 11, 12, 13, 14, 15, 16, 17, 18, 19, 20, 21, 22, 23, 24, 25, 26, 27, 28, 29, 30, 31, 32, 33, 34, 35], \"xaxis\": \"x\", \"y\": [0.22776732590735055, 0.4431194708852182, 0.5978027389642878, 0.6908807842094742, 0.7471047876073423, 0.7878740581778918, 0.824834866498293, 0.8571001498959727, 0.8860582936964864, 0.9096109211608664, 0.926826722332752, 0.9425462969076319, 0.9526364395614465, 0.9624468959596617, 0.971553593991169, 0.9794385983548799, 0.983702984251412, 0.9871420945888034, 0.9902765822725554, 0.9930689200430717, 0.995539265175808, 0.9970003251224302, 0.9980312867648389, 0.998673481865224, 0.9992681245823469, 0.9996816423094291, 0.9998463708812396, 0.9999104528387264, 0.9999622018739602, 0.9999920476511687, 0.9999989425441711, 0.9999998344324103, 0.9999999999999999, 0.9999999999999999, 0.9999999999999999], \"yaxis\": \"y\"}],\n",
              "                        {\"legend\": {\"tracegroupgap\": 0}, \"margin\": {\"t\": 60}, \"template\": {\"data\": {\"bar\": [{\"error_x\": {\"color\": \"#2a3f5f\"}, \"error_y\": {\"color\": \"#2a3f5f\"}, \"marker\": {\"line\": {\"color\": \"#E5ECF6\", \"width\": 0.5}}, \"type\": \"bar\"}], \"barpolar\": [{\"marker\": {\"line\": {\"color\": \"#E5ECF6\", \"width\": 0.5}}, \"type\": \"barpolar\"}], \"carpet\": [{\"aaxis\": {\"endlinecolor\": \"#2a3f5f\", \"gridcolor\": \"white\", \"linecolor\": \"white\", \"minorgridcolor\": \"white\", \"startlinecolor\": \"#2a3f5f\"}, \"baxis\": {\"endlinecolor\": \"#2a3f5f\", \"gridcolor\": \"white\", \"linecolor\": \"white\", \"minorgridcolor\": \"white\", \"startlinecolor\": \"#2a3f5f\"}, \"type\": \"carpet\"}], \"choropleth\": [{\"colorbar\": {\"outlinewidth\": 0, \"ticks\": \"\"}, \"type\": \"choropleth\"}], \"contour\": [{\"colorbar\": {\"outlinewidth\": 0, \"ticks\": \"\"}, \"colorscale\": [[0.0, \"#0d0887\"], [0.1111111111111111, \"#46039f\"], [0.2222222222222222, \"#7201a8\"], [0.3333333333333333, \"#9c179e\"], [0.4444444444444444, \"#bd3786\"], [0.5555555555555556, \"#d8576b\"], [0.6666666666666666, \"#ed7953\"], [0.7777777777777778, \"#fb9f3a\"], [0.8888888888888888, \"#fdca26\"], [1.0, \"#f0f921\"]], \"type\": \"contour\"}], \"contourcarpet\": [{\"colorbar\": {\"outlinewidth\": 0, \"ticks\": \"\"}, \"type\": \"contourcarpet\"}], \"heatmap\": [{\"colorbar\": {\"outlinewidth\": 0, \"ticks\": \"\"}, \"colorscale\": [[0.0, \"#0d0887\"], [0.1111111111111111, \"#46039f\"], [0.2222222222222222, \"#7201a8\"], [0.3333333333333333, \"#9c179e\"], [0.4444444444444444, \"#bd3786\"], [0.5555555555555556, \"#d8576b\"], [0.6666666666666666, \"#ed7953\"], [0.7777777777777778, \"#fb9f3a\"], [0.8888888888888888, \"#fdca26\"], [1.0, \"#f0f921\"]], \"type\": \"heatmap\"}], \"heatmapgl\": [{\"colorbar\": {\"outlinewidth\": 0, \"ticks\": \"\"}, \"colorscale\": [[0.0, \"#0d0887\"], [0.1111111111111111, \"#46039f\"], [0.2222222222222222, \"#7201a8\"], [0.3333333333333333, \"#9c179e\"], [0.4444444444444444, \"#bd3786\"], [0.5555555555555556, \"#d8576b\"], [0.6666666666666666, \"#ed7953\"], [0.7777777777777778, \"#fb9f3a\"], [0.8888888888888888, \"#fdca26\"], [1.0, \"#f0f921\"]], \"type\": \"heatmapgl\"}], \"histogram\": [{\"marker\": {\"colorbar\": {\"outlinewidth\": 0, \"ticks\": \"\"}}, \"type\": \"histogram\"}], \"histogram2d\": [{\"colorbar\": {\"outlinewidth\": 0, \"ticks\": \"\"}, \"colorscale\": [[0.0, \"#0d0887\"], [0.1111111111111111, \"#46039f\"], [0.2222222222222222, \"#7201a8\"], [0.3333333333333333, \"#9c179e\"], [0.4444444444444444, \"#bd3786\"], [0.5555555555555556, \"#d8576b\"], [0.6666666666666666, \"#ed7953\"], [0.7777777777777778, \"#fb9f3a\"], [0.8888888888888888, \"#fdca26\"], [1.0, \"#f0f921\"]], \"type\": \"histogram2d\"}], \"histogram2dcontour\": [{\"colorbar\": {\"outlinewidth\": 0, \"ticks\": \"\"}, \"colorscale\": [[0.0, \"#0d0887\"], [0.1111111111111111, \"#46039f\"], [0.2222222222222222, \"#7201a8\"], [0.3333333333333333, \"#9c179e\"], [0.4444444444444444, \"#bd3786\"], [0.5555555555555556, \"#d8576b\"], [0.6666666666666666, \"#ed7953\"], [0.7777777777777778, \"#fb9f3a\"], [0.8888888888888888, \"#fdca26\"], [1.0, \"#f0f921\"]], \"type\": \"histogram2dcontour\"}], \"mesh3d\": [{\"colorbar\": {\"outlinewidth\": 0, \"ticks\": \"\"}, \"type\": \"mesh3d\"}], \"parcoords\": [{\"line\": {\"colorbar\": {\"outlinewidth\": 0, \"ticks\": \"\"}}, \"type\": \"parcoords\"}], \"pie\": [{\"automargin\": true, \"type\": \"pie\"}], \"scatter\": [{\"marker\": {\"colorbar\": {\"outlinewidth\": 0, \"ticks\": \"\"}}, \"type\": \"scatter\"}], \"scatter3d\": [{\"line\": {\"colorbar\": {\"outlinewidth\": 0, \"ticks\": \"\"}}, \"marker\": {\"colorbar\": {\"outlinewidth\": 0, \"ticks\": \"\"}}, \"type\": \"scatter3d\"}], \"scattercarpet\": [{\"marker\": {\"colorbar\": {\"outlinewidth\": 0, \"ticks\": \"\"}}, \"type\": \"scattercarpet\"}], \"scattergeo\": [{\"marker\": {\"colorbar\": {\"outlinewidth\": 0, \"ticks\": \"\"}}, \"type\": \"scattergeo\"}], \"scattergl\": [{\"marker\": {\"colorbar\": {\"outlinewidth\": 0, \"ticks\": \"\"}}, \"type\": \"scattergl\"}], \"scattermapbox\": [{\"marker\": {\"colorbar\": {\"outlinewidth\": 0, \"ticks\": \"\"}}, \"type\": \"scattermapbox\"}], \"scatterpolar\": [{\"marker\": {\"colorbar\": {\"outlinewidth\": 0, \"ticks\": \"\"}}, \"type\": \"scatterpolar\"}], \"scatterpolargl\": [{\"marker\": {\"colorbar\": {\"outlinewidth\": 0, \"ticks\": \"\"}}, \"type\": \"scatterpolargl\"}], \"scatterternary\": [{\"marker\": {\"colorbar\": {\"outlinewidth\": 0, \"ticks\": \"\"}}, \"type\": \"scatterternary\"}], \"surface\": [{\"colorbar\": {\"outlinewidth\": 0, \"ticks\": \"\"}, \"colorscale\": [[0.0, \"#0d0887\"], [0.1111111111111111, \"#46039f\"], [0.2222222222222222, \"#7201a8\"], [0.3333333333333333, \"#9c179e\"], [0.4444444444444444, \"#bd3786\"], [0.5555555555555556, \"#d8576b\"], [0.6666666666666666, \"#ed7953\"], [0.7777777777777778, \"#fb9f3a\"], [0.8888888888888888, \"#fdca26\"], [1.0, \"#f0f921\"]], \"type\": \"surface\"}], \"table\": [{\"cells\": {\"fill\": {\"color\": \"#EBF0F8\"}, \"line\": {\"color\": \"white\"}}, \"header\": {\"fill\": {\"color\": \"#C8D4E3\"}, \"line\": {\"color\": \"white\"}}, \"type\": \"table\"}]}, \"layout\": {\"annotationdefaults\": {\"arrowcolor\": \"#2a3f5f\", \"arrowhead\": 0, \"arrowwidth\": 1}, \"coloraxis\": {\"colorbar\": {\"outlinewidth\": 0, \"ticks\": \"\"}}, \"colorscale\": {\"diverging\": [[0, \"#8e0152\"], [0.1, \"#c51b7d\"], [0.2, \"#de77ae\"], [0.3, \"#f1b6da\"], [0.4, \"#fde0ef\"], [0.5, \"#f7f7f7\"], [0.6, \"#e6f5d0\"], [0.7, \"#b8e186\"], [0.8, \"#7fbc41\"], [0.9, \"#4d9221\"], [1, \"#276419\"]], \"sequential\": [[0.0, \"#0d0887\"], [0.1111111111111111, \"#46039f\"], [0.2222222222222222, \"#7201a8\"], [0.3333333333333333, \"#9c179e\"], [0.4444444444444444, \"#bd3786\"], [0.5555555555555556, \"#d8576b\"], [0.6666666666666666, \"#ed7953\"], [0.7777777777777778, \"#fb9f3a\"], [0.8888888888888888, \"#fdca26\"], [1.0, \"#f0f921\"]], \"sequentialminus\": [[0.0, \"#0d0887\"], [0.1111111111111111, \"#46039f\"], [0.2222222222222222, \"#7201a8\"], [0.3333333333333333, \"#9c179e\"], [0.4444444444444444, \"#bd3786\"], [0.5555555555555556, \"#d8576b\"], [0.6666666666666666, \"#ed7953\"], [0.7777777777777778, \"#fb9f3a\"], [0.8888888888888888, \"#fdca26\"], [1.0, \"#f0f921\"]]}, \"colorway\": [\"#636efa\", \"#EF553B\", \"#00cc96\", \"#ab63fa\", \"#FFA15A\", \"#19d3f3\", \"#FF6692\", \"#B6E880\", \"#FF97FF\", \"#FECB52\"], \"font\": {\"color\": \"#2a3f5f\"}, \"geo\": {\"bgcolor\": \"white\", \"lakecolor\": \"white\", \"landcolor\": \"#E5ECF6\", \"showlakes\": true, \"showland\": true, \"subunitcolor\": \"white\"}, \"hoverlabel\": {\"align\": \"left\"}, \"hovermode\": \"closest\", \"mapbox\": {\"style\": \"light\"}, \"paper_bgcolor\": \"white\", \"plot_bgcolor\": \"#E5ECF6\", \"polar\": {\"angularaxis\": {\"gridcolor\": \"white\", \"linecolor\": \"white\", \"ticks\": \"\"}, \"bgcolor\": \"#E5ECF6\", \"radialaxis\": {\"gridcolor\": \"white\", \"linecolor\": \"white\", \"ticks\": \"\"}}, \"scene\": {\"xaxis\": {\"backgroundcolor\": \"#E5ECF6\", \"gridcolor\": \"white\", \"gridwidth\": 2, \"linecolor\": \"white\", \"showbackground\": true, \"ticks\": \"\", \"zerolinecolor\": \"white\"}, \"yaxis\": {\"backgroundcolor\": \"#E5ECF6\", \"gridcolor\": \"white\", \"gridwidth\": 2, \"linecolor\": \"white\", \"showbackground\": true, \"ticks\": \"\", \"zerolinecolor\": \"white\"}, \"zaxis\": {\"backgroundcolor\": \"#E5ECF6\", \"gridcolor\": \"white\", \"gridwidth\": 2, \"linecolor\": \"white\", \"showbackground\": true, \"ticks\": \"\", \"zerolinecolor\": \"white\"}}, \"shapedefaults\": {\"line\": {\"color\": \"#2a3f5f\"}}, \"ternary\": {\"aaxis\": {\"gridcolor\": \"white\", \"linecolor\": \"white\", \"ticks\": \"\"}, \"baxis\": {\"gridcolor\": \"white\", \"linecolor\": \"white\", \"ticks\": \"\"}, \"bgcolor\": \"#E5ECF6\", \"caxis\": {\"gridcolor\": \"white\", \"linecolor\": \"white\", \"ticks\": \"\"}}, \"title\": {\"x\": 0.05}, \"xaxis\": {\"automargin\": true, \"gridcolor\": \"white\", \"linecolor\": \"white\", \"ticks\": \"\", \"title\": {\"standoff\": 15}, \"zerolinecolor\": \"white\", \"zerolinewidth\": 2}, \"yaxis\": {\"automargin\": true, \"gridcolor\": \"white\", \"linecolor\": \"white\", \"ticks\": \"\", \"title\": {\"standoff\": 15}, \"zerolinecolor\": \"white\", \"zerolinewidth\": 2}}}, \"xaxis\": {\"anchor\": \"y\", \"domain\": [0.0, 1.0], \"title\": {\"text\": \"# Components\"}}, \"yaxis\": {\"anchor\": \"x\", \"domain\": [0.0, 1.0], \"title\": {\"text\": \"Explained Variance\"}}},\n",
              "                        {\"responsive\": true}\n",
              "                    ).then(function(){\n",
              "                            \n",
              "var gd = document.getElementById('2a83cd45-711a-4ae2-bd84-4aba739cbce4');\n",
              "var x = new MutationObserver(function (mutations, observer) {{\n",
              "        var display = window.getComputedStyle(gd).display;\n",
              "        if (!display || display === 'none') {{\n",
              "            console.log([gd, 'removed!']);\n",
              "            Plotly.purge(gd);\n",
              "            observer.disconnect();\n",
              "        }}\n",
              "}});\n",
              "\n",
              "// Listen for the removal of the full notebook cells\n",
              "var notebookContainer = gd.closest('#notebook-container');\n",
              "if (notebookContainer) {{\n",
              "    x.observe(notebookContainer, {childList: true});\n",
              "}}\n",
              "\n",
              "// Listen for the clearing of the current output cell\n",
              "var outputEl = gd.closest('.output');\n",
              "if (outputEl) {{\n",
              "    x.observe(outputEl, {childList: true});\n",
              "}}\n",
              "\n",
              "                        })\n",
              "                };\n",
              "                \n",
              "            </script>\n",
              "        </div>\n",
              "</body>\n",
              "</html>"
            ]
          },
          "metadata": {
            "tags": []
          }
        }
      ]
    },
    {
      "cell_type": "code",
      "metadata": {
        "colab": {
          "base_uri": "https://localhost:8080/"
        },
        "id": "O2x3z_NqhOs3",
        "outputId": "fa1ba726-194a-40be-abb9-c96e7afb7627"
      },
      "source": [
        "X_pca_rs = PCA(n_components = 8).fit_transform(static_defenses3)\n",
        "X_pca_rs.shape"
      ],
      "execution_count": null,
      "outputs": [
        {
          "output_type": "execute_result",
          "data": {
            "text/plain": [
              "(13055, 8)"
            ]
          },
          "metadata": {
            "tags": []
          },
          "execution_count": 99
        }
      ]
    },
    {
      "cell_type": "code",
      "metadata": {
        "colab": {
          "base_uri": "https://localhost:8080/",
          "height": 206
        },
        "id": "KTWcl41qhOs3",
        "outputId": "9e6a5b9a-7304-41f0-ca78-09c4f39b6974"
      },
      "source": [
        "train_rs = pd.DataFrame(X_pca_rs)\n",
        "train_rs[\"cluster\"] = static_defenses_rs[\"cluster\"].values\n",
        "train_rs[\"playResult\"] = static_defenses_rs[\"playResult\"].values\n",
        "train_rs.head()"
      ],
      "execution_count": null,
      "outputs": [
        {
          "output_type": "execute_result",
          "data": {
            "text/html": [
              "<div>\n",
              "<style scoped>\n",
              "    .dataframe tbody tr th:only-of-type {\n",
              "        vertical-align: middle;\n",
              "    }\n",
              "\n",
              "    .dataframe tbody tr th {\n",
              "        vertical-align: top;\n",
              "    }\n",
              "\n",
              "    .dataframe thead th {\n",
              "        text-align: right;\n",
              "    }\n",
              "</style>\n",
              "<table border=\"1\" class=\"dataframe\">\n",
              "  <thead>\n",
              "    <tr style=\"text-align: right;\">\n",
              "      <th></th>\n",
              "      <th>0</th>\n",
              "      <th>1</th>\n",
              "      <th>2</th>\n",
              "      <th>3</th>\n",
              "      <th>4</th>\n",
              "      <th>5</th>\n",
              "      <th>6</th>\n",
              "      <th>7</th>\n",
              "      <th>cluster</th>\n",
              "      <th>playResult</th>\n",
              "    </tr>\n",
              "  </thead>\n",
              "  <tbody>\n",
              "    <tr>\n",
              "      <th>0</th>\n",
              "      <td>-3.086540</td>\n",
              "      <td>-1.245079</td>\n",
              "      <td>0.775700</td>\n",
              "      <td>-1.588382</td>\n",
              "      <td>-0.322694</td>\n",
              "      <td>-1.144379</td>\n",
              "      <td>-1.030578</td>\n",
              "      <td>-1.295211</td>\n",
              "      <td>0</td>\n",
              "      <td>10</td>\n",
              "    </tr>\n",
              "    <tr>\n",
              "      <th>1</th>\n",
              "      <td>-2.772962</td>\n",
              "      <td>-1.547817</td>\n",
              "      <td>0.375283</td>\n",
              "      <td>-1.358169</td>\n",
              "      <td>-0.976733</td>\n",
              "      <td>-0.929058</td>\n",
              "      <td>0.919315</td>\n",
              "      <td>-0.066047</td>\n",
              "      <td>0</td>\n",
              "      <td>0</td>\n",
              "    </tr>\n",
              "    <tr>\n",
              "      <th>2</th>\n",
              "      <td>-3.498090</td>\n",
              "      <td>-0.020386</td>\n",
              "      <td>-1.007403</td>\n",
              "      <td>-1.610834</td>\n",
              "      <td>-1.709207</td>\n",
              "      <td>2.113304</td>\n",
              "      <td>-1.675500</td>\n",
              "      <td>-0.445066</td>\n",
              "      <td>0</td>\n",
              "      <td>0</td>\n",
              "    </tr>\n",
              "    <tr>\n",
              "      <th>3</th>\n",
              "      <td>-3.008134</td>\n",
              "      <td>-1.703868</td>\n",
              "      <td>1.541688</td>\n",
              "      <td>0.843385</td>\n",
              "      <td>0.263909</td>\n",
              "      <td>-2.112420</td>\n",
              "      <td>-1.214189</td>\n",
              "      <td>-0.445794</td>\n",
              "      <td>0</td>\n",
              "      <td>4</td>\n",
              "    </tr>\n",
              "    <tr>\n",
              "      <th>4</th>\n",
              "      <td>-3.542413</td>\n",
              "      <td>-0.924250</td>\n",
              "      <td>0.180198</td>\n",
              "      <td>0.599851</td>\n",
              "      <td>-0.141021</td>\n",
              "      <td>1.632405</td>\n",
              "      <td>-0.021655</td>\n",
              "      <td>-0.785646</td>\n",
              "      <td>0</td>\n",
              "      <td>0</td>\n",
              "    </tr>\n",
              "  </tbody>\n",
              "</table>\n",
              "</div>"
            ],
            "text/plain": [
              "          0         1         2         3         4         5         6  \\\n",
              "0 -3.086540 -1.245079  0.775700 -1.588382 -0.322694 -1.144379 -1.030578   \n",
              "1 -2.772962 -1.547817  0.375283 -1.358169 -0.976733 -0.929058  0.919315   \n",
              "2 -3.498090 -0.020386 -1.007403 -1.610834 -1.709207  2.113304 -1.675500   \n",
              "3 -3.008134 -1.703868  1.541688  0.843385  0.263909 -2.112420 -1.214189   \n",
              "4 -3.542413 -0.924250  0.180198  0.599851 -0.141021  1.632405 -0.021655   \n",
              "\n",
              "          7  cluster  playResult  \n",
              "0 -1.295211        0          10  \n",
              "1 -0.066047        0           0  \n",
              "2 -0.445066        0           0  \n",
              "3 -0.445794        0           4  \n",
              "4 -0.785646        0           0  "
            ]
          },
          "metadata": {
            "tags": []
          },
          "execution_count": 100
        }
      ]
    },
    {
      "cell_type": "markdown",
      "metadata": {
        "id": "ZwoTTOAMhOs3"
      },
      "source": [
        "###KNN"
      ]
    },
    {
      "cell_type": "code",
      "metadata": {
        "colab": {
          "base_uri": "https://localhost:8080/",
          "height": 300
        },
        "id": "J-HPyRBOhOs4",
        "outputId": "7e9e2b2a-5b41-4027-994e-a7a069e4c796"
      },
      "source": [
        "from sklearn import neighbors\n",
        "from sklearn.model_selection import KFold\n",
        "import matplotlib.pyplot as plt\n",
        "from sklearn.metrics import mean_absolute_error\n",
        "\n",
        "cv = KFold(n_splits = 10, shuffle = False) #\n",
        "\n",
        "\n",
        "for i, weights in enumerate(['uniform', 'distance']):\n",
        "   total_scores = []\n",
        "   for n_neighbors in range(1,30):\n",
        "       fold_accuracy = []\n",
        "       knn = neighbors.KNeighborsRegressor(n_neighbors, weights=weights)\n",
        "       # verificar cada uno de los modelos con validación cruzada.\n",
        "       for train_fold, test_fold in cv.split(train_rs):\n",
        "          # División train test aleatoria\n",
        "          f_train = train_ss.loc[train_fold]\n",
        "          f_test = train_ss.loc[test_fold]\n",
        "          # entrenamiento y ejecución del modelo\n",
        "          knn.fit( X = f_train.drop([\"playResult\"],axis=1), y = f_train['playResult'])\n",
        "          y_pred = knn.predict(X = f_test.drop(['playResult'], axis = 1))\n",
        "          # evaluación del modelo\n",
        "          mae = mean_absolute_error(f_test['playResult'], y_pred)\n",
        "          fold_accuracy.append(mae)\n",
        "       total_scores.append(sum(fold_accuracy)/len(fold_accuracy))\n",
        "   \n",
        "   plt.plot(range(1,len(total_scores)+1), total_scores, \n",
        "             marker='o', label=weights)\n",
        "   print ('Min Value ' +  weights + \" : \" +  str(min(total_scores)) +\" (\" + str(np.argmin(total_scores) + 1) + \")\")\n",
        "   plt.ylabel('MAE')      \n",
        "    \n",
        "\n",
        "plt.legend()\n",
        "plt.show() \n",
        "\n"
      ],
      "execution_count": null,
      "outputs": [
        {
          "output_type": "stream",
          "text": [
            "Min Value uniform : 4.377754751235039 (29)\n",
            "Min Value distance : 4.378160734828406 (29)\n"
          ],
          "name": "stdout"
        },
        {
          "output_type": "display_data",
          "data": {
            "image/png": "[encoded data removed]",
            "text/plain": [
              "<Figure size 432x288 with 1 Axes>"
            ]
          },
          "metadata": {
            "tags": [],
            "needs_background": "light"
          }
        }
      ]
    },
    {
      "cell_type": "code",
      "metadata": {
        "id": "IDZrXtqchOs4"
      },
      "source": [
        "X_train, X_test, y_train, y_test = train_test_split(train_rs.drop([\"playResult\"],axis=1), train_rs[\"playResult\"], test_size=0.2)"
      ],
      "execution_count": null,
      "outputs": []
    },
    {
      "cell_type": "code",
      "metadata": {
        "cellView": "both",
        "colab": {
          "base_uri": "https://localhost:8080/"
        },
        "id": "MNgxfU54hOs4",
        "outputId": "feb34907-6805-4835-d981-247797c8bd09"
      },
      "source": [
        "# constructor\n",
        "n_neighbors = 29\n",
        "weights = 'uniform'\n",
        "knn = neighbors.KNeighborsRegressor(n_neighbors= n_neighbors, weights=weights) \n",
        "# fit and predict\n",
        "\n",
        "knn.fit( X = X_train, y = y_train)\n",
        "y_pred = knn.predict(X = X_test)\n",
        "mae = mean_absolute_error(y_test,y_pred)\n",
        "print ('MAE', mae)"
      ],
      "execution_count": null,
      "outputs": [
        {
          "output_type": "stream",
          "text": [
            "MAE 4.381766795652346\n"
          ],
          "name": "stdout"
        }
      ]
    },
    {
      "cell_type": "code",
      "metadata": {
        "colab": {
          "base_uri": "https://localhost:8080/",
          "height": 370
        },
        "id": "emRkAHuchOs5",
        "outputId": "a042d6cf-1ecd-45f5-9eb8-8fef68b435dd"
      },
      "source": [
        "from sklearn.metrics import mean_absolute_error\n",
        "\n",
        "                    \n",
        "# x axis for plotting\n",
        "import numpy as np\n",
        "xx = np.stack(i for i in range(y_test.shape[0]))\n",
        "plt.plot(xx, y_test, c='r', label='data')\n",
        "#plt.plot(xx, y, c='k', label='data')\n",
        "plt.plot(xx, y_pred, c='g', label='prediction')\n",
        "plt.axis('tight')\n",
        "plt.legend()\n",
        "plt.title(\"KNeighborsRegressor (k = %i, weights = '%s')\" % (n_neighbors,\n",
        "                                                                weights))\n",
        "\n",
        "plt.show()"
      ],
      "execution_count": null,
      "outputs": [
        {
          "output_type": "stream",
          "text": [
            "/usr/local/lib/python3.7/dist-packages/IPython/core/interactiveshell.py:2822: FutureWarning:\n",
            "\n",
            "arrays to stack must be passed as a \"sequence\" type such as list or tuple. Support for non-sequence iterables such as generators is deprecated as of NumPy 1.16 and will raise an error in the future.\n",
            "\n"
          ],
          "name": "stderr"
        },
        {
          "output_type": "display_data",
          "data": {
            "image/png": "[encoded data removed]",
            "text/plain": [
              "<Figure size 432x288 with 1 Axes>"
            ]
          },
          "metadata": {
            "tags": [],
            "needs_background": "light"
          }
        }
      ]
    },
    {
      "cell_type": "markdown",
      "metadata": {
        "id": "q3237ofFhOs5"
      },
      "source": [
        "###Decision Trees"
      ]
    },
    {
      "cell_type": "code",
      "metadata": {
        "colab": {
          "base_uri": "https://localhost:8080/",
          "height": 300
        },
        "id": "kmpiyQ6_hOs5",
        "outputId": "d501f693-5580-4999-b089-31de546eb838"
      },
      "source": [
        "from sklearn.tree import DecisionTreeRegressor\n",
        "from sklearn.model_selection import KFold\n",
        "import matplotlib.pyplot as plt\n",
        "from sklearn.metrics import mean_absolute_error\n",
        "import numpy as np\n",
        "\n",
        "cv = KFold(n_splits = 10, shuffle = False) #\n",
        "#  https://scikit-learn.org/stable/modules/generated/sklearn.model_selection.TimeSeriesSplit.html \n",
        "\n",
        "\n",
        "total_scores = []\n",
        "for i in range(1,30):\n",
        "    fold_accuracy = []\n",
        "    dt = DecisionTreeRegressor(max_depth=i)\n",
        "    # verificar cada uno de los modelos con validación cruzada.\n",
        "    for train_fold, test_fold in cv.split(train_rs):\n",
        "      # División train test aleatoria\n",
        "      f_train = train_ss.loc[train_fold]\n",
        "      f_test = train_ss.loc[test_fold]\n",
        "      # entrenamiento y ejecución del modelo\n",
        "      dt.fit( X = f_train.drop(['playResult'], axis=1), \n",
        "                            y = f_train['playResult'])\n",
        "      y_pred = dt.predict(X = f_test.drop(['playResult'], axis = 1))\n",
        "      # evaluación del modelo\n",
        "      mae = mean_absolute_error(f_test['playResult'], y_pred)\n",
        "      fold_accuracy.append(mae)\n",
        "    total_scores.append(sum(fold_accuracy)/len(fold_accuracy))\n",
        "   \n",
        "plt.plot(range(1,len(total_scores)+1), total_scores, \n",
        "           marker='o')\n",
        "print ('Min Value  :' +  str(min(total_scores)) +' (' + str(np.argmin(total_scores) + 1) + ')')\n",
        "plt.ylabel('MAE')      \n",
        "    \n",
        "\n",
        "plt.legend()\n",
        "plt.show() "
      ],
      "execution_count": null,
      "outputs": [
        {
          "output_type": "stream",
          "text": [
            "No handles with labels found to put in legend.\n"
          ],
          "name": "stderr"
        },
        {
          "output_type": "stream",
          "text": [
            "Min Value  :4.352378349329421 (3)\n"
          ],
          "name": "stdout"
        },
        {
          "output_type": "display_data",
          "data": {
            "image/png": "[encoded data removed]",
            "text/plain": [
              "<Figure size 432x288 with 1 Axes>"
            ]
          },
          "metadata": {
            "tags": [],
            "needs_background": "light"
          }
        }
      ]
    },
    {
      "cell_type": "code",
      "metadata": {
        "id": "oooKaDDPhOs6"
      },
      "source": [
        "X_train, X_test, y_train, y_test = train_test_split(train_rs.drop([\"playResult\"],axis=1),train_rs[\"playResult\"],test_size=0.2)"
      ],
      "execution_count": null,
      "outputs": []
    },
    {
      "cell_type": "code",
      "metadata": {
        "colab": {
          "base_uri": "https://localhost:8080/"
        },
        "id": "gAAU8zdyhOs6",
        "outputId": "6c6f9dcd-fbce-48be-a604-05b124eb91e9"
      },
      "source": [
        "regressor = DecisionTreeRegressor(max_depth=5)\n",
        "regressor.fit( X = X_train, y = y_train)\n",
        "y_pred = regressor.predict(X = X_test)\n",
        "mae = mean_absolute_error(y_test, y_pred)\n",
        "print ('MAE', mae)\n"
      ],
      "execution_count": null,
      "outputs": [
        {
          "output_type": "stream",
          "text": [
            "MAE 4.3345387442252905\n"
          ],
          "name": "stdout"
        }
      ]
    },
    {
      "cell_type": "code",
      "metadata": {
        "colab": {
          "base_uri": "https://localhost:8080/",
          "height": 370
        },
        "id": "yVcAULZyhOs6",
        "outputId": "2de62264-34d4-4732-e487-59b94aa89613"
      },
      "source": [
        "from sklearn.metrics import mean_absolute_error\n",
        "\n",
        "                    \n",
        "# x axis for plotting\n",
        "import numpy as np\n",
        "xx = np.stack(i for i in range(y_test.shape[0]))\n",
        "plt.plot(xx, y_test, c='r', label='data')\n",
        "#plt.plot(xx, y, c='k', label='data')\n",
        "plt.plot(xx, y_pred, c='g', label='prediction')\n",
        "plt.axis('tight')\n",
        "plt.legend()\n",
        "plt.title(\"DecisionTree\")\n",
        "\n",
        "plt.show()"
      ],
      "execution_count": null,
      "outputs": [
        {
          "output_type": "stream",
          "text": [
            "/usr/local/lib/python3.7/dist-packages/IPython/core/interactiveshell.py:2822: FutureWarning:\n",
            "\n",
            "arrays to stack must be passed as a \"sequence\" type such as list or tuple. Support for non-sequence iterables such as generators is deprecated as of NumPy 1.16 and will raise an error in the future.\n",
            "\n"
          ],
          "name": "stderr"
        },
        {
          "output_type": "display_data",
          "data": {
            "image/png": "[encoded data removed]",
            "text/plain": [
              "<Figure size 432x288 with 1 Axes>"
            ]
          },
          "metadata": {
            "tags": [],
            "needs_background": "light"
          }
        }
      ]
    },
    {
      "cell_type": "markdown",
      "metadata": {
        "id": "eC8XDD-4hOs7"
      },
      "source": [
        "###RamdomForest"
      ]
    },
    {
      "cell_type": "code",
      "metadata": {
        "id": "5GZT8ktvhOs7"
      },
      "source": [
        "X_train, X_test, y_train, y_test = train_test_split(train_mms.drop([\"playResult\"],axis=1),train_mms[\"playResult\"],test_size=0.2)"
      ],
      "execution_count": null,
      "outputs": []
    },
    {
      "cell_type": "code",
      "metadata": {
        "colab": {
          "base_uri": "https://localhost:8080/"
        },
        "id": "PxsMsUOShOs7",
        "outputId": "85b9a6e1-6c99-47a1-af7b-57a52b50f22f"
      },
      "source": [
        "from sklearn.ensemble import RandomForestRegressor\n",
        "\n",
        "#1.1 Model Parametrization \n",
        "regressor = RandomForestRegressor(n_estimators= 100, max_depth = 10, criterion='mae', random_state=0)\n",
        "#1.2 Model construction\n",
        "regressor.fit(X_train, y_train)\n",
        "\n",
        "# Test\n",
        "y_pred = regressor.predict(X_test)\n",
        "\n",
        "# metrics calculation \n",
        "from sklearn.metrics import mean_absolute_error\n",
        "mae = mean_absolute_error(y_test,y_pred)\n",
        "print (\"Error Measure \",  mae)"
      ],
      "execution_count": null,
      "outputs": [
        {
          "output_type": "stream",
          "text": [
            "Error Measure  7.682313432835821\n"
          ],
          "name": "stdout"
        }
      ]
    },
    {
      "cell_type": "code",
      "metadata": {
        "colab": {
          "base_uri": "https://localhost:8080/",
          "height": 370
        },
        "id": "uNdhuDO1hOs7",
        "outputId": "4e9b5f39-5bda-4e0b-b94b-31fd5267c5eb"
      },
      "source": [
        "#plt.subplot(2, 1, i + 1)\n",
        "# x axis for plotting\n",
        "import matplotlib.pyplot as plt\n",
        "import numpy as np\n",
        "\n",
        "xx = np.stack(i for i in range(len(y_test)))\n",
        "plt.scatter(xx, y_test, c='r', label='data')\n",
        "plt.plot(xx, y_pred, c='g', label='prediction')\n",
        "plt.axis('tight')\n",
        "plt.legend()\n",
        "plt.title(\"RandomForests Regressor\")\n",
        "\n",
        "plt.show()"
      ],
      "execution_count": null,
      "outputs": [
        {
          "output_type": "stream",
          "text": [
            "/usr/local/lib/python3.7/dist-packages/IPython/core/interactiveshell.py:2822: FutureWarning:\n",
            "\n",
            "arrays to stack must be passed as a \"sequence\" type such as list or tuple. Support for non-sequence iterables such as generators is deprecated as of NumPy 1.16 and will raise an error in the future.\n",
            "\n"
          ],
          "name": "stderr"
        },
        {
          "output_type": "display_data",
          "data": {
            "image/png": "[encoded data removed]",
            "text/plain": [
              "<Figure size 432x288 with 1 Axes>"
            ]
          },
          "metadata": {
            "tags": [],
            "needs_background": "light"
          }
        }
      ]
    },
    {
      "cell_type": "code",
      "metadata": {
        "id": "GmC-R1iihOs8"
      },
      "source": [
        ""
      ],
      "execution_count": null,
      "outputs": []
    },
    {
      "cell_type": "markdown",
      "metadata": {
        "id": "SczduIZthF4w"
      },
      "source": [
        "#PowerTransformer"
      ]
    }
  ]
}