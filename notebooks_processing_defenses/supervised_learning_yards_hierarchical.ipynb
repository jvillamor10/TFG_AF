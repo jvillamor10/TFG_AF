{
  "nbformat": 4,
  "nbformat_minor": 0,
  "metadata": {
    "colab": {
      "name": "supervised_learning_yards_hierarchical.ipynb",
      "provenance": []
    },
    "kernelspec": {
      "name": "python3",
      "display_name": "Python 3"
    },
    "language_info": {
      "name": "python"
    }
  },
  "cells": [
    {
      "cell_type": "code",
      "metadata": {
        "id": "D8rZe9gbDWH_"
      },
      "source": [
        "import pandas as pd\n",
        "import pickle\n",
        "\n",
        "from sklearn import preprocessing\n",
        "from sklearn.decomposition import PCA\n",
        "from sklearn.cluster import KMeans\n",
        "from sklearn.cluster import DBSCAN\n",
        "from sklearn import metrics\n",
        "import sklearn.neighbors\n",
        "from sklearn.neighbors import kneighbors_graph\n",
        "from sklearn.model_selection import train_test_split\n",
        "\n",
        "import plotly.express as px\n",
        "import matplotlib.pyplot as plt\n",
        "import numpy as np\n",
        "\n",
        "import seaborn as sns"
      ],
      "execution_count": null,
      "outputs": []
    },
    {
      "cell_type": "code",
      "metadata": {
        "id": "backed-storm"
      },
      "source": [
        "pd.set_option('display.max_columns',None)"
      ],
      "execution_count": null,
      "outputs": []
    },
    {
      "cell_type": "code",
      "metadata": {
        "colab": {
          "resources": {
            "http://localhost:8080/nbextensions/google.colab/files.js": {
              "data": "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",
              "ok": true,
              "headers": [
                [
                  "content-type",
                  "application/javascript"
                ]
              ],
              "status": 200,
              "status_text": "OK"
            }
          },
          "base_uri": "https://localhost:8080/",
          "height": 94
        },
        "id": "hViZ3YN7H_71",
        "outputId": "e5901809-c4aa-4d21-8e10-1778615c89f1"
      },
      "source": [
        "# 0.1 load data from file\n",
        "from google.colab import files\n",
        "import io\n",
        "\n",
        "uploaded = files.upload()\n",
        "\n",
        "for fn in uploaded.keys():\n",
        "  print('User uploaded file \"{name}\" with length {length} bytes'.format(\n",
        "      name=fn, length=len(uploaded[fn])))"
      ],
      "execution_count": null,
      "outputs": [
        {
          "output_type": "display_data",
          "data": {
            "text/html": [
              "\n",
              "     <input type=\"file\" id=\"files-2dc903d2-a420-4c50-8dd7-174ccdd9e18b\" name=\"files[]\" multiple disabled\n",
              "        style=\"border:none\" />\n",
              "     <output id=\"result-2dc903d2-a420-4c50-8dd7-174ccdd9e18b\">\n",
              "      Upload widget is only available when the cell has been executed in the\n",
              "      current browser session. Please rerun this cell to enable.\n",
              "      </output>\n",
              "      <script src=\"/nbextensions/google.colab/files.js\"></script> "
            ],
            "text/plain": [
              "<IPython.core.display.HTML object>"
            ]
          },
          "metadata": {
            "tags": []
          }
        },
        {
          "output_type": "stream",
          "text": [
            "Saving static_defenses_mms_hierarchical_without_outliers.csv to static_defenses_mms_hierarchical_without_outliers.csv\n",
            "User uploaded file \"static_defenses_mms_hierarchical_without_outliers.csv\" with length 4966176 bytes\n"
          ],
          "name": "stdout"
        }
      ]
    },
    {
      "cell_type": "code",
      "metadata": {
        "id": "QyPmBYJV0FDr",
        "colab": {
          "base_uri": "https://localhost:8080/",
          "height": 444
        },
        "outputId": "750d3c0c-099d-4f94-ed20-82adb731653d"
      },
      "source": [
        "static_defenses = pd.read_csv(\"static_defenses_yards.csv\",index_col=0)\n",
        "static_defenses"
      ],
      "execution_count": null,
      "outputs": [
        {
          "output_type": "execute_result",
          "data": {
            "text/html": [
              "<div>\n",
              "<style scoped>\n",
              "    .dataframe tbody tr th:only-of-type {\n",
              "        vertical-align: middle;\n",
              "    }\n",
              "\n",
              "    .dataframe tbody tr th {\n",
              "        vertical-align: top;\n",
              "    }\n",
              "\n",
              "    .dataframe thead th {\n",
              "        text-align: right;\n",
              "    }\n",
              "</style>\n",
              "<table border=\"1\" class=\"dataframe\">\n",
              "  <thead>\n",
              "    <tr style=\"text-align: right;\">\n",
              "      <th></th>\n",
              "      <th>id</th>\n",
              "      <th>defensivelinezonePlayers</th>\n",
              "      <th>deepzonePlayers</th>\n",
              "      <th>hookzonePlayers</th>\n",
              "      <th>curlzonePlayers</th>\n",
              "      <th>flatzonePlayers</th>\n",
              "      <th>defenseArea</th>\n",
              "      <th>defenseAreaCoverDefenders</th>\n",
              "      <th>width</th>\n",
              "      <th>height</th>\n",
              "      <th>numberQBs</th>\n",
              "      <th>numberWRs</th>\n",
              "      <th>numberTEs</th>\n",
              "      <th>numberRBs</th>\n",
              "      <th>numberFBs</th>\n",
              "      <th>numberOffensivePlayersAnotherPosition</th>\n",
              "      <th>numberSafeties</th>\n",
              "      <th>numberLBs</th>\n",
              "      <th>numberCBs</th>\n",
              "      <th>strongSide</th>\n",
              "      <th>numberPlayersDefenseStrongSide</th>\n",
              "      <th>numberPlayersDefenseWeakSide</th>\n",
              "      <th>numberPlayersOffenseStrongSide</th>\n",
              "      <th>numberPlayersOffenseWeakSide</th>\n",
              "      <th>differenceOffenseVsDefenseWidth</th>\n",
              "      <th>differenceOffenseVsDefenseStrongSide</th>\n",
              "      <th>differenceOffenseVsDefenseWeakSide</th>\n",
              "      <th>HeightByWeightDeep</th>\n",
              "      <th>HeightByWeightHook</th>\n",
              "      <th>HeightByWeightCurl</th>\n",
              "      <th>HeightByWeightFlat</th>\n",
              "      <th>WeightByArea</th>\n",
              "      <th>density</th>\n",
              "      <th>densityNoLine</th>\n",
              "      <th>densityInsidePoints</th>\n",
              "      <th>densityInsidePointsNoLine</th>\n",
              "      <th>playResult</th>\n",
              "    </tr>\n",
              "  </thead>\n",
              "  <tbody>\n",
              "    <tr>\n",
              "      <th>0</th>\n",
              "      <td>2018090600:75:1</td>\n",
              "      <td>0</td>\n",
              "      <td>1</td>\n",
              "      <td>3</td>\n",
              "      <td>2</td>\n",
              "      <td>1</td>\n",
              "      <td>194.31095</td>\n",
              "      <td>194.31095</td>\n",
              "      <td>22.96</td>\n",
              "      <td>15.25</td>\n",
              "      <td>1</td>\n",
              "      <td>2</td>\n",
              "      <td>1</td>\n",
              "      <td>1</td>\n",
              "      <td>1</td>\n",
              "      <td>0</td>\n",
              "      <td>3</td>\n",
              "      <td>2</td>\n",
              "      <td>2</td>\n",
              "      <td>left</td>\n",
              "      <td>3</td>\n",
              "      <td>4</td>\n",
              "      <td>3</td>\n",
              "      <td>2</td>\n",
              "      <td>-0.63</td>\n",
              "      <td>0</td>\n",
              "      <td>-2</td>\n",
              "      <td>0.020227</td>\n",
              "      <td>0.018643</td>\n",
              "      <td>0.020066</td>\n",
              "      <td>0.021034</td>\n",
              "      <td>3.376032</td>\n",
              "      <td>0.036025</td>\n",
              "      <td>0.036025</td>\n",
              "      <td>6.974268</td>\n",
              "      <td>6.974268</td>\n",
              "      <td>10</td>\n",
              "    </tr>\n",
              "    <tr>\n",
              "      <th>1</th>\n",
              "      <td>2018090600:146:1</td>\n",
              "      <td>0</td>\n",
              "      <td>1</td>\n",
              "      <td>3</td>\n",
              "      <td>2</td>\n",
              "      <td>1</td>\n",
              "      <td>204.17725</td>\n",
              "      <td>204.17725</td>\n",
              "      <td>29.22</td>\n",
              "      <td>12.57</td>\n",
              "      <td>1</td>\n",
              "      <td>3</td>\n",
              "      <td>1</td>\n",
              "      <td>1</td>\n",
              "      <td>0</td>\n",
              "      <td>0</td>\n",
              "      <td>2</td>\n",
              "      <td>2</td>\n",
              "      <td>3</td>\n",
              "      <td>right</td>\n",
              "      <td>3</td>\n",
              "      <td>4</td>\n",
              "      <td>2</td>\n",
              "      <td>3</td>\n",
              "      <td>-1.15</td>\n",
              "      <td>-1</td>\n",
              "      <td>-1</td>\n",
              "      <td>0.020227</td>\n",
              "      <td>0.019228</td>\n",
              "      <td>0.020356</td>\n",
              "      <td>0.020455</td>\n",
              "      <td>3.178611</td>\n",
              "      <td>0.034284</td>\n",
              "      <td>0.034284</td>\n",
              "      <td>6.975511</td>\n",
              "      <td>6.975511</td>\n",
              "      <td>0</td>\n",
              "    </tr>\n",
              "    <tr>\n",
              "      <th>2</th>\n",
              "      <td>2018090600:168:1</td>\n",
              "      <td>0</td>\n",
              "      <td>1</td>\n",
              "      <td>2</td>\n",
              "      <td>2</td>\n",
              "      <td>2</td>\n",
              "      <td>277.65495</td>\n",
              "      <td>277.65495</td>\n",
              "      <td>33.67</td>\n",
              "      <td>15.21</td>\n",
              "      <td>1</td>\n",
              "      <td>2</td>\n",
              "      <td>1</td>\n",
              "      <td>2</td>\n",
              "      <td>0</td>\n",
              "      <td>0</td>\n",
              "      <td>2</td>\n",
              "      <td>2</td>\n",
              "      <td>3</td>\n",
              "      <td>left</td>\n",
              "      <td>5</td>\n",
              "      <td>2</td>\n",
              "      <td>4</td>\n",
              "      <td>1</td>\n",
              "      <td>0.71</td>\n",
              "      <td>-1</td>\n",
              "      <td>-1</td>\n",
              "      <td>0.020227</td>\n",
              "      <td>0.017683</td>\n",
              "      <td>0.020997</td>\n",
              "      <td>0.020745</td>\n",
              "      <td>2.337434</td>\n",
              "      <td>0.025211</td>\n",
              "      <td>0.025211</td>\n",
              "      <td>6.985594</td>\n",
              "      <td>6.985594</td>\n",
              "      <td>0</td>\n",
              "    </tr>\n",
              "    <tr>\n",
              "      <th>3</th>\n",
              "      <td>2018090600:190:1</td>\n",
              "      <td>1</td>\n",
              "      <td>0</td>\n",
              "      <td>2</td>\n",
              "      <td>3</td>\n",
              "      <td>1</td>\n",
              "      <td>189.16960</td>\n",
              "      <td>165.05520</td>\n",
              "      <td>26.42</td>\n",
              "      <td>12.91</td>\n",
              "      <td>1</td>\n",
              "      <td>3</td>\n",
              "      <td>1</td>\n",
              "      <td>1</td>\n",
              "      <td>0</td>\n",
              "      <td>0</td>\n",
              "      <td>3</td>\n",
              "      <td>1</td>\n",
              "      <td>3</td>\n",
              "      <td>right</td>\n",
              "      <td>2</td>\n",
              "      <td>5</td>\n",
              "      <td>2</td>\n",
              "      <td>3</td>\n",
              "      <td>-3.11</td>\n",
              "      <td>0</td>\n",
              "      <td>-2</td>\n",
              "      <td>0.000000</td>\n",
              "      <td>0.020120</td>\n",
              "      <td>0.021193</td>\n",
              "      <td>0.020455</td>\n",
              "      <td>3.192871</td>\n",
              "      <td>0.037004</td>\n",
              "      <td>0.036351</td>\n",
              "      <td>6.973569</td>\n",
              "      <td>6.969707</td>\n",
              "      <td>33</td>\n",
              "    </tr>\n",
              "    <tr>\n",
              "      <th>5</th>\n",
              "      <td>2018090600:320:1</td>\n",
              "      <td>1</td>\n",
              "      <td>0</td>\n",
              "      <td>3</td>\n",
              "      <td>3</td>\n",
              "      <td>1</td>\n",
              "      <td>187.12510</td>\n",
              "      <td>153.20020</td>\n",
              "      <td>27.80</td>\n",
              "      <td>13.29</td>\n",
              "      <td>1</td>\n",
              "      <td>3</td>\n",
              "      <td>1</td>\n",
              "      <td>1</td>\n",
              "      <td>0</td>\n",
              "      <td>0</td>\n",
              "      <td>2</td>\n",
              "      <td>3</td>\n",
              "      <td>3</td>\n",
              "      <td>left</td>\n",
              "      <td>3</td>\n",
              "      <td>5</td>\n",
              "      <td>3</td>\n",
              "      <td>2</td>\n",
              "      <td>-4.82</td>\n",
              "      <td>0</td>\n",
              "      <td>-3</td>\n",
              "      <td>0.000000</td>\n",
              "      <td>0.018995</td>\n",
              "      <td>0.019537</td>\n",
              "      <td>0.021279</td>\n",
              "      <td>4.281979</td>\n",
              "      <td>0.042752</td>\n",
              "      <td>0.045692</td>\n",
              "      <td>7.978624</td>\n",
              "      <td>7.980418</td>\n",
              "      <td>4</td>\n",
              "    </tr>\n",
              "    <tr>\n",
              "      <th>...</th>\n",
              "      <td>...</td>\n",
              "      <td>...</td>\n",
              "      <td>...</td>\n",
              "      <td>...</td>\n",
              "      <td>...</td>\n",
              "      <td>...</td>\n",
              "      <td>...</td>\n",
              "      <td>...</td>\n",
              "      <td>...</td>\n",
              "      <td>...</td>\n",
              "      <td>...</td>\n",
              "      <td>...</td>\n",
              "      <td>...</td>\n",
              "      <td>...</td>\n",
              "      <td>...</td>\n",
              "      <td>...</td>\n",
              "      <td>...</td>\n",
              "      <td>...</td>\n",
              "      <td>...</td>\n",
              "      <td>...</td>\n",
              "      <td>...</td>\n",
              "      <td>...</td>\n",
              "      <td>...</td>\n",
              "      <td>...</td>\n",
              "      <td>...</td>\n",
              "      <td>...</td>\n",
              "      <td>...</td>\n",
              "      <td>...</td>\n",
              "      <td>...</td>\n",
              "      <td>...</td>\n",
              "      <td>...</td>\n",
              "      <td>...</td>\n",
              "      <td>...</td>\n",
              "      <td>...</td>\n",
              "      <td>...</td>\n",
              "      <td>...</td>\n",
              "      <td>...</td>\n",
              "    </tr>\n",
              "    <tr>\n",
              "      <th>19112</th>\n",
              "      <td>2018123015:3819:17</td>\n",
              "      <td>1</td>\n",
              "      <td>0</td>\n",
              "      <td>3</td>\n",
              "      <td>3</td>\n",
              "      <td>0</td>\n",
              "      <td>169.30945</td>\n",
              "      <td>124.90995</td>\n",
              "      <td>23.43</td>\n",
              "      <td>12.71</td>\n",
              "      <td>1</td>\n",
              "      <td>2</td>\n",
              "      <td>2</td>\n",
              "      <td>1</td>\n",
              "      <td>0</td>\n",
              "      <td>0</td>\n",
              "      <td>2</td>\n",
              "      <td>3</td>\n",
              "      <td>2</td>\n",
              "      <td>right</td>\n",
              "      <td>3</td>\n",
              "      <td>4</td>\n",
              "      <td>3</td>\n",
              "      <td>2</td>\n",
              "      <td>-3.91</td>\n",
              "      <td>0</td>\n",
              "      <td>-2</td>\n",
              "      <td>0.000000</td>\n",
              "      <td>0.017582</td>\n",
              "      <td>0.019208</td>\n",
              "      <td>0.000000</td>\n",
              "      <td>4.867507</td>\n",
              "      <td>0.041344</td>\n",
              "      <td>0.048035</td>\n",
              "      <td>6.970468</td>\n",
              "      <td>6.959971</td>\n",
              "      <td>12</td>\n",
              "    </tr>\n",
              "    <tr>\n",
              "      <th>19113</th>\n",
              "      <td>2018123015:3932:17</td>\n",
              "      <td>0</td>\n",
              "      <td>0</td>\n",
              "      <td>1</td>\n",
              "      <td>4</td>\n",
              "      <td>2</td>\n",
              "      <td>327.34785</td>\n",
              "      <td>327.34785</td>\n",
              "      <td>35.76</td>\n",
              "      <td>13.20</td>\n",
              "      <td>1</td>\n",
              "      <td>3</td>\n",
              "      <td>1</td>\n",
              "      <td>1</td>\n",
              "      <td>0</td>\n",
              "      <td>0</td>\n",
              "      <td>2</td>\n",
              "      <td>2</td>\n",
              "      <td>3</td>\n",
              "      <td>right</td>\n",
              "      <td>3</td>\n",
              "      <td>4</td>\n",
              "      <td>3</td>\n",
              "      <td>2</td>\n",
              "      <td>-0.97</td>\n",
              "      <td>0</td>\n",
              "      <td>-2</td>\n",
              "      <td>0.000000</td>\n",
              "      <td>0.016636</td>\n",
              "      <td>0.018979</td>\n",
              "      <td>0.019819</td>\n",
              "      <td>2.120069</td>\n",
              "      <td>0.021384</td>\n",
              "      <td>0.021384</td>\n",
              "      <td>6.987781</td>\n",
              "      <td>6.987781</td>\n",
              "      <td>-3</td>\n",
              "    </tr>\n",
              "    <tr>\n",
              "      <th>19114</th>\n",
              "      <td>2018123015:3969:17</td>\n",
              "      <td>0</td>\n",
              "      <td>1</td>\n",
              "      <td>1</td>\n",
              "      <td>4</td>\n",
              "      <td>1</td>\n",
              "      <td>293.39745</td>\n",
              "      <td>293.39745</td>\n",
              "      <td>26.24</td>\n",
              "      <td>14.67</td>\n",
              "      <td>1</td>\n",
              "      <td>3</td>\n",
              "      <td>1</td>\n",
              "      <td>1</td>\n",
              "      <td>0</td>\n",
              "      <td>0</td>\n",
              "      <td>2</td>\n",
              "      <td>1</td>\n",
              "      <td>4</td>\n",
              "      <td>left</td>\n",
              "      <td>3</td>\n",
              "      <td>4</td>\n",
              "      <td>2</td>\n",
              "      <td>3</td>\n",
              "      <td>0.07</td>\n",
              "      <td>-1</td>\n",
              "      <td>-1</td>\n",
              "      <td>0.018878</td>\n",
              "      <td>0.016636</td>\n",
              "      <td>0.019862</td>\n",
              "      <td>0.019789</td>\n",
              "      <td>2.307450</td>\n",
              "      <td>0.023858</td>\n",
              "      <td>0.023858</td>\n",
              "      <td>6.982958</td>\n",
              "      <td>6.982958</td>\n",
              "      <td>0</td>\n",
              "    </tr>\n",
              "    <tr>\n",
              "      <th>19115</th>\n",
              "      <td>2018123015:4057:17</td>\n",
              "      <td>0</td>\n",
              "      <td>0</td>\n",
              "      <td>2</td>\n",
              "      <td>3</td>\n",
              "      <td>2</td>\n",
              "      <td>223.81860</td>\n",
              "      <td>223.81860</td>\n",
              "      <td>36.23</td>\n",
              "      <td>11.62</td>\n",
              "      <td>1</td>\n",
              "      <td>3</td>\n",
              "      <td>1</td>\n",
              "      <td>1</td>\n",
              "      <td>0</td>\n",
              "      <td>0</td>\n",
              "      <td>3</td>\n",
              "      <td>2</td>\n",
              "      <td>2</td>\n",
              "      <td>right</td>\n",
              "      <td>3</td>\n",
              "      <td>4</td>\n",
              "      <td>2</td>\n",
              "      <td>3</td>\n",
              "      <td>-0.94</td>\n",
              "      <td>-1</td>\n",
              "      <td>-1</td>\n",
              "      <td>0.000000</td>\n",
              "      <td>0.019526</td>\n",
              "      <td>0.019136</td>\n",
              "      <td>0.020001</td>\n",
              "      <td>2.948817</td>\n",
              "      <td>0.031275</td>\n",
              "      <td>0.031275</td>\n",
              "      <td>6.982128</td>\n",
              "      <td>6.982128</td>\n",
              "      <td>5</td>\n",
              "    </tr>\n",
              "    <tr>\n",
              "      <th>19116</th>\n",
              "      <td>2018123015:4104:17</td>\n",
              "      <td>0</td>\n",
              "      <td>0</td>\n",
              "      <td>3</td>\n",
              "      <td>2</td>\n",
              "      <td>2</td>\n",
              "      <td>215.50425</td>\n",
              "      <td>215.50425</td>\n",
              "      <td>32.25</td>\n",
              "      <td>13.00</td>\n",
              "      <td>1</td>\n",
              "      <td>3</td>\n",
              "      <td>1</td>\n",
              "      <td>1</td>\n",
              "      <td>0</td>\n",
              "      <td>0</td>\n",
              "      <td>3</td>\n",
              "      <td>2</td>\n",
              "      <td>2</td>\n",
              "      <td>right</td>\n",
              "      <td>5</td>\n",
              "      <td>2</td>\n",
              "      <td>3</td>\n",
              "      <td>2</td>\n",
              "      <td>-0.88</td>\n",
              "      <td>-2</td>\n",
              "      <td>0</td>\n",
              "      <td>0.000000</td>\n",
              "      <td>0.019797</td>\n",
              "      <td>0.018535</td>\n",
              "      <td>0.020001</td>\n",
              "      <td>3.062585</td>\n",
              "      <td>0.032482</td>\n",
              "      <td>0.032482</td>\n",
              "      <td>6.981439</td>\n",
              "      <td>6.981439</td>\n",
              "      <td>37</td>\n",
              "    </tr>\n",
              "  </tbody>\n",
              "</table>\n",
              "<p>16498 rows × 37 columns</p>\n",
              "</div>"
            ],
            "text/plain": [
              "                       id  defensivelinezonePlayers  deepzonePlayers  \\\n",
              "0         2018090600:75:1                         0                1   \n",
              "1        2018090600:146:1                         0                1   \n",
              "2        2018090600:168:1                         0                1   \n",
              "3        2018090600:190:1                         1                0   \n",
              "5        2018090600:320:1                         1                0   \n",
              "...                   ...                       ...              ...   \n",
              "19112  2018123015:3819:17                         1                0   \n",
              "19113  2018123015:3932:17                         0                0   \n",
              "19114  2018123015:3969:17                         0                1   \n",
              "19115  2018123015:4057:17                         0                0   \n",
              "19116  2018123015:4104:17                         0                0   \n",
              "\n",
              "       hookzonePlayers  curlzonePlayers  flatzonePlayers  defenseArea  \\\n",
              "0                    3                2                1    194.31095   \n",
              "1                    3                2                1    204.17725   \n",
              "2                    2                2                2    277.65495   \n",
              "3                    2                3                1    189.16960   \n",
              "5                    3                3                1    187.12510   \n",
              "...                ...              ...              ...          ...   \n",
              "19112                3                3                0    169.30945   \n",
              "19113                1                4                2    327.34785   \n",
              "19114                1                4                1    293.39745   \n",
              "19115                2                3                2    223.81860   \n",
              "19116                3                2                2    215.50425   \n",
              "\n",
              "       defenseAreaCoverDefenders  width  height  numberQBs  numberWRs  \\\n",
              "0                      194.31095  22.96   15.25          1          2   \n",
              "1                      204.17725  29.22   12.57          1          3   \n",
              "2                      277.65495  33.67   15.21          1          2   \n",
              "3                      165.05520  26.42   12.91          1          3   \n",
              "5                      153.20020  27.80   13.29          1          3   \n",
              "...                          ...    ...     ...        ...        ...   \n",
              "19112                  124.90995  23.43   12.71          1          2   \n",
              "19113                  327.34785  35.76   13.20          1          3   \n",
              "19114                  293.39745  26.24   14.67          1          3   \n",
              "19115                  223.81860  36.23   11.62          1          3   \n",
              "19116                  215.50425  32.25   13.00          1          3   \n",
              "\n",
              "       numberTEs  numberRBs  numberFBs  numberOffensivePlayersAnotherPosition  \\\n",
              "0              1          1          1                                      0   \n",
              "1              1          1          0                                      0   \n",
              "2              1          2          0                                      0   \n",
              "3              1          1          0                                      0   \n",
              "5              1          1          0                                      0   \n",
              "...          ...        ...        ...                                    ...   \n",
              "19112          2          1          0                                      0   \n",
              "19113          1          1          0                                      0   \n",
              "19114          1          1          0                                      0   \n",
              "19115          1          1          0                                      0   \n",
              "19116          1          1          0                                      0   \n",
              "\n",
              "       numberSafeties  numberLBs  numberCBs strongSide  \\\n",
              "0                   3          2          2       left   \n",
              "1                   2          2          3      right   \n",
              "2                   2          2          3       left   \n",
              "3                   3          1          3      right   \n",
              "5                   2          3          3       left   \n",
              "...               ...        ...        ...        ...   \n",
              "19112               2          3          2      right   \n",
              "19113               2          2          3      right   \n",
              "19114               2          1          4       left   \n",
              "19115               3          2          2      right   \n",
              "19116               3          2          2      right   \n",
              "\n",
              "       numberPlayersDefenseStrongSide  numberPlayersDefenseWeakSide  \\\n",
              "0                                   3                             4   \n",
              "1                                   3                             4   \n",
              "2                                   5                             2   \n",
              "3                                   2                             5   \n",
              "5                                   3                             5   \n",
              "...                               ...                           ...   \n",
              "19112                               3                             4   \n",
              "19113                               3                             4   \n",
              "19114                               3                             4   \n",
              "19115                               3                             4   \n",
              "19116                               5                             2   \n",
              "\n",
              "       numberPlayersOffenseStrongSide  numberPlayersOffenseWeakSide  \\\n",
              "0                                   3                             2   \n",
              "1                                   2                             3   \n",
              "2                                   4                             1   \n",
              "3                                   2                             3   \n",
              "5                                   3                             2   \n",
              "...                               ...                           ...   \n",
              "19112                               3                             2   \n",
              "19113                               3                             2   \n",
              "19114                               2                             3   \n",
              "19115                               2                             3   \n",
              "19116                               3                             2   \n",
              "\n",
              "       differenceOffenseVsDefenseWidth  differenceOffenseVsDefenseStrongSide  \\\n",
              "0                                -0.63                                     0   \n",
              "1                                -1.15                                    -1   \n",
              "2                                 0.71                                    -1   \n",
              "3                                -3.11                                     0   \n",
              "5                                -4.82                                     0   \n",
              "...                                ...                                   ...   \n",
              "19112                            -3.91                                     0   \n",
              "19113                            -0.97                                     0   \n",
              "19114                             0.07                                    -1   \n",
              "19115                            -0.94                                    -1   \n",
              "19116                            -0.88                                    -2   \n",
              "\n",
              "       differenceOffenseVsDefenseWeakSide  HeightByWeightDeep  \\\n",
              "0                                      -2            0.020227   \n",
              "1                                      -1            0.020227   \n",
              "2                                      -1            0.020227   \n",
              "3                                      -2            0.000000   \n",
              "5                                      -3            0.000000   \n",
              "...                                   ...                 ...   \n",
              "19112                                  -2            0.000000   \n",
              "19113                                  -2            0.000000   \n",
              "19114                                  -1            0.018878   \n",
              "19115                                  -1            0.000000   \n",
              "19116                                   0            0.000000   \n",
              "\n",
              "       HeightByWeightHook  HeightByWeightCurl  HeightByWeightFlat  \\\n",
              "0                0.018643            0.020066            0.021034   \n",
              "1                0.019228            0.020356            0.020455   \n",
              "2                0.017683            0.020997            0.020745   \n",
              "3                0.020120            0.021193            0.020455   \n",
              "5                0.018995            0.019537            0.021279   \n",
              "...                   ...                 ...                 ...   \n",
              "19112            0.017582            0.019208            0.000000   \n",
              "19113            0.016636            0.018979            0.019819   \n",
              "19114            0.016636            0.019862            0.019789   \n",
              "19115            0.019526            0.019136            0.020001   \n",
              "19116            0.019797            0.018535            0.020001   \n",
              "\n",
              "       WeightByArea   density  densityNoLine  densityInsidePoints  \\\n",
              "0          3.376032  0.036025       0.036025             6.974268   \n",
              "1          3.178611  0.034284       0.034284             6.975511   \n",
              "2          2.337434  0.025211       0.025211             6.985594   \n",
              "3          3.192871  0.037004       0.036351             6.973569   \n",
              "5          4.281979  0.042752       0.045692             7.978624   \n",
              "...             ...       ...            ...                  ...   \n",
              "19112      4.867507  0.041344       0.048035             6.970468   \n",
              "19113      2.120069  0.021384       0.021384             6.987781   \n",
              "19114      2.307450  0.023858       0.023858             6.982958   \n",
              "19115      2.948817  0.031275       0.031275             6.982128   \n",
              "19116      3.062585  0.032482       0.032482             6.981439   \n",
              "\n",
              "       densityInsidePointsNoLine  playResult  \n",
              "0                       6.974268          10  \n",
              "1                       6.975511           0  \n",
              "2                       6.985594           0  \n",
              "3                       6.969707          33  \n",
              "5                       7.980418           4  \n",
              "...                          ...         ...  \n",
              "19112                   6.959971          12  \n",
              "19113                   6.987781          -3  \n",
              "19114                   6.982958           0  \n",
              "19115                   6.982128           5  \n",
              "19116                   6.981439          37  \n",
              "\n",
              "[16498 rows x 37 columns]"
            ]
          },
          "metadata": {
            "tags": []
          },
          "execution_count": 9
        }
      ]
    },
    {
      "cell_type": "code",
      "metadata": {
        "id": "aCEgxkj6EI3F",
        "colab": {
          "base_uri": "https://localhost:8080/",
          "height": 258
        },
        "outputId": "81f9fff1-5cf9-4594-a993-f7b221e36cc2"
      },
      "source": [
        "static_defenses_ss = pd.read_csv(\"static_defenses_ss_hierarchical_without_outliers.csv\",index_col=0)\n",
        "static_defenses_mms = pd.read_csv(\"static_defenses_mms_hierarchical_without_outliers.csv\",index_col=0)\n",
        "static_defenses_rs = pd.read_csv(\"static_defenses_rs_hierarchical_without_outliers.csv\",index_col=0)\n",
        "static_defenses_pt = pd.read_csv(\"static_defenses_pt_hierarchical_without_outliers.csv\",index_col=0)\n",
        "static_defenses_ss.head()"
      ],
      "execution_count": null,
      "outputs": [
        {
          "output_type": "execute_result",
          "data": {
            "text/html": [
              "<div>\n",
              "<style scoped>\n",
              "    .dataframe tbody tr th:only-of-type {\n",
              "        vertical-align: middle;\n",
              "    }\n",
              "\n",
              "    .dataframe tbody tr th {\n",
              "        vertical-align: top;\n",
              "    }\n",
              "\n",
              "    .dataframe thead th {\n",
              "        text-align: right;\n",
              "    }\n",
              "</style>\n",
              "<table border=\"1\" class=\"dataframe\">\n",
              "  <thead>\n",
              "    <tr style=\"text-align: right;\">\n",
              "      <th></th>\n",
              "      <th>defensivelinezonePlayers</th>\n",
              "      <th>deepzonePlayers</th>\n",
              "      <th>hookzonePlayers</th>\n",
              "      <th>curlzonePlayers</th>\n",
              "      <th>flatzonePlayers</th>\n",
              "      <th>defenseArea</th>\n",
              "      <th>defenseAreaCoverDefenders</th>\n",
              "      <th>width</th>\n",
              "      <th>height</th>\n",
              "      <th>numberQBs</th>\n",
              "      <th>numberWRs</th>\n",
              "      <th>numberTEs</th>\n",
              "      <th>numberRBs</th>\n",
              "      <th>numberFBs</th>\n",
              "      <th>numberOffensivePlayersAnotherPosition</th>\n",
              "      <th>numberSafeties</th>\n",
              "      <th>numberLBs</th>\n",
              "      <th>numberCBs</th>\n",
              "      <th>strongSide</th>\n",
              "      <th>numberPlayersDefenseStrongSide</th>\n",
              "      <th>numberPlayersDefenseWeakSide</th>\n",
              "      <th>numberPlayersOffenseStrongSide</th>\n",
              "      <th>numberPlayersOffenseWeakSide</th>\n",
              "      <th>differenceOffenseVsDefenseWidth</th>\n",
              "      <th>differenceOffenseVsDefenseStrongSide</th>\n",
              "      <th>differenceOffenseVsDefenseWeakSide</th>\n",
              "      <th>HeightByWeightDeep</th>\n",
              "      <th>HeightByWeightHook</th>\n",
              "      <th>HeightByWeightCurl</th>\n",
              "      <th>HeightByWeightFlat</th>\n",
              "      <th>WeightByArea</th>\n",
              "      <th>density</th>\n",
              "      <th>densityNoLine</th>\n",
              "      <th>densityInsidePoints</th>\n",
              "      <th>densityInsidePointsNoLine</th>\n",
              "      <th>cluster</th>\n",
              "    </tr>\n",
              "    <tr>\n",
              "      <th>id</th>\n",
              "      <th></th>\n",
              "      <th></th>\n",
              "      <th></th>\n",
              "      <th></th>\n",
              "      <th></th>\n",
              "      <th></th>\n",
              "      <th></th>\n",
              "      <th></th>\n",
              "      <th></th>\n",
              "      <th></th>\n",
              "      <th></th>\n",
              "      <th></th>\n",
              "      <th></th>\n",
              "      <th></th>\n",
              "      <th></th>\n",
              "      <th></th>\n",
              "      <th></th>\n",
              "      <th></th>\n",
              "      <th></th>\n",
              "      <th></th>\n",
              "      <th></th>\n",
              "      <th></th>\n",
              "      <th></th>\n",
              "      <th></th>\n",
              "      <th></th>\n",
              "      <th></th>\n",
              "      <th></th>\n",
              "      <th></th>\n",
              "      <th></th>\n",
              "      <th></th>\n",
              "      <th></th>\n",
              "      <th></th>\n",
              "      <th></th>\n",
              "      <th></th>\n",
              "      <th></th>\n",
              "      <th></th>\n",
              "    </tr>\n",
              "  </thead>\n",
              "  <tbody>\n",
              "    <tr>\n",
              "      <th>2018090600:75:1</th>\n",
              "      <td>0</td>\n",
              "      <td>1</td>\n",
              "      <td>3</td>\n",
              "      <td>2</td>\n",
              "      <td>1</td>\n",
              "      <td>194.31095</td>\n",
              "      <td>194.31095</td>\n",
              "      <td>22.96</td>\n",
              "      <td>15.25</td>\n",
              "      <td>1</td>\n",
              "      <td>2</td>\n",
              "      <td>1</td>\n",
              "      <td>1</td>\n",
              "      <td>1</td>\n",
              "      <td>0</td>\n",
              "      <td>3</td>\n",
              "      <td>2</td>\n",
              "      <td>2</td>\n",
              "      <td>1</td>\n",
              "      <td>3</td>\n",
              "      <td>4</td>\n",
              "      <td>3</td>\n",
              "      <td>2</td>\n",
              "      <td>-0.63</td>\n",
              "      <td>0</td>\n",
              "      <td>-2</td>\n",
              "      <td>0.020227</td>\n",
              "      <td>0.018643</td>\n",
              "      <td>0.020066</td>\n",
              "      <td>0.021034</td>\n",
              "      <td>3.376032</td>\n",
              "      <td>0.036025</td>\n",
              "      <td>0.036025</td>\n",
              "      <td>6.974268</td>\n",
              "      <td>6.974268</td>\n",
              "      <td>5</td>\n",
              "    </tr>\n",
              "    <tr>\n",
              "      <th>2018090600:146:1</th>\n",
              "      <td>0</td>\n",
              "      <td>1</td>\n",
              "      <td>3</td>\n",
              "      <td>2</td>\n",
              "      <td>1</td>\n",
              "      <td>204.17725</td>\n",
              "      <td>204.17725</td>\n",
              "      <td>29.22</td>\n",
              "      <td>12.57</td>\n",
              "      <td>1</td>\n",
              "      <td>3</td>\n",
              "      <td>1</td>\n",
              "      <td>1</td>\n",
              "      <td>0</td>\n",
              "      <td>0</td>\n",
              "      <td>2</td>\n",
              "      <td>2</td>\n",
              "      <td>3</td>\n",
              "      <td>0</td>\n",
              "      <td>3</td>\n",
              "      <td>4</td>\n",
              "      <td>2</td>\n",
              "      <td>3</td>\n",
              "      <td>-1.15</td>\n",
              "      <td>-1</td>\n",
              "      <td>-1</td>\n",
              "      <td>0.020227</td>\n",
              "      <td>0.019228</td>\n",
              "      <td>0.020356</td>\n",
              "      <td>0.020455</td>\n",
              "      <td>3.178611</td>\n",
              "      <td>0.034284</td>\n",
              "      <td>0.034284</td>\n",
              "      <td>6.975511</td>\n",
              "      <td>6.975511</td>\n",
              "      <td>5</td>\n",
              "    </tr>\n",
              "    <tr>\n",
              "      <th>2018090600:168:1</th>\n",
              "      <td>0</td>\n",
              "      <td>1</td>\n",
              "      <td>2</td>\n",
              "      <td>2</td>\n",
              "      <td>2</td>\n",
              "      <td>277.65495</td>\n",
              "      <td>277.65495</td>\n",
              "      <td>33.67</td>\n",
              "      <td>15.21</td>\n",
              "      <td>1</td>\n",
              "      <td>2</td>\n",
              "      <td>1</td>\n",
              "      <td>2</td>\n",
              "      <td>0</td>\n",
              "      <td>0</td>\n",
              "      <td>2</td>\n",
              "      <td>2</td>\n",
              "      <td>3</td>\n",
              "      <td>1</td>\n",
              "      <td>5</td>\n",
              "      <td>2</td>\n",
              "      <td>4</td>\n",
              "      <td>1</td>\n",
              "      <td>0.71</td>\n",
              "      <td>-1</td>\n",
              "      <td>-1</td>\n",
              "      <td>0.020227</td>\n",
              "      <td>0.017683</td>\n",
              "      <td>0.020997</td>\n",
              "      <td>0.020745</td>\n",
              "      <td>2.337434</td>\n",
              "      <td>0.025211</td>\n",
              "      <td>0.025211</td>\n",
              "      <td>6.985594</td>\n",
              "      <td>6.985594</td>\n",
              "      <td>5</td>\n",
              "    </tr>\n",
              "    <tr>\n",
              "      <th>2018090600:190:1</th>\n",
              "      <td>1</td>\n",
              "      <td>0</td>\n",
              "      <td>2</td>\n",
              "      <td>3</td>\n",
              "      <td>1</td>\n",
              "      <td>189.16960</td>\n",
              "      <td>165.05520</td>\n",
              "      <td>26.42</td>\n",
              "      <td>12.91</td>\n",
              "      <td>1</td>\n",
              "      <td>3</td>\n",
              "      <td>1</td>\n",
              "      <td>1</td>\n",
              "      <td>0</td>\n",
              "      <td>0</td>\n",
              "      <td>3</td>\n",
              "      <td>1</td>\n",
              "      <td>3</td>\n",
              "      <td>0</td>\n",
              "      <td>2</td>\n",
              "      <td>5</td>\n",
              "      <td>2</td>\n",
              "      <td>3</td>\n",
              "      <td>-3.11</td>\n",
              "      <td>0</td>\n",
              "      <td>-2</td>\n",
              "      <td>0.000000</td>\n",
              "      <td>0.020120</td>\n",
              "      <td>0.021193</td>\n",
              "      <td>0.020455</td>\n",
              "      <td>3.192871</td>\n",
              "      <td>0.037004</td>\n",
              "      <td>0.036351</td>\n",
              "      <td>6.973569</td>\n",
              "      <td>6.969707</td>\n",
              "      <td>5</td>\n",
              "    </tr>\n",
              "    <tr>\n",
              "      <th>2018090600:320:1</th>\n",
              "      <td>1</td>\n",
              "      <td>0</td>\n",
              "      <td>3</td>\n",
              "      <td>3</td>\n",
              "      <td>1</td>\n",
              "      <td>187.12510</td>\n",
              "      <td>153.20020</td>\n",
              "      <td>27.80</td>\n",
              "      <td>13.29</td>\n",
              "      <td>1</td>\n",
              "      <td>3</td>\n",
              "      <td>1</td>\n",
              "      <td>1</td>\n",
              "      <td>0</td>\n",
              "      <td>0</td>\n",
              "      <td>2</td>\n",
              "      <td>3</td>\n",
              "      <td>3</td>\n",
              "      <td>1</td>\n",
              "      <td>3</td>\n",
              "      <td>5</td>\n",
              "      <td>3</td>\n",
              "      <td>2</td>\n",
              "      <td>-4.82</td>\n",
              "      <td>0</td>\n",
              "      <td>-3</td>\n",
              "      <td>0.000000</td>\n",
              "      <td>0.018995</td>\n",
              "      <td>0.019537</td>\n",
              "      <td>0.021279</td>\n",
              "      <td>4.281979</td>\n",
              "      <td>0.042752</td>\n",
              "      <td>0.045692</td>\n",
              "      <td>7.978624</td>\n",
              "      <td>7.980418</td>\n",
              "      <td>5</td>\n",
              "    </tr>\n",
              "  </tbody>\n",
              "</table>\n",
              "</div>"
            ],
            "text/plain": [
              "                  defensivelinezonePlayers  deepzonePlayers  hookzonePlayers  \\\n",
              "id                                                                             \n",
              "2018090600:75:1                          0                1                3   \n",
              "2018090600:146:1                         0                1                3   \n",
              "2018090600:168:1                         0                1                2   \n",
              "2018090600:190:1                         1                0                2   \n",
              "2018090600:320:1                         1                0                3   \n",
              "\n",
              "                  curlzonePlayers  flatzonePlayers  defenseArea  \\\n",
              "id                                                                \n",
              "2018090600:75:1                 2                1    194.31095   \n",
              "2018090600:146:1                2                1    204.17725   \n",
              "2018090600:168:1                2                2    277.65495   \n",
              "2018090600:190:1                3                1    189.16960   \n",
              "2018090600:320:1                3                1    187.12510   \n",
              "\n",
              "                  defenseAreaCoverDefenders  width  height  numberQBs  \\\n",
              "id                                                                      \n",
              "2018090600:75:1                   194.31095  22.96   15.25          1   \n",
              "2018090600:146:1                  204.17725  29.22   12.57          1   \n",
              "2018090600:168:1                  277.65495  33.67   15.21          1   \n",
              "2018090600:190:1                  165.05520  26.42   12.91          1   \n",
              "2018090600:320:1                  153.20020  27.80   13.29          1   \n",
              "\n",
              "                  numberWRs  numberTEs  numberRBs  numberFBs  \\\n",
              "id                                                             \n",
              "2018090600:75:1           2          1          1          1   \n",
              "2018090600:146:1          3          1          1          0   \n",
              "2018090600:168:1          2          1          2          0   \n",
              "2018090600:190:1          3          1          1          0   \n",
              "2018090600:320:1          3          1          1          0   \n",
              "\n",
              "                  numberOffensivePlayersAnotherPosition  numberSafeties  \\\n",
              "id                                                                        \n",
              "2018090600:75:1                                       0               3   \n",
              "2018090600:146:1                                      0               2   \n",
              "2018090600:168:1                                      0               2   \n",
              "2018090600:190:1                                      0               3   \n",
              "2018090600:320:1                                      0               2   \n",
              "\n",
              "                  numberLBs  numberCBs  strongSide  \\\n",
              "id                                                   \n",
              "2018090600:75:1           2          2           1   \n",
              "2018090600:146:1          2          3           0   \n",
              "2018090600:168:1          2          3           1   \n",
              "2018090600:190:1          1          3           0   \n",
              "2018090600:320:1          3          3           1   \n",
              "\n",
              "                  numberPlayersDefenseStrongSide  \\\n",
              "id                                                 \n",
              "2018090600:75:1                                3   \n",
              "2018090600:146:1                               3   \n",
              "2018090600:168:1                               5   \n",
              "2018090600:190:1                               2   \n",
              "2018090600:320:1                               3   \n",
              "\n",
              "                  numberPlayersDefenseWeakSide  \\\n",
              "id                                               \n",
              "2018090600:75:1                              4   \n",
              "2018090600:146:1                             4   \n",
              "2018090600:168:1                             2   \n",
              "2018090600:190:1                             5   \n",
              "2018090600:320:1                             5   \n",
              "\n",
              "                  numberPlayersOffenseStrongSide  \\\n",
              "id                                                 \n",
              "2018090600:75:1                                3   \n",
              "2018090600:146:1                               2   \n",
              "2018090600:168:1                               4   \n",
              "2018090600:190:1                               2   \n",
              "2018090600:320:1                               3   \n",
              "\n",
              "                  numberPlayersOffenseWeakSide  \\\n",
              "id                                               \n",
              "2018090600:75:1                              2   \n",
              "2018090600:146:1                             3   \n",
              "2018090600:168:1                             1   \n",
              "2018090600:190:1                             3   \n",
              "2018090600:320:1                             2   \n",
              "\n",
              "                  differenceOffenseVsDefenseWidth  \\\n",
              "id                                                  \n",
              "2018090600:75:1                             -0.63   \n",
              "2018090600:146:1                            -1.15   \n",
              "2018090600:168:1                             0.71   \n",
              "2018090600:190:1                            -3.11   \n",
              "2018090600:320:1                            -4.82   \n",
              "\n",
              "                  differenceOffenseVsDefenseStrongSide  \\\n",
              "id                                                       \n",
              "2018090600:75:1                                      0   \n",
              "2018090600:146:1                                    -1   \n",
              "2018090600:168:1                                    -1   \n",
              "2018090600:190:1                                     0   \n",
              "2018090600:320:1                                     0   \n",
              "\n",
              "                  differenceOffenseVsDefenseWeakSide  HeightByWeightDeep  \\\n",
              "id                                                                         \n",
              "2018090600:75:1                                   -2            0.020227   \n",
              "2018090600:146:1                                  -1            0.020227   \n",
              "2018090600:168:1                                  -1            0.020227   \n",
              "2018090600:190:1                                  -2            0.000000   \n",
              "2018090600:320:1                                  -3            0.000000   \n",
              "\n",
              "                  HeightByWeightHook  HeightByWeightCurl  HeightByWeightFlat  \\\n",
              "id                                                                             \n",
              "2018090600:75:1             0.018643            0.020066            0.021034   \n",
              "2018090600:146:1            0.019228            0.020356            0.020455   \n",
              "2018090600:168:1            0.017683            0.020997            0.020745   \n",
              "2018090600:190:1            0.020120            0.021193            0.020455   \n",
              "2018090600:320:1            0.018995            0.019537            0.021279   \n",
              "\n",
              "                  WeightByArea   density  densityNoLine  densityInsidePoints  \\\n",
              "id                                                                             \n",
              "2018090600:75:1       3.376032  0.036025       0.036025             6.974268   \n",
              "2018090600:146:1      3.178611  0.034284       0.034284             6.975511   \n",
              "2018090600:168:1      2.337434  0.025211       0.025211             6.985594   \n",
              "2018090600:190:1      3.192871  0.037004       0.036351             6.973569   \n",
              "2018090600:320:1      4.281979  0.042752       0.045692             7.978624   \n",
              "\n",
              "                  densityInsidePointsNoLine  cluster  \n",
              "id                                                    \n",
              "2018090600:75:1                    6.974268        5  \n",
              "2018090600:146:1                   6.975511        5  \n",
              "2018090600:168:1                   6.985594        5  \n",
              "2018090600:190:1                   6.969707        5  \n",
              "2018090600:320:1                   7.980418        5  "
            ]
          },
          "metadata": {
            "tags": []
          },
          "execution_count": 10
        }
      ]
    },
    {
      "cell_type": "code",
      "metadata": {
        "id": "z7nrrryJEI3I"
      },
      "source": [
        "static_defenses.replace({\"right\":0,\"left\":1},inplace=True)"
      ],
      "execution_count": null,
      "outputs": []
    },
    {
      "cell_type": "markdown",
      "metadata": {
        "id": "8sEoP2Lb0ph9"
      },
      "source": [
        "#Añadir playResult"
      ]
    },
    {
      "cell_type": "code",
      "metadata": {
        "id": "HWJoxErP0uLY"
      },
      "source": [
        "def obtainYards(playId):\n",
        "    return static_defenses[static_defenses[\"id\"]==playId][\"playResult\"].values[0]"
      ],
      "execution_count": null,
      "outputs": []
    },
    {
      "cell_type": "code",
      "metadata": {
        "id": "UJO9cCBG0-La"
      },
      "source": [
        "static_defenses_ss[\"playResult\"] = static_defenses_ss.index.map(obtainYards)\n",
        "static_defenses_mms[\"playResult\"] = static_defenses_mms.index.map(obtainYards)\n",
        "static_defenses_rs[\"playResult\"] = static_defenses_rs.index.map(obtainYards)\n",
        "static_defenses_pt[\"playResult\"] = static_defenses_pt.index.map(obtainYards)"
      ],
      "execution_count": null,
      "outputs": []
    },
    {
      "cell_type": "code",
      "metadata": {
        "colab": {
          "base_uri": "https://localhost:8080/",
          "height": 475
        },
        "id": "e78__tLk3O_p",
        "outputId": "a85568dc-1e42-4d6f-d915-b180b22f92cf"
      },
      "source": [
        "static_defenses_ss"
      ],
      "execution_count": null,
      "outputs": [
        {
          "output_type": "execute_result",
          "data": {
            "text/html": [
              "<div>\n",
              "<style scoped>\n",
              "    .dataframe tbody tr th:only-of-type {\n",
              "        vertical-align: middle;\n",
              "    }\n",
              "\n",
              "    .dataframe tbody tr th {\n",
              "        vertical-align: top;\n",
              "    }\n",
              "\n",
              "    .dataframe thead th {\n",
              "        text-align: right;\n",
              "    }\n",
              "</style>\n",
              "<table border=\"1\" class=\"dataframe\">\n",
              "  <thead>\n",
              "    <tr style=\"text-align: right;\">\n",
              "      <th></th>\n",
              "      <th>defensivelinezonePlayers</th>\n",
              "      <th>deepzonePlayers</th>\n",
              "      <th>hookzonePlayers</th>\n",
              "      <th>curlzonePlayers</th>\n",
              "      <th>flatzonePlayers</th>\n",
              "      <th>defenseArea</th>\n",
              "      <th>defenseAreaCoverDefenders</th>\n",
              "      <th>width</th>\n",
              "      <th>height</th>\n",
              "      <th>numberQBs</th>\n",
              "      <th>numberWRs</th>\n",
              "      <th>numberTEs</th>\n",
              "      <th>numberRBs</th>\n",
              "      <th>numberFBs</th>\n",
              "      <th>numberOffensivePlayersAnotherPosition</th>\n",
              "      <th>numberSafeties</th>\n",
              "      <th>numberLBs</th>\n",
              "      <th>numberCBs</th>\n",
              "      <th>strongSide</th>\n",
              "      <th>numberPlayersDefenseStrongSide</th>\n",
              "      <th>numberPlayersDefenseWeakSide</th>\n",
              "      <th>numberPlayersOffenseStrongSide</th>\n",
              "      <th>numberPlayersOffenseWeakSide</th>\n",
              "      <th>differenceOffenseVsDefenseWidth</th>\n",
              "      <th>differenceOffenseVsDefenseStrongSide</th>\n",
              "      <th>differenceOffenseVsDefenseWeakSide</th>\n",
              "      <th>HeightByWeightDeep</th>\n",
              "      <th>HeightByWeightHook</th>\n",
              "      <th>HeightByWeightCurl</th>\n",
              "      <th>HeightByWeightFlat</th>\n",
              "      <th>WeightByArea</th>\n",
              "      <th>density</th>\n",
              "      <th>densityNoLine</th>\n",
              "      <th>densityInsidePoints</th>\n",
              "      <th>densityInsidePointsNoLine</th>\n",
              "      <th>cluster</th>\n",
              "      <th>playResult</th>\n",
              "    </tr>\n",
              "    <tr>\n",
              "      <th>id</th>\n",
              "      <th></th>\n",
              "      <th></th>\n",
              "      <th></th>\n",
              "      <th></th>\n",
              "      <th></th>\n",
              "      <th></th>\n",
              "      <th></th>\n",
              "      <th></th>\n",
              "      <th></th>\n",
              "      <th></th>\n",
              "      <th></th>\n",
              "      <th></th>\n",
              "      <th></th>\n",
              "      <th></th>\n",
              "      <th></th>\n",
              "      <th></th>\n",
              "      <th></th>\n",
              "      <th></th>\n",
              "      <th></th>\n",
              "      <th></th>\n",
              "      <th></th>\n",
              "      <th></th>\n",
              "      <th></th>\n",
              "      <th></th>\n",
              "      <th></th>\n",
              "      <th></th>\n",
              "      <th></th>\n",
              "      <th></th>\n",
              "      <th></th>\n",
              "      <th></th>\n",
              "      <th></th>\n",
              "      <th></th>\n",
              "      <th></th>\n",
              "      <th></th>\n",
              "      <th></th>\n",
              "      <th></th>\n",
              "      <th></th>\n",
              "    </tr>\n",
              "  </thead>\n",
              "  <tbody>\n",
              "    <tr>\n",
              "      <th>2018090600:75:1</th>\n",
              "      <td>0</td>\n",
              "      <td>1</td>\n",
              "      <td>3</td>\n",
              "      <td>2</td>\n",
              "      <td>1</td>\n",
              "      <td>194.31095</td>\n",
              "      <td>194.31095</td>\n",
              "      <td>22.96</td>\n",
              "      <td>15.25</td>\n",
              "      <td>1</td>\n",
              "      <td>2</td>\n",
              "      <td>1</td>\n",
              "      <td>1</td>\n",
              "      <td>1</td>\n",
              "      <td>0</td>\n",
              "      <td>3</td>\n",
              "      <td>2</td>\n",
              "      <td>2</td>\n",
              "      <td>1</td>\n",
              "      <td>3</td>\n",
              "      <td>4</td>\n",
              "      <td>3</td>\n",
              "      <td>2</td>\n",
              "      <td>-0.63</td>\n",
              "      <td>0</td>\n",
              "      <td>-2</td>\n",
              "      <td>0.020227</td>\n",
              "      <td>0.018643</td>\n",
              "      <td>0.020066</td>\n",
              "      <td>0.021034</td>\n",
              "      <td>3.376032</td>\n",
              "      <td>0.036025</td>\n",
              "      <td>0.036025</td>\n",
              "      <td>6.974268</td>\n",
              "      <td>6.974268</td>\n",
              "      <td>5</td>\n",
              "      <td>10</td>\n",
              "    </tr>\n",
              "    <tr>\n",
              "      <th>2018090600:146:1</th>\n",
              "      <td>0</td>\n",
              "      <td>1</td>\n",
              "      <td>3</td>\n",
              "      <td>2</td>\n",
              "      <td>1</td>\n",
              "      <td>204.17725</td>\n",
              "      <td>204.17725</td>\n",
              "      <td>29.22</td>\n",
              "      <td>12.57</td>\n",
              "      <td>1</td>\n",
              "      <td>3</td>\n",
              "      <td>1</td>\n",
              "      <td>1</td>\n",
              "      <td>0</td>\n",
              "      <td>0</td>\n",
              "      <td>2</td>\n",
              "      <td>2</td>\n",
              "      <td>3</td>\n",
              "      <td>0</td>\n",
              "      <td>3</td>\n",
              "      <td>4</td>\n",
              "      <td>2</td>\n",
              "      <td>3</td>\n",
              "      <td>-1.15</td>\n",
              "      <td>-1</td>\n",
              "      <td>-1</td>\n",
              "      <td>0.020227</td>\n",
              "      <td>0.019228</td>\n",
              "      <td>0.020356</td>\n",
              "      <td>0.020455</td>\n",
              "      <td>3.178611</td>\n",
              "      <td>0.034284</td>\n",
              "      <td>0.034284</td>\n",
              "      <td>6.975511</td>\n",
              "      <td>6.975511</td>\n",
              "      <td>5</td>\n",
              "      <td>0</td>\n",
              "    </tr>\n",
              "    <tr>\n",
              "      <th>2018090600:168:1</th>\n",
              "      <td>0</td>\n",
              "      <td>1</td>\n",
              "      <td>2</td>\n",
              "      <td>2</td>\n",
              "      <td>2</td>\n",
              "      <td>277.65495</td>\n",
              "      <td>277.65495</td>\n",
              "      <td>33.67</td>\n",
              "      <td>15.21</td>\n",
              "      <td>1</td>\n",
              "      <td>2</td>\n",
              "      <td>1</td>\n",
              "      <td>2</td>\n",
              "      <td>0</td>\n",
              "      <td>0</td>\n",
              "      <td>2</td>\n",
              "      <td>2</td>\n",
              "      <td>3</td>\n",
              "      <td>1</td>\n",
              "      <td>5</td>\n",
              "      <td>2</td>\n",
              "      <td>4</td>\n",
              "      <td>1</td>\n",
              "      <td>0.71</td>\n",
              "      <td>-1</td>\n",
              "      <td>-1</td>\n",
              "      <td>0.020227</td>\n",
              "      <td>0.017683</td>\n",
              "      <td>0.020997</td>\n",
              "      <td>0.020745</td>\n",
              "      <td>2.337434</td>\n",
              "      <td>0.025211</td>\n",
              "      <td>0.025211</td>\n",
              "      <td>6.985594</td>\n",
              "      <td>6.985594</td>\n",
              "      <td>5</td>\n",
              "      <td>0</td>\n",
              "    </tr>\n",
              "    <tr>\n",
              "      <th>2018090600:190:1</th>\n",
              "      <td>1</td>\n",
              "      <td>0</td>\n",
              "      <td>2</td>\n",
              "      <td>3</td>\n",
              "      <td>1</td>\n",
              "      <td>189.16960</td>\n",
              "      <td>165.05520</td>\n",
              "      <td>26.42</td>\n",
              "      <td>12.91</td>\n",
              "      <td>1</td>\n",
              "      <td>3</td>\n",
              "      <td>1</td>\n",
              "      <td>1</td>\n",
              "      <td>0</td>\n",
              "      <td>0</td>\n",
              "      <td>3</td>\n",
              "      <td>1</td>\n",
              "      <td>3</td>\n",
              "      <td>0</td>\n",
              "      <td>2</td>\n",
              "      <td>5</td>\n",
              "      <td>2</td>\n",
              "      <td>3</td>\n",
              "      <td>-3.11</td>\n",
              "      <td>0</td>\n",
              "      <td>-2</td>\n",
              "      <td>0.000000</td>\n",
              "      <td>0.020120</td>\n",
              "      <td>0.021193</td>\n",
              "      <td>0.020455</td>\n",
              "      <td>3.192871</td>\n",
              "      <td>0.037004</td>\n",
              "      <td>0.036351</td>\n",
              "      <td>6.973569</td>\n",
              "      <td>6.969707</td>\n",
              "      <td>5</td>\n",
              "      <td>33</td>\n",
              "    </tr>\n",
              "    <tr>\n",
              "      <th>2018090600:320:1</th>\n",
              "      <td>1</td>\n",
              "      <td>0</td>\n",
              "      <td>3</td>\n",
              "      <td>3</td>\n",
              "      <td>1</td>\n",
              "      <td>187.12510</td>\n",
              "      <td>153.20020</td>\n",
              "      <td>27.80</td>\n",
              "      <td>13.29</td>\n",
              "      <td>1</td>\n",
              "      <td>3</td>\n",
              "      <td>1</td>\n",
              "      <td>1</td>\n",
              "      <td>0</td>\n",
              "      <td>0</td>\n",
              "      <td>2</td>\n",
              "      <td>3</td>\n",
              "      <td>3</td>\n",
              "      <td>1</td>\n",
              "      <td>3</td>\n",
              "      <td>5</td>\n",
              "      <td>3</td>\n",
              "      <td>2</td>\n",
              "      <td>-4.82</td>\n",
              "      <td>0</td>\n",
              "      <td>-3</td>\n",
              "      <td>0.000000</td>\n",
              "      <td>0.018995</td>\n",
              "      <td>0.019537</td>\n",
              "      <td>0.021279</td>\n",
              "      <td>4.281979</td>\n",
              "      <td>0.042752</td>\n",
              "      <td>0.045692</td>\n",
              "      <td>7.978624</td>\n",
              "      <td>7.980418</td>\n",
              "      <td>5</td>\n",
              "      <td>4</td>\n",
              "    </tr>\n",
              "    <tr>\n",
              "      <th>...</th>\n",
              "      <td>...</td>\n",
              "      <td>...</td>\n",
              "      <td>...</td>\n",
              "      <td>...</td>\n",
              "      <td>...</td>\n",
              "      <td>...</td>\n",
              "      <td>...</td>\n",
              "      <td>...</td>\n",
              "      <td>...</td>\n",
              "      <td>...</td>\n",
              "      <td>...</td>\n",
              "      <td>...</td>\n",
              "      <td>...</td>\n",
              "      <td>...</td>\n",
              "      <td>...</td>\n",
              "      <td>...</td>\n",
              "      <td>...</td>\n",
              "      <td>...</td>\n",
              "      <td>...</td>\n",
              "      <td>...</td>\n",
              "      <td>...</td>\n",
              "      <td>...</td>\n",
              "      <td>...</td>\n",
              "      <td>...</td>\n",
              "      <td>...</td>\n",
              "      <td>...</td>\n",
              "      <td>...</td>\n",
              "      <td>...</td>\n",
              "      <td>...</td>\n",
              "      <td>...</td>\n",
              "      <td>...</td>\n",
              "      <td>...</td>\n",
              "      <td>...</td>\n",
              "      <td>...</td>\n",
              "      <td>...</td>\n",
              "      <td>...</td>\n",
              "      <td>...</td>\n",
              "    </tr>\n",
              "    <tr>\n",
              "      <th>2018123015:3819:17</th>\n",
              "      <td>1</td>\n",
              "      <td>0</td>\n",
              "      <td>3</td>\n",
              "      <td>3</td>\n",
              "      <td>0</td>\n",
              "      <td>169.30945</td>\n",
              "      <td>124.90995</td>\n",
              "      <td>23.43</td>\n",
              "      <td>12.71</td>\n",
              "      <td>1</td>\n",
              "      <td>2</td>\n",
              "      <td>2</td>\n",
              "      <td>1</td>\n",
              "      <td>0</td>\n",
              "      <td>0</td>\n",
              "      <td>2</td>\n",
              "      <td>3</td>\n",
              "      <td>2</td>\n",
              "      <td>0</td>\n",
              "      <td>3</td>\n",
              "      <td>4</td>\n",
              "      <td>3</td>\n",
              "      <td>2</td>\n",
              "      <td>-3.91</td>\n",
              "      <td>0</td>\n",
              "      <td>-2</td>\n",
              "      <td>0.000000</td>\n",
              "      <td>0.017582</td>\n",
              "      <td>0.019208</td>\n",
              "      <td>0.000000</td>\n",
              "      <td>4.867507</td>\n",
              "      <td>0.041344</td>\n",
              "      <td>0.048035</td>\n",
              "      <td>6.970468</td>\n",
              "      <td>6.959971</td>\n",
              "      <td>5</td>\n",
              "      <td>12</td>\n",
              "    </tr>\n",
              "    <tr>\n",
              "      <th>2018123015:3932:17</th>\n",
              "      <td>0</td>\n",
              "      <td>0</td>\n",
              "      <td>1</td>\n",
              "      <td>4</td>\n",
              "      <td>2</td>\n",
              "      <td>327.34785</td>\n",
              "      <td>327.34785</td>\n",
              "      <td>35.76</td>\n",
              "      <td>13.20</td>\n",
              "      <td>1</td>\n",
              "      <td>3</td>\n",
              "      <td>1</td>\n",
              "      <td>1</td>\n",
              "      <td>0</td>\n",
              "      <td>0</td>\n",
              "      <td>2</td>\n",
              "      <td>2</td>\n",
              "      <td>3</td>\n",
              "      <td>0</td>\n",
              "      <td>3</td>\n",
              "      <td>4</td>\n",
              "      <td>3</td>\n",
              "      <td>2</td>\n",
              "      <td>-0.97</td>\n",
              "      <td>0</td>\n",
              "      <td>-2</td>\n",
              "      <td>0.000000</td>\n",
              "      <td>0.016636</td>\n",
              "      <td>0.018979</td>\n",
              "      <td>0.019819</td>\n",
              "      <td>2.120069</td>\n",
              "      <td>0.021384</td>\n",
              "      <td>0.021384</td>\n",
              "      <td>6.987781</td>\n",
              "      <td>6.987781</td>\n",
              "      <td>5</td>\n",
              "      <td>-3</td>\n",
              "    </tr>\n",
              "    <tr>\n",
              "      <th>2018123015:3969:17</th>\n",
              "      <td>0</td>\n",
              "      <td>1</td>\n",
              "      <td>1</td>\n",
              "      <td>4</td>\n",
              "      <td>1</td>\n",
              "      <td>293.39745</td>\n",
              "      <td>293.39745</td>\n",
              "      <td>26.24</td>\n",
              "      <td>14.67</td>\n",
              "      <td>1</td>\n",
              "      <td>3</td>\n",
              "      <td>1</td>\n",
              "      <td>1</td>\n",
              "      <td>0</td>\n",
              "      <td>0</td>\n",
              "      <td>2</td>\n",
              "      <td>1</td>\n",
              "      <td>4</td>\n",
              "      <td>1</td>\n",
              "      <td>3</td>\n",
              "      <td>4</td>\n",
              "      <td>2</td>\n",
              "      <td>3</td>\n",
              "      <td>0.07</td>\n",
              "      <td>-1</td>\n",
              "      <td>-1</td>\n",
              "      <td>0.018878</td>\n",
              "      <td>0.016636</td>\n",
              "      <td>0.019862</td>\n",
              "      <td>0.019789</td>\n",
              "      <td>2.307450</td>\n",
              "      <td>0.023858</td>\n",
              "      <td>0.023858</td>\n",
              "      <td>6.982958</td>\n",
              "      <td>6.982958</td>\n",
              "      <td>5</td>\n",
              "      <td>0</td>\n",
              "    </tr>\n",
              "    <tr>\n",
              "      <th>2018123015:4057:17</th>\n",
              "      <td>0</td>\n",
              "      <td>0</td>\n",
              "      <td>2</td>\n",
              "      <td>3</td>\n",
              "      <td>2</td>\n",
              "      <td>223.81860</td>\n",
              "      <td>223.81860</td>\n",
              "      <td>36.23</td>\n",
              "      <td>11.62</td>\n",
              "      <td>1</td>\n",
              "      <td>3</td>\n",
              "      <td>1</td>\n",
              "      <td>1</td>\n",
              "      <td>0</td>\n",
              "      <td>0</td>\n",
              "      <td>3</td>\n",
              "      <td>2</td>\n",
              "      <td>2</td>\n",
              "      <td>0</td>\n",
              "      <td>3</td>\n",
              "      <td>4</td>\n",
              "      <td>2</td>\n",
              "      <td>3</td>\n",
              "      <td>-0.94</td>\n",
              "      <td>-1</td>\n",
              "      <td>-1</td>\n",
              "      <td>0.000000</td>\n",
              "      <td>0.019526</td>\n",
              "      <td>0.019136</td>\n",
              "      <td>0.020001</td>\n",
              "      <td>2.948817</td>\n",
              "      <td>0.031275</td>\n",
              "      <td>0.031275</td>\n",
              "      <td>6.982128</td>\n",
              "      <td>6.982128</td>\n",
              "      <td>5</td>\n",
              "      <td>5</td>\n",
              "    </tr>\n",
              "    <tr>\n",
              "      <th>2018123015:4104:17</th>\n",
              "      <td>0</td>\n",
              "      <td>0</td>\n",
              "      <td>3</td>\n",
              "      <td>2</td>\n",
              "      <td>2</td>\n",
              "      <td>215.50425</td>\n",
              "      <td>215.50425</td>\n",
              "      <td>32.25</td>\n",
              "      <td>13.00</td>\n",
              "      <td>1</td>\n",
              "      <td>3</td>\n",
              "      <td>1</td>\n",
              "      <td>1</td>\n",
              "      <td>0</td>\n",
              "      <td>0</td>\n",
              "      <td>3</td>\n",
              "      <td>2</td>\n",
              "      <td>2</td>\n",
              "      <td>0</td>\n",
              "      <td>5</td>\n",
              "      <td>2</td>\n",
              "      <td>3</td>\n",
              "      <td>2</td>\n",
              "      <td>-0.88</td>\n",
              "      <td>-2</td>\n",
              "      <td>0</td>\n",
              "      <td>0.000000</td>\n",
              "      <td>0.019797</td>\n",
              "      <td>0.018535</td>\n",
              "      <td>0.020001</td>\n",
              "      <td>3.062585</td>\n",
              "      <td>0.032482</td>\n",
              "      <td>0.032482</td>\n",
              "      <td>6.981439</td>\n",
              "      <td>6.981439</td>\n",
              "      <td>5</td>\n",
              "      <td>37</td>\n",
              "    </tr>\n",
              "  </tbody>\n",
              "</table>\n",
              "<p>16415 rows × 37 columns</p>\n",
              "</div>"
            ],
            "text/plain": [
              "                    defensivelinezonePlayers  deepzonePlayers  \\\n",
              "id                                                              \n",
              "2018090600:75:1                            0                1   \n",
              "2018090600:146:1                           0                1   \n",
              "2018090600:168:1                           0                1   \n",
              "2018090600:190:1                           1                0   \n",
              "2018090600:320:1                           1                0   \n",
              "...                                      ...              ...   \n",
              "2018123015:3819:17                         1                0   \n",
              "2018123015:3932:17                         0                0   \n",
              "2018123015:3969:17                         0                1   \n",
              "2018123015:4057:17                         0                0   \n",
              "2018123015:4104:17                         0                0   \n",
              "\n",
              "                    hookzonePlayers  curlzonePlayers  flatzonePlayers  \\\n",
              "id                                                                      \n",
              "2018090600:75:1                   3                2                1   \n",
              "2018090600:146:1                  3                2                1   \n",
              "2018090600:168:1                  2                2                2   \n",
              "2018090600:190:1                  2                3                1   \n",
              "2018090600:320:1                  3                3                1   \n",
              "...                             ...              ...              ...   \n",
              "2018123015:3819:17                3                3                0   \n",
              "2018123015:3932:17                1                4                2   \n",
              "2018123015:3969:17                1                4                1   \n",
              "2018123015:4057:17                2                3                2   \n",
              "2018123015:4104:17                3                2                2   \n",
              "\n",
              "                    defenseArea  defenseAreaCoverDefenders  width  height  \\\n",
              "id                                                                          \n",
              "2018090600:75:1       194.31095                  194.31095  22.96   15.25   \n",
              "2018090600:146:1      204.17725                  204.17725  29.22   12.57   \n",
              "2018090600:168:1      277.65495                  277.65495  33.67   15.21   \n",
              "2018090600:190:1      189.16960                  165.05520  26.42   12.91   \n",
              "2018090600:320:1      187.12510                  153.20020  27.80   13.29   \n",
              "...                         ...                        ...    ...     ...   \n",
              "2018123015:3819:17    169.30945                  124.90995  23.43   12.71   \n",
              "2018123015:3932:17    327.34785                  327.34785  35.76   13.20   \n",
              "2018123015:3969:17    293.39745                  293.39745  26.24   14.67   \n",
              "2018123015:4057:17    223.81860                  223.81860  36.23   11.62   \n",
              "2018123015:4104:17    215.50425                  215.50425  32.25   13.00   \n",
              "\n",
              "                    numberQBs  numberWRs  numberTEs  numberRBs  numberFBs  \\\n",
              "id                                                                          \n",
              "2018090600:75:1             1          2          1          1          1   \n",
              "2018090600:146:1            1          3          1          1          0   \n",
              "2018090600:168:1            1          2          1          2          0   \n",
              "2018090600:190:1            1          3          1          1          0   \n",
              "2018090600:320:1            1          3          1          1          0   \n",
              "...                       ...        ...        ...        ...        ...   \n",
              "2018123015:3819:17          1          2          2          1          0   \n",
              "2018123015:3932:17          1          3          1          1          0   \n",
              "2018123015:3969:17          1          3          1          1          0   \n",
              "2018123015:4057:17          1          3          1          1          0   \n",
              "2018123015:4104:17          1          3          1          1          0   \n",
              "\n",
              "                    numberOffensivePlayersAnotherPosition  numberSafeties  \\\n",
              "id                                                                          \n",
              "2018090600:75:1                                         0               3   \n",
              "2018090600:146:1                                        0               2   \n",
              "2018090600:168:1                                        0               2   \n",
              "2018090600:190:1                                        0               3   \n",
              "2018090600:320:1                                        0               2   \n",
              "...                                                   ...             ...   \n",
              "2018123015:3819:17                                      0               2   \n",
              "2018123015:3932:17                                      0               2   \n",
              "2018123015:3969:17                                      0               2   \n",
              "2018123015:4057:17                                      0               3   \n",
              "2018123015:4104:17                                      0               3   \n",
              "\n",
              "                    numberLBs  numberCBs  strongSide  \\\n",
              "id                                                     \n",
              "2018090600:75:1             2          2           1   \n",
              "2018090600:146:1            2          3           0   \n",
              "2018090600:168:1            2          3           1   \n",
              "2018090600:190:1            1          3           0   \n",
              "2018090600:320:1            3          3           1   \n",
              "...                       ...        ...         ...   \n",
              "2018123015:3819:17          3          2           0   \n",
              "2018123015:3932:17          2          3           0   \n",
              "2018123015:3969:17          1          4           1   \n",
              "2018123015:4057:17          2          2           0   \n",
              "2018123015:4104:17          2          2           0   \n",
              "\n",
              "                    numberPlayersDefenseStrongSide  \\\n",
              "id                                                   \n",
              "2018090600:75:1                                  3   \n",
              "2018090600:146:1                                 3   \n",
              "2018090600:168:1                                 5   \n",
              "2018090600:190:1                                 2   \n",
              "2018090600:320:1                                 3   \n",
              "...                                            ...   \n",
              "2018123015:3819:17                               3   \n",
              "2018123015:3932:17                               3   \n",
              "2018123015:3969:17                               3   \n",
              "2018123015:4057:17                               3   \n",
              "2018123015:4104:17                               5   \n",
              "\n",
              "                    numberPlayersDefenseWeakSide  \\\n",
              "id                                                 \n",
              "2018090600:75:1                                4   \n",
              "2018090600:146:1                               4   \n",
              "2018090600:168:1                               2   \n",
              "2018090600:190:1                               5   \n",
              "2018090600:320:1                               5   \n",
              "...                                          ...   \n",
              "2018123015:3819:17                             4   \n",
              "2018123015:3932:17                             4   \n",
              "2018123015:3969:17                             4   \n",
              "2018123015:4057:17                             4   \n",
              "2018123015:4104:17                             2   \n",
              "\n",
              "                    numberPlayersOffenseStrongSide  \\\n",
              "id                                                   \n",
              "2018090600:75:1                                  3   \n",
              "2018090600:146:1                                 2   \n",
              "2018090600:168:1                                 4   \n",
              "2018090600:190:1                                 2   \n",
              "2018090600:320:1                                 3   \n",
              "...                                            ...   \n",
              "2018123015:3819:17                               3   \n",
              "2018123015:3932:17                               3   \n",
              "2018123015:3969:17                               2   \n",
              "2018123015:4057:17                               2   \n",
              "2018123015:4104:17                               3   \n",
              "\n",
              "                    numberPlayersOffenseWeakSide  \\\n",
              "id                                                 \n",
              "2018090600:75:1                                2   \n",
              "2018090600:146:1                               3   \n",
              "2018090600:168:1                               1   \n",
              "2018090600:190:1                               3   \n",
              "2018090600:320:1                               2   \n",
              "...                                          ...   \n",
              "2018123015:3819:17                             2   \n",
              "2018123015:3932:17                             2   \n",
              "2018123015:3969:17                             3   \n",
              "2018123015:4057:17                             3   \n",
              "2018123015:4104:17                             2   \n",
              "\n",
              "                    differenceOffenseVsDefenseWidth  \\\n",
              "id                                                    \n",
              "2018090600:75:1                               -0.63   \n",
              "2018090600:146:1                              -1.15   \n",
              "2018090600:168:1                               0.71   \n",
              "2018090600:190:1                              -3.11   \n",
              "2018090600:320:1                              -4.82   \n",
              "...                                             ...   \n",
              "2018123015:3819:17                            -3.91   \n",
              "2018123015:3932:17                            -0.97   \n",
              "2018123015:3969:17                             0.07   \n",
              "2018123015:4057:17                            -0.94   \n",
              "2018123015:4104:17                            -0.88   \n",
              "\n",
              "                    differenceOffenseVsDefenseStrongSide  \\\n",
              "id                                                         \n",
              "2018090600:75:1                                        0   \n",
              "2018090600:146:1                                      -1   \n",
              "2018090600:168:1                                      -1   \n",
              "2018090600:190:1                                       0   \n",
              "2018090600:320:1                                       0   \n",
              "...                                                  ...   \n",
              "2018123015:3819:17                                     0   \n",
              "2018123015:3932:17                                     0   \n",
              "2018123015:3969:17                                    -1   \n",
              "2018123015:4057:17                                    -1   \n",
              "2018123015:4104:17                                    -2   \n",
              "\n",
              "                    differenceOffenseVsDefenseWeakSide  HeightByWeightDeep  \\\n",
              "id                                                                           \n",
              "2018090600:75:1                                     -2            0.020227   \n",
              "2018090600:146:1                                    -1            0.020227   \n",
              "2018090600:168:1                                    -1            0.020227   \n",
              "2018090600:190:1                                    -2            0.000000   \n",
              "2018090600:320:1                                    -3            0.000000   \n",
              "...                                                ...                 ...   \n",
              "2018123015:3819:17                                  -2            0.000000   \n",
              "2018123015:3932:17                                  -2            0.000000   \n",
              "2018123015:3969:17                                  -1            0.018878   \n",
              "2018123015:4057:17                                  -1            0.000000   \n",
              "2018123015:4104:17                                   0            0.000000   \n",
              "\n",
              "                    HeightByWeightHook  HeightByWeightCurl  \\\n",
              "id                                                           \n",
              "2018090600:75:1               0.018643            0.020066   \n",
              "2018090600:146:1              0.019228            0.020356   \n",
              "2018090600:168:1              0.017683            0.020997   \n",
              "2018090600:190:1              0.020120            0.021193   \n",
              "2018090600:320:1              0.018995            0.019537   \n",
              "...                                ...                 ...   \n",
              "2018123015:3819:17            0.017582            0.019208   \n",
              "2018123015:3932:17            0.016636            0.018979   \n",
              "2018123015:3969:17            0.016636            0.019862   \n",
              "2018123015:4057:17            0.019526            0.019136   \n",
              "2018123015:4104:17            0.019797            0.018535   \n",
              "\n",
              "                    HeightByWeightFlat  WeightByArea   density  densityNoLine  \\\n",
              "id                                                                              \n",
              "2018090600:75:1               0.021034      3.376032  0.036025       0.036025   \n",
              "2018090600:146:1              0.020455      3.178611  0.034284       0.034284   \n",
              "2018090600:168:1              0.020745      2.337434  0.025211       0.025211   \n",
              "2018090600:190:1              0.020455      3.192871  0.037004       0.036351   \n",
              "2018090600:320:1              0.021279      4.281979  0.042752       0.045692   \n",
              "...                                ...           ...       ...            ...   \n",
              "2018123015:3819:17            0.000000      4.867507  0.041344       0.048035   \n",
              "2018123015:3932:17            0.019819      2.120069  0.021384       0.021384   \n",
              "2018123015:3969:17            0.019789      2.307450  0.023858       0.023858   \n",
              "2018123015:4057:17            0.020001      2.948817  0.031275       0.031275   \n",
              "2018123015:4104:17            0.020001      3.062585  0.032482       0.032482   \n",
              "\n",
              "                    densityInsidePoints  densityInsidePointsNoLine  cluster  \\\n",
              "id                                                                            \n",
              "2018090600:75:1                6.974268                   6.974268        5   \n",
              "2018090600:146:1               6.975511                   6.975511        5   \n",
              "2018090600:168:1               6.985594                   6.985594        5   \n",
              "2018090600:190:1               6.973569                   6.969707        5   \n",
              "2018090600:320:1               7.978624                   7.980418        5   \n",
              "...                                 ...                        ...      ...   \n",
              "2018123015:3819:17             6.970468                   6.959971        5   \n",
              "2018123015:3932:17             6.987781                   6.987781        5   \n",
              "2018123015:3969:17             6.982958                   6.982958        5   \n",
              "2018123015:4057:17             6.982128                   6.982128        5   \n",
              "2018123015:4104:17             6.981439                   6.981439        5   \n",
              "\n",
              "                    playResult  \n",
              "id                              \n",
              "2018090600:75:1             10  \n",
              "2018090600:146:1             0  \n",
              "2018090600:168:1             0  \n",
              "2018090600:190:1            33  \n",
              "2018090600:320:1             4  \n",
              "...                        ...  \n",
              "2018123015:3819:17          12  \n",
              "2018123015:3932:17          -3  \n",
              "2018123015:3969:17           0  \n",
              "2018123015:4057:17           5  \n",
              "2018123015:4104:17          37  \n",
              "\n",
              "[16415 rows x 37 columns]"
            ]
          },
          "metadata": {
            "tags": []
          },
          "execution_count": 14
        }
      ]
    },
    {
      "cell_type": "markdown",
      "metadata": {
        "id": "N3a6neYxiNS9"
      },
      "source": [
        "#Eliminar big plays"
      ]
    },
    {
      "cell_type": "markdown",
      "metadata": {
        "id": "5B__FjjHSdmf"
      },
      "source": [
        "##Big plays ofensivas"
      ]
    },
    {
      "cell_type": "code",
      "metadata": {
        "id": "ivJHrKVMSkKx"
      },
      "source": [
        "big_plays_offense = static_defenses_ss[static_defenses_ss[\"playResult\"]>=16]"
      ],
      "execution_count": null,
      "outputs": []
    },
    {
      "cell_type": "code",
      "metadata": {
        "id": "PyARKuPKSpg4"
      },
      "source": [
        "static_defenses_ss.drop(static_defenses_ss[static_defenses_ss[\"playResult\"]>=16].index,inplace=True)\n",
        "static_defenses_mms.drop(static_defenses_mms[static_defenses_mms[\"playResult\"]>=16].index,inplace=True)\n",
        "static_defenses_rs.drop(static_defenses_rs[static_defenses_rs[\"playResult\"]>=16].index,inplace=True)\n",
        "static_defenses_pt.drop(static_defenses_pt[static_defenses_pt[\"playResult\"]>=16].index,inplace=True)"
      ],
      "execution_count": null,
      "outputs": []
    },
    {
      "cell_type": "markdown",
      "metadata": {
        "id": "l20Mv21ZSh3q"
      },
      "source": [
        "##Big plays defensivas"
      ]
    },
    {
      "cell_type": "code",
      "metadata": {
        "id": "vCnHdCAyS6Ci"
      },
      "source": [
        "big_play_defense = static_defenses_ss[static_defenses_ss[\"playResult\"]<=-7]"
      ],
      "execution_count": null,
      "outputs": []
    },
    {
      "cell_type": "code",
      "metadata": {
        "id": "MBn1N_3jTE8t"
      },
      "source": [
        "static_defenses_ss.drop(static_defenses_ss[static_defenses_ss[\"playResult\"]<=-7].index,inplace=True)\n",
        "static_defenses_mms.drop(static_defenses_mms[static_defenses_mms[\"playResult\"]<=-7].index,inplace=True)\n",
        "static_defenses_rs.drop(static_defenses_rs[static_defenses_rs[\"playResult\"]<=-7].index,inplace=True)\n",
        "static_defenses_pt.drop(static_defenses_pt[static_defenses_pt[\"playResult\"]<=-7].index,inplace=True)"
      ],
      "execution_count": null,
      "outputs": []
    },
    {
      "cell_type": "markdown",
      "metadata": {
        "id": "wPEg7kqwyrP_"
      },
      "source": [
        "#StandardScaler"
      ]
    },
    {
      "cell_type": "markdown",
      "metadata": {
        "id": "hIifY9NkyuXu"
      },
      "source": [
        "##Incluyendo cluster en el pca"
      ]
    },
    {
      "cell_type": "markdown",
      "metadata": {
        "id": "J0ftM8_uy5OM"
      },
      "source": [
        "###Normalización del dataset"
      ]
    },
    {
      "cell_type": "code",
      "metadata": {
        "id": "transparent-planner"
      },
      "source": [
        "scaler = preprocessing.StandardScaler()\n",
        "static_defenses1 = scaler.fit_transform(static_defenses_ss.drop([\"playResult\"],axis=1))"
      ],
      "execution_count": null,
      "outputs": []
    },
    {
      "cell_type": "code",
      "metadata": {
        "colab": {
          "base_uri": "https://localhost:8080/"
        },
        "id": "3NCsnvYs3HDr",
        "outputId": "37b77559-5671-408f-a2b8-86191d6b37e4"
      },
      "source": [
        "pca_ss = PCA ()\n",
        "X_pca_ss = pca_ss.fit_transform(static_defenses1)\n",
        "X_pca_ss.shape"
      ],
      "execution_count": null,
      "outputs": [
        {
          "output_type": "execute_result",
          "data": {
            "text/plain": [
              "(13055, 36)"
            ]
          },
          "metadata": {
            "tags": []
          },
          "execution_count": 20
        }
      ]
    },
    {
      "cell_type": "code",
      "metadata": {
        "colab": {
          "base_uri": "https://localhost:8080/",
          "height": 542
        },
        "id": "yG-RyvZm3Jy_",
        "outputId": "4f63118b-f5de-4406-b538-01cf90ba7216"
      },
      "source": [
        "exp_var_cumul = np.cumsum(pca_ss.explained_variance_ratio_)\n",
        "\n",
        "px.area(\n",
        "    x=range(1, exp_var_cumul.shape[0] + 1),\n",
        "    y=exp_var_cumul,\n",
        "    labels={\"x\": \"# Components\", \"y\": \"Explained Variance\"}\n",
        ")"
      ],
      "execution_count": null,
      "outputs": [
        {
          "output_type": "display_data",
          "data": {
            "text/html": [
              "<html>\n",
              "<head><meta charset=\"utf-8\" /></head>\n",
              "<body>\n",
              "    <div>\n",
              "            <script src=\"https://cdnjs.cloudflare.com/ajax/libs/mathjax/2.7.5/MathJax.js?config=TeX-AMS-MML_SVG\"></script><script type=\"text/javascript\">if (window.MathJax) {MathJax.Hub.Config({SVG: {font: \"STIX-Web\"}});}</script>\n",
              "                <script type=\"text/javascript\">window.PlotlyConfig = {MathJaxConfig: 'local'};</script>\n",
              "        <script src=\"https://cdn.plot.ly/plotly-latest.min.js\"></script>    \n",
              "            <div id=\"a8f3665b-d03a-4dc8-b30d-cc9a61560e19\" class=\"plotly-graph-div\" style=\"height:525px; width:100%;\"></div>\n",
              "            <script type=\"text/javascript\">\n",
              "                \n",
              "                    window.PLOTLYENV=window.PLOTLYENV || {};\n",
              "                    \n",
              "                if (document.getElementById(\"a8f3665b-d03a-4dc8-b30d-cc9a61560e19\")) {\n",
              "                    Plotly.newPlot(\n",
              "                        'a8f3665b-d03a-4dc8-b30d-cc9a61560e19',\n",
              "                        [{\"hoverlabel\": {\"namelength\": 0}, \"hovertemplate\": \"# Components=%{x}<br>Explained Variance=%{y}\", \"legendgroup\": \"\", \"line\": {\"color\": \"#636efa\"}, \"mode\": \"lines\", \"name\": \"\", \"orientation\": \"v\", \"showlegend\": false, \"stackgroup\": \"1\", \"type\": \"scatter\", \"x\": [1, 2, 3, 4, 5, 6, 7, 8, 9, 10, 11, 12, 13, 14, 15, 16, 17, 18, 19, 20, 21, 22, 23, 24, 25, 26, 27, 28, 29, 30, 31, 32, 33, 34, 35, 36], \"xaxis\": \"x\", \"y\": [0.20822578051061605, 0.3370459056424939, 0.4178622205454291, 0.48460560050704055, 0.5460786741292986, 0.6019778682722969, 0.6515882597072719, 0.6929528993484786, 0.7284411060114162, 0.7596302254841911, 0.789536054555088, 0.818427885897798, 0.8473034532045951, 0.8734335371352984, 0.8987266137378269, 0.9184856126956429, 0.9376643867688477, 0.9522333618141775, 0.9652057485485993, 0.9744891393784036, 0.9823108392057516, 0.9871860040469481, 0.9916103164685479, 0.9944776554101185, 0.9965404194355604, 0.9981959157699613, 0.99915940063218, 0.999588576783751, 0.9998322348207862, 0.9999103139416277, 0.9999674299399202, 0.9999984256225043, 0.9999997815245182, 1.0, 1.0, 1.0], \"yaxis\": \"y\"}],\n",
              "                        {\"legend\": {\"tracegroupgap\": 0}, \"margin\": {\"t\": 60}, \"template\": {\"data\": {\"bar\": [{\"error_x\": {\"color\": \"#2a3f5f\"}, \"error_y\": {\"color\": \"#2a3f5f\"}, \"marker\": {\"line\": {\"color\": \"#E5ECF6\", \"width\": 0.5}}, \"type\": \"bar\"}], \"barpolar\": [{\"marker\": {\"line\": {\"color\": \"#E5ECF6\", \"width\": 0.5}}, \"type\": \"barpolar\"}], \"carpet\": [{\"aaxis\": {\"endlinecolor\": \"#2a3f5f\", \"gridcolor\": \"white\", \"linecolor\": \"white\", \"minorgridcolor\": \"white\", \"startlinecolor\": \"#2a3f5f\"}, \"baxis\": {\"endlinecolor\": \"#2a3f5f\", \"gridcolor\": \"white\", \"linecolor\": \"white\", \"minorgridcolor\": \"white\", \"startlinecolor\": \"#2a3f5f\"}, \"type\": \"carpet\"}], \"choropleth\": [{\"colorbar\": {\"outlinewidth\": 0, \"ticks\": \"\"}, \"type\": \"choropleth\"}], \"contour\": [{\"colorbar\": {\"outlinewidth\": 0, \"ticks\": \"\"}, \"colorscale\": [[0.0, \"#0d0887\"], [0.1111111111111111, \"#46039f\"], [0.2222222222222222, \"#7201a8\"], [0.3333333333333333, \"#9c179e\"], [0.4444444444444444, \"#bd3786\"], [0.5555555555555556, \"#d8576b\"], [0.6666666666666666, \"#ed7953\"], [0.7777777777777778, \"#fb9f3a\"], [0.8888888888888888, \"#fdca26\"], [1.0, \"#f0f921\"]], \"type\": \"contour\"}], \"contourcarpet\": [{\"colorbar\": {\"outlinewidth\": 0, \"ticks\": \"\"}, \"type\": \"contourcarpet\"}], \"heatmap\": [{\"colorbar\": {\"outlinewidth\": 0, \"ticks\": \"\"}, \"colorscale\": [[0.0, \"#0d0887\"], [0.1111111111111111, \"#46039f\"], [0.2222222222222222, \"#7201a8\"], [0.3333333333333333, \"#9c179e\"], [0.4444444444444444, \"#bd3786\"], [0.5555555555555556, \"#d8576b\"], [0.6666666666666666, \"#ed7953\"], [0.7777777777777778, \"#fb9f3a\"], [0.8888888888888888, \"#fdca26\"], [1.0, \"#f0f921\"]], \"type\": \"heatmap\"}], \"heatmapgl\": [{\"colorbar\": {\"outlinewidth\": 0, \"ticks\": \"\"}, \"colorscale\": [[0.0, \"#0d0887\"], [0.1111111111111111, \"#46039f\"], [0.2222222222222222, \"#7201a8\"], [0.3333333333333333, \"#9c179e\"], [0.4444444444444444, \"#bd3786\"], [0.5555555555555556, \"#d8576b\"], [0.6666666666666666, \"#ed7953\"], [0.7777777777777778, \"#fb9f3a\"], [0.8888888888888888, \"#fdca26\"], [1.0, \"#f0f921\"]], \"type\": \"heatmapgl\"}], \"histogram\": [{\"marker\": {\"colorbar\": {\"outlinewidth\": 0, \"ticks\": \"\"}}, \"type\": \"histogram\"}], \"histogram2d\": [{\"colorbar\": {\"outlinewidth\": 0, \"ticks\": \"\"}, \"colorscale\": [[0.0, \"#0d0887\"], [0.1111111111111111, \"#46039f\"], [0.2222222222222222, \"#7201a8\"], [0.3333333333333333, \"#9c179e\"], [0.4444444444444444, \"#bd3786\"], [0.5555555555555556, \"#d8576b\"], [0.6666666666666666, \"#ed7953\"], [0.7777777777777778, \"#fb9f3a\"], [0.8888888888888888, \"#fdca26\"], [1.0, \"#f0f921\"]], \"type\": \"histogram2d\"}], \"histogram2dcontour\": [{\"colorbar\": {\"outlinewidth\": 0, \"ticks\": \"\"}, \"colorscale\": [[0.0, \"#0d0887\"], [0.1111111111111111, \"#46039f\"], [0.2222222222222222, \"#7201a8\"], [0.3333333333333333, \"#9c179e\"], [0.4444444444444444, \"#bd3786\"], [0.5555555555555556, \"#d8576b\"], [0.6666666666666666, \"#ed7953\"], [0.7777777777777778, \"#fb9f3a\"], [0.8888888888888888, \"#fdca26\"], [1.0, \"#f0f921\"]], \"type\": \"histogram2dcontour\"}], \"mesh3d\": [{\"colorbar\": {\"outlinewidth\": 0, \"ticks\": \"\"}, \"type\": \"mesh3d\"}], \"parcoords\": [{\"line\": {\"colorbar\": {\"outlinewidth\": 0, \"ticks\": \"\"}}, \"type\": \"parcoords\"}], \"pie\": [{\"automargin\": true, \"type\": \"pie\"}], \"scatter\": [{\"marker\": {\"colorbar\": {\"outlinewidth\": 0, \"ticks\": \"\"}}, \"type\": \"scatter\"}], \"scatter3d\": [{\"line\": {\"colorbar\": {\"outlinewidth\": 0, \"ticks\": \"\"}}, \"marker\": {\"colorbar\": {\"outlinewidth\": 0, \"ticks\": \"\"}}, \"type\": \"scatter3d\"}], \"scattercarpet\": [{\"marker\": {\"colorbar\": {\"outlinewidth\": 0, \"ticks\": \"\"}}, \"type\": \"scattercarpet\"}], \"scattergeo\": [{\"marker\": {\"colorbar\": {\"outlinewidth\": 0, \"ticks\": \"\"}}, \"type\": \"scattergeo\"}], \"scattergl\": [{\"marker\": {\"colorbar\": {\"outlinewidth\": 0, \"ticks\": \"\"}}, \"type\": \"scattergl\"}], \"scattermapbox\": [{\"marker\": {\"colorbar\": {\"outlinewidth\": 0, \"ticks\": \"\"}}, \"type\": \"scattermapbox\"}], \"scatterpolar\": [{\"marker\": {\"colorbar\": {\"outlinewidth\": 0, \"ticks\": \"\"}}, \"type\": \"scatterpolar\"}], \"scatterpolargl\": [{\"marker\": {\"colorbar\": {\"outlinewidth\": 0, \"ticks\": \"\"}}, \"type\": \"scatterpolargl\"}], \"scatterternary\": [{\"marker\": {\"colorbar\": {\"outlinewidth\": 0, \"ticks\": \"\"}}, \"type\": \"scatterternary\"}], \"surface\": [{\"colorbar\": {\"outlinewidth\": 0, \"ticks\": \"\"}, \"colorscale\": [[0.0, \"#0d0887\"], [0.1111111111111111, \"#46039f\"], [0.2222222222222222, \"#7201a8\"], [0.3333333333333333, \"#9c179e\"], [0.4444444444444444, \"#bd3786\"], [0.5555555555555556, \"#d8576b\"], [0.6666666666666666, \"#ed7953\"], [0.7777777777777778, \"#fb9f3a\"], [0.8888888888888888, \"#fdca26\"], [1.0, \"#f0f921\"]], \"type\": \"surface\"}], \"table\": [{\"cells\": {\"fill\": {\"color\": \"#EBF0F8\"}, \"line\": {\"color\": \"white\"}}, \"header\": {\"fill\": {\"color\": \"#C8D4E3\"}, \"line\": {\"color\": \"white\"}}, \"type\": \"table\"}]}, \"layout\": {\"annotationdefaults\": {\"arrowcolor\": \"#2a3f5f\", \"arrowhead\": 0, \"arrowwidth\": 1}, \"coloraxis\": {\"colorbar\": {\"outlinewidth\": 0, \"ticks\": \"\"}}, \"colorscale\": {\"diverging\": [[0, \"#8e0152\"], [0.1, \"#c51b7d\"], [0.2, \"#de77ae\"], [0.3, \"#f1b6da\"], [0.4, \"#fde0ef\"], [0.5, \"#f7f7f7\"], [0.6, \"#e6f5d0\"], [0.7, \"#b8e186\"], [0.8, \"#7fbc41\"], [0.9, \"#4d9221\"], [1, \"#276419\"]], \"sequential\": [[0.0, \"#0d0887\"], [0.1111111111111111, \"#46039f\"], [0.2222222222222222, \"#7201a8\"], [0.3333333333333333, \"#9c179e\"], [0.4444444444444444, \"#bd3786\"], [0.5555555555555556, \"#d8576b\"], [0.6666666666666666, \"#ed7953\"], [0.7777777777777778, \"#fb9f3a\"], [0.8888888888888888, \"#fdca26\"], [1.0, \"#f0f921\"]], \"sequentialminus\": [[0.0, \"#0d0887\"], [0.1111111111111111, \"#46039f\"], [0.2222222222222222, \"#7201a8\"], [0.3333333333333333, \"#9c179e\"], [0.4444444444444444, \"#bd3786\"], [0.5555555555555556, \"#d8576b\"], [0.6666666666666666, \"#ed7953\"], [0.7777777777777778, \"#fb9f3a\"], [0.8888888888888888, \"#fdca26\"], [1.0, \"#f0f921\"]]}, \"colorway\": [\"#636efa\", \"#EF553B\", \"#00cc96\", \"#ab63fa\", \"#FFA15A\", \"#19d3f3\", \"#FF6692\", \"#B6E880\", \"#FF97FF\", \"#FECB52\"], \"font\": {\"color\": \"#2a3f5f\"}, \"geo\": {\"bgcolor\": \"white\", \"lakecolor\": \"white\", \"landcolor\": \"#E5ECF6\", \"showlakes\": true, \"showland\": true, \"subunitcolor\": \"white\"}, \"hoverlabel\": {\"align\": \"left\"}, \"hovermode\": \"closest\", \"mapbox\": {\"style\": \"light\"}, \"paper_bgcolor\": \"white\", \"plot_bgcolor\": \"#E5ECF6\", \"polar\": {\"angularaxis\": {\"gridcolor\": \"white\", \"linecolor\": \"white\", \"ticks\": \"\"}, \"bgcolor\": \"#E5ECF6\", \"radialaxis\": {\"gridcolor\": \"white\", \"linecolor\": \"white\", \"ticks\": \"\"}}, \"scene\": {\"xaxis\": {\"backgroundcolor\": \"#E5ECF6\", \"gridcolor\": \"white\", \"gridwidth\": 2, \"linecolor\": \"white\", \"showbackground\": true, \"ticks\": \"\", \"zerolinecolor\": \"white\"}, \"yaxis\": {\"backgroundcolor\": \"#E5ECF6\", \"gridcolor\": \"white\", \"gridwidth\": 2, \"linecolor\": \"white\", \"showbackground\": true, \"ticks\": \"\", \"zerolinecolor\": \"white\"}, \"zaxis\": {\"backgroundcolor\": \"#E5ECF6\", \"gridcolor\": \"white\", \"gridwidth\": 2, \"linecolor\": \"white\", \"showbackground\": true, \"ticks\": \"\", \"zerolinecolor\": \"white\"}}, \"shapedefaults\": {\"line\": {\"color\": \"#2a3f5f\"}}, \"ternary\": {\"aaxis\": {\"gridcolor\": \"white\", \"linecolor\": \"white\", \"ticks\": \"\"}, \"baxis\": {\"gridcolor\": \"white\", \"linecolor\": \"white\", \"ticks\": \"\"}, \"bgcolor\": \"#E5ECF6\", \"caxis\": {\"gridcolor\": \"white\", \"linecolor\": \"white\", \"ticks\": \"\"}}, \"title\": {\"x\": 0.05}, \"xaxis\": {\"automargin\": true, \"gridcolor\": \"white\", \"linecolor\": \"white\", \"ticks\": \"\", \"title\": {\"standoff\": 15}, \"zerolinecolor\": \"white\", \"zerolinewidth\": 2}, \"yaxis\": {\"automargin\": true, \"gridcolor\": \"white\", \"linecolor\": \"white\", \"ticks\": \"\", \"title\": {\"standoff\": 15}, \"zerolinecolor\": \"white\", \"zerolinewidth\": 2}}}, \"xaxis\": {\"anchor\": \"y\", \"domain\": [0.0, 1.0], \"title\": {\"text\": \"# Components\"}}, \"yaxis\": {\"anchor\": \"x\", \"domain\": [0.0, 1.0], \"title\": {\"text\": \"Explained Variance\"}}},\n",
              "                        {\"responsive\": true}\n",
              "                    ).then(function(){\n",
              "                            \n",
              "var gd = document.getElementById('a8f3665b-d03a-4dc8-b30d-cc9a61560e19');\n",
              "var x = new MutationObserver(function (mutations, observer) {{\n",
              "        var display = window.getComputedStyle(gd).display;\n",
              "        if (!display || display === 'none') {{\n",
              "            console.log([gd, 'removed!']);\n",
              "            Plotly.purge(gd);\n",
              "            observer.disconnect();\n",
              "        }}\n",
              "}});\n",
              "\n",
              "// Listen for the removal of the full notebook cells\n",
              "var notebookContainer = gd.closest('#notebook-container');\n",
              "if (notebookContainer) {{\n",
              "    x.observe(notebookContainer, {childList: true});\n",
              "}}\n",
              "\n",
              "// Listen for the clearing of the current output cell\n",
              "var outputEl = gd.closest('.output');\n",
              "if (outputEl) {{\n",
              "    x.observe(outputEl, {childList: true});\n",
              "}}\n",
              "\n",
              "                        })\n",
              "                };\n",
              "                \n",
              "            </script>\n",
              "        </div>\n",
              "</body>\n",
              "</html>"
            ]
          },
          "metadata": {
            "tags": []
          }
        }
      ]
    },
    {
      "cell_type": "code",
      "metadata": {
        "colab": {
          "base_uri": "https://localhost:8080/"
        },
        "id": "KDK01lJShIMu",
        "outputId": "13fcedc5-fa95-4b8a-8eb1-9e1e8bed3ec8"
      },
      "source": [
        "X_pca_ss = PCA(n_components = 14).fit_transform(static_defenses1)\n",
        "X_pca_ss.shape"
      ],
      "execution_count": null,
      "outputs": [
        {
          "output_type": "execute_result",
          "data": {
            "text/plain": [
              "(13055, 14)"
            ]
          },
          "metadata": {
            "tags": []
          },
          "execution_count": 22
        }
      ]
    },
    {
      "cell_type": "code",
      "metadata": {
        "colab": {
          "base_uri": "https://localhost:8080/",
          "height": 206
        },
        "id": "mL4vaE1OTg_U",
        "outputId": "63d1e5df-bc87-4014-f157-357d7903156f"
      },
      "source": [
        "train_ss = pd.DataFrame(X_pca_ss)\n",
        "train_ss[\"playResult\"] = static_defenses_ss[\"playResult\"].values\n",
        "train_ss.head()"
      ],
      "execution_count": null,
      "outputs": [
        {
          "output_type": "execute_result",
          "data": {
            "text/html": [
              "<div>\n",
              "<style scoped>\n",
              "    .dataframe tbody tr th:only-of-type {\n",
              "        vertical-align: middle;\n",
              "    }\n",
              "\n",
              "    .dataframe tbody tr th {\n",
              "        vertical-align: top;\n",
              "    }\n",
              "\n",
              "    .dataframe thead th {\n",
              "        text-align: right;\n",
              "    }\n",
              "</style>\n",
              "<table border=\"1\" class=\"dataframe\">\n",
              "  <thead>\n",
              "    <tr style=\"text-align: right;\">\n",
              "      <th></th>\n",
              "      <th>0</th>\n",
              "      <th>1</th>\n",
              "      <th>2</th>\n",
              "      <th>3</th>\n",
              "      <th>4</th>\n",
              "      <th>5</th>\n",
              "      <th>6</th>\n",
              "      <th>7</th>\n",
              "      <th>8</th>\n",
              "      <th>9</th>\n",
              "      <th>10</th>\n",
              "      <th>11</th>\n",
              "      <th>12</th>\n",
              "      <th>13</th>\n",
              "      <th>playResult</th>\n",
              "    </tr>\n",
              "  </thead>\n",
              "  <tbody>\n",
              "    <tr>\n",
              "      <th>0</th>\n",
              "      <td>-0.787311</td>\n",
              "      <td>-2.474096</td>\n",
              "      <td>0.385063</td>\n",
              "      <td>1.836596</td>\n",
              "      <td>2.277223</td>\n",
              "      <td>-0.254967</td>\n",
              "      <td>0.331458</td>\n",
              "      <td>-0.968819</td>\n",
              "      <td>-1.993819</td>\n",
              "      <td>1.663755</td>\n",
              "      <td>1.756103</td>\n",
              "      <td>2.723484</td>\n",
              "      <td>-3.314372</td>\n",
              "      <td>-0.833928</td>\n",
              "      <td>10</td>\n",
              "    </tr>\n",
              "    <tr>\n",
              "      <th>1</th>\n",
              "      <td>-0.068244</td>\n",
              "      <td>-1.841881</td>\n",
              "      <td>1.450033</td>\n",
              "      <td>-0.246551</td>\n",
              "      <td>-0.468645</td>\n",
              "      <td>0.713920</td>\n",
              "      <td>0.735222</td>\n",
              "      <td>-1.680865</td>\n",
              "      <td>-0.484148</td>\n",
              "      <td>0.284253</td>\n",
              "      <td>-0.302579</td>\n",
              "      <td>-0.423542</td>\n",
              "      <td>0.490548</td>\n",
              "      <td>-0.502623</td>\n",
              "      <td>0</td>\n",
              "    </tr>\n",
              "    <tr>\n",
              "      <th>2</th>\n",
              "      <td>2.279749</td>\n",
              "      <td>-2.490446</td>\n",
              "      <td>-3.318351</td>\n",
              "      <td>1.586944</td>\n",
              "      <td>0.493707</td>\n",
              "      <td>-0.531236</td>\n",
              "      <td>-0.233115</td>\n",
              "      <td>-0.504196</td>\n",
              "      <td>0.039697</td>\n",
              "      <td>-2.130951</td>\n",
              "      <td>3.306077</td>\n",
              "      <td>-1.166991</td>\n",
              "      <td>0.299931</td>\n",
              "      <td>0.171380</td>\n",
              "      <td>0</td>\n",
              "    </tr>\n",
              "    <tr>\n",
              "      <th>3</th>\n",
              "      <td>-1.669554</td>\n",
              "      <td>0.853238</td>\n",
              "      <td>0.711323</td>\n",
              "      <td>-0.897498</td>\n",
              "      <td>1.962615</td>\n",
              "      <td>-1.945549</td>\n",
              "      <td>0.259657</td>\n",
              "      <td>-0.679416</td>\n",
              "      <td>-0.858368</td>\n",
              "      <td>-0.807078</td>\n",
              "      <td>-0.172542</td>\n",
              "      <td>0.448111</td>\n",
              "      <td>-0.594324</td>\n",
              "      <td>0.891082</td>\n",
              "      <td>4</td>\n",
              "    </tr>\n",
              "    <tr>\n",
              "      <th>4</th>\n",
              "      <td>0.180043</td>\n",
              "      <td>0.087343</td>\n",
              "      <td>-2.473161</td>\n",
              "      <td>-0.053460</td>\n",
              "      <td>0.927207</td>\n",
              "      <td>2.097037</td>\n",
              "      <td>-1.170472</td>\n",
              "      <td>0.056062</td>\n",
              "      <td>0.542784</td>\n",
              "      <td>-0.161967</td>\n",
              "      <td>-1.052930</td>\n",
              "      <td>-0.575629</td>\n",
              "      <td>0.360074</td>\n",
              "      <td>0.317416</td>\n",
              "      <td>0</td>\n",
              "    </tr>\n",
              "  </tbody>\n",
              "</table>\n",
              "</div>"
            ],
            "text/plain": [
              "          0         1         2         3         4         5         6  \\\n",
              "0 -0.787311 -2.474096  0.385063  1.836596  2.277223 -0.254967  0.331458   \n",
              "1 -0.068244 -1.841881  1.450033 -0.246551 -0.468645  0.713920  0.735222   \n",
              "2  2.279749 -2.490446 -3.318351  1.586944  0.493707 -0.531236 -0.233115   \n",
              "3 -1.669554  0.853238  0.711323 -0.897498  1.962615 -1.945549  0.259657   \n",
              "4  0.180043  0.087343 -2.473161 -0.053460  0.927207  2.097037 -1.170472   \n",
              "\n",
              "          7         8         9        10        11        12        13  \\\n",
              "0 -0.968819 -1.993819  1.663755  1.756103  2.723484 -3.314372 -0.833928   \n",
              "1 -1.680865 -0.484148  0.284253 -0.302579 -0.423542  0.490548 -0.502623   \n",
              "2 -0.504196  0.039697 -2.130951  3.306077 -1.166991  0.299931  0.171380   \n",
              "3 -0.679416 -0.858368 -0.807078 -0.172542  0.448111 -0.594324  0.891082   \n",
              "4  0.056062  0.542784 -0.161967 -1.052930 -0.575629  0.360074  0.317416   \n",
              "\n",
              "   playResult  \n",
              "0          10  \n",
              "1           0  \n",
              "2           0  \n",
              "3           4  \n",
              "4           0  "
            ]
          },
          "metadata": {
            "tags": []
          },
          "execution_count": 23
        }
      ]
    },
    {
      "cell_type": "markdown",
      "metadata": {
        "id": "aXZOwbbqltgM"
      },
      "source": [
        "###KNN"
      ]
    },
    {
      "cell_type": "code",
      "metadata": {
        "id": "sCfTgNtbfFDG",
        "colab": {
          "base_uri": "https://localhost:8080/",
          "height": 300
        },
        "outputId": "5c599196-c49c-4800-fd8b-57fd73479d4d"
      },
      "source": [
        "from sklearn import neighbors\n",
        "from sklearn.model_selection import KFold\n",
        "import matplotlib.pyplot as plt\n",
        "from sklearn.metrics import mean_absolute_error\n",
        "\n",
        "cv = KFold(n_splits = 10, shuffle = False) #\n",
        "\n",
        "\n",
        "for i, weights in enumerate(['uniform', 'distance']):\n",
        "   total_scores = []\n",
        "   for n_neighbors in range(1,30):\n",
        "       fold_accuracy = []\n",
        "       knn = neighbors.KNeighborsRegressor(n_neighbors, weights=weights)\n",
        "       # verificar cada uno de los modelos con validación cruzada.\n",
        "       for train_fold, test_fold in cv.split(train_ss):\n",
        "          # División train test aleatoria\n",
        "          f_train = train_ss.loc[train_fold]\n",
        "          f_test = train_ss.loc[test_fold]\n",
        "          # entrenamiento y ejecución del modelo\n",
        "          knn.fit( X = f_train.drop([\"playResult\"],axis=1), y = f_train['playResult'])\n",
        "          y_pred = knn.predict(X = f_test.drop(['playResult'], axis = 1))\n",
        "          # evaluación del modelo\n",
        "          mae = mean_absolute_error(f_test['playResult'], y_pred)\n",
        "          fold_accuracy.append(mae)\n",
        "       total_scores.append(sum(fold_accuracy)/len(fold_accuracy))\n",
        "   \n",
        "   plt.plot(range(1,len(total_scores)+1), total_scores, \n",
        "             marker='o', label=weights)\n",
        "   print ('Min Value ' +  weights + \" : \" +  str(min(total_scores)) +\" (\" + str(np.argmin(total_scores) + 1) + \")\")\n",
        "   plt.ylabel('MAE')      \n",
        "    \n",
        "\n",
        "plt.legend()\n",
        "plt.show() \n",
        "\n"
      ],
      "execution_count": null,
      "outputs": [
        {
          "output_type": "stream",
          "text": [
            "Min Value uniform : 4.379130420751849 (28)\n",
            "Min Value distance : 4.379752256200529 (29)\n"
          ],
          "name": "stdout"
        },
        {
          "output_type": "display_data",
          "data": {
            "image/png": "[encoded data removed]",
            "text/plain": [
              "<Figure size 432x288 with 1 Axes>"
            ]
          },
          "metadata": {
            "tags": [],
            "needs_background": "light"
          }
        }
      ]
    },
    {
      "cell_type": "code",
      "metadata": {
        "id": "zKFNOdheYSm_"
      },
      "source": [
        "X_train, X_test, y_train, y_test = train_test_split(train_ss.drop([\"playResult\"],axis=1), train_ss[\"playResult\"], test_size=0.2)"
      ],
      "execution_count": null,
      "outputs": []
    },
    {
      "cell_type": "code",
      "metadata": {
        "id": "CT-gjUX1S9Em",
        "cellView": "both",
        "colab": {
          "base_uri": "https://localhost:8080/"
        },
        "outputId": "2fc94096-fe54-482d-9eb0-2e4d471d51c7"
      },
      "source": [
        "# constructor\n",
        "n_neighbors = 28\n",
        "weights = 'uniform'\n",
        "knn = neighbors.KNeighborsRegressor(n_neighbors= n_neighbors, weights=weights) \n",
        "# fit and predict\n",
        "\n",
        "knn.fit( X = X_train, y = y_train)\n",
        "y_pred = knn.predict(X = X_test)\n",
        "mae = mean_absolute_error(y_test,y_pred)\n",
        "print ('MAE', mae)"
      ],
      "execution_count": null,
      "outputs": [
        {
          "output_type": "stream",
          "text": [
            "MAE 4.342561689555179\n"
          ],
          "name": "stdout"
        }
      ]
    },
    {
      "cell_type": "code",
      "metadata": {
        "id": "TxjU9Eiw9_J5",
        "colab": {
          "base_uri": "https://localhost:8080/",
          "height": 370
        },
        "outputId": "e68fc2f5-3fc3-4472-a300-9e17aaa962ad"
      },
      "source": [
        "from sklearn.metrics import mean_absolute_error\n",
        "\n",
        "                    \n",
        "# x axis for plotting\n",
        "import numpy as np\n",
        "xx = np.stack(i for i in range(y_test.shape[0]))\n",
        "plt.plot(xx, y_test, c='r', label='data')\n",
        "#plt.plot(xx, y, c='k', label='data')\n",
        "plt.plot(xx, y_pred, c='g', label='prediction')\n",
        "plt.axis('tight')\n",
        "plt.legend()\n",
        "plt.title(\"KNeighborsRegressor (k = %i, weights = '%s')\" % (n_neighbors,\n",
        "                                                                weights))\n",
        "\n",
        "plt.show()"
      ],
      "execution_count": null,
      "outputs": [
        {
          "output_type": "stream",
          "text": [
            "/usr/local/lib/python3.7/dist-packages/IPython/core/interactiveshell.py:2822: FutureWarning:\n",
            "\n",
            "arrays to stack must be passed as a \"sequence\" type such as list or tuple. Support for non-sequence iterables such as generators is deprecated as of NumPy 1.16 and will raise an error in the future.\n",
            "\n"
          ],
          "name": "stderr"
        },
        {
          "output_type": "display_data",
          "data": {
            "image/png": "[encoded data removed]",
            "text/plain": [
              "<Figure size 432x288 with 1 Axes>"
            ]
          },
          "metadata": {
            "tags": [],
            "needs_background": "light"
          }
        }
      ]
    },
    {
      "cell_type": "markdown",
      "metadata": {
        "id": "TdrkBzdTh92j"
      },
      "source": [
        "###Decision Trees"
      ]
    },
    {
      "cell_type": "code",
      "metadata": {
        "colab": {
          "base_uri": "https://localhost:8080/",
          "height": 206
        },
        "id": "YUzbQQRXdBN7",
        "outputId": "53c832b5-9ea7-4d27-cccb-6dff4d427cf4"
      },
      "source": [
        "train_ss = pd.DataFrame(X_pca_ss)\n",
        "train_ss[\"playResult\"] = static_defenses_ss[\"playResult\"].values\n",
        "train_ss.head()"
      ],
      "execution_count": null,
      "outputs": [
        {
          "output_type": "execute_result",
          "data": {
            "text/html": [
              "<div>\n",
              "<style scoped>\n",
              "    .dataframe tbody tr th:only-of-type {\n",
              "        vertical-align: middle;\n",
              "    }\n",
              "\n",
              "    .dataframe tbody tr th {\n",
              "        vertical-align: top;\n",
              "    }\n",
              "\n",
              "    .dataframe thead th {\n",
              "        text-align: right;\n",
              "    }\n",
              "</style>\n",
              "<table border=\"1\" class=\"dataframe\">\n",
              "  <thead>\n",
              "    <tr style=\"text-align: right;\">\n",
              "      <th></th>\n",
              "      <th>0</th>\n",
              "      <th>1</th>\n",
              "      <th>2</th>\n",
              "      <th>3</th>\n",
              "      <th>4</th>\n",
              "      <th>5</th>\n",
              "      <th>6</th>\n",
              "      <th>7</th>\n",
              "      <th>8</th>\n",
              "      <th>9</th>\n",
              "      <th>10</th>\n",
              "      <th>11</th>\n",
              "      <th>12</th>\n",
              "      <th>13</th>\n",
              "      <th>playResult</th>\n",
              "    </tr>\n",
              "  </thead>\n",
              "  <tbody>\n",
              "    <tr>\n",
              "      <th>0</th>\n",
              "      <td>-0.787311</td>\n",
              "      <td>-2.474096</td>\n",
              "      <td>0.385063</td>\n",
              "      <td>1.836596</td>\n",
              "      <td>2.277223</td>\n",
              "      <td>-0.254967</td>\n",
              "      <td>0.331458</td>\n",
              "      <td>-0.968819</td>\n",
              "      <td>-1.993819</td>\n",
              "      <td>1.663755</td>\n",
              "      <td>1.756103</td>\n",
              "      <td>2.723484</td>\n",
              "      <td>-3.314372</td>\n",
              "      <td>-0.833928</td>\n",
              "      <td>10</td>\n",
              "    </tr>\n",
              "    <tr>\n",
              "      <th>1</th>\n",
              "      <td>-0.068244</td>\n",
              "      <td>-1.841881</td>\n",
              "      <td>1.450033</td>\n",
              "      <td>-0.246551</td>\n",
              "      <td>-0.468645</td>\n",
              "      <td>0.713920</td>\n",
              "      <td>0.735222</td>\n",
              "      <td>-1.680865</td>\n",
              "      <td>-0.484148</td>\n",
              "      <td>0.284253</td>\n",
              "      <td>-0.302579</td>\n",
              "      <td>-0.423542</td>\n",
              "      <td>0.490548</td>\n",
              "      <td>-0.502623</td>\n",
              "      <td>0</td>\n",
              "    </tr>\n",
              "    <tr>\n",
              "      <th>2</th>\n",
              "      <td>2.279749</td>\n",
              "      <td>-2.490446</td>\n",
              "      <td>-3.318351</td>\n",
              "      <td>1.586944</td>\n",
              "      <td>0.493707</td>\n",
              "      <td>-0.531236</td>\n",
              "      <td>-0.233115</td>\n",
              "      <td>-0.504196</td>\n",
              "      <td>0.039697</td>\n",
              "      <td>-2.130951</td>\n",
              "      <td>3.306077</td>\n",
              "      <td>-1.166991</td>\n",
              "      <td>0.299931</td>\n",
              "      <td>0.171380</td>\n",
              "      <td>0</td>\n",
              "    </tr>\n",
              "    <tr>\n",
              "      <th>3</th>\n",
              "      <td>-1.669554</td>\n",
              "      <td>0.853238</td>\n",
              "      <td>0.711323</td>\n",
              "      <td>-0.897498</td>\n",
              "      <td>1.962615</td>\n",
              "      <td>-1.945549</td>\n",
              "      <td>0.259657</td>\n",
              "      <td>-0.679416</td>\n",
              "      <td>-0.858368</td>\n",
              "      <td>-0.807078</td>\n",
              "      <td>-0.172542</td>\n",
              "      <td>0.448111</td>\n",
              "      <td>-0.594324</td>\n",
              "      <td>0.891082</td>\n",
              "      <td>4</td>\n",
              "    </tr>\n",
              "    <tr>\n",
              "      <th>4</th>\n",
              "      <td>0.180043</td>\n",
              "      <td>0.087343</td>\n",
              "      <td>-2.473161</td>\n",
              "      <td>-0.053460</td>\n",
              "      <td>0.927207</td>\n",
              "      <td>2.097037</td>\n",
              "      <td>-1.170472</td>\n",
              "      <td>0.056062</td>\n",
              "      <td>0.542784</td>\n",
              "      <td>-0.161967</td>\n",
              "      <td>-1.052930</td>\n",
              "      <td>-0.575629</td>\n",
              "      <td>0.360074</td>\n",
              "      <td>0.317416</td>\n",
              "      <td>0</td>\n",
              "    </tr>\n",
              "  </tbody>\n",
              "</table>\n",
              "</div>"
            ],
            "text/plain": [
              "          0         1         2         3         4         5         6  \\\n",
              "0 -0.787311 -2.474096  0.385063  1.836596  2.277223 -0.254967  0.331458   \n",
              "1 -0.068244 -1.841881  1.450033 -0.246551 -0.468645  0.713920  0.735222   \n",
              "2  2.279749 -2.490446 -3.318351  1.586944  0.493707 -0.531236 -0.233115   \n",
              "3 -1.669554  0.853238  0.711323 -0.897498  1.962615 -1.945549  0.259657   \n",
              "4  0.180043  0.087343 -2.473161 -0.053460  0.927207  2.097037 -1.170472   \n",
              "\n",
              "          7         8         9        10        11        12        13  \\\n",
              "0 -0.968819 -1.993819  1.663755  1.756103  2.723484 -3.314372 -0.833928   \n",
              "1 -1.680865 -0.484148  0.284253 -0.302579 -0.423542  0.490548 -0.502623   \n",
              "2 -0.504196  0.039697 -2.130951  3.306077 -1.166991  0.299931  0.171380   \n",
              "3 -0.679416 -0.858368 -0.807078 -0.172542  0.448111 -0.594324  0.891082   \n",
              "4  0.056062  0.542784 -0.161967 -1.052930 -0.575629  0.360074  0.317416   \n",
              "\n",
              "   playResult  \n",
              "0          10  \n",
              "1           0  \n",
              "2           0  \n",
              "3           4  \n",
              "4           0  "
            ]
          },
          "metadata": {
            "tags": []
          },
          "execution_count": 24
        }
      ]
    },
    {
      "cell_type": "code",
      "metadata": {
        "colab": {
          "base_uri": "https://localhost:8080/",
          "height": 300
        },
        "id": "MWjKd_KNI4le",
        "outputId": "d509de05-bd32-47f0-f12e-80d0b8e6953c"
      },
      "source": [
        "from sklearn.tree import DecisionTreeRegressor\n",
        "from sklearn.model_selection import KFold\n",
        "import matplotlib.pyplot as plt\n",
        "from sklearn.metrics import mean_absolute_error\n",
        "import numpy as np\n",
        "\n",
        "cv = KFold(n_splits = 10, shuffle = False) #\n",
        "#  https://scikit-learn.org/stable/modules/generated/sklearn.model_selection.TimeSeriesSplit.html \n",
        "\n",
        "\n",
        "total_scores = []\n",
        "for i in range(1,30):\n",
        "    fold_accuracy = []\n",
        "    dt = DecisionTreeRegressor(max_depth=i)\n",
        "    # verificar cada uno de los modelos con validación cruzada.\n",
        "    for train_fold, test_fold in cv.split(train_ss):\n",
        "      # División train test aleatoria\n",
        "      f_train = train_ss.loc[train_fold]\n",
        "      f_test = train_ss.loc[test_fold]\n",
        "      # entrenamiento y ejecución del modelo\n",
        "      dt.fit( X = f_train.drop(['playResult'], axis=1), \n",
        "                            y = f_train['playResult'])\n",
        "      y_pred = dt.predict(X = f_test.drop(['playResult'], axis = 1))\n",
        "      # evaluación del modelo\n",
        "      mae = mean_absolute_error(f_test['playResult'], y_pred)\n",
        "      fold_accuracy.append(mae)\n",
        "    total_scores.append(sum(fold_accuracy)/len(fold_accuracy))\n",
        "   \n",
        "plt.plot(range(1,len(total_scores)+1), total_scores, \n",
        "           marker='o')\n",
        "print ('Min Value  :' +  str(min(total_scores)) +' (' + str(np.argmin(total_scores) + 1) + ')')\n",
        "plt.ylabel('MAE')      \n",
        "    \n",
        "\n",
        "plt.legend()\n",
        "plt.show() "
      ],
      "execution_count": null,
      "outputs": [
        {
          "output_type": "stream",
          "text": [
            "No handles with labels found to put in legend.\n"
          ],
          "name": "stderr"
        },
        {
          "output_type": "stream",
          "text": [
            "Min Value  :4.352847947334785 (3)\n"
          ],
          "name": "stdout"
        },
        {
          "output_type": "display_data",
          "data": {
            "image/png": "[encoded data removed]",
            "text/plain": [
              "<Figure size 432x288 with 1 Axes>"
            ]
          },
          "metadata": {
            "tags": [],
            "needs_background": "light"
          }
        }
      ]
    },
    {
      "cell_type": "code",
      "metadata": {
        "id": "T7Pc1JjdiM-m"
      },
      "source": [
        "X_train, X_test, y_train, y_test = train_test_split(train_ss.drop([\"playResult\"],axis=1),train_ss[\"playResult\"],test_size=0.2)"
      ],
      "execution_count": null,
      "outputs": []
    },
    {
      "cell_type": "code",
      "metadata": {
        "colab": {
          "base_uri": "https://localhost:8080/"
        },
        "id": "jb6i5tsKL7SF",
        "outputId": "b533a050-fd1c-4acb-887a-fe0e5d1db7b6"
      },
      "source": [
        "regressor = DecisionTreeRegressor(max_depth=5)\n",
        "regressor.fit( X = X_train, y = y_train)\n",
        "y_pred = regressor.predict(X = X_test)\n",
        "mae = mean_absolute_error(y_test, y_pred)\n",
        "print ('MAE', mae)\n"
      ],
      "execution_count": null,
      "outputs": [
        {
          "output_type": "stream",
          "text": [
            "MAE 4.333676317548413\n"
          ],
          "name": "stdout"
        }
      ]
    },
    {
      "cell_type": "code",
      "metadata": {
        "colab": {
          "base_uri": "https://localhost:8080/",
          "height": 370
        },
        "id": "Vpi5_MDBL5al",
        "outputId": "3ab45c6e-8227-4c80-b767-76a6183ab4de"
      },
      "source": [
        "from sklearn.metrics import mean_absolute_error\n",
        "\n",
        "                    \n",
        "# x axis for plotting\n",
        "import numpy as np\n",
        "xx = np.stack(i for i in range(y_test.shape[0]))\n",
        "plt.plot(xx, y_test, c='r', label='data')\n",
        "#plt.plot(xx, y, c='k', label='data')\n",
        "plt.plot(xx, y_pred, c='g', label='prediction')\n",
        "plt.axis('tight')\n",
        "plt.legend()\n",
        "plt.title(\"DecisionTree\")\n",
        "\n",
        "plt.show()"
      ],
      "execution_count": null,
      "outputs": [
        {
          "output_type": "stream",
          "text": [
            "/usr/local/lib/python3.7/dist-packages/IPython/core/interactiveshell.py:2822: FutureWarning:\n",
            "\n",
            "arrays to stack must be passed as a \"sequence\" type such as list or tuple. Support for non-sequence iterables such as generators is deprecated as of NumPy 1.16 and will raise an error in the future.\n",
            "\n"
          ],
          "name": "stderr"
        },
        {
          "output_type": "display_data",
          "data": {
            "image/png": "[encoded data removed]",
            "text/plain": [
              "<Figure size 432x288 with 1 Axes>"
            ]
          },
          "metadata": {
            "tags": [],
            "needs_background": "light"
          }
        }
      ]
    },
    {
      "cell_type": "code",
      "metadata": {
        "colab": {
          "base_uri": "https://localhost:8080/",
          "height": 202
        },
        "id": "wlj2hySTyaBu",
        "outputId": "53442305-73dc-49b9-a5b9-2d1f71f45dd6"
      },
      "source": [
        "from sklearn import tree\n",
        "fig = plt.figure(figsize=(500,480))\n",
        "_ = tree.plot_tree(regressor, feature_names=static_defenses.columns, filled=True)"
      ],
      "execution_count": null,
      "outputs": [
        {
          "output_type": "error",
          "ename": "NameError",
          "evalue": "ignored",
          "traceback": [
            "\u001b[0;31m---------------------------------------------------------------------------\u001b[0m",
            "\u001b[0;31mNameError\u001b[0m                                 Traceback (most recent call last)",
            "\u001b[0;32m<ipython-input-1-b4d4d0c88892>\u001b[0m in \u001b[0;36m<module>\u001b[0;34m()\u001b[0m\n\u001b[1;32m      1\u001b[0m \u001b[0;32mfrom\u001b[0m \u001b[0msklearn\u001b[0m \u001b[0;32mimport\u001b[0m \u001b[0mtree\u001b[0m\u001b[0;34m\u001b[0m\u001b[0;34m\u001b[0m\u001b[0m\n\u001b[0;32m----> 2\u001b[0;31m \u001b[0mfig\u001b[0m \u001b[0;34m=\u001b[0m \u001b[0mplt\u001b[0m\u001b[0;34m.\u001b[0m\u001b[0mfigure\u001b[0m\u001b[0;34m(\u001b[0m\u001b[0mfigsize\u001b[0m\u001b[0;34m=\u001b[0m\u001b[0;34m(\u001b[0m\u001b[0;36m500\u001b[0m\u001b[0;34m,\u001b[0m\u001b[0;36m480\u001b[0m\u001b[0;34m)\u001b[0m\u001b[0;34m)\u001b[0m\u001b[0;34m\u001b[0m\u001b[0;34m\u001b[0m\u001b[0m\n\u001b[0m\u001b[1;32m      3\u001b[0m \u001b[0m_\u001b[0m \u001b[0;34m=\u001b[0m \u001b[0mtree\u001b[0m\u001b[0;34m.\u001b[0m\u001b[0mplot_tree\u001b[0m\u001b[0;34m(\u001b[0m\u001b[0mregressor\u001b[0m\u001b[0;34m,\u001b[0m \u001b[0mfeature_names\u001b[0m\u001b[0;34m=\u001b[0m\u001b[0mstatic_defenses\u001b[0m\u001b[0;34m.\u001b[0m\u001b[0mcolumns\u001b[0m\u001b[0;34m,\u001b[0m \u001b[0mfilled\u001b[0m\u001b[0;34m=\u001b[0m\u001b[0;32mTrue\u001b[0m\u001b[0;34m)\u001b[0m\u001b[0;34m\u001b[0m\u001b[0;34m\u001b[0m\u001b[0m\n",
            "\u001b[0;31mNameError\u001b[0m: name 'plt' is not defined"
          ]
        }
      ]
    },
    {
      "cell_type": "markdown",
      "metadata": {
        "id": "wQUoMKfwnKed"
      },
      "source": [
        "###RandomForest"
      ]
    },
    {
      "cell_type": "code",
      "metadata": {
        "id": "ZHsND2GioLy8"
      },
      "source": [
        "X_train, X_test, y_train, y_test = train_test_split(train_ss.drop([\"playResult\"],axis=1),train_ss[\"playResult\"],test_size=0.2)"
      ],
      "execution_count": null,
      "outputs": []
    },
    {
      "cell_type": "code",
      "metadata": {
        "id": "PXJdPNk51C-5",
        "colab": {
          "base_uri": "https://localhost:8080/"
        },
        "outputId": "4e330d5f-50ed-484d-a8dd-0f6e96288ca4"
      },
      "source": [
        "from sklearn.ensemble import RandomForestRegressor\n",
        "\n",
        "#1.1 Model Parametrization \n",
        "regressor = RandomForestRegressor(n_estimators= 100, max_depth = 10, criterion='mae', random_state=0)\n",
        "#1.2 Model construction\n",
        "regressor.fit(X_train, y_train)\n",
        "\n",
        "# Test\n",
        "y_pred = regressor.predict(X_test)\n",
        "\n",
        "# metrics calculation \n",
        "from sklearn.metrics import mean_absolute_error\n",
        "mae = mean_absolute_error(y_test,y_pred)\n",
        "print (\"Error Measure \",  mae)"
      ],
      "execution_count": null,
      "outputs": [
        {
          "output_type": "stream",
          "text": [
            "Error Measure  1.2536902223575999\n"
          ],
          "name": "stdout"
        }
      ]
    },
    {
      "cell_type": "code",
      "metadata": {
        "id": "sBuKUZHN1Msp",
        "colab": {
          "base_uri": "https://localhost:8080/",
          "height": 370
        },
        "outputId": "23108088-73ff-402e-e35f-327361e29e0f"
      },
      "source": [
        "#plt.subplot(2, 1, i + 1)\n",
        "# x axis for plotting\n",
        "import matplotlib.pyplot as plt\n",
        "import numpy as np\n",
        "\n",
        "xx = np.stack(i for i in range(len(y_test)))\n",
        "plt.scatter(xx, y_test, c='r', label='data')\n",
        "plt.plot(xx, y_pred, c='g', label='prediction')\n",
        "plt.axis('tight')\n",
        "plt.legend()\n",
        "plt.title(\"RandomForests Regressor\")\n",
        "\n",
        "plt.show()"
      ],
      "execution_count": null,
      "outputs": [
        {
          "output_type": "stream",
          "text": [
            "/usr/local/lib/python3.7/dist-packages/IPython/core/interactiveshell.py:2822: FutureWarning:\n",
            "\n",
            "arrays to stack must be passed as a \"sequence\" type such as list or tuple. Support for non-sequence iterables such as generators is deprecated as of NumPy 1.16 and will raise an error in the future.\n",
            "\n"
          ],
          "name": "stderr"
        },
        {
          "output_type": "display_data",
          "data": {
            "image/png": "[encoded data removed]",
            "text/plain": [
              "<Figure size 432x288 with 1 Axes>"
            ]
          },
          "metadata": {
            "tags": [],
            "needs_background": "light"
          }
        }
      ]
    },
    {
      "cell_type": "markdown",
      "metadata": {
        "id": "TG4LIH8Gyw2X"
      },
      "source": [
        "##Sin incluir cluster en el pca (aparte)"
      ]
    },
    {
      "cell_type": "markdown",
      "metadata": {
        "id": "EAipCkAyTI3I"
      },
      "source": [
        "###Normalización del dataset"
      ]
    },
    {
      "cell_type": "code",
      "metadata": {
        "id": "UyoX22XoTI3J"
      },
      "source": [
        "scaler = preprocessing.StandardScaler()\n",
        "static_defenses1 = scaler.fit_transform(static_defenses_ss.drop([\"playResult\",\"cluster\"],axis=1))"
      ],
      "execution_count": null,
      "outputs": []
    },
    {
      "cell_type": "code",
      "metadata": {
        "colab": {
          "base_uri": "https://localhost:8080/"
        },
        "id": "wmVg49IaTI3J",
        "outputId": "e050c6a3-887b-4d14-d020-f7fab6d844d6"
      },
      "source": [
        "pca_ss = PCA ()\n",
        "X_pca_ss = pca_ss.fit_transform(static_defenses1)\n",
        "X_pca_ss.shape"
      ],
      "execution_count": null,
      "outputs": [
        {
          "output_type": "execute_result",
          "data": {
            "text/plain": [
              "(13055, 35)"
            ]
          },
          "metadata": {
            "tags": []
          },
          "execution_count": 31
        }
      ]
    },
    {
      "cell_type": "code",
      "metadata": {
        "colab": {
          "base_uri": "https://localhost:8080/",
          "height": 542
        },
        "id": "HaElTG0tTI3M",
        "outputId": "c21a8a3d-31bd-4033-d425-fbc5694e8703"
      },
      "source": [
        "exp_var_cumul = np.cumsum(pca_ss.explained_variance_ratio_)\n",
        "\n",
        "px.area(\n",
        "    x=range(1, exp_var_cumul.shape[0] + 1),\n",
        "    y=exp_var_cumul,\n",
        "    labels={\"x\": \"# Components\", \"y\": \"Explained Variance\"}\n",
        ")"
      ],
      "execution_count": null,
      "outputs": [
        {
          "output_type": "display_data",
          "data": {
            "text/html": [
              "<html>\n",
              "<head><meta charset=\"utf-8\" /></head>\n",
              "<body>\n",
              "    <div>\n",
              "            <script src=\"https://cdnjs.cloudflare.com/ajax/libs/mathjax/2.7.5/MathJax.js?config=TeX-AMS-MML_SVG\"></script><script type=\"text/javascript\">if (window.MathJax) {MathJax.Hub.Config({SVG: {font: \"STIX-Web\"}});}</script>\n",
              "                <script type=\"text/javascript\">window.PlotlyConfig = {MathJaxConfig: 'local'};</script>\n",
              "        <script src=\"https://cdn.plot.ly/plotly-latest.min.js\"></script>    \n",
              "            <div id=\"c1cec903-427e-4a8e-ae45-02a74ab3ba44\" class=\"plotly-graph-div\" style=\"height:525px; width:100%;\"></div>\n",
              "            <script type=\"text/javascript\">\n",
              "                \n",
              "                    window.PLOTLYENV=window.PLOTLYENV || {};\n",
              "                    \n",
              "                if (document.getElementById(\"c1cec903-427e-4a8e-ae45-02a74ab3ba44\")) {\n",
              "                    Plotly.newPlot(\n",
              "                        'c1cec903-427e-4a8e-ae45-02a74ab3ba44',\n",
              "                        [{\"hoverlabel\": {\"namelength\": 0}, \"hovertemplate\": \"# Components=%{x}<br>Explained Variance=%{y}\", \"legendgroup\": \"\", \"line\": {\"color\": \"#636efa\"}, \"mode\": \"lines\", \"name\": \"\", \"orientation\": \"v\", \"showlegend\": false, \"stackgroup\": \"1\", \"type\": \"scatter\", \"x\": [1, 2, 3, 4, 5, 6, 7, 8, 9, 10, 11, 12, 13, 14, 15, 16, 17, 18, 19, 20, 21, 22, 23, 24, 25, 26, 27, 28, 29, 30, 31, 32, 33, 34, 35], \"xaxis\": \"x\", \"y\": [0.21325767723890723, 0.3457301249528406, 0.4285881077224642, 0.4971283379837467, 0.5602584443786098, 0.6174539207214857, 0.6612409263348724, 0.6978320338171509, 0.7304203423362226, 0.7611806260009703, 0.7909438453452186, 0.8206470007657615, 0.8485341761687757, 0.8752440795045416, 0.9012573124859178, 0.9215714017266187, 0.9411651972118987, 0.9561464250593983, 0.9693296385693771, 0.9787648862905194, 0.9864716516036781, 0.9910694515950074, 0.9940643782499553, 0.9964195719045333, 0.9981415323749026, 0.999132549379601, 0.9995763377758858, 0.999826961021957, 0.9999072738953987, 0.999966029332347, 0.9999983591866705, 0.9999997747090185, 0.9999999999999999, 0.9999999999999999, 0.9999999999999999], \"yaxis\": \"y\"}],\n",
              "                        {\"legend\": {\"tracegroupgap\": 0}, \"margin\": {\"t\": 60}, \"template\": {\"data\": {\"bar\": [{\"error_x\": {\"color\": \"#2a3f5f\"}, \"error_y\": {\"color\": \"#2a3f5f\"}, \"marker\": {\"line\": {\"color\": \"#E5ECF6\", \"width\": 0.5}}, \"type\": \"bar\"}], \"barpolar\": [{\"marker\": {\"line\": {\"color\": \"#E5ECF6\", \"width\": 0.5}}, \"type\": \"barpolar\"}], \"carpet\": [{\"aaxis\": {\"endlinecolor\": \"#2a3f5f\", \"gridcolor\": \"white\", \"linecolor\": \"white\", \"minorgridcolor\": \"white\", \"startlinecolor\": \"#2a3f5f\"}, \"baxis\": {\"endlinecolor\": \"#2a3f5f\", \"gridcolor\": \"white\", \"linecolor\": \"white\", \"minorgridcolor\": \"white\", \"startlinecolor\": \"#2a3f5f\"}, \"type\": \"carpet\"}], \"choropleth\": [{\"colorbar\": {\"outlinewidth\": 0, \"ticks\": \"\"}, \"type\": \"choropleth\"}], \"contour\": [{\"colorbar\": {\"outlinewidth\": 0, \"ticks\": \"\"}, \"colorscale\": [[0.0, \"#0d0887\"], [0.1111111111111111, \"#46039f\"], [0.2222222222222222, \"#7201a8\"], [0.3333333333333333, \"#9c179e\"], [0.4444444444444444, \"#bd3786\"], [0.5555555555555556, \"#d8576b\"], [0.6666666666666666, \"#ed7953\"], [0.7777777777777778, \"#fb9f3a\"], [0.8888888888888888, \"#fdca26\"], [1.0, \"#f0f921\"]], \"type\": \"contour\"}], \"contourcarpet\": [{\"colorbar\": {\"outlinewidth\": 0, \"ticks\": \"\"}, \"type\": \"contourcarpet\"}], \"heatmap\": [{\"colorbar\": {\"outlinewidth\": 0, \"ticks\": \"\"}, \"colorscale\": [[0.0, \"#0d0887\"], [0.1111111111111111, \"#46039f\"], [0.2222222222222222, \"#7201a8\"], [0.3333333333333333, \"#9c179e\"], [0.4444444444444444, \"#bd3786\"], [0.5555555555555556, \"#d8576b\"], [0.6666666666666666, \"#ed7953\"], [0.7777777777777778, \"#fb9f3a\"], [0.8888888888888888, \"#fdca26\"], [1.0, \"#f0f921\"]], \"type\": \"heatmap\"}], \"heatmapgl\": [{\"colorbar\": {\"outlinewidth\": 0, \"ticks\": \"\"}, \"colorscale\": [[0.0, \"#0d0887\"], [0.1111111111111111, \"#46039f\"], [0.2222222222222222, \"#7201a8\"], [0.3333333333333333, \"#9c179e\"], [0.4444444444444444, \"#bd3786\"], [0.5555555555555556, \"#d8576b\"], [0.6666666666666666, \"#ed7953\"], [0.7777777777777778, \"#fb9f3a\"], [0.8888888888888888, \"#fdca26\"], [1.0, \"#f0f921\"]], \"type\": \"heatmapgl\"}], \"histogram\": [{\"marker\": {\"colorbar\": {\"outlinewidth\": 0, \"ticks\": \"\"}}, \"type\": \"histogram\"}], \"histogram2d\": [{\"colorbar\": {\"outlinewidth\": 0, \"ticks\": \"\"}, \"colorscale\": [[0.0, \"#0d0887\"], [0.1111111111111111, \"#46039f\"], [0.2222222222222222, \"#7201a8\"], [0.3333333333333333, \"#9c179e\"], [0.4444444444444444, \"#bd3786\"], [0.5555555555555556, \"#d8576b\"], [0.6666666666666666, \"#ed7953\"], [0.7777777777777778, \"#fb9f3a\"], [0.8888888888888888, \"#fdca26\"], [1.0, \"#f0f921\"]], \"type\": \"histogram2d\"}], \"histogram2dcontour\": [{\"colorbar\": {\"outlinewidth\": 0, \"ticks\": \"\"}, \"colorscale\": [[0.0, \"#0d0887\"], [0.1111111111111111, \"#46039f\"], [0.2222222222222222, \"#7201a8\"], [0.3333333333333333, \"#9c179e\"], [0.4444444444444444, \"#bd3786\"], [0.5555555555555556, \"#d8576b\"], [0.6666666666666666, \"#ed7953\"], [0.7777777777777778, \"#fb9f3a\"], [0.8888888888888888, \"#fdca26\"], [1.0, \"#f0f921\"]], \"type\": \"histogram2dcontour\"}], \"mesh3d\": [{\"colorbar\": {\"outlinewidth\": 0, \"ticks\": \"\"}, \"type\": \"mesh3d\"}], \"parcoords\": [{\"line\": {\"colorbar\": {\"outlinewidth\": 0, \"ticks\": \"\"}}, \"type\": \"parcoords\"}], \"pie\": [{\"automargin\": true, \"type\": \"pie\"}], \"scatter\": [{\"marker\": {\"colorbar\": {\"outlinewidth\": 0, \"ticks\": \"\"}}, \"type\": \"scatter\"}], \"scatter3d\": [{\"line\": {\"colorbar\": {\"outlinewidth\": 0, \"ticks\": \"\"}}, \"marker\": {\"colorbar\": {\"outlinewidth\": 0, \"ticks\": \"\"}}, \"type\": \"scatter3d\"}], \"scattercarpet\": [{\"marker\": {\"colorbar\": {\"outlinewidth\": 0, \"ticks\": \"\"}}, \"type\": \"scattercarpet\"}], \"scattergeo\": [{\"marker\": {\"colorbar\": {\"outlinewidth\": 0, \"ticks\": \"\"}}, \"type\": \"scattergeo\"}], \"scattergl\": [{\"marker\": {\"colorbar\": {\"outlinewidth\": 0, \"ticks\": \"\"}}, \"type\": \"scattergl\"}], \"scattermapbox\": [{\"marker\": {\"colorbar\": {\"outlinewidth\": 0, \"ticks\": \"\"}}, \"type\": \"scattermapbox\"}], \"scatterpolar\": [{\"marker\": {\"colorbar\": {\"outlinewidth\": 0, \"ticks\": \"\"}}, \"type\": \"scatterpolar\"}], \"scatterpolargl\": [{\"marker\": {\"colorbar\": {\"outlinewidth\": 0, \"ticks\": \"\"}}, \"type\": \"scatterpolargl\"}], \"scatterternary\": [{\"marker\": {\"colorbar\": {\"outlinewidth\": 0, \"ticks\": \"\"}}, \"type\": \"scatterternary\"}], \"surface\": [{\"colorbar\": {\"outlinewidth\": 0, \"ticks\": \"\"}, \"colorscale\": [[0.0, \"#0d0887\"], [0.1111111111111111, \"#46039f\"], [0.2222222222222222, \"#7201a8\"], [0.3333333333333333, \"#9c179e\"], [0.4444444444444444, \"#bd3786\"], [0.5555555555555556, \"#d8576b\"], [0.6666666666666666, \"#ed7953\"], [0.7777777777777778, \"#fb9f3a\"], [0.8888888888888888, \"#fdca26\"], [1.0, \"#f0f921\"]], \"type\": \"surface\"}], \"table\": [{\"cells\": {\"fill\": {\"color\": \"#EBF0F8\"}, \"line\": {\"color\": \"white\"}}, \"header\": {\"fill\": {\"color\": \"#C8D4E3\"}, \"line\": {\"color\": \"white\"}}, \"type\": \"table\"}]}, \"layout\": {\"annotationdefaults\": {\"arrowcolor\": \"#2a3f5f\", \"arrowhead\": 0, \"arrowwidth\": 1}, \"coloraxis\": {\"colorbar\": {\"outlinewidth\": 0, \"ticks\": \"\"}}, \"colorscale\": {\"diverging\": [[0, \"#8e0152\"], [0.1, \"#c51b7d\"], [0.2, \"#de77ae\"], [0.3, \"#f1b6da\"], [0.4, \"#fde0ef\"], [0.5, \"#f7f7f7\"], [0.6, \"#e6f5d0\"], [0.7, \"#b8e186\"], [0.8, \"#7fbc41\"], [0.9, \"#4d9221\"], [1, \"#276419\"]], \"sequential\": [[0.0, \"#0d0887\"], [0.1111111111111111, \"#46039f\"], [0.2222222222222222, \"#7201a8\"], [0.3333333333333333, \"#9c179e\"], [0.4444444444444444, \"#bd3786\"], [0.5555555555555556, \"#d8576b\"], [0.6666666666666666, \"#ed7953\"], [0.7777777777777778, \"#fb9f3a\"], [0.8888888888888888, \"#fdca26\"], [1.0, \"#f0f921\"]], \"sequentialminus\": [[0.0, \"#0d0887\"], [0.1111111111111111, \"#46039f\"], [0.2222222222222222, \"#7201a8\"], [0.3333333333333333, \"#9c179e\"], [0.4444444444444444, \"#bd3786\"], [0.5555555555555556, \"#d8576b\"], [0.6666666666666666, \"#ed7953\"], [0.7777777777777778, \"#fb9f3a\"], [0.8888888888888888, \"#fdca26\"], [1.0, \"#f0f921\"]]}, \"colorway\": [\"#636efa\", \"#EF553B\", \"#00cc96\", \"#ab63fa\", \"#FFA15A\", \"#19d3f3\", \"#FF6692\", \"#B6E880\", \"#FF97FF\", \"#FECB52\"], \"font\": {\"color\": \"#2a3f5f\"}, \"geo\": {\"bgcolor\": \"white\", \"lakecolor\": \"white\", \"landcolor\": \"#E5ECF6\", \"showlakes\": true, \"showland\": true, \"subunitcolor\": \"white\"}, \"hoverlabel\": {\"align\": \"left\"}, \"hovermode\": \"closest\", \"mapbox\": {\"style\": \"light\"}, \"paper_bgcolor\": \"white\", \"plot_bgcolor\": \"#E5ECF6\", \"polar\": {\"angularaxis\": {\"gridcolor\": \"white\", \"linecolor\": \"white\", \"ticks\": \"\"}, \"bgcolor\": \"#E5ECF6\", \"radialaxis\": {\"gridcolor\": \"white\", \"linecolor\": \"white\", \"ticks\": \"\"}}, \"scene\": {\"xaxis\": {\"backgroundcolor\": \"#E5ECF6\", \"gridcolor\": \"white\", \"gridwidth\": 2, \"linecolor\": \"white\", \"showbackground\": true, \"ticks\": \"\", \"zerolinecolor\": \"white\"}, \"yaxis\": {\"backgroundcolor\": \"#E5ECF6\", \"gridcolor\": \"white\", \"gridwidth\": 2, \"linecolor\": \"white\", \"showbackground\": true, \"ticks\": \"\", \"zerolinecolor\": \"white\"}, \"zaxis\": {\"backgroundcolor\": \"#E5ECF6\", \"gridcolor\": \"white\", \"gridwidth\": 2, \"linecolor\": \"white\", \"showbackground\": true, \"ticks\": \"\", \"zerolinecolor\": \"white\"}}, \"shapedefaults\": {\"line\": {\"color\": \"#2a3f5f\"}}, \"ternary\": {\"aaxis\": {\"gridcolor\": \"white\", \"linecolor\": \"white\", \"ticks\": \"\"}, \"baxis\": {\"gridcolor\": \"white\", \"linecolor\": \"white\", \"ticks\": \"\"}, \"bgcolor\": \"#E5ECF6\", \"caxis\": {\"gridcolor\": \"white\", \"linecolor\": \"white\", \"ticks\": \"\"}}, \"title\": {\"x\": 0.05}, \"xaxis\": {\"automargin\": true, \"gridcolor\": \"white\", \"linecolor\": \"white\", \"ticks\": \"\", \"title\": {\"standoff\": 15}, \"zerolinecolor\": \"white\", \"zerolinewidth\": 2}, \"yaxis\": {\"automargin\": true, \"gridcolor\": \"white\", \"linecolor\": \"white\", \"ticks\": \"\", \"title\": {\"standoff\": 15}, \"zerolinecolor\": \"white\", \"zerolinewidth\": 2}}}, \"xaxis\": {\"anchor\": \"y\", \"domain\": [0.0, 1.0], \"title\": {\"text\": \"# Components\"}}, \"yaxis\": {\"anchor\": \"x\", \"domain\": [0.0, 1.0], \"title\": {\"text\": \"Explained Variance\"}}},\n",
              "                        {\"responsive\": true}\n",
              "                    ).then(function(){\n",
              "                            \n",
              "var gd = document.getElementById('c1cec903-427e-4a8e-ae45-02a74ab3ba44');\n",
              "var x = new MutationObserver(function (mutations, observer) {{\n",
              "        var display = window.getComputedStyle(gd).display;\n",
              "        if (!display || display === 'none') {{\n",
              "            console.log([gd, 'removed!']);\n",
              "            Plotly.purge(gd);\n",
              "            observer.disconnect();\n",
              "        }}\n",
              "}});\n",
              "\n",
              "// Listen for the removal of the full notebook cells\n",
              "var notebookContainer = gd.closest('#notebook-container');\n",
              "if (notebookContainer) {{\n",
              "    x.observe(notebookContainer, {childList: true});\n",
              "}}\n",
              "\n",
              "// Listen for the clearing of the current output cell\n",
              "var outputEl = gd.closest('.output');\n",
              "if (outputEl) {{\n",
              "    x.observe(outputEl, {childList: true});\n",
              "}}\n",
              "\n",
              "                        })\n",
              "                };\n",
              "                \n",
              "            </script>\n",
              "        </div>\n",
              "</body>\n",
              "</html>"
            ]
          },
          "metadata": {
            "tags": []
          }
        }
      ]
    },
    {
      "cell_type": "code",
      "metadata": {
        "colab": {
          "base_uri": "https://localhost:8080/"
        },
        "id": "Mo5nZFdLTI3M",
        "outputId": "3c69ba07-d573-4f50-83dc-351eee542927"
      },
      "source": [
        "X_pca_ss = PCA(n_components = 14).fit_transform(static_defenses1)\n",
        "X_pca_ss.shape"
      ],
      "execution_count": null,
      "outputs": [
        {
          "output_type": "execute_result",
          "data": {
            "text/plain": [
              "(13055, 14)"
            ]
          },
          "metadata": {
            "tags": []
          },
          "execution_count": 33
        }
      ]
    },
    {
      "cell_type": "code",
      "metadata": {
        "colab": {
          "base_uri": "https://localhost:8080/",
          "height": 206
        },
        "id": "ra5Qo3ZUTPWT",
        "outputId": "e721c5ce-90ab-4612-ad6f-eb074810b312"
      },
      "source": [
        "train_ss = pd.DataFrame(X_pca_ss)\n",
        "train_ss[\"cluster\"] = static_defenses_ss[\"cluster\"].values\n",
        "train_ss[\"playResult\"] = static_defenses_ss[\"playResult\"].values\n",
        "train_ss.head()"
      ],
      "execution_count": null,
      "outputs": [
        {
          "output_type": "execute_result",
          "data": {
            "text/html": [
              "<div>\n",
              "<style scoped>\n",
              "    .dataframe tbody tr th:only-of-type {\n",
              "        vertical-align: middle;\n",
              "    }\n",
              "\n",
              "    .dataframe tbody tr th {\n",
              "        vertical-align: top;\n",
              "    }\n",
              "\n",
              "    .dataframe thead th {\n",
              "        text-align: right;\n",
              "    }\n",
              "</style>\n",
              "<table border=\"1\" class=\"dataframe\">\n",
              "  <thead>\n",
              "    <tr style=\"text-align: right;\">\n",
              "      <th></th>\n",
              "      <th>0</th>\n",
              "      <th>1</th>\n",
              "      <th>2</th>\n",
              "      <th>3</th>\n",
              "      <th>4</th>\n",
              "      <th>5</th>\n",
              "      <th>6</th>\n",
              "      <th>7</th>\n",
              "      <th>8</th>\n",
              "      <th>9</th>\n",
              "      <th>10</th>\n",
              "      <th>11</th>\n",
              "      <th>12</th>\n",
              "      <th>13</th>\n",
              "      <th>cluster</th>\n",
              "      <th>playResult</th>\n",
              "    </tr>\n",
              "  </thead>\n",
              "  <tbody>\n",
              "    <tr>\n",
              "      <th>0</th>\n",
              "      <td>-0.796762</td>\n",
              "      <td>-2.471063</td>\n",
              "      <td>0.379461</td>\n",
              "      <td>1.883567</td>\n",
              "      <td>2.239643</td>\n",
              "      <td>-0.251088</td>\n",
              "      <td>-1.068815</td>\n",
              "      <td>1.946789</td>\n",
              "      <td>1.118577</td>\n",
              "      <td>1.753099</td>\n",
              "      <td>3.898083</td>\n",
              "      <td>-2.202851</td>\n",
              "      <td>-0.734657</td>\n",
              "      <td>0.513205</td>\n",
              "      <td>2</td>\n",
              "      <td>10</td>\n",
              "    </tr>\n",
              "    <tr>\n",
              "      <th>1</th>\n",
              "      <td>-0.073693</td>\n",
              "      <td>-1.840949</td>\n",
              "      <td>1.472369</td>\n",
              "      <td>-0.208183</td>\n",
              "      <td>-0.523825</td>\n",
              "      <td>0.593292</td>\n",
              "      <td>-1.869383</td>\n",
              "      <td>0.429096</td>\n",
              "      <td>0.173236</td>\n",
              "      <td>-0.302869</td>\n",
              "      <td>-0.498876</td>\n",
              "      <td>0.308032</td>\n",
              "      <td>-0.453478</td>\n",
              "      <td>0.379681</td>\n",
              "      <td>2</td>\n",
              "      <td>0</td>\n",
              "    </tr>\n",
              "    <tr>\n",
              "      <th>2</th>\n",
              "      <td>2.280870</td>\n",
              "      <td>-2.498068</td>\n",
              "      <td>-3.336658</td>\n",
              "      <td>1.542836</td>\n",
              "      <td>0.516549</td>\n",
              "      <td>-0.466786</td>\n",
              "      <td>-0.256590</td>\n",
              "      <td>-0.182320</td>\n",
              "      <td>-2.152438</td>\n",
              "      <td>3.307754</td>\n",
              "      <td>-1.291836</td>\n",
              "      <td>-0.108192</td>\n",
              "      <td>-0.009530</td>\n",
              "      <td>-0.236030</td>\n",
              "      <td>2</td>\n",
              "      <td>0</td>\n",
              "    </tr>\n",
              "    <tr>\n",
              "      <th>3</th>\n",
              "      <td>-1.676263</td>\n",
              "      <td>0.859091</td>\n",
              "      <td>0.705002</td>\n",
              "      <td>-0.887539</td>\n",
              "      <td>2.034706</td>\n",
              "      <td>-1.883531</td>\n",
              "      <td>-0.668118</td>\n",
              "      <td>0.783034</td>\n",
              "      <td>-0.891376</td>\n",
              "      <td>-0.172152</td>\n",
              "      <td>0.556753</td>\n",
              "      <td>-0.397042</td>\n",
              "      <td>0.549092</td>\n",
              "      <td>-0.754143</td>\n",
              "      <td>0</td>\n",
              "      <td>4</td>\n",
              "    </tr>\n",
              "    <tr>\n",
              "      <th>4</th>\n",
              "      <td>0.181136</td>\n",
              "      <td>0.085060</td>\n",
              "      <td>-2.481506</td>\n",
              "      <td>-0.073147</td>\n",
              "      <td>0.939431</td>\n",
              "      <td>2.312026</td>\n",
              "      <td>0.419619</td>\n",
              "      <td>-0.602379</td>\n",
              "      <td>-0.245799</td>\n",
              "      <td>-1.052899</td>\n",
              "      <td>-0.620634</td>\n",
              "      <td>0.135922</td>\n",
              "      <td>-0.282338</td>\n",
              "      <td>-0.459046</td>\n",
              "      <td>2</td>\n",
              "      <td>0</td>\n",
              "    </tr>\n",
              "  </tbody>\n",
              "</table>\n",
              "</div>"
            ],
            "text/plain": [
              "          0         1         2         3         4         5         6  \\\n",
              "0 -0.796762 -2.471063  0.379461  1.883567  2.239643 -0.251088 -1.068815   \n",
              "1 -0.073693 -1.840949  1.472369 -0.208183 -0.523825  0.593292 -1.869383   \n",
              "2  2.280870 -2.498068 -3.336658  1.542836  0.516549 -0.466786 -0.256590   \n",
              "3 -1.676263  0.859091  0.705002 -0.887539  2.034706 -1.883531 -0.668118   \n",
              "4  0.181136  0.085060 -2.481506 -0.073147  0.939431  2.312026  0.419619   \n",
              "\n",
              "          7         8         9        10        11        12        13  \\\n",
              "0  1.946789  1.118577  1.753099  3.898083 -2.202851 -0.734657  0.513205   \n",
              "1  0.429096  0.173236 -0.302869 -0.498876  0.308032 -0.453478  0.379681   \n",
              "2 -0.182320 -2.152438  3.307754 -1.291836 -0.108192 -0.009530 -0.236030   \n",
              "3  0.783034 -0.891376 -0.172152  0.556753 -0.397042  0.549092 -0.754143   \n",
              "4 -0.602379 -0.245799 -1.052899 -0.620634  0.135922 -0.282338 -0.459046   \n",
              "\n",
              "   cluster  playResult  \n",
              "0        2          10  \n",
              "1        2           0  \n",
              "2        2           0  \n",
              "3        0           4  \n",
              "4        2           0  "
            ]
          },
          "metadata": {
            "tags": []
          },
          "execution_count": 34
        }
      ]
    },
    {
      "cell_type": "markdown",
      "metadata": {
        "id": "x74GsmZjUQbf"
      },
      "source": [
        "###KNN"
      ]
    },
    {
      "cell_type": "code",
      "metadata": {
        "colab": {
          "base_uri": "https://localhost:8080/",
          "height": 300
        },
        "id": "h4WndQhnUS6X",
        "outputId": "fff346c1-a42c-4461-cc8f-69cbd8ee5ce0"
      },
      "source": [
        "from sklearn import neighbors\n",
        "from sklearn.model_selection import KFold\n",
        "import matplotlib.pyplot as plt\n",
        "from sklearn.metrics import mean_absolute_error\n",
        "\n",
        "cv = KFold(n_splits = 10, shuffle = False) #\n",
        "\n",
        "\n",
        "for i, weights in enumerate(['uniform', 'distance']):\n",
        "   total_scores = []\n",
        "   for n_neighbors in range(1,30):\n",
        "       fold_accuracy = []\n",
        "       knn = neighbors.KNeighborsRegressor(n_neighbors, weights=weights)\n",
        "       # verificar cada uno de los modelos con validación cruzada.\n",
        "       for train_fold, test_fold in cv.split(train_ss):\n",
        "          # División train test aleatoria\n",
        "          f_train = train_ss.loc[train_fold]\n",
        "          f_test = train_ss.loc[test_fold]\n",
        "          # entrenamiento y ejecución del modelo\n",
        "          knn.fit( X = f_train.drop([\"playResult\"],axis=1), y = f_train['playResult'])\n",
        "          y_pred = knn.predict(X = f_test.drop(['playResult'], axis = 1))\n",
        "          # evaluación del modelo\n",
        "          mae = mean_absolute_error(f_test['playResult'], y_pred)\n",
        "          fold_accuracy.append(mae)\n",
        "       total_scores.append(sum(fold_accuracy)/len(fold_accuracy))\n",
        "   \n",
        "   plt.plot(range(1,len(total_scores)+1), total_scores, \n",
        "             marker='o', label=weights)\n",
        "   print ('Min Value ' +  weights + \" : \" +  str(min(total_scores)) +\" (\" + str(np.argmin(total_scores) + 1) + \")\")\n",
        "   plt.ylabel('MAE')      \n",
        "    \n",
        "\n",
        "plt.legend()\n",
        "plt.show() \n",
        "\n"
      ],
      "execution_count": null,
      "outputs": [
        {
          "output_type": "stream",
          "text": [
            "Min Value uniform : 4.377754751235039 (29)\n",
            "Min Value distance : 4.378160734828406 (29)\n"
          ],
          "name": "stdout"
        },
        {
          "output_type": "display_data",
          "data": {
            "image/png": "[encoded data removed]",
            "text/plain": [
              "<Figure size 432x288 with 1 Axes>"
            ]
          },
          "metadata": {
            "tags": [],
            "needs_background": "light"
          }
        }
      ]
    },
    {
      "cell_type": "code",
      "metadata": {
        "id": "zcTH_GqgUS6Z"
      },
      "source": [
        "X_train, X_test, y_train, y_test = train_test_split(train_ss.drop([\"playResult\"],axis=1), train_ss[\"playResult\"], test_size=0.2)"
      ],
      "execution_count": null,
      "outputs": []
    },
    {
      "cell_type": "code",
      "metadata": {
        "cellView": "both",
        "colab": {
          "base_uri": "https://localhost:8080/"
        },
        "id": "9hyjSel3US6a",
        "outputId": "f63a2109-bc4f-407d-f0ed-7a1517ad5224"
      },
      "source": [
        "# constructor\n",
        "n_neighbors = 29\n",
        "weights = 'uniform'\n",
        "knn = neighbors.KNeighborsRegressor(n_neighbors= n_neighbors, weights=weights) \n",
        "# fit and predict\n",
        "\n",
        "knn.fit( X = X_train, y = y_train)\n",
        "y_pred = knn.predict(X = X_test)\n",
        "mae = mean_absolute_error(y_test,y_pred)\n",
        "print ('MAE', mae)"
      ],
      "execution_count": null,
      "outputs": [
        {
          "output_type": "stream",
          "text": [
            "MAE 4.365997966164371\n"
          ],
          "name": "stdout"
        }
      ]
    },
    {
      "cell_type": "code",
      "metadata": {
        "colab": {
          "base_uri": "https://localhost:8080/",
          "height": 370
        },
        "id": "C5ki1kZGUS6b",
        "outputId": "bee3b65b-cca8-43b5-9a68-38a4db9474c3"
      },
      "source": [
        "from sklearn.metrics import mean_absolute_error\n",
        "\n",
        "                    \n",
        "# x axis for plotting\n",
        "import numpy as np\n",
        "xx = np.stack(i for i in range(y_test.shape[0]))\n",
        "plt.plot(xx, y_test, c='r', label='data')\n",
        "#plt.plot(xx, y, c='k', label='data')\n",
        "plt.plot(xx, y_pred, c='g', label='prediction')\n",
        "plt.axis('tight')\n",
        "plt.legend()\n",
        "plt.title(\"KNeighborsRegressor (k = %i, weights = '%s')\" % (n_neighbors,\n",
        "                                                                weights))\n",
        "\n",
        "plt.show()"
      ],
      "execution_count": null,
      "outputs": [
        {
          "output_type": "stream",
          "text": [
            "/usr/local/lib/python3.7/dist-packages/IPython/core/interactiveshell.py:2822: FutureWarning:\n",
            "\n",
            "arrays to stack must be passed as a \"sequence\" type such as list or tuple. Support for non-sequence iterables such as generators is deprecated as of NumPy 1.16 and will raise an error in the future.\n",
            "\n"
          ],
          "name": "stderr"
        },
        {
          "output_type": "display_data",
          "data": {
            "image/png": "[encoded data removed]",
            "text/plain": [
              "<Figure size 432x288 with 1 Axes>"
            ]
          },
          "metadata": {
            "tags": [],
            "needs_background": "light"
          }
        }
      ]
    },
    {
      "cell_type": "markdown",
      "metadata": {
        "id": "wmhXHgxOVjmY"
      },
      "source": [
        "###Decision Trees"
      ]
    },
    {
      "cell_type": "code",
      "metadata": {
        "colab": {
          "base_uri": "https://localhost:8080/",
          "height": 300
        },
        "id": "rmcRwQlWWBUO",
        "outputId": "b1a59b8b-6c9a-47e7-9251-92df83dff2fd"
      },
      "source": [
        "from sklearn.tree import DecisionTreeRegressor\n",
        "from sklearn.model_selection import KFold\n",
        "import matplotlib.pyplot as plt\n",
        "from sklearn.metrics import mean_absolute_error\n",
        "import numpy as np\n",
        "\n",
        "cv = KFold(n_splits = 10, shuffle = False) #\n",
        "#  https://scikit-learn.org/stable/modules/generated/sklearn.model_selection.TimeSeriesSplit.html \n",
        "\n",
        "\n",
        "total_scores = []\n",
        "for i in range(1,30):\n",
        "    fold_accuracy = []\n",
        "    dt = DecisionTreeRegressor(max_depth=i)\n",
        "    # verificar cada uno de los modelos con validación cruzada.\n",
        "    for train_fold, test_fold in cv.split(train_ss):\n",
        "      # División train test aleatoria\n",
        "      f_train = train_ss.loc[train_fold]\n",
        "      f_test = train_ss.loc[test_fold]\n",
        "      # entrenamiento y ejecución del modelo\n",
        "      dt.fit( X = f_train.drop(['playResult'], axis=1), \n",
        "                            y = f_train['playResult'])\n",
        "      y_pred = dt.predict(X = f_test.drop(['playResult'], axis = 1))\n",
        "      # evaluación del modelo\n",
        "      mae = mean_absolute_error(f_test['playResult'], y_pred)\n",
        "      fold_accuracy.append(mae)\n",
        "    total_scores.append(sum(fold_accuracy)/len(fold_accuracy))\n",
        "   \n",
        "plt.plot(range(1,len(total_scores)+1), total_scores, \n",
        "           marker='o')\n",
        "print ('Min Value  :' +  str(min(total_scores)) +' (' + str(np.argmin(total_scores) + 1) + ')')\n",
        "plt.ylabel('MAE')      \n",
        "    \n",
        "\n",
        "plt.legend()\n",
        "plt.show() "
      ],
      "execution_count": null,
      "outputs": [
        {
          "output_type": "stream",
          "text": [
            "No handles with labels found to put in legend.\n"
          ],
          "name": "stderr"
        },
        {
          "output_type": "stream",
          "text": [
            "Min Value  :4.3521486402942 (3)\n"
          ],
          "name": "stdout"
        },
        {
          "output_type": "display_data",
          "data": {
            "image/png": "[encoded data removed]",
            "text/plain": [
              "<Figure size 432x288 with 1 Axes>"
            ]
          },
          "metadata": {
            "tags": [],
            "needs_background": "light"
          }
        }
      ]
    },
    {
      "cell_type": "code",
      "metadata": {
        "id": "AlEXbYkPWBUR"
      },
      "source": [
        "X_train, X_test, y_train, y_test = train_test_split(train_ss.drop([\"playResult\"],axis=1),train_ss[\"playResult\"],test_size=0.2)"
      ],
      "execution_count": null,
      "outputs": []
    },
    {
      "cell_type": "code",
      "metadata": {
        "colab": {
          "base_uri": "https://localhost:8080/"
        },
        "id": "XkXwqa4tWBUS",
        "outputId": "c9cf73bf-32e9-42f9-9dba-86f6470ab7a9"
      },
      "source": [
        "regressor = DecisionTreeRegressor(max_depth=5)\n",
        "regressor.fit( X = X_train, y = y_train)\n",
        "y_pred = regressor.predict(X = X_test)\n",
        "mae = mean_absolute_error(y_test, y_pred)\n",
        "print ('MAE', mae)\n"
      ],
      "execution_count": null,
      "outputs": [
        {
          "output_type": "stream",
          "text": [
            "MAE 4.409602633433612\n"
          ],
          "name": "stdout"
        }
      ]
    },
    {
      "cell_type": "code",
      "metadata": {
        "colab": {
          "base_uri": "https://localhost:8080/",
          "height": 370
        },
        "id": "-RrFTI6eWBUT",
        "outputId": "ab4f8019-5a71-4833-9e38-35dc740800ab"
      },
      "source": [
        "from sklearn.metrics import mean_absolute_error\n",
        "\n",
        "                    \n",
        "# x axis for plotting\n",
        "import numpy as np\n",
        "xx = np.stack(i for i in range(y_test.shape[0]))\n",
        "plt.plot(xx, y_test, c='r', label='data')\n",
        "#plt.plot(xx, y, c='k', label='data')\n",
        "plt.plot(xx, y_pred, c='g', label='prediction')\n",
        "plt.axis('tight')\n",
        "plt.legend()\n",
        "plt.title(\"DecisionTree\")\n",
        "\n",
        "plt.show()"
      ],
      "execution_count": null,
      "outputs": [
        {
          "output_type": "stream",
          "text": [
            "/usr/local/lib/python3.7/dist-packages/IPython/core/interactiveshell.py:2822: FutureWarning:\n",
            "\n",
            "arrays to stack must be passed as a \"sequence\" type such as list or tuple. Support for non-sequence iterables such as generators is deprecated as of NumPy 1.16 and will raise an error in the future.\n",
            "\n"
          ],
          "name": "stderr"
        },
        {
          "output_type": "display_data",
          "data": {
            "image/png": "[encoded data removed]",
            "text/plain": [
              "<Figure size 432x288 with 1 Axes>"
            ]
          },
          "metadata": {
            "tags": [],
            "needs_background": "light"
          }
        }
      ]
    },
    {
      "cell_type": "markdown",
      "metadata": {
        "id": "FfwkhvNLVlnJ"
      },
      "source": [
        "###RamdomForest"
      ]
    },
    {
      "cell_type": "code",
      "metadata": {
        "id": "2Qb8DPtFXE1G"
      },
      "source": [
        "X_train, X_test, y_train, y_test = train_test_split(train_ss.drop([\"playResult\"],axis=1),train_ss[\"playResult\"],test_size=0.2)"
      ],
      "execution_count": null,
      "outputs": []
    },
    {
      "cell_type": "code",
      "metadata": {
        "colab": {
          "base_uri": "https://localhost:8080/"
        },
        "id": "CfTNRZ1xXE1H",
        "outputId": "1a064991-2e78-4b4c-d456-8aa71ddd438e"
      },
      "source": [
        "from sklearn.ensemble import RandomForestRegressor\n",
        "\n",
        "#1.1 Model Parametrization \n",
        "regressor = RandomForestRegressor(n_estimators= 100, max_depth = 10, criterion='mae', random_state=0)\n",
        "#1.2 Model construction\n",
        "regressor.fit(X_train, y_train)\n",
        "\n",
        "# Test\n",
        "y_pred = regressor.predict(X_test)\n",
        "\n",
        "# metrics calculation \n",
        "from sklearn.metrics import mean_absolute_error\n",
        "mae = mean_absolute_error(y_test,y_pred)\n",
        "print (\"Error Measure \",  mae)"
      ],
      "execution_count": null,
      "outputs": [
        {
          "output_type": "stream",
          "text": [
            "Error Measure  7.629689308559244\n"
          ],
          "name": "stdout"
        }
      ]
    },
    {
      "cell_type": "code",
      "metadata": {
        "colab": {
          "base_uri": "https://localhost:8080/",
          "height": 370
        },
        "id": "qP2ZmFvaXE1I",
        "outputId": "bdbd68dc-0150-461e-ea1a-0b89b70a3ca8"
      },
      "source": [
        "#plt.subplot(2, 1, i + 1)\n",
        "# x axis for plotting\n",
        "import matplotlib.pyplot as plt\n",
        "import numpy as np\n",
        "\n",
        "xx = np.stack(i for i in range(len(y_test)))\n",
        "plt.scatter(xx, y_test, c='r', label='data')\n",
        "plt.plot(xx, y_pred, c='g', label='prediction')\n",
        "plt.axis('tight')\n",
        "plt.legend()\n",
        "plt.title(\"RandomForests Regressor\")\n",
        "\n",
        "plt.show()"
      ],
      "execution_count": null,
      "outputs": [
        {
          "output_type": "stream",
          "text": [
            "/usr/local/lib/python3.7/dist-packages/IPython/core/interactiveshell.py:2822: FutureWarning:\n",
            "\n",
            "arrays to stack must be passed as a \"sequence\" type such as list or tuple. Support for non-sequence iterables such as generators is deprecated as of NumPy 1.16 and will raise an error in the future.\n",
            "\n"
          ],
          "name": "stderr"
        },
        {
          "output_type": "display_data",
          "data": {
            "image/png": "[encoded data removed]",
            "text/plain": [
              "<Figure size 432x288 with 1 Axes>"
            ]
          },
          "metadata": {
            "tags": [],
            "needs_background": "light"
          }
        }
      ]
    },
    {
      "cell_type": "markdown",
      "metadata": {
        "id": "W6VjOA5YPMkL"
      },
      "source": [
        "#MinMaxScaler"
      ]
    },
    {
      "cell_type": "markdown",
      "metadata": {
        "id": "5loeoHijPOgG"
      },
      "source": [
        "##Incluyendo cluster en el pca"
      ]
    },
    {
      "cell_type": "markdown",
      "metadata": {
        "id": "nCJ76v7sPRQ2"
      },
      "source": [
        "##Sin incluir cluster en el pca (aparte)"
      ]
    },
    {
      "cell_type": "markdown",
      "metadata": {
        "id": "u6c1f6MulvKm"
      },
      "source": [
        "###Normalización del dataset"
      ]
    },
    {
      "cell_type": "code",
      "metadata": {
        "id": "Qw9NpS26lvKn"
      },
      "source": [
        "scaler = preprocessing.MinMaxScaler()\n",
        "static_defenses2 = scaler.fit_transform(static_defenses_mms.drop([\"playResult\",\"cluster\"],axis=1))"
      ],
      "execution_count": null,
      "outputs": []
    },
    {
      "cell_type": "code",
      "metadata": {
        "colab": {
          "base_uri": "https://localhost:8080/"
        },
        "id": "gsVRH8ozlvKo",
        "outputId": "b5b76aba-5bda-4cb1-fda7-47c21d2376d6"
      },
      "source": [
        "pca_ss = PCA ()\n",
        "X_pca_mms = pca_ss.fit_transform(static_defenses2)\n",
        "X_pca_mms.shape"
      ],
      "execution_count": null,
      "outputs": [
        {
          "output_type": "execute_result",
          "data": {
            "text/plain": [
              "(13055, 35)"
            ]
          },
          "metadata": {
            "tags": []
          },
          "execution_count": 84
        }
      ]
    },
    {
      "cell_type": "code",
      "metadata": {
        "colab": {
          "base_uri": "https://localhost:8080/",
          "height": 542
        },
        "id": "h6fXIOgClvKp",
        "outputId": "89d317b7-f98c-4884-cd4d-bd84b36a9421"
      },
      "source": [
        "exp_var_cumul = np.cumsum(pca_ss.explained_variance_ratio_)\n",
        "\n",
        "px.area(\n",
        "    x=range(1, exp_var_cumul.shape[0] + 1),\n",
        "    y=exp_var_cumul,\n",
        "    labels={\"x\": \"# Components\", \"y\": \"Explained Variance\"}\n",
        ")"
      ],
      "execution_count": null,
      "outputs": [
        {
          "output_type": "display_data",
          "data": {
            "text/html": [
              "<html>\n",
              "<head><meta charset=\"utf-8\" /></head>\n",
              "<body>\n",
              "    <div>\n",
              "            <script src=\"https://cdnjs.cloudflare.com/ajax/libs/mathjax/2.7.5/MathJax.js?config=TeX-AMS-MML_SVG\"></script><script type=\"text/javascript\">if (window.MathJax) {MathJax.Hub.Config({SVG: {font: \"STIX-Web\"}});}</script>\n",
              "                <script type=\"text/javascript\">window.PlotlyConfig = {MathJaxConfig: 'local'};</script>\n",
              "        <script src=\"https://cdn.plot.ly/plotly-latest.min.js\"></script>    \n",
              "            <div id=\"8b5e4fb1-42d7-4146-9eb6-6711796969f8\" class=\"plotly-graph-div\" style=\"height:525px; width:100%;\"></div>\n",
              "            <script type=\"text/javascript\">\n",
              "                \n",
              "                    window.PLOTLYENV=window.PLOTLYENV || {};\n",
              "                    \n",
              "                if (document.getElementById(\"8b5e4fb1-42d7-4146-9eb6-6711796969f8\")) {\n",
              "                    Plotly.newPlot(\n",
              "                        '8b5e4fb1-42d7-4146-9eb6-6711796969f8',\n",
              "                        [{\"hoverlabel\": {\"namelength\": 0}, \"hovertemplate\": \"# Components=%{x}<br>Explained Variance=%{y}\", \"legendgroup\": \"\", \"line\": {\"color\": \"#636efa\"}, \"mode\": \"lines\", \"name\": \"\", \"orientation\": \"v\", \"showlegend\": false, \"stackgroup\": \"1\", \"type\": \"scatter\", \"x\": [1, 2, 3, 4, 5, 6, 7, 8, 9, 10, 11, 12, 13, 14, 15, 16, 17, 18, 19, 20, 21, 22, 23, 24, 25, 26, 27, 28, 29, 30, 31, 32, 33, 34, 35], \"xaxis\": \"x\", \"y\": [0.22776732590735055, 0.4431194708852182, 0.5978027389642878, 0.6908807842094742, 0.7471047876073423, 0.7878740581778918, 0.824834866498293, 0.8571001498959727, 0.8860582936964864, 0.9096109211608664, 0.926826722332752, 0.9425462969076319, 0.9526364395614465, 0.9624468959596617, 0.971553593991169, 0.9794385983548799, 0.983702984251412, 0.9871420945888034, 0.9902765822725554, 0.9930689200430717, 0.995539265175808, 0.9970003251224302, 0.9980312867648389, 0.998673481865224, 0.9992681245823469, 0.9996816423094291, 0.9998463708812396, 0.9999104528387264, 0.9999622018739602, 0.9999920476511687, 0.9999989425441711, 0.9999998344324103, 0.9999999999999999, 0.9999999999999999, 0.9999999999999999], \"yaxis\": \"y\"}],\n",
              "                        {\"legend\": {\"tracegroupgap\": 0}, \"margin\": {\"t\": 60}, \"template\": {\"data\": {\"bar\": [{\"error_x\": {\"color\": \"#2a3f5f\"}, \"error_y\": {\"color\": \"#2a3f5f\"}, \"marker\": {\"line\": {\"color\": \"#E5ECF6\", \"width\": 0.5}}, \"type\": \"bar\"}], \"barpolar\": [{\"marker\": {\"line\": {\"color\": \"#E5ECF6\", \"width\": 0.5}}, \"type\": \"barpolar\"}], \"carpet\": [{\"aaxis\": {\"endlinecolor\": \"#2a3f5f\", \"gridcolor\": \"white\", \"linecolor\": \"white\", \"minorgridcolor\": \"white\", \"startlinecolor\": \"#2a3f5f\"}, \"baxis\": {\"endlinecolor\": \"#2a3f5f\", \"gridcolor\": \"white\", \"linecolor\": \"white\", \"minorgridcolor\": \"white\", \"startlinecolor\": \"#2a3f5f\"}, \"type\": \"carpet\"}], \"choropleth\": [{\"colorbar\": {\"outlinewidth\": 0, \"ticks\": \"\"}, \"type\": \"choropleth\"}], \"contour\": [{\"colorbar\": {\"outlinewidth\": 0, \"ticks\": \"\"}, \"colorscale\": [[0.0, \"#0d0887\"], [0.1111111111111111, \"#46039f\"], [0.2222222222222222, \"#7201a8\"], [0.3333333333333333, \"#9c179e\"], [0.4444444444444444, \"#bd3786\"], [0.5555555555555556, \"#d8576b\"], [0.6666666666666666, \"#ed7953\"], [0.7777777777777778, \"#fb9f3a\"], [0.8888888888888888, \"#fdca26\"], [1.0, \"#f0f921\"]], \"type\": \"contour\"}], \"contourcarpet\": [{\"colorbar\": {\"outlinewidth\": 0, \"ticks\": \"\"}, \"type\": \"contourcarpet\"}], \"heatmap\": [{\"colorbar\": {\"outlinewidth\": 0, \"ticks\": \"\"}, \"colorscale\": [[0.0, \"#0d0887\"], [0.1111111111111111, \"#46039f\"], [0.2222222222222222, \"#7201a8\"], [0.3333333333333333, \"#9c179e\"], [0.4444444444444444, \"#bd3786\"], [0.5555555555555556, \"#d8576b\"], [0.6666666666666666, \"#ed7953\"], [0.7777777777777778, \"#fb9f3a\"], [0.8888888888888888, \"#fdca26\"], [1.0, \"#f0f921\"]], \"type\": \"heatmap\"}], \"heatmapgl\": [{\"colorbar\": {\"outlinewidth\": 0, \"ticks\": \"\"}, \"colorscale\": [[0.0, \"#0d0887\"], [0.1111111111111111, \"#46039f\"], [0.2222222222222222, \"#7201a8\"], [0.3333333333333333, \"#9c179e\"], [0.4444444444444444, \"#bd3786\"], [0.5555555555555556, \"#d8576b\"], [0.6666666666666666, \"#ed7953\"], [0.7777777777777778, \"#fb9f3a\"], [0.8888888888888888, \"#fdca26\"], [1.0, \"#f0f921\"]], \"type\": \"heatmapgl\"}], \"histogram\": [{\"marker\": {\"colorbar\": {\"outlinewidth\": 0, \"ticks\": \"\"}}, \"type\": \"histogram\"}], \"histogram2d\": [{\"colorbar\": {\"outlinewidth\": 0, \"ticks\": \"\"}, \"colorscale\": [[0.0, \"#0d0887\"], [0.1111111111111111, \"#46039f\"], [0.2222222222222222, \"#7201a8\"], [0.3333333333333333, \"#9c179e\"], [0.4444444444444444, \"#bd3786\"], [0.5555555555555556, \"#d8576b\"], [0.6666666666666666, \"#ed7953\"], [0.7777777777777778, \"#fb9f3a\"], [0.8888888888888888, \"#fdca26\"], [1.0, \"#f0f921\"]], \"type\": \"histogram2d\"}], \"histogram2dcontour\": [{\"colorbar\": {\"outlinewidth\": 0, \"ticks\": \"\"}, \"colorscale\": [[0.0, \"#0d0887\"], [0.1111111111111111, \"#46039f\"], [0.2222222222222222, \"#7201a8\"], [0.3333333333333333, \"#9c179e\"], [0.4444444444444444, \"#bd3786\"], [0.5555555555555556, \"#d8576b\"], [0.6666666666666666, \"#ed7953\"], [0.7777777777777778, \"#fb9f3a\"], [0.8888888888888888, \"#fdca26\"], [1.0, \"#f0f921\"]], \"type\": \"histogram2dcontour\"}], \"mesh3d\": [{\"colorbar\": {\"outlinewidth\": 0, \"ticks\": \"\"}, \"type\": \"mesh3d\"}], \"parcoords\": [{\"line\": {\"colorbar\": {\"outlinewidth\": 0, \"ticks\": \"\"}}, \"type\": \"parcoords\"}], \"pie\": [{\"automargin\": true, \"type\": \"pie\"}], \"scatter\": [{\"marker\": {\"colorbar\": {\"outlinewidth\": 0, \"ticks\": \"\"}}, \"type\": \"scatter\"}], \"scatter3d\": [{\"line\": {\"colorbar\": {\"outlinewidth\": 0, \"ticks\": \"\"}}, \"marker\": {\"colorbar\": {\"outlinewidth\": 0, \"ticks\": \"\"}}, \"type\": \"scatter3d\"}], \"scattercarpet\": [{\"marker\": {\"colorbar\": {\"outlinewidth\": 0, \"ticks\": \"\"}}, \"type\": \"scattercarpet\"}], \"scattergeo\": [{\"marker\": {\"colorbar\": {\"outlinewidth\": 0, \"ticks\": \"\"}}, \"type\": \"scattergeo\"}], \"scattergl\": [{\"marker\": {\"colorbar\": {\"outlinewidth\": 0, \"ticks\": \"\"}}, \"type\": \"scattergl\"}], \"scattermapbox\": [{\"marker\": {\"colorbar\": {\"outlinewidth\": 0, \"ticks\": \"\"}}, \"type\": \"scattermapbox\"}], \"scatterpolar\": [{\"marker\": {\"colorbar\": {\"outlinewidth\": 0, \"ticks\": \"\"}}, \"type\": \"scatterpolar\"}], \"scatterpolargl\": [{\"marker\": {\"colorbar\": {\"outlinewidth\": 0, \"ticks\": \"\"}}, \"type\": \"scatterpolargl\"}], \"scatterternary\": [{\"marker\": {\"colorbar\": {\"outlinewidth\": 0, \"ticks\": \"\"}}, \"type\": \"scatterternary\"}], \"surface\": [{\"colorbar\": {\"outlinewidth\": 0, \"ticks\": \"\"}, \"colorscale\": [[0.0, \"#0d0887\"], [0.1111111111111111, \"#46039f\"], [0.2222222222222222, \"#7201a8\"], [0.3333333333333333, \"#9c179e\"], [0.4444444444444444, \"#bd3786\"], [0.5555555555555556, \"#d8576b\"], [0.6666666666666666, \"#ed7953\"], [0.7777777777777778, \"#fb9f3a\"], [0.8888888888888888, \"#fdca26\"], [1.0, \"#f0f921\"]], \"type\": \"surface\"}], \"table\": [{\"cells\": {\"fill\": {\"color\": \"#EBF0F8\"}, \"line\": {\"color\": \"white\"}}, \"header\": {\"fill\": {\"color\": \"#C8D4E3\"}, \"line\": {\"color\": \"white\"}}, \"type\": \"table\"}]}, \"layout\": {\"annotationdefaults\": {\"arrowcolor\": \"#2a3f5f\", \"arrowhead\": 0, \"arrowwidth\": 1}, \"coloraxis\": {\"colorbar\": {\"outlinewidth\": 0, \"ticks\": \"\"}}, \"colorscale\": {\"diverging\": [[0, \"#8e0152\"], [0.1, \"#c51b7d\"], [0.2, \"#de77ae\"], [0.3, \"#f1b6da\"], [0.4, \"#fde0ef\"], [0.5, \"#f7f7f7\"], [0.6, \"#e6f5d0\"], [0.7, \"#b8e186\"], [0.8, \"#7fbc41\"], [0.9, \"#4d9221\"], [1, \"#276419\"]], \"sequential\": [[0.0, \"#0d0887\"], [0.1111111111111111, \"#46039f\"], [0.2222222222222222, \"#7201a8\"], [0.3333333333333333, \"#9c179e\"], [0.4444444444444444, \"#bd3786\"], [0.5555555555555556, \"#d8576b\"], [0.6666666666666666, \"#ed7953\"], [0.7777777777777778, \"#fb9f3a\"], [0.8888888888888888, \"#fdca26\"], [1.0, \"#f0f921\"]], \"sequentialminus\": [[0.0, \"#0d0887\"], [0.1111111111111111, \"#46039f\"], [0.2222222222222222, \"#7201a8\"], [0.3333333333333333, \"#9c179e\"], [0.4444444444444444, \"#bd3786\"], [0.5555555555555556, \"#d8576b\"], [0.6666666666666666, \"#ed7953\"], [0.7777777777777778, \"#fb9f3a\"], [0.8888888888888888, \"#fdca26\"], [1.0, \"#f0f921\"]]}, \"colorway\": [\"#636efa\", \"#EF553B\", \"#00cc96\", \"#ab63fa\", \"#FFA15A\", \"#19d3f3\", \"#FF6692\", \"#B6E880\", \"#FF97FF\", \"#FECB52\"], \"font\": {\"color\": \"#2a3f5f\"}, \"geo\": {\"bgcolor\": \"white\", \"lakecolor\": \"white\", \"landcolor\": \"#E5ECF6\", \"showlakes\": true, \"showland\": true, \"subunitcolor\": \"white\"}, \"hoverlabel\": {\"align\": \"left\"}, \"hovermode\": \"closest\", \"mapbox\": {\"style\": \"light\"}, \"paper_bgcolor\": \"white\", \"plot_bgcolor\": \"#E5ECF6\", \"polar\": {\"angularaxis\": {\"gridcolor\": \"white\", \"linecolor\": \"white\", \"ticks\": \"\"}, \"bgcolor\": \"#E5ECF6\", \"radialaxis\": {\"gridcolor\": \"white\", \"linecolor\": \"white\", \"ticks\": \"\"}}, \"scene\": {\"xaxis\": {\"backgroundcolor\": \"#E5ECF6\", \"gridcolor\": \"white\", \"gridwidth\": 2, \"linecolor\": \"white\", \"showbackground\": true, \"ticks\": \"\", \"zerolinecolor\": \"white\"}, \"yaxis\": {\"backgroundcolor\": \"#E5ECF6\", \"gridcolor\": \"white\", \"gridwidth\": 2, \"linecolor\": \"white\", \"showbackground\": true, \"ticks\": \"\", \"zerolinecolor\": \"white\"}, \"zaxis\": {\"backgroundcolor\": \"#E5ECF6\", \"gridcolor\": \"white\", \"gridwidth\": 2, \"linecolor\": \"white\", \"showbackground\": true, \"ticks\": \"\", \"zerolinecolor\": \"white\"}}, \"shapedefaults\": {\"line\": {\"color\": \"#2a3f5f\"}}, \"ternary\": {\"aaxis\": {\"gridcolor\": \"white\", \"linecolor\": \"white\", \"ticks\": \"\"}, \"baxis\": {\"gridcolor\": \"white\", \"linecolor\": \"white\", \"ticks\": \"\"}, \"bgcolor\": \"#E5ECF6\", \"caxis\": {\"gridcolor\": \"white\", \"linecolor\": \"white\", \"ticks\": \"\"}}, \"title\": {\"x\": 0.05}, \"xaxis\": {\"automargin\": true, \"gridcolor\": \"white\", \"linecolor\": \"white\", \"ticks\": \"\", \"title\": {\"standoff\": 15}, \"zerolinecolor\": \"white\", \"zerolinewidth\": 2}, \"yaxis\": {\"automargin\": true, \"gridcolor\": \"white\", \"linecolor\": \"white\", \"ticks\": \"\", \"title\": {\"standoff\": 15}, \"zerolinecolor\": \"white\", \"zerolinewidth\": 2}}}, \"xaxis\": {\"anchor\": \"y\", \"domain\": [0.0, 1.0], \"title\": {\"text\": \"# Components\"}}, \"yaxis\": {\"anchor\": \"x\", \"domain\": [0.0, 1.0], \"title\": {\"text\": \"Explained Variance\"}}},\n",
              "                        {\"responsive\": true}\n",
              "                    ).then(function(){\n",
              "                            \n",
              "var gd = document.getElementById('8b5e4fb1-42d7-4146-9eb6-6711796969f8');\n",
              "var x = new MutationObserver(function (mutations, observer) {{\n",
              "        var display = window.getComputedStyle(gd).display;\n",
              "        if (!display || display === 'none') {{\n",
              "            console.log([gd, 'removed!']);\n",
              "            Plotly.purge(gd);\n",
              "            observer.disconnect();\n",
              "        }}\n",
              "}});\n",
              "\n",
              "// Listen for the removal of the full notebook cells\n",
              "var notebookContainer = gd.closest('#notebook-container');\n",
              "if (notebookContainer) {{\n",
              "    x.observe(notebookContainer, {childList: true});\n",
              "}}\n",
              "\n",
              "// Listen for the clearing of the current output cell\n",
              "var outputEl = gd.closest('.output');\n",
              "if (outputEl) {{\n",
              "    x.observe(outputEl, {childList: true});\n",
              "}}\n",
              "\n",
              "                        })\n",
              "                };\n",
              "                \n",
              "            </script>\n",
              "        </div>\n",
              "</body>\n",
              "</html>"
            ]
          },
          "metadata": {
            "tags": []
          }
        }
      ]
    },
    {
      "cell_type": "code",
      "metadata": {
        "colab": {
          "base_uri": "https://localhost:8080/"
        },
        "id": "7946etW5lvKq",
        "outputId": "277444f2-f3a2-4186-ffaf-425c92f1142f"
      },
      "source": [
        "X_pca_mms = PCA(n_components = 8).fit_transform(static_defenses2)\n",
        "X_pca_mms.shape"
      ],
      "execution_count": null,
      "outputs": [
        {
          "output_type": "execute_result",
          "data": {
            "text/plain": [
              "(13055, 8)"
            ]
          },
          "metadata": {
            "tags": []
          },
          "execution_count": 86
        }
      ]
    },
    {
      "cell_type": "code",
      "metadata": {
        "colab": {
          "base_uri": "https://localhost:8080/",
          "height": 206
        },
        "id": "ZCqOj00HlvKs",
        "outputId": "d22f1cd2-f279-4ff6-c195-51be8ae058c7"
      },
      "source": [
        "train_mms = pd.DataFrame(X_pca_mms)\n",
        "train_mms[\"cluster\"] = static_defenses_mms[\"cluster\"].values\n",
        "train_mms[\"playResult\"] = static_defenses_mms[\"playResult\"].values\n",
        "train_mms.head()"
      ],
      "execution_count": null,
      "outputs": [
        {
          "output_type": "execute_result",
          "data": {
            "text/html": [
              "<div>\n",
              "<style scoped>\n",
              "    .dataframe tbody tr th:only-of-type {\n",
              "        vertical-align: middle;\n",
              "    }\n",
              "\n",
              "    .dataframe tbody tr th {\n",
              "        vertical-align: top;\n",
              "    }\n",
              "\n",
              "    .dataframe thead th {\n",
              "        text-align: right;\n",
              "    }\n",
              "</style>\n",
              "<table border=\"1\" class=\"dataframe\">\n",
              "  <thead>\n",
              "    <tr style=\"text-align: right;\">\n",
              "      <th></th>\n",
              "      <th>0</th>\n",
              "      <th>1</th>\n",
              "      <th>2</th>\n",
              "      <th>3</th>\n",
              "      <th>4</th>\n",
              "      <th>5</th>\n",
              "      <th>6</th>\n",
              "      <th>7</th>\n",
              "      <th>cluster</th>\n",
              "      <th>playResult</th>\n",
              "    </tr>\n",
              "  </thead>\n",
              "  <tbody>\n",
              "    <tr>\n",
              "      <th>0</th>\n",
              "      <td>-0.796755</td>\n",
              "      <td>-2.471072</td>\n",
              "      <td>0.379017</td>\n",
              "      <td>1.882375</td>\n",
              "      <td>2.238831</td>\n",
              "      <td>-0.252902</td>\n",
              "      <td>-1.073809</td>\n",
              "      <td>1.942712</td>\n",
              "      <td>0</td>\n",
              "      <td>10</td>\n",
              "    </tr>\n",
              "    <tr>\n",
              "      <th>1</th>\n",
              "      <td>-0.073679</td>\n",
              "      <td>-1.840974</td>\n",
              "      <td>1.472944</td>\n",
              "      <td>-0.208072</td>\n",
              "      <td>-0.519359</td>\n",
              "      <td>0.596660</td>\n",
              "      <td>-1.867148</td>\n",
              "      <td>0.427152</td>\n",
              "      <td>2</td>\n",
              "      <td>0</td>\n",
              "    </tr>\n",
              "    <tr>\n",
              "      <th>2</th>\n",
              "      <td>2.280850</td>\n",
              "      <td>-2.498067</td>\n",
              "      <td>-3.337572</td>\n",
              "      <td>1.541704</td>\n",
              "      <td>0.509576</td>\n",
              "      <td>-0.472374</td>\n",
              "      <td>-0.258515</td>\n",
              "      <td>-0.187897</td>\n",
              "      <td>0</td>\n",
              "      <td>0</td>\n",
              "    </tr>\n",
              "    <tr>\n",
              "      <th>3</th>\n",
              "      <td>-1.676255</td>\n",
              "      <td>0.859091</td>\n",
              "      <td>0.704645</td>\n",
              "      <td>-0.888400</td>\n",
              "      <td>2.034823</td>\n",
              "      <td>-1.884758</td>\n",
              "      <td>-0.673737</td>\n",
              "      <td>0.781324</td>\n",
              "      <td>6</td>\n",
              "      <td>4</td>\n",
              "    </tr>\n",
              "    <tr>\n",
              "      <th>4</th>\n",
              "      <td>0.181144</td>\n",
              "      <td>0.085049</td>\n",
              "      <td>-2.480629</td>\n",
              "      <td>-0.072058</td>\n",
              "      <td>0.943940</td>\n",
              "      <td>2.317139</td>\n",
              "      <td>0.425749</td>\n",
              "      <td>-0.599257</td>\n",
              "      <td>1</td>\n",
              "      <td>0</td>\n",
              "    </tr>\n",
              "  </tbody>\n",
              "</table>\n",
              "</div>"
            ],
            "text/plain": [
              "          0         1         2         3         4         5         6  \\\n",
              "0 -0.796755 -2.471072  0.379017  1.882375  2.238831 -0.252902 -1.073809   \n",
              "1 -0.073679 -1.840974  1.472944 -0.208072 -0.519359  0.596660 -1.867148   \n",
              "2  2.280850 -2.498067 -3.337572  1.541704  0.509576 -0.472374 -0.258515   \n",
              "3 -1.676255  0.859091  0.704645 -0.888400  2.034823 -1.884758 -0.673737   \n",
              "4  0.181144  0.085049 -2.480629 -0.072058  0.943940  2.317139  0.425749   \n",
              "\n",
              "          7  cluster  playResult  \n",
              "0  1.942712        0          10  \n",
              "1  0.427152        2           0  \n",
              "2 -0.187897        0           0  \n",
              "3  0.781324        6           4  \n",
              "4 -0.599257        1           0  "
            ]
          },
          "metadata": {
            "tags": []
          },
          "execution_count": 87
        }
      ]
    },
    {
      "cell_type": "markdown",
      "metadata": {
        "id": "zwKaQxkflvKs"
      },
      "source": [
        "###KNN"
      ]
    },
    {
      "cell_type": "code",
      "metadata": {
        "colab": {
          "base_uri": "https://localhost:8080/",
          "height": 300
        },
        "id": "6CB7dDFYlvKt",
        "outputId": "9cf04632-3edb-44c6-a4ea-ecec01b5be69"
      },
      "source": [
        "from sklearn import neighbors\n",
        "from sklearn.model_selection import KFold\n",
        "import matplotlib.pyplot as plt\n",
        "from sklearn.metrics import mean_absolute_error\n",
        "\n",
        "cv = KFold(n_splits = 10, shuffle = False) #\n",
        "\n",
        "\n",
        "for i, weights in enumerate(['uniform', 'distance']):\n",
        "   total_scores = []\n",
        "   for n_neighbors in range(1,30):\n",
        "       fold_accuracy = []\n",
        "       knn = neighbors.KNeighborsRegressor(n_neighbors, weights=weights)\n",
        "       # verificar cada uno de los modelos con validación cruzada.\n",
        "       for train_fold, test_fold in cv.split(train_mms):\n",
        "          # División train test aleatoria\n",
        "          f_train = train_ss.loc[train_fold]\n",
        "          f_test = train_ss.loc[test_fold]\n",
        "          # entrenamiento y ejecución del modelo\n",
        "          knn.fit( X = f_train.drop([\"playResult\"],axis=1), y = f_train['playResult'])\n",
        "          y_pred = knn.predict(X = f_test.drop(['playResult'], axis = 1))\n",
        "          # evaluación del modelo\n",
        "          mae = mean_absolute_error(f_test['playResult'], y_pred)\n",
        "          fold_accuracy.append(mae)\n",
        "       total_scores.append(sum(fold_accuracy)/len(fold_accuracy))\n",
        "   \n",
        "   plt.plot(range(1,len(total_scores)+1), total_scores, \n",
        "             marker='o', label=weights)\n",
        "   print ('Min Value ' +  weights + \" : \" +  str(min(total_scores)) +\" (\" + str(np.argmin(total_scores) + 1) + \")\")\n",
        "   plt.ylabel('MAE')      \n",
        "    \n",
        "\n",
        "plt.legend()\n",
        "plt.show() \n",
        "\n"
      ],
      "execution_count": null,
      "outputs": [
        {
          "output_type": "stream",
          "text": [
            "Min Value uniform : 4.377754751235039 (29)\n",
            "Min Value distance : 4.378160734828406 (29)\n"
          ],
          "name": "stdout"
        },
        {
          "output_type": "display_data",
          "data": {
            "image/png": "[encoded data removed]",
            "text/plain": [
              "<Figure size 432x288 with 1 Axes>"
            ]
          },
          "metadata": {
            "tags": [],
            "needs_background": "light"
          }
        }
      ]
    },
    {
      "cell_type": "code",
      "metadata": {
        "id": "SfmE2PmKlvKt"
      },
      "source": [
        "X_train, X_test, y_train, y_test = train_test_split(train_mms.drop([\"playResult\"],axis=1), train_mms[\"playResult\"], test_size=0.2)"
      ],
      "execution_count": null,
      "outputs": []
    },
    {
      "cell_type": "code",
      "metadata": {
        "cellView": "both",
        "colab": {
          "base_uri": "https://localhost:8080/"
        },
        "id": "DW5sguVllvKv",
        "outputId": "303f4a0e-58eb-4d7d-ce26-b33635e2ec46"
      },
      "source": [
        "# constructor\n",
        "n_neighbors = 29\n",
        "weights = 'uniform'\n",
        "knn = neighbors.KNeighborsRegressor(n_neighbors= n_neighbors, weights=weights) \n",
        "# fit and predict\n",
        "\n",
        "knn.fit( X = X_train, y = y_train)\n",
        "y_pred = knn.predict(X = X_test)\n",
        "mae = mean_absolute_error(y_test,y_pred)\n",
        "print ('MAE', mae)"
      ],
      "execution_count": null,
      "outputs": [
        {
          "output_type": "stream",
          "text": [
            "MAE 4.327064541264412\n"
          ],
          "name": "stdout"
        }
      ]
    },
    {
      "cell_type": "code",
      "metadata": {
        "colab": {
          "base_uri": "https://localhost:8080/",
          "height": 370
        },
        "id": "_PsoZ_JulvKv",
        "outputId": "059ee250-5f4d-4bc3-fc93-7b95177c71e0"
      },
      "source": [
        "from sklearn.metrics import mean_absolute_error\n",
        "\n",
        "                    \n",
        "# x axis for plotting\n",
        "import numpy as np\n",
        "xx = np.stack(i for i in range(y_test.shape[0]))\n",
        "plt.plot(xx, y_test, c='r', label='data')\n",
        "#plt.plot(xx, y, c='k', label='data')\n",
        "plt.plot(xx, y_pred, c='g', label='prediction')\n",
        "plt.axis('tight')\n",
        "plt.legend()\n",
        "plt.title(\"KNeighborsRegressor (k = %i, weights = '%s')\" % (n_neighbors,\n",
        "                                                                weights))\n",
        "\n",
        "plt.show()"
      ],
      "execution_count": null,
      "outputs": [
        {
          "output_type": "stream",
          "text": [
            "/usr/local/lib/python3.7/dist-packages/IPython/core/interactiveshell.py:2822: FutureWarning:\n",
            "\n",
            "arrays to stack must be passed as a \"sequence\" type such as list or tuple. Support for non-sequence iterables such as generators is deprecated as of NumPy 1.16 and will raise an error in the future.\n",
            "\n"
          ],
          "name": "stderr"
        },
        {
          "output_type": "display_data",
          "data": {
            "image/png": "[encoded data removed]",
            "text/plain": [
              "<Figure size 432x288 with 1 Axes>"
            ]
          },
          "metadata": {
            "tags": [],
            "needs_background": "light"
          }
        }
      ]
    },
    {
      "cell_type": "markdown",
      "metadata": {
        "id": "HN0cigfmlvKx"
      },
      "source": [
        "###Decision Trees"
      ]
    },
    {
      "cell_type": "code",
      "metadata": {
        "colab": {
          "base_uri": "https://localhost:8080/",
          "height": 300
        },
        "id": "LW6re5fIlvKx",
        "outputId": "b33864a9-d5c9-4b5e-f769-ed851484960e"
      },
      "source": [
        "from sklearn.tree import DecisionTreeRegressor\n",
        "from sklearn.model_selection import KFold\n",
        "import matplotlib.pyplot as plt\n",
        "from sklearn.metrics import mean_absolute_error\n",
        "import numpy as np\n",
        "\n",
        "cv = KFold(n_splits = 10, shuffle = False) #\n",
        "#  https://scikit-learn.org/stable/modules/generated/sklearn.model_selection.TimeSeriesSplit.html \n",
        "\n",
        "\n",
        "total_scores = []\n",
        "for i in range(1,30):\n",
        "    fold_accuracy = []\n",
        "    dt = DecisionTreeRegressor(max_depth=i)\n",
        "    # verificar cada uno de los modelos con validación cruzada.\n",
        "    for train_fold, test_fold in cv.split(train_mms):\n",
        "      # División train test aleatoria\n",
        "      f_train = train_ss.loc[train_fold]\n",
        "      f_test = train_ss.loc[test_fold]\n",
        "      # entrenamiento y ejecución del modelo\n",
        "      dt.fit( X = f_train.drop(['playResult'], axis=1), \n",
        "                            y = f_train['playResult'])\n",
        "      y_pred = dt.predict(X = f_test.drop(['playResult'], axis = 1))\n",
        "      # evaluación del modelo\n",
        "      mae = mean_absolute_error(f_test['playResult'], y_pred)\n",
        "      fold_accuracy.append(mae)\n",
        "    total_scores.append(sum(fold_accuracy)/len(fold_accuracy))\n",
        "   \n",
        "plt.plot(range(1,len(total_scores)+1), total_scores, \n",
        "           marker='o')\n",
        "print ('Min Value  :' +  str(min(total_scores)) +' (' + str(np.argmin(total_scores) + 1) + ')')\n",
        "plt.ylabel('MAE')      \n",
        "    \n",
        "\n",
        "plt.legend()\n",
        "plt.show() "
      ],
      "execution_count": null,
      "outputs": [
        {
          "output_type": "stream",
          "text": [
            "No handles with labels found to put in legend.\n"
          ],
          "name": "stderr"
        },
        {
          "output_type": "stream",
          "text": [
            "Min Value  :4.352378349329421 (3)\n"
          ],
          "name": "stdout"
        },
        {
          "output_type": "display_data",
          "data": {
            "image/png": "[encoded data removed]",
            "text/plain": [
              "<Figure size 432x288 with 1 Axes>"
            ]
          },
          "metadata": {
            "tags": [],
            "needs_background": "light"
          }
        }
      ]
    },
    {
      "cell_type": "code",
      "metadata": {
        "id": "MDKNOuNClvKx"
      },
      "source": [
        "X_train, X_test, y_train, y_test = train_test_split(train_mms.drop([\"playResult\"],axis=1),train_mms[\"playResult\"],test_size=0.2)"
      ],
      "execution_count": null,
      "outputs": []
    },
    {
      "cell_type": "code",
      "metadata": {
        "colab": {
          "base_uri": "https://localhost:8080/"
        },
        "id": "lV206cDelvKx",
        "outputId": "8252293e-9a51-4171-9ca3-5e7aa3449be3"
      },
      "source": [
        "regressor = DecisionTreeRegressor(max_depth=5)\n",
        "regressor.fit( X = X_train, y = y_train)\n",
        "y_pred = regressor.predict(X = X_test)\n",
        "mae = mean_absolute_error(y_test, y_pred)\n",
        "print ('MAE', mae)\n"
      ],
      "execution_count": null,
      "outputs": [
        {
          "output_type": "stream",
          "text": [
            "MAE 4.413570938077481\n"
          ],
          "name": "stdout"
        }
      ]
    },
    {
      "cell_type": "code",
      "metadata": {
        "colab": {
          "base_uri": "https://localhost:8080/",
          "height": 370
        },
        "id": "kmUMOv3ylvKy",
        "outputId": "2de62264-34d4-4732-e487-59b94aa89613"
      },
      "source": [
        "from sklearn.metrics import mean_absolute_error\n",
        "\n",
        "                    \n",
        "# x axis for plotting\n",
        "import numpy as np\n",
        "xx = np.stack(i for i in range(y_test.shape[0]))\n",
        "plt.plot(xx, y_test, c='r', label='data')\n",
        "#plt.plot(xx, y, c='k', label='data')\n",
        "plt.plot(xx, y_pred, c='g', label='prediction')\n",
        "plt.axis('tight')\n",
        "plt.legend()\n",
        "plt.title(\"DecisionTree\")\n",
        "\n",
        "plt.show()"
      ],
      "execution_count": null,
      "outputs": [
        {
          "output_type": "stream",
          "text": [
            "/usr/local/lib/python3.7/dist-packages/IPython/core/interactiveshell.py:2822: FutureWarning:\n",
            "\n",
            "arrays to stack must be passed as a \"sequence\" type such as list or tuple. Support for non-sequence iterables such as generators is deprecated as of NumPy 1.16 and will raise an error in the future.\n",
            "\n"
          ],
          "name": "stderr"
        },
        {
          "output_type": "display_data",
          "data": {
            "image/png": "[encoded data removed]",
            "text/plain": [
              "<Figure size 432x288 with 1 Axes>"
            ]
          },
          "metadata": {
            "tags": [],
            "needs_background": "light"
          }
        }
      ]
    },
    {
      "cell_type": "markdown",
      "metadata": {
        "id": "ny0MbYs_lvKy"
      },
      "source": [
        "###RamdomForest"
      ]
    },
    {
      "cell_type": "code",
      "metadata": {
        "id": "WJMMxqg1lvKy"
      },
      "source": [
        "X_train, X_test, y_train, y_test = train_test_split(train_mms.drop([\"playResult\"],axis=1),train_mms[\"playResult\"],test_size=0.2)"
      ],
      "execution_count": null,
      "outputs": []
    },
    {
      "cell_type": "code",
      "metadata": {
        "colab": {
          "base_uri": "https://localhost:8080/"
        },
        "id": "Z8CQltvVlvKz",
        "outputId": "85b9a6e1-6c99-47a1-af7b-57a52b50f22f"
      },
      "source": [
        "from sklearn.ensemble import RandomForestRegressor\n",
        "\n",
        "#1.1 Model Parametrization \n",
        "regressor = RandomForestRegressor(n_estimators= 100, max_depth = 10, criterion='mae', random_state=0)\n",
        "#1.2 Model construction\n",
        "regressor.fit(X_train, y_train)\n",
        "\n",
        "# Test\n",
        "y_pred = regressor.predict(X_test)\n",
        "\n",
        "# metrics calculation \n",
        "from sklearn.metrics import mean_absolute_error\n",
        "mae = mean_absolute_error(y_test,y_pred)\n",
        "print (\"Error Measure \",  mae)"
      ],
      "execution_count": null,
      "outputs": [
        {
          "output_type": "stream",
          "text": [
            "Error Measure  7.682313432835821\n"
          ],
          "name": "stdout"
        }
      ]
    },
    {
      "cell_type": "code",
      "metadata": {
        "colab": {
          "base_uri": "https://localhost:8080/",
          "height": 370
        },
        "id": "C-zYQUMSlvKz",
        "outputId": "4e9b5f39-5bda-4e0b-b94b-31fd5267c5eb"
      },
      "source": [
        "#plt.subplot(2, 1, i + 1)\n",
        "# x axis for plotting\n",
        "import matplotlib.pyplot as plt\n",
        "import numpy as np\n",
        "\n",
        "xx = np.stack(i for i in range(len(y_test)))\n",
        "plt.scatter(xx, y_test, c='r', label='data')\n",
        "plt.plot(xx, y_pred, c='g', label='prediction')\n",
        "plt.axis('tight')\n",
        "plt.legend()\n",
        "plt.title(\"RandomForests Regressor\")\n",
        "\n",
        "plt.show()"
      ],
      "execution_count": null,
      "outputs": [
        {
          "output_type": "stream",
          "text": [
            "/usr/local/lib/python3.7/dist-packages/IPython/core/interactiveshell.py:2822: FutureWarning:\n",
            "\n",
            "arrays to stack must be passed as a \"sequence\" type such as list or tuple. Support for non-sequence iterables such as generators is deprecated as of NumPy 1.16 and will raise an error in the future.\n",
            "\n"
          ],
          "name": "stderr"
        },
        {
          "output_type": "display_data",
          "data": {
            "image/png": "[encoded data removed]",
            "text/plain": [
              "<Figure size 432x288 with 1 Axes>"
            ]
          },
          "metadata": {
            "tags": [],
            "needs_background": "light"
          }
        }
      ]
    },
    {
      "cell_type": "code",
      "metadata": {
        "id": "wW7MK8bYsYfk"
      },
      "source": [
        ""
      ],
      "execution_count": null,
      "outputs": []
    },
    {
      "cell_type": "markdown",
      "metadata": {
        "id": "7NbUPgy4hEKz"
      },
      "source": [
        "#RobustScaler"
      ]
    },
    {
      "cell_type": "code",
      "metadata": {
        "id": "QSiXno9ZhLyi"
      },
      "source": [
        ""
      ],
      "execution_count": null,
      "outputs": []
    },
    {
      "cell_type": "markdown",
      "metadata": {
        "id": "yp79zHo1hOsz"
      },
      "source": [
        "##Incluyendo cluster en el pca"
      ]
    },
    {
      "cell_type": "markdown",
      "metadata": {
        "id": "WMKbiD8LhOs0"
      },
      "source": [
        "##Sin incluir cluster en el pca (aparte)"
      ]
    },
    {
      "cell_type": "markdown",
      "metadata": {
        "id": "Nd7vtpNchOs0"
      },
      "source": [
        "###Normalización del dataset"
      ]
    },
    {
      "cell_type": "code",
      "metadata": {
        "id": "0s3RNy_xhOs0"
      },
      "source": [
        "scaler = preprocessing.RobustScaler()\n",
        "static_defenses3 = scaler.fit_transform(static_defenses_rs.drop([\"playResult\",\"cluster\"],axis=1))"
      ],
      "execution_count": null,
      "outputs": []
    },
    {
      "cell_type": "code",
      "metadata": {
        "colab": {
          "base_uri": "https://localhost:8080/"
        },
        "id": "uZNLCpP9hOs0",
        "outputId": "8028667e-51cb-40a1-9888-deff82701443"
      },
      "source": [
        "pca_rs = PCA ()\n",
        "X_pca_rs = pca_rs.fit_transform(static_defenses2)\n",
        "X_pca_rs.shape"
      ],
      "execution_count": null,
      "outputs": [
        {
          "output_type": "execute_result",
          "data": {
            "text/plain": [
              "(13055, 35)"
            ]
          },
          "metadata": {
            "tags": []
          },
          "execution_count": 97
        }
      ]
    },
    {
      "cell_type": "code",
      "metadata": {
        "colab": {
          "base_uri": "https://localhost:8080/",
          "height": 542
        },
        "id": "3_jKesUMhOs2",
        "outputId": "66238259-2ce1-44b5-acfb-80adabaeef78"
      },
      "source": [
        "exp_var_cumul = np.cumsum(pca_rs.explained_variance_ratio_)\n",
        "\n",
        "px.area(\n",
        "    x=range(1, exp_var_cumul.shape[0] + 1),\n",
        "    y=exp_var_cumul,\n",
        "    labels={\"x\": \"# Components\", \"y\": \"Explained Variance\"}\n",
        ")"
      ],
      "execution_count": null,
      "outputs": [
        {
          "output_type": "display_data",
          "data": {
            "text/html": [
              "<html>\n",
              "<head><meta charset=\"utf-8\" /></head>\n",
              "<body>\n",
              "    <div>\n",
              "            <script src=\"https://cdnjs.cloudflare.com/ajax/libs/mathjax/2.7.5/MathJax.js?config=TeX-AMS-MML_SVG\"></script><script type=\"text/javascript\">if (window.MathJax) {MathJax.Hub.Config({SVG: {font: \"STIX-Web\"}});}</script>\n",
              "                <script type=\"text/javascript\">window.PlotlyConfig = {MathJaxConfig: 'local'};</script>\n",
              "        <script src=\"https://cdn.plot.ly/plotly-latest.min.js\"></script>    \n",
              "            <div id=\"2a83cd45-711a-4ae2-bd84-4aba739cbce4\" class=\"plotly-graph-div\" style=\"height:525px; width:100%;\"></div>\n",
              "            <script type=\"text/javascript\">\n",
              "                \n",
              "                    window.PLOTLYENV=window.PLOTLYENV || {};\n",
              "                    \n",
              "                if (document.getElementById(\"2a83cd45-711a-4ae2-bd84-4aba739cbce4\")) {\n",
              "                    Plotly.newPlot(\n",
              "                        '2a83cd45-711a-4ae2-bd84-4aba739cbce4',\n",
              "                        [{\"hoverlabel\": {\"namelength\": 0}, \"hovertemplate\": \"# Components=%{x}<br>Explained Variance=%{y}\", \"legendgroup\": \"\", \"line\": {\"color\": \"#636efa\"}, \"mode\": \"lines\", \"name\": \"\", \"orientation\": \"v\", \"showlegend\": false, \"stackgroup\": \"1\", \"type\": \"scatter\", \"x\": [1, 2, 3, 4, 5, 6, 7, 8, 9, 10, 11, 12, 13, 14, 15, 16, 17, 18, 19, 20, 21, 22, 23, 24, 25, 26, 27, 28, 29, 30, 31, 32, 33, 34, 35], \"xaxis\": \"x\", \"y\": [0.22776732590735055, 0.4431194708852182, 0.5978027389642878, 0.6908807842094742, 0.7471047876073423, 0.7878740581778918, 0.824834866498293, 0.8571001498959727, 0.8860582936964864, 0.9096109211608664, 0.926826722332752, 0.9425462969076319, 0.9526364395614465, 0.9624468959596617, 0.971553593991169, 0.9794385983548799, 0.983702984251412, 0.9871420945888034, 0.9902765822725554, 0.9930689200430717, 0.995539265175808, 0.9970003251224302, 0.9980312867648389, 0.998673481865224, 0.9992681245823469, 0.9996816423094291, 0.9998463708812396, 0.9999104528387264, 0.9999622018739602, 0.9999920476511687, 0.9999989425441711, 0.9999998344324103, 0.9999999999999999, 0.9999999999999999, 0.9999999999999999], \"yaxis\": \"y\"}],\n",
              "                        {\"legend\": {\"tracegroupgap\": 0}, \"margin\": {\"t\": 60}, \"template\": {\"data\": {\"bar\": [{\"error_x\": {\"color\": \"#2a3f5f\"}, \"error_y\": {\"color\": \"#2a3f5f\"}, \"marker\": {\"line\": {\"color\": \"#E5ECF6\", \"width\": 0.5}}, \"type\": \"bar\"}], \"barpolar\": [{\"marker\": {\"line\": {\"color\": \"#E5ECF6\", \"width\": 0.5}}, \"type\": \"barpolar\"}], \"carpet\": [{\"aaxis\": {\"endlinecolor\": \"#2a3f5f\", \"gridcolor\": \"white\", \"linecolor\": \"white\", \"minorgridcolor\": \"white\", \"startlinecolor\": \"#2a3f5f\"}, \"baxis\": {\"endlinecolor\": \"#2a3f5f\", \"gridcolor\": \"white\", \"linecolor\": \"white\", \"minorgridcolor\": \"white\", \"startlinecolor\": \"#2a3f5f\"}, \"type\": \"carpet\"}], \"choropleth\": [{\"colorbar\": {\"outlinewidth\": 0, \"ticks\": \"\"}, \"type\": \"choropleth\"}], \"contour\": [{\"colorbar\": {\"outlinewidth\": 0, \"ticks\": \"\"}, \"colorscale\": [[0.0, \"#0d0887\"], [0.1111111111111111, \"#46039f\"], [0.2222222222222222, \"#7201a8\"], [0.3333333333333333, \"#9c179e\"], [0.4444444444444444, \"#bd3786\"], [0.5555555555555556, \"#d8576b\"], [0.6666666666666666, \"#ed7953\"], [0.7777777777777778, \"#fb9f3a\"], [0.8888888888888888, \"#fdca26\"], [1.0, \"#f0f921\"]], \"type\": \"contour\"}], \"contourcarpet\": [{\"colorbar\": {\"outlinewidth\": 0, \"ticks\": \"\"}, \"type\": \"contourcarpet\"}], \"heatmap\": [{\"colorbar\": {\"outlinewidth\": 0, \"ticks\": \"\"}, \"colorscale\": [[0.0, \"#0d0887\"], [0.1111111111111111, \"#46039f\"], [0.2222222222222222, \"#7201a8\"], [0.3333333333333333, \"#9c179e\"], [0.4444444444444444, \"#bd3786\"], [0.5555555555555556, \"#d8576b\"], [0.6666666666666666, \"#ed7953\"], [0.7777777777777778, \"#fb9f3a\"], [0.8888888888888888, \"#fdca26\"], [1.0, \"#f0f921\"]], \"type\": \"heatmap\"}], \"heatmapgl\": [{\"colorbar\": {\"outlinewidth\": 0, \"ticks\": \"\"}, \"colorscale\": [[0.0, \"#0d0887\"], [0.1111111111111111, \"#46039f\"], [0.2222222222222222, \"#7201a8\"], [0.3333333333333333, \"#9c179e\"], [0.4444444444444444, \"#bd3786\"], [0.5555555555555556, \"#d8576b\"], [0.6666666666666666, \"#ed7953\"], [0.7777777777777778, \"#fb9f3a\"], [0.8888888888888888, \"#fdca26\"], [1.0, \"#f0f921\"]], \"type\": \"heatmapgl\"}], \"histogram\": [{\"marker\": {\"colorbar\": {\"outlinewidth\": 0, \"ticks\": \"\"}}, \"type\": \"histogram\"}], \"histogram2d\": [{\"colorbar\": {\"outlinewidth\": 0, \"ticks\": \"\"}, \"colorscale\": [[0.0, \"#0d0887\"], [0.1111111111111111, \"#46039f\"], [0.2222222222222222, \"#7201a8\"], [0.3333333333333333, \"#9c179e\"], [0.4444444444444444, \"#bd3786\"], [0.5555555555555556, \"#d8576b\"], [0.6666666666666666, \"#ed7953\"], [0.7777777777777778, \"#fb9f3a\"], [0.8888888888888888, \"#fdca26\"], [1.0, \"#f0f921\"]], \"type\": \"histogram2d\"}], \"histogram2dcontour\": [{\"colorbar\": {\"outlinewidth\": 0, \"ticks\": \"\"}, \"colorscale\": [[0.0, \"#0d0887\"], [0.1111111111111111, \"#46039f\"], [0.2222222222222222, \"#7201a8\"], [0.3333333333333333, \"#9c179e\"], [0.4444444444444444, \"#bd3786\"], [0.5555555555555556, \"#d8576b\"], [0.6666666666666666, \"#ed7953\"], [0.7777777777777778, \"#fb9f3a\"], [0.8888888888888888, \"#fdca26\"], [1.0, \"#f0f921\"]], \"type\": \"histogram2dcontour\"}], \"mesh3d\": [{\"colorbar\": {\"outlinewidth\": 0, \"ticks\": \"\"}, \"type\": \"mesh3d\"}], \"parcoords\": [{\"line\": {\"colorbar\": {\"outlinewidth\": 0, \"ticks\": \"\"}}, \"type\": \"parcoords\"}], \"pie\": [{\"automargin\": true, \"type\": \"pie\"}], \"scatter\": [{\"marker\": {\"colorbar\": {\"outlinewidth\": 0, \"ticks\": \"\"}}, \"type\": \"scatter\"}], \"scatter3d\": [{\"line\": {\"colorbar\": {\"outlinewidth\": 0, \"ticks\": \"\"}}, \"marker\": {\"colorbar\": {\"outlinewidth\": 0, \"ticks\": \"\"}}, \"type\": \"scatter3d\"}], \"scattercarpet\": [{\"marker\": {\"colorbar\": {\"outlinewidth\": 0, \"ticks\": \"\"}}, \"type\": \"scattercarpet\"}], \"scattergeo\": [{\"marker\": {\"colorbar\": {\"outlinewidth\": 0, \"ticks\": \"\"}}, \"type\": \"scattergeo\"}], \"scattergl\": [{\"marker\": {\"colorbar\": {\"outlinewidth\": 0, \"ticks\": \"\"}}, \"type\": \"scattergl\"}], \"scattermapbox\": [{\"marker\": {\"colorbar\": {\"outlinewidth\": 0, \"ticks\": \"\"}}, \"type\": \"scattermapbox\"}], \"scatterpolar\": [{\"marker\": {\"colorbar\": {\"outlinewidth\": 0, \"ticks\": \"\"}}, \"type\": \"scatterpolar\"}], \"scatterpolargl\": [{\"marker\": {\"colorbar\": {\"outlinewidth\": 0, \"ticks\": \"\"}}, \"type\": \"scatterpolargl\"}], \"scatterternary\": [{\"marker\": {\"colorbar\": {\"outlinewidth\": 0, \"ticks\": \"\"}}, \"type\": \"scatterternary\"}], \"surface\": [{\"colorbar\": {\"outlinewidth\": 0, \"ticks\": \"\"}, \"colorscale\": [[0.0, \"#0d0887\"], [0.1111111111111111, \"#46039f\"], [0.2222222222222222, \"#7201a8\"], [0.3333333333333333, \"#9c179e\"], [0.4444444444444444, \"#bd3786\"], [0.5555555555555556, \"#d8576b\"], [0.6666666666666666, \"#ed7953\"], [0.7777777777777778, \"#fb9f3a\"], [0.8888888888888888, \"#fdca26\"], [1.0, \"#f0f921\"]], \"type\": \"surface\"}], \"table\": [{\"cells\": {\"fill\": {\"color\": \"#EBF0F8\"}, \"line\": {\"color\": \"white\"}}, \"header\": {\"fill\": {\"color\": \"#C8D4E3\"}, \"line\": {\"color\": \"white\"}}, \"type\": \"table\"}]}, \"layout\": {\"annotationdefaults\": {\"arrowcolor\": \"#2a3f5f\", \"arrowhead\": 0, \"arrowwidth\": 1}, \"coloraxis\": {\"colorbar\": {\"outlinewidth\": 0, \"ticks\": \"\"}}, \"colorscale\": {\"diverging\": [[0, \"#8e0152\"], [0.1, \"#c51b7d\"], [0.2, \"#de77ae\"], [0.3, \"#f1b6da\"], [0.4, \"#fde0ef\"], [0.5, \"#f7f7f7\"], [0.6, \"#e6f5d0\"], [0.7, \"#b8e186\"], [0.8, \"#7fbc41\"], [0.9, \"#4d9221\"], [1, \"#276419\"]], \"sequential\": [[0.0, \"#0d0887\"], [0.1111111111111111, \"#46039f\"], [0.2222222222222222, \"#7201a8\"], [0.3333333333333333, \"#9c179e\"], [0.4444444444444444, \"#bd3786\"], [0.5555555555555556, \"#d8576b\"], [0.6666666666666666, \"#ed7953\"], [0.7777777777777778, \"#fb9f3a\"], [0.8888888888888888, \"#fdca26\"], [1.0, \"#f0f921\"]], \"sequentialminus\": [[0.0, \"#0d0887\"], [0.1111111111111111, \"#46039f\"], [0.2222222222222222, \"#7201a8\"], [0.3333333333333333, \"#9c179e\"], [0.4444444444444444, \"#bd3786\"], [0.5555555555555556, \"#d8576b\"], [0.6666666666666666, \"#ed7953\"], [0.7777777777777778, \"#fb9f3a\"], [0.8888888888888888, \"#fdca26\"], [1.0, \"#f0f921\"]]}, \"colorway\": [\"#636efa\", \"#EF553B\", \"#00cc96\", \"#ab63fa\", \"#FFA15A\", \"#19d3f3\", \"#FF6692\", \"#B6E880\", \"#FF97FF\", \"#FECB52\"], \"font\": {\"color\": \"#2a3f5f\"}, \"geo\": {\"bgcolor\": \"white\", \"lakecolor\": \"white\", \"landcolor\": \"#E5ECF6\", \"showlakes\": true, \"showland\": true, \"subunitcolor\": \"white\"}, \"hoverlabel\": {\"align\": \"left\"}, \"hovermode\": \"closest\", \"mapbox\": {\"style\": \"light\"}, \"paper_bgcolor\": \"white\", \"plot_bgcolor\": \"#E5ECF6\", \"polar\": {\"angularaxis\": {\"gridcolor\": \"white\", \"linecolor\": \"white\", \"ticks\": \"\"}, \"bgcolor\": \"#E5ECF6\", \"radialaxis\": {\"gridcolor\": \"white\", \"linecolor\": \"white\", \"ticks\": \"\"}}, \"scene\": {\"xaxis\": {\"backgroundcolor\": \"#E5ECF6\", \"gridcolor\": \"white\", \"gridwidth\": 2, \"linecolor\": \"white\", \"showbackground\": true, \"ticks\": \"\", \"zerolinecolor\": \"white\"}, \"yaxis\": {\"backgroundcolor\": \"#E5ECF6\", \"gridcolor\": \"white\", \"gridwidth\": 2, \"linecolor\": \"white\", \"showbackground\": true, \"ticks\": \"\", \"zerolinecolor\": \"white\"}, \"zaxis\": {\"backgroundcolor\": \"#E5ECF6\", \"gridcolor\": \"white\", \"gridwidth\": 2, \"linecolor\": \"white\", \"showbackground\": true, \"ticks\": \"\", \"zerolinecolor\": \"white\"}}, \"shapedefaults\": {\"line\": {\"color\": \"#2a3f5f\"}}, \"ternary\": {\"aaxis\": {\"gridcolor\": \"white\", \"linecolor\": \"white\", \"ticks\": \"\"}, \"baxis\": {\"gridcolor\": \"white\", \"linecolor\": \"white\", \"ticks\": \"\"}, \"bgcolor\": \"#E5ECF6\", \"caxis\": {\"gridcolor\": \"white\", \"linecolor\": \"white\", \"ticks\": \"\"}}, \"title\": {\"x\": 0.05}, \"xaxis\": {\"automargin\": true, \"gridcolor\": \"white\", \"linecolor\": \"white\", \"ticks\": \"\", \"title\": {\"standoff\": 15}, \"zerolinecolor\": \"white\", \"zerolinewidth\": 2}, \"yaxis\": {\"automargin\": true, \"gridcolor\": \"white\", \"linecolor\": \"white\", \"ticks\": \"\", \"title\": {\"standoff\": 15}, \"zerolinecolor\": \"white\", \"zerolinewidth\": 2}}}, \"xaxis\": {\"anchor\": \"y\", \"domain\": [0.0, 1.0], \"title\": {\"text\": \"# Components\"}}, \"yaxis\": {\"anchor\": \"x\", \"domain\": [0.0, 1.0], \"title\": {\"text\": \"Explained Variance\"}}},\n",
              "                        {\"responsive\": true}\n",
              "                    ).then(function(){\n",
              "                            \n",
              "var gd = document.getElementById('2a83cd45-711a-4ae2-bd84-4aba739cbce4');\n",
              "var x = new MutationObserver(function (mutations, observer) {{\n",
              "        var display = window.getComputedStyle(gd).display;\n",
              "        if (!display || display === 'none') {{\n",
              "            console.log([gd, 'removed!']);\n",
              "            Plotly.purge(gd);\n",
              "            observer.disconnect();\n",
              "        }}\n",
              "}});\n",
              "\n",
              "// Listen for the removal of the full notebook cells\n",
              "var notebookContainer = gd.closest('#notebook-container');\n",
              "if (notebookContainer) {{\n",
              "    x.observe(notebookContainer, {childList: true});\n",
              "}}\n",
              "\n",
              "// Listen for the clearing of the current output cell\n",
              "var outputEl = gd.closest('.output');\n",
              "if (outputEl) {{\n",
              "    x.observe(outputEl, {childList: true});\n",
              "}}\n",
              "\n",
              "                        })\n",
              "                };\n",
              "                \n",
              "            </script>\n",
              "        </div>\n",
              "</body>\n",
              "</html>"
            ]
          },
          "metadata": {
            "tags": []
          }
        }
      ]
    },
    {
      "cell_type": "code",
      "metadata": {
        "colab": {
          "base_uri": "https://localhost:8080/"
        },
        "id": "O2x3z_NqhOs3",
        "outputId": "fa1ba726-194a-40be-abb9-c96e7afb7627"
      },
      "source": [
        "X_pca_rs = PCA(n_components = 8).fit_transform(static_defenses3)\n",
        "X_pca_rs.shape"
      ],
      "execution_count": null,
      "outputs": [
        {
          "output_type": "execute_result",
          "data": {
            "text/plain": [
              "(13055, 8)"
            ]
          },
          "metadata": {
            "tags": []
          },
          "execution_count": 99
        }
      ]
    },
    {
      "cell_type": "code",
      "metadata": {
        "colab": {
          "base_uri": "https://localhost:8080/",
          "height": 206
        },
        "id": "KTWcl41qhOs3",
        "outputId": "9e6a5b9a-7304-41f0-ca78-09c4f39b6974"
      },
      "source": [
        "train_rs = pd.DataFrame(X_pca_rs)\n",
        "train_rs[\"cluster\"] = static_defenses_rs[\"cluster\"].values\n",
        "train_rs[\"playResult\"] = static_defenses_rs[\"playResult\"].values\n",
        "train_rs.head()"
      ],
      "execution_count": null,
      "outputs": [
        {
          "output_type": "execute_result",
          "data": {
            "text/html": [
              "<div>\n",
              "<style scoped>\n",
              "    .dataframe tbody tr th:only-of-type {\n",
              "        vertical-align: middle;\n",
              "    }\n",
              "\n",
              "    .dataframe tbody tr th {\n",
              "        vertical-align: top;\n",
              "    }\n",
              "\n",
              "    .dataframe thead th {\n",
              "        text-align: right;\n",
              "    }\n",
              "</style>\n",
              "<table border=\"1\" class=\"dataframe\">\n",
              "  <thead>\n",
              "    <tr style=\"text-align: right;\">\n",
              "      <th></th>\n",
              "      <th>0</th>\n",
              "      <th>1</th>\n",
              "      <th>2</th>\n",
              "      <th>3</th>\n",
              "      <th>4</th>\n",
              "      <th>5</th>\n",
              "      <th>6</th>\n",
              "      <th>7</th>\n",
              "      <th>cluster</th>\n",
              "      <th>playResult</th>\n",
              "    </tr>\n",
              "  </thead>\n",
              "  <tbody>\n",
              "    <tr>\n",
              "      <th>0</th>\n",
              "      <td>-3.086540</td>\n",
              "      <td>-1.245079</td>\n",
              "      <td>0.775700</td>\n",
              "      <td>-1.588382</td>\n",
              "      <td>-0.322694</td>\n",
              "      <td>-1.144379</td>\n",
              "      <td>-1.030578</td>\n",
              "      <td>-1.295211</td>\n",
              "      <td>0</td>\n",
              "      <td>10</td>\n",
              "    </tr>\n",
              "    <tr>\n",
              "      <th>1</th>\n",
              "      <td>-2.772962</td>\n",
              "      <td>-1.547817</td>\n",
              "      <td>0.375283</td>\n",
              "      <td>-1.358169</td>\n",
              "      <td>-0.976733</td>\n",
              "      <td>-0.929058</td>\n",
              "      <td>0.919315</td>\n",
              "      <td>-0.066047</td>\n",
              "      <td>0</td>\n",
              "      <td>0</td>\n",
              "    </tr>\n",
              "    <tr>\n",
              "      <th>2</th>\n",
              "      <td>-3.498090</td>\n",
              "      <td>-0.020386</td>\n",
              "      <td>-1.007403</td>\n",
              "      <td>-1.610834</td>\n",
              "      <td>-1.709207</td>\n",
              "      <td>2.113304</td>\n",
              "      <td>-1.675500</td>\n",
              "      <td>-0.445066</td>\n",
              "      <td>0</td>\n",
              "      <td>0</td>\n",
              "    </tr>\n",
              "    <tr>\n",
              "      <th>3</th>\n",
              "      <td>-3.008134</td>\n",
              "      <td>-1.703868</td>\n",
              "      <td>1.541688</td>\n",
              "      <td>0.843385</td>\n",
              "      <td>0.263909</td>\n",
              "      <td>-2.112420</td>\n",
              "      <td>-1.214189</td>\n",
              "      <td>-0.445794</td>\n",
              "      <td>0</td>\n",
              "      <td>4</td>\n",
              "    </tr>\n",
              "    <tr>\n",
              "      <th>4</th>\n",
              "      <td>-3.542413</td>\n",
              "      <td>-0.924250</td>\n",
              "      <td>0.180198</td>\n",
              "      <td>0.599851</td>\n",
              "      <td>-0.141021</td>\n",
              "      <td>1.632405</td>\n",
              "      <td>-0.021655</td>\n",
              "      <td>-0.785646</td>\n",
              "      <td>0</td>\n",
              "      <td>0</td>\n",
              "    </tr>\n",
              "  </tbody>\n",
              "</table>\n",
              "</div>"
            ],
            "text/plain": [
              "          0         1         2         3         4         5         6  \\\n",
              "0 -3.086540 -1.245079  0.775700 -1.588382 -0.322694 -1.144379 -1.030578   \n",
              "1 -2.772962 -1.547817  0.375283 -1.358169 -0.976733 -0.929058  0.919315   \n",
              "2 -3.498090 -0.020386 -1.007403 -1.610834 -1.709207  2.113304 -1.675500   \n",
              "3 -3.008134 -1.703868  1.541688  0.843385  0.263909 -2.112420 -1.214189   \n",
              "4 -3.542413 -0.924250  0.180198  0.599851 -0.141021  1.632405 -0.021655   \n",
              "\n",
              "          7  cluster  playResult  \n",
              "0 -1.295211        0          10  \n",
              "1 -0.066047        0           0  \n",
              "2 -0.445066        0           0  \n",
              "3 -0.445794        0           4  \n",
              "4 -0.785646        0           0  "
            ]
          },
          "metadata": {
            "tags": []
          },
          "execution_count": 100
        }
      ]
    },
    {
      "cell_type": "markdown",
      "metadata": {
        "id": "ZwoTTOAMhOs3"
      },
      "source": [
        "###KNN"
      ]
    },
    {
      "cell_type": "code",
      "metadata": {
        "colab": {
          "base_uri": "https://localhost:8080/",
          "height": 300
        },
        "id": "J-HPyRBOhOs4",
        "outputId": "7e9e2b2a-5b41-4027-994e-a7a069e4c796"
      },
      "source": [
        "from sklearn import neighbors\n",
        "from sklearn.model_selection import KFold\n",
        "import matplotlib.pyplot as plt\n",
        "from sklearn.metrics import mean_absolute_error\n",
        "\n",
        "cv = KFold(n_splits = 10, shuffle = False) #\n",
        "\n",
        "\n",
        "for i, weights in enumerate(['uniform', 'distance']):\n",
        "   total_scores = []\n",
        "   for n_neighbors in range(1,30):\n",
        "       fold_accuracy = []\n",
        "       knn = neighbors.KNeighborsRegressor(n_neighbors, weights=weights)\n",
        "       # verificar cada uno de los modelos con validación cruzada.\n",
        "       for train_fold, test_fold in cv.split(train_rs):\n",
        "          # División train test aleatoria\n",
        "          f_train = train_ss.loc[train_fold]\n",
        "          f_test = train_ss.loc[test_fold]\n",
        "          # entrenamiento y ejecución del modelo\n",
        "          knn.fit( X = f_train.drop([\"playResult\"],axis=1), y = f_train['playResult'])\n",
        "          y_pred = knn.predict(X = f_test.drop(['playResult'], axis = 1))\n",
        "          # evaluación del modelo\n",
        "          mae = mean_absolute_error(f_test['playResult'], y_pred)\n",
        "          fold_accuracy.append(mae)\n",
        "       total_scores.append(sum(fold_accuracy)/len(fold_accuracy))\n",
        "   \n",
        "   plt.plot(range(1,len(total_scores)+1), total_scores, \n",
        "             marker='o', label=weights)\n",
        "   print ('Min Value ' +  weights + \" : \" +  str(min(total_scores)) +\" (\" + str(np.argmin(total_scores) + 1) + \")\")\n",
        "   plt.ylabel('MAE')      \n",
        "    \n",
        "\n",
        "plt.legend()\n",
        "plt.show() \n",
        "\n"
      ],
      "execution_count": null,
      "outputs": [
        {
          "output_type": "stream",
          "text": [
            "Min Value uniform : 4.377754751235039 (29)\n",
            "Min Value distance : 4.378160734828406 (29)\n"
          ],
          "name": "stdout"
        },
        {
          "output_type": "display_data",
          "data": {
            "image/png": "[encoded data removed]",
            "text/plain": [
              "<Figure size 432x288 with 1 Axes>"
            ]
          },
          "metadata": {
            "tags": [],
            "needs_background": "light"
          }
        }
      ]
    },
    {
      "cell_type": "code",
      "metadata": {
        "id": "IDZrXtqchOs4"
      },
      "source": [
        "X_train, X_test, y_train, y_test = train_test_split(train_rs.drop([\"playResult\"],axis=1), train_rs[\"playResult\"], test_size=0.2)"
      ],
      "execution_count": null,
      "outputs": []
    },
    {
      "cell_type": "code",
      "metadata": {
        "cellView": "both",
        "colab": {
          "base_uri": "https://localhost:8080/"
        },
        "id": "MNgxfU54hOs4",
        "outputId": "feb34907-6805-4835-d981-247797c8bd09"
      },
      "source": [
        "# constructor\n",
        "n_neighbors = 29\n",
        "weights = 'uniform'\n",
        "knn = neighbors.KNeighborsRegressor(n_neighbors= n_neighbors, weights=weights) \n",
        "# fit and predict\n",
        "\n",
        "knn.fit( X = X_train, y = y_train)\n",
        "y_pred = knn.predict(X = X_test)\n",
        "mae = mean_absolute_error(y_test,y_pred)\n",
        "print ('MAE', mae)"
      ],
      "execution_count": null,
      "outputs": [
        {
          "output_type": "stream",
          "text": [
            "MAE 4.381766795652346\n"
          ],
          "name": "stdout"
        }
      ]
    },
    {
      "cell_type": "code",
      "metadata": {
        "colab": {
          "base_uri": "https://localhost:8080/",
          "height": 370
        },
        "id": "emRkAHuchOs5",
        "outputId": "a042d6cf-1ecd-45f5-9eb8-8fef68b435dd"
      },
      "source": [
        "from sklearn.metrics import mean_absolute_error\n",
        "\n",
        "                    \n",
        "# x axis for plotting\n",
        "import numpy as np\n",
        "xx = np.stack(i for i in range(y_test.shape[0]))\n",
        "plt.plot(xx, y_test, c='r', label='data')\n",
        "#plt.plot(xx, y, c='k', label='data')\n",
        "plt.plot(xx, y_pred, c='g', label='prediction')\n",
        "plt.axis('tight')\n",
        "plt.legend()\n",
        "plt.title(\"KNeighborsRegressor (k = %i, weights = '%s')\" % (n_neighbors,\n",
        "                                                                weights))\n",
        "\n",
        "plt.show()"
      ],
      "execution_count": null,
      "outputs": [
        {
          "output_type": "stream",
          "text": [
            "/usr/local/lib/python3.7/dist-packages/IPython/core/interactiveshell.py:2822: FutureWarning:\n",
            "\n",
            "arrays to stack must be passed as a \"sequence\" type such as list or tuple. Support for non-sequence iterables such as generators is deprecated as of NumPy 1.16 and will raise an error in the future.\n",
            "\n"
          ],
          "name": "stderr"
        },
        {
          "output_type": "display_data",
          "data": {
            "image/png": "[encoded data removed]",
            "text/plain": [
              "<Figure size 432x288 with 1 Axes>"
            ]
          },
          "metadata": {
            "tags": [],
            "needs_background": "light"
          }
        }
      ]
    },
    {
      "cell_type": "markdown",
      "metadata": {
        "id": "q3237ofFhOs5"
      },
      "source": [
        "###Decision Trees"
      ]
    },
    {
      "cell_type": "code",
      "metadata": {
        "colab": {
          "base_uri": "https://localhost:8080/",
          "height": 300
        },
        "id": "kmpiyQ6_hOs5",
        "outputId": "d501f693-5580-4999-b089-31de546eb838"
      },
      "source": [
        "from sklearn.tree import DecisionTreeRegressor\n",
        "from sklearn.model_selection import KFold\n",
        "import matplotlib.pyplot as plt\n",
        "from sklearn.metrics import mean_absolute_error\n",
        "import numpy as np\n",
        "\n",
        "cv = KFold(n_splits = 10, shuffle = False) #\n",
        "#  https://scikit-learn.org/stable/modules/generated/sklearn.model_selection.TimeSeriesSplit.html \n",
        "\n",
        "\n",
        "total_scores = []\n",
        "for i in range(1,30):\n",
        "    fold_accuracy = []\n",
        "    dt = DecisionTreeRegressor(max_depth=i)\n",
        "    # verificar cada uno de los modelos con validación cruzada.\n",
        "    for train_fold, test_fold in cv.split(train_rs):\n",
        "      # División train test aleatoria\n",
        "      f_train = train_ss.loc[train_fold]\n",
        "      f_test = train_ss.loc[test_fold]\n",
        "      # entrenamiento y ejecución del modelo\n",
        "      dt.fit( X = f_train.drop(['playResult'], axis=1), \n",
        "                            y = f_train['playResult'])\n",
        "      y_pred = dt.predict(X = f_test.drop(['playResult'], axis = 1))\n",
        "      # evaluación del modelo\n",
        "      mae = mean_absolute_error(f_test['playResult'], y_pred)\n",
        "      fold_accuracy.append(mae)\n",
        "    total_scores.append(sum(fold_accuracy)/len(fold_accuracy))\n",
        "   \n",
        "plt.plot(range(1,len(total_scores)+1), total_scores, \n",
        "           marker='o')\n",
        "print ('Min Value  :' +  str(min(total_scores)) +' (' + str(np.argmin(total_scores) + 1) + ')')\n",
        "plt.ylabel('MAE')      \n",
        "    \n",
        "\n",
        "plt.legend()\n",
        "plt.show() "
      ],
      "execution_count": null,
      "outputs": [
        {
          "output_type": "stream",
          "text": [
            "No handles with labels found to put in legend.\n"
          ],
          "name": "stderr"
        },
        {
          "output_type": "stream",
          "text": [
            "Min Value  :4.352378349329421 (3)\n"
          ],
          "name": "stdout"
        },
        {
          "output_type": "display_data",
          "data": {
            "image/png": "[encoded data removed]",
            "text/plain": [
              "<Figure size 432x288 with 1 Axes>"
            ]
          },
          "metadata": {
            "tags": [],
            "needs_background": "light"
          }
        }
      ]
    },
    {
      "cell_type": "code",
      "metadata": {
        "id": "oooKaDDPhOs6"
      },
      "source": [
        "X_train, X_test, y_train, y_test = train_test_split(train_rs.drop([\"playResult\"],axis=1),train_rs[\"playResult\"],test_size=0.2)"
      ],
      "execution_count": null,
      "outputs": []
    },
    {
      "cell_type": "code",
      "metadata": {
        "colab": {
          "base_uri": "https://localhost:8080/"
        },
        "id": "gAAU8zdyhOs6",
        "outputId": "6c6f9dcd-fbce-48be-a604-05b124eb91e9"
      },
      "source": [
        "regressor = DecisionTreeRegressor(max_depth=5)\n",
        "regressor.fit( X = X_train, y = y_train)\n",
        "y_pred = regressor.predict(X = X_test)\n",
        "mae = mean_absolute_error(y_test, y_pred)\n",
        "print ('MAE', mae)\n"
      ],
      "execution_count": null,
      "outputs": [
        {
          "output_type": "stream",
          "text": [
            "MAE 4.3345387442252905\n"
          ],
          "name": "stdout"
        }
      ]
    },
    {
      "cell_type": "code",
      "metadata": {
        "colab": {
          "base_uri": "https://localhost:8080/",
          "height": 370
        },
        "id": "yVcAULZyhOs6",
        "outputId": "2de62264-34d4-4732-e487-59b94aa89613"
      },
      "source": [
        "from sklearn.metrics import mean_absolute_error\n",
        "\n",
        "                    \n",
        "# x axis for plotting\n",
        "import numpy as np\n",
        "xx = np.stack(i for i in range(y_test.shape[0]))\n",
        "plt.plot(xx, y_test, c='r', label='data')\n",
        "#plt.plot(xx, y, c='k', label='data')\n",
        "plt.plot(xx, y_pred, c='g', label='prediction')\n",
        "plt.axis('tight')\n",
        "plt.legend()\n",
        "plt.title(\"DecisionTree\")\n",
        "\n",
        "plt.show()"
      ],
      "execution_count": null,
      "outputs": [
        {
          "output_type": "stream",
          "text": [
            "/usr/local/lib/python3.7/dist-packages/IPython/core/interactiveshell.py:2822: FutureWarning:\n",
            "\n",
            "arrays to stack must be passed as a \"sequence\" type such as list or tuple. Support for non-sequence iterables such as generators is deprecated as of NumPy 1.16 and will raise an error in the future.\n",
            "\n"
          ],
          "name": "stderr"
        },
        {
          "output_type": "display_data",
          "data": {
            "image/png": "[encoded data removed]",
            "text/plain": [
              "<Figure size 432x288 with 1 Axes>"
            ]
          },
          "metadata": {
            "tags": [],
            "needs_background": "light"
          }
        }
      ]
    },
    {
      "cell_type": "markdown",
      "metadata": {
        "id": "eC8XDD-4hOs7"
      },
      "source": [
        "###RamdomForest"
      ]
    },
    {
      "cell_type": "code",
      "metadata": {
        "id": "5GZT8ktvhOs7"
      },
      "source": [
        "X_train, X_test, y_train, y_test = train_test_split(train_mms.drop([\"playResult\"],axis=1),train_mms[\"playResult\"],test_size=0.2)"
      ],
      "execution_count": null,
      "outputs": []
    },
    {
      "cell_type": "code",
      "metadata": {
        "colab": {
          "base_uri": "https://localhost:8080/"
        },
        "id": "PxsMsUOShOs7",
        "outputId": "85b9a6e1-6c99-47a1-af7b-57a52b50f22f"
      },
      "source": [
        "from sklearn.ensemble import RandomForestRegressor\n",
        "\n",
        "#1.1 Model Parametrization \n",
        "regressor = RandomForestRegressor(n_estimators= 100, max_depth = 10, criterion='mae', random_state=0)\n",
        "#1.2 Model construction\n",
        "regressor.fit(X_train, y_train)\n",
        "\n",
        "# Test\n",
        "y_pred = regressor.predict(X_test)\n",
        "\n",
        "# metrics calculation \n",
        "from sklearn.metrics import mean_absolute_error\n",
        "mae = mean_absolute_error(y_test,y_pred)\n",
        "print (\"Error Measure \",  mae)"
      ],
      "execution_count": null,
      "outputs": [
        {
          "output_type": "stream",
          "text": [
            "Error Measure  7.682313432835821\n"
          ],
          "name": "stdout"
        }
      ]
    },
    {
      "cell_type": "code",
      "metadata": {
        "colab": {
          "base_uri": "https://localhost:8080/",
          "height": 370
        },
        "id": "uNdhuDO1hOs7",
        "outputId": "4e9b5f39-5bda-4e0b-b94b-31fd5267c5eb"
      },
      "source": [
        "#plt.subplot(2, 1, i + 1)\n",
        "# x axis for plotting\n",
        "import matplotlib.pyplot as plt\n",
        "import numpy as np\n",
        "\n",
        "xx = np.stack(i for i in range(len(y_test)))\n",
        "plt.scatter(xx, y_test, c='r', label='data')\n",
        "plt.plot(xx, y_pred, c='g', label='prediction')\n",
        "plt.axis('tight')\n",
        "plt.legend()\n",
        "plt.title(\"RandomForests Regressor\")\n",
        "\n",
        "plt.show()"
      ],
      "execution_count": null,
      "outputs": [
        {
          "output_type": "stream",
          "text": [
            "/usr/local/lib/python3.7/dist-packages/IPython/core/interactiveshell.py:2822: FutureWarning:\n",
            "\n",
            "arrays to stack must be passed as a \"sequence\" type such as list or tuple. Support for non-sequence iterables such as generators is deprecated as of NumPy 1.16 and will raise an error in the future.\n",
            "\n"
          ],
          "name": "stderr"
        },
        {
          "output_type": "display_data",
          "data": {
            "image/png": "[encoded data removed]",
            "text/plain": [
              "<Figure size 432x288 with 1 Axes>"
            ]
          },
          "metadata": {
            "tags": [],
            "needs_background": "light"
          }
        }
      ]
    },
    {
      "cell_type": "code",
      "metadata": {
        "id": "GmC-R1iihOs8"
      },
      "source": [
        ""
      ],
      "execution_count": null,
      "outputs": []
    },
    {
      "cell_type": "markdown",
      "metadata": {
        "id": "SczduIZthF4w"
      },
      "source": [
        "#PowerTransformer"
      ]
    }
  ]
}