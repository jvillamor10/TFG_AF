{
  "nbformat": 4,
  "nbformat_minor": 0,
  "metadata": {
    "colab": {
      "name": "supervised_learning_yards_classification.ipynb",
      "provenance": [],
      "toc_visible": true
    },
    "kernelspec": {
      "name": "python3",
      "display_name": "Python 3"
    },
    "language_info": {
      "name": "python"
    }
  },
  "cells": [
    {
      "cell_type": "code",
      "metadata": {
        "id": "VOvyG1C3AW7L"
      },
      "source": [
        "import pandas as pd\n",
        "import pickle\n",
        "\n",
        "from sklearn import preprocessing\n",
        "from sklearn.decomposition import PCA\n",
        "from sklearn.cluster import KMeans\n",
        "from sklearn.cluster import DBSCAN\n",
        "from sklearn import metrics\n",
        "import sklearn.neighbors\n",
        "from sklearn.neighbors import kneighbors_graph\n",
        "from sklearn.model_selection import train_test_split\n",
        "\n",
        "import plotly.express as px\n",
        "import matplotlib.pyplot as plt\n",
        "import numpy as np\n",
        "\n",
        "import seaborn as sns"
      ],
      "execution_count": null,
      "outputs": []
    },
    {
      "cell_type": "code",
      "metadata": {
        "id": "0fkbq2p-A4mM"
      },
      "source": [
        "pd.set_option('display.max_columns',None)"
      ],
      "execution_count": null,
      "outputs": []
    },
    {
      "cell_type": "code",
      "metadata": {
        "id": "F4gL6h3IA48V",
        "colab": {
          "resources": {
            "http://localhost:8080/nbextensions/google.colab/files.js": {
              "data": "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",
              "ok": true,
              "headers": [
                [
                  "content-type",
                  "application/javascript"
                ]
              ],
              "status": 200,
              "status_text": "OK"
            }
          },
          "base_uri": "https://localhost:8080/",
          "height": 94
        },
        "outputId": "56af6037-9fb9-49ec-c41a-fa523de6aab6"
      },
      "source": [
        "# 0.1 load data from file\n",
        "from google.colab import files\n",
        "import io\n",
        "\n",
        "uploaded = files.upload()\n",
        "\n",
        "for fn in uploaded.keys():\n",
        "  print('User uploaded file \"{name}\" with length {length} bytes'.format(\n",
        "      name=fn, length=len(uploaded[fn])))"
      ],
      "execution_count": null,
      "outputs": [
        {
          "output_type": "display_data",
          "data": {
            "text/html": [
              "\n",
              "     <input type=\"file\" id=\"files-e29f5d0d-ed90-4ec1-b090-1fc35aeb66eb\" name=\"files[]\" multiple disabled\n",
              "        style=\"border:none\" />\n",
              "     <output id=\"result-e29f5d0d-ed90-4ec1-b090-1fc35aeb66eb\">\n",
              "      Upload widget is only available when the cell has been executed in the\n",
              "      current browser session. Please rerun this cell to enable.\n",
              "      </output>\n",
              "      <script src=\"/nbextensions/google.colab/files.js\"></script> "
            ],
            "text/plain": [
              "<IPython.core.display.HTML object>"
            ]
          },
          "metadata": {
            "tags": []
          }
        },
        {
          "output_type": "stream",
          "text": [
            "Saving static_defenses_yards.csv to static_defenses_yards.csv\n",
            "User uploaded file \"static_defenses_yards.csv\" with length 4999907 bytes\n"
          ],
          "name": "stdout"
        }
      ]
    },
    {
      "cell_type": "code",
      "metadata": {
        "id": "S-S9AdajA_nK",
        "colab": {
          "base_uri": "https://localhost:8080/",
          "height": 275
        },
        "outputId": "b2f99509-c2b3-48a9-b801-34e2780a6112"
      },
      "source": [
        "static_defenses = pd.read_csv(io.StringIO(uploaded[fn].decode('utf-8')),index_col=\"id\")\n",
        "static_defenses.head()"
      ],
      "execution_count": null,
      "outputs": [
        {
          "output_type": "execute_result",
          "data": {
            "text/html": [
              "<div>\n",
              "<style scoped>\n",
              "    .dataframe tbody tr th:only-of-type {\n",
              "        vertical-align: middle;\n",
              "    }\n",
              "\n",
              "    .dataframe tbody tr th {\n",
              "        vertical-align: top;\n",
              "    }\n",
              "\n",
              "    .dataframe thead th {\n",
              "        text-align: right;\n",
              "    }\n",
              "</style>\n",
              "<table border=\"1\" class=\"dataframe\">\n",
              "  <thead>\n",
              "    <tr style=\"text-align: right;\">\n",
              "      <th></th>\n",
              "      <th>Unnamed: 0</th>\n",
              "      <th>defensivelinezonePlayers</th>\n",
              "      <th>deepzonePlayers</th>\n",
              "      <th>hookzonePlayers</th>\n",
              "      <th>curlzonePlayers</th>\n",
              "      <th>flatzonePlayers</th>\n",
              "      <th>defenseArea</th>\n",
              "      <th>defenseAreaCoverDefenders</th>\n",
              "      <th>width</th>\n",
              "      <th>height</th>\n",
              "      <th>numberQBs</th>\n",
              "      <th>numberWRs</th>\n",
              "      <th>numberTEs</th>\n",
              "      <th>numberRBs</th>\n",
              "      <th>numberFBs</th>\n",
              "      <th>numberOffensivePlayersAnotherPosition</th>\n",
              "      <th>numberSafeties</th>\n",
              "      <th>numberLBs</th>\n",
              "      <th>numberCBs</th>\n",
              "      <th>strongSide</th>\n",
              "      <th>numberPlayersDefenseStrongSide</th>\n",
              "      <th>numberPlayersDefenseWeakSide</th>\n",
              "      <th>numberPlayersOffenseStrongSide</th>\n",
              "      <th>numberPlayersOffenseWeakSide</th>\n",
              "      <th>differenceOffenseVsDefenseWidth</th>\n",
              "      <th>differenceOffenseVsDefenseStrongSide</th>\n",
              "      <th>differenceOffenseVsDefenseWeakSide</th>\n",
              "      <th>HeightByWeightDeep</th>\n",
              "      <th>HeightByWeightHook</th>\n",
              "      <th>HeightByWeightCurl</th>\n",
              "      <th>HeightByWeightFlat</th>\n",
              "      <th>WeightByArea</th>\n",
              "      <th>density</th>\n",
              "      <th>densityNoLine</th>\n",
              "      <th>densityInsidePoints</th>\n",
              "      <th>densityInsidePointsNoLine</th>\n",
              "      <th>playResult</th>\n",
              "    </tr>\n",
              "    <tr>\n",
              "      <th>id</th>\n",
              "      <th></th>\n",
              "      <th></th>\n",
              "      <th></th>\n",
              "      <th></th>\n",
              "      <th></th>\n",
              "      <th></th>\n",
              "      <th></th>\n",
              "      <th></th>\n",
              "      <th></th>\n",
              "      <th></th>\n",
              "      <th></th>\n",
              "      <th></th>\n",
              "      <th></th>\n",
              "      <th></th>\n",
              "      <th></th>\n",
              "      <th></th>\n",
              "      <th></th>\n",
              "      <th></th>\n",
              "      <th></th>\n",
              "      <th></th>\n",
              "      <th></th>\n",
              "      <th></th>\n",
              "      <th></th>\n",
              "      <th></th>\n",
              "      <th></th>\n",
              "      <th></th>\n",
              "      <th></th>\n",
              "      <th></th>\n",
              "      <th></th>\n",
              "      <th></th>\n",
              "      <th></th>\n",
              "      <th></th>\n",
              "      <th></th>\n",
              "      <th></th>\n",
              "      <th></th>\n",
              "      <th></th>\n",
              "      <th></th>\n",
              "    </tr>\n",
              "  </thead>\n",
              "  <tbody>\n",
              "    <tr>\n",
              "      <th>2018090600:75:1</th>\n",
              "      <td>0</td>\n",
              "      <td>0</td>\n",
              "      <td>1</td>\n",
              "      <td>3</td>\n",
              "      <td>2</td>\n",
              "      <td>1</td>\n",
              "      <td>194.31095</td>\n",
              "      <td>194.31095</td>\n",
              "      <td>22.96</td>\n",
              "      <td>15.25</td>\n",
              "      <td>1</td>\n",
              "      <td>2</td>\n",
              "      <td>1</td>\n",
              "      <td>1</td>\n",
              "      <td>1</td>\n",
              "      <td>0</td>\n",
              "      <td>3</td>\n",
              "      <td>2</td>\n",
              "      <td>2</td>\n",
              "      <td>left</td>\n",
              "      <td>3</td>\n",
              "      <td>4</td>\n",
              "      <td>3</td>\n",
              "      <td>2</td>\n",
              "      <td>-0.63</td>\n",
              "      <td>0</td>\n",
              "      <td>-2</td>\n",
              "      <td>0.020227</td>\n",
              "      <td>0.018643</td>\n",
              "      <td>0.020066</td>\n",
              "      <td>0.021034</td>\n",
              "      <td>3.376032</td>\n",
              "      <td>0.036025</td>\n",
              "      <td>0.036025</td>\n",
              "      <td>6.974268</td>\n",
              "      <td>6.974268</td>\n",
              "      <td>10</td>\n",
              "    </tr>\n",
              "    <tr>\n",
              "      <th>2018090600:146:1</th>\n",
              "      <td>1</td>\n",
              "      <td>0</td>\n",
              "      <td>1</td>\n",
              "      <td>3</td>\n",
              "      <td>2</td>\n",
              "      <td>1</td>\n",
              "      <td>204.17725</td>\n",
              "      <td>204.17725</td>\n",
              "      <td>29.22</td>\n",
              "      <td>12.57</td>\n",
              "      <td>1</td>\n",
              "      <td>3</td>\n",
              "      <td>1</td>\n",
              "      <td>1</td>\n",
              "      <td>0</td>\n",
              "      <td>0</td>\n",
              "      <td>2</td>\n",
              "      <td>2</td>\n",
              "      <td>3</td>\n",
              "      <td>right</td>\n",
              "      <td>3</td>\n",
              "      <td>4</td>\n",
              "      <td>2</td>\n",
              "      <td>3</td>\n",
              "      <td>-1.15</td>\n",
              "      <td>-1</td>\n",
              "      <td>-1</td>\n",
              "      <td>0.020227</td>\n",
              "      <td>0.019228</td>\n",
              "      <td>0.020356</td>\n",
              "      <td>0.020455</td>\n",
              "      <td>3.178611</td>\n",
              "      <td>0.034284</td>\n",
              "      <td>0.034284</td>\n",
              "      <td>6.975511</td>\n",
              "      <td>6.975511</td>\n",
              "      <td>0</td>\n",
              "    </tr>\n",
              "    <tr>\n",
              "      <th>2018090600:168:1</th>\n",
              "      <td>2</td>\n",
              "      <td>0</td>\n",
              "      <td>1</td>\n",
              "      <td>2</td>\n",
              "      <td>2</td>\n",
              "      <td>2</td>\n",
              "      <td>277.65495</td>\n",
              "      <td>277.65495</td>\n",
              "      <td>33.67</td>\n",
              "      <td>15.21</td>\n",
              "      <td>1</td>\n",
              "      <td>2</td>\n",
              "      <td>1</td>\n",
              "      <td>2</td>\n",
              "      <td>0</td>\n",
              "      <td>0</td>\n",
              "      <td>2</td>\n",
              "      <td>2</td>\n",
              "      <td>3</td>\n",
              "      <td>left</td>\n",
              "      <td>5</td>\n",
              "      <td>2</td>\n",
              "      <td>4</td>\n",
              "      <td>1</td>\n",
              "      <td>0.71</td>\n",
              "      <td>-1</td>\n",
              "      <td>-1</td>\n",
              "      <td>0.020227</td>\n",
              "      <td>0.017683</td>\n",
              "      <td>0.020997</td>\n",
              "      <td>0.020745</td>\n",
              "      <td>2.337434</td>\n",
              "      <td>0.025211</td>\n",
              "      <td>0.025211</td>\n",
              "      <td>6.985594</td>\n",
              "      <td>6.985594</td>\n",
              "      <td>0</td>\n",
              "    </tr>\n",
              "    <tr>\n",
              "      <th>2018090600:190:1</th>\n",
              "      <td>3</td>\n",
              "      <td>1</td>\n",
              "      <td>0</td>\n",
              "      <td>2</td>\n",
              "      <td>3</td>\n",
              "      <td>1</td>\n",
              "      <td>189.16960</td>\n",
              "      <td>165.05520</td>\n",
              "      <td>26.42</td>\n",
              "      <td>12.91</td>\n",
              "      <td>1</td>\n",
              "      <td>3</td>\n",
              "      <td>1</td>\n",
              "      <td>1</td>\n",
              "      <td>0</td>\n",
              "      <td>0</td>\n",
              "      <td>3</td>\n",
              "      <td>1</td>\n",
              "      <td>3</td>\n",
              "      <td>right</td>\n",
              "      <td>2</td>\n",
              "      <td>5</td>\n",
              "      <td>2</td>\n",
              "      <td>3</td>\n",
              "      <td>-3.11</td>\n",
              "      <td>0</td>\n",
              "      <td>-2</td>\n",
              "      <td>0.000000</td>\n",
              "      <td>0.020120</td>\n",
              "      <td>0.021193</td>\n",
              "      <td>0.020455</td>\n",
              "      <td>3.192871</td>\n",
              "      <td>0.037004</td>\n",
              "      <td>0.036351</td>\n",
              "      <td>6.973569</td>\n",
              "      <td>6.969707</td>\n",
              "      <td>33</td>\n",
              "    </tr>\n",
              "    <tr>\n",
              "      <th>2018090600:320:1</th>\n",
              "      <td>5</td>\n",
              "      <td>1</td>\n",
              "      <td>0</td>\n",
              "      <td>3</td>\n",
              "      <td>3</td>\n",
              "      <td>1</td>\n",
              "      <td>187.12510</td>\n",
              "      <td>153.20020</td>\n",
              "      <td>27.80</td>\n",
              "      <td>13.29</td>\n",
              "      <td>1</td>\n",
              "      <td>3</td>\n",
              "      <td>1</td>\n",
              "      <td>1</td>\n",
              "      <td>0</td>\n",
              "      <td>0</td>\n",
              "      <td>2</td>\n",
              "      <td>3</td>\n",
              "      <td>3</td>\n",
              "      <td>left</td>\n",
              "      <td>3</td>\n",
              "      <td>5</td>\n",
              "      <td>3</td>\n",
              "      <td>2</td>\n",
              "      <td>-4.82</td>\n",
              "      <td>0</td>\n",
              "      <td>-3</td>\n",
              "      <td>0.000000</td>\n",
              "      <td>0.018995</td>\n",
              "      <td>0.019537</td>\n",
              "      <td>0.021279</td>\n",
              "      <td>4.281979</td>\n",
              "      <td>0.042752</td>\n",
              "      <td>0.045692</td>\n",
              "      <td>7.978624</td>\n",
              "      <td>7.980418</td>\n",
              "      <td>4</td>\n",
              "    </tr>\n",
              "  </tbody>\n",
              "</table>\n",
              "</div>"
            ],
            "text/plain": [
              "                  Unnamed: 0  defensivelinezonePlayers  deepzonePlayers  \\\n",
              "id                                                                        \n",
              "2018090600:75:1            0                         0                1   \n",
              "2018090600:146:1           1                         0                1   \n",
              "2018090600:168:1           2                         0                1   \n",
              "2018090600:190:1           3                         1                0   \n",
              "2018090600:320:1           5                         1                0   \n",
              "\n",
              "                  hookzonePlayers  curlzonePlayers  flatzonePlayers  \\\n",
              "id                                                                    \n",
              "2018090600:75:1                 3                2                1   \n",
              "2018090600:146:1                3                2                1   \n",
              "2018090600:168:1                2                2                2   \n",
              "2018090600:190:1                2                3                1   \n",
              "2018090600:320:1                3                3                1   \n",
              "\n",
              "                  defenseArea  defenseAreaCoverDefenders  width  height  \\\n",
              "id                                                                        \n",
              "2018090600:75:1     194.31095                  194.31095  22.96   15.25   \n",
              "2018090600:146:1    204.17725                  204.17725  29.22   12.57   \n",
              "2018090600:168:1    277.65495                  277.65495  33.67   15.21   \n",
              "2018090600:190:1    189.16960                  165.05520  26.42   12.91   \n",
              "2018090600:320:1    187.12510                  153.20020  27.80   13.29   \n",
              "\n",
              "                  numberQBs  numberWRs  numberTEs  numberRBs  numberFBs  \\\n",
              "id                                                                        \n",
              "2018090600:75:1           1          2          1          1          1   \n",
              "2018090600:146:1          1          3          1          1          0   \n",
              "2018090600:168:1          1          2          1          2          0   \n",
              "2018090600:190:1          1          3          1          1          0   \n",
              "2018090600:320:1          1          3          1          1          0   \n",
              "\n",
              "                  numberOffensivePlayersAnotherPosition  numberSafeties  \\\n",
              "id                                                                        \n",
              "2018090600:75:1                                       0               3   \n",
              "2018090600:146:1                                      0               2   \n",
              "2018090600:168:1                                      0               2   \n",
              "2018090600:190:1                                      0               3   \n",
              "2018090600:320:1                                      0               2   \n",
              "\n",
              "                  numberLBs  numberCBs strongSide  \\\n",
              "id                                                  \n",
              "2018090600:75:1           2          2       left   \n",
              "2018090600:146:1          2          3      right   \n",
              "2018090600:168:1          2          3       left   \n",
              "2018090600:190:1          1          3      right   \n",
              "2018090600:320:1          3          3       left   \n",
              "\n",
              "                  numberPlayersDefenseStrongSide  \\\n",
              "id                                                 \n",
              "2018090600:75:1                                3   \n",
              "2018090600:146:1                               3   \n",
              "2018090600:168:1                               5   \n",
              "2018090600:190:1                               2   \n",
              "2018090600:320:1                               3   \n",
              "\n",
              "                  numberPlayersDefenseWeakSide  \\\n",
              "id                                               \n",
              "2018090600:75:1                              4   \n",
              "2018090600:146:1                             4   \n",
              "2018090600:168:1                             2   \n",
              "2018090600:190:1                             5   \n",
              "2018090600:320:1                             5   \n",
              "\n",
              "                  numberPlayersOffenseStrongSide  \\\n",
              "id                                                 \n",
              "2018090600:75:1                                3   \n",
              "2018090600:146:1                               2   \n",
              "2018090600:168:1                               4   \n",
              "2018090600:190:1                               2   \n",
              "2018090600:320:1                               3   \n",
              "\n",
              "                  numberPlayersOffenseWeakSide  \\\n",
              "id                                               \n",
              "2018090600:75:1                              2   \n",
              "2018090600:146:1                             3   \n",
              "2018090600:168:1                             1   \n",
              "2018090600:190:1                             3   \n",
              "2018090600:320:1                             2   \n",
              "\n",
              "                  differenceOffenseVsDefenseWidth  \\\n",
              "id                                                  \n",
              "2018090600:75:1                             -0.63   \n",
              "2018090600:146:1                            -1.15   \n",
              "2018090600:168:1                             0.71   \n",
              "2018090600:190:1                            -3.11   \n",
              "2018090600:320:1                            -4.82   \n",
              "\n",
              "                  differenceOffenseVsDefenseStrongSide  \\\n",
              "id                                                       \n",
              "2018090600:75:1                                      0   \n",
              "2018090600:146:1                                    -1   \n",
              "2018090600:168:1                                    -1   \n",
              "2018090600:190:1                                     0   \n",
              "2018090600:320:1                                     0   \n",
              "\n",
              "                  differenceOffenseVsDefenseWeakSide  HeightByWeightDeep  \\\n",
              "id                                                                         \n",
              "2018090600:75:1                                   -2            0.020227   \n",
              "2018090600:146:1                                  -1            0.020227   \n",
              "2018090600:168:1                                  -1            0.020227   \n",
              "2018090600:190:1                                  -2            0.000000   \n",
              "2018090600:320:1                                  -3            0.000000   \n",
              "\n",
              "                  HeightByWeightHook  HeightByWeightCurl  HeightByWeightFlat  \\\n",
              "id                                                                             \n",
              "2018090600:75:1             0.018643            0.020066            0.021034   \n",
              "2018090600:146:1            0.019228            0.020356            0.020455   \n",
              "2018090600:168:1            0.017683            0.020997            0.020745   \n",
              "2018090600:190:1            0.020120            0.021193            0.020455   \n",
              "2018090600:320:1            0.018995            0.019537            0.021279   \n",
              "\n",
              "                  WeightByArea   density  densityNoLine  densityInsidePoints  \\\n",
              "id                                                                             \n",
              "2018090600:75:1       3.376032  0.036025       0.036025             6.974268   \n",
              "2018090600:146:1      3.178611  0.034284       0.034284             6.975511   \n",
              "2018090600:168:1      2.337434  0.025211       0.025211             6.985594   \n",
              "2018090600:190:1      3.192871  0.037004       0.036351             6.973569   \n",
              "2018090600:320:1      4.281979  0.042752       0.045692             7.978624   \n",
              "\n",
              "                  densityInsidePointsNoLine  playResult  \n",
              "id                                                       \n",
              "2018090600:75:1                    6.974268          10  \n",
              "2018090600:146:1                   6.975511           0  \n",
              "2018090600:168:1                   6.985594           0  \n",
              "2018090600:190:1                   6.969707          33  \n",
              "2018090600:320:1                   7.980418           4  "
            ]
          },
          "metadata": {
            "tags": []
          },
          "execution_count": 124
        }
      ]
    },
    {
      "cell_type": "code",
      "metadata": {
        "id": "2YOdFwBFvMrZ"
      },
      "source": [
        "static_defenses.drop([\"Unnamed: 0\"],axis=1,inplace=True)"
      ],
      "execution_count": null,
      "outputs": []
    },
    {
      "cell_type": "code",
      "metadata": {
        "id": "y0RbyUZjBY3O"
      },
      "source": [
        "static_defenses.replace({\"right\":0,\"left\":1},inplace=True)"
      ],
      "execution_count": null,
      "outputs": []
    },
    {
      "cell_type": "markdown",
      "metadata": {
        "id": "OYBMW7ErSgSJ"
      },
      "source": [
        "#Eliminar outliers"
      ]
    },
    {
      "cell_type": "code",
      "metadata": {
        "id": "KVnlvm0aBZLo"
      },
      "source": [
        "#load dataset\n",
        "pickle_file = open('outliers_minpts10_rs_3.pickle','rb')\n",
        "outliers = pickle.load(pickle_file)\n",
        "pickle_file.close()"
      ],
      "execution_count": null,
      "outputs": []
    },
    {
      "cell_type": "code",
      "metadata": {
        "id": "XcWR0jpIXUDs"
      },
      "source": [
        "for play in list(outliers):\n",
        "    static_defenses.drop(play,inplace=True)"
      ],
      "execution_count": null,
      "outputs": []
    },
    {
      "cell_type": "markdown",
      "metadata": {
        "id": "N_JxuJMcEMoc"
      },
      "source": [
        "#Cambiar valor playResult"
      ]
    },
    {
      "cell_type": "markdown",
      "metadata": {
        "id": "qCVWGMJ2LB3y"
      },
      "source": [
        "##5 etiquetas"
      ]
    },
    {
      "cell_type": "markdown",
      "metadata": {
        "id": "STNdvfyKEPPg"
      },
      "source": [
        "Vamos a seguir el siguiente criterio:\n",
        "\n",
        "\n",
        "*   Yardas negativas (-infinito,0)\n",
        "*   Poco yardaje [0,3)\n",
        "*   Yardaje medio [3,7)\n",
        "*   Mucho yardaje [7,16)\n",
        "*   Big play      [16, +infinito)\n",
        "\n"
      ]
    },
    {
      "cell_type": "code",
      "metadata": {
        "id": "rGms_LsaEord"
      },
      "source": [
        "def assignTag(number): \n",
        "  tag = \"\"\n",
        "  if number < 0:\n",
        "    tag = 0 #\"negativeYards\"\n",
        "  elif number < 3:\n",
        "    tag = 1 #\"fewYards\"\n",
        "  elif number < 7:\n",
        "    tag = 2 #\"mediumYards\"\n",
        "  elif number < 16:\n",
        "    tag = 3 #\"muchYards\"\n",
        "  else:\n",
        "    tag = 4 #\"bigPlay\"\n",
        "  \n",
        "  return tag"
      ],
      "execution_count": null,
      "outputs": []
    },
    {
      "cell_type": "code",
      "metadata": {
        "id": "aHTlwA-38Hpr"
      },
      "source": [
        "static_defenses[\"playResult\"] = static_defenses[\"playResult\"].apply(assignTag)"
      ],
      "execution_count": null,
      "outputs": []
    },
    {
      "cell_type": "code",
      "metadata": {
        "id": "DOs98L-27ZTQ"
      },
      "source": [
        "static_defenses.to_csv(\"static_defenses_categorical_5.csv\")"
      ],
      "execution_count": null,
      "outputs": []
    },
    {
      "cell_type": "code",
      "metadata": {
        "colab": {
          "base_uri": "https://localhost:8080/"
        },
        "id": "muHN5RZPbIdU",
        "outputId": "126bff04-a5c0-4d71-b274-ef1caebefded"
      },
      "source": [
        "static_defenses[\"playResult\"].value_counts()"
      ],
      "execution_count": null,
      "outputs": [
        {
          "output_type": "execute_result",
          "data": {
            "text/plain": [
              "1    5599\n",
              "3    4312\n",
              "4    2603\n",
              "2    2452\n",
              "0    1449\n",
              "Name: playResult, dtype: int64"
            ]
          },
          "metadata": {
            "tags": []
          },
          "execution_count": 108
        }
      ]
    },
    {
      "cell_type": "code",
      "metadata": {
        "colab": {
          "base_uri": "https://localhost:8080/"
        },
        "id": "T7H74_yObOls",
        "outputId": "c4c63c54-9a6a-427d-8f96-b61260831633"
      },
      "source": [
        "len(static_defenses[static_defenses[\"playResult\"]==0])/len(static_defenses)"
      ],
      "execution_count": null,
      "outputs": [
        {
          "output_type": "execute_result",
          "data": {
            "text/plain": [
              "0.088272921108742"
            ]
          },
          "metadata": {
            "tags": []
          },
          "execution_count": 109
        }
      ]
    },
    {
      "cell_type": "code",
      "metadata": {
        "colab": {
          "base_uri": "https://localhost:8080/"
        },
        "id": "teGPF5zxbR2E",
        "outputId": "d424597b-ac20-4e5f-af82-ecd5e8847f63"
      },
      "source": [
        "len(static_defenses[static_defenses[\"playResult\"]==1])/len(static_defenses)"
      ],
      "execution_count": null,
      "outputs": [
        {
          "output_type": "execute_result",
          "data": {
            "text/plain": [
              "0.34109046603716114"
            ]
          },
          "metadata": {
            "tags": []
          },
          "execution_count": 110
        }
      ]
    },
    {
      "cell_type": "code",
      "metadata": {
        "colab": {
          "base_uri": "https://localhost:8080/"
        },
        "id": "9c_ae2Q9bS7J",
        "outputId": "6986bb4f-11f4-420b-a0f3-247b33244b7d"
      },
      "source": [
        "len(static_defenses[static_defenses[\"playResult\"]==2])/len(static_defenses)"
      ],
      "execution_count": null,
      "outputs": [
        {
          "output_type": "execute_result",
          "data": {
            "text/plain": [
              "0.14937557112397198"
            ]
          },
          "metadata": {
            "tags": []
          },
          "execution_count": 111
        }
      ]
    },
    {
      "cell_type": "code",
      "metadata": {
        "colab": {
          "base_uri": "https://localhost:8080/"
        },
        "id": "ESNrRXjBbTZQ",
        "outputId": "32139b9d-c9b0-4ba4-e77b-547b21331691"
      },
      "source": [
        "len(static_defenses[static_defenses[\"playResult\"]==3])/len(static_defenses)"
      ],
      "execution_count": null,
      "outputs": [
        {
          "output_type": "execute_result",
          "data": {
            "text/plain": [
              "0.2626865671641791"
            ]
          },
          "metadata": {
            "tags": []
          },
          "execution_count": 112
        }
      ]
    },
    {
      "cell_type": "code",
      "metadata": {
        "colab": {
          "base_uri": "https://localhost:8080/"
        },
        "id": "c-N34RL7bT0M",
        "outputId": "ce2d4e35-9990-4e68-fe2f-65d0fe398e81"
      },
      "source": [
        "len(static_defenses[static_defenses[\"playResult\"]==4])/len(static_defenses)"
      ],
      "execution_count": null,
      "outputs": [
        {
          "output_type": "execute_result",
          "data": {
            "text/plain": [
              "0.15857447456594578"
            ]
          },
          "metadata": {
            "tags": []
          },
          "execution_count": 113
        }
      ]
    },
    {
      "cell_type": "markdown",
      "metadata": {
        "id": "w6Rxi5Y93gOy"
      },
      "source": [
        "##Tres etiquetas, negativas, normales y big plays"
      ]
    },
    {
      "cell_type": "code",
      "metadata": {
        "id": "Vw_CWGDu3klB"
      },
      "source": [
        "def assignTag(number): \n",
        "  tag = \"\"\n",
        "  if number < 0:\n",
        "    tag = 0 #\"negativeYards\"\n",
        "  elif number < 16:\n",
        "    tag = 1 #yards\n",
        "  else:\n",
        "    tag = 2 #\"bigPlay\"\n",
        "  \n",
        "  return tag"
      ],
      "execution_count": null,
      "outputs": []
    },
    {
      "cell_type": "code",
      "metadata": {
        "id": "rGZ8Q1zS7feV"
      },
      "source": [
        "static_defenses.to_csv(\"static_defenses_categorical_3.csv\")"
      ],
      "execution_count": null,
      "outputs": []
    },
    {
      "cell_type": "code",
      "metadata": {
        "id": "4xZiEie1HseO"
      },
      "source": [
        "static_defenses[\"playResult\"] = static_defenses[\"playResult\"].apply(assignTag)"
      ],
      "execution_count": null,
      "outputs": []
    },
    {
      "cell_type": "code",
      "metadata": {
        "id": "b9f5WPBzJf9z"
      },
      "source": [
        "static_defenses.drop(static_defenses[static_defenses[\"playResult\"]==1].index,inplace=True)"
      ],
      "execution_count": null,
      "outputs": []
    },
    {
      "cell_type": "code",
      "metadata": {
        "id": "s-BWpr1vD5wt"
      },
      "source": [
        "first_set = static_defenses[static_defenses[\"playResult\"]==1].sample(frac=0.25)"
      ],
      "execution_count": null,
      "outputs": []
    },
    {
      "cell_type": "code",
      "metadata": {
        "colab": {
          "base_uri": "https://localhost:8080/",
          "height": 475
        },
        "id": "KzdcaObLHH3x",
        "outputId": "a2901b7b-3e05-41b2-e5f2-257ee04f6963"
      },
      "source": [
        "static_defenses"
      ],
      "execution_count": null,
      "outputs": [
        {
          "output_type": "execute_result",
          "data": {
            "text/html": [
              "<div>\n",
              "<style scoped>\n",
              "    .dataframe tbody tr th:only-of-type {\n",
              "        vertical-align: middle;\n",
              "    }\n",
              "\n",
              "    .dataframe tbody tr th {\n",
              "        vertical-align: top;\n",
              "    }\n",
              "\n",
              "    .dataframe thead th {\n",
              "        text-align: right;\n",
              "    }\n",
              "</style>\n",
              "<table border=\"1\" class=\"dataframe\">\n",
              "  <thead>\n",
              "    <tr style=\"text-align: right;\">\n",
              "      <th></th>\n",
              "      <th>defensivelinezonePlayers</th>\n",
              "      <th>deepzonePlayers</th>\n",
              "      <th>hookzonePlayers</th>\n",
              "      <th>curlzonePlayers</th>\n",
              "      <th>flatzonePlayers</th>\n",
              "      <th>defenseArea</th>\n",
              "      <th>defenseAreaCoverDefenders</th>\n",
              "      <th>width</th>\n",
              "      <th>height</th>\n",
              "      <th>numberQBs</th>\n",
              "      <th>numberWRs</th>\n",
              "      <th>numberTEs</th>\n",
              "      <th>numberRBs</th>\n",
              "      <th>numberFBs</th>\n",
              "      <th>numberOffensivePlayersAnotherPosition</th>\n",
              "      <th>numberSafeties</th>\n",
              "      <th>numberLBs</th>\n",
              "      <th>numberCBs</th>\n",
              "      <th>strongSide</th>\n",
              "      <th>numberPlayersDefenseStrongSide</th>\n",
              "      <th>numberPlayersDefenseWeakSide</th>\n",
              "      <th>numberPlayersOffenseStrongSide</th>\n",
              "      <th>numberPlayersOffenseWeakSide</th>\n",
              "      <th>differenceOffenseVsDefenseWidth</th>\n",
              "      <th>differenceOffenseVsDefenseStrongSide</th>\n",
              "      <th>differenceOffenseVsDefenseWeakSide</th>\n",
              "      <th>HeightByWeightDeep</th>\n",
              "      <th>HeightByWeightHook</th>\n",
              "      <th>HeightByWeightCurl</th>\n",
              "      <th>HeightByWeightFlat</th>\n",
              "      <th>WeightByArea</th>\n",
              "      <th>density</th>\n",
              "      <th>densityNoLine</th>\n",
              "      <th>densityInsidePoints</th>\n",
              "      <th>densityInsidePointsNoLine</th>\n",
              "      <th>playResult</th>\n",
              "    </tr>\n",
              "    <tr>\n",
              "      <th>id</th>\n",
              "      <th></th>\n",
              "      <th></th>\n",
              "      <th></th>\n",
              "      <th></th>\n",
              "      <th></th>\n",
              "      <th></th>\n",
              "      <th></th>\n",
              "      <th></th>\n",
              "      <th></th>\n",
              "      <th></th>\n",
              "      <th></th>\n",
              "      <th></th>\n",
              "      <th></th>\n",
              "      <th></th>\n",
              "      <th></th>\n",
              "      <th></th>\n",
              "      <th></th>\n",
              "      <th></th>\n",
              "      <th></th>\n",
              "      <th></th>\n",
              "      <th></th>\n",
              "      <th></th>\n",
              "      <th></th>\n",
              "      <th></th>\n",
              "      <th></th>\n",
              "      <th></th>\n",
              "      <th></th>\n",
              "      <th></th>\n",
              "      <th></th>\n",
              "      <th></th>\n",
              "      <th></th>\n",
              "      <th></th>\n",
              "      <th></th>\n",
              "      <th></th>\n",
              "      <th></th>\n",
              "      <th></th>\n",
              "    </tr>\n",
              "  </thead>\n",
              "  <tbody>\n",
              "    <tr>\n",
              "      <th>2018090600:190:1</th>\n",
              "      <td>1</td>\n",
              "      <td>0</td>\n",
              "      <td>2</td>\n",
              "      <td>3</td>\n",
              "      <td>1</td>\n",
              "      <td>189.16960</td>\n",
              "      <td>165.05520</td>\n",
              "      <td>26.42</td>\n",
              "      <td>12.91</td>\n",
              "      <td>1</td>\n",
              "      <td>3</td>\n",
              "      <td>1</td>\n",
              "      <td>1</td>\n",
              "      <td>0</td>\n",
              "      <td>0</td>\n",
              "      <td>3</td>\n",
              "      <td>1</td>\n",
              "      <td>3</td>\n",
              "      <td>right</td>\n",
              "      <td>2</td>\n",
              "      <td>5</td>\n",
              "      <td>2</td>\n",
              "      <td>3</td>\n",
              "      <td>-3.11</td>\n",
              "      <td>0</td>\n",
              "      <td>-2</td>\n",
              "      <td>0.000000</td>\n",
              "      <td>0.020120</td>\n",
              "      <td>0.021193</td>\n",
              "      <td>0.020455</td>\n",
              "      <td>3.192871</td>\n",
              "      <td>0.037004</td>\n",
              "      <td>0.036351</td>\n",
              "      <td>6.973569</td>\n",
              "      <td>6.969707</td>\n",
              "      <td>2</td>\n",
              "    </tr>\n",
              "    <tr>\n",
              "      <th>2018090600:492:1</th>\n",
              "      <td>0</td>\n",
              "      <td>1</td>\n",
              "      <td>2</td>\n",
              "      <td>4</td>\n",
              "      <td>0</td>\n",
              "      <td>145.61535</td>\n",
              "      <td>145.61535</td>\n",
              "      <td>19.61</td>\n",
              "      <td>13.82</td>\n",
              "      <td>1</td>\n",
              "      <td>2</td>\n",
              "      <td>2</td>\n",
              "      <td>1</td>\n",
              "      <td>0</td>\n",
              "      <td>0</td>\n",
              "      <td>3</td>\n",
              "      <td>2</td>\n",
              "      <td>2</td>\n",
              "      <td>right</td>\n",
              "      <td>4</td>\n",
              "      <td>3</td>\n",
              "      <td>2</td>\n",
              "      <td>3</td>\n",
              "      <td>-2.58</td>\n",
              "      <td>-2</td>\n",
              "      <td>0</td>\n",
              "      <td>0.020227</td>\n",
              "      <td>0.019319</td>\n",
              "      <td>0.019614</td>\n",
              "      <td>0.000000</td>\n",
              "      <td>4.505020</td>\n",
              "      <td>0.048072</td>\n",
              "      <td>0.048072</td>\n",
              "      <td>6.972530</td>\n",
              "      <td>6.972530</td>\n",
              "      <td>2</td>\n",
              "    </tr>\n",
              "    <tr>\n",
              "      <th>2018090600:776:1</th>\n",
              "      <td>3</td>\n",
              "      <td>1</td>\n",
              "      <td>2</td>\n",
              "      <td>1</td>\n",
              "      <td>1</td>\n",
              "      <td>234.84220</td>\n",
              "      <td>163.61555</td>\n",
              "      <td>29.95</td>\n",
              "      <td>15.29</td>\n",
              "      <td>1</td>\n",
              "      <td>3</td>\n",
              "      <td>1</td>\n",
              "      <td>1</td>\n",
              "      <td>0</td>\n",
              "      <td>0</td>\n",
              "      <td>2</td>\n",
              "      <td>3</td>\n",
              "      <td>3</td>\n",
              "      <td>left</td>\n",
              "      <td>2</td>\n",
              "      <td>6</td>\n",
              "      <td>1</td>\n",
              "      <td>4</td>\n",
              "      <td>-0.25</td>\n",
              "      <td>-1</td>\n",
              "      <td>-2</td>\n",
              "      <td>0.018878</td>\n",
              "      <td>0.018251</td>\n",
              "      <td>0.020833</td>\n",
              "      <td>0.021279</td>\n",
              "      <td>2.854252</td>\n",
              "      <td>0.034065</td>\n",
              "      <td>0.030559</td>\n",
              "      <td>7.978709</td>\n",
              "      <td>7.975552</td>\n",
              "      <td>0</td>\n",
              "    </tr>\n",
              "    <tr>\n",
              "      <th>2018090600:839:1</th>\n",
              "      <td>3</td>\n",
              "      <td>0</td>\n",
              "      <td>1</td>\n",
              "      <td>3</td>\n",
              "      <td>1</td>\n",
              "      <td>195.11485</td>\n",
              "      <td>170.92430</td>\n",
              "      <td>29.30</td>\n",
              "      <td>13.18</td>\n",
              "      <td>1</td>\n",
              "      <td>3</td>\n",
              "      <td>1</td>\n",
              "      <td>1</td>\n",
              "      <td>0</td>\n",
              "      <td>0</td>\n",
              "      <td>2</td>\n",
              "      <td>3</td>\n",
              "      <td>3</td>\n",
              "      <td>left</td>\n",
              "      <td>3</td>\n",
              "      <td>5</td>\n",
              "      <td>2</td>\n",
              "      <td>3</td>\n",
              "      <td>-0.99</td>\n",
              "      <td>-1</td>\n",
              "      <td>-2</td>\n",
              "      <td>0.000000</td>\n",
              "      <td>0.020833</td>\n",
              "      <td>0.019537</td>\n",
              "      <td>0.021279</td>\n",
              "      <td>2.621043</td>\n",
              "      <td>0.041001</td>\n",
              "      <td>0.029253</td>\n",
              "      <td>7.969249</td>\n",
              "      <td>7.982448</td>\n",
              "      <td>0</td>\n",
              "    </tr>\n",
              "    <tr>\n",
              "      <th>2018090600:949:1</th>\n",
              "      <td>0</td>\n",
              "      <td>0</td>\n",
              "      <td>2</td>\n",
              "      <td>3</td>\n",
              "      <td>2</td>\n",
              "      <td>129.48690</td>\n",
              "      <td>129.48690</td>\n",
              "      <td>32.42</td>\n",
              "      <td>7.89</td>\n",
              "      <td>1</td>\n",
              "      <td>3</td>\n",
              "      <td>1</td>\n",
              "      <td>1</td>\n",
              "      <td>0</td>\n",
              "      <td>0</td>\n",
              "      <td>3</td>\n",
              "      <td>1</td>\n",
              "      <td>3</td>\n",
              "      <td>right</td>\n",
              "      <td>4</td>\n",
              "      <td>3</td>\n",
              "      <td>3</td>\n",
              "      <td>2</td>\n",
              "      <td>1.46</td>\n",
              "      <td>-1</td>\n",
              "      <td>-1</td>\n",
              "      <td>0.000000</td>\n",
              "      <td>0.018484</td>\n",
              "      <td>0.021035</td>\n",
              "      <td>0.020745</td>\n",
              "      <td>4.896248</td>\n",
              "      <td>0.054060</td>\n",
              "      <td>0.054060</td>\n",
              "      <td>6.969109</td>\n",
              "      <td>6.969109</td>\n",
              "      <td>0</td>\n",
              "    </tr>\n",
              "    <tr>\n",
              "      <th>...</th>\n",
              "      <td>...</td>\n",
              "      <td>...</td>\n",
              "      <td>...</td>\n",
              "      <td>...</td>\n",
              "      <td>...</td>\n",
              "      <td>...</td>\n",
              "      <td>...</td>\n",
              "      <td>...</td>\n",
              "      <td>...</td>\n",
              "      <td>...</td>\n",
              "      <td>...</td>\n",
              "      <td>...</td>\n",
              "      <td>...</td>\n",
              "      <td>...</td>\n",
              "      <td>...</td>\n",
              "      <td>...</td>\n",
              "      <td>...</td>\n",
              "      <td>...</td>\n",
              "      <td>...</td>\n",
              "      <td>...</td>\n",
              "      <td>...</td>\n",
              "      <td>...</td>\n",
              "      <td>...</td>\n",
              "      <td>...</td>\n",
              "      <td>...</td>\n",
              "      <td>...</td>\n",
              "      <td>...</td>\n",
              "      <td>...</td>\n",
              "      <td>...</td>\n",
              "      <td>...</td>\n",
              "      <td>...</td>\n",
              "      <td>...</td>\n",
              "      <td>...</td>\n",
              "      <td>...</td>\n",
              "      <td>...</td>\n",
              "      <td>...</td>\n",
              "    </tr>\n",
              "    <tr>\n",
              "      <th>2018123015:3089:17</th>\n",
              "      <td>0</td>\n",
              "      <td>0</td>\n",
              "      <td>1</td>\n",
              "      <td>5</td>\n",
              "      <td>1</td>\n",
              "      <td>233.56345</td>\n",
              "      <td>233.56345</td>\n",
              "      <td>26.20</td>\n",
              "      <td>12.97</td>\n",
              "      <td>1</td>\n",
              "      <td>3</td>\n",
              "      <td>1</td>\n",
              "      <td>1</td>\n",
              "      <td>0</td>\n",
              "      <td>0</td>\n",
              "      <td>2</td>\n",
              "      <td>1</td>\n",
              "      <td>4</td>\n",
              "      <td>right</td>\n",
              "      <td>3</td>\n",
              "      <td>4</td>\n",
              "      <td>2</td>\n",
              "      <td>3</td>\n",
              "      <td>-0.37</td>\n",
              "      <td>-1</td>\n",
              "      <td>-1</td>\n",
              "      <td>0.000000</td>\n",
              "      <td>0.016636</td>\n",
              "      <td>0.019470</td>\n",
              "      <td>0.020761</td>\n",
              "      <td>2.898570</td>\n",
              "      <td>0.029970</td>\n",
              "      <td>0.029970</td>\n",
              "      <td>6.978593</td>\n",
              "      <td>6.978593</td>\n",
              "      <td>0</td>\n",
              "    </tr>\n",
              "    <tr>\n",
              "      <th>2018123015:3601:17</th>\n",
              "      <td>2</td>\n",
              "      <td>0</td>\n",
              "      <td>1</td>\n",
              "      <td>4</td>\n",
              "      <td>0</td>\n",
              "      <td>131.03325</td>\n",
              "      <td>93.42570</td>\n",
              "      <td>18.39</td>\n",
              "      <td>12.93</td>\n",
              "      <td>1</td>\n",
              "      <td>3</td>\n",
              "      <td>1</td>\n",
              "      <td>1</td>\n",
              "      <td>0</td>\n",
              "      <td>0</td>\n",
              "      <td>2</td>\n",
              "      <td>1</td>\n",
              "      <td>4</td>\n",
              "      <td>right</td>\n",
              "      <td>3</td>\n",
              "      <td>4</td>\n",
              "      <td>3</td>\n",
              "      <td>2</td>\n",
              "      <td>2.61</td>\n",
              "      <td>0</td>\n",
              "      <td>-2</td>\n",
              "      <td>0.000000</td>\n",
              "      <td>0.018878</td>\n",
              "      <td>0.020090</td>\n",
              "      <td>0.000000</td>\n",
              "      <td>5.020032</td>\n",
              "      <td>0.053422</td>\n",
              "      <td>0.053518</td>\n",
              "      <td>6.969473</td>\n",
              "      <td>6.967889</td>\n",
              "      <td>0</td>\n",
              "    </tr>\n",
              "    <tr>\n",
              "      <th>2018123015:3794:17</th>\n",
              "      <td>1</td>\n",
              "      <td>0</td>\n",
              "      <td>4</td>\n",
              "      <td>2</td>\n",
              "      <td>0</td>\n",
              "      <td>133.23555</td>\n",
              "      <td>130.05530</td>\n",
              "      <td>19.55</td>\n",
              "      <td>13.59</td>\n",
              "      <td>1</td>\n",
              "      <td>2</td>\n",
              "      <td>1</td>\n",
              "      <td>1</td>\n",
              "      <td>1</td>\n",
              "      <td>0</td>\n",
              "      <td>2</td>\n",
              "      <td>3</td>\n",
              "      <td>2</td>\n",
              "      <td>right</td>\n",
              "      <td>5</td>\n",
              "      <td>2</td>\n",
              "      <td>2</td>\n",
              "      <td>3</td>\n",
              "      <td>-0.27</td>\n",
              "      <td>-3</td>\n",
              "      <td>1</td>\n",
              "      <td>0.000000</td>\n",
              "      <td>0.017906</td>\n",
              "      <td>0.019319</td>\n",
              "      <td>0.000000</td>\n",
              "      <td>4.674934</td>\n",
              "      <td>0.052539</td>\n",
              "      <td>0.046134</td>\n",
              "      <td>6.969978</td>\n",
              "      <td>6.976933</td>\n",
              "      <td>2</td>\n",
              "    </tr>\n",
              "    <tr>\n",
              "      <th>2018123015:3932:17</th>\n",
              "      <td>0</td>\n",
              "      <td>0</td>\n",
              "      <td>1</td>\n",
              "      <td>4</td>\n",
              "      <td>2</td>\n",
              "      <td>327.34785</td>\n",
              "      <td>327.34785</td>\n",
              "      <td>35.76</td>\n",
              "      <td>13.20</td>\n",
              "      <td>1</td>\n",
              "      <td>3</td>\n",
              "      <td>1</td>\n",
              "      <td>1</td>\n",
              "      <td>0</td>\n",
              "      <td>0</td>\n",
              "      <td>2</td>\n",
              "      <td>2</td>\n",
              "      <td>3</td>\n",
              "      <td>right</td>\n",
              "      <td>3</td>\n",
              "      <td>4</td>\n",
              "      <td>3</td>\n",
              "      <td>2</td>\n",
              "      <td>-0.97</td>\n",
              "      <td>0</td>\n",
              "      <td>-2</td>\n",
              "      <td>0.000000</td>\n",
              "      <td>0.016636</td>\n",
              "      <td>0.018979</td>\n",
              "      <td>0.019819</td>\n",
              "      <td>2.120069</td>\n",
              "      <td>0.021384</td>\n",
              "      <td>0.021384</td>\n",
              "      <td>6.987781</td>\n",
              "      <td>6.987781</td>\n",
              "      <td>0</td>\n",
              "    </tr>\n",
              "    <tr>\n",
              "      <th>2018123015:4104:17</th>\n",
              "      <td>0</td>\n",
              "      <td>0</td>\n",
              "      <td>3</td>\n",
              "      <td>2</td>\n",
              "      <td>2</td>\n",
              "      <td>215.50425</td>\n",
              "      <td>215.50425</td>\n",
              "      <td>32.25</td>\n",
              "      <td>13.00</td>\n",
              "      <td>1</td>\n",
              "      <td>3</td>\n",
              "      <td>1</td>\n",
              "      <td>1</td>\n",
              "      <td>0</td>\n",
              "      <td>0</td>\n",
              "      <td>3</td>\n",
              "      <td>2</td>\n",
              "      <td>2</td>\n",
              "      <td>right</td>\n",
              "      <td>5</td>\n",
              "      <td>2</td>\n",
              "      <td>3</td>\n",
              "      <td>2</td>\n",
              "      <td>-0.88</td>\n",
              "      <td>-2</td>\n",
              "      <td>0</td>\n",
              "      <td>0.000000</td>\n",
              "      <td>0.019797</td>\n",
              "      <td>0.018535</td>\n",
              "      <td>0.020001</td>\n",
              "      <td>3.062585</td>\n",
              "      <td>0.032482</td>\n",
              "      <td>0.032482</td>\n",
              "      <td>6.981439</td>\n",
              "      <td>6.981439</td>\n",
              "      <td>2</td>\n",
              "    </tr>\n",
              "  </tbody>\n",
              "</table>\n",
              "<p>4080 rows × 36 columns</p>\n",
              "</div>"
            ],
            "text/plain": [
              "                    defensivelinezonePlayers  deepzonePlayers  \\\n",
              "id                                                              \n",
              "2018090600:190:1                           1                0   \n",
              "2018090600:492:1                           0                1   \n",
              "2018090600:776:1                           3                1   \n",
              "2018090600:839:1                           3                0   \n",
              "2018090600:949:1                           0                0   \n",
              "...                                      ...              ...   \n",
              "2018123015:3089:17                         0                0   \n",
              "2018123015:3601:17                         2                0   \n",
              "2018123015:3794:17                         1                0   \n",
              "2018123015:3932:17                         0                0   \n",
              "2018123015:4104:17                         0                0   \n",
              "\n",
              "                    hookzonePlayers  curlzonePlayers  flatzonePlayers  \\\n",
              "id                                                                      \n",
              "2018090600:190:1                  2                3                1   \n",
              "2018090600:492:1                  2                4                0   \n",
              "2018090600:776:1                  2                1                1   \n",
              "2018090600:839:1                  1                3                1   \n",
              "2018090600:949:1                  2                3                2   \n",
              "...                             ...              ...              ...   \n",
              "2018123015:3089:17                1                5                1   \n",
              "2018123015:3601:17                1                4                0   \n",
              "2018123015:3794:17                4                2                0   \n",
              "2018123015:3932:17                1                4                2   \n",
              "2018123015:4104:17                3                2                2   \n",
              "\n",
              "                    defenseArea  defenseAreaCoverDefenders  width  height  \\\n",
              "id                                                                          \n",
              "2018090600:190:1      189.16960                  165.05520  26.42   12.91   \n",
              "2018090600:492:1      145.61535                  145.61535  19.61   13.82   \n",
              "2018090600:776:1      234.84220                  163.61555  29.95   15.29   \n",
              "2018090600:839:1      195.11485                  170.92430  29.30   13.18   \n",
              "2018090600:949:1      129.48690                  129.48690  32.42    7.89   \n",
              "...                         ...                        ...    ...     ...   \n",
              "2018123015:3089:17    233.56345                  233.56345  26.20   12.97   \n",
              "2018123015:3601:17    131.03325                   93.42570  18.39   12.93   \n",
              "2018123015:3794:17    133.23555                  130.05530  19.55   13.59   \n",
              "2018123015:3932:17    327.34785                  327.34785  35.76   13.20   \n",
              "2018123015:4104:17    215.50425                  215.50425  32.25   13.00   \n",
              "\n",
              "                    numberQBs  numberWRs  numberTEs  numberRBs  numberFBs  \\\n",
              "id                                                                          \n",
              "2018090600:190:1            1          3          1          1          0   \n",
              "2018090600:492:1            1          2          2          1          0   \n",
              "2018090600:776:1            1          3          1          1          0   \n",
              "2018090600:839:1            1          3          1          1          0   \n",
              "2018090600:949:1            1          3          1          1          0   \n",
              "...                       ...        ...        ...        ...        ...   \n",
              "2018123015:3089:17          1          3          1          1          0   \n",
              "2018123015:3601:17          1          3          1          1          0   \n",
              "2018123015:3794:17          1          2          1          1          1   \n",
              "2018123015:3932:17          1          3          1          1          0   \n",
              "2018123015:4104:17          1          3          1          1          0   \n",
              "\n",
              "                    numberOffensivePlayersAnotherPosition  numberSafeties  \\\n",
              "id                                                                          \n",
              "2018090600:190:1                                        0               3   \n",
              "2018090600:492:1                                        0               3   \n",
              "2018090600:776:1                                        0               2   \n",
              "2018090600:839:1                                        0               2   \n",
              "2018090600:949:1                                        0               3   \n",
              "...                                                   ...             ...   \n",
              "2018123015:3089:17                                      0               2   \n",
              "2018123015:3601:17                                      0               2   \n",
              "2018123015:3794:17                                      0               2   \n",
              "2018123015:3932:17                                      0               2   \n",
              "2018123015:4104:17                                      0               3   \n",
              "\n",
              "                    numberLBs  numberCBs strongSide  \\\n",
              "id                                                    \n",
              "2018090600:190:1            1          3      right   \n",
              "2018090600:492:1            2          2      right   \n",
              "2018090600:776:1            3          3       left   \n",
              "2018090600:839:1            3          3       left   \n",
              "2018090600:949:1            1          3      right   \n",
              "...                       ...        ...        ...   \n",
              "2018123015:3089:17          1          4      right   \n",
              "2018123015:3601:17          1          4      right   \n",
              "2018123015:3794:17          3          2      right   \n",
              "2018123015:3932:17          2          3      right   \n",
              "2018123015:4104:17          2          2      right   \n",
              "\n",
              "                    numberPlayersDefenseStrongSide  \\\n",
              "id                                                   \n",
              "2018090600:190:1                                 2   \n",
              "2018090600:492:1                                 4   \n",
              "2018090600:776:1                                 2   \n",
              "2018090600:839:1                                 3   \n",
              "2018090600:949:1                                 4   \n",
              "...                                            ...   \n",
              "2018123015:3089:17                               3   \n",
              "2018123015:3601:17                               3   \n",
              "2018123015:3794:17                               5   \n",
              "2018123015:3932:17                               3   \n",
              "2018123015:4104:17                               5   \n",
              "\n",
              "                    numberPlayersDefenseWeakSide  \\\n",
              "id                                                 \n",
              "2018090600:190:1                               5   \n",
              "2018090600:492:1                               3   \n",
              "2018090600:776:1                               6   \n",
              "2018090600:839:1                               5   \n",
              "2018090600:949:1                               3   \n",
              "...                                          ...   \n",
              "2018123015:3089:17                             4   \n",
              "2018123015:3601:17                             4   \n",
              "2018123015:3794:17                             2   \n",
              "2018123015:3932:17                             4   \n",
              "2018123015:4104:17                             2   \n",
              "\n",
              "                    numberPlayersOffenseStrongSide  \\\n",
              "id                                                   \n",
              "2018090600:190:1                                 2   \n",
              "2018090600:492:1                                 2   \n",
              "2018090600:776:1                                 1   \n",
              "2018090600:839:1                                 2   \n",
              "2018090600:949:1                                 3   \n",
              "...                                            ...   \n",
              "2018123015:3089:17                               2   \n",
              "2018123015:3601:17                               3   \n",
              "2018123015:3794:17                               2   \n",
              "2018123015:3932:17                               3   \n",
              "2018123015:4104:17                               3   \n",
              "\n",
              "                    numberPlayersOffenseWeakSide  \\\n",
              "id                                                 \n",
              "2018090600:190:1                               3   \n",
              "2018090600:492:1                               3   \n",
              "2018090600:776:1                               4   \n",
              "2018090600:839:1                               3   \n",
              "2018090600:949:1                               2   \n",
              "...                                          ...   \n",
              "2018123015:3089:17                             3   \n",
              "2018123015:3601:17                             2   \n",
              "2018123015:3794:17                             3   \n",
              "2018123015:3932:17                             2   \n",
              "2018123015:4104:17                             2   \n",
              "\n",
              "                    differenceOffenseVsDefenseWidth  \\\n",
              "id                                                    \n",
              "2018090600:190:1                              -3.11   \n",
              "2018090600:492:1                              -2.58   \n",
              "2018090600:776:1                              -0.25   \n",
              "2018090600:839:1                              -0.99   \n",
              "2018090600:949:1                               1.46   \n",
              "...                                             ...   \n",
              "2018123015:3089:17                            -0.37   \n",
              "2018123015:3601:17                             2.61   \n",
              "2018123015:3794:17                            -0.27   \n",
              "2018123015:3932:17                            -0.97   \n",
              "2018123015:4104:17                            -0.88   \n",
              "\n",
              "                    differenceOffenseVsDefenseStrongSide  \\\n",
              "id                                                         \n",
              "2018090600:190:1                                       0   \n",
              "2018090600:492:1                                      -2   \n",
              "2018090600:776:1                                      -1   \n",
              "2018090600:839:1                                      -1   \n",
              "2018090600:949:1                                      -1   \n",
              "...                                                  ...   \n",
              "2018123015:3089:17                                    -1   \n",
              "2018123015:3601:17                                     0   \n",
              "2018123015:3794:17                                    -3   \n",
              "2018123015:3932:17                                     0   \n",
              "2018123015:4104:17                                    -2   \n",
              "\n",
              "                    differenceOffenseVsDefenseWeakSide  HeightByWeightDeep  \\\n",
              "id                                                                           \n",
              "2018090600:190:1                                    -2            0.000000   \n",
              "2018090600:492:1                                     0            0.020227   \n",
              "2018090600:776:1                                    -2            0.018878   \n",
              "2018090600:839:1                                    -2            0.000000   \n",
              "2018090600:949:1                                    -1            0.000000   \n",
              "...                                                ...                 ...   \n",
              "2018123015:3089:17                                  -1            0.000000   \n",
              "2018123015:3601:17                                  -2            0.000000   \n",
              "2018123015:3794:17                                   1            0.000000   \n",
              "2018123015:3932:17                                  -2            0.000000   \n",
              "2018123015:4104:17                                   0            0.000000   \n",
              "\n",
              "                    HeightByWeightHook  HeightByWeightCurl  \\\n",
              "id                                                           \n",
              "2018090600:190:1              0.020120            0.021193   \n",
              "2018090600:492:1              0.019319            0.019614   \n",
              "2018090600:776:1              0.018251            0.020833   \n",
              "2018090600:839:1              0.020833            0.019537   \n",
              "2018090600:949:1              0.018484            0.021035   \n",
              "...                                ...                 ...   \n",
              "2018123015:3089:17            0.016636            0.019470   \n",
              "2018123015:3601:17            0.018878            0.020090   \n",
              "2018123015:3794:17            0.017906            0.019319   \n",
              "2018123015:3932:17            0.016636            0.018979   \n",
              "2018123015:4104:17            0.019797            0.018535   \n",
              "\n",
              "                    HeightByWeightFlat  WeightByArea   density  densityNoLine  \\\n",
              "id                                                                              \n",
              "2018090600:190:1              0.020455      3.192871  0.037004       0.036351   \n",
              "2018090600:492:1              0.000000      4.505020  0.048072       0.048072   \n",
              "2018090600:776:1              0.021279      2.854252  0.034065       0.030559   \n",
              "2018090600:839:1              0.021279      2.621043  0.041001       0.029253   \n",
              "2018090600:949:1              0.020745      4.896248  0.054060       0.054060   \n",
              "...                                ...           ...       ...            ...   \n",
              "2018123015:3089:17            0.020761      2.898570  0.029970       0.029970   \n",
              "2018123015:3601:17            0.000000      5.020032  0.053422       0.053518   \n",
              "2018123015:3794:17            0.000000      4.674934  0.052539       0.046134   \n",
              "2018123015:3932:17            0.019819      2.120069  0.021384       0.021384   \n",
              "2018123015:4104:17            0.020001      3.062585  0.032482       0.032482   \n",
              "\n",
              "                    densityInsidePoints  densityInsidePointsNoLine  playResult  \n",
              "id                                                                              \n",
              "2018090600:190:1               6.973569                   6.969707           2  \n",
              "2018090600:492:1               6.972530                   6.972530           2  \n",
              "2018090600:776:1               7.978709                   7.975552           0  \n",
              "2018090600:839:1               7.969249                   7.982448           0  \n",
              "2018090600:949:1               6.969109                   6.969109           0  \n",
              "...                                 ...                        ...         ...  \n",
              "2018123015:3089:17             6.978593                   6.978593           0  \n",
              "2018123015:3601:17             6.969473                   6.967889           0  \n",
              "2018123015:3794:17             6.969978                   6.976933           2  \n",
              "2018123015:3932:17             6.987781                   6.987781           0  \n",
              "2018123015:4104:17             6.981439                   6.981439           2  \n",
              "\n",
              "[4080 rows x 36 columns]"
            ]
          },
          "metadata": {
            "tags": []
          },
          "execution_count": 205
        }
      ]
    },
    {
      "cell_type": "code",
      "metadata": {
        "colab": {
          "base_uri": "https://localhost:8080/",
          "height": 475
        },
        "id": "3UneR8a-HNh_",
        "outputId": "5887ef00-b919-494f-a221-176449e9da0e"
      },
      "source": [
        "static_defenses = static_defenses.append(first_set)\n",
        "static_defenses"
      ],
      "execution_count": null,
      "outputs": [
        {
          "output_type": "execute_result",
          "data": {
            "text/html": [
              "<div>\n",
              "<style scoped>\n",
              "    .dataframe tbody tr th:only-of-type {\n",
              "        vertical-align: middle;\n",
              "    }\n",
              "\n",
              "    .dataframe tbody tr th {\n",
              "        vertical-align: top;\n",
              "    }\n",
              "\n",
              "    .dataframe thead th {\n",
              "        text-align: right;\n",
              "    }\n",
              "</style>\n",
              "<table border=\"1\" class=\"dataframe\">\n",
              "  <thead>\n",
              "    <tr style=\"text-align: right;\">\n",
              "      <th></th>\n",
              "      <th>defensivelinezonePlayers</th>\n",
              "      <th>deepzonePlayers</th>\n",
              "      <th>hookzonePlayers</th>\n",
              "      <th>curlzonePlayers</th>\n",
              "      <th>flatzonePlayers</th>\n",
              "      <th>defenseArea</th>\n",
              "      <th>defenseAreaCoverDefenders</th>\n",
              "      <th>width</th>\n",
              "      <th>height</th>\n",
              "      <th>numberQBs</th>\n",
              "      <th>numberWRs</th>\n",
              "      <th>numberTEs</th>\n",
              "      <th>numberRBs</th>\n",
              "      <th>numberFBs</th>\n",
              "      <th>numberOffensivePlayersAnotherPosition</th>\n",
              "      <th>numberSafeties</th>\n",
              "      <th>numberLBs</th>\n",
              "      <th>numberCBs</th>\n",
              "      <th>strongSide</th>\n",
              "      <th>numberPlayersDefenseStrongSide</th>\n",
              "      <th>numberPlayersDefenseWeakSide</th>\n",
              "      <th>numberPlayersOffenseStrongSide</th>\n",
              "      <th>numberPlayersOffenseWeakSide</th>\n",
              "      <th>differenceOffenseVsDefenseWidth</th>\n",
              "      <th>differenceOffenseVsDefenseStrongSide</th>\n",
              "      <th>differenceOffenseVsDefenseWeakSide</th>\n",
              "      <th>HeightByWeightDeep</th>\n",
              "      <th>HeightByWeightHook</th>\n",
              "      <th>HeightByWeightCurl</th>\n",
              "      <th>HeightByWeightFlat</th>\n",
              "      <th>WeightByArea</th>\n",
              "      <th>density</th>\n",
              "      <th>densityNoLine</th>\n",
              "      <th>densityInsidePoints</th>\n",
              "      <th>densityInsidePointsNoLine</th>\n",
              "      <th>playResult</th>\n",
              "    </tr>\n",
              "    <tr>\n",
              "      <th>id</th>\n",
              "      <th></th>\n",
              "      <th></th>\n",
              "      <th></th>\n",
              "      <th></th>\n",
              "      <th></th>\n",
              "      <th></th>\n",
              "      <th></th>\n",
              "      <th></th>\n",
              "      <th></th>\n",
              "      <th></th>\n",
              "      <th></th>\n",
              "      <th></th>\n",
              "      <th></th>\n",
              "      <th></th>\n",
              "      <th></th>\n",
              "      <th></th>\n",
              "      <th></th>\n",
              "      <th></th>\n",
              "      <th></th>\n",
              "      <th></th>\n",
              "      <th></th>\n",
              "      <th></th>\n",
              "      <th></th>\n",
              "      <th></th>\n",
              "      <th></th>\n",
              "      <th></th>\n",
              "      <th></th>\n",
              "      <th></th>\n",
              "      <th></th>\n",
              "      <th></th>\n",
              "      <th></th>\n",
              "      <th></th>\n",
              "      <th></th>\n",
              "      <th></th>\n",
              "      <th></th>\n",
              "      <th></th>\n",
              "    </tr>\n",
              "  </thead>\n",
              "  <tbody>\n",
              "    <tr>\n",
              "      <th>2018090600:190:1</th>\n",
              "      <td>1</td>\n",
              "      <td>0</td>\n",
              "      <td>2</td>\n",
              "      <td>3</td>\n",
              "      <td>1</td>\n",
              "      <td>189.16960</td>\n",
              "      <td>165.05520</td>\n",
              "      <td>26.42</td>\n",
              "      <td>12.91</td>\n",
              "      <td>1</td>\n",
              "      <td>3</td>\n",
              "      <td>1</td>\n",
              "      <td>1</td>\n",
              "      <td>0</td>\n",
              "      <td>0</td>\n",
              "      <td>3</td>\n",
              "      <td>1</td>\n",
              "      <td>3</td>\n",
              "      <td>right</td>\n",
              "      <td>2</td>\n",
              "      <td>5</td>\n",
              "      <td>2</td>\n",
              "      <td>3</td>\n",
              "      <td>-3.11</td>\n",
              "      <td>0</td>\n",
              "      <td>-2</td>\n",
              "      <td>0.000000</td>\n",
              "      <td>0.020120</td>\n",
              "      <td>0.021193</td>\n",
              "      <td>0.020455</td>\n",
              "      <td>3.192871</td>\n",
              "      <td>0.037004</td>\n",
              "      <td>0.036351</td>\n",
              "      <td>6.973569</td>\n",
              "      <td>6.969707</td>\n",
              "      <td>2</td>\n",
              "    </tr>\n",
              "    <tr>\n",
              "      <th>2018090600:492:1</th>\n",
              "      <td>0</td>\n",
              "      <td>1</td>\n",
              "      <td>2</td>\n",
              "      <td>4</td>\n",
              "      <td>0</td>\n",
              "      <td>145.61535</td>\n",
              "      <td>145.61535</td>\n",
              "      <td>19.61</td>\n",
              "      <td>13.82</td>\n",
              "      <td>1</td>\n",
              "      <td>2</td>\n",
              "      <td>2</td>\n",
              "      <td>1</td>\n",
              "      <td>0</td>\n",
              "      <td>0</td>\n",
              "      <td>3</td>\n",
              "      <td>2</td>\n",
              "      <td>2</td>\n",
              "      <td>right</td>\n",
              "      <td>4</td>\n",
              "      <td>3</td>\n",
              "      <td>2</td>\n",
              "      <td>3</td>\n",
              "      <td>-2.58</td>\n",
              "      <td>-2</td>\n",
              "      <td>0</td>\n",
              "      <td>0.020227</td>\n",
              "      <td>0.019319</td>\n",
              "      <td>0.019614</td>\n",
              "      <td>0.000000</td>\n",
              "      <td>4.505020</td>\n",
              "      <td>0.048072</td>\n",
              "      <td>0.048072</td>\n",
              "      <td>6.972530</td>\n",
              "      <td>6.972530</td>\n",
              "      <td>2</td>\n",
              "    </tr>\n",
              "    <tr>\n",
              "      <th>2018090600:776:1</th>\n",
              "      <td>3</td>\n",
              "      <td>1</td>\n",
              "      <td>2</td>\n",
              "      <td>1</td>\n",
              "      <td>1</td>\n",
              "      <td>234.84220</td>\n",
              "      <td>163.61555</td>\n",
              "      <td>29.95</td>\n",
              "      <td>15.29</td>\n",
              "      <td>1</td>\n",
              "      <td>3</td>\n",
              "      <td>1</td>\n",
              "      <td>1</td>\n",
              "      <td>0</td>\n",
              "      <td>0</td>\n",
              "      <td>2</td>\n",
              "      <td>3</td>\n",
              "      <td>3</td>\n",
              "      <td>left</td>\n",
              "      <td>2</td>\n",
              "      <td>6</td>\n",
              "      <td>1</td>\n",
              "      <td>4</td>\n",
              "      <td>-0.25</td>\n",
              "      <td>-1</td>\n",
              "      <td>-2</td>\n",
              "      <td>0.018878</td>\n",
              "      <td>0.018251</td>\n",
              "      <td>0.020833</td>\n",
              "      <td>0.021279</td>\n",
              "      <td>2.854252</td>\n",
              "      <td>0.034065</td>\n",
              "      <td>0.030559</td>\n",
              "      <td>7.978709</td>\n",
              "      <td>7.975552</td>\n",
              "      <td>0</td>\n",
              "    </tr>\n",
              "    <tr>\n",
              "      <th>2018090600:839:1</th>\n",
              "      <td>3</td>\n",
              "      <td>0</td>\n",
              "      <td>1</td>\n",
              "      <td>3</td>\n",
              "      <td>1</td>\n",
              "      <td>195.11485</td>\n",
              "      <td>170.92430</td>\n",
              "      <td>29.30</td>\n",
              "      <td>13.18</td>\n",
              "      <td>1</td>\n",
              "      <td>3</td>\n",
              "      <td>1</td>\n",
              "      <td>1</td>\n",
              "      <td>0</td>\n",
              "      <td>0</td>\n",
              "      <td>2</td>\n",
              "      <td>3</td>\n",
              "      <td>3</td>\n",
              "      <td>left</td>\n",
              "      <td>3</td>\n",
              "      <td>5</td>\n",
              "      <td>2</td>\n",
              "      <td>3</td>\n",
              "      <td>-0.99</td>\n",
              "      <td>-1</td>\n",
              "      <td>-2</td>\n",
              "      <td>0.000000</td>\n",
              "      <td>0.020833</td>\n",
              "      <td>0.019537</td>\n",
              "      <td>0.021279</td>\n",
              "      <td>2.621043</td>\n",
              "      <td>0.041001</td>\n",
              "      <td>0.029253</td>\n",
              "      <td>7.969249</td>\n",
              "      <td>7.982448</td>\n",
              "      <td>0</td>\n",
              "    </tr>\n",
              "    <tr>\n",
              "      <th>2018090600:949:1</th>\n",
              "      <td>0</td>\n",
              "      <td>0</td>\n",
              "      <td>2</td>\n",
              "      <td>3</td>\n",
              "      <td>2</td>\n",
              "      <td>129.48690</td>\n",
              "      <td>129.48690</td>\n",
              "      <td>32.42</td>\n",
              "      <td>7.89</td>\n",
              "      <td>1</td>\n",
              "      <td>3</td>\n",
              "      <td>1</td>\n",
              "      <td>1</td>\n",
              "      <td>0</td>\n",
              "      <td>0</td>\n",
              "      <td>3</td>\n",
              "      <td>1</td>\n",
              "      <td>3</td>\n",
              "      <td>right</td>\n",
              "      <td>4</td>\n",
              "      <td>3</td>\n",
              "      <td>3</td>\n",
              "      <td>2</td>\n",
              "      <td>1.46</td>\n",
              "      <td>-1</td>\n",
              "      <td>-1</td>\n",
              "      <td>0.000000</td>\n",
              "      <td>0.018484</td>\n",
              "      <td>0.021035</td>\n",
              "      <td>0.020745</td>\n",
              "      <td>4.896248</td>\n",
              "      <td>0.054060</td>\n",
              "      <td>0.054060</td>\n",
              "      <td>6.969109</td>\n",
              "      <td>6.969109</td>\n",
              "      <td>0</td>\n",
              "    </tr>\n",
              "    <tr>\n",
              "      <th>...</th>\n",
              "      <td>...</td>\n",
              "      <td>...</td>\n",
              "      <td>...</td>\n",
              "      <td>...</td>\n",
              "      <td>...</td>\n",
              "      <td>...</td>\n",
              "      <td>...</td>\n",
              "      <td>...</td>\n",
              "      <td>...</td>\n",
              "      <td>...</td>\n",
              "      <td>...</td>\n",
              "      <td>...</td>\n",
              "      <td>...</td>\n",
              "      <td>...</td>\n",
              "      <td>...</td>\n",
              "      <td>...</td>\n",
              "      <td>...</td>\n",
              "      <td>...</td>\n",
              "      <td>...</td>\n",
              "      <td>...</td>\n",
              "      <td>...</td>\n",
              "      <td>...</td>\n",
              "      <td>...</td>\n",
              "      <td>...</td>\n",
              "      <td>...</td>\n",
              "      <td>...</td>\n",
              "      <td>...</td>\n",
              "      <td>...</td>\n",
              "      <td>...</td>\n",
              "      <td>...</td>\n",
              "      <td>...</td>\n",
              "      <td>...</td>\n",
              "      <td>...</td>\n",
              "      <td>...</td>\n",
              "      <td>...</td>\n",
              "      <td>...</td>\n",
              "    </tr>\n",
              "    <tr>\n",
              "      <th>2018091612:1340:2</th>\n",
              "      <td>0</td>\n",
              "      <td>0</td>\n",
              "      <td>3</td>\n",
              "      <td>3</td>\n",
              "      <td>1</td>\n",
              "      <td>133.10630</td>\n",
              "      <td>133.10630</td>\n",
              "      <td>27.27</td>\n",
              "      <td>10.42</td>\n",
              "      <td>1</td>\n",
              "      <td>1</td>\n",
              "      <td>3</td>\n",
              "      <td>1</td>\n",
              "      <td>0</td>\n",
              "      <td>0</td>\n",
              "      <td>2</td>\n",
              "      <td>2</td>\n",
              "      <td>3</td>\n",
              "      <td>right</td>\n",
              "      <td>3</td>\n",
              "      <td>4</td>\n",
              "      <td>2</td>\n",
              "      <td>3</td>\n",
              "      <td>-1.68</td>\n",
              "      <td>-1</td>\n",
              "      <td>-1</td>\n",
              "      <td>0.000000</td>\n",
              "      <td>0.018476</td>\n",
              "      <td>0.019454</td>\n",
              "      <td>0.021034</td>\n",
              "      <td>5.123724</td>\n",
              "      <td>0.052590</td>\n",
              "      <td>0.052590</td>\n",
              "      <td>6.969949</td>\n",
              "      <td>6.969949</td>\n",
              "      <td>1</td>\n",
              "    </tr>\n",
              "    <tr>\n",
              "      <th>2018121700:2514:15</th>\n",
              "      <td>0</td>\n",
              "      <td>2</td>\n",
              "      <td>2</td>\n",
              "      <td>2</td>\n",
              "      <td>1</td>\n",
              "      <td>259.20250</td>\n",
              "      <td>259.20250</td>\n",
              "      <td>28.82</td>\n",
              "      <td>13.73</td>\n",
              "      <td>1</td>\n",
              "      <td>3</td>\n",
              "      <td>1</td>\n",
              "      <td>1</td>\n",
              "      <td>0</td>\n",
              "      <td>0</td>\n",
              "      <td>2</td>\n",
              "      <td>2</td>\n",
              "      <td>3</td>\n",
              "      <td>right</td>\n",
              "      <td>5</td>\n",
              "      <td>2</td>\n",
              "      <td>4</td>\n",
              "      <td>1</td>\n",
              "      <td>-1.89</td>\n",
              "      <td>-1</td>\n",
              "      <td>-1</td>\n",
              "      <td>0.019116</td>\n",
              "      <td>0.017487</td>\n",
              "      <td>0.019579</td>\n",
              "      <td>0.021707</td>\n",
              "      <td>2.592568</td>\n",
              "      <td>0.027006</td>\n",
              "      <td>0.027006</td>\n",
              "      <td>6.976852</td>\n",
              "      <td>6.976852</td>\n",
              "      <td>1</td>\n",
              "    </tr>\n",
              "    <tr>\n",
              "      <th>2018100100:4242:4</th>\n",
              "      <td>2</td>\n",
              "      <td>0</td>\n",
              "      <td>1</td>\n",
              "      <td>4</td>\n",
              "      <td>2</td>\n",
              "      <td>311.79630</td>\n",
              "      <td>253.54180</td>\n",
              "      <td>34.77</td>\n",
              "      <td>13.60</td>\n",
              "      <td>1</td>\n",
              "      <td>3</td>\n",
              "      <td>1</td>\n",
              "      <td>1</td>\n",
              "      <td>0</td>\n",
              "      <td>0</td>\n",
              "      <td>2</td>\n",
              "      <td>3</td>\n",
              "      <td>4</td>\n",
              "      <td>right</td>\n",
              "      <td>5</td>\n",
              "      <td>4</td>\n",
              "      <td>3</td>\n",
              "      <td>2</td>\n",
              "      <td>-1.28</td>\n",
              "      <td>-2</td>\n",
              "      <td>-2</td>\n",
              "      <td>0.000000</td>\n",
              "      <td>0.017103</td>\n",
              "      <td>0.019758</td>\n",
              "      <td>0.020227</td>\n",
              "      <td>2.563680</td>\n",
              "      <td>0.028865</td>\n",
              "      <td>0.027609</td>\n",
              "      <td>8.983964</td>\n",
              "      <td>8.980279</td>\n",
              "      <td>1</td>\n",
              "    </tr>\n",
              "    <tr>\n",
              "      <th>2018110409:3145:9</th>\n",
              "      <td>1</td>\n",
              "      <td>0</td>\n",
              "      <td>2</td>\n",
              "      <td>4</td>\n",
              "      <td>1</td>\n",
              "      <td>235.93675</td>\n",
              "      <td>180.68475</td>\n",
              "      <td>26.71</td>\n",
              "      <td>13.74</td>\n",
              "      <td>1</td>\n",
              "      <td>2</td>\n",
              "      <td>2</td>\n",
              "      <td>1</td>\n",
              "      <td>0</td>\n",
              "      <td>0</td>\n",
              "      <td>2</td>\n",
              "      <td>4</td>\n",
              "      <td>2</td>\n",
              "      <td>right</td>\n",
              "      <td>3</td>\n",
              "      <td>5</td>\n",
              "      <td>2</td>\n",
              "      <td>3</td>\n",
              "      <td>-0.56</td>\n",
              "      <td>-1</td>\n",
              "      <td>-2</td>\n",
              "      <td>0.000000</td>\n",
              "      <td>0.019336</td>\n",
              "      <td>0.018894</td>\n",
              "      <td>0.021687</td>\n",
              "      <td>3.702581</td>\n",
              "      <td>0.033907</td>\n",
              "      <td>0.038742</td>\n",
              "      <td>7.978808</td>\n",
              "      <td>7.972327</td>\n",
              "      <td>1</td>\n",
              "    </tr>\n",
              "    <tr>\n",
              "      <th>2018091300:4262:2</th>\n",
              "      <td>3</td>\n",
              "      <td>1</td>\n",
              "      <td>1</td>\n",
              "      <td>2</td>\n",
              "      <td>1</td>\n",
              "      <td>262.61320</td>\n",
              "      <td>262.61320</td>\n",
              "      <td>27.47</td>\n",
              "      <td>19.12</td>\n",
              "      <td>1</td>\n",
              "      <td>3</td>\n",
              "      <td>1</td>\n",
              "      <td>1</td>\n",
              "      <td>0</td>\n",
              "      <td>0</td>\n",
              "      <td>2</td>\n",
              "      <td>3</td>\n",
              "      <td>3</td>\n",
              "      <td>left</td>\n",
              "      <td>3</td>\n",
              "      <td>5</td>\n",
              "      <td>3</td>\n",
              "      <td>2</td>\n",
              "      <td>-0.44</td>\n",
              "      <td>0</td>\n",
              "      <td>-3</td>\n",
              "      <td>0.020455</td>\n",
              "      <td>0.017767</td>\n",
              "      <td>0.020048</td>\n",
              "      <td>0.020562</td>\n",
              "      <td>1.747818</td>\n",
              "      <td>0.030463</td>\n",
              "      <td>0.019039</td>\n",
              "      <td>7.984768</td>\n",
              "      <td>7.984768</td>\n",
              "      <td>1</td>\n",
              "    </tr>\n",
              "  </tbody>\n",
              "</table>\n",
              "<p>7184 rows × 36 columns</p>\n",
              "</div>"
            ],
            "text/plain": [
              "                    defensivelinezonePlayers  deepzonePlayers  \\\n",
              "id                                                              \n",
              "2018090600:190:1                           1                0   \n",
              "2018090600:492:1                           0                1   \n",
              "2018090600:776:1                           3                1   \n",
              "2018090600:839:1                           3                0   \n",
              "2018090600:949:1                           0                0   \n",
              "...                                      ...              ...   \n",
              "2018091612:1340:2                          0                0   \n",
              "2018121700:2514:15                         0                2   \n",
              "2018100100:4242:4                          2                0   \n",
              "2018110409:3145:9                          1                0   \n",
              "2018091300:4262:2                          3                1   \n",
              "\n",
              "                    hookzonePlayers  curlzonePlayers  flatzonePlayers  \\\n",
              "id                                                                      \n",
              "2018090600:190:1                  2                3                1   \n",
              "2018090600:492:1                  2                4                0   \n",
              "2018090600:776:1                  2                1                1   \n",
              "2018090600:839:1                  1                3                1   \n",
              "2018090600:949:1                  2                3                2   \n",
              "...                             ...              ...              ...   \n",
              "2018091612:1340:2                 3                3                1   \n",
              "2018121700:2514:15                2                2                1   \n",
              "2018100100:4242:4                 1                4                2   \n",
              "2018110409:3145:9                 2                4                1   \n",
              "2018091300:4262:2                 1                2                1   \n",
              "\n",
              "                    defenseArea  defenseAreaCoverDefenders  width  height  \\\n",
              "id                                                                          \n",
              "2018090600:190:1      189.16960                  165.05520  26.42   12.91   \n",
              "2018090600:492:1      145.61535                  145.61535  19.61   13.82   \n",
              "2018090600:776:1      234.84220                  163.61555  29.95   15.29   \n",
              "2018090600:839:1      195.11485                  170.92430  29.30   13.18   \n",
              "2018090600:949:1      129.48690                  129.48690  32.42    7.89   \n",
              "...                         ...                        ...    ...     ...   \n",
              "2018091612:1340:2     133.10630                  133.10630  27.27   10.42   \n",
              "2018121700:2514:15    259.20250                  259.20250  28.82   13.73   \n",
              "2018100100:4242:4     311.79630                  253.54180  34.77   13.60   \n",
              "2018110409:3145:9     235.93675                  180.68475  26.71   13.74   \n",
              "2018091300:4262:2     262.61320                  262.61320  27.47   19.12   \n",
              "\n",
              "                    numberQBs  numberWRs  numberTEs  numberRBs  numberFBs  \\\n",
              "id                                                                          \n",
              "2018090600:190:1            1          3          1          1          0   \n",
              "2018090600:492:1            1          2          2          1          0   \n",
              "2018090600:776:1            1          3          1          1          0   \n",
              "2018090600:839:1            1          3          1          1          0   \n",
              "2018090600:949:1            1          3          1          1          0   \n",
              "...                       ...        ...        ...        ...        ...   \n",
              "2018091612:1340:2           1          1          3          1          0   \n",
              "2018121700:2514:15          1          3          1          1          0   \n",
              "2018100100:4242:4           1          3          1          1          0   \n",
              "2018110409:3145:9           1          2          2          1          0   \n",
              "2018091300:4262:2           1          3          1          1          0   \n",
              "\n",
              "                    numberOffensivePlayersAnotherPosition  numberSafeties  \\\n",
              "id                                                                          \n",
              "2018090600:190:1                                        0               3   \n",
              "2018090600:492:1                                        0               3   \n",
              "2018090600:776:1                                        0               2   \n",
              "2018090600:839:1                                        0               2   \n",
              "2018090600:949:1                                        0               3   \n",
              "...                                                   ...             ...   \n",
              "2018091612:1340:2                                       0               2   \n",
              "2018121700:2514:15                                      0               2   \n",
              "2018100100:4242:4                                       0               2   \n",
              "2018110409:3145:9                                       0               2   \n",
              "2018091300:4262:2                                       0               2   \n",
              "\n",
              "                    numberLBs  numberCBs strongSide  \\\n",
              "id                                                    \n",
              "2018090600:190:1            1          3      right   \n",
              "2018090600:492:1            2          2      right   \n",
              "2018090600:776:1            3          3       left   \n",
              "2018090600:839:1            3          3       left   \n",
              "2018090600:949:1            1          3      right   \n",
              "...                       ...        ...        ...   \n",
              "2018091612:1340:2           2          3      right   \n",
              "2018121700:2514:15          2          3      right   \n",
              "2018100100:4242:4           3          4      right   \n",
              "2018110409:3145:9           4          2      right   \n",
              "2018091300:4262:2           3          3       left   \n",
              "\n",
              "                    numberPlayersDefenseStrongSide  \\\n",
              "id                                                   \n",
              "2018090600:190:1                                 2   \n",
              "2018090600:492:1                                 4   \n",
              "2018090600:776:1                                 2   \n",
              "2018090600:839:1                                 3   \n",
              "2018090600:949:1                                 4   \n",
              "...                                            ...   \n",
              "2018091612:1340:2                                3   \n",
              "2018121700:2514:15                               5   \n",
              "2018100100:4242:4                                5   \n",
              "2018110409:3145:9                                3   \n",
              "2018091300:4262:2                                3   \n",
              "\n",
              "                    numberPlayersDefenseWeakSide  \\\n",
              "id                                                 \n",
              "2018090600:190:1                               5   \n",
              "2018090600:492:1                               3   \n",
              "2018090600:776:1                               6   \n",
              "2018090600:839:1                               5   \n",
              "2018090600:949:1                               3   \n",
              "...                                          ...   \n",
              "2018091612:1340:2                              4   \n",
              "2018121700:2514:15                             2   \n",
              "2018100100:4242:4                              4   \n",
              "2018110409:3145:9                              5   \n",
              "2018091300:4262:2                              5   \n",
              "\n",
              "                    numberPlayersOffenseStrongSide  \\\n",
              "id                                                   \n",
              "2018090600:190:1                                 2   \n",
              "2018090600:492:1                                 2   \n",
              "2018090600:776:1                                 1   \n",
              "2018090600:839:1                                 2   \n",
              "2018090600:949:1                                 3   \n",
              "...                                            ...   \n",
              "2018091612:1340:2                                2   \n",
              "2018121700:2514:15                               4   \n",
              "2018100100:4242:4                                3   \n",
              "2018110409:3145:9                                2   \n",
              "2018091300:4262:2                                3   \n",
              "\n",
              "                    numberPlayersOffenseWeakSide  \\\n",
              "id                                                 \n",
              "2018090600:190:1                               3   \n",
              "2018090600:492:1                               3   \n",
              "2018090600:776:1                               4   \n",
              "2018090600:839:1                               3   \n",
              "2018090600:949:1                               2   \n",
              "...                                          ...   \n",
              "2018091612:1340:2                              3   \n",
              "2018121700:2514:15                             1   \n",
              "2018100100:4242:4                              2   \n",
              "2018110409:3145:9                              3   \n",
              "2018091300:4262:2                              2   \n",
              "\n",
              "                    differenceOffenseVsDefenseWidth  \\\n",
              "id                                                    \n",
              "2018090600:190:1                              -3.11   \n",
              "2018090600:492:1                              -2.58   \n",
              "2018090600:776:1                              -0.25   \n",
              "2018090600:839:1                              -0.99   \n",
              "2018090600:949:1                               1.46   \n",
              "...                                             ...   \n",
              "2018091612:1340:2                             -1.68   \n",
              "2018121700:2514:15                            -1.89   \n",
              "2018100100:4242:4                             -1.28   \n",
              "2018110409:3145:9                             -0.56   \n",
              "2018091300:4262:2                             -0.44   \n",
              "\n",
              "                    differenceOffenseVsDefenseStrongSide  \\\n",
              "id                                                         \n",
              "2018090600:190:1                                       0   \n",
              "2018090600:492:1                                      -2   \n",
              "2018090600:776:1                                      -1   \n",
              "2018090600:839:1                                      -1   \n",
              "2018090600:949:1                                      -1   \n",
              "...                                                  ...   \n",
              "2018091612:1340:2                                     -1   \n",
              "2018121700:2514:15                                    -1   \n",
              "2018100100:4242:4                                     -2   \n",
              "2018110409:3145:9                                     -1   \n",
              "2018091300:4262:2                                      0   \n",
              "\n",
              "                    differenceOffenseVsDefenseWeakSide  HeightByWeightDeep  \\\n",
              "id                                                                           \n",
              "2018090600:190:1                                    -2            0.000000   \n",
              "2018090600:492:1                                     0            0.020227   \n",
              "2018090600:776:1                                    -2            0.018878   \n",
              "2018090600:839:1                                    -2            0.000000   \n",
              "2018090600:949:1                                    -1            0.000000   \n",
              "...                                                ...                 ...   \n",
              "2018091612:1340:2                                   -1            0.000000   \n",
              "2018121700:2514:15                                  -1            0.019116   \n",
              "2018100100:4242:4                                   -2            0.000000   \n",
              "2018110409:3145:9                                   -2            0.000000   \n",
              "2018091300:4262:2                                   -3            0.020455   \n",
              "\n",
              "                    HeightByWeightHook  HeightByWeightCurl  \\\n",
              "id                                                           \n",
              "2018090600:190:1              0.020120            0.021193   \n",
              "2018090600:492:1              0.019319            0.019614   \n",
              "2018090600:776:1              0.018251            0.020833   \n",
              "2018090600:839:1              0.020833            0.019537   \n",
              "2018090600:949:1              0.018484            0.021035   \n",
              "...                                ...                 ...   \n",
              "2018091612:1340:2             0.018476            0.019454   \n",
              "2018121700:2514:15            0.017487            0.019579   \n",
              "2018100100:4242:4             0.017103            0.019758   \n",
              "2018110409:3145:9             0.019336            0.018894   \n",
              "2018091300:4262:2             0.017767            0.020048   \n",
              "\n",
              "                    HeightByWeightFlat  WeightByArea   density  densityNoLine  \\\n",
              "id                                                                              \n",
              "2018090600:190:1              0.020455      3.192871  0.037004       0.036351   \n",
              "2018090600:492:1              0.000000      4.505020  0.048072       0.048072   \n",
              "2018090600:776:1              0.021279      2.854252  0.034065       0.030559   \n",
              "2018090600:839:1              0.021279      2.621043  0.041001       0.029253   \n",
              "2018090600:949:1              0.020745      4.896248  0.054060       0.054060   \n",
              "...                                ...           ...       ...            ...   \n",
              "2018091612:1340:2             0.021034      5.123724  0.052590       0.052590   \n",
              "2018121700:2514:15            0.021707      2.592568  0.027006       0.027006   \n",
              "2018100100:4242:4             0.020227      2.563680  0.028865       0.027609   \n",
              "2018110409:3145:9             0.021687      3.702581  0.033907       0.038742   \n",
              "2018091300:4262:2             0.020562      1.747818  0.030463       0.019039   \n",
              "\n",
              "                    densityInsidePoints  densityInsidePointsNoLine  playResult  \n",
              "id                                                                              \n",
              "2018090600:190:1               6.973569                   6.969707           2  \n",
              "2018090600:492:1               6.972530                   6.972530           2  \n",
              "2018090600:776:1               7.978709                   7.975552           0  \n",
              "2018090600:839:1               7.969249                   7.982448           0  \n",
              "2018090600:949:1               6.969109                   6.969109           0  \n",
              "...                                 ...                        ...         ...  \n",
              "2018091612:1340:2              6.969949                   6.969949           1  \n",
              "2018121700:2514:15             6.976852                   6.976852           1  \n",
              "2018100100:4242:4              8.983964                   8.980279           1  \n",
              "2018110409:3145:9              7.978808                   7.972327           1  \n",
              "2018091300:4262:2              7.984768                   7.984768           1  \n",
              "\n",
              "[7184 rows x 36 columns]"
            ]
          },
          "metadata": {
            "tags": []
          },
          "execution_count": 207
        }
      ]
    },
    {
      "cell_type": "markdown",
      "metadata": {
        "id": "k1dUzH2OLNE4"
      },
      "source": [
        "##Sin yardas negativas ni big plays"
      ]
    },
    {
      "cell_type": "code",
      "metadata": {
        "id": "S12Wv2GOLTVu"
      },
      "source": [
        "def assignTag(number): \n",
        "  tag = \"\"\n",
        "  if number < 0:\n",
        "    tag = -1 #\"negativeYards\"\n",
        "  elif number < 3:\n",
        "    tag = 0 #\"fewYards\"\n",
        "  elif number < 7:\n",
        "    tag = 1 #\"mediumYards\"\n",
        "  elif number < 16:\n",
        "    tag = 2 #\"muchYards\"\n",
        "  else:\n",
        "    tag = -1 #\"bigPlay\"\n",
        "  \n",
        "  return tag"
      ],
      "execution_count": null,
      "outputs": []
    },
    {
      "cell_type": "code",
      "metadata": {
        "id": "1jAk2kTKLTVw"
      },
      "source": [
        "static_defenses[\"playResult\"] = static_defenses[\"playResult\"].apply(assignTag)"
      ],
      "execution_count": null,
      "outputs": []
    },
    {
      "cell_type": "code",
      "metadata": {
        "id": "2_HzhjhkLqjo"
      },
      "source": [
        "static_defenses.drop(static_defenses[static_defenses[\"playResult\"]==-1].index,inplace=True)"
      ],
      "execution_count": null,
      "outputs": []
    },
    {
      "cell_type": "markdown",
      "metadata": {
        "id": "5eF8MzL9SUq-"
      },
      "source": [
        "##No se avanzan yardas y se avanzan yardas"
      ]
    },
    {
      "cell_type": "code",
      "metadata": {
        "id": "s2_AjWLgSbu0"
      },
      "source": [
        "def assignTag(number): \n",
        "  tag = \"\"\n",
        "  if number <= 0:\n",
        "    tag = 0 #no avanza yardas\n",
        "  else:\n",
        "    tag = 1 #avanza yardas\n",
        "  \n",
        "  return tag"
      ],
      "execution_count": null,
      "outputs": []
    },
    {
      "cell_type": "code",
      "metadata": {
        "id": "QLHWZd9fSozB"
      },
      "source": [
        "static_defenses[\"playResult\"] = static_defenses[\"playResult\"].apply(assignTag)"
      ],
      "execution_count": null,
      "outputs": []
    },
    {
      "cell_type": "code",
      "metadata": {
        "colab": {
          "base_uri": "https://localhost:8080/"
        },
        "id": "IXTh06jvT4wO",
        "outputId": "3b99bbd9-cfb9-46e8-a329-59edff730e39"
      },
      "source": [
        "static_defenses[\"playResult\"].value_counts()"
      ],
      "execution_count": null,
      "outputs": [
        {
          "output_type": "execute_result",
          "data": {
            "text/plain": [
              "1    9819\n",
              "0    6596\n",
              "Name: playResult, dtype: int64"
            ]
          },
          "metadata": {
            "tags": []
          },
          "execution_count": 131
        }
      ]
    },
    {
      "cell_type": "code",
      "metadata": {
        "colab": {
          "base_uri": "https://localhost:8080/"
        },
        "id": "cLxGWWfdWeMF",
        "outputId": "c9ce0650-201c-4ecc-88db-cfe31c8aa02b"
      },
      "source": [
        "len(static_defenses[static_defenses[\"playResult\"]==0])/len(static_defenses)"
      ],
      "execution_count": null,
      "outputs": [
        {
          "output_type": "execute_result",
          "data": {
            "text/plain": [
              "0.4018275967103259"
            ]
          },
          "metadata": {
            "tags": []
          },
          "execution_count": 63
        }
      ]
    },
    {
      "cell_type": "code",
      "metadata": {
        "colab": {
          "base_uri": "https://localhost:8080/"
        },
        "id": "i8_OeOQ6WnPq",
        "outputId": "3bd26dad-da20-489d-e986-dcdda32ac4fb"
      },
      "source": [
        "len(static_defenses[static_defenses[\"playResult\"]==1])/len(static_defenses)"
      ],
      "execution_count": null,
      "outputs": [
        {
          "output_type": "execute_result",
          "data": {
            "text/plain": [
              "0.598172403289674"
            ]
          },
          "metadata": {
            "tags": []
          },
          "execution_count": 64
        }
      ]
    },
    {
      "cell_type": "markdown",
      "metadata": {
        "id": "L6hqtlgU7Nza"
      },
      "source": [
        "##Exploración\n"
      ]
    },
    {
      "cell_type": "code",
      "metadata": {
        "colab": {
          "base_uri": "https://localhost:8080/"
        },
        "id": "lXDGTU2v7QQC",
        "outputId": "d40c6158-f712-497d-92ad-1d5d7352dc0c"
      },
      "source": [
        "static_defenses[\"playResult\"].value_counts()"
      ],
      "execution_count": null,
      "outputs": [
        {
          "output_type": "execute_result",
          "data": {
            "text/plain": [
              "1    12363\n",
              "2     2603\n",
              "0     1449\n",
              "Name: playResult, dtype: int64"
            ]
          },
          "metadata": {
            "tags": []
          },
          "execution_count": 43
        }
      ]
    },
    {
      "cell_type": "markdown",
      "metadata": {
        "id": "FclejPHi7nsE"
      },
      "source": [
        "Está más o menos repartido"
      ]
    },
    {
      "cell_type": "markdown",
      "metadata": {
        "id": "WAp_1w2Co9L7"
      },
      "source": [
        "#Eliminar big plays"
      ]
    },
    {
      "cell_type": "markdown",
      "metadata": {
        "id": "3cYWotQIS5B5"
      },
      "source": [
        "##Big plays ofensivas"
      ]
    },
    {
      "cell_type": "code",
      "metadata": {
        "id": "nxxsl-XJpBYo",
        "colab": {
          "base_uri": "https://localhost:8080/"
        },
        "outputId": "19cc6abb-1ac7-45a2-c430-ea857da9ad12"
      },
      "source": [
        "static_defenses.drop()"
      ],
      "execution_count": null,
      "outputs": [
        {
          "output_type": "execute_result",
          "data": {
            "text/plain": [
              "6.974169966494061"
            ]
          },
          "metadata": {
            "tags": []
          },
          "execution_count": 21
        }
      ]
    },
    {
      "cell_type": "markdown",
      "metadata": {
        "id": "O50zenjKQFud"
      },
      "source": [
        "Vamos a seguir el siguiente criterio: a partir de 16 yardas es una big play en pase\n",
        "\n",
        "Fuente: https://www.espn.com/blog/nflnation/post/_/id/73001/nfl-big-plays-who-and-what-makes-them"
      ]
    },
    {
      "cell_type": "code",
      "metadata": {
        "colab": {
          "base_uri": "https://localhost:8080/"
        },
        "id": "yLINpSnAQOWw",
        "outputId": "979967ed-6d63-4e14-ae21-24f67a4d077e"
      },
      "source": [
        "len(static_defenses[static_defenses[\"playResult\"]>=16])"
      ],
      "execution_count": null,
      "outputs": [
        {
          "output_type": "execute_result",
          "data": {
            "text/plain": [
              "2603"
            ]
          },
          "metadata": {
            "tags": []
          },
          "execution_count": 22
        }
      ]
    },
    {
      "cell_type": "code",
      "metadata": {
        "colab": {
          "base_uri": "https://localhost:8080/"
        },
        "id": "VLJ8wn1TQijQ",
        "outputId": "d8cf975a-1a4a-4bc3-e7b9-67ca808c1713"
      },
      "source": [
        "len(static_defenses[static_defenses[\"playResult\"]>=16]) / len(static_defenses) * 100"
      ],
      "execution_count": null,
      "outputs": [
        {
          "output_type": "execute_result",
          "data": {
            "text/plain": [
              "15.857447456594578"
            ]
          },
          "metadata": {
            "tags": []
          },
          "execution_count": 23
        }
      ]
    },
    {
      "cell_type": "markdown",
      "metadata": {
        "id": "-zt1PzqNQnzZ"
      },
      "source": [
        "Representan el 16% de las jugadas, podríamos al menos estudiarlo por separarlo"
      ]
    },
    {
      "cell_type": "code",
      "metadata": {
        "id": "MLWz2yWFRWYC"
      },
      "source": [
        "big_plays_offense = static_defenses[static_defenses[\"playResult\"]>=16]"
      ],
      "execution_count": null,
      "outputs": []
    },
    {
      "cell_type": "code",
      "metadata": {
        "id": "nCLOmXPiQyqZ"
      },
      "source": [
        "static_defenses.drop(static_defenses[static_defenses[\"playResult\"]>=16].index,inplace=True)"
      ],
      "execution_count": null,
      "outputs": []
    },
    {
      "cell_type": "code",
      "metadata": {
        "colab": {
          "base_uri": "https://localhost:8080/"
        },
        "id": "uJllnedeRO_z",
        "outputId": "69090959-0220-4fa7-f513-c1b994f30918"
      },
      "source": [
        "len(static_defenses)"
      ],
      "execution_count": null,
      "outputs": [
        {
          "output_type": "execute_result",
          "data": {
            "text/plain": [
              "13812"
            ]
          },
          "metadata": {
            "tags": []
          },
          "execution_count": 26
        }
      ]
    },
    {
      "cell_type": "markdown",
      "metadata": {
        "id": "Kq9xUGwzS7dT"
      },
      "source": [
        "##Big plays defensivas"
      ]
    },
    {
      "cell_type": "code",
      "metadata": {
        "colab": {
          "base_uri": "https://localhost:8080/"
        },
        "id": "t9FlctskTCz8",
        "outputId": "bc410dc7-ae2e-42c6-ff64-7b6fcc796ee1"
      },
      "source": [
        "static_defenses[static_defenses[\"playResult\"]<0][\"playResult\"].median()"
      ],
      "execution_count": null,
      "outputs": [
        {
          "output_type": "execute_result",
          "data": {
            "text/plain": [
              "-7.0"
            ]
          },
          "metadata": {
            "tags": []
          },
          "execution_count": 27
        }
      ]
    },
    {
      "cell_type": "code",
      "metadata": {
        "colab": {
          "base_uri": "https://localhost:8080/",
          "height": 475
        },
        "id": "6giN7F_IU6TT",
        "outputId": "8d44edda-2896-4ab4-f922-c8f221cd6db8"
      },
      "source": [
        "static_defenses[static_defenses[\"playResult\"]<=-7]"
      ],
      "execution_count": null,
      "outputs": [
        {
          "output_type": "execute_result",
          "data": {
            "text/html": [
              "<div>\n",
              "<style scoped>\n",
              "    .dataframe tbody tr th:only-of-type {\n",
              "        vertical-align: middle;\n",
              "    }\n",
              "\n",
              "    .dataframe tbody tr th {\n",
              "        vertical-align: top;\n",
              "    }\n",
              "\n",
              "    .dataframe thead th {\n",
              "        text-align: right;\n",
              "    }\n",
              "</style>\n",
              "<table border=\"1\" class=\"dataframe\">\n",
              "  <thead>\n",
              "    <tr style=\"text-align: right;\">\n",
              "      <th></th>\n",
              "      <th>defensivelinezonePlayers</th>\n",
              "      <th>deepzonePlayers</th>\n",
              "      <th>hookzonePlayers</th>\n",
              "      <th>curlzonePlayers</th>\n",
              "      <th>flatzonePlayers</th>\n",
              "      <th>defenseArea</th>\n",
              "      <th>defenseAreaCoverDefenders</th>\n",
              "      <th>width</th>\n",
              "      <th>height</th>\n",
              "      <th>numberQBs</th>\n",
              "      <th>numberWRs</th>\n",
              "      <th>numberTEs</th>\n",
              "      <th>numberRBs</th>\n",
              "      <th>numberFBs</th>\n",
              "      <th>numberOffensivePlayersAnotherPosition</th>\n",
              "      <th>numberSafeties</th>\n",
              "      <th>numberLBs</th>\n",
              "      <th>numberCBs</th>\n",
              "      <th>strongSide</th>\n",
              "      <th>numberPlayersDefenseStrongSide</th>\n",
              "      <th>numberPlayersDefenseWeakSide</th>\n",
              "      <th>numberPlayersOffenseStrongSide</th>\n",
              "      <th>numberPlayersOffenseWeakSide</th>\n",
              "      <th>differenceOffenseVsDefenseWidth</th>\n",
              "      <th>differenceOffenseVsDefenseStrongSide</th>\n",
              "      <th>differenceOffenseVsDefenseWeakSide</th>\n",
              "      <th>HeightByWeightDeep</th>\n",
              "      <th>HeightByWeightHook</th>\n",
              "      <th>HeightByWeightCurl</th>\n",
              "      <th>HeightByWeightFlat</th>\n",
              "      <th>WeightByArea</th>\n",
              "      <th>density</th>\n",
              "      <th>densityNoLine</th>\n",
              "      <th>densityInsidePoints</th>\n",
              "      <th>densityInsidePointsNoLine</th>\n",
              "      <th>playResult</th>\n",
              "    </tr>\n",
              "    <tr>\n",
              "      <th>id</th>\n",
              "      <th></th>\n",
              "      <th></th>\n",
              "      <th></th>\n",
              "      <th></th>\n",
              "      <th></th>\n",
              "      <th></th>\n",
              "      <th></th>\n",
              "      <th></th>\n",
              "      <th></th>\n",
              "      <th></th>\n",
              "      <th></th>\n",
              "      <th></th>\n",
              "      <th></th>\n",
              "      <th></th>\n",
              "      <th></th>\n",
              "      <th></th>\n",
              "      <th></th>\n",
              "      <th></th>\n",
              "      <th></th>\n",
              "      <th></th>\n",
              "      <th></th>\n",
              "      <th></th>\n",
              "      <th></th>\n",
              "      <th></th>\n",
              "      <th></th>\n",
              "      <th></th>\n",
              "      <th></th>\n",
              "      <th></th>\n",
              "      <th></th>\n",
              "      <th></th>\n",
              "      <th></th>\n",
              "      <th></th>\n",
              "      <th></th>\n",
              "      <th></th>\n",
              "      <th></th>\n",
              "      <th></th>\n",
              "    </tr>\n",
              "  </thead>\n",
              "  <tbody>\n",
              "    <tr>\n",
              "      <th>2018090600:776:1</th>\n",
              "      <td>3</td>\n",
              "      <td>1</td>\n",
              "      <td>2</td>\n",
              "      <td>1</td>\n",
              "      <td>1</td>\n",
              "      <td>234.84220</td>\n",
              "      <td>163.61555</td>\n",
              "      <td>29.95</td>\n",
              "      <td>15.29</td>\n",
              "      <td>1</td>\n",
              "      <td>3</td>\n",
              "      <td>1</td>\n",
              "      <td>1</td>\n",
              "      <td>0</td>\n",
              "      <td>0</td>\n",
              "      <td>2</td>\n",
              "      <td>3</td>\n",
              "      <td>3</td>\n",
              "      <td>1</td>\n",
              "      <td>2</td>\n",
              "      <td>6</td>\n",
              "      <td>1</td>\n",
              "      <td>4</td>\n",
              "      <td>-0.25</td>\n",
              "      <td>-1</td>\n",
              "      <td>-2</td>\n",
              "      <td>0.018878</td>\n",
              "      <td>0.018251</td>\n",
              "      <td>0.020833</td>\n",
              "      <td>0.021279</td>\n",
              "      <td>2.854252</td>\n",
              "      <td>0.034065</td>\n",
              "      <td>0.030559</td>\n",
              "      <td>7.978709</td>\n",
              "      <td>7.975552</td>\n",
              "      <td>-7</td>\n",
              "    </tr>\n",
              "    <tr>\n",
              "      <th>2018090600:949:1</th>\n",
              "      <td>0</td>\n",
              "      <td>0</td>\n",
              "      <td>2</td>\n",
              "      <td>3</td>\n",
              "      <td>2</td>\n",
              "      <td>129.48690</td>\n",
              "      <td>129.48690</td>\n",
              "      <td>32.42</td>\n",
              "      <td>7.89</td>\n",
              "      <td>1</td>\n",
              "      <td>3</td>\n",
              "      <td>1</td>\n",
              "      <td>1</td>\n",
              "      <td>0</td>\n",
              "      <td>0</td>\n",
              "      <td>3</td>\n",
              "      <td>1</td>\n",
              "      <td>3</td>\n",
              "      <td>0</td>\n",
              "      <td>4</td>\n",
              "      <td>3</td>\n",
              "      <td>3</td>\n",
              "      <td>2</td>\n",
              "      <td>1.46</td>\n",
              "      <td>-1</td>\n",
              "      <td>-1</td>\n",
              "      <td>0.000000</td>\n",
              "      <td>0.018484</td>\n",
              "      <td>0.021035</td>\n",
              "      <td>0.020745</td>\n",
              "      <td>4.896248</td>\n",
              "      <td>0.054060</td>\n",
              "      <td>0.054060</td>\n",
              "      <td>6.969109</td>\n",
              "      <td>6.969109</td>\n",
              "      <td>-7</td>\n",
              "    </tr>\n",
              "    <tr>\n",
              "      <th>2018090600:1568:1</th>\n",
              "      <td>0</td>\n",
              "      <td>0</td>\n",
              "      <td>1</td>\n",
              "      <td>6</td>\n",
              "      <td>0</td>\n",
              "      <td>162.57650</td>\n",
              "      <td>162.57650</td>\n",
              "      <td>22.58</td>\n",
              "      <td>12.45</td>\n",
              "      <td>1</td>\n",
              "      <td>3</td>\n",
              "      <td>1</td>\n",
              "      <td>1</td>\n",
              "      <td>0</td>\n",
              "      <td>0</td>\n",
              "      <td>3</td>\n",
              "      <td>1</td>\n",
              "      <td>3</td>\n",
              "      <td>0</td>\n",
              "      <td>3</td>\n",
              "      <td>4</td>\n",
              "      <td>1</td>\n",
              "      <td>4</td>\n",
              "      <td>-1.15</td>\n",
              "      <td>-2</td>\n",
              "      <td>0</td>\n",
              "      <td>0.000000</td>\n",
              "      <td>0.020227</td>\n",
              "      <td>0.020223</td>\n",
              "      <td>0.000000</td>\n",
              "      <td>3.899703</td>\n",
              "      <td>0.043057</td>\n",
              "      <td>0.043057</td>\n",
              "      <td>6.975396</td>\n",
              "      <td>6.975396</td>\n",
              "      <td>-9</td>\n",
              "    </tr>\n",
              "    <tr>\n",
              "      <th>2018090600:2503:1</th>\n",
              "      <td>0</td>\n",
              "      <td>1</td>\n",
              "      <td>2</td>\n",
              "      <td>2</td>\n",
              "      <td>2</td>\n",
              "      <td>240.30520</td>\n",
              "      <td>240.30520</td>\n",
              "      <td>33.16</td>\n",
              "      <td>12.69</td>\n",
              "      <td>1</td>\n",
              "      <td>3</td>\n",
              "      <td>1</td>\n",
              "      <td>1</td>\n",
              "      <td>0</td>\n",
              "      <td>0</td>\n",
              "      <td>3</td>\n",
              "      <td>1</td>\n",
              "      <td>3</td>\n",
              "      <td>0</td>\n",
              "      <td>4</td>\n",
              "      <td>3</td>\n",
              "      <td>3</td>\n",
              "      <td>2</td>\n",
              "      <td>2.45</td>\n",
              "      <td>-1</td>\n",
              "      <td>-1</td>\n",
              "      <td>0.020227</td>\n",
              "      <td>0.018484</td>\n",
              "      <td>0.021439</td>\n",
              "      <td>0.020745</td>\n",
              "      <td>2.638312</td>\n",
              "      <td>0.029130</td>\n",
              "      <td>0.029130</td>\n",
              "      <td>6.975032</td>\n",
              "      <td>6.975032</td>\n",
              "      <td>-12</td>\n",
              "    </tr>\n",
              "    <tr>\n",
              "      <th>2018090600:3626:1</th>\n",
              "      <td>2</td>\n",
              "      <td>0</td>\n",
              "      <td>2</td>\n",
              "      <td>4</td>\n",
              "      <td>0</td>\n",
              "      <td>154.37785</td>\n",
              "      <td>147.44340</td>\n",
              "      <td>24.25</td>\n",
              "      <td>11.99</td>\n",
              "      <td>1</td>\n",
              "      <td>2</td>\n",
              "      <td>2</td>\n",
              "      <td>1</td>\n",
              "      <td>0</td>\n",
              "      <td>0</td>\n",
              "      <td>2</td>\n",
              "      <td>3</td>\n",
              "      <td>3</td>\n",
              "      <td>0</td>\n",
              "      <td>5</td>\n",
              "      <td>3</td>\n",
              "      <td>3</td>\n",
              "      <td>2</td>\n",
              "      <td>-5.87</td>\n",
              "      <td>-2</td>\n",
              "      <td>-1</td>\n",
              "      <td>0.000000</td>\n",
              "      <td>0.019512</td>\n",
              "      <td>0.019799</td>\n",
              "      <td>0.000000</td>\n",
              "      <td>3.669205</td>\n",
              "      <td>0.051821</td>\n",
              "      <td>0.040694</td>\n",
              "      <td>7.961134</td>\n",
              "      <td>7.959306</td>\n",
              "      <td>-10</td>\n",
              "    </tr>\n",
              "    <tr>\n",
              "      <th>...</th>\n",
              "      <td>...</td>\n",
              "      <td>...</td>\n",
              "      <td>...</td>\n",
              "      <td>...</td>\n",
              "      <td>...</td>\n",
              "      <td>...</td>\n",
              "      <td>...</td>\n",
              "      <td>...</td>\n",
              "      <td>...</td>\n",
              "      <td>...</td>\n",
              "      <td>...</td>\n",
              "      <td>...</td>\n",
              "      <td>...</td>\n",
              "      <td>...</td>\n",
              "      <td>...</td>\n",
              "      <td>...</td>\n",
              "      <td>...</td>\n",
              "      <td>...</td>\n",
              "      <td>...</td>\n",
              "      <td>...</td>\n",
              "      <td>...</td>\n",
              "      <td>...</td>\n",
              "      <td>...</td>\n",
              "      <td>...</td>\n",
              "      <td>...</td>\n",
              "      <td>...</td>\n",
              "      <td>...</td>\n",
              "      <td>...</td>\n",
              "      <td>...</td>\n",
              "      <td>...</td>\n",
              "      <td>...</td>\n",
              "      <td>...</td>\n",
              "      <td>...</td>\n",
              "      <td>...</td>\n",
              "      <td>...</td>\n",
              "      <td>...</td>\n",
              "    </tr>\n",
              "    <tr>\n",
              "      <th>2018123015:1694:17</th>\n",
              "      <td>3</td>\n",
              "      <td>1</td>\n",
              "      <td>1</td>\n",
              "      <td>1</td>\n",
              "      <td>1</td>\n",
              "      <td>206.35020</td>\n",
              "      <td>137.89705</td>\n",
              "      <td>27.53</td>\n",
              "      <td>14.91</td>\n",
              "      <td>1</td>\n",
              "      <td>3</td>\n",
              "      <td>1</td>\n",
              "      <td>1</td>\n",
              "      <td>0</td>\n",
              "      <td>0</td>\n",
              "      <td>3</td>\n",
              "      <td>2</td>\n",
              "      <td>2</td>\n",
              "      <td>0</td>\n",
              "      <td>2</td>\n",
              "      <td>5</td>\n",
              "      <td>2</td>\n",
              "      <td>3</td>\n",
              "      <td>0.17</td>\n",
              "      <td>0</td>\n",
              "      <td>-2</td>\n",
              "      <td>0.019892</td>\n",
              "      <td>0.019892</td>\n",
              "      <td>0.020227</td>\n",
              "      <td>0.020109</td>\n",
              "      <td>2.654154</td>\n",
              "      <td>0.033923</td>\n",
              "      <td>0.029007</td>\n",
              "      <td>6.975769</td>\n",
              "      <td>6.970993</td>\n",
              "      <td>-8</td>\n",
              "    </tr>\n",
              "    <tr>\n",
              "      <th>2018123015:1921:17</th>\n",
              "      <td>0</td>\n",
              "      <td>0</td>\n",
              "      <td>3</td>\n",
              "      <td>2</td>\n",
              "      <td>2</td>\n",
              "      <td>124.16935</td>\n",
              "      <td>124.16935</td>\n",
              "      <td>36.07</td>\n",
              "      <td>8.24</td>\n",
              "      <td>1</td>\n",
              "      <td>3</td>\n",
              "      <td>1</td>\n",
              "      <td>1</td>\n",
              "      <td>0</td>\n",
              "      <td>0</td>\n",
              "      <td>3</td>\n",
              "      <td>2</td>\n",
              "      <td>2</td>\n",
              "      <td>0</td>\n",
              "      <td>4</td>\n",
              "      <td>3</td>\n",
              "      <td>3</td>\n",
              "      <td>2</td>\n",
              "      <td>-0.12</td>\n",
              "      <td>-1</td>\n",
              "      <td>-1</td>\n",
              "      <td>0.000000</td>\n",
              "      <td>0.019759</td>\n",
              "      <td>0.018591</td>\n",
              "      <td>0.020001</td>\n",
              "      <td>5.315321</td>\n",
              "      <td>0.056375</td>\n",
              "      <td>0.056375</td>\n",
              "      <td>6.967786</td>\n",
              "      <td>6.967786</td>\n",
              "      <td>-7</td>\n",
              "    </tr>\n",
              "    <tr>\n",
              "      <th>2018123015:2469:17</th>\n",
              "      <td>1</td>\n",
              "      <td>1</td>\n",
              "      <td>2</td>\n",
              "      <td>1</td>\n",
              "      <td>2</td>\n",
              "      <td>266.35375</td>\n",
              "      <td>261.58220</td>\n",
              "      <td>31.15</td>\n",
              "      <td>16.07</td>\n",
              "      <td>1</td>\n",
              "      <td>3</td>\n",
              "      <td>1</td>\n",
              "      <td>1</td>\n",
              "      <td>0</td>\n",
              "      <td>0</td>\n",
              "      <td>3</td>\n",
              "      <td>2</td>\n",
              "      <td>2</td>\n",
              "      <td>1</td>\n",
              "      <td>5</td>\n",
              "      <td>2</td>\n",
              "      <td>3</td>\n",
              "      <td>2</td>\n",
              "      <td>-0.32</td>\n",
              "      <td>-2</td>\n",
              "      <td>0</td>\n",
              "      <td>0.019892</td>\n",
              "      <td>0.019526</td>\n",
              "      <td>0.020227</td>\n",
              "      <td>0.020001</td>\n",
              "      <td>2.114058</td>\n",
              "      <td>0.026281</td>\n",
              "      <td>0.022937</td>\n",
              "      <td>6.977474</td>\n",
              "      <td>6.977063</td>\n",
              "      <td>-8</td>\n",
              "    </tr>\n",
              "    <tr>\n",
              "      <th>2018123015:3089:17</th>\n",
              "      <td>0</td>\n",
              "      <td>0</td>\n",
              "      <td>1</td>\n",
              "      <td>5</td>\n",
              "      <td>1</td>\n",
              "      <td>233.56345</td>\n",
              "      <td>233.56345</td>\n",
              "      <td>26.20</td>\n",
              "      <td>12.97</td>\n",
              "      <td>1</td>\n",
              "      <td>3</td>\n",
              "      <td>1</td>\n",
              "      <td>1</td>\n",
              "      <td>0</td>\n",
              "      <td>0</td>\n",
              "      <td>2</td>\n",
              "      <td>1</td>\n",
              "      <td>4</td>\n",
              "      <td>0</td>\n",
              "      <td>3</td>\n",
              "      <td>4</td>\n",
              "      <td>2</td>\n",
              "      <td>3</td>\n",
              "      <td>-0.37</td>\n",
              "      <td>-1</td>\n",
              "      <td>-1</td>\n",
              "      <td>0.000000</td>\n",
              "      <td>0.016636</td>\n",
              "      <td>0.019470</td>\n",
              "      <td>0.020761</td>\n",
              "      <td>2.898570</td>\n",
              "      <td>0.029970</td>\n",
              "      <td>0.029970</td>\n",
              "      <td>6.978593</td>\n",
              "      <td>6.978593</td>\n",
              "      <td>-8</td>\n",
              "    </tr>\n",
              "    <tr>\n",
              "      <th>2018123015:3601:17</th>\n",
              "      <td>2</td>\n",
              "      <td>0</td>\n",
              "      <td>1</td>\n",
              "      <td>4</td>\n",
              "      <td>0</td>\n",
              "      <td>131.03325</td>\n",
              "      <td>93.42570</td>\n",
              "      <td>18.39</td>\n",
              "      <td>12.93</td>\n",
              "      <td>1</td>\n",
              "      <td>3</td>\n",
              "      <td>1</td>\n",
              "      <td>1</td>\n",
              "      <td>0</td>\n",
              "      <td>0</td>\n",
              "      <td>2</td>\n",
              "      <td>1</td>\n",
              "      <td>4</td>\n",
              "      <td>0</td>\n",
              "      <td>3</td>\n",
              "      <td>4</td>\n",
              "      <td>3</td>\n",
              "      <td>2</td>\n",
              "      <td>2.61</td>\n",
              "      <td>0</td>\n",
              "      <td>-2</td>\n",
              "      <td>0.000000</td>\n",
              "      <td>0.018878</td>\n",
              "      <td>0.020090</td>\n",
              "      <td>0.000000</td>\n",
              "      <td>5.020032</td>\n",
              "      <td>0.053422</td>\n",
              "      <td>0.053518</td>\n",
              "      <td>6.969473</td>\n",
              "      <td>6.967889</td>\n",
              "      <td>-9</td>\n",
              "    </tr>\n",
              "  </tbody>\n",
              "</table>\n",
              "<p>757 rows × 36 columns</p>\n",
              "</div>"
            ],
            "text/plain": [
              "                    defensivelinezonePlayers  deepzonePlayers  \\\n",
              "id                                                              \n",
              "2018090600:776:1                           3                1   \n",
              "2018090600:949:1                           0                0   \n",
              "2018090600:1568:1                          0                0   \n",
              "2018090600:2503:1                          0                1   \n",
              "2018090600:3626:1                          2                0   \n",
              "...                                      ...              ...   \n",
              "2018123015:1694:17                         3                1   \n",
              "2018123015:1921:17                         0                0   \n",
              "2018123015:2469:17                         1                1   \n",
              "2018123015:3089:17                         0                0   \n",
              "2018123015:3601:17                         2                0   \n",
              "\n",
              "                    hookzonePlayers  curlzonePlayers  flatzonePlayers  \\\n",
              "id                                                                      \n",
              "2018090600:776:1                  2                1                1   \n",
              "2018090600:949:1                  2                3                2   \n",
              "2018090600:1568:1                 1                6                0   \n",
              "2018090600:2503:1                 2                2                2   \n",
              "2018090600:3626:1                 2                4                0   \n",
              "...                             ...              ...              ...   \n",
              "2018123015:1694:17                1                1                1   \n",
              "2018123015:1921:17                3                2                2   \n",
              "2018123015:2469:17                2                1                2   \n",
              "2018123015:3089:17                1                5                1   \n",
              "2018123015:3601:17                1                4                0   \n",
              "\n",
              "                    defenseArea  defenseAreaCoverDefenders  width  height  \\\n",
              "id                                                                          \n",
              "2018090600:776:1      234.84220                  163.61555  29.95   15.29   \n",
              "2018090600:949:1      129.48690                  129.48690  32.42    7.89   \n",
              "2018090600:1568:1     162.57650                  162.57650  22.58   12.45   \n",
              "2018090600:2503:1     240.30520                  240.30520  33.16   12.69   \n",
              "2018090600:3626:1     154.37785                  147.44340  24.25   11.99   \n",
              "...                         ...                        ...    ...     ...   \n",
              "2018123015:1694:17    206.35020                  137.89705  27.53   14.91   \n",
              "2018123015:1921:17    124.16935                  124.16935  36.07    8.24   \n",
              "2018123015:2469:17    266.35375                  261.58220  31.15   16.07   \n",
              "2018123015:3089:17    233.56345                  233.56345  26.20   12.97   \n",
              "2018123015:3601:17    131.03325                   93.42570  18.39   12.93   \n",
              "\n",
              "                    numberQBs  numberWRs  numberTEs  numberRBs  numberFBs  \\\n",
              "id                                                                          \n",
              "2018090600:776:1            1          3          1          1          0   \n",
              "2018090600:949:1            1          3          1          1          0   \n",
              "2018090600:1568:1           1          3          1          1          0   \n",
              "2018090600:2503:1           1          3          1          1          0   \n",
              "2018090600:3626:1           1          2          2          1          0   \n",
              "...                       ...        ...        ...        ...        ...   \n",
              "2018123015:1694:17          1          3          1          1          0   \n",
              "2018123015:1921:17          1          3          1          1          0   \n",
              "2018123015:2469:17          1          3          1          1          0   \n",
              "2018123015:3089:17          1          3          1          1          0   \n",
              "2018123015:3601:17          1          3          1          1          0   \n",
              "\n",
              "                    numberOffensivePlayersAnotherPosition  numberSafeties  \\\n",
              "id                                                                          \n",
              "2018090600:776:1                                        0               2   \n",
              "2018090600:949:1                                        0               3   \n",
              "2018090600:1568:1                                       0               3   \n",
              "2018090600:2503:1                                       0               3   \n",
              "2018090600:3626:1                                       0               2   \n",
              "...                                                   ...             ...   \n",
              "2018123015:1694:17                                      0               3   \n",
              "2018123015:1921:17                                      0               3   \n",
              "2018123015:2469:17                                      0               3   \n",
              "2018123015:3089:17                                      0               2   \n",
              "2018123015:3601:17                                      0               2   \n",
              "\n",
              "                    numberLBs  numberCBs  strongSide  \\\n",
              "id                                                     \n",
              "2018090600:776:1            3          3           1   \n",
              "2018090600:949:1            1          3           0   \n",
              "2018090600:1568:1           1          3           0   \n",
              "2018090600:2503:1           1          3           0   \n",
              "2018090600:3626:1           3          3           0   \n",
              "...                       ...        ...         ...   \n",
              "2018123015:1694:17          2          2           0   \n",
              "2018123015:1921:17          2          2           0   \n",
              "2018123015:2469:17          2          2           1   \n",
              "2018123015:3089:17          1          4           0   \n",
              "2018123015:3601:17          1          4           0   \n",
              "\n",
              "                    numberPlayersDefenseStrongSide  \\\n",
              "id                                                   \n",
              "2018090600:776:1                                 2   \n",
              "2018090600:949:1                                 4   \n",
              "2018090600:1568:1                                3   \n",
              "2018090600:2503:1                                4   \n",
              "2018090600:3626:1                                5   \n",
              "...                                            ...   \n",
              "2018123015:1694:17                               2   \n",
              "2018123015:1921:17                               4   \n",
              "2018123015:2469:17                               5   \n",
              "2018123015:3089:17                               3   \n",
              "2018123015:3601:17                               3   \n",
              "\n",
              "                    numberPlayersDefenseWeakSide  \\\n",
              "id                                                 \n",
              "2018090600:776:1                               6   \n",
              "2018090600:949:1                               3   \n",
              "2018090600:1568:1                              4   \n",
              "2018090600:2503:1                              3   \n",
              "2018090600:3626:1                              3   \n",
              "...                                          ...   \n",
              "2018123015:1694:17                             5   \n",
              "2018123015:1921:17                             3   \n",
              "2018123015:2469:17                             2   \n",
              "2018123015:3089:17                             4   \n",
              "2018123015:3601:17                             4   \n",
              "\n",
              "                    numberPlayersOffenseStrongSide  \\\n",
              "id                                                   \n",
              "2018090600:776:1                                 1   \n",
              "2018090600:949:1                                 3   \n",
              "2018090600:1568:1                                1   \n",
              "2018090600:2503:1                                3   \n",
              "2018090600:3626:1                                3   \n",
              "...                                            ...   \n",
              "2018123015:1694:17                               2   \n",
              "2018123015:1921:17                               3   \n",
              "2018123015:2469:17                               3   \n",
              "2018123015:3089:17                               2   \n",
              "2018123015:3601:17                               3   \n",
              "\n",
              "                    numberPlayersOffenseWeakSide  \\\n",
              "id                                                 \n",
              "2018090600:776:1                               4   \n",
              "2018090600:949:1                               2   \n",
              "2018090600:1568:1                              4   \n",
              "2018090600:2503:1                              2   \n",
              "2018090600:3626:1                              2   \n",
              "...                                          ...   \n",
              "2018123015:1694:17                             3   \n",
              "2018123015:1921:17                             2   \n",
              "2018123015:2469:17                             2   \n",
              "2018123015:3089:17                             3   \n",
              "2018123015:3601:17                             2   \n",
              "\n",
              "                    differenceOffenseVsDefenseWidth  \\\n",
              "id                                                    \n",
              "2018090600:776:1                              -0.25   \n",
              "2018090600:949:1                               1.46   \n",
              "2018090600:1568:1                             -1.15   \n",
              "2018090600:2503:1                              2.45   \n",
              "2018090600:3626:1                             -5.87   \n",
              "...                                             ...   \n",
              "2018123015:1694:17                             0.17   \n",
              "2018123015:1921:17                            -0.12   \n",
              "2018123015:2469:17                            -0.32   \n",
              "2018123015:3089:17                            -0.37   \n",
              "2018123015:3601:17                             2.61   \n",
              "\n",
              "                    differenceOffenseVsDefenseStrongSide  \\\n",
              "id                                                         \n",
              "2018090600:776:1                                      -1   \n",
              "2018090600:949:1                                      -1   \n",
              "2018090600:1568:1                                     -2   \n",
              "2018090600:2503:1                                     -1   \n",
              "2018090600:3626:1                                     -2   \n",
              "...                                                  ...   \n",
              "2018123015:1694:17                                     0   \n",
              "2018123015:1921:17                                    -1   \n",
              "2018123015:2469:17                                    -2   \n",
              "2018123015:3089:17                                    -1   \n",
              "2018123015:3601:17                                     0   \n",
              "\n",
              "                    differenceOffenseVsDefenseWeakSide  HeightByWeightDeep  \\\n",
              "id                                                                           \n",
              "2018090600:776:1                                    -2            0.018878   \n",
              "2018090600:949:1                                    -1            0.000000   \n",
              "2018090600:1568:1                                    0            0.000000   \n",
              "2018090600:2503:1                                   -1            0.020227   \n",
              "2018090600:3626:1                                   -1            0.000000   \n",
              "...                                                ...                 ...   \n",
              "2018123015:1694:17                                  -2            0.019892   \n",
              "2018123015:1921:17                                  -1            0.000000   \n",
              "2018123015:2469:17                                   0            0.019892   \n",
              "2018123015:3089:17                                  -1            0.000000   \n",
              "2018123015:3601:17                                  -2            0.000000   \n",
              "\n",
              "                    HeightByWeightHook  HeightByWeightCurl  \\\n",
              "id                                                           \n",
              "2018090600:776:1              0.018251            0.020833   \n",
              "2018090600:949:1              0.018484            0.021035   \n",
              "2018090600:1568:1             0.020227            0.020223   \n",
              "2018090600:2503:1             0.018484            0.021439   \n",
              "2018090600:3626:1             0.019512            0.019799   \n",
              "...                                ...                 ...   \n",
              "2018123015:1694:17            0.019892            0.020227   \n",
              "2018123015:1921:17            0.019759            0.018591   \n",
              "2018123015:2469:17            0.019526            0.020227   \n",
              "2018123015:3089:17            0.016636            0.019470   \n",
              "2018123015:3601:17            0.018878            0.020090   \n",
              "\n",
              "                    HeightByWeightFlat  WeightByArea   density  densityNoLine  \\\n",
              "id                                                                              \n",
              "2018090600:776:1              0.021279      2.854252  0.034065       0.030559   \n",
              "2018090600:949:1              0.020745      4.896248  0.054060       0.054060   \n",
              "2018090600:1568:1             0.000000      3.899703  0.043057       0.043057   \n",
              "2018090600:2503:1             0.020745      2.638312  0.029130       0.029130   \n",
              "2018090600:3626:1             0.000000      3.669205  0.051821       0.040694   \n",
              "...                                ...           ...       ...            ...   \n",
              "2018123015:1694:17            0.020109      2.654154  0.033923       0.029007   \n",
              "2018123015:1921:17            0.020001      5.315321  0.056375       0.056375   \n",
              "2018123015:2469:17            0.020001      2.114058  0.026281       0.022937   \n",
              "2018123015:3089:17            0.020761      2.898570  0.029970       0.029970   \n",
              "2018123015:3601:17            0.000000      5.020032  0.053422       0.053518   \n",
              "\n",
              "                    densityInsidePoints  densityInsidePointsNoLine  playResult  \n",
              "id                                                                              \n",
              "2018090600:776:1               7.978709                   7.975552          -7  \n",
              "2018090600:949:1               6.969109                   6.969109          -7  \n",
              "2018090600:1568:1              6.975396                   6.975396          -9  \n",
              "2018090600:2503:1              6.975032                   6.975032         -12  \n",
              "2018090600:3626:1              7.961134                   7.959306         -10  \n",
              "...                                 ...                        ...         ...  \n",
              "2018123015:1694:17             6.975769                   6.970993          -8  \n",
              "2018123015:1921:17             6.967786                   6.967786          -7  \n",
              "2018123015:2469:17             6.977474                   6.977063          -8  \n",
              "2018123015:3089:17             6.978593                   6.978593          -8  \n",
              "2018123015:3601:17             6.969473                   6.967889          -9  \n",
              "\n",
              "[757 rows x 36 columns]"
            ]
          },
          "metadata": {
            "tags": []
          },
          "execution_count": 28
        }
      ]
    },
    {
      "cell_type": "code",
      "metadata": {
        "id": "IrBrveRyVDde"
      },
      "source": [
        "big_play_defense = static_defenses[static_defenses[\"playResult\"]<=-7]"
      ],
      "execution_count": null,
      "outputs": []
    },
    {
      "cell_type": "code",
      "metadata": {
        "id": "XQLln5i8VJwj"
      },
      "source": [
        "static_defenses.drop(static_defenses[static_defenses[\"playResult\"]<=-7].index,inplace=True)"
      ],
      "execution_count": null,
      "outputs": []
    },
    {
      "cell_type": "markdown",
      "metadata": {
        "id": "isZYIaa8XW-j"
      },
      "source": [
        "#Normalización de los datos"
      ]
    },
    {
      "cell_type": "code",
      "metadata": {
        "id": "transparent-planner"
      },
      "source": [
        "scaler = preprocessing.StandardScaler()\n",
        "static_defenses1 = scaler.fit_transform(static_defenses.drop([\"playResult\"],axis=1))"
      ],
      "execution_count": null,
      "outputs": []
    },
    {
      "cell_type": "code",
      "metadata": {
        "id": "lesser-bedroom"
      },
      "source": [
        "scaler = preprocessing.MinMaxScaler()\n",
        "static_defenses2 = scaler.fit_transform(static_defenses.drop([\"playResult\"],axis=1))"
      ],
      "execution_count": null,
      "outputs": []
    },
    {
      "cell_type": "code",
      "metadata": {
        "id": "broad-height"
      },
      "source": [
        "scaler = preprocessing.RobustScaler()\n",
        "static_defenses3 = scaler.fit_transform(static_defenses.drop([\"playResult\"],axis=1))"
      ],
      "execution_count": null,
      "outputs": []
    },
    {
      "cell_type": "code",
      "metadata": {
        "id": "ultimate-alabama"
      },
      "source": [
        "scaler = preprocessing.PowerTransformer()\n",
        "static_defenses4 = scaler.fit_transform(static_defenses.drop([\"playResult\"],axis=1))"
      ],
      "execution_count": null,
      "outputs": []
    },
    {
      "cell_type": "markdown",
      "metadata": {
        "id": "uPYwULfbEPN4"
      },
      "source": [
        "#PCA"
      ]
    },
    {
      "cell_type": "code",
      "metadata": {
        "colab": {
          "base_uri": "https://localhost:8080/"
        },
        "id": "recreational-stockholm",
        "outputId": "dff22c18-8b9f-4d9c-9f77-ea200a276f83"
      },
      "source": [
        "pca_ss = PCA ()\n",
        "X_pca_ss = pca_ss.fit_transform(static_defenses1)\n",
        "X_pca_ss.shape"
      ],
      "execution_count": null,
      "outputs": [
        {
          "output_type": "execute_result",
          "data": {
            "text/plain": [
              "(16415, 35)"
            ]
          },
          "metadata": {
            "tags": []
          },
          "execution_count": 136
        }
      ]
    },
    {
      "cell_type": "code",
      "metadata": {
        "colab": {
          "base_uri": "https://localhost:8080/"
        },
        "id": "recent-fleet",
        "outputId": "28ea4519-0b4d-4138-8263-eeba7cf81d90"
      },
      "source": [
        "pca_mms = PCA ()\n",
        "X_pca_mms = pca_mms.fit_transform(static_defenses2)\n",
        "X_pca_mms.shape"
      ],
      "execution_count": null,
      "outputs": [
        {
          "output_type": "execute_result",
          "data": {
            "text/plain": [
              "(16415, 35)"
            ]
          },
          "metadata": {
            "tags": []
          },
          "execution_count": 137
        }
      ]
    },
    {
      "cell_type": "code",
      "metadata": {
        "colab": {
          "base_uri": "https://localhost:8080/"
        },
        "id": "coated-invalid",
        "outputId": "a3eade42-58e1-4cfd-c712-baf047242c40"
      },
      "source": [
        "pca_rs = PCA ()\n",
        "X_pca_rs = pca_rs.fit_transform(static_defenses3)\n",
        "X_pca_rs.shape"
      ],
      "execution_count": null,
      "outputs": [
        {
          "output_type": "execute_result",
          "data": {
            "text/plain": [
              "(16415, 35)"
            ]
          },
          "metadata": {
            "tags": []
          },
          "execution_count": 138
        }
      ]
    },
    {
      "cell_type": "code",
      "metadata": {
        "colab": {
          "base_uri": "https://localhost:8080/"
        },
        "id": "saved-webster",
        "outputId": "136596e5-0796-40d6-d95f-59b5e25a788f"
      },
      "source": [
        "pca_pt = PCA ()\n",
        "X_pca_pt = pca_pt.fit_transform(static_defenses4)\n",
        "X_pca_pt.shape"
      ],
      "execution_count": null,
      "outputs": [
        {
          "output_type": "execute_result",
          "data": {
            "text/plain": [
              "(16415, 35)"
            ]
          },
          "metadata": {
            "tags": []
          },
          "execution_count": 139
        }
      ]
    },
    {
      "cell_type": "code",
      "metadata": {
        "colab": {
          "base_uri": "https://localhost:8080/",
          "height": 542
        },
        "id": "neutral-hampshire",
        "outputId": "3d06ad5e-3d7f-470c-8bb8-7013dfc97dbe"
      },
      "source": [
        "exp_var_cumul = np.cumsum(pca_ss.explained_variance_ratio_)\n",
        "\n",
        "px.area(\n",
        "    x=range(1, exp_var_cumul.shape[0] + 1),\n",
        "    y=exp_var_cumul,\n",
        "    labels={\"x\": \"# Components\", \"y\": \"Explained Variance\"}\n",
        ")"
      ],
      "execution_count": null,
      "outputs": [
        {
          "output_type": "display_data",
          "data": {
            "text/html": [
              "<html>\n",
              "<head><meta charset=\"utf-8\" /></head>\n",
              "<body>\n",
              "    <div>\n",
              "            <script src=\"https://cdnjs.cloudflare.com/ajax/libs/mathjax/2.7.5/MathJax.js?config=TeX-AMS-MML_SVG\"></script><script type=\"text/javascript\">if (window.MathJax) {MathJax.Hub.Config({SVG: {font: \"STIX-Web\"}});}</script>\n",
              "                <script type=\"text/javascript\">window.PlotlyConfig = {MathJaxConfig: 'local'};</script>\n",
              "        <script src=\"https://cdn.plot.ly/plotly-latest.min.js\"></script>    \n",
              "            <div id=\"d6bcf7a1-26fb-4cb2-b892-8889667a8fe5\" class=\"plotly-graph-div\" style=\"height:525px; width:100%;\"></div>\n",
              "            <script type=\"text/javascript\">\n",
              "                \n",
              "                    window.PLOTLYENV=window.PLOTLYENV || {};\n",
              "                    \n",
              "                if (document.getElementById(\"d6bcf7a1-26fb-4cb2-b892-8889667a8fe5\")) {\n",
              "                    Plotly.newPlot(\n",
              "                        'd6bcf7a1-26fb-4cb2-b892-8889667a8fe5',\n",
              "                        [{\"hoverlabel\": {\"namelength\": 0}, \"hovertemplate\": \"# Components=%{x}<br>Explained Variance=%{y}\", \"legendgroup\": \"\", \"line\": {\"color\": \"#636efa\"}, \"mode\": \"lines\", \"name\": \"\", \"orientation\": \"v\", \"showlegend\": false, \"stackgroup\": \"1\", \"type\": \"scatter\", \"x\": [1, 2, 3, 4, 5, 6, 7, 8, 9, 10, 11, 12, 13, 14, 15, 16, 17, 18, 19, 20, 21, 22, 23, 24, 25, 26, 27, 28, 29, 30, 31, 32, 33, 34, 35], \"xaxis\": \"x\", \"y\": [0.2131008273027907, 0.3450147799977532, 0.4277974080101457, 0.4966527569704928, 0.5601707636849608, 0.6173809637289809, 0.6611548339226335, 0.6975967149893877, 0.7302434285675234, 0.7611546762710644, 0.7909008897218623, 0.8203189777180009, 0.8482913541868488, 0.8750328146425972, 0.9012462132557134, 0.921605702868923, 0.9411864055035892, 0.956235642400741, 0.9693749348210184, 0.9788002675082353, 0.986474706982239, 0.9910269001795413, 0.993997275592094, 0.9963161076429011, 0.9980534572694237, 0.9990949983783187, 0.999555226520081, 0.9998094880654257, 0.9999035752972961, 0.9999662758376339, 0.9999986349422454, 0.9999997669273232, 0.9999999999999996, 0.9999999999999996, 0.9999999999999996], \"yaxis\": \"y\"}],\n",
              "                        {\"legend\": {\"tracegroupgap\": 0}, \"margin\": {\"t\": 60}, \"template\": {\"data\": {\"bar\": [{\"error_x\": {\"color\": \"#2a3f5f\"}, \"error_y\": {\"color\": \"#2a3f5f\"}, \"marker\": {\"line\": {\"color\": \"#E5ECF6\", \"width\": 0.5}}, \"type\": \"bar\"}], \"barpolar\": [{\"marker\": {\"line\": {\"color\": \"#E5ECF6\", \"width\": 0.5}}, \"type\": \"barpolar\"}], \"carpet\": [{\"aaxis\": {\"endlinecolor\": \"#2a3f5f\", \"gridcolor\": \"white\", \"linecolor\": \"white\", \"minorgridcolor\": \"white\", \"startlinecolor\": \"#2a3f5f\"}, \"baxis\": {\"endlinecolor\": \"#2a3f5f\", \"gridcolor\": \"white\", \"linecolor\": \"white\", \"minorgridcolor\": \"white\", \"startlinecolor\": \"#2a3f5f\"}, \"type\": \"carpet\"}], \"choropleth\": [{\"colorbar\": {\"outlinewidth\": 0, \"ticks\": \"\"}, \"type\": \"choropleth\"}], \"contour\": [{\"colorbar\": {\"outlinewidth\": 0, \"ticks\": \"\"}, \"colorscale\": [[0.0, \"#0d0887\"], [0.1111111111111111, \"#46039f\"], [0.2222222222222222, \"#7201a8\"], [0.3333333333333333, \"#9c179e\"], [0.4444444444444444, \"#bd3786\"], [0.5555555555555556, \"#d8576b\"], [0.6666666666666666, \"#ed7953\"], [0.7777777777777778, \"#fb9f3a\"], [0.8888888888888888, \"#fdca26\"], [1.0, \"#f0f921\"]], \"type\": \"contour\"}], \"contourcarpet\": [{\"colorbar\": {\"outlinewidth\": 0, \"ticks\": \"\"}, \"type\": \"contourcarpet\"}], \"heatmap\": [{\"colorbar\": {\"outlinewidth\": 0, \"ticks\": \"\"}, \"colorscale\": [[0.0, \"#0d0887\"], [0.1111111111111111, \"#46039f\"], [0.2222222222222222, \"#7201a8\"], [0.3333333333333333, \"#9c179e\"], [0.4444444444444444, \"#bd3786\"], [0.5555555555555556, \"#d8576b\"], [0.6666666666666666, \"#ed7953\"], [0.7777777777777778, \"#fb9f3a\"], [0.8888888888888888, \"#fdca26\"], [1.0, \"#f0f921\"]], \"type\": \"heatmap\"}], \"heatmapgl\": [{\"colorbar\": {\"outlinewidth\": 0, \"ticks\": \"\"}, \"colorscale\": [[0.0, \"#0d0887\"], [0.1111111111111111, \"#46039f\"], [0.2222222222222222, \"#7201a8\"], [0.3333333333333333, \"#9c179e\"], [0.4444444444444444, \"#bd3786\"], [0.5555555555555556, \"#d8576b\"], [0.6666666666666666, \"#ed7953\"], [0.7777777777777778, \"#fb9f3a\"], [0.8888888888888888, \"#fdca26\"], [1.0, \"#f0f921\"]], \"type\": \"heatmapgl\"}], \"histogram\": [{\"marker\": {\"colorbar\": {\"outlinewidth\": 0, \"ticks\": \"\"}}, \"type\": \"histogram\"}], \"histogram2d\": [{\"colorbar\": {\"outlinewidth\": 0, \"ticks\": \"\"}, \"colorscale\": [[0.0, \"#0d0887\"], [0.1111111111111111, \"#46039f\"], [0.2222222222222222, \"#7201a8\"], [0.3333333333333333, \"#9c179e\"], [0.4444444444444444, \"#bd3786\"], [0.5555555555555556, \"#d8576b\"], [0.6666666666666666, \"#ed7953\"], [0.7777777777777778, \"#fb9f3a\"], [0.8888888888888888, \"#fdca26\"], [1.0, \"#f0f921\"]], \"type\": \"histogram2d\"}], \"histogram2dcontour\": [{\"colorbar\": {\"outlinewidth\": 0, \"ticks\": \"\"}, \"colorscale\": [[0.0, \"#0d0887\"], [0.1111111111111111, \"#46039f\"], [0.2222222222222222, \"#7201a8\"], [0.3333333333333333, \"#9c179e\"], [0.4444444444444444, \"#bd3786\"], [0.5555555555555556, \"#d8576b\"], [0.6666666666666666, \"#ed7953\"], [0.7777777777777778, \"#fb9f3a\"], [0.8888888888888888, \"#fdca26\"], [1.0, \"#f0f921\"]], \"type\": \"histogram2dcontour\"}], \"mesh3d\": [{\"colorbar\": {\"outlinewidth\": 0, \"ticks\": \"\"}, \"type\": \"mesh3d\"}], \"parcoords\": [{\"line\": {\"colorbar\": {\"outlinewidth\": 0, \"ticks\": \"\"}}, \"type\": \"parcoords\"}], \"pie\": [{\"automargin\": true, \"type\": \"pie\"}], \"scatter\": [{\"marker\": {\"colorbar\": {\"outlinewidth\": 0, \"ticks\": \"\"}}, \"type\": \"scatter\"}], \"scatter3d\": [{\"line\": {\"colorbar\": {\"outlinewidth\": 0, \"ticks\": \"\"}}, \"marker\": {\"colorbar\": {\"outlinewidth\": 0, \"ticks\": \"\"}}, \"type\": \"scatter3d\"}], \"scattercarpet\": [{\"marker\": {\"colorbar\": {\"outlinewidth\": 0, \"ticks\": \"\"}}, \"type\": \"scattercarpet\"}], \"scattergeo\": [{\"marker\": {\"colorbar\": {\"outlinewidth\": 0, \"ticks\": \"\"}}, \"type\": \"scattergeo\"}], \"scattergl\": [{\"marker\": {\"colorbar\": {\"outlinewidth\": 0, \"ticks\": \"\"}}, \"type\": \"scattergl\"}], \"scattermapbox\": [{\"marker\": {\"colorbar\": {\"outlinewidth\": 0, \"ticks\": \"\"}}, \"type\": \"scattermapbox\"}], \"scatterpolar\": [{\"marker\": {\"colorbar\": {\"outlinewidth\": 0, \"ticks\": \"\"}}, \"type\": \"scatterpolar\"}], \"scatterpolargl\": [{\"marker\": {\"colorbar\": {\"outlinewidth\": 0, \"ticks\": \"\"}}, \"type\": \"scatterpolargl\"}], \"scatterternary\": [{\"marker\": {\"colorbar\": {\"outlinewidth\": 0, \"ticks\": \"\"}}, \"type\": \"scatterternary\"}], \"surface\": [{\"colorbar\": {\"outlinewidth\": 0, \"ticks\": \"\"}, \"colorscale\": [[0.0, \"#0d0887\"], [0.1111111111111111, \"#46039f\"], [0.2222222222222222, \"#7201a8\"], [0.3333333333333333, \"#9c179e\"], [0.4444444444444444, \"#bd3786\"], [0.5555555555555556, \"#d8576b\"], [0.6666666666666666, \"#ed7953\"], [0.7777777777777778, \"#fb9f3a\"], [0.8888888888888888, \"#fdca26\"], [1.0, \"#f0f921\"]], \"type\": \"surface\"}], \"table\": [{\"cells\": {\"fill\": {\"color\": \"#EBF0F8\"}, \"line\": {\"color\": \"white\"}}, \"header\": {\"fill\": {\"color\": \"#C8D4E3\"}, \"line\": {\"color\": \"white\"}}, \"type\": \"table\"}]}, \"layout\": {\"annotationdefaults\": {\"arrowcolor\": \"#2a3f5f\", \"arrowhead\": 0, \"arrowwidth\": 1}, \"coloraxis\": {\"colorbar\": {\"outlinewidth\": 0, \"ticks\": \"\"}}, \"colorscale\": {\"diverging\": [[0, \"#8e0152\"], [0.1, \"#c51b7d\"], [0.2, \"#de77ae\"], [0.3, \"#f1b6da\"], [0.4, \"#fde0ef\"], [0.5, \"#f7f7f7\"], [0.6, \"#e6f5d0\"], [0.7, \"#b8e186\"], [0.8, \"#7fbc41\"], [0.9, \"#4d9221\"], [1, \"#276419\"]], \"sequential\": [[0.0, \"#0d0887\"], [0.1111111111111111, \"#46039f\"], [0.2222222222222222, \"#7201a8\"], [0.3333333333333333, \"#9c179e\"], [0.4444444444444444, \"#bd3786\"], [0.5555555555555556, \"#d8576b\"], [0.6666666666666666, \"#ed7953\"], [0.7777777777777778, \"#fb9f3a\"], [0.8888888888888888, \"#fdca26\"], [1.0, \"#f0f921\"]], \"sequentialminus\": [[0.0, \"#0d0887\"], [0.1111111111111111, \"#46039f\"], [0.2222222222222222, \"#7201a8\"], [0.3333333333333333, \"#9c179e\"], [0.4444444444444444, \"#bd3786\"], [0.5555555555555556, \"#d8576b\"], [0.6666666666666666, \"#ed7953\"], [0.7777777777777778, \"#fb9f3a\"], [0.8888888888888888, \"#fdca26\"], [1.0, \"#f0f921\"]]}, \"colorway\": [\"#636efa\", \"#EF553B\", \"#00cc96\", \"#ab63fa\", \"#FFA15A\", \"#19d3f3\", \"#FF6692\", \"#B6E880\", \"#FF97FF\", \"#FECB52\"], \"font\": {\"color\": \"#2a3f5f\"}, \"geo\": {\"bgcolor\": \"white\", \"lakecolor\": \"white\", \"landcolor\": \"#E5ECF6\", \"showlakes\": true, \"showland\": true, \"subunitcolor\": \"white\"}, \"hoverlabel\": {\"align\": \"left\"}, \"hovermode\": \"closest\", \"mapbox\": {\"style\": \"light\"}, \"paper_bgcolor\": \"white\", \"plot_bgcolor\": \"#E5ECF6\", \"polar\": {\"angularaxis\": {\"gridcolor\": \"white\", \"linecolor\": \"white\", \"ticks\": \"\"}, \"bgcolor\": \"#E5ECF6\", \"radialaxis\": {\"gridcolor\": \"white\", \"linecolor\": \"white\", \"ticks\": \"\"}}, \"scene\": {\"xaxis\": {\"backgroundcolor\": \"#E5ECF6\", \"gridcolor\": \"white\", \"gridwidth\": 2, \"linecolor\": \"white\", \"showbackground\": true, \"ticks\": \"\", \"zerolinecolor\": \"white\"}, \"yaxis\": {\"backgroundcolor\": \"#E5ECF6\", \"gridcolor\": \"white\", \"gridwidth\": 2, \"linecolor\": \"white\", \"showbackground\": true, \"ticks\": \"\", \"zerolinecolor\": \"white\"}, \"zaxis\": {\"backgroundcolor\": \"#E5ECF6\", \"gridcolor\": \"white\", \"gridwidth\": 2, \"linecolor\": \"white\", \"showbackground\": true, \"ticks\": \"\", \"zerolinecolor\": \"white\"}}, \"shapedefaults\": {\"line\": {\"color\": \"#2a3f5f\"}}, \"ternary\": {\"aaxis\": {\"gridcolor\": \"white\", \"linecolor\": \"white\", \"ticks\": \"\"}, \"baxis\": {\"gridcolor\": \"white\", \"linecolor\": \"white\", \"ticks\": \"\"}, \"bgcolor\": \"#E5ECF6\", \"caxis\": {\"gridcolor\": \"white\", \"linecolor\": \"white\", \"ticks\": \"\"}}, \"title\": {\"x\": 0.05}, \"xaxis\": {\"automargin\": true, \"gridcolor\": \"white\", \"linecolor\": \"white\", \"ticks\": \"\", \"title\": {\"standoff\": 15}, \"zerolinecolor\": \"white\", \"zerolinewidth\": 2}, \"yaxis\": {\"automargin\": true, \"gridcolor\": \"white\", \"linecolor\": \"white\", \"ticks\": \"\", \"title\": {\"standoff\": 15}, \"zerolinecolor\": \"white\", \"zerolinewidth\": 2}}}, \"xaxis\": {\"anchor\": \"y\", \"domain\": [0.0, 1.0], \"title\": {\"text\": \"# Components\"}}, \"yaxis\": {\"anchor\": \"x\", \"domain\": [0.0, 1.0], \"title\": {\"text\": \"Explained Variance\"}}},\n",
              "                        {\"responsive\": true}\n",
              "                    ).then(function(){\n",
              "                            \n",
              "var gd = document.getElementById('d6bcf7a1-26fb-4cb2-b892-8889667a8fe5');\n",
              "var x = new MutationObserver(function (mutations, observer) {{\n",
              "        var display = window.getComputedStyle(gd).display;\n",
              "        if (!display || display === 'none') {{\n",
              "            console.log([gd, 'removed!']);\n",
              "            Plotly.purge(gd);\n",
              "            observer.disconnect();\n",
              "        }}\n",
              "}});\n",
              "\n",
              "// Listen for the removal of the full notebook cells\n",
              "var notebookContainer = gd.closest('#notebook-container');\n",
              "if (notebookContainer) {{\n",
              "    x.observe(notebookContainer, {childList: true});\n",
              "}}\n",
              "\n",
              "// Listen for the clearing of the current output cell\n",
              "var outputEl = gd.closest('.output');\n",
              "if (outputEl) {{\n",
              "    x.observe(outputEl, {childList: true});\n",
              "}}\n",
              "\n",
              "                        })\n",
              "                };\n",
              "                \n",
              "            </script>\n",
              "        </div>\n",
              "</body>\n",
              "</html>"
            ]
          },
          "metadata": {
            "tags": []
          }
        }
      ]
    },
    {
      "cell_type": "markdown",
      "metadata": {
        "id": "found-brass"
      },
      "source": [
        "Para este 14 componentes"
      ]
    },
    {
      "cell_type": "code",
      "metadata": {
        "colab": {
          "base_uri": "https://localhost:8080/",
          "height": 542
        },
        "id": "regulation-circuit",
        "outputId": "38bf207f-fa7b-4689-d889-942c6664989a"
      },
      "source": [
        "exp_var_cumul = np.cumsum(pca_mms.explained_variance_ratio_)\n",
        "\n",
        "px.area(\n",
        "    x=range(1, exp_var_cumul.shape[0] + 1),\n",
        "    y=exp_var_cumul,\n",
        "    labels={\"x\": \"# Components\", \"y\": \"Explained Variance\"}\n",
        ")"
      ],
      "execution_count": null,
      "outputs": [
        {
          "output_type": "display_data",
          "data": {
            "text/html": [
              "<html>\n",
              "<head><meta charset=\"utf-8\" /></head>\n",
              "<body>\n",
              "    <div>\n",
              "            <script src=\"https://cdnjs.cloudflare.com/ajax/libs/mathjax/2.7.5/MathJax.js?config=TeX-AMS-MML_SVG\"></script><script type=\"text/javascript\">if (window.MathJax) {MathJax.Hub.Config({SVG: {font: \"STIX-Web\"}});}</script>\n",
              "                <script type=\"text/javascript\">window.PlotlyConfig = {MathJaxConfig: 'local'};</script>\n",
              "        <script src=\"https://cdn.plot.ly/plotly-latest.min.js\"></script>    \n",
              "            <div id=\"33fb79a9-a99a-4bf6-9d2b-ed72807e9c11\" class=\"plotly-graph-div\" style=\"height:525px; width:100%;\"></div>\n",
              "            <script type=\"text/javascript\">\n",
              "                \n",
              "                    window.PLOTLYENV=window.PLOTLYENV || {};\n",
              "                    \n",
              "                if (document.getElementById(\"33fb79a9-a99a-4bf6-9d2b-ed72807e9c11\")) {\n",
              "                    Plotly.newPlot(\n",
              "                        '33fb79a9-a99a-4bf6-9d2b-ed72807e9c11',\n",
              "                        [{\"hoverlabel\": {\"namelength\": 0}, \"hovertemplate\": \"# Components=%{x}<br>Explained Variance=%{y}\", \"legendgroup\": \"\", \"line\": {\"color\": \"#636efa\"}, \"mode\": \"lines\", \"name\": \"\", \"orientation\": \"v\", \"showlegend\": false, \"stackgroup\": \"1\", \"type\": \"scatter\", \"x\": [1, 2, 3, 4, 5, 6, 7, 8, 9, 10, 11, 12, 13, 14, 15, 16, 17, 18, 19, 20, 21, 22, 23, 24, 25, 26, 27, 28, 29, 30, 31, 32, 33, 34, 35], \"xaxis\": \"x\", \"y\": [0.22923563292242446, 0.44609052178577885, 0.6046518808885812, 0.6950355977731242, 0.7506691559219625, 0.792173652889529, 0.8259788486315416, 0.8567335205412718, 0.8858096866537405, 0.9096625445307115, 0.926835053870221, 0.9426883172884429, 0.952884260276008, 0.9627320010937663, 0.9719533513790388, 0.9798806068570756, 0.984070065835624, 0.9872938150619772, 0.990427952557963, 0.993156972522896, 0.9955744658261759, 0.9970250388002854, 0.9980247157169169, 0.9986548985835135, 0.9992633682836691, 0.9996820684297395, 0.9998406563128496, 0.9999066793852891, 0.999962500533413, 0.9999923029251494, 0.9999991345001796, 0.9999998286139676, 1.0000000000000004, 1.0000000000000004, 1.0000000000000004], \"yaxis\": \"y\"}],\n",
              "                        {\"legend\": {\"tracegroupgap\": 0}, \"margin\": {\"t\": 60}, \"template\": {\"data\": {\"bar\": [{\"error_x\": {\"color\": \"#2a3f5f\"}, \"error_y\": {\"color\": \"#2a3f5f\"}, \"marker\": {\"line\": {\"color\": \"#E5ECF6\", \"width\": 0.5}}, \"type\": \"bar\"}], \"barpolar\": [{\"marker\": {\"line\": {\"color\": \"#E5ECF6\", \"width\": 0.5}}, \"type\": \"barpolar\"}], \"carpet\": [{\"aaxis\": {\"endlinecolor\": \"#2a3f5f\", \"gridcolor\": \"white\", \"linecolor\": \"white\", \"minorgridcolor\": \"white\", \"startlinecolor\": \"#2a3f5f\"}, \"baxis\": {\"endlinecolor\": \"#2a3f5f\", \"gridcolor\": \"white\", \"linecolor\": \"white\", \"minorgridcolor\": \"white\", \"startlinecolor\": \"#2a3f5f\"}, \"type\": \"carpet\"}], \"choropleth\": [{\"colorbar\": {\"outlinewidth\": 0, \"ticks\": \"\"}, \"type\": \"choropleth\"}], \"contour\": [{\"colorbar\": {\"outlinewidth\": 0, \"ticks\": \"\"}, \"colorscale\": [[0.0, \"#0d0887\"], [0.1111111111111111, \"#46039f\"], [0.2222222222222222, \"#7201a8\"], [0.3333333333333333, \"#9c179e\"], [0.4444444444444444, \"#bd3786\"], [0.5555555555555556, \"#d8576b\"], [0.6666666666666666, \"#ed7953\"], [0.7777777777777778, \"#fb9f3a\"], [0.8888888888888888, \"#fdca26\"], [1.0, \"#f0f921\"]], \"type\": \"contour\"}], \"contourcarpet\": [{\"colorbar\": {\"outlinewidth\": 0, \"ticks\": \"\"}, \"type\": \"contourcarpet\"}], \"heatmap\": [{\"colorbar\": {\"outlinewidth\": 0, \"ticks\": \"\"}, \"colorscale\": [[0.0, \"#0d0887\"], [0.1111111111111111, \"#46039f\"], [0.2222222222222222, \"#7201a8\"], [0.3333333333333333, \"#9c179e\"], [0.4444444444444444, \"#bd3786\"], [0.5555555555555556, \"#d8576b\"], [0.6666666666666666, \"#ed7953\"], [0.7777777777777778, \"#fb9f3a\"], [0.8888888888888888, \"#fdca26\"], [1.0, \"#f0f921\"]], \"type\": \"heatmap\"}], \"heatmapgl\": [{\"colorbar\": {\"outlinewidth\": 0, \"ticks\": \"\"}, \"colorscale\": [[0.0, \"#0d0887\"], [0.1111111111111111, \"#46039f\"], [0.2222222222222222, \"#7201a8\"], [0.3333333333333333, \"#9c179e\"], [0.4444444444444444, \"#bd3786\"], [0.5555555555555556, \"#d8576b\"], [0.6666666666666666, \"#ed7953\"], [0.7777777777777778, \"#fb9f3a\"], [0.8888888888888888, \"#fdca26\"], [1.0, \"#f0f921\"]], \"type\": \"heatmapgl\"}], \"histogram\": [{\"marker\": {\"colorbar\": {\"outlinewidth\": 0, \"ticks\": \"\"}}, \"type\": \"histogram\"}], \"histogram2d\": [{\"colorbar\": {\"outlinewidth\": 0, \"ticks\": \"\"}, \"colorscale\": [[0.0, \"#0d0887\"], [0.1111111111111111, \"#46039f\"], [0.2222222222222222, \"#7201a8\"], [0.3333333333333333, \"#9c179e\"], [0.4444444444444444, \"#bd3786\"], [0.5555555555555556, \"#d8576b\"], [0.6666666666666666, \"#ed7953\"], [0.7777777777777778, \"#fb9f3a\"], [0.8888888888888888, \"#fdca26\"], [1.0, \"#f0f921\"]], \"type\": \"histogram2d\"}], \"histogram2dcontour\": [{\"colorbar\": {\"outlinewidth\": 0, \"ticks\": \"\"}, \"colorscale\": [[0.0, \"#0d0887\"], [0.1111111111111111, \"#46039f\"], [0.2222222222222222, \"#7201a8\"], [0.3333333333333333, \"#9c179e\"], [0.4444444444444444, \"#bd3786\"], [0.5555555555555556, \"#d8576b\"], [0.6666666666666666, \"#ed7953\"], [0.7777777777777778, \"#fb9f3a\"], [0.8888888888888888, \"#fdca26\"], [1.0, \"#f0f921\"]], \"type\": \"histogram2dcontour\"}], \"mesh3d\": [{\"colorbar\": {\"outlinewidth\": 0, \"ticks\": \"\"}, \"type\": \"mesh3d\"}], \"parcoords\": [{\"line\": {\"colorbar\": {\"outlinewidth\": 0, \"ticks\": \"\"}}, \"type\": \"parcoords\"}], \"pie\": [{\"automargin\": true, \"type\": \"pie\"}], \"scatter\": [{\"marker\": {\"colorbar\": {\"outlinewidth\": 0, \"ticks\": \"\"}}, \"type\": \"scatter\"}], \"scatter3d\": [{\"line\": {\"colorbar\": {\"outlinewidth\": 0, \"ticks\": \"\"}}, \"marker\": {\"colorbar\": {\"outlinewidth\": 0, \"ticks\": \"\"}}, \"type\": \"scatter3d\"}], \"scattercarpet\": [{\"marker\": {\"colorbar\": {\"outlinewidth\": 0, \"ticks\": \"\"}}, \"type\": \"scattercarpet\"}], \"scattergeo\": [{\"marker\": {\"colorbar\": {\"outlinewidth\": 0, \"ticks\": \"\"}}, \"type\": \"scattergeo\"}], \"scattergl\": [{\"marker\": {\"colorbar\": {\"outlinewidth\": 0, \"ticks\": \"\"}}, \"type\": \"scattergl\"}], \"scattermapbox\": [{\"marker\": {\"colorbar\": {\"outlinewidth\": 0, \"ticks\": \"\"}}, \"type\": \"scattermapbox\"}], \"scatterpolar\": [{\"marker\": {\"colorbar\": {\"outlinewidth\": 0, \"ticks\": \"\"}}, \"type\": \"scatterpolar\"}], \"scatterpolargl\": [{\"marker\": {\"colorbar\": {\"outlinewidth\": 0, \"ticks\": \"\"}}, \"type\": \"scatterpolargl\"}], \"scatterternary\": [{\"marker\": {\"colorbar\": {\"outlinewidth\": 0, \"ticks\": \"\"}}, \"type\": \"scatterternary\"}], \"surface\": [{\"colorbar\": {\"outlinewidth\": 0, \"ticks\": \"\"}, \"colorscale\": [[0.0, \"#0d0887\"], [0.1111111111111111, \"#46039f\"], [0.2222222222222222, \"#7201a8\"], [0.3333333333333333, \"#9c179e\"], [0.4444444444444444, \"#bd3786\"], [0.5555555555555556, \"#d8576b\"], [0.6666666666666666, \"#ed7953\"], [0.7777777777777778, \"#fb9f3a\"], [0.8888888888888888, \"#fdca26\"], [1.0, \"#f0f921\"]], \"type\": \"surface\"}], \"table\": [{\"cells\": {\"fill\": {\"color\": \"#EBF0F8\"}, \"line\": {\"color\": \"white\"}}, \"header\": {\"fill\": {\"color\": \"#C8D4E3\"}, \"line\": {\"color\": \"white\"}}, \"type\": \"table\"}]}, \"layout\": {\"annotationdefaults\": {\"arrowcolor\": \"#2a3f5f\", \"arrowhead\": 0, \"arrowwidth\": 1}, \"coloraxis\": {\"colorbar\": {\"outlinewidth\": 0, \"ticks\": \"\"}}, \"colorscale\": {\"diverging\": [[0, \"#8e0152\"], [0.1, \"#c51b7d\"], [0.2, \"#de77ae\"], [0.3, \"#f1b6da\"], [0.4, \"#fde0ef\"], [0.5, \"#f7f7f7\"], [0.6, \"#e6f5d0\"], [0.7, \"#b8e186\"], [0.8, \"#7fbc41\"], [0.9, \"#4d9221\"], [1, \"#276419\"]], \"sequential\": [[0.0, \"#0d0887\"], [0.1111111111111111, \"#46039f\"], [0.2222222222222222, \"#7201a8\"], [0.3333333333333333, \"#9c179e\"], [0.4444444444444444, \"#bd3786\"], [0.5555555555555556, \"#d8576b\"], [0.6666666666666666, \"#ed7953\"], [0.7777777777777778, \"#fb9f3a\"], [0.8888888888888888, \"#fdca26\"], [1.0, \"#f0f921\"]], \"sequentialminus\": [[0.0, \"#0d0887\"], [0.1111111111111111, \"#46039f\"], [0.2222222222222222, \"#7201a8\"], [0.3333333333333333, \"#9c179e\"], [0.4444444444444444, \"#bd3786\"], [0.5555555555555556, \"#d8576b\"], [0.6666666666666666, \"#ed7953\"], [0.7777777777777778, \"#fb9f3a\"], [0.8888888888888888, \"#fdca26\"], [1.0, \"#f0f921\"]]}, \"colorway\": [\"#636efa\", \"#EF553B\", \"#00cc96\", \"#ab63fa\", \"#FFA15A\", \"#19d3f3\", \"#FF6692\", \"#B6E880\", \"#FF97FF\", \"#FECB52\"], \"font\": {\"color\": \"#2a3f5f\"}, \"geo\": {\"bgcolor\": \"white\", \"lakecolor\": \"white\", \"landcolor\": \"#E5ECF6\", \"showlakes\": true, \"showland\": true, \"subunitcolor\": \"white\"}, \"hoverlabel\": {\"align\": \"left\"}, \"hovermode\": \"closest\", \"mapbox\": {\"style\": \"light\"}, \"paper_bgcolor\": \"white\", \"plot_bgcolor\": \"#E5ECF6\", \"polar\": {\"angularaxis\": {\"gridcolor\": \"white\", \"linecolor\": \"white\", \"ticks\": \"\"}, \"bgcolor\": \"#E5ECF6\", \"radialaxis\": {\"gridcolor\": \"white\", \"linecolor\": \"white\", \"ticks\": \"\"}}, \"scene\": {\"xaxis\": {\"backgroundcolor\": \"#E5ECF6\", \"gridcolor\": \"white\", \"gridwidth\": 2, \"linecolor\": \"white\", \"showbackground\": true, \"ticks\": \"\", \"zerolinecolor\": \"white\"}, \"yaxis\": {\"backgroundcolor\": \"#E5ECF6\", \"gridcolor\": \"white\", \"gridwidth\": 2, \"linecolor\": \"white\", \"showbackground\": true, \"ticks\": \"\", \"zerolinecolor\": \"white\"}, \"zaxis\": {\"backgroundcolor\": \"#E5ECF6\", \"gridcolor\": \"white\", \"gridwidth\": 2, \"linecolor\": \"white\", \"showbackground\": true, \"ticks\": \"\", \"zerolinecolor\": \"white\"}}, \"shapedefaults\": {\"line\": {\"color\": \"#2a3f5f\"}}, \"ternary\": {\"aaxis\": {\"gridcolor\": \"white\", \"linecolor\": \"white\", \"ticks\": \"\"}, \"baxis\": {\"gridcolor\": \"white\", \"linecolor\": \"white\", \"ticks\": \"\"}, \"bgcolor\": \"#E5ECF6\", \"caxis\": {\"gridcolor\": \"white\", \"linecolor\": \"white\", \"ticks\": \"\"}}, \"title\": {\"x\": 0.05}, \"xaxis\": {\"automargin\": true, \"gridcolor\": \"white\", \"linecolor\": \"white\", \"ticks\": \"\", \"title\": {\"standoff\": 15}, \"zerolinecolor\": \"white\", \"zerolinewidth\": 2}, \"yaxis\": {\"automargin\": true, \"gridcolor\": \"white\", \"linecolor\": \"white\", \"ticks\": \"\", \"title\": {\"standoff\": 15}, \"zerolinecolor\": \"white\", \"zerolinewidth\": 2}}}, \"xaxis\": {\"anchor\": \"y\", \"domain\": [0.0, 1.0], \"title\": {\"text\": \"# Components\"}}, \"yaxis\": {\"anchor\": \"x\", \"domain\": [0.0, 1.0], \"title\": {\"text\": \"Explained Variance\"}}},\n",
              "                        {\"responsive\": true}\n",
              "                    ).then(function(){\n",
              "                            \n",
              "var gd = document.getElementById('33fb79a9-a99a-4bf6-9d2b-ed72807e9c11');\n",
              "var x = new MutationObserver(function (mutations, observer) {{\n",
              "        var display = window.getComputedStyle(gd).display;\n",
              "        if (!display || display === 'none') {{\n",
              "            console.log([gd, 'removed!']);\n",
              "            Plotly.purge(gd);\n",
              "            observer.disconnect();\n",
              "        }}\n",
              "}});\n",
              "\n",
              "// Listen for the removal of the full notebook cells\n",
              "var notebookContainer = gd.closest('#notebook-container');\n",
              "if (notebookContainer) {{\n",
              "    x.observe(notebookContainer, {childList: true});\n",
              "}}\n",
              "\n",
              "// Listen for the clearing of the current output cell\n",
              "var outputEl = gd.closest('.output');\n",
              "if (outputEl) {{\n",
              "    x.observe(outputEl, {childList: true});\n",
              "}}\n",
              "\n",
              "                        })\n",
              "                };\n",
              "                \n",
              "            </script>\n",
              "        </div>\n",
              "</body>\n",
              "</html>"
            ]
          },
          "metadata": {
            "tags": []
          }
        }
      ]
    },
    {
      "cell_type": "markdown",
      "metadata": {
        "id": "happy-laugh"
      },
      "source": [
        "Para este 8 componentes"
      ]
    },
    {
      "cell_type": "code",
      "metadata": {
        "colab": {
          "base_uri": "https://localhost:8080/",
          "height": 542
        },
        "id": "enhanced-perfume",
        "outputId": "d23287e1-84c2-4d25-d29c-a0c252175b2a"
      },
      "source": [
        "exp_var_cumul = np.cumsum(pca_rs.explained_variance_ratio_)\n",
        "\n",
        "px.area(\n",
        "    x=range(1, exp_var_cumul.shape[0] + 1),\n",
        "    y=exp_var_cumul,\n",
        "    labels={\"x\": \"Número de componentes\", \"y\": \"Variabilidad\"}\n",
        ")"
      ],
      "execution_count": null,
      "outputs": [
        {
          "output_type": "display_data",
          "data": {
            "text/html": [
              "<html>\n",
              "<head><meta charset=\"utf-8\" /></head>\n",
              "<body>\n",
              "    <div>\n",
              "            <script src=\"https://cdnjs.cloudflare.com/ajax/libs/mathjax/2.7.5/MathJax.js?config=TeX-AMS-MML_SVG\"></script><script type=\"text/javascript\">if (window.MathJax) {MathJax.Hub.Config({SVG: {font: \"STIX-Web\"}});}</script>\n",
              "                <script type=\"text/javascript\">window.PlotlyConfig = {MathJaxConfig: 'local'};</script>\n",
              "        <script src=\"https://cdn.plot.ly/plotly-latest.min.js\"></script>    \n",
              "            <div id=\"039466b6-0516-492c-959c-51699c39e382\" class=\"plotly-graph-div\" style=\"height:525px; width:100%;\"></div>\n",
              "            <script type=\"text/javascript\">\n",
              "                \n",
              "                    window.PLOTLYENV=window.PLOTLYENV || {};\n",
              "                    \n",
              "                if (document.getElementById(\"039466b6-0516-492c-959c-51699c39e382\")) {\n",
              "                    Plotly.newPlot(\n",
              "                        '039466b6-0516-492c-959c-51699c39e382',\n",
              "                        [{\"hoverlabel\": {\"namelength\": 0}, \"hovertemplate\": \"N\\u00famero de componentes=%{x}<br>Variabilidad=%{y}\", \"legendgroup\": \"\", \"line\": {\"color\": \"#636efa\"}, \"mode\": \"lines\", \"name\": \"\", \"orientation\": \"v\", \"showlegend\": false, \"stackgroup\": \"1\", \"type\": \"scatter\", \"x\": [1, 2, 3, 4, 5, 6, 7, 8, 9, 10, 11, 12, 13, 14, 15, 16, 17, 18, 19, 20, 21, 22, 23, 24, 25, 26, 27, 28, 29, 30, 31, 32, 33, 34, 35], \"xaxis\": \"x\", \"y\": [0.5738451248050693, 0.7079781246239198, 0.776095085639922, 0.8331464090705236, 0.8687666532044973, 0.8955151858311887, 0.9160065840422541, 0.9310222500496501, 0.9438929550738999, 0.9551167335013022, 0.965598825505924, 0.972047386886613, 0.9772036153663229, 0.9817449361386005, 0.9859451586972146, 0.9896981588892714, 0.9920541176081599, 0.9941013678538856, 0.9959465763223123, 0.9973502707493914, 0.9981164010521327, 0.9988437003562123, 0.9992730598679405, 0.9995457750763866, 0.9997426200597499, 0.9998343681212423, 0.999902741349414, 0.9999363960706281, 0.9999610176812088, 0.9999823769656765, 0.9999995556604853, 0.999999879947557, 0.9999999999999997, 0.9999999999999997, 0.9999999999999997], \"yaxis\": \"y\"}],\n",
              "                        {\"legend\": {\"tracegroupgap\": 0}, \"margin\": {\"t\": 60}, \"template\": {\"data\": {\"bar\": [{\"error_x\": {\"color\": \"#2a3f5f\"}, \"error_y\": {\"color\": \"#2a3f5f\"}, \"marker\": {\"line\": {\"color\": \"#E5ECF6\", \"width\": 0.5}}, \"type\": \"bar\"}], \"barpolar\": [{\"marker\": {\"line\": {\"color\": \"#E5ECF6\", \"width\": 0.5}}, \"type\": \"barpolar\"}], \"carpet\": [{\"aaxis\": {\"endlinecolor\": \"#2a3f5f\", \"gridcolor\": \"white\", \"linecolor\": \"white\", \"minorgridcolor\": \"white\", \"startlinecolor\": \"#2a3f5f\"}, \"baxis\": {\"endlinecolor\": \"#2a3f5f\", \"gridcolor\": \"white\", \"linecolor\": \"white\", \"minorgridcolor\": \"white\", \"startlinecolor\": \"#2a3f5f\"}, \"type\": \"carpet\"}], \"choropleth\": [{\"colorbar\": {\"outlinewidth\": 0, \"ticks\": \"\"}, \"type\": \"choropleth\"}], \"contour\": [{\"colorbar\": {\"outlinewidth\": 0, \"ticks\": \"\"}, \"colorscale\": [[0.0, \"#0d0887\"], [0.1111111111111111, \"#46039f\"], [0.2222222222222222, \"#7201a8\"], [0.3333333333333333, \"#9c179e\"], [0.4444444444444444, \"#bd3786\"], [0.5555555555555556, \"#d8576b\"], [0.6666666666666666, \"#ed7953\"], [0.7777777777777778, \"#fb9f3a\"], [0.8888888888888888, \"#fdca26\"], [1.0, \"#f0f921\"]], \"type\": \"contour\"}], \"contourcarpet\": [{\"colorbar\": {\"outlinewidth\": 0, \"ticks\": \"\"}, \"type\": \"contourcarpet\"}], \"heatmap\": [{\"colorbar\": {\"outlinewidth\": 0, \"ticks\": \"\"}, \"colorscale\": [[0.0, \"#0d0887\"], [0.1111111111111111, \"#46039f\"], [0.2222222222222222, \"#7201a8\"], [0.3333333333333333, \"#9c179e\"], [0.4444444444444444, \"#bd3786\"], [0.5555555555555556, \"#d8576b\"], [0.6666666666666666, \"#ed7953\"], [0.7777777777777778, \"#fb9f3a\"], [0.8888888888888888, \"#fdca26\"], [1.0, \"#f0f921\"]], \"type\": \"heatmap\"}], \"heatmapgl\": [{\"colorbar\": {\"outlinewidth\": 0, \"ticks\": \"\"}, \"colorscale\": [[0.0, \"#0d0887\"], [0.1111111111111111, \"#46039f\"], [0.2222222222222222, \"#7201a8\"], [0.3333333333333333, \"#9c179e\"], [0.4444444444444444, \"#bd3786\"], [0.5555555555555556, \"#d8576b\"], [0.6666666666666666, \"#ed7953\"], [0.7777777777777778, \"#fb9f3a\"], [0.8888888888888888, \"#fdca26\"], [1.0, \"#f0f921\"]], \"type\": \"heatmapgl\"}], \"histogram\": [{\"marker\": {\"colorbar\": {\"outlinewidth\": 0, \"ticks\": \"\"}}, \"type\": \"histogram\"}], \"histogram2d\": [{\"colorbar\": {\"outlinewidth\": 0, \"ticks\": \"\"}, \"colorscale\": [[0.0, \"#0d0887\"], [0.1111111111111111, \"#46039f\"], [0.2222222222222222, \"#7201a8\"], [0.3333333333333333, \"#9c179e\"], [0.4444444444444444, \"#bd3786\"], [0.5555555555555556, \"#d8576b\"], [0.6666666666666666, \"#ed7953\"], [0.7777777777777778, \"#fb9f3a\"], [0.8888888888888888, \"#fdca26\"], [1.0, \"#f0f921\"]], \"type\": \"histogram2d\"}], \"histogram2dcontour\": [{\"colorbar\": {\"outlinewidth\": 0, \"ticks\": \"\"}, \"colorscale\": [[0.0, \"#0d0887\"], [0.1111111111111111, \"#46039f\"], [0.2222222222222222, \"#7201a8\"], [0.3333333333333333, \"#9c179e\"], [0.4444444444444444, \"#bd3786\"], [0.5555555555555556, \"#d8576b\"], [0.6666666666666666, \"#ed7953\"], [0.7777777777777778, \"#fb9f3a\"], [0.8888888888888888, \"#fdca26\"], [1.0, \"#f0f921\"]], \"type\": \"histogram2dcontour\"}], \"mesh3d\": [{\"colorbar\": {\"outlinewidth\": 0, \"ticks\": \"\"}, \"type\": \"mesh3d\"}], \"parcoords\": [{\"line\": {\"colorbar\": {\"outlinewidth\": 0, \"ticks\": \"\"}}, \"type\": \"parcoords\"}], \"pie\": [{\"automargin\": true, \"type\": \"pie\"}], \"scatter\": [{\"marker\": {\"colorbar\": {\"outlinewidth\": 0, \"ticks\": \"\"}}, \"type\": \"scatter\"}], \"scatter3d\": [{\"line\": {\"colorbar\": {\"outlinewidth\": 0, \"ticks\": \"\"}}, \"marker\": {\"colorbar\": {\"outlinewidth\": 0, \"ticks\": \"\"}}, \"type\": \"scatter3d\"}], \"scattercarpet\": [{\"marker\": {\"colorbar\": {\"outlinewidth\": 0, \"ticks\": \"\"}}, \"type\": \"scattercarpet\"}], \"scattergeo\": [{\"marker\": {\"colorbar\": {\"outlinewidth\": 0, \"ticks\": \"\"}}, \"type\": \"scattergeo\"}], \"scattergl\": [{\"marker\": {\"colorbar\": {\"outlinewidth\": 0, \"ticks\": \"\"}}, \"type\": \"scattergl\"}], \"scattermapbox\": [{\"marker\": {\"colorbar\": {\"outlinewidth\": 0, \"ticks\": \"\"}}, \"type\": \"scattermapbox\"}], \"scatterpolar\": [{\"marker\": {\"colorbar\": {\"outlinewidth\": 0, \"ticks\": \"\"}}, \"type\": \"scatterpolar\"}], \"scatterpolargl\": [{\"marker\": {\"colorbar\": {\"outlinewidth\": 0, \"ticks\": \"\"}}, \"type\": \"scatterpolargl\"}], \"scatterternary\": [{\"marker\": {\"colorbar\": {\"outlinewidth\": 0, \"ticks\": \"\"}}, \"type\": \"scatterternary\"}], \"surface\": [{\"colorbar\": {\"outlinewidth\": 0, \"ticks\": \"\"}, \"colorscale\": [[0.0, \"#0d0887\"], [0.1111111111111111, \"#46039f\"], [0.2222222222222222, \"#7201a8\"], [0.3333333333333333, \"#9c179e\"], [0.4444444444444444, \"#bd3786\"], [0.5555555555555556, \"#d8576b\"], [0.6666666666666666, \"#ed7953\"], [0.7777777777777778, \"#fb9f3a\"], [0.8888888888888888, \"#fdca26\"], [1.0, \"#f0f921\"]], \"type\": \"surface\"}], \"table\": [{\"cells\": {\"fill\": {\"color\": \"#EBF0F8\"}, \"line\": {\"color\": \"white\"}}, \"header\": {\"fill\": {\"color\": \"#C8D4E3\"}, \"line\": {\"color\": \"white\"}}, \"type\": \"table\"}]}, \"layout\": {\"annotationdefaults\": {\"arrowcolor\": \"#2a3f5f\", \"arrowhead\": 0, \"arrowwidth\": 1}, \"coloraxis\": {\"colorbar\": {\"outlinewidth\": 0, \"ticks\": \"\"}}, \"colorscale\": {\"diverging\": [[0, \"#8e0152\"], [0.1, \"#c51b7d\"], [0.2, \"#de77ae\"], [0.3, \"#f1b6da\"], [0.4, \"#fde0ef\"], [0.5, \"#f7f7f7\"], [0.6, \"#e6f5d0\"], [0.7, \"#b8e186\"], [0.8, \"#7fbc41\"], [0.9, \"#4d9221\"], [1, \"#276419\"]], \"sequential\": [[0.0, \"#0d0887\"], [0.1111111111111111, \"#46039f\"], [0.2222222222222222, \"#7201a8\"], [0.3333333333333333, \"#9c179e\"], [0.4444444444444444, \"#bd3786\"], [0.5555555555555556, \"#d8576b\"], [0.6666666666666666, \"#ed7953\"], [0.7777777777777778, \"#fb9f3a\"], [0.8888888888888888, \"#fdca26\"], [1.0, \"#f0f921\"]], \"sequentialminus\": [[0.0, \"#0d0887\"], [0.1111111111111111, \"#46039f\"], [0.2222222222222222, \"#7201a8\"], [0.3333333333333333, \"#9c179e\"], [0.4444444444444444, \"#bd3786\"], [0.5555555555555556, \"#d8576b\"], [0.6666666666666666, \"#ed7953\"], [0.7777777777777778, \"#fb9f3a\"], [0.8888888888888888, \"#fdca26\"], [1.0, \"#f0f921\"]]}, \"colorway\": [\"#636efa\", \"#EF553B\", \"#00cc96\", \"#ab63fa\", \"#FFA15A\", \"#19d3f3\", \"#FF6692\", \"#B6E880\", \"#FF97FF\", \"#FECB52\"], \"font\": {\"color\": \"#2a3f5f\"}, \"geo\": {\"bgcolor\": \"white\", \"lakecolor\": \"white\", \"landcolor\": \"#E5ECF6\", \"showlakes\": true, \"showland\": true, \"subunitcolor\": \"white\"}, \"hoverlabel\": {\"align\": \"left\"}, \"hovermode\": \"closest\", \"mapbox\": {\"style\": \"light\"}, \"paper_bgcolor\": \"white\", \"plot_bgcolor\": \"#E5ECF6\", \"polar\": {\"angularaxis\": {\"gridcolor\": \"white\", \"linecolor\": \"white\", \"ticks\": \"\"}, \"bgcolor\": \"#E5ECF6\", \"radialaxis\": {\"gridcolor\": \"white\", \"linecolor\": \"white\", \"ticks\": \"\"}}, \"scene\": {\"xaxis\": {\"backgroundcolor\": \"#E5ECF6\", \"gridcolor\": \"white\", \"gridwidth\": 2, \"linecolor\": \"white\", \"showbackground\": true, \"ticks\": \"\", \"zerolinecolor\": \"white\"}, \"yaxis\": {\"backgroundcolor\": \"#E5ECF6\", \"gridcolor\": \"white\", \"gridwidth\": 2, \"linecolor\": \"white\", \"showbackground\": true, \"ticks\": \"\", \"zerolinecolor\": \"white\"}, \"zaxis\": {\"backgroundcolor\": \"#E5ECF6\", \"gridcolor\": \"white\", \"gridwidth\": 2, \"linecolor\": \"white\", \"showbackground\": true, \"ticks\": \"\", \"zerolinecolor\": \"white\"}}, \"shapedefaults\": {\"line\": {\"color\": \"#2a3f5f\"}}, \"ternary\": {\"aaxis\": {\"gridcolor\": \"white\", \"linecolor\": \"white\", \"ticks\": \"\"}, \"baxis\": {\"gridcolor\": \"white\", \"linecolor\": \"white\", \"ticks\": \"\"}, \"bgcolor\": \"#E5ECF6\", \"caxis\": {\"gridcolor\": \"white\", \"linecolor\": \"white\", \"ticks\": \"\"}}, \"title\": {\"x\": 0.05}, \"xaxis\": {\"automargin\": true, \"gridcolor\": \"white\", \"linecolor\": \"white\", \"ticks\": \"\", \"title\": {\"standoff\": 15}, \"zerolinecolor\": \"white\", \"zerolinewidth\": 2}, \"yaxis\": {\"automargin\": true, \"gridcolor\": \"white\", \"linecolor\": \"white\", \"ticks\": \"\", \"title\": {\"standoff\": 15}, \"zerolinecolor\": \"white\", \"zerolinewidth\": 2}}}, \"xaxis\": {\"anchor\": \"y\", \"domain\": [0.0, 1.0], \"title\": {\"text\": \"N\\u00famero de componentes\"}}, \"yaxis\": {\"anchor\": \"x\", \"domain\": [0.0, 1.0], \"title\": {\"text\": \"Variabilidad\"}}},\n",
              "                        {\"responsive\": true}\n",
              "                    ).then(function(){\n",
              "                            \n",
              "var gd = document.getElementById('039466b6-0516-492c-959c-51699c39e382');\n",
              "var x = new MutationObserver(function (mutations, observer) {{\n",
              "        var display = window.getComputedStyle(gd).display;\n",
              "        if (!display || display === 'none') {{\n",
              "            console.log([gd, 'removed!']);\n",
              "            Plotly.purge(gd);\n",
              "            observer.disconnect();\n",
              "        }}\n",
              "}});\n",
              "\n",
              "// Listen for the removal of the full notebook cells\n",
              "var notebookContainer = gd.closest('#notebook-container');\n",
              "if (notebookContainer) {{\n",
              "    x.observe(notebookContainer, {childList: true});\n",
              "}}\n",
              "\n",
              "// Listen for the clearing of the current output cell\n",
              "var outputEl = gd.closest('.output');\n",
              "if (outputEl) {{\n",
              "    x.observe(outputEl, {childList: true});\n",
              "}}\n",
              "\n",
              "                        })\n",
              "                };\n",
              "                \n",
              "            </script>\n",
              "        </div>\n",
              "</body>\n",
              "</html>"
            ]
          },
          "metadata": {
            "tags": []
          }
        }
      ]
    },
    {
      "cell_type": "markdown",
      "metadata": {
        "id": "knowing-break"
      },
      "source": [
        "Para este 5 componentes"
      ]
    },
    {
      "cell_type": "code",
      "metadata": {
        "colab": {
          "base_uri": "https://localhost:8080/",
          "height": 542
        },
        "id": "motivated-double",
        "outputId": "0559962b-9394-4d19-d7a8-0aab989dda24"
      },
      "source": [
        "exp_var_cumul = np.cumsum(pca_pt.explained_variance_ratio_)\n",
        "\n",
        "px.area(\n",
        "    x=range(1, exp_var_cumul.shape[0] + 1),\n",
        "    y=exp_var_cumul,\n",
        "    labels={\"x\": \"# Components\", \"y\": \"Explained Variance\"}\n",
        ")"
      ],
      "execution_count": null,
      "outputs": [
        {
          "output_type": "display_data",
          "data": {
            "text/html": [
              "<html>\n",
              "<head><meta charset=\"utf-8\" /></head>\n",
              "<body>\n",
              "    <div>\n",
              "            <script src=\"https://cdnjs.cloudflare.com/ajax/libs/mathjax/2.7.5/MathJax.js?config=TeX-AMS-MML_SVG\"></script><script type=\"text/javascript\">if (window.MathJax) {MathJax.Hub.Config({SVG: {font: \"STIX-Web\"}});}</script>\n",
              "                <script type=\"text/javascript\">window.PlotlyConfig = {MathJaxConfig: 'local'};</script>\n",
              "        <script src=\"https://cdn.plot.ly/plotly-latest.min.js\"></script>    \n",
              "            <div id=\"6d97f08f-77cf-4909-baf7-1bfb6fe79f68\" class=\"plotly-graph-div\" style=\"height:525px; width:100%;\"></div>\n",
              "            <script type=\"text/javascript\">\n",
              "                \n",
              "                    window.PLOTLYENV=window.PLOTLYENV || {};\n",
              "                    \n",
              "                if (document.getElementById(\"6d97f08f-77cf-4909-baf7-1bfb6fe79f68\")) {\n",
              "                    Plotly.newPlot(\n",
              "                        '6d97f08f-77cf-4909-baf7-1bfb6fe79f68',\n",
              "                        [{\"hoverlabel\": {\"namelength\": 0}, \"hovertemplate\": \"# Components=%{x}<br>Explained Variance=%{y}\", \"legendgroup\": \"\", \"line\": {\"color\": \"#636efa\"}, \"mode\": \"lines\", \"name\": \"\", \"orientation\": \"v\", \"showlegend\": false, \"stackgroup\": \"1\", \"type\": \"scatter\", \"x\": [1, 2, 3, 4, 5, 6, 7, 8, 9, 10, 11, 12, 13, 14, 15, 16, 17, 18, 19, 20, 21, 22, 23, 24, 25, 26, 27, 28, 29, 30, 31, 32, 33, 34, 35], \"xaxis\": \"x\", \"y\": [0.22699464730674604, 0.35567056954658977, 0.4384393664729378, 0.507727495450519, 0.5716076403818912, 0.6286189613259311, 0.6724235437259974, 0.7097871877649568, 0.7417282464414593, 0.7723877595375074, 0.8018358126785793, 0.8298120895518457, 0.8576123330782044, 0.8841894840450004, 0.9099018297188098, 0.9312889446123469, 0.949983502927576, 0.9651073880426645, 0.9754973820861879, 0.9846937290738805, 0.9896824221354963, 0.9928296405156173, 0.9949928743558549, 0.9967201421659991, 0.9978395432528023, 0.9988841119796923, 0.9992660274528778, 0.9994860001365095, 0.9996216822019546, 0.9997528773163956, 0.999853260113217, 0.9999185273884144, 0.9999663425744082, 0.9999993410665906, 1.0], \"yaxis\": \"y\"}],\n",
              "                        {\"legend\": {\"tracegroupgap\": 0}, \"margin\": {\"t\": 60}, \"template\": {\"data\": {\"bar\": [{\"error_x\": {\"color\": \"#2a3f5f\"}, \"error_y\": {\"color\": \"#2a3f5f\"}, \"marker\": {\"line\": {\"color\": \"#E5ECF6\", \"width\": 0.5}}, \"type\": \"bar\"}], \"barpolar\": [{\"marker\": {\"line\": {\"color\": \"#E5ECF6\", \"width\": 0.5}}, \"type\": \"barpolar\"}], \"carpet\": [{\"aaxis\": {\"endlinecolor\": \"#2a3f5f\", \"gridcolor\": \"white\", \"linecolor\": \"white\", \"minorgridcolor\": \"white\", \"startlinecolor\": \"#2a3f5f\"}, \"baxis\": {\"endlinecolor\": \"#2a3f5f\", \"gridcolor\": \"white\", \"linecolor\": \"white\", \"minorgridcolor\": \"white\", \"startlinecolor\": \"#2a3f5f\"}, \"type\": \"carpet\"}], \"choropleth\": [{\"colorbar\": {\"outlinewidth\": 0, \"ticks\": \"\"}, \"type\": \"choropleth\"}], \"contour\": [{\"colorbar\": {\"outlinewidth\": 0, \"ticks\": \"\"}, \"colorscale\": [[0.0, \"#0d0887\"], [0.1111111111111111, \"#46039f\"], [0.2222222222222222, \"#7201a8\"], [0.3333333333333333, \"#9c179e\"], [0.4444444444444444, \"#bd3786\"], [0.5555555555555556, \"#d8576b\"], [0.6666666666666666, \"#ed7953\"], [0.7777777777777778, \"#fb9f3a\"], [0.8888888888888888, \"#fdca26\"], [1.0, \"#f0f921\"]], \"type\": \"contour\"}], \"contourcarpet\": [{\"colorbar\": {\"outlinewidth\": 0, \"ticks\": \"\"}, \"type\": \"contourcarpet\"}], \"heatmap\": [{\"colorbar\": {\"outlinewidth\": 0, \"ticks\": \"\"}, \"colorscale\": [[0.0, \"#0d0887\"], [0.1111111111111111, \"#46039f\"], [0.2222222222222222, \"#7201a8\"], [0.3333333333333333, \"#9c179e\"], [0.4444444444444444, \"#bd3786\"], [0.5555555555555556, \"#d8576b\"], [0.6666666666666666, \"#ed7953\"], [0.7777777777777778, \"#fb9f3a\"], [0.8888888888888888, \"#fdca26\"], [1.0, \"#f0f921\"]], \"type\": \"heatmap\"}], \"heatmapgl\": [{\"colorbar\": {\"outlinewidth\": 0, \"ticks\": \"\"}, \"colorscale\": [[0.0, \"#0d0887\"], [0.1111111111111111, \"#46039f\"], [0.2222222222222222, \"#7201a8\"], [0.3333333333333333, \"#9c179e\"], [0.4444444444444444, \"#bd3786\"], [0.5555555555555556, \"#d8576b\"], [0.6666666666666666, \"#ed7953\"], [0.7777777777777778, \"#fb9f3a\"], [0.8888888888888888, \"#fdca26\"], [1.0, \"#f0f921\"]], \"type\": \"heatmapgl\"}], \"histogram\": [{\"marker\": {\"colorbar\": {\"outlinewidth\": 0, \"ticks\": \"\"}}, \"type\": \"histogram\"}], \"histogram2d\": [{\"colorbar\": {\"outlinewidth\": 0, \"ticks\": \"\"}, \"colorscale\": [[0.0, \"#0d0887\"], [0.1111111111111111, \"#46039f\"], [0.2222222222222222, \"#7201a8\"], [0.3333333333333333, \"#9c179e\"], [0.4444444444444444, \"#bd3786\"], [0.5555555555555556, \"#d8576b\"], [0.6666666666666666, \"#ed7953\"], [0.7777777777777778, \"#fb9f3a\"], [0.8888888888888888, \"#fdca26\"], [1.0, \"#f0f921\"]], \"type\": \"histogram2d\"}], \"histogram2dcontour\": [{\"colorbar\": {\"outlinewidth\": 0, \"ticks\": \"\"}, \"colorscale\": [[0.0, \"#0d0887\"], [0.1111111111111111, \"#46039f\"], [0.2222222222222222, \"#7201a8\"], [0.3333333333333333, \"#9c179e\"], [0.4444444444444444, \"#bd3786\"], [0.5555555555555556, \"#d8576b\"], [0.6666666666666666, \"#ed7953\"], [0.7777777777777778, \"#fb9f3a\"], [0.8888888888888888, \"#fdca26\"], [1.0, \"#f0f921\"]], \"type\": \"histogram2dcontour\"}], \"mesh3d\": [{\"colorbar\": {\"outlinewidth\": 0, \"ticks\": \"\"}, \"type\": \"mesh3d\"}], \"parcoords\": [{\"line\": {\"colorbar\": {\"outlinewidth\": 0, \"ticks\": \"\"}}, \"type\": \"parcoords\"}], \"pie\": [{\"automargin\": true, \"type\": \"pie\"}], \"scatter\": [{\"marker\": {\"colorbar\": {\"outlinewidth\": 0, \"ticks\": \"\"}}, \"type\": \"scatter\"}], \"scatter3d\": [{\"line\": {\"colorbar\": {\"outlinewidth\": 0, \"ticks\": \"\"}}, \"marker\": {\"colorbar\": {\"outlinewidth\": 0, \"ticks\": \"\"}}, \"type\": \"scatter3d\"}], \"scattercarpet\": [{\"marker\": {\"colorbar\": {\"outlinewidth\": 0, \"ticks\": \"\"}}, \"type\": \"scattercarpet\"}], \"scattergeo\": [{\"marker\": {\"colorbar\": {\"outlinewidth\": 0, \"ticks\": \"\"}}, \"type\": \"scattergeo\"}], \"scattergl\": [{\"marker\": {\"colorbar\": {\"outlinewidth\": 0, \"ticks\": \"\"}}, \"type\": \"scattergl\"}], \"scattermapbox\": [{\"marker\": {\"colorbar\": {\"outlinewidth\": 0, \"ticks\": \"\"}}, \"type\": \"scattermapbox\"}], \"scatterpolar\": [{\"marker\": {\"colorbar\": {\"outlinewidth\": 0, \"ticks\": \"\"}}, \"type\": \"scatterpolar\"}], \"scatterpolargl\": [{\"marker\": {\"colorbar\": {\"outlinewidth\": 0, \"ticks\": \"\"}}, \"type\": \"scatterpolargl\"}], \"scatterternary\": [{\"marker\": {\"colorbar\": {\"outlinewidth\": 0, \"ticks\": \"\"}}, \"type\": \"scatterternary\"}], \"surface\": [{\"colorbar\": {\"outlinewidth\": 0, \"ticks\": \"\"}, \"colorscale\": [[0.0, \"#0d0887\"], [0.1111111111111111, \"#46039f\"], [0.2222222222222222, \"#7201a8\"], [0.3333333333333333, \"#9c179e\"], [0.4444444444444444, \"#bd3786\"], [0.5555555555555556, \"#d8576b\"], [0.6666666666666666, \"#ed7953\"], [0.7777777777777778, \"#fb9f3a\"], [0.8888888888888888, \"#fdca26\"], [1.0, \"#f0f921\"]], \"type\": \"surface\"}], \"table\": [{\"cells\": {\"fill\": {\"color\": \"#EBF0F8\"}, \"line\": {\"color\": \"white\"}}, \"header\": {\"fill\": {\"color\": \"#C8D4E3\"}, \"line\": {\"color\": \"white\"}}, \"type\": \"table\"}]}, \"layout\": {\"annotationdefaults\": {\"arrowcolor\": \"#2a3f5f\", \"arrowhead\": 0, \"arrowwidth\": 1}, \"coloraxis\": {\"colorbar\": {\"outlinewidth\": 0, \"ticks\": \"\"}}, \"colorscale\": {\"diverging\": [[0, \"#8e0152\"], [0.1, \"#c51b7d\"], [0.2, \"#de77ae\"], [0.3, \"#f1b6da\"], [0.4, \"#fde0ef\"], [0.5, \"#f7f7f7\"], [0.6, \"#e6f5d0\"], [0.7, \"#b8e186\"], [0.8, \"#7fbc41\"], [0.9, \"#4d9221\"], [1, \"#276419\"]], \"sequential\": [[0.0, \"#0d0887\"], [0.1111111111111111, \"#46039f\"], [0.2222222222222222, \"#7201a8\"], [0.3333333333333333, \"#9c179e\"], [0.4444444444444444, \"#bd3786\"], [0.5555555555555556, \"#d8576b\"], [0.6666666666666666, \"#ed7953\"], [0.7777777777777778, \"#fb9f3a\"], [0.8888888888888888, \"#fdca26\"], [1.0, \"#f0f921\"]], \"sequentialminus\": [[0.0, \"#0d0887\"], [0.1111111111111111, \"#46039f\"], [0.2222222222222222, \"#7201a8\"], [0.3333333333333333, \"#9c179e\"], [0.4444444444444444, \"#bd3786\"], [0.5555555555555556, \"#d8576b\"], [0.6666666666666666, \"#ed7953\"], [0.7777777777777778, \"#fb9f3a\"], [0.8888888888888888, \"#fdca26\"], [1.0, \"#f0f921\"]]}, \"colorway\": [\"#636efa\", \"#EF553B\", \"#00cc96\", \"#ab63fa\", \"#FFA15A\", \"#19d3f3\", \"#FF6692\", \"#B6E880\", \"#FF97FF\", \"#FECB52\"], \"font\": {\"color\": \"#2a3f5f\"}, \"geo\": {\"bgcolor\": \"white\", \"lakecolor\": \"white\", \"landcolor\": \"#E5ECF6\", \"showlakes\": true, \"showland\": true, \"subunitcolor\": \"white\"}, \"hoverlabel\": {\"align\": \"left\"}, \"hovermode\": \"closest\", \"mapbox\": {\"style\": \"light\"}, \"paper_bgcolor\": \"white\", \"plot_bgcolor\": \"#E5ECF6\", \"polar\": {\"angularaxis\": {\"gridcolor\": \"white\", \"linecolor\": \"white\", \"ticks\": \"\"}, \"bgcolor\": \"#E5ECF6\", \"radialaxis\": {\"gridcolor\": \"white\", \"linecolor\": \"white\", \"ticks\": \"\"}}, \"scene\": {\"xaxis\": {\"backgroundcolor\": \"#E5ECF6\", \"gridcolor\": \"white\", \"gridwidth\": 2, \"linecolor\": \"white\", \"showbackground\": true, \"ticks\": \"\", \"zerolinecolor\": \"white\"}, \"yaxis\": {\"backgroundcolor\": \"#E5ECF6\", \"gridcolor\": \"white\", \"gridwidth\": 2, \"linecolor\": \"white\", \"showbackground\": true, \"ticks\": \"\", \"zerolinecolor\": \"white\"}, \"zaxis\": {\"backgroundcolor\": \"#E5ECF6\", \"gridcolor\": \"white\", \"gridwidth\": 2, \"linecolor\": \"white\", \"showbackground\": true, \"ticks\": \"\", \"zerolinecolor\": \"white\"}}, \"shapedefaults\": {\"line\": {\"color\": \"#2a3f5f\"}}, \"ternary\": {\"aaxis\": {\"gridcolor\": \"white\", \"linecolor\": \"white\", \"ticks\": \"\"}, \"baxis\": {\"gridcolor\": \"white\", \"linecolor\": \"white\", \"ticks\": \"\"}, \"bgcolor\": \"#E5ECF6\", \"caxis\": {\"gridcolor\": \"white\", \"linecolor\": \"white\", \"ticks\": \"\"}}, \"title\": {\"x\": 0.05}, \"xaxis\": {\"automargin\": true, \"gridcolor\": \"white\", \"linecolor\": \"white\", \"ticks\": \"\", \"title\": {\"standoff\": 15}, \"zerolinecolor\": \"white\", \"zerolinewidth\": 2}, \"yaxis\": {\"automargin\": true, \"gridcolor\": \"white\", \"linecolor\": \"white\", \"ticks\": \"\", \"title\": {\"standoff\": 15}, \"zerolinecolor\": \"white\", \"zerolinewidth\": 2}}}, \"xaxis\": {\"anchor\": \"y\", \"domain\": [0.0, 1.0], \"title\": {\"text\": \"# Components\"}}, \"yaxis\": {\"anchor\": \"x\", \"domain\": [0.0, 1.0], \"title\": {\"text\": \"Explained Variance\"}}},\n",
              "                        {\"responsive\": true}\n",
              "                    ).then(function(){\n",
              "                            \n",
              "var gd = document.getElementById('6d97f08f-77cf-4909-baf7-1bfb6fe79f68');\n",
              "var x = new MutationObserver(function (mutations, observer) {{\n",
              "        var display = window.getComputedStyle(gd).display;\n",
              "        if (!display || display === 'none') {{\n",
              "            console.log([gd, 'removed!']);\n",
              "            Plotly.purge(gd);\n",
              "            observer.disconnect();\n",
              "        }}\n",
              "}});\n",
              "\n",
              "// Listen for the removal of the full notebook cells\n",
              "var notebookContainer = gd.closest('#notebook-container');\n",
              "if (notebookContainer) {{\n",
              "    x.observe(notebookContainer, {childList: true});\n",
              "}}\n",
              "\n",
              "// Listen for the clearing of the current output cell\n",
              "var outputEl = gd.closest('.output');\n",
              "if (outputEl) {{\n",
              "    x.observe(outputEl, {childList: true});\n",
              "}}\n",
              "\n",
              "                        })\n",
              "                };\n",
              "                \n",
              "            </script>\n",
              "        </div>\n",
              "</body>\n",
              "</html>"
            ]
          },
          "metadata": {
            "tags": []
          }
        }
      ]
    },
    {
      "cell_type": "markdown",
      "metadata": {
        "id": "recreational-rendering"
      },
      "source": [
        "Para este 13 componentes"
      ]
    },
    {
      "cell_type": "markdown",
      "metadata": {
        "id": "21zQlGnAxHps"
      },
      "source": [
        "#Nuevos datasets"
      ]
    },
    {
      "cell_type": "code",
      "metadata": {
        "colab": {
          "base_uri": "https://localhost:8080/"
        },
        "id": "maHl5-5f6ODZ",
        "outputId": "2c78724f-3a93-47ba-8755-630f95d6fb24"
      },
      "source": [
        "X_pca_ss = PCA(n_components = 14).fit_transform(static_defenses1)\n",
        "X_pca_ss.shape"
      ],
      "execution_count": null,
      "outputs": [
        {
          "output_type": "execute_result",
          "data": {
            "text/plain": [
              "(16415, 14)"
            ]
          },
          "metadata": {
            "tags": []
          },
          "execution_count": 144
        }
      ]
    },
    {
      "cell_type": "code",
      "metadata": {
        "colab": {
          "base_uri": "https://localhost:8080/"
        },
        "id": "4uGln1fK6ODc",
        "outputId": "6b309530-e1ef-46eb-9a5a-369b7385efc8"
      },
      "source": [
        "X_pca_mms = PCA(n_components = 8).fit_transform(static_defenses2)\n",
        "X_pca_mms.shape"
      ],
      "execution_count": null,
      "outputs": [
        {
          "output_type": "execute_result",
          "data": {
            "text/plain": [
              "(16415, 8)"
            ]
          },
          "metadata": {
            "tags": []
          },
          "execution_count": 145
        }
      ]
    },
    {
      "cell_type": "code",
      "metadata": {
        "colab": {
          "base_uri": "https://localhost:8080/"
        },
        "id": "kHge6u_76ODd",
        "outputId": "9ce12abb-8334-4751-82b7-035760da053a"
      },
      "source": [
        "X_pca_rs = PCA(n_components = 5).fit_transform(static_defenses3)\n",
        "X_pca_rs.shape"
      ],
      "execution_count": null,
      "outputs": [
        {
          "output_type": "execute_result",
          "data": {
            "text/plain": [
              "(16415, 5)"
            ]
          },
          "metadata": {
            "tags": []
          },
          "execution_count": 146
        }
      ]
    },
    {
      "cell_type": "code",
      "metadata": {
        "colab": {
          "base_uri": "https://localhost:8080/"
        },
        "id": "sgrWZV1p6ODf",
        "outputId": "c43a1e87-7fb1-4c3d-cb70-fb859be34b7a"
      },
      "source": [
        "X_pca_pt = PCA(n_components = 13).fit_transform(static_defenses4)\n",
        "X_pca_pt.shape"
      ],
      "execution_count": null,
      "outputs": [
        {
          "output_type": "execute_result",
          "data": {
            "text/plain": [
              "(16415, 13)"
            ]
          },
          "metadata": {
            "tags": []
          },
          "execution_count": 147
        }
      ]
    },
    {
      "cell_type": "markdown",
      "metadata": {
        "id": "4Kw_mpXNzEJX"
      },
      "source": [
        "#Decision Trees"
      ]
    },
    {
      "cell_type": "markdown",
      "metadata": {
        "id": "zxbQzt3QdBl8"
      },
      "source": [
        "##StandardScaler"
      ]
    },
    {
      "cell_type": "code",
      "metadata": {
        "colab": {
          "base_uri": "https://localhost:8080/",
          "height": 206
        },
        "id": "YUzbQQRXdBN7",
        "outputId": "8ee22f70-b0f4-4966-f020-1a4f2d103cd0"
      },
      "source": [
        "train_ss = pd.DataFrame(X_pca_ss)\n",
        "train_ss[\"playResult\"] = static_defenses[\"playResult\"].values\n",
        "train_ss.head()"
      ],
      "execution_count": null,
      "outputs": [
        {
          "output_type": "execute_result",
          "data": {
            "text/html": [
              "<div>\n",
              "<style scoped>\n",
              "    .dataframe tbody tr th:only-of-type {\n",
              "        vertical-align: middle;\n",
              "    }\n",
              "\n",
              "    .dataframe tbody tr th {\n",
              "        vertical-align: top;\n",
              "    }\n",
              "\n",
              "    .dataframe thead th {\n",
              "        text-align: right;\n",
              "    }\n",
              "</style>\n",
              "<table border=\"1\" class=\"dataframe\">\n",
              "  <thead>\n",
              "    <tr style=\"text-align: right;\">\n",
              "      <th></th>\n",
              "      <th>0</th>\n",
              "      <th>1</th>\n",
              "      <th>2</th>\n",
              "      <th>3</th>\n",
              "      <th>4</th>\n",
              "      <th>5</th>\n",
              "      <th>6</th>\n",
              "      <th>7</th>\n",
              "      <th>8</th>\n",
              "      <th>9</th>\n",
              "      <th>10</th>\n",
              "      <th>11</th>\n",
              "      <th>12</th>\n",
              "      <th>13</th>\n",
              "      <th>playResult</th>\n",
              "    </tr>\n",
              "  </thead>\n",
              "  <tbody>\n",
              "    <tr>\n",
              "      <th>0</th>\n",
              "      <td>-0.774207</td>\n",
              "      <td>-2.468463</td>\n",
              "      <td>0.494566</td>\n",
              "      <td>1.864442</td>\n",
              "      <td>2.134127</td>\n",
              "      <td>-0.167691</td>\n",
              "      <td>-1.035525</td>\n",
              "      <td>2.170306</td>\n",
              "      <td>1.481359</td>\n",
              "      <td>1.282111</td>\n",
              "      <td>-4.053166</td>\n",
              "      <td>1.791270</td>\n",
              "      <td>-0.521978</td>\n",
              "      <td>0.693603</td>\n",
              "      <td>1</td>\n",
              "    </tr>\n",
              "    <tr>\n",
              "      <th>1</th>\n",
              "      <td>-0.050022</td>\n",
              "      <td>-1.812451</td>\n",
              "      <td>1.506638</td>\n",
              "      <td>-0.269917</td>\n",
              "      <td>-0.550293</td>\n",
              "      <td>0.652475</td>\n",
              "      <td>-1.825969</td>\n",
              "      <td>0.446367</td>\n",
              "      <td>0.143657</td>\n",
              "      <td>-0.281569</td>\n",
              "      <td>0.558413</td>\n",
              "      <td>-0.310557</td>\n",
              "      <td>-0.510448</td>\n",
              "      <td>0.446740</td>\n",
              "      <td>0</td>\n",
              "    </tr>\n",
              "    <tr>\n",
              "      <th>2</th>\n",
              "      <td>2.290472</td>\n",
              "      <td>-2.538432</td>\n",
              "      <td>-3.218413</td>\n",
              "      <td>1.618976</td>\n",
              "      <td>0.525982</td>\n",
              "      <td>-0.480005</td>\n",
              "      <td>-0.323773</td>\n",
              "      <td>-0.103403</td>\n",
              "      <td>-1.648399</td>\n",
              "      <td>3.647436</td>\n",
              "      <td>0.568313</td>\n",
              "      <td>-0.831427</td>\n",
              "      <td>0.013318</td>\n",
              "      <td>-0.263233</td>\n",
              "      <td>0</td>\n",
              "    </tr>\n",
              "    <tr>\n",
              "      <th>3</th>\n",
              "      <td>-1.455413</td>\n",
              "      <td>-1.673324</td>\n",
              "      <td>2.751002</td>\n",
              "      <td>-1.874452</td>\n",
              "      <td>0.495802</td>\n",
              "      <td>-0.928747</td>\n",
              "      <td>-0.089102</td>\n",
              "      <td>1.235335</td>\n",
              "      <td>-0.949315</td>\n",
              "      <td>-0.706385</td>\n",
              "      <td>0.283100</td>\n",
              "      <td>-0.117366</td>\n",
              "      <td>-0.609669</td>\n",
              "      <td>0.547707</td>\n",
              "      <td>1</td>\n",
              "    </tr>\n",
              "    <tr>\n",
              "      <th>4</th>\n",
              "      <td>-1.647651</td>\n",
              "      <td>0.858845</td>\n",
              "      <td>0.729530</td>\n",
              "      <td>-0.845751</td>\n",
              "      <td>2.025989</td>\n",
              "      <td>-1.865084</td>\n",
              "      <td>-0.695297</td>\n",
              "      <td>0.816665</td>\n",
              "      <td>-0.857211</td>\n",
              "      <td>-0.145107</td>\n",
              "      <td>-0.575782</td>\n",
              "      <td>0.279942</td>\n",
              "      <td>0.620700</td>\n",
              "      <td>-0.725171</td>\n",
              "      <td>1</td>\n",
              "    </tr>\n",
              "  </tbody>\n",
              "</table>\n",
              "</div>"
            ],
            "text/plain": [
              "          0         1         2         3         4         5         6  \\\n",
              "0 -0.774207 -2.468463  0.494566  1.864442  2.134127 -0.167691 -1.035525   \n",
              "1 -0.050022 -1.812451  1.506638 -0.269917 -0.550293  0.652475 -1.825969   \n",
              "2  2.290472 -2.538432 -3.218413  1.618976  0.525982 -0.480005 -0.323773   \n",
              "3 -1.455413 -1.673324  2.751002 -1.874452  0.495802 -0.928747 -0.089102   \n",
              "4 -1.647651  0.858845  0.729530 -0.845751  2.025989 -1.865084 -0.695297   \n",
              "\n",
              "          7         8         9        10        11        12        13  \\\n",
              "0  2.170306  1.481359  1.282111 -4.053166  1.791270 -0.521978  0.693603   \n",
              "1  0.446367  0.143657 -0.281569  0.558413 -0.310557 -0.510448  0.446740   \n",
              "2 -0.103403 -1.648399  3.647436  0.568313 -0.831427  0.013318 -0.263233   \n",
              "3  1.235335 -0.949315 -0.706385  0.283100 -0.117366 -0.609669  0.547707   \n",
              "4  0.816665 -0.857211 -0.145107 -0.575782  0.279942  0.620700 -0.725171   \n",
              "\n",
              "   playResult  \n",
              "0           1  \n",
              "1           0  \n",
              "2           0  \n",
              "3           1  \n",
              "4           1  "
            ]
          },
          "metadata": {
            "tags": []
          },
          "execution_count": 148
        }
      ]
    },
    {
      "cell_type": "code",
      "metadata": {
        "colab": {
          "base_uri": "https://localhost:8080/",
          "height": 280
        },
        "id": "MWjKd_KNI4le",
        "outputId": "670d0ba8-fad3-4971-acf5-a86b71e413eb"
      },
      "source": [
        "from sklearn import tree\n",
        "from sklearn.model_selection import KFold\n",
        "\n",
        "cv = KFold(n_splits = 10, shuffle = False) # \n",
        "accuracies = list()\n",
        "max_attributes = len(list(train_ss))\n",
        "depth_range = range(1, max_attributes * 2)\n",
        "\n",
        "# from 1 to number of features * 2\n",
        "\n",
        "for depth in depth_range:\n",
        "    fold_accuracy = []\n",
        "    tree_model = tree.DecisionTreeClassifier(criterion='entropy', \n",
        "                                             min_samples_split = 65, \n",
        "                                             min_samples_leaf = 20,\n",
        "                                             max_depth = depth#,\n",
        "                                             #class_weight={0:6,1:4}\n",
        "                                            )\n",
        "    for train_fold, test_fold in cv.split(train_ss):\n",
        "        f_train = train_ss.loc[train_fold]\n",
        "        f_test = train_ss.loc[test_fold]\n",
        "        \n",
        "        model = tree_model.fit( X = f_train.drop(['playResult'], axis=1), \n",
        "                               y = f_train['playResult'])\n",
        "        test_acc = model.score(X = f_test.drop(['playResult'], axis=1), \n",
        "                                y = f_test['playResult'])\n",
        "        fold_accuracy.append(test_acc)\n",
        "        \n",
        "    avg = sum(fold_accuracy)/len(fold_accuracy)\n",
        "    accuracies.append(avg)\n",
        "    \n",
        "import matplotlib.pyplot as plt    \n",
        "plt.plot(depth_range, accuracies, marker='o')\n",
        "plt.xlabel('max_depth')\n",
        "plt.ylabel('accuracy')\n",
        "plt.show()"
      ],
      "execution_count": null,
      "outputs": [
        {
          "output_type": "display_data",
          "data": {
            "image/png": "[encoded data removed]",
            "text/plain": [
              "<Figure size 432x288 with 1 Axes>"
            ]
          },
          "metadata": {
            "tags": [],
            "needs_background": "light"
          }
        }
      ]
    },
    {
      "cell_type": "markdown",
      "metadata": {
        "id": "cc7OgvnKhgnM"
      },
      "source": [
        "###Ejecución"
      ]
    },
    {
      "cell_type": "code",
      "metadata": {
        "id": "T7Pc1JjdiM-m"
      },
      "source": [
        "X_train, X_test, y_train, y_test = train_test_split(train_ss.drop([\"playResult\"],axis=1),train_ss[\"playResult\"],test_size=0.2)"
      ],
      "execution_count": null,
      "outputs": []
    },
    {
      "cell_type": "code",
      "metadata": {
        "colab": {
          "base_uri": "https://localhost:8080/"
        },
        "id": "jb6i5tsKL7SF",
        "outputId": "f07ec20d-95b2-408e-ac38-580a90a6c1f1"
      },
      "source": [
        "from sklearn.metrics import accuracy_score\n",
        "regressor = tree.DecisionTreeClassifier(criterion='entropy', min_samples_split = 65, \n",
        "                                  min_samples_leaf = 20, max_depth = 15#, \n",
        "                                  #class_weight={0:6,1:4}\n",
        "                                  )\n",
        "regressor.fit( X = X_train, y = y_train)\n",
        "y_pred = regressor.predict(X = X_test)\n",
        "acc = accuracy_score(y_test, y_pred)\n",
        "print ('Acc', acc)\n"
      ],
      "execution_count": null,
      "outputs": [
        {
          "output_type": "stream",
          "text": [
            "Acc 0.2857142857142857\n"
          ],
          "name": "stdout"
        }
      ]
    },
    {
      "cell_type": "code",
      "metadata": {
        "id": "NX9gtCEszUi0"
      },
      "source": [
        "from sklearn.metrics import confusion_matrix\n",
        "from sklearn.utils.multiclass import unique_labels\n",
        "\n",
        "def plot_confusion_matrix(y_true, y_pred, classes,normalize=False,title=None,cmap=plt.cm.Blues):\n",
        "  \n",
        "    if not title:\n",
        "        if normalize:\n",
        "            title = 'Normalized confusion matrix'\n",
        "        else:\n",
        "            title = 'Confusion matrix, without normalization'\n",
        "\n",
        "    # Compute confusion matrix\n",
        "    cm = confusion_matrix(y_true, y_pred)\n",
        "    # Only use the labels that appear in the data\n",
        "    classes = classes[unique_labels(y_true, y_pred)]\n",
        "    if normalize:\n",
        "        cm = cm.astype('float') / cm.sum(axis=1)[:, np.newaxis]\n",
        "        print(\"Normalized confusion matrix\")\n",
        "    else:\n",
        "        print('Confusion matrix, without normalization')\n",
        "\n",
        "    print(cm)\n",
        "\n",
        "    fig, ax = plt.subplots()\n",
        "    im = ax.imshow(cm, interpolation='nearest', cmap=cmap)\n",
        "    ax.figure.colorbar(im, ax=ax)\n",
        "    # We want to show all ticks...\n",
        "    ax.set(xticks=np.arange(cm.shape[1]),\n",
        "           yticks=np.arange(cm.shape[0]),\n",
        "           # ... and label them with the respective list entries\n",
        "           xticklabels=classes, yticklabels=classes,\n",
        "           title=title,\n",
        "           ylabel='True label',\n",
        "           xlabel='Predicted label')\n",
        "\n",
        "    # Rotate the tick labels and set their alignment.\n",
        "    plt.setp(ax.get_xticklabels(), rotation=45, ha=\"right\",\n",
        "             rotation_mode=\"anchor\")\n",
        "\n",
        "    # Loop over data dimensions and create text annotations.\n",
        "    fmt = '.2f' if normalize else 'd'\n",
        "    thresh = cm.max() / 2.\n",
        "    for i in range(cm.shape[0]):\n",
        "        for j in range(cm.shape[1]):\n",
        "            ax.text(j, i, format(cm[i, j], fmt),\n",
        "                    ha=\"center\", va=\"center\",\n",
        "                    color=\"white\" if cm[i, j] > thresh else \"black\")\n",
        "    fig.tight_layout()\n",
        "    return ax"
      ],
      "execution_count": null,
      "outputs": []
    },
    {
      "cell_type": "code",
      "metadata": {
        "colab": {
          "base_uri": "https://localhost:8080/",
          "height": 419
        },
        "id": "Vpi5_MDBL5al",
        "outputId": "ba8907e9-1841-4973-e6fa-46340ffcf14d"
      },
      "source": [
        "plot_confusion_matrix(y_test, y_pred, classes=unique_labels(y_test,y_pred), normalize=True,\n",
        "                      title='Confusion matrix')"
      ],
      "execution_count": null,
      "outputs": [
        {
          "output_type": "stream",
          "text": [
            "Normalized confusion matrix\n",
            "[[0.05263158 0.55592105 0.09539474 0.25328947 0.04276316]\n",
            " [0.02020202 0.57943067 0.09641873 0.25068871 0.05325987]\n",
            " [0.00625    0.59375    0.0875     0.27708333 0.03541667]\n",
            " [0.02675585 0.60089186 0.07580825 0.2419175  0.05462653]\n",
            " [0.02339181 0.59844055 0.07602339 0.23976608 0.06237817]]\n"
          ],
          "name": "stdout"
        },
        {
          "output_type": "execute_result",
          "data": {
            "text/plain": [
              "<matplotlib.axes._subplots.AxesSubplot at 0x7f85c913f310>"
            ]
          },
          "metadata": {
            "tags": []
          },
          "execution_count": 123
        },
        {
          "output_type": "display_data",
          "data": {
            "image/png": "[encoded data removed]",
            "text/plain": [
              "<Figure size 432x288 with 2 Axes>"
            ]
          },
          "metadata": {
            "tags": [],
            "needs_background": "light"
          }
        }
      ]
    },
    {
      "cell_type": "markdown",
      "metadata": {
        "id": "IFsUxj3edDT7"
      },
      "source": [
        "##MinMaxScaler"
      ]
    },
    {
      "cell_type": "code",
      "metadata": {
        "colab": {
          "base_uri": "https://localhost:8080/",
          "height": 206
        },
        "id": "57Rg73rqb1Hn",
        "outputId": "6d32cb8a-d04d-4e29-eb83-c45b0d1ea2be"
      },
      "source": [
        "train_mms = pd.DataFrame(X_pca_mms)\n",
        "train_mms[\"playResult\"] = static_defenses[\"playResult\"].values\n",
        "train_mms.head()"
      ],
      "execution_count": null,
      "outputs": [
        {
          "output_type": "execute_result",
          "data": {
            "text/html": [
              "<div>\n",
              "<style scoped>\n",
              "    .dataframe tbody tr th:only-of-type {\n",
              "        vertical-align: middle;\n",
              "    }\n",
              "\n",
              "    .dataframe tbody tr th {\n",
              "        vertical-align: top;\n",
              "    }\n",
              "\n",
              "    .dataframe thead th {\n",
              "        text-align: right;\n",
              "    }\n",
              "</style>\n",
              "<table border=\"1\" class=\"dataframe\">\n",
              "  <thead>\n",
              "    <tr style=\"text-align: right;\">\n",
              "      <th></th>\n",
              "      <th>0</th>\n",
              "      <th>1</th>\n",
              "      <th>2</th>\n",
              "      <th>3</th>\n",
              "      <th>4</th>\n",
              "      <th>5</th>\n",
              "      <th>6</th>\n",
              "      <th>7</th>\n",
              "      <th>playResult</th>\n",
              "    </tr>\n",
              "  </thead>\n",
              "  <tbody>\n",
              "    <tr>\n",
              "      <th>0</th>\n",
              "      <td>0.688622</td>\n",
              "      <td>0.202951</td>\n",
              "      <td>0.281656</td>\n",
              "      <td>-0.440485</td>\n",
              "      <td>0.152257</td>\n",
              "      <td>0.661695</td>\n",
              "      <td>0.386372</td>\n",
              "      <td>0.090917</td>\n",
              "      <td>1</td>\n",
              "    </tr>\n",
              "    <tr>\n",
              "      <th>1</th>\n",
              "      <td>0.103348</td>\n",
              "      <td>-0.590002</td>\n",
              "      <td>0.120717</td>\n",
              "      <td>-0.273776</td>\n",
              "      <td>-0.254970</td>\n",
              "      <td>0.187259</td>\n",
              "      <td>-0.179989</td>\n",
              "      <td>-0.094333</td>\n",
              "      <td>0</td>\n",
              "    </tr>\n",
              "    <tr>\n",
              "      <th>2</th>\n",
              "      <td>0.856377</td>\n",
              "      <td>0.087110</td>\n",
              "      <td>0.068605</td>\n",
              "      <td>-0.331777</td>\n",
              "      <td>0.508101</td>\n",
              "      <td>0.012070</td>\n",
              "      <td>-0.071596</td>\n",
              "      <td>0.063806</td>\n",
              "      <td>0</td>\n",
              "    </tr>\n",
              "    <tr>\n",
              "      <th>3</th>\n",
              "      <td>-0.442417</td>\n",
              "      <td>-0.057522</td>\n",
              "      <td>-0.329294</td>\n",
              "      <td>-0.254068</td>\n",
              "      <td>-0.346503</td>\n",
              "      <td>-0.047675</td>\n",
              "      <td>0.123036</td>\n",
              "      <td>-0.219891</td>\n",
              "      <td>1</td>\n",
              "    </tr>\n",
              "    <tr>\n",
              "      <th>4</th>\n",
              "      <td>0.181359</td>\n",
              "      <td>0.717131</td>\n",
              "      <td>-0.253822</td>\n",
              "      <td>0.075266</td>\n",
              "      <td>0.077894</td>\n",
              "      <td>0.127121</td>\n",
              "      <td>0.097540</td>\n",
              "      <td>-0.328812</td>\n",
              "      <td>1</td>\n",
              "    </tr>\n",
              "  </tbody>\n",
              "</table>\n",
              "</div>"
            ],
            "text/plain": [
              "          0         1         2         3         4         5         6  \\\n",
              "0  0.688622  0.202951  0.281656 -0.440485  0.152257  0.661695  0.386372   \n",
              "1  0.103348 -0.590002  0.120717 -0.273776 -0.254970  0.187259 -0.179989   \n",
              "2  0.856377  0.087110  0.068605 -0.331777  0.508101  0.012070 -0.071596   \n",
              "3 -0.442417 -0.057522 -0.329294 -0.254068 -0.346503 -0.047675  0.123036   \n",
              "4  0.181359  0.717131 -0.253822  0.075266  0.077894  0.127121  0.097540   \n",
              "\n",
              "          7  playResult  \n",
              "0  0.090917           1  \n",
              "1 -0.094333           0  \n",
              "2  0.063806           0  \n",
              "3 -0.219891           1  \n",
              "4 -0.328812           1  "
            ]
          },
          "metadata": {
            "tags": []
          },
          "execution_count": 76
        }
      ]
    },
    {
      "cell_type": "code",
      "metadata": {
        "colab": {
          "base_uri": "https://localhost:8080/",
          "height": 280
        },
        "id": "aMjlpgHHxa-Z",
        "outputId": "8f001b17-493e-462f-869f-50e187c0194b"
      },
      "source": [
        "from sklearn import tree\n",
        "from sklearn.model_selection import KFold\n",
        "\n",
        "cv = KFold(n_splits = 10, shuffle = False) # \n",
        "accuracies = list()\n",
        "max_attributes = len(list(train_mms))\n",
        "depth_range = range(1, max_attributes * 2)\n",
        "\n",
        "# from 1 to number of features * 2\n",
        "\n",
        "for depth in depth_range:\n",
        "    fold_accuracy = []\n",
        "    tree_model = tree.DecisionTreeClassifier(criterion='entropy', \n",
        "                                             min_samples_split = 65, \n",
        "                                             min_samples_leaf = 20,\n",
        "                                             max_depth = depth,\n",
        "                                             class_weight={0:6,1:4}\n",
        "                                            )\n",
        "    for train_fold, test_fold in cv.split(train_ss):\n",
        "        f_train = train_ss.loc[train_fold]\n",
        "        f_test = train_ss.loc[test_fold]\n",
        "        \n",
        "        model = tree_model.fit( X = f_train.drop(['playResult'], axis=1), \n",
        "                               y = f_train['playResult'])\n",
        "        test_acc = model.score(X = f_test.drop(['playResult'], axis=1), \n",
        "                                y = f_test['playResult'])\n",
        "        fold_accuracy.append(test_acc)\n",
        "        \n",
        "    avg = sum(fold_accuracy)/len(fold_accuracy)\n",
        "    accuracies.append(avg)\n",
        "    \n",
        "import matplotlib.pyplot as plt    \n",
        "plt.plot(depth_range, accuracies, marker='o')\n",
        "plt.xlabel('max_depth')\n",
        "plt.ylabel('accuracy')\n",
        "plt.show()"
      ],
      "execution_count": null,
      "outputs": [
        {
          "output_type": "display_data",
          "data": {
            "image/png": "[encoded data removed]",
            "text/plain": [
              "<Figure size 432x288 with 1 Axes>"
            ]
          },
          "metadata": {
            "tags": [],
            "needs_background": "light"
          }
        }
      ]
    },
    {
      "cell_type": "markdown",
      "metadata": {
        "id": "Y9M97W64xa-j"
      },
      "source": [
        "###Ejecución"
      ]
    },
    {
      "cell_type": "code",
      "metadata": {
        "id": "ZX7IoVIcxa-k"
      },
      "source": [
        "X_train, X_test, y_train, y_test = train_test_split(train_mms.drop([\"playResult\"],axis=1),train_mms[\"playResult\"],test_size=0.2)"
      ],
      "execution_count": null,
      "outputs": []
    },
    {
      "cell_type": "code",
      "metadata": {
        "colab": {
          "base_uri": "https://localhost:8080/"
        },
        "id": "9NWHrZ9Exa-k",
        "outputId": "ce96d6ef-610f-41bf-ef93-4088f8332174"
      },
      "source": [
        "regressor = tree.DecisionTreeClassifier(criterion='entropy', min_samples_split = 65, \n",
        "                                  min_samples_leaf = 20, max_depth = 6, \n",
        "                                  class_weight={0:6,1:4})\n",
        "regressor.fit( X = X_train, y = y_train)\n",
        "y_pred = regressor.predict(X = X_test)\n",
        "acc = accuracy_score(y_test, y_pred)\n",
        "print ('Acc', acc)\n"
      ],
      "execution_count": null,
      "outputs": [
        {
          "output_type": "stream",
          "text": [
            "Acc 0.5233018580566555\n"
          ],
          "name": "stdout"
        }
      ]
    },
    {
      "cell_type": "code",
      "metadata": {
        "colab": {
          "base_uri": "https://localhost:8080/",
          "height": 366
        },
        "id": "4yFkaqZMxa-l",
        "outputId": "53417c50-e26b-49ea-ed16-2b53bedd745d"
      },
      "source": [
        "plot_confusion_matrix(y_test, y_pred, classes=unique_labels(y_test,y_pred), normalize=True,\n",
        "                      title='Confusion matrix')"
      ],
      "execution_count": null,
      "outputs": [
        {
          "output_type": "stream",
          "text": [
            "Normalized confusion matrix\n",
            "[[0.49734244 0.50265756]\n",
            " [0.45930824 0.54069176]]\n"
          ],
          "name": "stdout"
        },
        {
          "output_type": "execute_result",
          "data": {
            "text/plain": [
              "<matplotlib.axes._subplots.AxesSubplot at 0x7f85cf38aa90>"
            ]
          },
          "metadata": {
            "tags": []
          },
          "execution_count": 79
        },
        {
          "output_type": "display_data",
          "data": {
            "image/png": "[encoded data removed]",
            "text/plain": [
              "<Figure size 432x288 with 2 Axes>"
            ]
          },
          "metadata": {
            "tags": [],
            "needs_background": "light"
          }
        }
      ]
    },
    {
      "cell_type": "markdown",
      "metadata": {
        "id": "XJy8y81zdFFx"
      },
      "source": [
        "##RobustScaler"
      ]
    },
    {
      "cell_type": "code",
      "metadata": {
        "colab": {
          "base_uri": "https://localhost:8080/",
          "height": 206
        },
        "id": "c5pW57T-b2H1",
        "outputId": "711fe76e-eb17-43c0-ba7e-f35f036a166e"
      },
      "source": [
        "train_rs = pd.DataFrame(X_pca_rs)\n",
        "train_rs[\"playResult\"] = static_defenses[\"playResult\"].values\n",
        "train_rs.head()"
      ],
      "execution_count": null,
      "outputs": [
        {
          "output_type": "execute_result",
          "data": {
            "text/html": [
              "<div>\n",
              "<style scoped>\n",
              "    .dataframe tbody tr th:only-of-type {\n",
              "        vertical-align: middle;\n",
              "    }\n",
              "\n",
              "    .dataframe tbody tr th {\n",
              "        vertical-align: top;\n",
              "    }\n",
              "\n",
              "    .dataframe thead th {\n",
              "        text-align: right;\n",
              "    }\n",
              "</style>\n",
              "<table border=\"1\" class=\"dataframe\">\n",
              "  <thead>\n",
              "    <tr style=\"text-align: right;\">\n",
              "      <th></th>\n",
              "      <th>0</th>\n",
              "      <th>1</th>\n",
              "      <th>2</th>\n",
              "      <th>3</th>\n",
              "      <th>4</th>\n",
              "      <th>playResult</th>\n",
              "    </tr>\n",
              "  </thead>\n",
              "  <tbody>\n",
              "    <tr>\n",
              "      <th>0</th>\n",
              "      <td>-2.846079</td>\n",
              "      <td>-1.235577</td>\n",
              "      <td>0.576750</td>\n",
              "      <td>-1.380878</td>\n",
              "      <td>-0.401055</td>\n",
              "      <td>1</td>\n",
              "    </tr>\n",
              "    <tr>\n",
              "      <th>1</th>\n",
              "      <td>-2.575505</td>\n",
              "      <td>-1.551563</td>\n",
              "      <td>0.204187</td>\n",
              "      <td>-1.135913</td>\n",
              "      <td>-1.045477</td>\n",
              "      <td>0</td>\n",
              "    </tr>\n",
              "    <tr>\n",
              "      <th>2</th>\n",
              "      <td>-3.318432</td>\n",
              "      <td>-0.086195</td>\n",
              "      <td>-1.002164</td>\n",
              "      <td>-1.999387</td>\n",
              "      <td>-1.458907</td>\n",
              "      <td>0</td>\n",
              "    </tr>\n",
              "    <tr>\n",
              "      <th>3</th>\n",
              "      <td>-2.338349</td>\n",
              "      <td>-2.287407</td>\n",
              "      <td>0.791532</td>\n",
              "      <td>-1.048361</td>\n",
              "      <td>-2.000571</td>\n",
              "      <td>1</td>\n",
              "    </tr>\n",
              "    <tr>\n",
              "      <th>4</th>\n",
              "      <td>-2.728644</td>\n",
              "      <td>-1.678299</td>\n",
              "      <td>1.495723</td>\n",
              "      <td>1.129194</td>\n",
              "      <td>0.054357</td>\n",
              "      <td>1</td>\n",
              "    </tr>\n",
              "  </tbody>\n",
              "</table>\n",
              "</div>"
            ],
            "text/plain": [
              "          0         1         2         3         4  playResult\n",
              "0 -2.846079 -1.235577  0.576750 -1.380878 -0.401055           1\n",
              "1 -2.575505 -1.551563  0.204187 -1.135913 -1.045477           0\n",
              "2 -3.318432 -0.086195 -1.002164 -1.999387 -1.458907           0\n",
              "3 -2.338349 -2.287407  0.791532 -1.048361 -2.000571           1\n",
              "4 -2.728644 -1.678299  1.495723  1.129194  0.054357           1"
            ]
          },
          "metadata": {
            "tags": []
          },
          "execution_count": 90
        }
      ]
    },
    {
      "cell_type": "code",
      "metadata": {
        "colab": {
          "base_uri": "https://localhost:8080/",
          "height": 280
        },
        "id": "ZB3WQEBHxish",
        "outputId": "cab7b002-8597-4ee8-8121-a38067f89127"
      },
      "source": [
        "from sklearn import tree\n",
        "from sklearn.model_selection import KFold\n",
        "\n",
        "cv = KFold(n_splits = 10, shuffle = False) # \n",
        "accuracies = list()\n",
        "max_attributes = len(list(train_rs))\n",
        "depth_range = range(1, max_attributes * 2)\n",
        "\n",
        "# from 1 to number of features * 2\n",
        "\n",
        "for depth in depth_range:\n",
        "    fold_accuracy = []\n",
        "    tree_model = tree.DecisionTreeClassifier(criterion='entropy', \n",
        "                                             min_samples_split = 65, \n",
        "                                             min_samples_leaf = 20,\n",
        "                                             max_depth = depth,\n",
        "                                             class_weight={0:7,1:4}\n",
        "                                            )\n",
        "    for train_fold, test_fold in cv.split(train_ss):\n",
        "        f_train = train_ss.loc[train_fold]\n",
        "        f_test = train_ss.loc[test_fold]\n",
        "        \n",
        "        model = tree_model.fit( X = f_train.drop(['playResult'], axis=1), \n",
        "                               y = f_train['playResult'])\n",
        "        test_acc = model.score(X = f_test.drop(['playResult'], axis=1), \n",
        "                                y = f_test['playResult'])\n",
        "        fold_accuracy.append(test_acc)\n",
        "        \n",
        "    avg = sum(fold_accuracy)/len(fold_accuracy)\n",
        "    accuracies.append(avg)\n",
        "    \n",
        "import matplotlib.pyplot as plt    \n",
        "plt.plot(depth_range, accuracies, marker='o')\n",
        "plt.xlabel('max_depth')\n",
        "plt.ylabel('accuracy')\n",
        "plt.show()"
      ],
      "execution_count": null,
      "outputs": [
        {
          "output_type": "display_data",
          "data": {
            "image/png": "[encoded data removed]",
            "text/plain": [
              "<Figure size 432x288 with 1 Axes>"
            ]
          },
          "metadata": {
            "tags": [],
            "needs_background": "light"
          }
        }
      ]
    },
    {
      "cell_type": "markdown",
      "metadata": {
        "id": "Uj7tNbOhxisp"
      },
      "source": [
        "###Ejecución"
      ]
    },
    {
      "cell_type": "code",
      "metadata": {
        "id": "ySgozjlDxisq"
      },
      "source": [
        "X_train, X_test, y_train, y_test = train_test_split(train_rs.drop([\"playResult\"],axis=1),train_rs[\"playResult\"],test_size=0.2)"
      ],
      "execution_count": null,
      "outputs": []
    },
    {
      "cell_type": "code",
      "metadata": {
        "colab": {
          "base_uri": "https://localhost:8080/"
        },
        "id": "VdLhA4jVxisq",
        "outputId": "1ef5a9c7-94a7-4340-c019-8309d7f7544e"
      },
      "source": [
        "regressor = tree.DecisionTreeClassifier(criterion='entropy', min_samples_split = 65, \n",
        "                                  min_samples_leaf = 20, max_depth = 9, \n",
        "                                  class_weight={0:6,1:4})\n",
        "regressor.fit( X = X_train, y = y_train)\n",
        "y_pred = regressor.predict(X = X_test)\n",
        "acc = accuracy_score(y_test, y_pred)\n",
        "print ('Acc', acc)\n"
      ],
      "execution_count": null,
      "outputs": [
        {
          "output_type": "stream",
          "text": [
            "Acc 0.5543710021321961\n"
          ],
          "name": "stdout"
        }
      ]
    },
    {
      "cell_type": "code",
      "metadata": {
        "colab": {
          "base_uri": "https://localhost:8080/",
          "height": 366
        },
        "id": "kAxxaS6mxiss",
        "outputId": "a865f557-4f85-45e6-b22b-0191469f6825"
      },
      "source": [
        "plot_confusion_matrix(y_test, y_pred, classes=unique_labels(y_test,y_pred), normalize=True,\n",
        "                      title='Confusion matrix')"
      ],
      "execution_count": null,
      "outputs": [
        {
          "output_type": "stream",
          "text": [
            "Normalized confusion matrix\n",
            "[[0.32032401 0.67967599]\n",
            " [0.28051948 0.71948052]]\n"
          ],
          "name": "stdout"
        },
        {
          "output_type": "execute_result",
          "data": {
            "text/plain": [
              "<matplotlib.axes._subplots.AxesSubplot at 0x7f85c94aa6d0>"
            ]
          },
          "metadata": {
            "tags": []
          },
          "execution_count": 100
        },
        {
          "output_type": "display_data",
          "data": {
            "image/png": "[encoded data removed]",
            "text/plain": [
              "<Figure size 432x288 with 2 Axes>"
            ]
          },
          "metadata": {
            "tags": [],
            "needs_background": "light"
          }
        }
      ]
    },
    {
      "cell_type": "markdown",
      "metadata": {
        "id": "BFHj8g3wdHLk"
      },
      "source": [
        "##PowerTransformer"
      ]
    },
    {
      "cell_type": "code",
      "metadata": {
        "colab": {
          "base_uri": "https://localhost:8080/",
          "height": 206
        },
        "id": "W1cG5ufOb3Bc",
        "outputId": "29078762-6b88-40a4-847d-f86a45b304ea"
      },
      "source": [
        "train_pt = pd.DataFrame(X_pca_pt)\n",
        "train_pt[\"playResult\"] = static_defenses[\"playResult\"].values\n",
        "train_pt.head()"
      ],
      "execution_count": null,
      "outputs": [
        {
          "output_type": "execute_result",
          "data": {
            "text/html": [
              "<div>\n",
              "<style scoped>\n",
              "    .dataframe tbody tr th:only-of-type {\n",
              "        vertical-align: middle;\n",
              "    }\n",
              "\n",
              "    .dataframe tbody tr th {\n",
              "        vertical-align: top;\n",
              "    }\n",
              "\n",
              "    .dataframe thead th {\n",
              "        text-align: right;\n",
              "    }\n",
              "</style>\n",
              "<table border=\"1\" class=\"dataframe\">\n",
              "  <thead>\n",
              "    <tr style=\"text-align: right;\">\n",
              "      <th></th>\n",
              "      <th>0</th>\n",
              "      <th>1</th>\n",
              "      <th>2</th>\n",
              "      <th>3</th>\n",
              "      <th>4</th>\n",
              "      <th>5</th>\n",
              "      <th>6</th>\n",
              "      <th>7</th>\n",
              "      <th>8</th>\n",
              "      <th>9</th>\n",
              "      <th>10</th>\n",
              "      <th>11</th>\n",
              "      <th>12</th>\n",
              "      <th>playResult</th>\n",
              "    </tr>\n",
              "  </thead>\n",
              "  <tbody>\n",
              "    <tr>\n",
              "      <th>0</th>\n",
              "      <td>-0.877362</td>\n",
              "      <td>2.536184</td>\n",
              "      <td>-0.731284</td>\n",
              "      <td>-1.983848</td>\n",
              "      <td>-1.957887</td>\n",
              "      <td>0.235809</td>\n",
              "      <td>-1.935399</td>\n",
              "      <td>1.761012</td>\n",
              "      <td>2.255258</td>\n",
              "      <td>3.984618</td>\n",
              "      <td>-0.300023</td>\n",
              "      <td>-1.325439</td>\n",
              "      <td>0.292240</td>\n",
              "      <td>1</td>\n",
              "    </tr>\n",
              "    <tr>\n",
              "      <th>1</th>\n",
              "      <td>-0.223881</td>\n",
              "      <td>1.782451</td>\n",
              "      <td>-1.518003</td>\n",
              "      <td>0.172209</td>\n",
              "      <td>1.013185</td>\n",
              "      <td>-0.196966</td>\n",
              "      <td>-2.288539</td>\n",
              "      <td>0.173654</td>\n",
              "      <td>0.258325</td>\n",
              "      <td>-0.521700</td>\n",
              "      <td>0.159174</td>\n",
              "      <td>0.503148</td>\n",
              "      <td>-0.678501</td>\n",
              "      <td>0</td>\n",
              "    </tr>\n",
              "    <tr>\n",
              "      <th>2</th>\n",
              "      <td>2.604492</td>\n",
              "      <td>2.608139</td>\n",
              "      <td>3.189280</td>\n",
              "      <td>-2.094266</td>\n",
              "      <td>-0.517080</td>\n",
              "      <td>0.608544</td>\n",
              "      <td>-0.983826</td>\n",
              "      <td>-0.235234</td>\n",
              "      <td>-3.568681</td>\n",
              "      <td>1.518837</td>\n",
              "      <td>-0.307485</td>\n",
              "      <td>0.628058</td>\n",
              "      <td>-0.253352</td>\n",
              "      <td>0</td>\n",
              "    </tr>\n",
              "    <tr>\n",
              "      <th>3</th>\n",
              "      <td>-1.877553</td>\n",
              "      <td>1.532802</td>\n",
              "      <td>-2.591915</td>\n",
              "      <td>2.058908</td>\n",
              "      <td>0.022966</td>\n",
              "      <td>1.421198</td>\n",
              "      <td>-1.603436</td>\n",
              "      <td>2.024369</td>\n",
              "      <td>-0.546895</td>\n",
              "      <td>-1.234908</td>\n",
              "      <td>0.159645</td>\n",
              "      <td>-0.225626</td>\n",
              "      <td>-0.484360</td>\n",
              "      <td>1</td>\n",
              "    </tr>\n",
              "    <tr>\n",
              "      <th>4</th>\n",
              "      <td>-1.977252</td>\n",
              "      <td>-1.285616</td>\n",
              "      <td>-0.633153</td>\n",
              "      <td>0.990860</td>\n",
              "      <td>-2.097227</td>\n",
              "      <td>1.726617</td>\n",
              "      <td>-0.773688</td>\n",
              "      <td>0.907789</td>\n",
              "      <td>-0.123991</td>\n",
              "      <td>0.066072</td>\n",
              "      <td>-0.248389</td>\n",
              "      <td>-0.595508</td>\n",
              "      <td>1.035281</td>\n",
              "      <td>1</td>\n",
              "    </tr>\n",
              "  </tbody>\n",
              "</table>\n",
              "</div>"
            ],
            "text/plain": [
              "          0         1         2         3         4         5         6  \\\n",
              "0 -0.877362  2.536184 -0.731284 -1.983848 -1.957887  0.235809 -1.935399   \n",
              "1 -0.223881  1.782451 -1.518003  0.172209  1.013185 -0.196966 -2.288539   \n",
              "2  2.604492  2.608139  3.189280 -2.094266 -0.517080  0.608544 -0.983826   \n",
              "3 -1.877553  1.532802 -2.591915  2.058908  0.022966  1.421198 -1.603436   \n",
              "4 -1.977252 -1.285616 -0.633153  0.990860 -2.097227  1.726617 -0.773688   \n",
              "\n",
              "          7         8         9        10        11        12  playResult  \n",
              "0  1.761012  2.255258  3.984618 -0.300023 -1.325439  0.292240           1  \n",
              "1  0.173654  0.258325 -0.521700  0.159174  0.503148 -0.678501           0  \n",
              "2 -0.235234 -3.568681  1.518837 -0.307485  0.628058 -0.253352           0  \n",
              "3  2.024369 -0.546895 -1.234908  0.159645 -0.225626 -0.484360           1  \n",
              "4  0.907789 -0.123991  0.066072 -0.248389 -0.595508  1.035281           1  "
            ]
          },
          "metadata": {
            "tags": []
          },
          "execution_count": 82
        }
      ]
    },
    {
      "cell_type": "code",
      "metadata": {
        "colab": {
          "base_uri": "https://localhost:8080/",
          "height": 280
        },
        "id": "xGHOxV6GxntK",
        "outputId": "8886313a-13d2-4306-e233-6543bf106845"
      },
      "source": [
        "from sklearn import tree\n",
        "from sklearn.model_selection import KFold\n",
        "\n",
        "cv = KFold(n_splits = 10, shuffle = False) # \n",
        "accuracies = list()\n",
        "max_attributes = len(list(train_ss))\n",
        "depth_range = range(1, max_attributes * 2)\n",
        "\n",
        "# from 1 to number of features * 2\n",
        "\n",
        "for depth in depth_range:\n",
        "    fold_accuracy = []\n",
        "    tree_model = tree.DecisionTreeClassifier(criterion='entropy', \n",
        "                                             min_samples_split = 65, \n",
        "                                             min_samples_leaf = 20,\n",
        "                                             max_depth = depth,\n",
        "                                             class_weight={0:6,1:4}\n",
        "                                            )\n",
        "    for train_fold, test_fold in cv.split(train_pt):\n",
        "        f_train = train_ss.loc[train_fold]\n",
        "        f_test = train_ss.loc[test_fold]\n",
        "        \n",
        "        model = tree_model.fit( X = f_train.drop(['playResult'], axis=1), \n",
        "                               y = f_train['playResult'])\n",
        "        test_acc = model.score(X = f_test.drop(['playResult'], axis=1), \n",
        "                                y = f_test['playResult'])\n",
        "        fold_accuracy.append(test_acc)\n",
        "        \n",
        "    avg = sum(fold_accuracy)/len(fold_accuracy)\n",
        "    accuracies.append(avg)\n",
        "    \n",
        "import matplotlib.pyplot as plt    \n",
        "plt.plot(depth_range, accuracies, marker='o')\n",
        "plt.xlabel('max_depth')\n",
        "plt.ylabel('accuracy')\n",
        "plt.show()"
      ],
      "execution_count": null,
      "outputs": [
        {
          "output_type": "display_data",
          "data": {
            "image/png": "[encoded data removed]",
            "text/plain": [
              "<Figure size 432x288 with 1 Axes>"
            ]
          },
          "metadata": {
            "tags": [],
            "needs_background": "light"
          }
        }
      ]
    },
    {
      "cell_type": "markdown",
      "metadata": {
        "id": "6F55NxHFxntL"
      },
      "source": [
        "###Ejecución"
      ]
    },
    {
      "cell_type": "code",
      "metadata": {
        "id": "3ObWZdaNxntM"
      },
      "source": [
        "X_train, X_test, y_train, y_test = train_test_split(train_pt.drop([\"playResult\"],axis=1),train_pt[\"playResult\"],test_size=0.3)"
      ],
      "execution_count": null,
      "outputs": []
    },
    {
      "cell_type": "code",
      "metadata": {
        "colab": {
          "base_uri": "https://localhost:8080/"
        },
        "id": "0SCcYx5xxntM",
        "outputId": "e152ac50-f1cf-418f-ba67-82efc1dc3983"
      },
      "source": [
        "regressor = tree.DecisionTreeClassifier(criterion='entropy', min_samples_split = 65, \n",
        "                                  min_samples_leaf = 20, max_depth = 15, \n",
        "                                  class_weight={0:6,1:4})\n",
        "regressor.fit( X = X_train, y = y_train)\n",
        "y_pred = regressor.predict(X = X_test)\n",
        "acc = accuracy_score(y_test, y_pred)\n",
        "print ('Acc', acc)\n"
      ],
      "execution_count": null,
      "outputs": [
        {
          "output_type": "stream",
          "text": [
            "Acc 0.5271065989847715\n"
          ],
          "name": "stdout"
        }
      ]
    },
    {
      "cell_type": "code",
      "metadata": {
        "colab": {
          "base_uri": "https://localhost:8080/",
          "height": 366
        },
        "id": "ZYktOVbdxntM",
        "outputId": "f0f4afbf-fe01-4f96-d0b5-3d19d2b4c585"
      },
      "source": [
        "plot_confusion_matrix(y_test, y_pred, classes=unique_labels(y_test,y_pred), normalize=True,\n",
        "                      title='Confusion matrix')"
      ],
      "execution_count": null,
      "outputs": [
        {
          "output_type": "stream",
          "text": [
            "Normalized confusion matrix\n",
            "[[0.45986875 0.54013125]\n",
            " [0.42764946 0.57235054]]\n"
          ],
          "name": "stdout"
        },
        {
          "output_type": "execute_result",
          "data": {
            "text/plain": [
              "<matplotlib.axes._subplots.AxesSubplot at 0x7f85c976fdd0>"
            ]
          },
          "metadata": {
            "tags": []
          },
          "execution_count": 89
        },
        {
          "output_type": "display_data",
          "data": {
            "image/png": "[encoded data removed]",
            "text/plain": [
              "<Figure size 432x288 with 2 Axes>"
            ]
          },
          "metadata": {
            "tags": [],
            "needs_background": "light"
          }
        }
      ]
    },
    {
      "cell_type": "markdown",
      "metadata": {
        "id": "KqDqbNcrzIE9"
      },
      "source": [
        "#RandomForest"
      ]
    },
    {
      "cell_type": "markdown",
      "metadata": {
        "id": "7PEz81ZvoMPV"
      },
      "source": [
        "##StandardScaler"
      ]
    },
    {
      "cell_type": "code",
      "metadata": {
        "id": "ZHsND2GioLy8"
      },
      "source": [
        "X_train, X_test, y_train, y_test = train_test_split(train_ss.drop([\"playResult\"],axis=1),train_ss[\"playResult\"],test_size=0.2)"
      ],
      "execution_count": null,
      "outputs": []
    },
    {
      "cell_type": "code",
      "metadata": {
        "id": "PXJdPNk51C-5",
        "colab": {
          "base_uri": "https://localhost:8080/"
        },
        "outputId": "80ea273a-77da-405c-dc90-e51335ba9a31"
      },
      "source": [
        "from sklearn.ensemble import RandomForestClassifier\n",
        "\n",
        "#1.1 Model Parametrization \n",
        "regressor = RandomForestClassifier(n_estimators= 100, max_depth = 10, random_state=0,class_weight={0:6,1:4})\n",
        "#1.2 Model construction\n",
        "regressor.fit(X_train, y_train)\n",
        "\n",
        "# Test\n",
        "y_pred = regressor.predict(X_test)\n",
        "\n",
        "# metrics calculation \n",
        "from sklearn.metrics import mean_absolute_error\n",
        "acc = accuracy_score(y_test, y_pred)\n",
        "print ('Acc', acc)"
      ],
      "execution_count": null,
      "outputs": [
        {
          "output_type": "stream",
          "text": [
            "Acc 0.5476698141943345\n"
          ],
          "name": "stdout"
        }
      ]
    },
    {
      "cell_type": "code",
      "metadata": {
        "id": "sBuKUZHN1Msp",
        "colab": {
          "base_uri": "https://localhost:8080/",
          "height": 366
        },
        "outputId": "c1b26458-d383-4354-fcf4-bec2f92b8bbd"
      },
      "source": [
        "plot_confusion_matrix(y_test, y_pred, classes=unique_labels(y_test,y_pred), normalize=True,\n",
        "                      title='Confusion matrix')"
      ],
      "execution_count": null,
      "outputs": [
        {
          "output_type": "stream",
          "text": [
            "Normalized confusion matrix\n",
            "[[0.37076112 0.62923888]\n",
            " [0.33231084 0.66768916]]\n"
          ],
          "name": "stdout"
        },
        {
          "output_type": "execute_result",
          "data": {
            "text/plain": [
              "<matplotlib.axes._subplots.AxesSubplot at 0x7f85c73010d0>"
            ]
          },
          "metadata": {
            "tags": []
          },
          "execution_count": 154
        },
        {
          "output_type": "display_data",
          "data": {
            "image/png": "[encoded data removed]",
            "text/plain": [
              "<Figure size 432x288 with 2 Axes>"
            ]
          },
          "metadata": {
            "tags": [],
            "needs_background": "light"
          }
        }
      ]
    },
    {
      "cell_type": "markdown",
      "metadata": {
        "id": "Uh33RxcrWasC"
      },
      "source": [
        "##MinMaxScaler"
      ]
    },
    {
      "cell_type": "code",
      "metadata": {
        "id": "koBllv0tjGpz"
      },
      "source": [
        "X_train, X_test, y_train, y_test = train_test_split(train_mms.drop([\"playResult\"],axis=1),train_mms[\"playResult\"],test_size=0.2)"
      ],
      "execution_count": null,
      "outputs": []
    },
    {
      "cell_type": "code",
      "metadata": {
        "colab": {
          "base_uri": "https://localhost:8080/"
        },
        "id": "6VKbaZ_5jGp4",
        "outputId": "9c742231-f9b6-4477-c979-e59547570e47"
      },
      "source": [
        "from sklearn.ensemble import RandomForestClassifier\n",
        "\n",
        "#1.1 Model Parametrization \n",
        "regressor = RandomForestClassifier(n_estimators= 100, max_depth = 10, random_state=0,class_weight={0:6,1:4})\n",
        "#1.2 Model construction\n",
        "regressor.fit(X_train, y_train)\n",
        "\n",
        "# Test\n",
        "y_pred = regressor.predict(X_test)\n",
        "\n",
        "# metrics calculation \n",
        "from sklearn.metrics import mean_absolute_error\n",
        "acc = accuracy_score(y_test, y_pred)\n",
        "print ('Acc', acc)"
      ],
      "execution_count": null,
      "outputs": [
        {
          "output_type": "stream",
          "text": [
            "Acc 0.5321352421565642\n"
          ],
          "name": "stdout"
        }
      ]
    },
    {
      "cell_type": "code",
      "metadata": {
        "colab": {
          "base_uri": "https://localhost:8080/",
          "height": 366
        },
        "id": "caODulbPjGp5",
        "outputId": "90ade15a-0d68-4dac-c0df-6a24a8defd17"
      },
      "source": [
        "plot_confusion_matrix(y_test, y_pred, classes=unique_labels(y_test,y_pred), normalize=True,\n",
        "                      title='Confusion matrix')"
      ],
      "execution_count": null,
      "outputs": [
        {
          "output_type": "stream",
          "text": [
            "Normalized confusion matrix\n",
            "[[0.40603248 0.59396752]\n",
            " [0.38592965 0.61407035]]\n"
          ],
          "name": "stdout"
        },
        {
          "output_type": "execute_result",
          "data": {
            "text/plain": [
              "<matplotlib.axes._subplots.AxesSubplot at 0x7f85c7d03150>"
            ]
          },
          "metadata": {
            "tags": []
          },
          "execution_count": 157
        },
        {
          "output_type": "display_data",
          "data": {
            "image/png": "[encoded data removed]",
            "text/plain": [
              "<Figure size 432x288 with 2 Axes>"
            ]
          },
          "metadata": {
            "tags": [],
            "needs_background": "light"
          }
        }
      ]
    },
    {
      "cell_type": "markdown",
      "metadata": {
        "id": "bRlSXmGnWeGI"
      },
      "source": [
        "##RobustScaler"
      ]
    },
    {
      "cell_type": "code",
      "metadata": {
        "id": "OD3TXe8cjHNL"
      },
      "source": [
        "X_train, X_test, y_train, y_test = train_test_split(train_rs.drop([\"playResult\"],axis=1),train_rs[\"playResult\"],test_size=0.2)"
      ],
      "execution_count": null,
      "outputs": []
    },
    {
      "cell_type": "code",
      "metadata": {
        "colab": {
          "base_uri": "https://localhost:8080/"
        },
        "id": "VbL9_Ag2jHNN",
        "outputId": "0d443a0e-31d6-4b54-ac93-ea0860c103aa"
      },
      "source": [
        "from sklearn.ensemble import RandomForestClassifier\n",
        "\n",
        "#1.1 Model Parametrization \n",
        "regressor = RandomForestClassifier(n_estimators= 100, max_depth = 10, random_state=0,class_weight={0:6,1:4})\n",
        "#1.2 Model construction\n",
        "regressor.fit(X_train, y_train)\n",
        "\n",
        "# Test\n",
        "y_pred = regressor.predict(X_test)\n",
        "\n",
        "# metrics calculation \n",
        "from sklearn.metrics import mean_absolute_error\n",
        "acc = accuracy_score(y_test, y_pred)\n",
        "print ('Acc', acc)"
      ],
      "execution_count": null,
      "outputs": [
        {
          "output_type": "stream",
          "text": [
            "Acc 0.5421870240633567\n"
          ],
          "name": "stdout"
        }
      ]
    },
    {
      "cell_type": "code",
      "metadata": {
        "colab": {
          "base_uri": "https://localhost:8080/",
          "height": 366
        },
        "id": "dri7yy3BjHNO",
        "outputId": "ef46b345-8aea-4ac0-d274-f3ed20d1768c"
      },
      "source": [
        "plot_confusion_matrix(y_test, y_pred, classes=unique_labels(y_test,y_pred), normalize=True,\n",
        "                      title='Confusion matrix')"
      ],
      "execution_count": null,
      "outputs": [
        {
          "output_type": "stream",
          "text": [
            "Normalized confusion matrix\n",
            "[[0.36533958 0.63466042]\n",
            " [0.34465534 0.65534466]]\n"
          ],
          "name": "stdout"
        },
        {
          "output_type": "execute_result",
          "data": {
            "text/plain": [
              "<matplotlib.axes._subplots.AxesSubplot at 0x7f85d86f40d0>"
            ]
          },
          "metadata": {
            "tags": []
          },
          "execution_count": 160
        },
        {
          "output_type": "display_data",
          "data": {
            "image/png": "[encoded data removed]",
            "text/plain": [
              "<Figure size 432x288 with 2 Axes>"
            ]
          },
          "metadata": {
            "tags": [],
            "needs_background": "light"
          }
        }
      ]
    },
    {
      "cell_type": "markdown",
      "metadata": {
        "id": "6Ott2HF1WkY_"
      },
      "source": [
        "##PowerTransformer"
      ]
    },
    {
      "cell_type": "code",
      "metadata": {
        "id": "9Jrvzd-SjIL2"
      },
      "source": [
        "X_train, X_test, y_train, y_test = train_test_split(train_pt.drop([\"playResult\"],axis=1),train_pt[\"playResult\"],test_size=0.2)"
      ],
      "execution_count": null,
      "outputs": []
    },
    {
      "cell_type": "code",
      "metadata": {
        "colab": {
          "base_uri": "https://localhost:8080/"
        },
        "id": "3h0IMOlHjIL3",
        "outputId": "356a00e4-23cf-4c2c-810a-ce1d137b0092"
      },
      "source": [
        "from sklearn.ensemble import RandomForestClassifier\n",
        "\n",
        "#1.1 Model Parametrization \n",
        "regressor = RandomForestClassifier(n_estimators= 100, max_depth = 10, random_state=0,class_weight={0:6,1:4})\n",
        "#1.2 Model construction\n",
        "regressor.fit(X_train, y_train)\n",
        "\n",
        "# Test\n",
        "y_pred = regressor.predict(X_test)\n",
        "\n",
        "# metrics calculation \n",
        "from sklearn.metrics import mean_absolute_error\n",
        "acc = accuracy_score(y_test, y_pred)\n",
        "print ('Acc', acc)"
      ],
      "execution_count": null,
      "outputs": [
        {
          "output_type": "stream",
          "text": [
            "Acc 0.5455376180322875\n"
          ],
          "name": "stdout"
        }
      ]
    },
    {
      "cell_type": "code",
      "metadata": {
        "colab": {
          "base_uri": "https://localhost:8080/",
          "height": 366
        },
        "id": "Y8_gu3qbjIL4",
        "outputId": "747997d5-2d8f-4853-8f81-66c4d205707c"
      },
      "source": [
        "plot_confusion_matrix(y_test, y_pred, classes=unique_labels(y_test,y_pred), normalize=True,\n",
        "                      title='Confusion matrix')"
      ],
      "execution_count": null,
      "outputs": [
        {
          "output_type": "stream",
          "text": [
            "Normalized confusion matrix\n",
            "[[0.42148148 0.57851852]\n",
            " [0.36782204 0.63217796]]\n"
          ],
          "name": "stdout"
        },
        {
          "output_type": "execute_result",
          "data": {
            "text/plain": [
              "<matplotlib.axes._subplots.AxesSubplot at 0x7f85d7dc2bd0>"
            ]
          },
          "metadata": {
            "tags": []
          },
          "execution_count": 163
        },
        {
          "output_type": "display_data",
          "data": {
            "image/png": "[encoded data removed]",
            "text/plain": [
              "<Figure size 432x288 with 2 Axes>"
            ]
          },
          "metadata": {
            "tags": [],
            "needs_background": "light"
          }
        }
      ]
    },
    {
      "cell_type": "code",
      "metadata": {
        "id": "ZkOcrpRtWg_U"
      },
      "source": [
        ""
      ],
      "execution_count": null,
      "outputs": []
    },
    {
      "cell_type": "markdown",
      "metadata": {
        "id": "3Pvc9xhKWnQX"
      },
      "source": [
        "#Boosting"
      ]
    },
    {
      "cell_type": "markdown",
      "metadata": {
        "id": "cmZ_2xA2X1Sf"
      },
      "source": [
        "##StandardScaler"
      ]
    },
    {
      "cell_type": "code",
      "metadata": {
        "id": "XVx8m5FPYWuw"
      },
      "source": [
        "X_train, X_test, y_train, y_test = train_test_split(train_ss.drop([\"playResult\"],axis=1),train_ss[\"playResult\"],test_size=0.2)"
      ],
      "execution_count": null,
      "outputs": []
    },
    {
      "cell_type": "code",
      "metadata": {
        "colab": {
          "base_uri": "https://localhost:8080/"
        },
        "id": "75CSHFDtX4Dv",
        "outputId": "7de548b2-1d5f-475f-81c1-24f33c0758f2"
      },
      "source": [
        "from sklearn.ensemble import AdaBoostRegressor  \n",
        "regressor = AdaBoostRegressor(DecisionTreeRegressor(max_depth=5, criterion='mae'),n_estimators=100)\n",
        "regressor.fit(X_train, y_train)\n",
        "y_pred = regressor.predict(X_test)\n",
        "print(\"Error Measure\", mean_absolute_error(y_test,y_pred))"
      ],
      "execution_count": null,
      "outputs": [
        {
          "output_type": "stream",
          "text": [
            "Error Measure 4.69609345078514\n"
          ],
          "name": "stdout"
        }
      ]
    },
    {
      "cell_type": "code",
      "metadata": {
        "colab": {
          "base_uri": "https://localhost:8080/",
          "height": 370
        },
        "id": "N0sl_sVmaJW8",
        "outputId": "b553ff5c-8314-452c-b02f-e2b144ab9af9"
      },
      "source": [
        "xx = np.stack(i for i in range(len(y_test)))\n",
        "plt.scatter(xx, y_test, c='r', label='data')\n",
        "plt.plot(xx, y_pred, c='g', label='prediction')\n",
        "plt.axis('tight')\n",
        "plt.legend()\n",
        "plt.title(\"Adaboost Regressor\")\n",
        "\n",
        "plt.show()"
      ],
      "execution_count": null,
      "outputs": [
        {
          "output_type": "stream",
          "text": [
            "/usr/local/lib/python3.7/dist-packages/IPython/core/interactiveshell.py:2822: FutureWarning:\n",
            "\n",
            "arrays to stack must be passed as a \"sequence\" type such as list or tuple. Support for non-sequence iterables such as generators is deprecated as of NumPy 1.16 and will raise an error in the future.\n",
            "\n"
          ],
          "name": "stderr"
        },
        {
          "output_type": "display_data",
          "data": {
            "image/png": "[encoded data removed]",
            "text/plain": [
              "<Figure size 432x288 with 1 Axes>"
            ]
          },
          "metadata": {
            "tags": [],
            "needs_background": "light"
          }
        }
      ]
    },
    {
      "cell_type": "markdown",
      "metadata": {
        "id": "G_MCGlZ6X4Ya"
      },
      "source": [
        "##MinMaxScaler"
      ]
    },
    {
      "cell_type": "code",
      "metadata": {
        "id": "YjgXJ9S_X5we"
      },
      "source": [
        ""
      ],
      "execution_count": null,
      "outputs": []
    },
    {
      "cell_type": "markdown",
      "metadata": {
        "id": "bEYcuTg-X6PV"
      },
      "source": [
        "##RobustScaler"
      ]
    },
    {
      "cell_type": "code",
      "metadata": {
        "id": "_-54k3PFX8jy"
      },
      "source": [
        ""
      ],
      "execution_count": null,
      "outputs": []
    },
    {
      "cell_type": "markdown",
      "metadata": {
        "id": "UfFABw4nX9H9"
      },
      "source": [
        "##PowerTransformer"
      ]
    },
    {
      "cell_type": "code",
      "metadata": {
        "id": "Z6Fep8lOYAb_"
      },
      "source": [
        ""
      ],
      "execution_count": null,
      "outputs": []
    }
  ]
}