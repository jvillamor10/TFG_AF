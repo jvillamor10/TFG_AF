{
 "cells": [
  {
   "cell_type": "code",
   "execution_count": 1,
   "id": "average-final",
   "metadata": {},
   "outputs": [],
   "source": [
    "import pandas as pd\n",
    "import pickle"
   ]
  },
  {
   "cell_type": "code",
   "execution_count": 2,
   "id": "opposite-setup",
   "metadata": {},
   "outputs": [],
   "source": [
    "pd.set_option('display.max_columns',None)"
   ]
  },
  {
   "cell_type": "code",
   "execution_count": 3,
   "id": "medium-estimate",
   "metadata": {},
   "outputs": [
    {
     "data": {
      "text/html": [
       "<div>\n",
       "<style scoped>\n",
       "    .dataframe tbody tr th:only-of-type {\n",
       "        vertical-align: middle;\n",
       "    }\n",
       "\n",
       "    .dataframe tbody tr th {\n",
       "        vertical-align: top;\n",
       "    }\n",
       "\n",
       "    .dataframe thead th {\n",
       "        text-align: right;\n",
       "    }\n",
       "</style>\n",
       "<table border=\"1\" class=\"dataframe\">\n",
       "  <thead>\n",
       "    <tr style=\"text-align: right;\">\n",
       "      <th></th>\n",
       "      <th>gameId</th>\n",
       "      <th>gameDate</th>\n",
       "      <th>gameTimeEastern</th>\n",
       "      <th>homeTeamAbbr</th>\n",
       "      <th>visitorTeamAbbr</th>\n",
       "      <th>week</th>\n",
       "    </tr>\n",
       "  </thead>\n",
       "  <tbody>\n",
       "    <tr>\n",
       "      <th>0</th>\n",
       "      <td>2018090600</td>\n",
       "      <td>09/06/2018</td>\n",
       "      <td>20:20:00</td>\n",
       "      <td>PHI</td>\n",
       "      <td>ATL</td>\n",
       "      <td>1</td>\n",
       "    </tr>\n",
       "    <tr>\n",
       "      <th>1</th>\n",
       "      <td>2018090901</td>\n",
       "      <td>09/09/2018</td>\n",
       "      <td>13:00:00</td>\n",
       "      <td>CLE</td>\n",
       "      <td>PIT</td>\n",
       "      <td>1</td>\n",
       "    </tr>\n",
       "    <tr>\n",
       "      <th>2</th>\n",
       "      <td>2018090902</td>\n",
       "      <td>09/09/2018</td>\n",
       "      <td>13:00:00</td>\n",
       "      <td>IND</td>\n",
       "      <td>CIN</td>\n",
       "      <td>1</td>\n",
       "    </tr>\n",
       "    <tr>\n",
       "      <th>3</th>\n",
       "      <td>2018090903</td>\n",
       "      <td>09/09/2018</td>\n",
       "      <td>13:00:00</td>\n",
       "      <td>MIA</td>\n",
       "      <td>TEN</td>\n",
       "      <td>1</td>\n",
       "    </tr>\n",
       "    <tr>\n",
       "      <th>4</th>\n",
       "      <td>2018090900</td>\n",
       "      <td>09/09/2018</td>\n",
       "      <td>13:00:00</td>\n",
       "      <td>BAL</td>\n",
       "      <td>BUF</td>\n",
       "      <td>1</td>\n",
       "    </tr>\n",
       "  </tbody>\n",
       "</table>\n",
       "</div>"
      ],
      "text/plain": [
       "       gameId    gameDate gameTimeEastern homeTeamAbbr visitorTeamAbbr  week\n",
       "0  2018090600  09/06/2018        20:20:00          PHI             ATL     1\n",
       "1  2018090901  09/09/2018        13:00:00          CLE             PIT     1\n",
       "2  2018090902  09/09/2018        13:00:00          IND             CIN     1\n",
       "3  2018090903  09/09/2018        13:00:00          MIA             TEN     1\n",
       "4  2018090900  09/09/2018        13:00:00          BAL             BUF     1"
      ]
     },
     "execution_count": 3,
     "metadata": {},
     "output_type": "execute_result"
    }
   ],
   "source": [
    "games = pd.read_csv(\"../raw_data/games.csv\")\n",
    "games.head()"
   ]
  },
  {
   "cell_type": "code",
   "execution_count": 4,
   "id": "instant-whale",
   "metadata": {},
   "outputs": [
    {
     "data": {
      "text/html": [
       "<div>\n",
       "<style scoped>\n",
       "    .dataframe tbody tr th:only-of-type {\n",
       "        vertical-align: middle;\n",
       "    }\n",
       "\n",
       "    .dataframe tbody tr th {\n",
       "        vertical-align: top;\n",
       "    }\n",
       "\n",
       "    .dataframe thead th {\n",
       "        text-align: right;\n",
       "    }\n",
       "</style>\n",
       "<table border=\"1\" class=\"dataframe\">\n",
       "  <thead>\n",
       "    <tr style=\"text-align: right;\">\n",
       "      <th></th>\n",
       "      <th>level_0</th>\n",
       "      <th>index</th>\n",
       "      <th>id</th>\n",
       "      <th>playDescription</th>\n",
       "      <th>quarter</th>\n",
       "      <th>down</th>\n",
       "      <th>yardsToGo</th>\n",
       "      <th>possessionTeam</th>\n",
       "      <th>playType</th>\n",
       "      <th>yardlineSide</th>\n",
       "      <th>yardlineNumber</th>\n",
       "      <th>offenseFormation</th>\n",
       "      <th>personnelO</th>\n",
       "      <th>defendersInTheBox</th>\n",
       "      <th>numberOfPassRushers</th>\n",
       "      <th>personnelD</th>\n",
       "      <th>typeDropback</th>\n",
       "      <th>preSnapVisitorScore</th>\n",
       "      <th>preSnapHomeScore</th>\n",
       "      <th>gameClock</th>\n",
       "      <th>absoluteYardlineNumber</th>\n",
       "      <th>penaltyCodes</th>\n",
       "      <th>penaltyJerseyNumbers</th>\n",
       "      <th>passResult</th>\n",
       "      <th>offensePlayResult</th>\n",
       "      <th>playResult</th>\n",
       "      <th>epa</th>\n",
       "      <th>isDefensivePI</th>\n",
       "    </tr>\n",
       "  </thead>\n",
       "  <tbody>\n",
       "    <tr>\n",
       "      <th>0</th>\n",
       "      <td>0</td>\n",
       "      <td>0</td>\n",
       "      <td>2018090600:75:1</td>\n",
       "      <td>(15:00) M.Ryan pass short right to J.Jones pus...</td>\n",
       "      <td>1</td>\n",
       "      <td>1</td>\n",
       "      <td>15</td>\n",
       "      <td>ATL</td>\n",
       "      <td>play_type_pass</td>\n",
       "      <td>ATL</td>\n",
       "      <td>20</td>\n",
       "      <td>I_FORM</td>\n",
       "      <td>2 RB, 1 TE, 2 WR</td>\n",
       "      <td>7.0</td>\n",
       "      <td>4.0</td>\n",
       "      <td>4 DL, 2 LB, 5 DB</td>\n",
       "      <td>TRADITIONAL</td>\n",
       "      <td>0.0</td>\n",
       "      <td>0.0</td>\n",
       "      <td>15:00:00</td>\n",
       "      <td>90.0</td>\n",
       "      <td>NaN</td>\n",
       "      <td>NaN</td>\n",
       "      <td>C</td>\n",
       "      <td>10</td>\n",
       "      <td>10</td>\n",
       "      <td>0.261827</td>\n",
       "      <td>False</td>\n",
       "    </tr>\n",
       "    <tr>\n",
       "      <th>1</th>\n",
       "      <td>1</td>\n",
       "      <td>1</td>\n",
       "      <td>2018090600:146:1</td>\n",
       "      <td>(13:10) M.Ryan pass incomplete short right to ...</td>\n",
       "      <td>1</td>\n",
       "      <td>1</td>\n",
       "      <td>10</td>\n",
       "      <td>ATL</td>\n",
       "      <td>play_type_pass</td>\n",
       "      <td>PHI</td>\n",
       "      <td>39</td>\n",
       "      <td>SINGLEBACK</td>\n",
       "      <td>1 RB, 1 TE, 3 WR</td>\n",
       "      <td>7.0</td>\n",
       "      <td>4.0</td>\n",
       "      <td>4 DL, 2 LB, 5 DB</td>\n",
       "      <td>TRADITIONAL</td>\n",
       "      <td>0.0</td>\n",
       "      <td>0.0</td>\n",
       "      <td>13:10:00</td>\n",
       "      <td>49.0</td>\n",
       "      <td>NaN</td>\n",
       "      <td>NaN</td>\n",
       "      <td>I</td>\n",
       "      <td>0</td>\n",
       "      <td>0</td>\n",
       "      <td>-0.372360</td>\n",
       "      <td>False</td>\n",
       "    </tr>\n",
       "    <tr>\n",
       "      <th>2</th>\n",
       "      <td>2</td>\n",
       "      <td>2</td>\n",
       "      <td>2018090600:168:1</td>\n",
       "      <td>(13:05) (Shotgun) M.Ryan pass incomplete short...</td>\n",
       "      <td>1</td>\n",
       "      <td>2</td>\n",
       "      <td>10</td>\n",
       "      <td>ATL</td>\n",
       "      <td>play_type_pass</td>\n",
       "      <td>PHI</td>\n",
       "      <td>39</td>\n",
       "      <td>SHOTGUN</td>\n",
       "      <td>2 RB, 1 TE, 2 WR</td>\n",
       "      <td>6.0</td>\n",
       "      <td>4.0</td>\n",
       "      <td>4 DL, 2 LB, 5 DB</td>\n",
       "      <td>TRADITIONAL</td>\n",
       "      <td>0.0</td>\n",
       "      <td>0.0</td>\n",
       "      <td>13:05:00</td>\n",
       "      <td>49.0</td>\n",
       "      <td>NaN</td>\n",
       "      <td>NaN</td>\n",
       "      <td>I</td>\n",
       "      <td>0</td>\n",
       "      <td>0</td>\n",
       "      <td>-0.702779</td>\n",
       "      <td>False</td>\n",
       "    </tr>\n",
       "    <tr>\n",
       "      <th>3</th>\n",
       "      <td>3</td>\n",
       "      <td>3</td>\n",
       "      <td>2018090600:190:1</td>\n",
       "      <td>(13:01) (Shotgun) M.Ryan pass deep left to J.J...</td>\n",
       "      <td>1</td>\n",
       "      <td>3</td>\n",
       "      <td>10</td>\n",
       "      <td>ATL</td>\n",
       "      <td>play_type_pass</td>\n",
       "      <td>PHI</td>\n",
       "      <td>39</td>\n",
       "      <td>SHOTGUN</td>\n",
       "      <td>1 RB, 1 TE, 3 WR</td>\n",
       "      <td>6.0</td>\n",
       "      <td>5.0</td>\n",
       "      <td>4 DL, 1 LB, 6 DB</td>\n",
       "      <td>SCRAMBLE_ROLLOUT_LEFT</td>\n",
       "      <td>0.0</td>\n",
       "      <td>0.0</td>\n",
       "      <td>13:01:00</td>\n",
       "      <td>49.0</td>\n",
       "      <td>NaN</td>\n",
       "      <td>NaN</td>\n",
       "      <td>C</td>\n",
       "      <td>33</td>\n",
       "      <td>33</td>\n",
       "      <td>3.047530</td>\n",
       "      <td>False</td>\n",
       "    </tr>\n",
       "    <tr>\n",
       "      <th>4</th>\n",
       "      <td>4</td>\n",
       "      <td>4</td>\n",
       "      <td>2018090600:256:1</td>\n",
       "      <td>(10:59) (Shotgun) M.Ryan pass incomplete short...</td>\n",
       "      <td>1</td>\n",
       "      <td>3</td>\n",
       "      <td>1</td>\n",
       "      <td>ATL</td>\n",
       "      <td>play_type_pass</td>\n",
       "      <td>PHI</td>\n",
       "      <td>1</td>\n",
       "      <td>SHOTGUN</td>\n",
       "      <td>2 RB, 3 TE, 0 WR</td>\n",
       "      <td>8.0</td>\n",
       "      <td>6.0</td>\n",
       "      <td>6 DL, 3 LB, 2 DB</td>\n",
       "      <td>TRADITIONAL</td>\n",
       "      <td>0.0</td>\n",
       "      <td>0.0</td>\n",
       "      <td>10:59:00</td>\n",
       "      <td>11.0</td>\n",
       "      <td>NaN</td>\n",
       "      <td>NaN</td>\n",
       "      <td>I</td>\n",
       "      <td>0</td>\n",
       "      <td>0</td>\n",
       "      <td>-0.842272</td>\n",
       "      <td>False</td>\n",
       "    </tr>\n",
       "  </tbody>\n",
       "</table>\n",
       "</div>"
      ],
      "text/plain": [
       "   level_0  index                id  \\\n",
       "0        0      0   2018090600:75:1   \n",
       "1        1      1  2018090600:146:1   \n",
       "2        2      2  2018090600:168:1   \n",
       "3        3      3  2018090600:190:1   \n",
       "4        4      4  2018090600:256:1   \n",
       "\n",
       "                                     playDescription  quarter  down  \\\n",
       "0  (15:00) M.Ryan pass short right to J.Jones pus...        1     1   \n",
       "1  (13:10) M.Ryan pass incomplete short right to ...        1     1   \n",
       "2  (13:05) (Shotgun) M.Ryan pass incomplete short...        1     2   \n",
       "3  (13:01) (Shotgun) M.Ryan pass deep left to J.J...        1     3   \n",
       "4  (10:59) (Shotgun) M.Ryan pass incomplete short...        1     3   \n",
       "\n",
       "   yardsToGo possessionTeam        playType yardlineSide  yardlineNumber  \\\n",
       "0         15            ATL  play_type_pass          ATL              20   \n",
       "1         10            ATL  play_type_pass          PHI              39   \n",
       "2         10            ATL  play_type_pass          PHI              39   \n",
       "3         10            ATL  play_type_pass          PHI              39   \n",
       "4          1            ATL  play_type_pass          PHI               1   \n",
       "\n",
       "  offenseFormation        personnelO  defendersInTheBox  numberOfPassRushers  \\\n",
       "0           I_FORM  2 RB, 1 TE, 2 WR                7.0                  4.0   \n",
       "1       SINGLEBACK  1 RB, 1 TE, 3 WR                7.0                  4.0   \n",
       "2          SHOTGUN  2 RB, 1 TE, 2 WR                6.0                  4.0   \n",
       "3          SHOTGUN  1 RB, 1 TE, 3 WR                6.0                  5.0   \n",
       "4          SHOTGUN  2 RB, 3 TE, 0 WR                8.0                  6.0   \n",
       "\n",
       "         personnelD           typeDropback  preSnapVisitorScore  \\\n",
       "0  4 DL, 2 LB, 5 DB            TRADITIONAL                  0.0   \n",
       "1  4 DL, 2 LB, 5 DB            TRADITIONAL                  0.0   \n",
       "2  4 DL, 2 LB, 5 DB            TRADITIONAL                  0.0   \n",
       "3  4 DL, 1 LB, 6 DB  SCRAMBLE_ROLLOUT_LEFT                  0.0   \n",
       "4  6 DL, 3 LB, 2 DB            TRADITIONAL                  0.0   \n",
       "\n",
       "   preSnapHomeScore gameClock  absoluteYardlineNumber penaltyCodes  \\\n",
       "0               0.0  15:00:00                    90.0          NaN   \n",
       "1               0.0  13:10:00                    49.0          NaN   \n",
       "2               0.0  13:05:00                    49.0          NaN   \n",
       "3               0.0  13:01:00                    49.0          NaN   \n",
       "4               0.0  10:59:00                    11.0          NaN   \n",
       "\n",
       "  penaltyJerseyNumbers passResult  offensePlayResult  playResult       epa  \\\n",
       "0                  NaN          C                 10          10  0.261827   \n",
       "1                  NaN          I                  0           0 -0.372360   \n",
       "2                  NaN          I                  0           0 -0.702779   \n",
       "3                  NaN          C                 33          33  3.047530   \n",
       "4                  NaN          I                  0           0 -0.842272   \n",
       "\n",
       "   isDefensivePI  \n",
       "0          False  \n",
       "1          False  \n",
       "2          False  \n",
       "3          False  \n",
       "4          False  "
      ]
     },
     "execution_count": 4,
     "metadata": {},
     "output_type": "execute_result"
    }
   ],
   "source": [
    "plays = pd.read_csv(\"../processed_data/remove_st_nbt_spikes/plays.csv\",index_col=0)\n",
    "plays.head()"
   ]
  },
  {
   "cell_type": "code",
   "execution_count": 5,
   "id": "subjective-workshop",
   "metadata": {},
   "outputs": [
    {
     "data": {
      "text/html": [
       "<div>\n",
       "<style scoped>\n",
       "    .dataframe tbody tr th:only-of-type {\n",
       "        vertical-align: middle;\n",
       "    }\n",
       "\n",
       "    .dataframe tbody tr th {\n",
       "        vertical-align: top;\n",
       "    }\n",
       "\n",
       "    .dataframe thead th {\n",
       "        text-align: right;\n",
       "    }\n",
       "</style>\n",
       "<table border=\"1\" class=\"dataframe\">\n",
       "  <thead>\n",
       "    <tr style=\"text-align: right;\">\n",
       "      <th></th>\n",
       "      <th>Unnamed: 0</th>\n",
       "      <th>level_0</th>\n",
       "      <th>Unnamed: 0.1</th>\n",
       "      <th>index</th>\n",
       "      <th>id</th>\n",
       "      <th>time</th>\n",
       "      <th>x</th>\n",
       "      <th>y</th>\n",
       "      <th>s</th>\n",
       "      <th>a</th>\n",
       "      <th>dis</th>\n",
       "      <th>o</th>\n",
       "      <th>dir</th>\n",
       "      <th>event</th>\n",
       "      <th>nflId</th>\n",
       "      <th>displayName</th>\n",
       "      <th>jerseyNumber</th>\n",
       "      <th>position</th>\n",
       "      <th>frameId</th>\n",
       "      <th>team</th>\n",
       "      <th>playDirection</th>\n",
       "      <th>route</th>\n",
       "    </tr>\n",
       "  </thead>\n",
       "  <tbody>\n",
       "    <tr>\n",
       "      <th>0</th>\n",
       "      <td>0</td>\n",
       "      <td>0</td>\n",
       "      <td>0</td>\n",
       "      <td>0</td>\n",
       "      <td>2018090600:75:1</td>\n",
       "      <td>2018-09-07T01:07:14.599Z</td>\n",
       "      <td>91.73</td>\n",
       "      <td>26.67</td>\n",
       "      <td>0.00</td>\n",
       "      <td>0.01</td>\n",
       "      <td>0.02</td>\n",
       "      <td>289.57</td>\n",
       "      <td>240.93</td>\n",
       "      <td>None</td>\n",
       "      <td>310.0</td>\n",
       "      <td>Matt Ryan</td>\n",
       "      <td>2.0</td>\n",
       "      <td>QB</td>\n",
       "      <td>1</td>\n",
       "      <td>away</td>\n",
       "      <td>left</td>\n",
       "      <td>NaN</td>\n",
       "    </tr>\n",
       "    <tr>\n",
       "      <th>1</th>\n",
       "      <td>1</td>\n",
       "      <td>1</td>\n",
       "      <td>1</td>\n",
       "      <td>1</td>\n",
       "      <td>2018090600:75:1</td>\n",
       "      <td>2018-09-07T01:07:14.599Z</td>\n",
       "      <td>88.89</td>\n",
       "      <td>36.47</td>\n",
       "      <td>0.01</td>\n",
       "      <td>0.01</td>\n",
       "      <td>0.01</td>\n",
       "      <td>105.63</td>\n",
       "      <td>66.66</td>\n",
       "      <td>None</td>\n",
       "      <td>79848.0</td>\n",
       "      <td>Malcolm Jenkins</td>\n",
       "      <td>27.0</td>\n",
       "      <td>SS</td>\n",
       "      <td>1</td>\n",
       "      <td>home</td>\n",
       "      <td>left</td>\n",
       "      <td>NaN</td>\n",
       "    </tr>\n",
       "    <tr>\n",
       "      <th>2</th>\n",
       "      <td>2</td>\n",
       "      <td>2</td>\n",
       "      <td>2</td>\n",
       "      <td>2</td>\n",
       "      <td>2018090600:75:1</td>\n",
       "      <td>2018-09-07T01:07:14.599Z</td>\n",
       "      <td>91.35</td>\n",
       "      <td>44.16</td>\n",
       "      <td>0.02</td>\n",
       "      <td>0.03</td>\n",
       "      <td>0.01</td>\n",
       "      <td>290.45</td>\n",
       "      <td>16.86</td>\n",
       "      <td>None</td>\n",
       "      <td>2495454.0</td>\n",
       "      <td>Julio Jones</td>\n",
       "      <td>11.0</td>\n",
       "      <td>WR</td>\n",
       "      <td>1</td>\n",
       "      <td>away</td>\n",
       "      <td>left</td>\n",
       "      <td>HITCH</td>\n",
       "    </tr>\n",
       "    <tr>\n",
       "      <th>3</th>\n",
       "      <td>3</td>\n",
       "      <td>3</td>\n",
       "      <td>3</td>\n",
       "      <td>3</td>\n",
       "      <td>2018090600:75:1</td>\n",
       "      <td>2018-09-07T01:07:14.599Z</td>\n",
       "      <td>86.31</td>\n",
       "      <td>22.01</td>\n",
       "      <td>0.09</td>\n",
       "      <td>0.42</td>\n",
       "      <td>0.01</td>\n",
       "      <td>70.12</td>\n",
       "      <td>168.91</td>\n",
       "      <td>None</td>\n",
       "      <td>2495613.0</td>\n",
       "      <td>Corey Graham</td>\n",
       "      <td>24.0</td>\n",
       "      <td>FS</td>\n",
       "      <td>1</td>\n",
       "      <td>home</td>\n",
       "      <td>left</td>\n",
       "      <td>NaN</td>\n",
       "    </tr>\n",
       "    <tr>\n",
       "      <th>4</th>\n",
       "      <td>4</td>\n",
       "      <td>4</td>\n",
       "      <td>4</td>\n",
       "      <td>4</td>\n",
       "      <td>2018090600:75:1</td>\n",
       "      <td>2018-09-07T01:07:14.599Z</td>\n",
       "      <td>90.78</td>\n",
       "      <td>36.15</td>\n",
       "      <td>0.00</td>\n",
       "      <td>0.00</td>\n",
       "      <td>0.00</td>\n",
       "      <td>257.61</td>\n",
       "      <td>193.97</td>\n",
       "      <td>None</td>\n",
       "      <td>2533040.0</td>\n",
       "      <td>Mohamed Sanu</td>\n",
       "      <td>12.0</td>\n",
       "      <td>WR</td>\n",
       "      <td>1</td>\n",
       "      <td>away</td>\n",
       "      <td>left</td>\n",
       "      <td>HITCH</td>\n",
       "    </tr>\n",
       "  </tbody>\n",
       "</table>\n",
       "</div>"
      ],
      "text/plain": [
       "   Unnamed: 0  level_0  Unnamed: 0.1  index               id  \\\n",
       "0           0        0             0      0  2018090600:75:1   \n",
       "1           1        1             1      1  2018090600:75:1   \n",
       "2           2        2             2      2  2018090600:75:1   \n",
       "3           3        3             3      3  2018090600:75:1   \n",
       "4           4        4             4      4  2018090600:75:1   \n",
       "\n",
       "                       time      x      y     s     a   dis       o     dir  \\\n",
       "0  2018-09-07T01:07:14.599Z  91.73  26.67  0.00  0.01  0.02  289.57  240.93   \n",
       "1  2018-09-07T01:07:14.599Z  88.89  36.47  0.01  0.01  0.01  105.63   66.66   \n",
       "2  2018-09-07T01:07:14.599Z  91.35  44.16  0.02  0.03  0.01  290.45   16.86   \n",
       "3  2018-09-07T01:07:14.599Z  86.31  22.01  0.09  0.42  0.01   70.12  168.91   \n",
       "4  2018-09-07T01:07:14.599Z  90.78  36.15  0.00  0.00  0.00  257.61  193.97   \n",
       "\n",
       "  event      nflId      displayName  jerseyNumber position  frameId  team  \\\n",
       "0  None      310.0        Matt Ryan           2.0       QB        1  away   \n",
       "1  None    79848.0  Malcolm Jenkins          27.0       SS        1  home   \n",
       "2  None  2495454.0      Julio Jones          11.0       WR        1  away   \n",
       "3  None  2495613.0     Corey Graham          24.0       FS        1  home   \n",
       "4  None  2533040.0     Mohamed Sanu          12.0       WR        1  away   \n",
       "\n",
       "  playDirection  route  \n",
       "0          left    NaN  \n",
       "1          left    NaN  \n",
       "2          left  HITCH  \n",
       "3          left    NaN  \n",
       "4          left  HITCH  "
      ]
     },
     "execution_count": 5,
     "metadata": {},
     "output_type": "execute_result"
    }
   ],
   "source": [
    "week1 = pd.read_csv(\"../processed_data/remove_st_nbt_spikes/week1.csv\")\n",
    "week2 = pd.read_csv(\"../processed_data/remove_st_nbt_spikes/week2.csv\")\n",
    "week3 = pd.read_csv(\"../processed_data/remove_st_nbt_spikes/week3.csv\")\n",
    "week4 = pd.read_csv(\"../processed_data/remove_st_nbt_spikes/week4.csv\")\n",
    "week5 = pd.read_csv(\"../processed_data/remove_st_nbt_spikes/week5.csv\")\n",
    "week6 = pd.read_csv(\"../processed_data/remove_st_nbt_spikes/week6.csv\")\n",
    "week7 = pd.read_csv(\"../processed_data/remove_st_nbt_spikes/week7.csv\")\n",
    "week8 = pd.read_csv(\"../processed_data/remove_st_nbt_spikes/week8.csv\")\n",
    "week9 = pd.read_csv(\"../processed_data/remove_st_nbt_spikes/week9.csv\")\n",
    "week10 = pd.read_csv(\"../processed_data/remove_st_nbt_spikes/week10.csv\")\n",
    "week11 = pd.read_csv(\"../processed_data/remove_st_nbt_spikes/week11.csv\")\n",
    "week12 = pd.read_csv(\"../processed_data/remove_st_nbt_spikes/week12.csv\")\n",
    "week13 = pd.read_csv(\"../processed_data/remove_st_nbt_spikes/week13.csv\")\n",
    "week14 = pd.read_csv(\"../processed_data/remove_st_nbt_spikes/week14.csv\")\n",
    "week15 = pd.read_csv(\"../processed_data/remove_st_nbt_spikes/week15.csv\")\n",
    "week16 = pd.read_csv(\"../processed_data/remove_st_nbt_spikes/week16.csv\")\n",
    "week17 = pd.read_csv(\"../processed_data/remove_st_nbt_spikes/week17.csv\")\n",
    "week1.head()"
   ]
  },
  {
   "cell_type": "code",
   "execution_count": 6,
   "id": "genuine-bowling",
   "metadata": {},
   "outputs": [
    {
     "data": {
      "text/html": [
       "<div>\n",
       "<style scoped>\n",
       "    .dataframe tbody tr th:only-of-type {\n",
       "        vertical-align: middle;\n",
       "    }\n",
       "\n",
       "    .dataframe tbody tr th {\n",
       "        vertical-align: top;\n",
       "    }\n",
       "\n",
       "    .dataframe thead th {\n",
       "        text-align: right;\n",
       "    }\n",
       "</style>\n",
       "<table border=\"1\" class=\"dataframe\">\n",
       "  <thead>\n",
       "    <tr style=\"text-align: right;\">\n",
       "      <th></th>\n",
       "      <th>Unnamed: 0</th>\n",
       "      <th>level_0</th>\n",
       "      <th>Unnamed: 0.1</th>\n",
       "      <th>index</th>\n",
       "      <th>id</th>\n",
       "      <th>time</th>\n",
       "      <th>x</th>\n",
       "      <th>y</th>\n",
       "      <th>s</th>\n",
       "      <th>a</th>\n",
       "      <th>dis</th>\n",
       "      <th>o</th>\n",
       "      <th>dir</th>\n",
       "      <th>event</th>\n",
       "      <th>nflId</th>\n",
       "      <th>displayName</th>\n",
       "      <th>jerseyNumber</th>\n",
       "      <th>position</th>\n",
       "      <th>frameId</th>\n",
       "      <th>team</th>\n",
       "      <th>playDirection</th>\n",
       "      <th>route</th>\n",
       "    </tr>\n",
       "  </thead>\n",
       "  <tbody>\n",
       "    <tr>\n",
       "      <th>0</th>\n",
       "      <td>0</td>\n",
       "      <td>0</td>\n",
       "      <td>0</td>\n",
       "      <td>0</td>\n",
       "      <td>2018090600:75:1</td>\n",
       "      <td>2018-09-07T01:07:14.599Z</td>\n",
       "      <td>91.73</td>\n",
       "      <td>26.67</td>\n",
       "      <td>0.00</td>\n",
       "      <td>0.01</td>\n",
       "      <td>0.02</td>\n",
       "      <td>289.57</td>\n",
       "      <td>240.93</td>\n",
       "      <td>None</td>\n",
       "      <td>310.0</td>\n",
       "      <td>Matt Ryan</td>\n",
       "      <td>2.0</td>\n",
       "      <td>QB</td>\n",
       "      <td>1</td>\n",
       "      <td>away</td>\n",
       "      <td>left</td>\n",
       "      <td>NaN</td>\n",
       "    </tr>\n",
       "    <tr>\n",
       "      <th>1</th>\n",
       "      <td>1</td>\n",
       "      <td>1</td>\n",
       "      <td>1</td>\n",
       "      <td>1</td>\n",
       "      <td>2018090600:75:1</td>\n",
       "      <td>2018-09-07T01:07:14.599Z</td>\n",
       "      <td>88.89</td>\n",
       "      <td>36.47</td>\n",
       "      <td>0.01</td>\n",
       "      <td>0.01</td>\n",
       "      <td>0.01</td>\n",
       "      <td>105.63</td>\n",
       "      <td>66.66</td>\n",
       "      <td>None</td>\n",
       "      <td>79848.0</td>\n",
       "      <td>Malcolm Jenkins</td>\n",
       "      <td>27.0</td>\n",
       "      <td>SS</td>\n",
       "      <td>1</td>\n",
       "      <td>home</td>\n",
       "      <td>left</td>\n",
       "      <td>NaN</td>\n",
       "    </tr>\n",
       "    <tr>\n",
       "      <th>2</th>\n",
       "      <td>2</td>\n",
       "      <td>2</td>\n",
       "      <td>2</td>\n",
       "      <td>2</td>\n",
       "      <td>2018090600:75:1</td>\n",
       "      <td>2018-09-07T01:07:14.599Z</td>\n",
       "      <td>91.35</td>\n",
       "      <td>44.16</td>\n",
       "      <td>0.02</td>\n",
       "      <td>0.03</td>\n",
       "      <td>0.01</td>\n",
       "      <td>290.45</td>\n",
       "      <td>16.86</td>\n",
       "      <td>None</td>\n",
       "      <td>2495454.0</td>\n",
       "      <td>Julio Jones</td>\n",
       "      <td>11.0</td>\n",
       "      <td>WR</td>\n",
       "      <td>1</td>\n",
       "      <td>away</td>\n",
       "      <td>left</td>\n",
       "      <td>HITCH</td>\n",
       "    </tr>\n",
       "    <tr>\n",
       "      <th>3</th>\n",
       "      <td>3</td>\n",
       "      <td>3</td>\n",
       "      <td>3</td>\n",
       "      <td>3</td>\n",
       "      <td>2018090600:75:1</td>\n",
       "      <td>2018-09-07T01:07:14.599Z</td>\n",
       "      <td>86.31</td>\n",
       "      <td>22.01</td>\n",
       "      <td>0.09</td>\n",
       "      <td>0.42</td>\n",
       "      <td>0.01</td>\n",
       "      <td>70.12</td>\n",
       "      <td>168.91</td>\n",
       "      <td>None</td>\n",
       "      <td>2495613.0</td>\n",
       "      <td>Corey Graham</td>\n",
       "      <td>24.0</td>\n",
       "      <td>FS</td>\n",
       "      <td>1</td>\n",
       "      <td>home</td>\n",
       "      <td>left</td>\n",
       "      <td>NaN</td>\n",
       "    </tr>\n",
       "    <tr>\n",
       "      <th>4</th>\n",
       "      <td>4</td>\n",
       "      <td>4</td>\n",
       "      <td>4</td>\n",
       "      <td>4</td>\n",
       "      <td>2018090600:75:1</td>\n",
       "      <td>2018-09-07T01:07:14.599Z</td>\n",
       "      <td>90.78</td>\n",
       "      <td>36.15</td>\n",
       "      <td>0.00</td>\n",
       "      <td>0.00</td>\n",
       "      <td>0.00</td>\n",
       "      <td>257.61</td>\n",
       "      <td>193.97</td>\n",
       "      <td>None</td>\n",
       "      <td>2533040.0</td>\n",
       "      <td>Mohamed Sanu</td>\n",
       "      <td>12.0</td>\n",
       "      <td>WR</td>\n",
       "      <td>1</td>\n",
       "      <td>away</td>\n",
       "      <td>left</td>\n",
       "      <td>HITCH</td>\n",
       "    </tr>\n",
       "    <tr>\n",
       "      <th>...</th>\n",
       "      <td>...</td>\n",
       "      <td>...</td>\n",
       "      <td>...</td>\n",
       "      <td>...</td>\n",
       "      <td>...</td>\n",
       "      <td>...</td>\n",
       "      <td>...</td>\n",
       "      <td>...</td>\n",
       "      <td>...</td>\n",
       "      <td>...</td>\n",
       "      <td>...</td>\n",
       "      <td>...</td>\n",
       "      <td>...</td>\n",
       "      <td>...</td>\n",
       "      <td>...</td>\n",
       "      <td>...</td>\n",
       "      <td>...</td>\n",
       "      <td>...</td>\n",
       "      <td>...</td>\n",
       "      <td>...</td>\n",
       "      <td>...</td>\n",
       "      <td>...</td>\n",
       "    </tr>\n",
       "    <tr>\n",
       "      <th>984550</th>\n",
       "      <td>984550</td>\n",
       "      <td>985057</td>\n",
       "      <td>985057</td>\n",
       "      <td>985057</td>\n",
       "      <td>2018091001:4192:1</td>\n",
       "      <td>2018-09-11T05:29:33.500Z</td>\n",
       "      <td>35.90</td>\n",
       "      <td>24.39</td>\n",
       "      <td>0.00</td>\n",
       "      <td>0.00</td>\n",
       "      <td>0.00</td>\n",
       "      <td>97.08</td>\n",
       "      <td>258.63</td>\n",
       "      <td>None</td>\n",
       "      <td>2556277.0</td>\n",
       "      <td>Marqui Christian</td>\n",
       "      <td>41.0</td>\n",
       "      <td>SS</td>\n",
       "      <td>1</td>\n",
       "      <td>away</td>\n",
       "      <td>left</td>\n",
       "      <td>NaN</td>\n",
       "    </tr>\n",
       "    <tr>\n",
       "      <th>984551</th>\n",
       "      <td>984551</td>\n",
       "      <td>985058</td>\n",
       "      <td>985058</td>\n",
       "      <td>985058</td>\n",
       "      <td>2018091001:4192:1</td>\n",
       "      <td>2018-09-11T05:29:33.500Z</td>\n",
       "      <td>36.93</td>\n",
       "      <td>36.39</td>\n",
       "      <td>0.02</td>\n",
       "      <td>0.02</td>\n",
       "      <td>0.01</td>\n",
       "      <td>95.57</td>\n",
       "      <td>111.48</td>\n",
       "      <td>None</td>\n",
       "      <td>2556593.0</td>\n",
       "      <td>Cory Littleton</td>\n",
       "      <td>58.0</td>\n",
       "      <td>ILB</td>\n",
       "      <td>1</td>\n",
       "      <td>away</td>\n",
       "      <td>left</td>\n",
       "      <td>NaN</td>\n",
       "    </tr>\n",
       "    <tr>\n",
       "      <th>984552</th>\n",
       "      <td>984552</td>\n",
       "      <td>985059</td>\n",
       "      <td>985059</td>\n",
       "      <td>985059</td>\n",
       "      <td>2018091001:4192:1</td>\n",
       "      <td>2018-09-11T05:29:33.500Z</td>\n",
       "      <td>42.53</td>\n",
       "      <td>46.29</td>\n",
       "      <td>0.00</td>\n",
       "      <td>0.00</td>\n",
       "      <td>0.00</td>\n",
       "      <td>266.37</td>\n",
       "      <td>339.77</td>\n",
       "      <td>None</td>\n",
       "      <td>2556885.0</td>\n",
       "      <td>Jalen Richard</td>\n",
       "      <td>30.0</td>\n",
       "      <td>RB</td>\n",
       "      <td>1</td>\n",
       "      <td>home</td>\n",
       "      <td>left</td>\n",
       "      <td>SCREEN</td>\n",
       "    </tr>\n",
       "    <tr>\n",
       "      <th>984553</th>\n",
       "      <td>984553</td>\n",
       "      <td>985060</td>\n",
       "      <td>985060</td>\n",
       "      <td>985060</td>\n",
       "      <td>2018091001:4192:1</td>\n",
       "      <td>2018-09-11T05:29:33.500Z</td>\n",
       "      <td>29.08</td>\n",
       "      <td>35.13</td>\n",
       "      <td>0.02</td>\n",
       "      <td>0.02</td>\n",
       "      <td>0.01</td>\n",
       "      <td>104.77</td>\n",
       "      <td>290.71</td>\n",
       "      <td>None</td>\n",
       "      <td>2558183.0</td>\n",
       "      <td>John Johnson</td>\n",
       "      <td>43.0</td>\n",
       "      <td>SS</td>\n",
       "      <td>1</td>\n",
       "      <td>away</td>\n",
       "      <td>left</td>\n",
       "      <td>NaN</td>\n",
       "    </tr>\n",
       "    <tr>\n",
       "      <th>984554</th>\n",
       "      <td>984554</td>\n",
       "      <td>985061</td>\n",
       "      <td>985061</td>\n",
       "      <td>985061</td>\n",
       "      <td>2018091001:4192:1</td>\n",
       "      <td>2018-09-11T05:29:33.500Z</td>\n",
       "      <td>41.00</td>\n",
       "      <td>29.62</td>\n",
       "      <td>0.00</td>\n",
       "      <td>0.00</td>\n",
       "      <td>0.00</td>\n",
       "      <td>NaN</td>\n",
       "      <td>NaN</td>\n",
       "      <td>None</td>\n",
       "      <td>NaN</td>\n",
       "      <td>Football</td>\n",
       "      <td>NaN</td>\n",
       "      <td>NaN</td>\n",
       "      <td>1</td>\n",
       "      <td>football</td>\n",
       "      <td>left</td>\n",
       "      <td>NaN</td>\n",
       "    </tr>\n",
       "  </tbody>\n",
       "</table>\n",
       "<p>15207 rows × 22 columns</p>\n",
       "</div>"
      ],
      "text/plain": [
       "        Unnamed: 0  level_0  Unnamed: 0.1   index                 id  \\\n",
       "0                0        0             0       0    2018090600:75:1   \n",
       "1                1        1             1       1    2018090600:75:1   \n",
       "2                2        2             2       2    2018090600:75:1   \n",
       "3                3        3             3       3    2018090600:75:1   \n",
       "4                4        4             4       4    2018090600:75:1   \n",
       "...            ...      ...           ...     ...                ...   \n",
       "984550      984550   985057        985057  985057  2018091001:4192:1   \n",
       "984551      984551   985058        985058  985058  2018091001:4192:1   \n",
       "984552      984552   985059        985059  985059  2018091001:4192:1   \n",
       "984553      984553   985060        985060  985060  2018091001:4192:1   \n",
       "984554      984554   985061        985061  985061  2018091001:4192:1   \n",
       "\n",
       "                            time      x      y     s     a   dis       o  \\\n",
       "0       2018-09-07T01:07:14.599Z  91.73  26.67  0.00  0.01  0.02  289.57   \n",
       "1       2018-09-07T01:07:14.599Z  88.89  36.47  0.01  0.01  0.01  105.63   \n",
       "2       2018-09-07T01:07:14.599Z  91.35  44.16  0.02  0.03  0.01  290.45   \n",
       "3       2018-09-07T01:07:14.599Z  86.31  22.01  0.09  0.42  0.01   70.12   \n",
       "4       2018-09-07T01:07:14.599Z  90.78  36.15  0.00  0.00  0.00  257.61   \n",
       "...                          ...    ...    ...   ...   ...   ...     ...   \n",
       "984550  2018-09-11T05:29:33.500Z  35.90  24.39  0.00  0.00  0.00   97.08   \n",
       "984551  2018-09-11T05:29:33.500Z  36.93  36.39  0.02  0.02  0.01   95.57   \n",
       "984552  2018-09-11T05:29:33.500Z  42.53  46.29  0.00  0.00  0.00  266.37   \n",
       "984553  2018-09-11T05:29:33.500Z  29.08  35.13  0.02  0.02  0.01  104.77   \n",
       "984554  2018-09-11T05:29:33.500Z  41.00  29.62  0.00  0.00  0.00     NaN   \n",
       "\n",
       "           dir event      nflId       displayName  jerseyNumber position  \\\n",
       "0       240.93  None      310.0         Matt Ryan           2.0       QB   \n",
       "1        66.66  None    79848.0   Malcolm Jenkins          27.0       SS   \n",
       "2        16.86  None  2495454.0       Julio Jones          11.0       WR   \n",
       "3       168.91  None  2495613.0      Corey Graham          24.0       FS   \n",
       "4       193.97  None  2533040.0      Mohamed Sanu          12.0       WR   \n",
       "...        ...   ...        ...               ...           ...      ...   \n",
       "984550  258.63  None  2556277.0  Marqui Christian          41.0       SS   \n",
       "984551  111.48  None  2556593.0    Cory Littleton          58.0      ILB   \n",
       "984552  339.77  None  2556885.0     Jalen Richard          30.0       RB   \n",
       "984553  290.71  None  2558183.0      John Johnson          43.0       SS   \n",
       "984554     NaN  None        NaN          Football           NaN      NaN   \n",
       "\n",
       "        frameId      team playDirection   route  \n",
       "0             1      away          left     NaN  \n",
       "1             1      home          left     NaN  \n",
       "2             1      away          left   HITCH  \n",
       "3             1      home          left     NaN  \n",
       "4             1      away          left   HITCH  \n",
       "...         ...       ...           ...     ...  \n",
       "984550        1      away          left     NaN  \n",
       "984551        1      away          left     NaN  \n",
       "984552        1      home          left  SCREEN  \n",
       "984553        1      away          left     NaN  \n",
       "984554        1  football          left     NaN  \n",
       "\n",
       "[15207 rows x 22 columns]"
      ]
     },
     "execution_count": 6,
     "metadata": {},
     "output_type": "execute_result"
    }
   ],
   "source": [
    "week1_f1 = week1[week1[\"frameId\"]==1]\n",
    "week2_f1 = week2[week2[\"frameId\"]==1]\n",
    "week3_f1 = week3[week3[\"frameId\"]==1]\n",
    "week4_f1 = week4[week4[\"frameId\"]==1]\n",
    "week5_f1 = week5[week5[\"frameId\"]==1]\n",
    "week6_f1 = week6[week6[\"frameId\"]==1]\n",
    "week7_f1 = week7[week7[\"frameId\"]==1]\n",
    "week8_f1 = week8[week8[\"frameId\"]==1]\n",
    "week9_f1 = week9[week9[\"frameId\"]==1]\n",
    "week10_f1 = week10[week10[\"frameId\"]==1]\n",
    "week11_f1 = week11[week11[\"frameId\"]==1]\n",
    "week12_f1 = week12[week12[\"frameId\"]==1]\n",
    "week13_f1 = week13[week13[\"frameId\"]==1]\n",
    "week14_f1 = week14[week14[\"frameId\"]==1]\n",
    "week15_f1 = week15[week15[\"frameId\"]==1]\n",
    "week16_f1 = week16[week16[\"frameId\"]==1]\n",
    "week17_f1 = week17[week17[\"frameId\"]==1]\n",
    "week1_f1"
   ]
  },
  {
   "cell_type": "code",
   "execution_count": 7,
   "id": "laughing-shelf",
   "metadata": {},
   "outputs": [],
   "source": [
    "weeks_f1 = [week1_f1,week2_f1,week3_f1,week4_f1,week5_f1,week6_f1,week7_f1,week8_f1,week9_f1,week10_f1,week11_f1,week12_f1,week13_f1,week14_f1,week15_f1,week16_f1,week17_f1]"
   ]
  },
  {
   "cell_type": "code",
   "execution_count": 63,
   "id": "collectible-blocking",
   "metadata": {},
   "outputs": [],
   "source": [
    "no_one_qb = []\n",
    "two_qbs = []\n",
    "two_qbs_same = []\n",
    "for week in weeks_f1:\n",
    "    playsids = week[\"id\"].unique()\n",
    "    for play in playsids:\n",
    "        qb = week[(week[\"id\"]==play)&(week[\"position\"] == 'QB')]\n",
    "        if len(qb) == 0:\n",
    "            no_one_qb.append(play)\n",
    "        elif len(qb) == 2:\n",
    "            if qb[\"displayName\"].values[0] == qb[\"displayName\"].values[1]:\n",
    "                two_qbs_same.append(play)\n",
    "            else:\n",
    "                two_qbs.append(play)"
   ]
  },
  {
   "cell_type": "code",
   "execution_count": 17,
   "id": "mental-yeast",
   "metadata": {},
   "outputs": [],
   "source": [
    "pickle_file = open('resources/no_one_qb.pickle','wb')\n",
    "pickle.dump(no_one_qb,pickle_file)\n",
    "pickle_file.close()"
   ]
  },
  {
   "cell_type": "code",
   "execution_count": 18,
   "id": "cooked-filter",
   "metadata": {},
   "outputs": [],
   "source": [
    "pickle_file = open('resources/two_qbs.pickle','wb')\n",
    "pickle.dump(two_qbs,pickle_file)\n",
    "pickle_file.close()"
   ]
  },
  {
   "cell_type": "code",
   "execution_count": 64,
   "id": "geological-polish",
   "metadata": {},
   "outputs": [],
   "source": [
    "pickle_file = open('resources/two_qbs_same.pickle','wb')\n",
    "pickle.dump(two_qbs_same,pickle_file)\n",
    "pickle_file.close()"
   ]
  },
  {
   "cell_type": "code",
   "execution_count": 20,
   "id": "appropriate-spray",
   "metadata": {},
   "outputs": [
    {
     "data": {
      "text/plain": [
       "3"
      ]
     },
     "execution_count": 20,
     "metadata": {},
     "output_type": "execute_result"
    }
   ],
   "source": [
    "len(no_one_qb)"
   ]
  },
  {
   "cell_type": "code",
   "execution_count": 21,
   "id": "advised-blond",
   "metadata": {},
   "outputs": [
    {
     "data": {
      "text/plain": [
       "81"
      ]
     },
     "execution_count": 21,
     "metadata": {},
     "output_type": "execute_result"
    }
   ],
   "source": [
    "len(two_qbs)"
   ]
  },
  {
   "cell_type": "code",
   "execution_count": 65,
   "id": "limiting-grove",
   "metadata": {},
   "outputs": [
    {
     "data": {
      "text/plain": [
       "3"
      ]
     },
     "execution_count": 65,
     "metadata": {},
     "output_type": "execute_result"
    }
   ],
   "source": [
    "len(two_qbs_same)"
   ]
  },
  {
   "cell_type": "markdown",
   "id": "adapted-person",
   "metadata": {},
   "source": [
    "Son tres jugadas donde no hay QB, y otras tres donde el QB es distinto"
   ]
  },
  {
   "cell_type": "markdown",
   "id": "experimental-springfield",
   "metadata": {},
   "source": [
    "Vamos a comprobar aquellas jugadas que tengan jugadores repetidos"
   ]
  },
  {
   "cell_type": "code",
   "execution_count": 20,
   "id": "periodic-mason",
   "metadata": {},
   "outputs": [],
   "source": [
    "repeated_players = []\n",
    "for week in weeks_f1:\n",
    "    playsids = week[\"id\"].unique()\n",
    "    for play in playsids:\n",
    "        players = week[(week[\"id\"]==play)][\"nflId\"]\n",
    "        if len(players.unique()) != len(players):\n",
    "            repeated_players.append(play)"
   ]
  },
  {
   "cell_type": "code",
   "execution_count": 17,
   "id": "scientific-challenge",
   "metadata": {},
   "outputs": [
    {
     "data": {
      "text/plain": [
       "3"
      ]
     },
     "execution_count": 17,
     "metadata": {},
     "output_type": "execute_result"
    }
   ],
   "source": [
    "len(repeated_players)"
   ]
  },
  {
   "cell_type": "code",
   "execution_count": 21,
   "id": "loose-trainer",
   "metadata": {},
   "outputs": [
    {
     "data": {
      "text/plain": [
       "True"
      ]
     },
     "execution_count": 21,
     "metadata": {},
     "output_type": "execute_result"
    }
   ],
   "source": [
    "repeated_players == two_qbs_same"
   ]
  },
  {
   "cell_type": "markdown",
   "id": "asian-commonwealth",
   "metadata": {},
   "source": [
    "Al final, tan solo hay tres jugadas y son las mismas. Tan solo habrá que modificarlas."
   ]
  },
  {
   "cell_type": "code",
   "execution_count": 23,
   "id": "fresh-certificate",
   "metadata": {},
   "outputs": [],
   "source": [
    "no_cbs = []\n",
    "no_lbs = []\n",
    "no_s = []\n",
    "for week in weeks_f1:\n",
    "    playsids = week[\"id\"].unique()\n",
    "    for play in playsids:\n",
    "        cbs = week[(week[\"id\"]==play)&(week[\"position\"].isin(['CB','DB']) )]\n",
    "        lbs = week[(week[\"id\"]==play)&(week[\"position\"].isin(['LB','OLB','ILB','MLB']) )]\n",
    "        s = week[(week[\"id\"]==play)&(week[\"position\"].isin(['SS','FS','S','DB']) )]\n",
    "        if len(cbs) == 0:\n",
    "            no_cbs.append(play)\n",
    "        if len(lbs) == 0:\n",
    "            no_lbs.append(play)\n",
    "        if len(s) == 0:\n",
    "            no_s.append(play)"
   ]
  },
  {
   "cell_type": "code",
   "execution_count": 24,
   "id": "correct-banking",
   "metadata": {},
   "outputs": [
    {
     "data": {
      "text/plain": [
       "30"
      ]
     },
     "execution_count": 24,
     "metadata": {},
     "output_type": "execute_result"
    }
   ],
   "source": [
    "len(no_cbs)"
   ]
  },
  {
   "cell_type": "code",
   "execution_count": 25,
   "id": "collectible-cargo",
   "metadata": {},
   "outputs": [
    {
     "data": {
      "text/plain": [
       "25"
      ]
     },
     "execution_count": 25,
     "metadata": {},
     "output_type": "execute_result"
    }
   ],
   "source": [
    "len(no_lbs)"
   ]
  },
  {
   "cell_type": "code",
   "execution_count": 26,
   "id": "capital-today",
   "metadata": {},
   "outputs": [
    {
     "data": {
      "text/plain": [
       "37"
      ]
     },
     "execution_count": 26,
     "metadata": {},
     "output_type": "execute_result"
    }
   ],
   "source": [
    "len(no_s)"
   ]
  },
  {
   "cell_type": "code",
   "execution_count": 30,
   "id": "embedded-disco",
   "metadata": {},
   "outputs": [],
   "source": [
    "pickle_file = open('resources/no_cbs.pickle','wb')\n",
    "pickle.dump(no_cbs,pickle_file)\n",
    "pickle_file.close()"
   ]
  },
  {
   "cell_type": "code",
   "execution_count": 31,
   "id": "convenient-connectivity",
   "metadata": {},
   "outputs": [],
   "source": [
    "pickle_file = open('resources/no_lbs.pickle','wb')\n",
    "pickle.dump(no_lbs,pickle_file)\n",
    "pickle_file.close()"
   ]
  },
  {
   "cell_type": "code",
   "execution_count": 32,
   "id": "incorporated-likelihood",
   "metadata": {},
   "outputs": [],
   "source": [
    "pickle_file = open('resources/no_s.pickle','wb')\n",
    "pickle.dump(no_s,pickle_file)\n",
    "pickle_file.close()"
   ]
  },
  {
   "cell_type": "code",
   "execution_count": 7,
   "id": "million-extra",
   "metadata": {},
   "outputs": [
    {
     "data": {
      "text/plain": [
       "array(['2 RB, 1 TE, 2 WR', '1 RB, 1 TE, 3 WR', '2 RB, 3 TE, 0 WR',\n",
       "       '1 RB, 2 TE, 2 WR', '1 RB, 3 TE, 1 WR', '2 RB, 0 TE, 3 WR',\n",
       "       '1 RB, 1 TE, 2 WR,1 DL', '1 RB, 0 TE, 4 WR',\n",
       "       '2 QB, 0 RB, 1 TE, 3 WR', '2 QB, 1 RB, 1 TE, 2 WR',\n",
       "       '0 RB, 1 TE, 4 WR', '2 RB, 2 TE, 1 WR', '6 OL, 1 RB, 1 TE, 2 WR',\n",
       "       '6 OL, 1 RB, 2 TE, 1 WR', nan, '6 OL, 2 RB, 0 TE, 2 WR',\n",
       "       '6 OL, 2 RB, 2 TE, 0 WR', '3 RB, 1 TE, 1 WR', '0 RB, 2 TE, 3 WR',\n",
       "       '1 RB, 2 TE, 1 WR,1 DL', '6 OL, 1 RB, 3 TE, 0 WR',\n",
       "       '6 OL, 2 RB, 1 TE, 1 WR', '3 RB, 2 TE, 0 WR',\n",
       "       '1 RB, 0 TE, 3 WR,1 DL', '6 OL, 1 RB, 2 TE, 0 WR,1 DL',\n",
       "       '0 RB, 0 TE, 5 WR', '0 RB, 3 TE, 2 WR',\n",
       "       '6 OL, 1 RB, 1 TE, 1 WR,1 DL', '2 QB, 1 RB, 2 TE, 1 WR',\n",
       "       '1 RB, 4 TE, 0 WR', '6 OL, 1 RB, 0 TE, 3 WR',\n",
       "       '2 QB, 2 RB, 2 TE, 0 WR', '3 RB, 0 TE, 2 WR',\n",
       "       '2 QB, 1 RB, 1 TE, 1 WR,1 DL', '2 QB, 2 RB, 1 TE, 1 WR',\n",
       "       '1 RB, 2 TE, 1 WR,1 DB', '4 RB, 1 TE, 0 WR',\n",
       "       '1 RB, 0 TE, 3 WR,1 DB', '1 RB, 1 TE, 2 WR,1 DB',\n",
       "       '6 OL, 2 RB, 1 TE, 0 WR,1 DL', '6 OL, 0 RB, 0 TE, 0 WR,4 DL',\n",
       "       '2 QB, 1 RB, 0 TE, 3 WR'], dtype=object)"
      ]
     },
     "execution_count": 7,
     "metadata": {},
     "output_type": "execute_result"
    }
   ],
   "source": [
    "plays[\"personnelO\"].unique()"
   ]
  },
  {
   "cell_type": "code",
   "execution_count": 8,
   "id": "developed-leave",
   "metadata": {},
   "outputs": [
    {
     "name": "stdout",
     "output_type": "stream",
     "text": [
      "WR 1 0 2018090910:477:1\n",
      "WR 3 2 2018091300:103:2\n",
      "RB 1 0 2018091600:3549:2\n",
      "RB 1 0 2018091610:2959:2\n",
      "WR 3 2 2018092313:2899:3\n",
      "RB 1 2 2018093002:492:4\n",
      "WR 3 2 2018093002:492:4\n",
      "WR 3 2 2018093005:2574:4\n",
      "RB 1 0 2018093010:1507:4\n",
      "WR 3 2 2018100705:1852:5\n",
      "WR 2 1 2018101404:2336:6\n",
      "WR 3 2 2018101411:1592:6\n",
      "RB 2 1 2018110403:897:9\n",
      "RB 2 1 2018110405:3403:9\n",
      "RB 1 0 2018110406:784:9\n",
      "TE 1 0 2018111500:1894:11\n",
      "WR 3 2 2018112508:1568:12\n",
      "TE 1 0 2018120205:1196:13\n",
      "RB 1 0 2018120207:5149:13\n",
      "DL 4 3 2018120901:2858:14\n",
      "WR 3 2 2018121605:613:15\n",
      "WR 3 2 2018121605:3815:15\n",
      "WR 3 2 2018121605:4082:15\n",
      "TE 2 1 2018121607:273:15\n",
      "TE 2 1 2018122307:2638:16\n",
      "TE 1 0 2018122307:3295:16\n",
      "WR 3 2 2018123010:1475:17\n",
      "WR 2 1 2018123011:2416:17\n"
     ]
    }
   ],
   "source": [
    "not_same_personnelO = []\n",
    "for week in weeks_f1:\n",
    "    playsids = week[\"id\"].unique()\n",
    "    for play in playsids:\n",
    "        possessionTeam = plays[plays[\"id\"]==play][\"possessionTeam\"].values[0]\n",
    "        idParts = play.split(\":\")\n",
    "        gameId = idParts[0]\n",
    "        team = \"\"\n",
    "        if possessionTeam == games[games[\"gameId\"]==int(gameId)][\"homeTeamAbbr\"].values[0]:\n",
    "            team = \"home\"\n",
    "        elif possessionTeam == games[games[\"gameId\"]==int(gameId)][\"visitorTeamAbbr\"].values[0]:\n",
    "            team = \"away\"\n",
    "        \n",
    "        \n",
    "        personnelO = plays[plays[\"id\"]==play][\"personnelO\"].values[0]\n",
    "        if str(personnelO) == \"nan\":\n",
    "            continue\n",
    "            \n",
    "        positions = personnelO.split(\",\")\n",
    "        for positionPlayer in positions:\n",
    "            positionParts = positionPlayer.split()\n",
    "            number = positionParts[0]\n",
    "            position = positionParts[1]\n",
    "            if position == \"OL\":\n",
    "                continue\n",
    "            elif position == \"DL\":\n",
    "                players = week[(week[\"id\"]==play)&(week[\"position\"].isin(['DL','NT','DT','DE'])) & (week[\"team\"]==team)]\n",
    "            elif position == \"DB\":\n",
    "                players = week[(week[\"id\"]==play)&(week[\"position\"].isin(['DB','CB','SS','S','FS'])) & (week[\"team\"]==team)]\n",
    "            elif position == \"RB\":\n",
    "                players = week[(week[\"id\"]==play)&(week[\"position\"].isin(['RB','FB','HB'])) & (week[\"team\"]==team)]\n",
    "            else:\n",
    "                players = week[(week[\"id\"]==play)&(week[\"position\"]==position) & (week[\"team\"]==team)]\n",
    "            \n",
    "            \n",
    "            if len(players[\"nflId\"].unique()) != int(number): #tengo que comprobar que los jugadores sean del mismo equipo\n",
    "                print(position,number,len(players[\"nflId\"].unique()),play)\n",
    "                not_same_personnelO.append(play)"
   ]
  },
  {
   "cell_type": "code",
   "execution_count": 9,
   "id": "minus-keeping",
   "metadata": {},
   "outputs": [
    {
     "data": {
      "text/plain": [
       "28"
      ]
     },
     "execution_count": 9,
     "metadata": {},
     "output_type": "execute_result"
    }
   ],
   "source": [
    "len(not_same_personnelO)"
   ]
  },
  {
   "cell_type": "code",
   "execution_count": 10,
   "id": "experimental-singing",
   "metadata": {},
   "outputs": [],
   "source": [
    "pickle_file = open('resources/not_same_personnelO.pickle','wb')\n",
    "pickle.dump(not_same_personnelO,pickle_file)\n",
    "pickle_file.close()"
   ]
  },
  {
   "cell_type": "code",
   "execution_count": 11,
   "id": "molecular-discovery",
   "metadata": {},
   "outputs": [
    {
     "data": {
      "text/plain": [
       "array(['4 DL, 2 LB, 5 DB', '4 DL, 1 LB, 6 DB', '6 DL, 3 LB, 2 DB',\n",
       "       '3 DL, 3 LB, 5 DB', '4 DL, 3 LB, 4 DB', '2 DL, 4 LB, 5 DB',\n",
       "       '0 DL, 6 LB, 5 DB', '1 DL, 4 LB, 6 DB', '3 DL, 4 LB, 4 DB',\n",
       "       '2 DL, 3 LB, 6 DB', '1 DL, 5 LB, 5 DB', '3 DL, 2 LB, 6 DB',\n",
       "       '5 DL, 1 LB, 5 DB', '3 DL, 1 LB, 7 DB', '3 DL, 1 LB, 6 DB, 1 TE',\n",
       "       nan, '4 DL, 4 LB, 3 DB', '5 DL, 3 LB, 3 DB', '0 DL, 5 LB, 6 DB',\n",
       "       '1 DL, 3 LB, 7 DB', '5 DL, 2 LB, 4 DB', '2 DL, 2 LB, 7 DB',\n",
       "       '1 DL, 4 LB, 5 DB', '6 DL, 4 LB, 1 DB', '3 DL, 5 LB, 3 DB',\n",
       "       '3 DL, 2 LB, 5 DB, 1 WR', '3 DL, 2 LB, 5 DB', '5 DL, 4 LB, 2 DB',\n",
       "       '0 DL, 4 LB, 7 DB', '4 DL, 2 LB, 4 DB', '6 DL, 1 LB, 4 DB',\n",
       "       '4 DL, 5 LB, 2 DB', '2 DL, 2 LB, 6 DB, 1 WR', '2 DL, 3 LB, 5 DB',\n",
       "       '6 DL, 2 LB, 3 DB', '5 DL, 3 LB, 2 DB, 1 OL',\n",
       "       '2 DL, 3 LB, 5 DB, 1 WR', '4 DL, 0 LB, 7 DB',\n",
       "       '3 DL, 1 LB, 6 DB, 1 WR', '3 DL, 0 LB, 8 DB', '2 DL, 4 LB, 4 DB',\n",
       "       '5 DL, 5 LB, 1 DB', '1 DL, 3 LB, 6 DB, 1 WR', '7 DL, 3 LB, 1 DB',\n",
       "       '1 DL, 2 LB, 7 DB'], dtype=object)"
      ]
     },
     "execution_count": 11,
     "metadata": {},
     "output_type": "execute_result"
    }
   ],
   "source": [
    "plays[\"personnelD\"].unique()"
   ]
  },
  {
   "cell_type": "code",
   "execution_count": 15,
   "id": "lightweight-purchase",
   "metadata": {},
   "outputs": [
    {
     "name": "stdout",
     "output_type": "stream",
     "text": [
      "LB 2 3 2018090907:1316:1\n",
      "DB 6 5 2018091610:2897:2\n",
      "DB 6 5 2018093007:4123:4\n",
      "DB 5 4 2018100705:921:5\n",
      "OL 1 0 2018100710:3616:5\n",
      "OL 1 0 2018100710:3659:5\n",
      "LB 2 3 2018101410:3332:6\n",
      "LB 2 3 2018101410:3425:6\n",
      "DB 6 5 2018102101:1356:7\n",
      "DB 5 4 2018111105:2797:10\n",
      "LB 5 4 2018112510:1085:12\n",
      "LB 2 1 2018112900:897:13\n",
      "DB 5 4 2018121600:1211:15\n",
      "DB 5 4 2018121601:3116:15\n",
      "DB 5 4 2018122304:397:16\n",
      "OL 1 0 2018122304:454:16\n",
      "DB 5 4 2018122312:3977:16\n",
      "DB 6 5 2018122313:1212:16\n",
      "DB 6 5 2018122313:2582:16\n",
      "DB 6 5 2018122313:4107:16\n"
     ]
    }
   ],
   "source": [
    "not_same_personnelD = []\n",
    "for week in weeks_f1:\n",
    "    playsids = week[\"id\"].unique()\n",
    "    for play in playsids:\n",
    "        possessionTeam = plays[plays[\"id\"]==play][\"possessionTeam\"].values[0]\n",
    "        idParts = play.split(\":\")\n",
    "        gameId = idParts[0]\n",
    "        team = \"\"\n",
    "        if possessionTeam == games[games[\"gameId\"]==int(gameId)][\"homeTeamAbbr\"].values[0]:\n",
    "            team = \"away\"\n",
    "        elif possessionTeam == games[games[\"gameId\"]==int(gameId)][\"visitorTeamAbbr\"].values[0]:\n",
    "            team = \"home\"\n",
    "        \n",
    "        \n",
    "        personnelD = plays[plays[\"id\"]==play][\"personnelD\"].values[0]\n",
    "        if str(personnelD) == \"nan\":\n",
    "            continue\n",
    "            \n",
    "        positions = personnelD.split(\",\")\n",
    "        for positionPlayer in positions:\n",
    "            positionParts = positionPlayer.split()\n",
    "            number = positionParts[0]\n",
    "            position = positionParts[1]\n",
    "            \n",
    "            if position == \"DL\":\n",
    "                continue\n",
    "            elif position == \"DB\":\n",
    "                players = week[(week[\"id\"]==play)&(week[\"position\"].isin(['DB','CB','SS','S','FS'])) & (week[\"team\"]==team)]\n",
    "            elif position == \"LB\":\n",
    "                players = week[(week[\"id\"]==play)&(week[\"position\"].isin(['LB','MLB','OLB','ILB'])) & (week[\"team\"]==team)]\n",
    "            else:\n",
    "                players = week[(week[\"id\"]==play)&(week[\"position\"]==position) & (week[\"team\"]==team)]\n",
    "            \n",
    "            \n",
    "            if len(players[\"nflId\"].unique()) != int(number): #tengo que comprobar que los jugadores sean del mismo equipo\n",
    "                print(position,number,len(players[\"nflId\"].unique()),play)\n",
    "                not_same_personnelD.append(play)"
   ]
  },
  {
   "cell_type": "code",
   "execution_count": 16,
   "id": "minor-termination",
   "metadata": {},
   "outputs": [
    {
     "data": {
      "text/plain": [
       "28"
      ]
     },
     "execution_count": 16,
     "metadata": {},
     "output_type": "execute_result"
    }
   ],
   "source": [
    "len(not_same_personnelD)"
   ]
  },
  {
   "cell_type": "code",
   "execution_count": 17,
   "id": "fossil-religion",
   "metadata": {},
   "outputs": [],
   "source": [
    "pickle_file = open('resources/not_same_personnelD.pickle','wb')\n",
    "pickle.dump(not_same_personnelD,pickle_file)\n",
    "pickle_file.close()"
   ]
  },
  {
   "cell_type": "markdown",
   "id": "convertible-angle",
   "metadata": {},
   "source": [
    "Ahora vamos a ver los jugadores dentro y fuera de las hashmarks, primero viendo jugadas con todos los jugadores dentro y luego todas fueras."
   ]
  },
  {
   "cell_type": "code",
   "execution_count": 35,
   "id": "cooperative-uncle",
   "metadata": {},
   "outputs": [],
   "source": [
    "outside_hashmarks_offense = []\n",
    "for week in weeks_f1:\n",
    "    playsids = week[\"id\"].unique()\n",
    "    for play in playsids:\n",
    "        possessionTeam = plays[plays[\"id\"]==play][\"possessionTeam\"].values[0]\n",
    "        idParts = play.split(\":\")\n",
    "        gameId = idParts[0]\n",
    "        team = \"\"\n",
    "        if possessionTeam == games[games[\"gameId\"]==int(gameId)][\"homeTeamAbbr\"].values[0]:\n",
    "            team = \"home\"\n",
    "        elif possessionTeam == games[games[\"gameId\"]==int(gameId)][\"visitorTeamAbbr\"].values[0]:\n",
    "            team = \"away\"\n",
    "            \n",
    "        players = week[(week[\"id\"]==play)&(week[\"team\"]==team)]\n",
    "        all_outside = True\n",
    "        \n",
    "        for index,row in players.iterrows():\n",
    "            if float(row[\"y\"]) >= 22 and float(row[\"y\"]) <= 31 and all_outside: # los límites son entre 23.6 y 29.7, pero ampliamos un poco más para dar cierto margen\n",
    "                all_outside = False\n",
    "        \n",
    "        if all_outside:\n",
    "            outside_hashmarks_offense.append(play)"
   ]
  },
  {
   "cell_type": "code",
   "execution_count": 36,
   "id": "rubber-lloyd",
   "metadata": {},
   "outputs": [
    {
     "data": {
      "text/plain": [
       "2"
      ]
     },
     "execution_count": 36,
     "metadata": {},
     "output_type": "execute_result"
    }
   ],
   "source": [
    "len(outside_hashmarks_offense)"
   ]
  },
  {
   "cell_type": "code",
   "execution_count": 37,
   "id": "sustained-snowboard",
   "metadata": {},
   "outputs": [],
   "source": [
    "pickle_file = open('resources/outside_hashmarks_offense.pickle','wb')\n",
    "pickle.dump(outside_hashmarks_offense,pickle_file)\n",
    "pickle_file.close()"
   ]
  },
  {
   "cell_type": "code",
   "execution_count": 45,
   "id": "academic-buying",
   "metadata": {},
   "outputs": [],
   "source": [
    "outside_hashmarks_defense = []\n",
    "for week in weeks_f1:\n",
    "    playsids = week[\"id\"].unique()\n",
    "    for play in playsids:\n",
    "        possessionTeam = plays[plays[\"id\"]==play][\"possessionTeam\"].values[0]\n",
    "        idParts = play.split(\":\")\n",
    "        gameId = idParts[0]\n",
    "        team = \"\"\n",
    "        if possessionTeam == games[games[\"gameId\"]==int(gameId)][\"homeTeamAbbr\"].values[0]:\n",
    "            team = \"away\"\n",
    "        elif possessionTeam == games[games[\"gameId\"]==int(gameId)][\"visitorTeamAbbr\"].values[0]:\n",
    "            team = \"home\"\n",
    "            \n",
    "        players = week[(week[\"id\"]==play)&(week[\"team\"]==team)]\n",
    "        all_outside = True\n",
    "        \n",
    "        for index,row in players.iterrows():\n",
    "            if float(row[\"y\"]) > 20.6 and float(row[\"y\"]) < 32.7 and all_outside: # los límites son entre 23.6 y 29.7, pero ampliamos un poco más para dar cierto margen\n",
    "                all_outside = False\n",
    "        \n",
    "        if all_outside:\n",
    "            outside_hashmarks_defense.append(play)"
   ]
  },
  {
   "cell_type": "code",
   "execution_count": 46,
   "id": "binary-majority",
   "metadata": {},
   "outputs": [
    {
     "data": {
      "text/plain": [
       "6"
      ]
     },
     "execution_count": 46,
     "metadata": {},
     "output_type": "execute_result"
    }
   ],
   "source": [
    "len(outside_hashmarks_defense)"
   ]
  },
  {
   "cell_type": "code",
   "execution_count": 47,
   "id": "silent-welcome",
   "metadata": {},
   "outputs": [],
   "source": [
    "pickle_file = open('resources/outside_hashmarks_defense.pickle','wb')\n",
    "pickle.dump(outside_hashmarks_defense,pickle_file)\n",
    "pickle_file.close()"
   ]
  },
  {
   "cell_type": "markdown",
   "id": "vanilla-malpractice",
   "metadata": {},
   "source": [
    "Todas las jugadas incluidas aquí están bien, son jugadas con solo receptores sin RBs, por tanto las defensas se \"abren más\""
   ]
  },
  {
   "cell_type": "markdown",
   "id": "coated-antique",
   "metadata": {},
   "source": [
    "Vamos a probar la \"densidad\" de los jugadores, ya que hay una jugada en la que están mal colocados y todos agrupados y parece información falseada."
   ]
  },
  {
   "cell_type": "code",
   "execution_count": 57,
   "id": "completed-garbage",
   "metadata": {},
   "outputs": [],
   "source": [
    "offense_strange_density = []\n",
    "for week in weeks_f1:\n",
    "    playsids = week[\"id\"].unique()\n",
    "    for play in playsids:\n",
    "        possessionTeam = plays[plays[\"id\"]==play][\"possessionTeam\"].values[0]\n",
    "        idParts = play.split(\":\")\n",
    "        gameId = idParts[0]\n",
    "        team = \"\"\n",
    "        if possessionTeam == games[games[\"gameId\"]==int(gameId)][\"homeTeamAbbr\"].values[0]:\n",
    "            team = \"home\"\n",
    "        elif possessionTeam == games[games[\"gameId\"]==int(gameId)][\"visitorTeamAbbr\"].values[0]:\n",
    "            team = \"away\"\n",
    "            \n",
    "        players = week[(week[\"id\"]==play)&(week[\"team\"]==team)]\n",
    "        players_y = []\n",
    "        \n",
    "        for index,row in players.iterrows():\n",
    "            players_y.append(row[\"y\"])\n",
    "        \n",
    "        min_y = min(players_y)\n",
    "        max_y = max(players_y)\n",
    "        \n",
    "        if max_y - min_y < 10 and int(plays[(plays[\"id\"]==play)][\"yardsToGo\"].values[0]) >1:\n",
    "            offense_strange_density.append(play)"
   ]
  },
  {
   "cell_type": "code",
   "execution_count": 58,
   "id": "accredited-transmission",
   "metadata": {},
   "outputs": [
    {
     "data": {
      "text/plain": [
       "20"
      ]
     },
     "execution_count": 58,
     "metadata": {},
     "output_type": "execute_result"
    }
   ],
   "source": [
    "len(offense_strange_density)"
   ]
  },
  {
   "cell_type": "code",
   "execution_count": 59,
   "id": "outside-salmon",
   "metadata": {
    "tags": []
   },
   "outputs": [],
   "source": [
    "pickle_file = open('resources/offense_strange_density.pickle','wb')\n",
    "pickle.dump(offense_strange_density,pickle_file)\n",
    "pickle_file.close()"
   ]
  },
  {
   "cell_type": "code",
   "execution_count": 60,
   "id": "color-saturday",
   "metadata": {},
   "outputs": [],
   "source": [
    "defense_strange_density = []\n",
    "for week in weeks_f1:\n",
    "    playsids = week[\"id\"].unique()\n",
    "    for play in playsids:\n",
    "        possessionTeam = plays[plays[\"id\"]==play][\"possessionTeam\"].values[0]\n",
    "        idParts = play.split(\":\")\n",
    "        gameId = idParts[0]\n",
    "        team = \"\"\n",
    "        if possessionTeam == games[games[\"gameId\"]==int(gameId)][\"homeTeamAbbr\"].values[0]:\n",
    "            team = \"away\"\n",
    "        elif possessionTeam == games[games[\"gameId\"]==int(gameId)][\"visitorTeamAbbr\"].values[0]:\n",
    "            team = \"home\"\n",
    "            \n",
    "        players = week[(week[\"id\"]==play)&(week[\"team\"]==team)]\n",
    "        players_y = []\n",
    "        players_x = []\n",
    "        \n",
    "        for index,row in players.iterrows():\n",
    "            players_y.append(row[\"y\"])\n",
    "            players_x.append(row[\"x\"])\n",
    "        \n",
    "        min_y = min(players_y)\n",
    "        max_y = max(players_y)\n",
    "        min_x = min(players_x)\n",
    "        max_x = max(players_x)\n",
    "        \n",
    "        if max_y - min_y < 7 and max_x - min_x < 5:\n",
    "            defense_strange_density.append(play)"
   ]
  },
  {
   "cell_type": "code",
   "execution_count": 61,
   "id": "purple-snapshot",
   "metadata": {},
   "outputs": [
    {
     "data": {
      "text/plain": [
       "1"
      ]
     },
     "execution_count": 61,
     "metadata": {},
     "output_type": "execute_result"
    }
   ],
   "source": [
    "len(defense_strange_density)"
   ]
  },
  {
   "cell_type": "code",
   "execution_count": null,
   "id": "interim-pleasure",
   "metadata": {},
   "outputs": [],
   "source": [
    "Esta sí que se puede borrar, es la que se había detectado y por lo que parece es la única jugada que estén sus jugadores amontonados."
   ]
  },
  {
   "cell_type": "code",
   "execution_count": 62,
   "id": "religious-crest",
   "metadata": {},
   "outputs": [],
   "source": [
    "pickle_file = open('resources/defense_strange_density.pickle','wb')\n",
    "pickle.dump(defense_strange_density,pickle_file)\n",
    "pickle_file.close()"
   ]
  },
  {
   "cell_type": "markdown",
   "id": "western-motivation",
   "metadata": {},
   "source": [
    "Ahora vamos a ver que las longitudes de los equipos no sean extrañas (es decir, tomar en cuenta el valor de la x)"
   ]
  },
  {
   "cell_type": "code",
   "execution_count": 9,
   "id": "convinced-acoustic",
   "metadata": {},
   "outputs": [],
   "source": [
    "offense_strange_long = []\n",
    "for week in weeks_f1:\n",
    "    playsids = week[\"id\"].unique()\n",
    "    for play in playsids:\n",
    "        possessionTeam = plays[plays[\"id\"]==play][\"possessionTeam\"].values[0]\n",
    "        idParts = play.split(\":\")\n",
    "        gameId = idParts[0]\n",
    "        team = \"\"\n",
    "        if possessionTeam == games[games[\"gameId\"]==int(gameId)][\"homeTeamAbbr\"].values[0]:\n",
    "            team = \"home\"\n",
    "        elif possessionTeam == games[games[\"gameId\"]==int(gameId)][\"visitorTeamAbbr\"].values[0]:\n",
    "            team = \"away\"\n",
    "            \n",
    "        players = week[(week[\"id\"]==play)&(week[\"team\"]==team)]\n",
    "        players_x = []\n",
    "        \n",
    "        for index,row in players.iterrows():\n",
    "            players_x.append(row[\"x\"])\n",
    "        \n",
    "        min_x = min(players_x)\n",
    "        max_x = max(players_x)\n",
    "        \n",
    "        if max_x - min_x > 10:\n",
    "            offense_strange_long.append(play)"
   ]
  },
  {
   "cell_type": "code",
   "execution_count": 10,
   "id": "vocational-mineral",
   "metadata": {},
   "outputs": [
    {
     "data": {
      "text/plain": [
       "0"
      ]
     },
     "execution_count": 10,
     "metadata": {},
     "output_type": "execute_result"
    }
   ],
   "source": [
    "len(offense_strange_long)"
   ]
  },
  {
   "cell_type": "code",
   "execution_count": 14,
   "id": "legitimate-groove",
   "metadata": {},
   "outputs": [],
   "source": [
    "defense_strange_long = []\n",
    "for week in weeks_f1:\n",
    "    playsids = week[\"id\"].unique()\n",
    "    for play in playsids:\n",
    "        possessionTeam = plays[plays[\"id\"]==play][\"possessionTeam\"].values[0]\n",
    "        idParts = play.split(\":\")\n",
    "        gameId = idParts[0]\n",
    "        team = \"\"\n",
    "        if possessionTeam == games[games[\"gameId\"]==int(gameId)][\"homeTeamAbbr\"].values[0]:\n",
    "            team = \"away\"\n",
    "        elif possessionTeam == games[games[\"gameId\"]==int(gameId)][\"visitorTeamAbbr\"].values[0]:\n",
    "            team = \"home\"\n",
    "            \n",
    "        players = week[(week[\"id\"]==play)&(week[\"team\"]==team)]\n",
    "        players_x = []\n",
    "        \n",
    "        for index,row in players.iterrows():\n",
    "            players_x.append(row[\"x\"])\n",
    "        \n",
    "        min_x = min(players_x)\n",
    "        max_x = max(players_x)\n",
    "        \n",
    "        if max_x - min_x > 25:\n",
    "            defense_strange_long.append(play)"
   ]
  },
  {
   "cell_type": "code",
   "execution_count": 15,
   "id": "fitting-divide",
   "metadata": {},
   "outputs": [
    {
     "data": {
      "text/plain": [
       "77"
      ]
     },
     "execution_count": 15,
     "metadata": {},
     "output_type": "execute_result"
    }
   ],
   "source": [
    "len(defense_strange_long)"
   ]
  },
  {
   "cell_type": "code",
   "execution_count": 16,
   "id": "thick-pathology",
   "metadata": {},
   "outputs": [],
   "source": [
    "pickle_file = open('resources/defense_strange_long.pickle','wb')\n",
    "pickle.dump(defense_strange_long,pickle_file)\n",
    "pickle_file.close()"
   ]
  },
  {
   "cell_type": "code",
   "execution_count": 13,
   "id": "active-review",
   "metadata": {},
   "outputs": [],
   "source": [
    "line_is_far = []\n",
    "for week in weeks_f1:\n",
    "    playsids = week[\"id\"].unique()\n",
    "    for play in playsids:\n",
    "        possessionTeam = plays[plays[\"id\"]==play][\"possessionTeam\"].values[0]\n",
    "        idParts = play.split(\":\")\n",
    "        gameId = idParts[0]\n",
    "        team = \"\"\n",
    "        if possessionTeam == games[games[\"gameId\"]==int(gameId)][\"homeTeamAbbr\"].values[0]:\n",
    "            team = \"home\"\n",
    "        elif possessionTeam == games[games[\"gameId\"]==int(gameId)][\"visitorTeamAbbr\"].values[0]:\n",
    "            team = \"away\"\n",
    "            \n",
    "        qb = week[(week[\"id\"]==play)&(week[\"position\"] == 'QB')&(week[\"team\"]==team)]\n",
    "        if len(qb) == 0:\n",
    "            continue\n",
    "            \n",
    "        qb_x = qb[\"x\"].values[0]\n",
    "        lineYard = plays[plays[\"id\"]==play][\"absoluteYardlineNumber\"].values[0]\n",
    "        \n",
    "        if abs(qb_x - lineYard) > 10:\n",
    "            line_is_far.append(play)"
   ]
  },
  {
   "cell_type": "code",
   "execution_count": 14,
   "id": "differential-swift",
   "metadata": {},
   "outputs": [
    {
     "data": {
      "text/plain": [
       "2"
      ]
     },
     "execution_count": 14,
     "metadata": {},
     "output_type": "execute_result"
    }
   ],
   "source": [
    "len(line_is_far)"
   ]
  },
  {
   "cell_type": "code",
   "execution_count": 15,
   "id": "satellite-paintball",
   "metadata": {},
   "outputs": [],
   "source": [
    "pickle_file = open('../resources/line_is_far.pickle','wb')\n",
    "pickle.dump(line_is_far,pickle_file)\n",
    "pickle_file.close()"
   ]
  },
  {
   "cell_type": "code",
   "execution_count": 18,
   "id": "employed-glance",
   "metadata": {},
   "outputs": [],
   "source": [
    "line_is_not_correct = []\n",
    "for week in weeks_f1:\n",
    "    playsids = week[\"id\"].unique()\n",
    "    for play in playsids:\n",
    "        los = plays[plays[\"id\"]==play][\"absoluteYardlineNumber\"].values[0]\n",
    "        possessionTeam = plays[plays[\"id\"]==play][\"possessionTeam\"].values[0]\n",
    "        idParts = play.split(\":\")\n",
    "        gameId = idParts[0]\n",
    "        team = \"\"\n",
    "        if possessionTeam == games[games[\"gameId\"]==int(gameId)][\"homeTeamAbbr\"].values[0]:\n",
    "            team = \"home\"\n",
    "        elif possessionTeam == games[games[\"gameId\"]==int(gameId)][\"visitorTeamAbbr\"].values[0]:\n",
    "            team = \"away\"\n",
    "            \n",
    "        players = week[(week[\"id\"]==play)&(week[\"team\"]==team)]\n",
    "        playDirection = players[\"playDirection\"].values[0]\n",
    "        correct = True\n",
    "        \n",
    "        for index,row in players.iterrows():\n",
    "            if playDirection == \"right\" and los - row[\"x\"] < -2:\n",
    "                correct = False\n",
    "            elif playDirection == \"left\" and los - row[\"x\"] > 2:\n",
    "                correct = False\n",
    "        \n",
    "        if not(correct):\n",
    "            line_is_not_correct.append(play)"
   ]
  },
  {
   "cell_type": "code",
   "execution_count": 19,
   "id": "integrated-participant",
   "metadata": {},
   "outputs": [
    {
     "data": {
      "text/plain": [
       "0"
      ]
     },
     "execution_count": 19,
     "metadata": {},
     "output_type": "execute_result"
    }
   ],
   "source": [
    "len(line_is_not_correct)"
   ]
  },
  {
   "cell_type": "code",
   "execution_count": 20,
   "id": "higher-binding",
   "metadata": {},
   "outputs": [],
   "source": [
    "pickle_file = open('../resources/line_is_not_correct.pickle','wb')\n",
    "pickle.dump(line_is_not_correct,pickle_file)\n",
    "pickle_file.close()"
   ]
  },
  {
   "cell_type": "code",
   "execution_count": 22,
   "id": "interesting-possible",
   "metadata": {},
   "outputs": [],
   "source": [
    "line_is_not_correct = []\n",
    "for week in weeks_f1:\n",
    "    playsids = week[\"id\"].unique()\n",
    "    for play in playsids:\n",
    "        los = plays[plays[\"id\"]==play][\"absoluteYardlineNumber\"].values[0]\n",
    "        possessionTeam = plays[plays[\"id\"]==play][\"possessionTeam\"].values[0]\n",
    "        idParts = play.split(\":\")\n",
    "        gameId = idParts[0]\n",
    "        team = \"\"\n",
    "        if possessionTeam == games[games[\"gameId\"]==int(gameId)][\"homeTeamAbbr\"].values[0]:\n",
    "            team = \"away\"\n",
    "        elif possessionTeam == games[games[\"gameId\"]==int(gameId)][\"visitorTeamAbbr\"].values[0]:\n",
    "            team = \"home\"\n",
    "            \n",
    "        players = week[(week[\"id\"]==play)&(week[\"team\"]==team)]\n",
    "        playDirection = players[\"playDirection\"].values[0]\n",
    "        correct = True\n",
    "        \n",
    "        for index,row in players.iterrows():\n",
    "            if playDirection == \"left\" and los - row[\"x\"] < -2:\n",
    "                correct = False\n",
    "            elif playDirection == \"right\" and los - row[\"x\"] > 2:\n",
    "                correct = False\n",
    "        \n",
    "        if not(correct):\n",
    "            line_is_not_correct.append(play)"
   ]
  },
  {
   "cell_type": "code",
   "execution_count": 23,
   "id": "overhead-burst",
   "metadata": {},
   "outputs": [
    {
     "data": {
      "text/plain": [
       "2"
      ]
     },
     "execution_count": 23,
     "metadata": {},
     "output_type": "execute_result"
    }
   ],
   "source": [
    "len(line_is_not_correct)"
   ]
  },
  {
   "cell_type": "code",
   "execution_count": 25,
   "id": "ideal-oakland",
   "metadata": {},
   "outputs": [
    {
     "name": "stdout",
     "output_type": "stream",
     "text": [
      "['2018102808:2190:8', '2018111104:3933:10']\n"
     ]
    }
   ],
   "source": [
    "print(line_is_not_correct)"
   ]
  },
  {
   "cell_type": "code",
   "execution_count": 24,
   "id": "bizarre-third",
   "metadata": {},
   "outputs": [],
   "source": [
    "pickle_file = open('../resources/line_is_not_correct.pickle','wb')\n",
    "pickle.dump(line_is_not_correct,pickle_file)\n",
    "pickle_file.close()"
   ]
  },
  {
   "cell_type": "code",
   "execution_count": 8,
   "id": "opened-tournament",
   "metadata": {},
   "outputs": [],
   "source": [
    "football_is_far = []\n",
    "football_is_outside = []\n",
    "for week in weeks_f1:\n",
    "    playsids = week[\"id\"].unique()\n",
    "    for play in playsids:\n",
    "        yFootball = int(week[(week[\"displayName\"]==\"Football\")&(week[\"id\"]==play)][\"y\"].values[0])\n",
    "        xFootball = int(week[(week[\"displayName\"]==\"Football\")&(week[\"id\"]==play)][\"x\"].values[0])\n",
    "        \n",
    "        los = plays[plays[\"id\"]==play][\"absoluteYardlineNumber\"].values[0]\n",
    "        \n",
    "        if (yFootball >= 53.3 or yFootball <= 0 ):\n",
    "            football_is_outside.append(play)\n",
    "        elif abs(los - xFootball) > 2:\n",
    "            football_is_far.append(play)"
   ]
  },
  {
   "cell_type": "code",
   "execution_count": 9,
   "id": "relevant-connection",
   "metadata": {},
   "outputs": [
    {
     "data": {
      "text/plain": [
       "38"
      ]
     },
     "execution_count": 9,
     "metadata": {},
     "output_type": "execute_result"
    }
   ],
   "source": [
    "len(football_is_far)"
   ]
  },
  {
   "cell_type": "code",
   "execution_count": 10,
   "id": "eight-field",
   "metadata": {},
   "outputs": [
    {
     "data": {
      "text/plain": [
       "45"
      ]
     },
     "execution_count": 10,
     "metadata": {},
     "output_type": "execute_result"
    }
   ],
   "source": [
    "len(football_is_outside)"
   ]
  },
  {
   "cell_type": "code",
   "execution_count": 11,
   "id": "million-gardening",
   "metadata": {},
   "outputs": [],
   "source": [
    "pickle_file = open('../resources/football_is_far.pickle','wb')\n",
    "pickle.dump(football_is_far,pickle_file)\n",
    "pickle_file.close()"
   ]
  },
  {
   "cell_type": "code",
   "execution_count": 12,
   "id": "retained-center",
   "metadata": {},
   "outputs": [],
   "source": [
    "pickle_file = open('../resources/football_is_outside.pickle','wb')\n",
    "pickle.dump(football_is_outside,pickle_file)\n",
    "pickle_file.close()"
   ]
  },
  {
   "cell_type": "code",
   "execution_count": null,
   "id": "fourth-folks",
   "metadata": {},
   "outputs": [],
   "source": []
  }
 ],
 "metadata": {
  "kernelspec": {
   "display_name": "Python 3",
   "language": "python",
   "name": "python3"
  },
  "language_info": {
   "codemirror_mode": {
    "name": "ipython",
    "version": 3
   },
   "file_extension": ".py",
   "mimetype": "text/x-python",
   "name": "python",
   "nbconvert_exporter": "python",
   "pygments_lexer": "ipython3",
   "version": "3.9.5"
  }
 },
 "nbformat": 4,
 "nbformat_minor": 5
}
