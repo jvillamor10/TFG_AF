{
 "cells": [
  {
   "cell_type": "code",
   "execution_count": null,
   "id": "tropical-modem",
   "metadata": {},
   "outputs": [],
   "source": [
    "import pandas as pd\n",
    "import pickle"
   ]
  },
  {
   "cell_type": "code",
   "execution_count": null,
   "id": "communist-peace",
   "metadata": {},
   "outputs": [],
   "source": [
    "pd.set_option('display.max_columns',None)"
   ]
  },
  {
   "cell_type": "code",
   "execution_count": null,
   "id": "starting-strategy",
   "metadata": {},
   "outputs": [],
   "source": [
    "pickle_file_no_one_qb = open('resources/no_one_qb.pickle','rb')\n",
    "pickle_file_repeated_players = open('resources/repeated_players.pickle','rb')\n",
    "pickle_file_not_same_personnelO = open('resources/not_same_personnelO.pickle','rb')\n",
    "pickle_file_not_same_personnelD = open('resources/not_same_personnelD.pickle','rb')\n",
    "no_one_qb = pickle.load(pickle_file_no_one_qb)\n",
    "repeated_players = pickle.load(pickle_file_repeated_players)\n",
    "not_same_personnelO = pickle.load(pickle_file_not_same_personnelO)\n",
    "not_same_personnelD = pickle.load(pickle_file_not_same_personnelD)\n",
    "pickle_file_no_one_qb.close()\n",
    "pickle_file_repeated_players.close()\n",
    "pickle_file_not_same_personnelO.close()\n",
    "pickle_file_not_same_personnelD.close()"
   ]
  },
  {
   "cell_type": "code",
   "execution_count": null,
   "id": "oriented-spoke",
   "metadata": {},
   "outputs": [],
   "source": []
  },
  {
   "cell_type": "code",
   "execution_count": null,
   "id": "imperial-conclusion",
   "metadata": {},
   "outputs": [],
   "source": [
    "plays = pd.read_csv(\"processed_data/remove_st_nbt_spikes/plays.csv\",index_col=0)\n",
    "plays.head()"
   ]
  },
  {
   "cell_type": "code",
   "execution_count": null,
   "id": "marine-blackberry",
   "metadata": {},
   "outputs": [],
   "source": [
    "week1 = pd.read_csv(\"processed_data/remove_st_nbt_spikes/week1.csv\")\n",
    "week2 = pd.read_csv(\"processed_data/remove_st_nbt_spikes/week2.csv\")\n",
    "week3 = pd.read_csv(\"processed_data/remove_st_nbt_spikes/week3.csv\")\n",
    "week4 = pd.read_csv(\"processed_data/remove_st_nbt_spikes/week4.csv\")\n",
    "week5 = pd.read_csv(\"processed_data/remove_st_nbt_spikes/week5.csv\")\n",
    "week6 = pd.read_csv(\"processed_data/remove_st_nbt_spikes/week6.csv\")\n",
    "week7 = pd.read_csv(\"processed_data/remove_st_nbt_spikes/week7.csv\")\n",
    "week8 = pd.read_csv(\"processed_data/remove_st_nbt_spikes/week8.csv\")\n",
    "week9 = pd.read_csv(\"processed_data/remove_st_nbt_spikes/week9.csv\")\n",
    "week10 = pd.read_csv(\"processed_data/remove_st_nbt_spikes/week10.csv\")\n",
    "week11 = pd.read_csv(\"processed_data/remove_st_nbt_spikes/week11.csv\")\n",
    "week12 = pd.read_csv(\"processed_data/remove_st_nbt_spikes/week12.csv\")\n",
    "week13 = pd.read_csv(\"processed_data/remove_st_nbt_spikes/week13.csv\")\n",
    "week14 = pd.read_csv(\"processed_data/remove_st_nbt_spikes/week14.csv\")\n",
    "week15 = pd.read_csv(\"processed_data/remove_st_nbt_spikes/week15.csv\")\n",
    "week16 = pd.read_csv(\"processed_data/remove_st_nbt_spikes/week16.csv\")\n",
    "week17 = pd.read_csv(\"processed_data/remove_st_nbt_spikes/week17.csv\")\n",
    "week1.head()"
   ]
  },
  {
   "cell_type": "code",
   "execution_count": null,
   "id": "weekly-terminal",
   "metadata": {},
   "outputs": [],
   "source": []
  }
 ],
 "metadata": {
  "kernelspec": {
   "display_name": "Python 3",
   "language": "python",
   "name": "python3"
  },
  "language_info": {
   "codemirror_mode": {
    "name": "ipython",
    "version": 3
   },
   "file_extension": ".py",
   "mimetype": "text/x-python",
   "name": "python",
   "nbconvert_exporter": "python",
   "pygments_lexer": "ipython3",
   "version": "3.9.5"
  }
 },
 "nbformat": 4,
 "nbformat_minor": 5
}
