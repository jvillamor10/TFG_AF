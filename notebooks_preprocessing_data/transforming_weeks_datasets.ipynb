{
 "cells": [
  {
   "cell_type": "code",
   "execution_count": 3,
   "id": "answering-aggregate",
   "metadata": {},
   "outputs": [],
   "source": [
    "import pandas as pd"
   ]
  },
  {
   "cell_type": "markdown",
   "id": "hourly-yugoslavia",
   "metadata": {},
   "source": [
    "Cambiar los dos ids por los nuevos"
   ]
  },
  {
   "cell_type": "code",
   "execution_count": 4,
   "id": "written-algebra",
   "metadata": {},
   "outputs": [],
   "source": [
    "for week_number in range(1,18):\n",
    "    week = pd.read_csv(\"../raw_data/week{}.csv\".format(week_number))\n",
    "    week_sorted = week.sort_values(['gameId','playId'])\n",
    "    week_sorted.reset_index(inplace=True)\n",
    "    week_sorted[\"id\"] = week_sorted[\"gameId\"].map(str) + \":\" + week_sorted[\"playId\"].map(str) + \":\" + str(week_number)\n",
    "    week_sorted.drop([\"index\",\"gameId\",\"playId\"],axis=1,inplace=True)\n",
    "    week_sorted = week_sorted[[\"id\",\"time\",\"x\",\"y\",\"s\",\"a\",\"dis\",\"o\",\"dir\",\"event\",\"nflId\",\"displayName\",\"jerseyNumber\",\"position\",\"frameId\",\"team\",\"playDirection\",\"route\"]]\n",
    "    week_sorted.to_csv(\"processed_data/weeks/week{}_ordered.csv\".format(week_number))"
   ]
  },
  {
   "cell_type": "code",
   "execution_count": null,
   "id": "cognitive-south",
   "metadata": {},
   "outputs": [],
   "source": []
  }
 ],
 "metadata": {
  "kernelspec": {
   "display_name": "Python 3",
   "language": "python",
   "name": "python3"
  },
  "language_info": {
   "codemirror_mode": {
    "name": "ipython",
    "version": 3
   },
   "file_extension": ".py",
   "mimetype": "text/x-python",
   "name": "python",
   "nbconvert_exporter": "python",
   "pygments_lexer": "ipython3",
   "version": "3.9.6"
  }
 },
 "nbformat": 4,
 "nbformat_minor": 5
}
